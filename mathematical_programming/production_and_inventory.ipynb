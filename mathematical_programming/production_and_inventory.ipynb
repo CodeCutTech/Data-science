{
 "cells": [
  {
   "cell_type": "markdown",
   "id": "6bf6bd44",
   "metadata": {
    "ExecuteTime": {
     "end_time": "2021-07-31T14:21:44.920184Z",
     "start_time": "2021-07-31T14:21:44.900204Z"
    }
   },
   "source": [
    "Dependencies:\n",
    "\n",
    "numpy: 1.21.0\\\n",
    "cvxpy: 1.1.14\\\n",
    "json : 2.0.9"
   ]
  },
  {
   "cell_type": "markdown",
   "id": "cb715525",
   "metadata": {},
   "source": [
    "* Demands: \n",
    "    * Day 1: 75\n",
    "    * Day 2: 150\n",
    "    * Day 3: 100\n",
    "    * Day 4: 60\n",
    "* Unit production cost:\n",
    "    * Day 1: \\$4\n",
    "    * Day 2: \\$5\n",
    "    * Day 3: \\$7\n",
    "    * Day 4: \\$4\n",
    "* Inventory cost: $1 per unit per day\n",
    "\n",
    "How many units should we produce per day to minimize the total cost?"
   ]
  },
  {
   "cell_type": "markdown",
   "id": "b8c33244",
   "metadata": {},
   "source": [
    "# Problem statement"
   ]
  },
  {
   "cell_type": "markdown",
   "id": "a37c25a9",
   "metadata": {},
   "source": [
    "**Input parameters**\n",
    "\n",
    "$d_t$: demand in day $t$, $t=1,..., 4$\n",
    "\n",
    "$c_t$: unit cost in day $t$, $t=1,..., 4$"
   ]
  },
  {
   "cell_type": "code",
   "execution_count": 2,
   "id": "505ceda3",
   "metadata": {
    "ExecuteTime": {
     "end_time": "2021-07-31T12:54:26.931620Z",
     "start_time": "2021-07-31T12:54:26.925334Z"
    }
   },
   "outputs": [
    {
     "data": {
      "application/javascript": [
       "\n",
       "            setTimeout(function() {\n",
       "                var nbb_cell_id = 2;\n",
       "                var nbb_unformatted_code = \"d = [75, 150, 100, 60]\\nc = [4, 5, 7, 4]\";\n",
       "                var nbb_formatted_code = \"d = [75, 150, 100, 60]\\nc = [4, 5, 7, 4]\";\n",
       "                var nbb_cells = Jupyter.notebook.get_cells();\n",
       "                for (var i = 0; i < nbb_cells.length; ++i) {\n",
       "                    if (nbb_cells[i].input_prompt_number == nbb_cell_id) {\n",
       "                        if (nbb_cells[i].get_text() == nbb_unformatted_code) {\n",
       "                             nbb_cells[i].set_text(nbb_formatted_code);\n",
       "                        }\n",
       "                        break;\n",
       "                    }\n",
       "                }\n",
       "            }, 500);\n",
       "            "
      ],
      "text/plain": [
       "<IPython.core.display.Javascript object>"
      ]
     },
     "metadata": {},
     "output_type": "display_data"
    }
   ],
   "source": [
    "d = [75, 150, 100, 60]\n",
    "c = [4, 5, 7, 4]"
   ]
  },
  {
   "cell_type": "markdown",
   "id": "aa3743ce",
   "metadata": {},
   "source": [
    "**Decision variables**:\n",
    "\n",
    "$q_t$: production quantity of day $t$, $t=1, ..., 4$\n",
    "\n",
    "$e_t$: ending inventory of day $t, t=0,1, ..., 4$"
   ]
  },
  {
   "cell_type": "code",
   "execution_count": 3,
   "id": "799fd25e",
   "metadata": {
    "ExecuteTime": {
     "end_time": "2021-07-31T12:54:27.376484Z",
     "start_time": "2021-07-31T12:54:26.934112Z"
    }
   },
   "outputs": [
    {
     "data": {
      "application/javascript": [
       "\n",
       "            setTimeout(function() {\n",
       "                var nbb_cell_id = 3;\n",
       "                var nbb_unformatted_code = \"import cvxpy as cp\";\n",
       "                var nbb_formatted_code = \"import cvxpy as cp\";\n",
       "                var nbb_cells = Jupyter.notebook.get_cells();\n",
       "                for (var i = 0; i < nbb_cells.length; ++i) {\n",
       "                    if (nbb_cells[i].input_prompt_number == nbb_cell_id) {\n",
       "                        if (nbb_cells[i].get_text() == nbb_unformatted_code) {\n",
       "                             nbb_cells[i].set_text(nbb_formatted_code);\n",
       "                        }\n",
       "                        break;\n",
       "                    }\n",
       "                }\n",
       "            }, 500);\n",
       "            "
      ],
      "text/plain": [
       "<IPython.core.display.Javascript object>"
      ]
     },
     "metadata": {},
     "output_type": "display_data"
    }
   ],
   "source": [
    "import cvxpy as cp"
   ]
  },
  {
   "cell_type": "code",
   "execution_count": 4,
   "id": "2b139ffb",
   "metadata": {
    "ExecuteTime": {
     "end_time": "2021-07-31T12:54:27.387033Z",
     "start_time": "2021-07-31T12:54:27.379084Z"
    }
   },
   "outputs": [
    {
     "data": {
      "application/javascript": [
       "\n",
       "            setTimeout(function() {\n",
       "                var nbb_cell_id = 4;\n",
       "                var nbb_unformatted_code = \"t = 4\\nq = cp.Variable(t, integer=True)\\ne = cp.Variable(t + 1, integer=True)\";\n",
       "                var nbb_formatted_code = \"t = 4\\nq = cp.Variable(t, integer=True)\\ne = cp.Variable(t + 1, integer=True)\";\n",
       "                var nbb_cells = Jupyter.notebook.get_cells();\n",
       "                for (var i = 0; i < nbb_cells.length; ++i) {\n",
       "                    if (nbb_cells[i].input_prompt_number == nbb_cell_id) {\n",
       "                        if (nbb_cells[i].get_text() == nbb_unformatted_code) {\n",
       "                             nbb_cells[i].set_text(nbb_formatted_code);\n",
       "                        }\n",
       "                        break;\n",
       "                    }\n",
       "                }\n",
       "            }, 500);\n",
       "            "
      ],
      "text/plain": [
       "<IPython.core.display.Javascript object>"
      ]
     },
     "metadata": {},
     "output_type": "display_data"
    }
   ],
   "source": [
    "t = 4\n",
    "q = cp.Variable(t, integer=True)\n",
    "e = cp.Variable(t + 1, integer=True)"
   ]
  },
  {
   "cell_type": "markdown",
   "id": "8c880a93",
   "metadata": {},
   "source": [
    "**Objectives:**\n",
    "\n",
    "\\begin{align}\n",
    "\\min \\sum_{t=1}^4 c_t q_t + e_t\n",
    "\\end{align}"
   ]
  },
  {
   "cell_type": "markdown",
   "id": "a3e30410",
   "metadata": {},
   "source": [
    "$$\n",
    "\\sum_{t=1}^4 c_t q_t = 4\\times75 + 8 \\times 150 + 12 \\times 100 + 7 \\times 60 \\\\\n",
    "= \\begin{bmatrix}\n",
    "4& 8& 12& 7\n",
    "\\end{bmatrix} \\begin{bmatrix}\n",
    "75\\\\ \n",
    "150\\\\ \n",
    "100\\\\\n",
    "60\n",
    "\\end{bmatrix} \\\\\n",
    "$$"
   ]
  },
  {
   "cell_type": "code",
   "execution_count": 5,
   "id": "ded6987e",
   "metadata": {
    "ExecuteTime": {
     "end_time": "2021-07-31T12:54:27.395918Z",
     "start_time": "2021-07-31T12:54:27.389354Z"
    }
   },
   "outputs": [
    {
     "data": {
      "application/javascript": [
       "\n",
       "            setTimeout(function() {\n",
       "                var nbb_cell_id = 5;\n",
       "                var nbb_unformatted_code = \"obj = cp.Minimize(c @ q + sum(e))\";\n",
       "                var nbb_formatted_code = \"obj = cp.Minimize(c @ q + sum(e))\";\n",
       "                var nbb_cells = Jupyter.notebook.get_cells();\n",
       "                for (var i = 0; i < nbb_cells.length; ++i) {\n",
       "                    if (nbb_cells[i].input_prompt_number == nbb_cell_id) {\n",
       "                        if (nbb_cells[i].get_text() == nbb_unformatted_code) {\n",
       "                             nbb_cells[i].set_text(nbb_formatted_code);\n",
       "                        }\n",
       "                        break;\n",
       "                    }\n",
       "                }\n",
       "            }, 500);\n",
       "            "
      ],
      "text/plain": [
       "<IPython.core.display.Javascript object>"
      ]
     },
     "metadata": {},
     "output_type": "display_data"
    }
   ],
   "source": [
    "obj = cp.Minimize(c @ q + sum(e))"
   ]
  },
  {
   "cell_type": "markdown",
   "id": "261f4290",
   "metadata": {},
   "source": [
    "**Constraints:**\n",
    "\n",
    "The ending inventory is equal to the production quantity of day $t$ subtract the demand in day $t$:\n",
    "\n",
    "$$\n",
    "e_1 = e_0 + q_1 - d_1\\\\\n",
    "e_2 = e_1 + q_2 - d_2\\\\\n",
    "$$\n",
    "In general, we have:\n",
    "$$\n",
    "e_t = e_{t-1} + q_t - d_t \\;\\; \\forall t = 1, 2, 3, 4\\\\\n",
    "$$\n",
    "\n",
    "The number of units in inventory at the beginning of day 1 is 0:\n",
    "$$e_0 = 0$$\n",
    "\n",
    "The number of units in inventory cannot be negative:\n",
    "$$e_t \\geq 0\\;\\; \\forall t = 0, 1, 2, 3, 4$$\n",
    "\n",
    "Production quantitiy cannot be negative:\n",
    "$$q_t \\geq 0\\;\\; \\forall t = 1, 2, 3, 4$$"
   ]
  },
  {
   "cell_type": "code",
   "execution_count": 6,
   "id": "7d5f27cd",
   "metadata": {
    "ExecuteTime": {
     "end_time": "2021-07-31T12:54:27.406937Z",
     "start_time": "2021-07-31T12:54:27.397452Z"
    }
   },
   "outputs": [
    {
     "data": {
      "application/javascript": [
       "\n",
       "            setTimeout(function() {\n",
       "                var nbb_cell_id = 6;\n",
       "                var nbb_unformatted_code = \"constraints = [e[0] == 0, e[1:] == e[:-1] + q - d, e >= 0, q >= 0]\";\n",
       "                var nbb_formatted_code = \"constraints = [e[0] == 0, e[1:] == e[:-1] + q - d, e >= 0, q >= 0]\";\n",
       "                var nbb_cells = Jupyter.notebook.get_cells();\n",
       "                for (var i = 0; i < nbb_cells.length; ++i) {\n",
       "                    if (nbb_cells[i].input_prompt_number == nbb_cell_id) {\n",
       "                        if (nbb_cells[i].get_text() == nbb_unformatted_code) {\n",
       "                             nbb_cells[i].set_text(nbb_formatted_code);\n",
       "                        }\n",
       "                        break;\n",
       "                    }\n",
       "                }\n",
       "            }, 500);\n",
       "            "
      ],
      "text/plain": [
       "<IPython.core.display.Javascript object>"
      ]
     },
     "metadata": {},
     "output_type": "display_data"
    }
   ],
   "source": [
    "constraints = [e[0] == 0, e[1:] == e[:-1] + q - d, e >= 0, q >= 0]"
   ]
  },
  {
   "cell_type": "markdown",
   "id": "5f4426f3",
   "metadata": {},
   "source": [
    "# Solve"
   ]
  },
  {
   "cell_type": "code",
   "execution_count": 7,
   "id": "46127637",
   "metadata": {
    "ExecuteTime": {
     "end_time": "2021-07-31T12:54:27.414326Z",
     "start_time": "2021-07-31T12:54:27.408780Z"
    }
   },
   "outputs": [
    {
     "data": {
      "application/javascript": [
       "\n",
       "            setTimeout(function() {\n",
       "                var nbb_cell_id = 7;\n",
       "                var nbb_unformatted_code = \"prob = cp.Problem(obj, constraints)\";\n",
       "                var nbb_formatted_code = \"prob = cp.Problem(obj, constraints)\";\n",
       "                var nbb_cells = Jupyter.notebook.get_cells();\n",
       "                for (var i = 0; i < nbb_cells.length; ++i) {\n",
       "                    if (nbb_cells[i].input_prompt_number == nbb_cell_id) {\n",
       "                        if (nbb_cells[i].get_text() == nbb_unformatted_code) {\n",
       "                             nbb_cells[i].set_text(nbb_formatted_code);\n",
       "                        }\n",
       "                        break;\n",
       "                    }\n",
       "                }\n",
       "            }, 500);\n",
       "            "
      ],
      "text/plain": [
       "<IPython.core.display.Javascript object>"
      ]
     },
     "metadata": {},
     "output_type": "display_data"
    }
   ],
   "source": [
    "prob = cp.Problem(obj, constraints)"
   ]
  },
  {
   "cell_type": "code",
   "execution_count": 8,
   "id": "325ab0aa",
   "metadata": {
    "ExecuteTime": {
     "end_time": "2021-07-31T12:54:27.435588Z",
     "start_time": "2021-07-31T12:54:27.417690Z"
    }
   },
   "outputs": [
    {
     "data": {
      "text/plain": [
       "1890.0"
      ]
     },
     "execution_count": 8,
     "metadata": {},
     "output_type": "execute_result"
    },
    {
     "data": {
      "application/javascript": [
       "\n",
       "            setTimeout(function() {\n",
       "                var nbb_cell_id = 8;\n",
       "                var nbb_unformatted_code = \"prob.solve()\";\n",
       "                var nbb_formatted_code = \"prob.solve()\";\n",
       "                var nbb_cells = Jupyter.notebook.get_cells();\n",
       "                for (var i = 0; i < nbb_cells.length; ++i) {\n",
       "                    if (nbb_cells[i].input_prompt_number == nbb_cell_id) {\n",
       "                        if (nbb_cells[i].get_text() == nbb_unformatted_code) {\n",
       "                             nbb_cells[i].set_text(nbb_formatted_code);\n",
       "                        }\n",
       "                        break;\n",
       "                    }\n",
       "                }\n",
       "            }, 500);\n",
       "            "
      ],
      "text/plain": [
       "<IPython.core.display.Javascript object>"
      ]
     },
     "metadata": {},
     "output_type": "display_data"
    }
   ],
   "source": [
    "prob.solve()"
   ]
  },
  {
   "cell_type": "code",
   "execution_count": 9,
   "id": "cb5f81cc",
   "metadata": {
    "ExecuteTime": {
     "end_time": "2021-07-31T12:54:27.444852Z",
     "start_time": "2021-07-31T12:54:27.438335Z"
    }
   },
   "outputs": [
    {
     "data": {
      "text/plain": [
       "'optimal'"
      ]
     },
     "execution_count": 9,
     "metadata": {},
     "output_type": "execute_result"
    },
    {
     "data": {
      "application/javascript": [
       "\n",
       "            setTimeout(function() {\n",
       "                var nbb_cell_id = 9;\n",
       "                var nbb_unformatted_code = \"prob.status\";\n",
       "                var nbb_formatted_code = \"prob.status\";\n",
       "                var nbb_cells = Jupyter.notebook.get_cells();\n",
       "                for (var i = 0; i < nbb_cells.length; ++i) {\n",
       "                    if (nbb_cells[i].input_prompt_number == nbb_cell_id) {\n",
       "                        if (nbb_cells[i].get_text() == nbb_unformatted_code) {\n",
       "                             nbb_cells[i].set_text(nbb_formatted_code);\n",
       "                        }\n",
       "                        break;\n",
       "                    }\n",
       "                }\n",
       "            }, 500);\n",
       "            "
      ],
      "text/plain": [
       "<IPython.core.display.Javascript object>"
      ]
     },
     "metadata": {},
     "output_type": "display_data"
    }
   ],
   "source": [
    "prob.status"
   ]
  },
  {
   "cell_type": "code",
   "execution_count": 10,
   "id": "a845f9d1",
   "metadata": {
    "ExecuteTime": {
     "end_time": "2021-07-31T12:54:27.453689Z",
     "start_time": "2021-07-31T12:54:27.447807Z"
    }
   },
   "outputs": [
    {
     "name": "stdout",
     "output_type": "stream",
     "text": [
      "[ 75. 250.   0.  60.]\n"
     ]
    },
    {
     "data": {
      "application/javascript": [
       "\n",
       "            setTimeout(function() {\n",
       "                var nbb_cell_id = 10;\n",
       "                var nbb_unformatted_code = \"print(q.value)\";\n",
       "                var nbb_formatted_code = \"print(q.value)\";\n",
       "                var nbb_cells = Jupyter.notebook.get_cells();\n",
       "                for (var i = 0; i < nbb_cells.length; ++i) {\n",
       "                    if (nbb_cells[i].input_prompt_number == nbb_cell_id) {\n",
       "                        if (nbb_cells[i].get_text() == nbb_unformatted_code) {\n",
       "                             nbb_cells[i].set_text(nbb_formatted_code);\n",
       "                        }\n",
       "                        break;\n",
       "                    }\n",
       "                }\n",
       "            }, 500);\n",
       "            "
      ],
      "text/plain": [
       "<IPython.core.display.Javascript object>"
      ]
     },
     "metadata": {},
     "output_type": "display_data"
    }
   ],
   "source": [
    "print(q.value)"
   ]
  },
  {
   "cell_type": "code",
   "execution_count": 29,
   "id": "38892cf5",
   "metadata": {
    "ExecuteTime": {
     "end_time": "2021-07-31T14:41:11.857235Z",
     "start_time": "2021-07-31T14:41:11.848135Z"
    }
   },
   "outputs": [
    {
     "name": "stdout",
     "output_type": "stream",
     "text": [
      "[  0. 100.   0.   0.]\n"
     ]
    },
    {
     "data": {
      "application/javascript": [
       "\n",
       "            setTimeout(function() {\n",
       "                var nbb_cell_id = 29;\n",
       "                var nbb_unformatted_code = \"print(e.value[1:])\";\n",
       "                var nbb_formatted_code = \"print(e.value[1:])\";\n",
       "                var nbb_cells = Jupyter.notebook.get_cells();\n",
       "                for (var i = 0; i < nbb_cells.length; ++i) {\n",
       "                    if (nbb_cells[i].input_prompt_number == nbb_cell_id) {\n",
       "                        if (nbb_cells[i].get_text() == nbb_unformatted_code) {\n",
       "                             nbb_cells[i].set_text(nbb_formatted_code);\n",
       "                        }\n",
       "                        break;\n",
       "                    }\n",
       "                }\n",
       "            }, 500);\n",
       "            "
      ],
      "text/plain": [
       "<IPython.core.display.Javascript object>"
      ]
     },
     "metadata": {},
     "output_type": "display_data"
    }
   ],
   "source": [
    "print(e.value[1:])"
   ]
  },
  {
   "cell_type": "markdown",
   "id": "3e208865",
   "metadata": {},
   "source": [
    "# Experiment with Other Possible Combinations"
   ]
  },
  {
   "cell_type": "code",
   "execution_count": 21,
   "id": "ff43ea41",
   "metadata": {
    "ExecuteTime": {
     "end_time": "2021-07-31T14:27:39.062548Z",
     "start_time": "2021-07-31T14:27:39.055375Z"
    }
   },
   "outputs": [
    {
     "data": {
      "application/javascript": [
       "\n",
       "            setTimeout(function() {\n",
       "                var nbb_cell_id = 21;\n",
       "                var nbb_unformatted_code = \"import numpy as np\";\n",
       "                var nbb_formatted_code = \"import numpy as np\";\n",
       "                var nbb_cells = Jupyter.notebook.get_cells();\n",
       "                for (var i = 0; i < nbb_cells.length; ++i) {\n",
       "                    if (nbb_cells[i].input_prompt_number == nbb_cell_id) {\n",
       "                        if (nbb_cells[i].get_text() == nbb_unformatted_code) {\n",
       "                             nbb_cells[i].set_text(nbb_formatted_code);\n",
       "                        }\n",
       "                        break;\n",
       "                    }\n",
       "                }\n",
       "            }, 500);\n",
       "            "
      ],
      "text/plain": [
       "<IPython.core.display.Javascript object>"
      ]
     },
     "metadata": {},
     "output_type": "display_data"
    }
   ],
   "source": [
    "import numpy as np"
   ]
  },
  {
   "cell_type": "code",
   "execution_count": 27,
   "id": "ffad7ffc",
   "metadata": {
    "ExecuteTime": {
     "end_time": "2021-07-31T14:32:48.436285Z",
     "start_time": "2021-07-31T14:32:48.423009Z"
    }
   },
   "outputs": [
    {
     "data": {
      "application/javascript": [
       "\n",
       "            setTimeout(function() {\n",
       "                var nbb_cell_id = 27;\n",
       "                var nbb_unformatted_code = \"def calculate_inventory(demands: np.array, quantities: np.array):\\n    \\\"\\\"\\\"Calculate the ending inventory based on the demand and the production quantities for each day\\\"\\\"\\\"\\n\\n    inventory = []\\n    new_inventory = 0\\n    for i in range(len(quantities)):\\n        new_inventory = new_inventory + quantities[i] - demands[i]\\n        inventory.append(new_inventory)\\n    return inventory\";\n",
       "                var nbb_formatted_code = \"def calculate_inventory(demands: np.array, quantities: np.array):\\n    \\\"\\\"\\\"Calculate the ending inventory based on the demand and the production quantities for each day\\\"\\\"\\\"\\n\\n    inventory = []\\n    new_inventory = 0\\n    for i in range(len(quantities)):\\n        new_inventory = new_inventory + quantities[i] - demands[i]\\n        inventory.append(new_inventory)\\n    return inventory\";\n",
       "                var nbb_cells = Jupyter.notebook.get_cells();\n",
       "                for (var i = 0; i < nbb_cells.length; ++i) {\n",
       "                    if (nbb_cells[i].input_prompt_number == nbb_cell_id) {\n",
       "                        if (nbb_cells[i].get_text() == nbb_unformatted_code) {\n",
       "                             nbb_cells[i].set_text(nbb_formatted_code);\n",
       "                        }\n",
       "                        break;\n",
       "                    }\n",
       "                }\n",
       "            }, 500);\n",
       "            "
      ],
      "text/plain": [
       "<IPython.core.display.Javascript object>"
      ]
     },
     "metadata": {},
     "output_type": "display_data"
    }
   ],
   "source": [
    "def calculate_inventory(demands: np.array, quantities: np.array):\n",
    "    \"\"\"Calculate the ending inventory based on the demand and the production quantities for each day\"\"\"\n",
    "\n",
    "    inventory = []\n",
    "    new_inventory = 0\n",
    "    for i in range(len(quantities)):\n",
    "        new_inventory = new_inventory + quantities[i] - demands[i]\n",
    "        inventory.append(new_inventory)\n",
    "    return inventory"
   ]
  },
  {
   "cell_type": "code",
   "execution_count": 28,
   "id": "e1e863d6",
   "metadata": {
    "ExecuteTime": {
     "end_time": "2021-07-31T14:33:45.807954Z",
     "start_time": "2021-07-31T14:33:45.795555Z"
    }
   },
   "outputs": [
    {
     "data": {
      "application/javascript": [
       "\n",
       "            setTimeout(function() {\n",
       "                var nbb_cell_id = 28;\n",
       "                var nbb_unformatted_code = \"def get_cost(demands: np.array, quantities: np.array):\\n    \\\"\\\"\\\"Get the total cost based on the production quantities\\\"\\\"\\\"\\n    inventory_per_day = calculate_inventory(demands, quantities)\\n    return sum(demands * quantities + inventory_per_day * 1)\";\n",
       "                var nbb_formatted_code = \"def get_cost(demands: np.array, quantities: np.array):\\n    \\\"\\\"\\\"Get the total cost based on the production quantities\\\"\\\"\\\"\\n    inventory_per_day = calculate_inventory(demands, quantities)\\n    return sum(demands * quantities + inventory_per_day * 1)\";\n",
       "                var nbb_cells = Jupyter.notebook.get_cells();\n",
       "                for (var i = 0; i < nbb_cells.length; ++i) {\n",
       "                    if (nbb_cells[i].input_prompt_number == nbb_cell_id) {\n",
       "                        if (nbb_cells[i].get_text() == nbb_unformatted_code) {\n",
       "                             nbb_cells[i].set_text(nbb_formatted_code);\n",
       "                        }\n",
       "                        break;\n",
       "                    }\n",
       "                }\n",
       "            }, 500);\n",
       "            "
      ],
      "text/plain": [
       "<IPython.core.display.Javascript object>"
      ]
     },
     "metadata": {},
     "output_type": "display_data"
    }
   ],
   "source": [
    "def get_cost(demands: np.array, quantities: np.array):\n",
    "    \"\"\"Get the total cost based on the production quantities\"\"\"\n",
    "    inventory_per_day = calculate_inventory(demands, quantities)\n",
    "    return sum(demands * quantities + inventory_per_day * 1)"
   ]
  },
  {
   "cell_type": "markdown",
   "id": "f2605b33",
   "metadata": {},
   "source": [
    "Produce everything in the first day"
   ]
  },
  {
   "cell_type": "code",
   "execution_count": 24,
   "id": "b9cff4a1",
   "metadata": {
    "ExecuteTime": {
     "end_time": "2021-07-31T14:27:42.980530Z",
     "start_time": "2021-07-31T14:27:42.967428Z"
    }
   },
   "outputs": [
    {
     "data": {
      "text/plain": [
       "29405"
      ]
     },
     "execution_count": 24,
     "metadata": {},
     "output_type": "execute_result"
    },
    {
     "data": {
      "application/javascript": [
       "\n",
       "            setTimeout(function() {\n",
       "                var nbb_cell_id = 24;\n",
       "                var nbb_unformatted_code = \"demands = np.array([75, 150, 100, 60])\\nquantities = np.array([385, 0, 0, 0])\\nget_cost(demands, quantities)\";\n",
       "                var nbb_formatted_code = \"demands = np.array([75, 150, 100, 60])\\nquantities = np.array([385, 0, 0, 0])\\nget_cost(demands, quantities)\";\n",
       "                var nbb_cells = Jupyter.notebook.get_cells();\n",
       "                for (var i = 0; i < nbb_cells.length; ++i) {\n",
       "                    if (nbb_cells[i].input_prompt_number == nbb_cell_id) {\n",
       "                        if (nbb_cells[i].get_text() == nbb_unformatted_code) {\n",
       "                             nbb_cells[i].set_text(nbb_formatted_code);\n",
       "                        }\n",
       "                        break;\n",
       "                    }\n",
       "                }\n",
       "            }, 500);\n",
       "            "
      ],
      "text/plain": [
       "<IPython.core.display.Javascript object>"
      ]
     },
     "metadata": {},
     "output_type": "display_data"
    }
   ],
   "source": [
    "demands = np.array([75, 150, 100, 60])\n",
    "quantities = np.array([385, 0, 0, 0])\n",
    "get_cost(demands, quantities)"
   ]
  },
  {
   "cell_type": "markdown",
   "id": "45bdd1af",
   "metadata": {},
   "source": [
    "Produce everything in the first day and second day"
   ]
  },
  {
   "cell_type": "code",
   "execution_count": 34,
   "id": "a3f0398b",
   "metadata": {
    "ExecuteTime": {
     "end_time": "2021-07-31T14:44:13.345904Z",
     "start_time": "2021-07-31T14:44:13.334540Z"
    }
   },
   "outputs": [
    {
     "data": {
      "text/plain": [
       "35695"
      ]
     },
     "execution_count": 34,
     "metadata": {},
     "output_type": "execute_result"
    },
    {
     "data": {
      "application/javascript": [
       "\n",
       "            setTimeout(function() {\n",
       "                var nbb_cell_id = 34;\n",
       "                var nbb_unformatted_code = \"quantities = np.array([300, 85, 0, 0])\\nget_cost(demands, quantities)\";\n",
       "                var nbb_formatted_code = \"quantities = np.array([300, 85, 0, 0])\\nget_cost(demands, quantities)\";\n",
       "                var nbb_cells = Jupyter.notebook.get_cells();\n",
       "                for (var i = 0; i < nbb_cells.length; ++i) {\n",
       "                    if (nbb_cells[i].input_prompt_number == nbb_cell_id) {\n",
       "                        if (nbb_cells[i].get_text() == nbb_unformatted_code) {\n",
       "                             nbb_cells[i].set_text(nbb_formatted_code);\n",
       "                        }\n",
       "                        break;\n",
       "                    }\n",
       "                }\n",
       "            }, 500);\n",
       "            "
      ],
      "text/plain": [
       "<IPython.core.display.Javascript object>"
      ]
     },
     "metadata": {},
     "output_type": "display_data"
    }
   ],
   "source": [
    "quantities = np.array([300, 85, 0, 0])\n",
    "get_cost(demands, quantities)"
   ]
  },
  {
   "cell_type": "markdown",
   "id": "4cc2f33a",
   "metadata": {},
   "source": [
    "Produce just enough to fulfill the demand for each day"
   ]
  },
  {
   "cell_type": "code",
   "execution_count": 36,
   "id": "0a230f34",
   "metadata": {
    "ExecuteTime": {
     "end_time": "2021-07-31T14:45:23.222565Z",
     "start_time": "2021-07-31T14:45:23.210122Z"
    }
   },
   "outputs": [
    {
     "data": {
      "text/plain": [
       "41725"
      ]
     },
     "execution_count": 36,
     "metadata": {},
     "output_type": "execute_result"
    },
    {
     "data": {
      "application/javascript": [
       "\n",
       "            setTimeout(function() {\n",
       "                var nbb_cell_id = 36;\n",
       "                var nbb_unformatted_code = \"quantities = np.array([75, 150, 100, 60])\\nget_cost(demands, quantities)\";\n",
       "                var nbb_formatted_code = \"quantities = np.array([75, 150, 100, 60])\\nget_cost(demands, quantities)\";\n",
       "                var nbb_cells = Jupyter.notebook.get_cells();\n",
       "                for (var i = 0; i < nbb_cells.length; ++i) {\n",
       "                    if (nbb_cells[i].input_prompt_number == nbb_cell_id) {\n",
       "                        if (nbb_cells[i].get_text() == nbb_unformatted_code) {\n",
       "                             nbb_cells[i].set_text(nbb_formatted_code);\n",
       "                        }\n",
       "                        break;\n",
       "                    }\n",
       "                }\n",
       "            }, 500);\n",
       "            "
      ],
      "text/plain": [
       "<IPython.core.display.Javascript object>"
      ]
     },
     "metadata": {},
     "output_type": "display_data"
    }
   ],
   "source": [
    "quantities = np.array([75, 150, 100, 60])\n",
    "get_cost(demands, quantities)"
   ]
  }
 ],
 "metadata": {
  "hide_input": false,
  "kernelspec": {
   "display_name": "Python 3",
   "language": "python",
   "name": "python3"
  },
  "language_info": {
   "codemirror_mode": {
    "name": "ipython",
    "version": 3
   },
   "file_extension": ".py",
   "mimetype": "text/x-python",
   "name": "python",
   "nbconvert_exporter": "python",
   "pygments_lexer": "ipython3",
   "version": "3.8.10"
  },
  "toc": {
   "base_numbering": 1,
   "nav_menu": {},
   "number_sections": true,
   "sideBar": true,
   "skip_h1_title": false,
   "title_cell": "Table of Contents",
   "title_sidebar": "Contents",
   "toc_cell": false,
   "toc_position": {},
   "toc_section_display": true,
   "toc_window_display": false
  },
  "varInspector": {
   "cols": {
    "lenName": 16,
    "lenType": 16,
    "lenVar": 40
   },
   "kernels_config": {
    "python": {
     "delete_cmd_postfix": "",
     "delete_cmd_prefix": "del ",
     "library": "var_list.py",
     "varRefreshCmd": "print(var_dic_list())"
    },
    "r": {
     "delete_cmd_postfix": ") ",
     "delete_cmd_prefix": "rm(",
     "library": "var_list.r",
     "varRefreshCmd": "cat(var_dic_list()) "
    }
   },
   "types_to_exclude": [
    "module",
    "function",
    "builtin_function_or_method",
    "instance",
    "_Feature"
   ],
   "window_display": false
  }
 },
 "nbformat": 4,
 "nbformat_minor": 5
}
