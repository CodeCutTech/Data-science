{
 "cells": [
  {
   "cell_type": "markdown",
   "id": "dutch-rwanda",
   "metadata": {},
   "source": [
    "# Import data"
   ]
  },
  {
   "cell_type": "code",
   "execution_count": null,
   "id": "reflected-translation",
   "metadata": {
    "ExecuteTime": {
     "end_time": "2021-06-04T19:50:05.005977Z",
     "start_time": "2021-06-04T19:50:01.147498Z"
    }
   },
   "outputs": [],
   "source": [
    "pip install gdown"
   ]
  },
  {
   "cell_type": "code",
   "execution_count": null,
   "id": "noble-marriage",
   "metadata": {
    "ExecuteTime": {
     "end_time": "2021-06-04T19:51:11.405986Z",
     "start_time": "2021-06-04T19:51:07.926117Z"
    }
   },
   "outputs": [],
   "source": [
    "pip install pulp==2.4"
   ]
  },
  {
   "cell_type": "code",
   "execution_count": 81,
   "id": "announced-ranking",
   "metadata": {
    "ExecuteTime": {
     "end_time": "2021-06-04T19:51:57.553559Z",
     "start_time": "2021-06-04T19:51:57.472047Z"
    }
   },
   "outputs": [
    {
     "data": {
      "application/javascript": [
       "\n",
       "            setTimeout(function() {\n",
       "                var nbb_cell_id = 81;\n",
       "                var nbb_unformatted_code = \"import pandas as pd\\nfrom pulp import *\\nimport gdown\";\n",
       "                var nbb_formatted_code = \"import pandas as pd\\nfrom pulp import *\\nimport gdown\";\n",
       "                var nbb_cells = Jupyter.notebook.get_cells();\n",
       "                for (var i = 0; i < nbb_cells.length; ++i) {\n",
       "                    if (nbb_cells[i].input_prompt_number == nbb_cell_id) {\n",
       "                        if (nbb_cells[i].get_text() == nbb_unformatted_code) {\n",
       "                             nbb_cells[i].set_text(nbb_formatted_code);\n",
       "                        }\n",
       "                        break;\n",
       "                    }\n",
       "                }\n",
       "            }, 500);\n",
       "            "
      ],
      "text/plain": [
       "<IPython.core.display.Javascript object>"
      ]
     },
     "metadata": {},
     "output_type": "display_data"
    }
   ],
   "source": [
    "import pandas as pd\n",
    "from pulp import *\n",
    "import gdown"
   ]
  },
  {
   "cell_type": "code",
   "execution_count": null,
   "id": "criminal-jackson",
   "metadata": {
    "ExecuteTime": {
     "end_time": "2021-06-04T19:53:19.587613Z",
     "start_time": "2021-06-04T19:53:18.113055Z"
    }
   },
   "outputs": [],
   "source": [
    "# Install file from Google Drive\n",
    "\n",
    "url = \"https://drive.google.com/uc?id=15BPH7-3GGWBfXPJQ3stkT6SHQECbT-pt\"\n",
    "output = \"shifts.csv\"\n",
    "gdown.download(url, output, quiet=False)"
   ]
  },
  {
   "cell_type": "code",
   "execution_count": 84,
   "id": "round-grounds",
   "metadata": {
    "ExecuteTime": {
     "end_time": "2021-06-04T19:53:43.404606Z",
     "start_time": "2021-06-04T19:53:43.372456Z"
    }
   },
   "outputs": [
    {
     "data": {
      "text/html": [
       "<div>\n",
       "<style scoped>\n",
       "    .dataframe tbody tr th:only-of-type {\n",
       "        vertical-align: middle;\n",
       "    }\n",
       "\n",
       "    .dataframe tbody tr th {\n",
       "        vertical-align: top;\n",
       "    }\n",
       "\n",
       "    .dataframe thead th {\n",
       "        text-align: right;\n",
       "    }\n",
       "</style>\n",
       "<table border=\"1\" class=\"dataframe\">\n",
       "  <thead>\n",
       "    <tr style=\"text-align: right;\">\n",
       "      <th></th>\n",
       "      <th>Shift 1</th>\n",
       "      <th>Shift 2</th>\n",
       "      <th>Shift 3</th>\n",
       "      <th>Shift 4</th>\n",
       "      <th>Workers Required</th>\n",
       "    </tr>\n",
       "    <tr>\n",
       "      <th>Time Windows</th>\n",
       "      <th></th>\n",
       "      <th></th>\n",
       "      <th></th>\n",
       "      <th></th>\n",
       "      <th></th>\n",
       "    </tr>\n",
       "  </thead>\n",
       "  <tbody>\n",
       "    <tr>\n",
       "      <th>6:00 – 9:00</th>\n",
       "      <td>X</td>\n",
       "      <td>NaN</td>\n",
       "      <td>NaN</td>\n",
       "      <td>X</td>\n",
       "      <td>55.0</td>\n",
       "    </tr>\n",
       "    <tr>\n",
       "      <th>9:00 – 12:00</th>\n",
       "      <td>X</td>\n",
       "      <td>NaN</td>\n",
       "      <td>NaN</td>\n",
       "      <td>NaN</td>\n",
       "      <td>46.0</td>\n",
       "    </tr>\n",
       "    <tr>\n",
       "      <th>12:00 – 15:00</th>\n",
       "      <td>X</td>\n",
       "      <td>X</td>\n",
       "      <td>NaN</td>\n",
       "      <td>NaN</td>\n",
       "      <td>59.0</td>\n",
       "    </tr>\n",
       "    <tr>\n",
       "      <th>15:00 – 18:00</th>\n",
       "      <td>NaN</td>\n",
       "      <td>X</td>\n",
       "      <td>NaN</td>\n",
       "      <td>NaN</td>\n",
       "      <td>23.0</td>\n",
       "    </tr>\n",
       "    <tr>\n",
       "      <th>18:00 – 21:00</th>\n",
       "      <td>NaN</td>\n",
       "      <td>X</td>\n",
       "      <td>X</td>\n",
       "      <td>NaN</td>\n",
       "      <td>60.0</td>\n",
       "    </tr>\n",
       "    <tr>\n",
       "      <th>21:00 – 24:00</th>\n",
       "      <td>NaN</td>\n",
       "      <td>NaN</td>\n",
       "      <td>X</td>\n",
       "      <td>NaN</td>\n",
       "      <td>38.0</td>\n",
       "    </tr>\n",
       "    <tr>\n",
       "      <th>24:00 – 3:00</th>\n",
       "      <td>NaN</td>\n",
       "      <td>NaN</td>\n",
       "      <td>X</td>\n",
       "      <td>X</td>\n",
       "      <td>20.0</td>\n",
       "    </tr>\n",
       "    <tr>\n",
       "      <th>3:00 – 6:00</th>\n",
       "      <td>NaN</td>\n",
       "      <td>NaN</td>\n",
       "      <td>NaN</td>\n",
       "      <td>X</td>\n",
       "      <td>30.0</td>\n",
       "    </tr>\n",
       "    <tr>\n",
       "      <th>Wage rate per 9h shift ($)</th>\n",
       "      <td>135</td>\n",
       "      <td>140</td>\n",
       "      <td>190</td>\n",
       "      <td>188</td>\n",
       "      <td>NaN</td>\n",
       "    </tr>\n",
       "  </tbody>\n",
       "</table>\n",
       "</div>"
      ],
      "text/plain": [
       "                           Shift 1 Shift 2 Shift 3 Shift 4  Workers Required\n",
       "Time Windows                                                                \n",
       "6:00 – 9:00                      X     NaN     NaN       X              55.0\n",
       "9:00 – 12:00                     X     NaN     NaN     NaN              46.0\n",
       "12:00 – 15:00                    X       X     NaN     NaN              59.0\n",
       "15:00 – 18:00                  NaN       X     NaN     NaN              23.0\n",
       "18:00 – 21:00                  NaN       X       X     NaN              60.0\n",
       "21:00 – 24:00                  NaN     NaN       X     NaN              38.0\n",
       "24:00 – 3:00                   NaN     NaN       X       X              20.0\n",
       "3:00 – 6:00                    NaN     NaN     NaN       X              30.0\n",
       "Wage rate per 9h shift ($)     135     140     190     188               NaN"
      ]
     },
     "execution_count": 84,
     "metadata": {},
     "output_type": "execute_result"
    },
    {
     "data": {
      "application/javascript": [
       "\n",
       "            setTimeout(function() {\n",
       "                var nbb_cell_id = 84;\n",
       "                var nbb_unformatted_code = \"df = pd.read_csv(\\\"shifts.csv\\\", index_col=0)\\ndf\";\n",
       "                var nbb_formatted_code = \"df = pd.read_csv(\\\"shifts.csv\\\", index_col=0)\\ndf\";\n",
       "                var nbb_cells = Jupyter.notebook.get_cells();\n",
       "                for (var i = 0; i < nbb_cells.length; ++i) {\n",
       "                    if (nbb_cells[i].input_prompt_number == nbb_cell_id) {\n",
       "                        if (nbb_cells[i].get_text() == nbb_unformatted_code) {\n",
       "                             nbb_cells[i].set_text(nbb_formatted_code);\n",
       "                        }\n",
       "                        break;\n",
       "                    }\n",
       "                }\n",
       "            }, 500);\n",
       "            "
      ],
      "text/plain": [
       "<IPython.core.display.Javascript object>"
      ]
     },
     "metadata": {},
     "output_type": "display_data"
    }
   ],
   "source": [
    "df = pd.read_csv(\"shifts.csv\", index_col=0)\n",
    "df"
   ]
  },
  {
   "cell_type": "markdown",
   "id": "distinct-accident",
   "metadata": {},
   "source": [
    "# Formulation "
   ]
  },
  {
   "cell_type": "markdown",
   "id": "approved-replication",
   "metadata": {},
   "source": [
    "## Problem statements\n",
    "Input parameters:\n",
    "   * Number of shifts ($n$)\n",
    "   * Number of time windows ($T$)\n",
    "   * Number of workers required per time window ($d_t$)\n",
    "   * Wage rate per shift ($w_j$)\n",
    "    \n",
    "Decision variables: number of workers need per work shift ($y_j$)\n",
    "\n",
    "Constraints: demand within each time window $t$ must be satisfied\n",
    "\n",
    "Objective: Minimize the total cost of wages paid to all workers"
   ]
  },
  {
   "cell_type": "markdown",
   "id": "vanilla-apparatus",
   "metadata": {},
   "source": [
    "Let $a_{jt}=1$ if shift $j$ covers the time window $t$ ($j$=1,..,n; t=1,...,$T$) and $a_{jt}=0$ otherwise"
   ]
  },
  {
   "cell_type": "code",
   "execution_count": 24,
   "id": "roman-niger",
   "metadata": {
    "ExecuteTime": {
     "end_time": "2021-06-04T17:00:56.428357Z",
     "start_time": "2021-06-04T17:00:56.417489Z"
    }
   },
   "outputs": [
    {
     "data": {
      "application/javascript": [
       "\n",
       "            setTimeout(function() {\n",
       "                var nbb_cell_id = 24;\n",
       "                var nbb_unformatted_code = \"df = df.fillna(0).applymap(lambda x: 1 if x == \\\"X\\\" else x)\";\n",
       "                var nbb_formatted_code = \"df = df.fillna(0).applymap(lambda x: 1 if x == \\\"X\\\" else x)\";\n",
       "                var nbb_cells = Jupyter.notebook.get_cells();\n",
       "                for (var i = 0; i < nbb_cells.length; ++i) {\n",
       "                    if (nbb_cells[i].input_prompt_number == nbb_cell_id) {\n",
       "                        if (nbb_cells[i].get_text() == nbb_unformatted_code) {\n",
       "                             nbb_cells[i].set_text(nbb_formatted_code);\n",
       "                        }\n",
       "                        break;\n",
       "                    }\n",
       "                }\n",
       "            }, 500);\n",
       "            "
      ],
      "text/plain": [
       "<IPython.core.display.Javascript object>"
      ]
     },
     "metadata": {},
     "output_type": "display_data"
    }
   ],
   "source": [
    "df = df.fillna(0).applymap(lambda x: 1 if x == \"X\" else x)"
   ]
  },
  {
   "cell_type": "code",
   "execution_count": 40,
   "id": "treated-corpus",
   "metadata": {
    "ExecuteTime": {
     "end_time": "2021-06-04T17:05:27.558081Z",
     "start_time": "2021-06-04T17:05:27.547321Z"
    }
   },
   "outputs": [
    {
     "data": {
      "text/plain": [
       "array([[1, 0, 0, 1],\n",
       "       [1, 0, 0, 0],\n",
       "       [1, 1, 0, 0],\n",
       "       [0, 1, 0, 0],\n",
       "       [0, 1, 1, 0],\n",
       "       [0, 0, 1, 0],\n",
       "       [0, 0, 1, 1],\n",
       "       [0, 0, 0, 1]], dtype=object)"
      ]
     },
     "execution_count": 40,
     "metadata": {},
     "output_type": "execute_result"
    },
    {
     "data": {
      "application/javascript": [
       "\n",
       "            setTimeout(function() {\n",
       "                var nbb_cell_id = 40;\n",
       "                var nbb_unformatted_code = \"a = df.drop(index=[\\\"Wage rate per 9h shift ($)\\\"], columns=[\\\"Workers Required\\\"]).values\\na \";\n",
       "                var nbb_formatted_code = \"a = df.drop(index=[\\\"Wage rate per 9h shift ($)\\\"], columns=[\\\"Workers Required\\\"]).values\\na\";\n",
       "                var nbb_cells = Jupyter.notebook.get_cells();\n",
       "                for (var i = 0; i < nbb_cells.length; ++i) {\n",
       "                    if (nbb_cells[i].input_prompt_number == nbb_cell_id) {\n",
       "                        if (nbb_cells[i].get_text() == nbb_unformatted_code) {\n",
       "                             nbb_cells[i].set_text(nbb_formatted_code);\n",
       "                        }\n",
       "                        break;\n",
       "                    }\n",
       "                }\n",
       "            }, 500);\n",
       "            "
      ],
      "text/plain": [
       "<IPython.core.display.Javascript object>"
      ]
     },
     "metadata": {},
     "output_type": "display_data"
    }
   ],
   "source": [
    "a = df.drop(index=[\"Wage rate per 9h shift ($)\"], columns=[\"Workers Required\"]).values\n",
    "a"
   ]
  },
  {
   "cell_type": "code",
   "execution_count": 60,
   "id": "suspended-polish",
   "metadata": {
    "ExecuteTime": {
     "end_time": "2021-06-04T18:18:53.694196Z",
     "start_time": "2021-06-04T18:18:53.687714Z"
    }
   },
   "outputs": [
    {
     "data": {
      "application/javascript": [
       "\n",
       "            setTimeout(function() {\n",
       "                var nbb_cell_id = 60;\n",
       "                var nbb_unformatted_code = \"# Input parameters\\nn = a.shape[1]\\nT = a.shape[0]\\nd = df[\\\"Workers Required\\\"].values\\nw = df.loc[\\\"Wage rate per 9h shift ($)\\\", :].values.astype(int)\";\n",
       "                var nbb_formatted_code = \"# Input parameters\\nn = a.shape[1]\\nT = a.shape[0]\\nd = df[\\\"Workers Required\\\"].values\\nw = df.loc[\\\"Wage rate per 9h shift ($)\\\", :].values.astype(int)\";\n",
       "                var nbb_cells = Jupyter.notebook.get_cells();\n",
       "                for (var i = 0; i < nbb_cells.length; ++i) {\n",
       "                    if (nbb_cells[i].input_prompt_number == nbb_cell_id) {\n",
       "                        if (nbb_cells[i].get_text() == nbb_unformatted_code) {\n",
       "                             nbb_cells[i].set_text(nbb_formatted_code);\n",
       "                        }\n",
       "                        break;\n",
       "                    }\n",
       "                }\n",
       "            }, 500);\n",
       "            "
      ],
      "text/plain": [
       "<IPython.core.display.Javascript object>"
      ]
     },
     "metadata": {},
     "output_type": "display_data"
    }
   ],
   "source": [
    "# Input parameters\n",
    "n = a.shape[1]\n",
    "T = a.shape[0]\n",
    "d = df[\"Workers Required\"].values\n",
    "w = df.loc[\"Wage rate per 9h shift ($)\", :].values.astype(int)"
   ]
  },
  {
   "cell_type": "code",
   "execution_count": 70,
   "id": "buried-kinase",
   "metadata": {
    "ExecuteTime": {
     "end_time": "2021-06-04T18:24:20.093305Z",
     "start_time": "2021-06-04T18:24:20.083443Z"
    }
   },
   "outputs": [
    {
     "data": {
      "application/javascript": [
       "\n",
       "            setTimeout(function() {\n",
       "                var nbb_cell_id = 70;\n",
       "                var nbb_unformatted_code = \"# Create problem\\nprob = LpProblem(\\\"scheduling_workers\\\", LpMinimize)\";\n",
       "                var nbb_formatted_code = \"# Create problem\\nprob = LpProblem(\\\"scheduling_workers\\\", LpMinimize)\";\n",
       "                var nbb_cells = Jupyter.notebook.get_cells();\n",
       "                for (var i = 0; i < nbb_cells.length; ++i) {\n",
       "                    if (nbb_cells[i].input_prompt_number == nbb_cell_id) {\n",
       "                        if (nbb_cells[i].get_text() == nbb_unformatted_code) {\n",
       "                             nbb_cells[i].set_text(nbb_formatted_code);\n",
       "                        }\n",
       "                        break;\n",
       "                    }\n",
       "                }\n",
       "            }, 500);\n",
       "            "
      ],
      "text/plain": [
       "<IPython.core.display.Javascript object>"
      ]
     },
     "metadata": {},
     "output_type": "display_data"
    }
   ],
   "source": [
    "# Create problem\n",
    "prob = LpProblem(\"scheduling_workers\", LpMinimize)"
   ]
  },
  {
   "cell_type": "code",
   "execution_count": 96,
   "id": "selective-favorite",
   "metadata": {
    "ExecuteTime": {
     "end_time": "2021-06-05T01:32:36.035409Z",
     "start_time": "2021-06-05T01:32:36.028755Z"
    }
   },
   "outputs": [
    {
     "data": {
      "application/javascript": [
       "\n",
       "            setTimeout(function() {\n",
       "                var nbb_cell_id = 96;\n",
       "                var nbb_unformatted_code = \"?LpVariable\";\n",
       "                var nbb_formatted_code = \"?LpVariable\";\n",
       "                var nbb_cells = Jupyter.notebook.get_cells();\n",
       "                for (var i = 0; i < nbb_cells.length; ++i) {\n",
       "                    if (nbb_cells[i].input_prompt_number == nbb_cell_id) {\n",
       "                        if (nbb_cells[i].get_text() == nbb_unformatted_code) {\n",
       "                             nbb_cells[i].set_text(nbb_formatted_code);\n",
       "                        }\n",
       "                        break;\n",
       "                    }\n",
       "                }\n",
       "            }, 500);\n",
       "            "
      ],
      "text/plain": [
       "<IPython.core.display.Javascript object>"
      ]
     },
     "metadata": {},
     "output_type": "display_data"
    }
   ],
   "source": [
    "?LpVariable"
   ]
  },
  {
   "cell_type": "code",
   "execution_count": 71,
   "id": "robust-approval",
   "metadata": {
    "ExecuteTime": {
     "end_time": "2021-06-04T18:24:41.219898Z",
     "start_time": "2021-06-04T18:24:41.206022Z"
    }
   },
   "outputs": [
    {
     "data": {
      "application/javascript": [
       "\n",
       "            setTimeout(function() {\n",
       "                var nbb_cell_id = 71;\n",
       "                var nbb_unformatted_code = \"# Decision variables\\ny = LpVariable.dicts(\\\"num_workers\\\", list(range(n)), lowBound=0, cat=\\\"Integer\\\")\";\n",
       "                var nbb_formatted_code = \"# Decision variables\\ny = LpVariable.dicts(\\\"num_workers\\\", list(range(n)), lowBound=0, cat=\\\"Integer\\\")\";\n",
       "                var nbb_cells = Jupyter.notebook.get_cells();\n",
       "                for (var i = 0; i < nbb_cells.length; ++i) {\n",
       "                    if (nbb_cells[i].input_prompt_number == nbb_cell_id) {\n",
       "                        if (nbb_cells[i].get_text() == nbb_unformatted_code) {\n",
       "                             nbb_cells[i].set_text(nbb_formatted_code);\n",
       "                        }\n",
       "                        break;\n",
       "                    }\n",
       "                }\n",
       "            }, 500);\n",
       "            "
      ],
      "text/plain": [
       "<IPython.core.display.Javascript object>"
      ]
     },
     "metadata": {},
     "output_type": "display_data"
    }
   ],
   "source": [
    "# Decision variables\n",
    "y = LpVariable.dicts(\"num_workers\", list(range(n)), lowBound=0, cat=\"Integer\")"
   ]
  },
  {
   "cell_type": "markdown",
   "id": "varied-turkish",
   "metadata": {},
   "source": [
    "## Formulation\n",
    "\n",
    "The model formulation is:\n",
    "\n",
    "\\begin{align}\n",
    "\\text{Minimize} \\;\\; &\\sum_j w_jy_j\\\\\n",
    "\\text{subject to} \\;\\; &\\sum_j a_{jt}y_j \\geq d_t \\;\\; t=1,..,T\\\\\n",
    "& y_j \\geq 0 \\text{ and integer } j=1,...,n\n",
    "\\end{align}"
   ]
  },
  {
   "cell_type": "code",
   "execution_count": 72,
   "id": "other-radio",
   "metadata": {
    "ExecuteTime": {
     "end_time": "2021-06-04T18:24:44.179762Z",
     "start_time": "2021-06-04T18:24:44.167281Z"
    }
   },
   "outputs": [
    {
     "data": {
      "application/javascript": [
       "\n",
       "            setTimeout(function() {\n",
       "                var nbb_cell_id = 72;\n",
       "                var nbb_unformatted_code = \"# Objective\\nprob += lpSum([w[j] * y[j] for j in range(n)])\";\n",
       "                var nbb_formatted_code = \"# Objective\\nprob += lpSum([w[j] * y[j] for j in range(n)])\";\n",
       "                var nbb_cells = Jupyter.notebook.get_cells();\n",
       "                for (var i = 0; i < nbb_cells.length; ++i) {\n",
       "                    if (nbb_cells[i].input_prompt_number == nbb_cell_id) {\n",
       "                        if (nbb_cells[i].get_text() == nbb_unformatted_code) {\n",
       "                             nbb_cells[i].set_text(nbb_formatted_code);\n",
       "                        }\n",
       "                        break;\n",
       "                    }\n",
       "                }\n",
       "            }, 500);\n",
       "            "
      ],
      "text/plain": [
       "<IPython.core.display.Javascript object>"
      ]
     },
     "metadata": {},
     "output_type": "display_data"
    }
   ],
   "source": [
    "# Objective\n",
    "prob += lpSum([w[j] * y[j] for j in range(n)])"
   ]
  },
  {
   "cell_type": "code",
   "execution_count": 73,
   "id": "ambient-highway",
   "metadata": {
    "ExecuteTime": {
     "end_time": "2021-06-04T18:24:47.240956Z",
     "start_time": "2021-06-04T18:24:47.228350Z"
    }
   },
   "outputs": [
    {
     "data": {
      "application/javascript": [
       "\n",
       "            setTimeout(function() {\n",
       "                var nbb_cell_id = 73;\n",
       "                var nbb_unformatted_code = \"# Subject to\\nfor t in range(T):\\n    prob += lpSum([a[t, j] * y[j] for j in range(n)]) >= d[t]\";\n",
       "                var nbb_formatted_code = \"# Subject to\\nfor t in range(T):\\n    prob += lpSum([a[t, j] * y[j] for j in range(n)]) >= d[t]\";\n",
       "                var nbb_cells = Jupyter.notebook.get_cells();\n",
       "                for (var i = 0; i < nbb_cells.length; ++i) {\n",
       "                    if (nbb_cells[i].input_prompt_number == nbb_cell_id) {\n",
       "                        if (nbb_cells[i].get_text() == nbb_unformatted_code) {\n",
       "                             nbb_cells[i].set_text(nbb_formatted_code);\n",
       "                        }\n",
       "                        break;\n",
       "                    }\n",
       "                }\n",
       "            }, 500);\n",
       "            "
      ],
      "text/plain": [
       "<IPython.core.display.Javascript object>"
      ]
     },
     "metadata": {},
     "output_type": "display_data"
    }
   ],
   "source": [
    "# Subject to\n",
    "for t in range(T):\n",
    "    prob += lpSum([a[t, j] * y[j] for j in range(n)]) >= d[t]"
   ]
  },
  {
   "cell_type": "markdown",
   "id": "english-biology",
   "metadata": {},
   "source": [
    "# Solve"
   ]
  },
  {
   "cell_type": "code",
   "execution_count": 74,
   "id": "simple-storm",
   "metadata": {
    "ExecuteTime": {
     "end_time": "2021-06-04T18:24:49.296441Z",
     "start_time": "2021-06-04T18:24:49.278950Z"
    }
   },
   "outputs": [
    {
     "data": {
      "text/plain": [
       "1"
      ]
     },
     "execution_count": 74,
     "metadata": {},
     "output_type": "execute_result"
    },
    {
     "data": {
      "application/javascript": [
       "\n",
       "            setTimeout(function() {\n",
       "                var nbb_cell_id = 74;\n",
       "                var nbb_unformatted_code = \"prob.solve()\";\n",
       "                var nbb_formatted_code = \"prob.solve()\";\n",
       "                var nbb_cells = Jupyter.notebook.get_cells();\n",
       "                for (var i = 0; i < nbb_cells.length; ++i) {\n",
       "                    if (nbb_cells[i].input_prompt_number == nbb_cell_id) {\n",
       "                        if (nbb_cells[i].get_text() == nbb_unformatted_code) {\n",
       "                             nbb_cells[i].set_text(nbb_formatted_code);\n",
       "                        }\n",
       "                        break;\n",
       "                    }\n",
       "                }\n",
       "            }, 500);\n",
       "            "
      ],
      "text/plain": [
       "<IPython.core.display.Javascript object>"
      ]
     },
     "metadata": {},
     "output_type": "display_data"
    }
   ],
   "source": [
    "prob.solve()"
   ]
  },
  {
   "cell_type": "code",
   "execution_count": 86,
   "id": "documentary-google",
   "metadata": {
    "ExecuteTime": {
     "end_time": "2021-06-04T20:47:37.151782Z",
     "start_time": "2021-06-04T20:47:37.134809Z"
    }
   },
   "outputs": [
    {
     "name": "stdout",
     "output_type": "stream",
     "text": [
      "Status: Optimal\n"
     ]
    },
    {
     "data": {
      "application/javascript": [
       "\n",
       "            setTimeout(function() {\n",
       "                var nbb_cell_id = 86;\n",
       "                var nbb_unformatted_code = \"print(\\\"Status:\\\", LpStatus[prob.status])\";\n",
       "                var nbb_formatted_code = \"print(\\\"Status:\\\", LpStatus[prob.status])\";\n",
       "                var nbb_cells = Jupyter.notebook.get_cells();\n",
       "                for (var i = 0; i < nbb_cells.length; ++i) {\n",
       "                    if (nbb_cells[i].input_prompt_number == nbb_cell_id) {\n",
       "                        if (nbb_cells[i].get_text() == nbb_unformatted_code) {\n",
       "                             nbb_cells[i].set_text(nbb_formatted_code);\n",
       "                        }\n",
       "                        break;\n",
       "                    }\n",
       "                }\n",
       "            }, 500);\n",
       "            "
      ],
      "text/plain": [
       "<IPython.core.display.Javascript object>"
      ]
     },
     "metadata": {},
     "output_type": "display_data"
    }
   ],
   "source": [
    "print(\"Status:\", LpStatus[prob.status])"
   ]
  },
  {
   "cell_type": "code",
   "execution_count": 97,
   "id": "honest-sessions",
   "metadata": {
    "ExecuteTime": {
     "end_time": "2021-06-05T01:41:32.509107Z",
     "start_time": "2021-06-05T01:41:32.501812Z"
    }
   },
   "outputs": [
    {
     "name": "stdout",
     "output_type": "stream",
     "text": [
      "The number of workers needed for shift 0 is 46 workers\n",
      "The number of workers needed for shift 1 is 23 workers\n",
      "The number of workers needed for shift 2 is 38 workers\n",
      "The number of workers needed for shift 3 is 30 workers\n"
     ]
    },
    {
     "data": {
      "application/javascript": [
       "\n",
       "            setTimeout(function() {\n",
       "                var nbb_cell_id = 97;\n",
       "                var nbb_unformatted_code = \"for shift in range(n):\\n    print(\\n        f\\\"The number of workers needed for shift {shift} is {int(y[shift].value())} workers\\\"\\n    )\";\n",
       "                var nbb_formatted_code = \"for shift in range(n):\\n    print(\\n        f\\\"The number of workers needed for shift {shift} is {int(y[shift].value())} workers\\\"\\n    )\";\n",
       "                var nbb_cells = Jupyter.notebook.get_cells();\n",
       "                for (var i = 0; i < nbb_cells.length; ++i) {\n",
       "                    if (nbb_cells[i].input_prompt_number == nbb_cell_id) {\n",
       "                        if (nbb_cells[i].get_text() == nbb_unformatted_code) {\n",
       "                             nbb_cells[i].set_text(nbb_formatted_code);\n",
       "                        }\n",
       "                        break;\n",
       "                    }\n",
       "                }\n",
       "            }, 500);\n",
       "            "
      ],
      "text/plain": [
       "<IPython.core.display.Javascript object>"
      ]
     },
     "metadata": {},
     "output_type": "display_data"
    }
   ],
   "source": [
    "for shift in range(n):\n",
    "    print(\n",
    "        f\"The number of workers needed for shift {shift} is {int(y[shift].value())} workers\"\n",
    "    )"
   ]
  },
  {
   "cell_type": "code",
   "execution_count": 91,
   "id": "interior-influence",
   "metadata": {
    "ExecuteTime": {
     "end_time": "2021-06-04T20:50:47.315546Z",
     "start_time": "2021-06-04T20:50:47.301908Z"
    }
   },
   "outputs": [
    {
     "name": "stdout",
     "output_type": "stream",
     "text": [
      "The total amount of money being paid to workers in 4 shifts are $22290.0\n"
     ]
    },
    {
     "data": {
      "application/javascript": [
       "\n",
       "            setTimeout(function() {\n",
       "                var nbb_cell_id = 91;\n",
       "                var nbb_unformatted_code = \"print(\\n    f\\\"The total amount of money being paid to workers in 4 shifts are ${value(prob.objective)}\\\",\\n)\";\n",
       "                var nbb_formatted_code = \"print(\\n    f\\\"The total amount of money being paid to workers in 4 shifts are ${value(prob.objective)}\\\",\\n)\";\n",
       "                var nbb_cells = Jupyter.notebook.get_cells();\n",
       "                for (var i = 0; i < nbb_cells.length; ++i) {\n",
       "                    if (nbb_cells[i].input_prompt_number == nbb_cell_id) {\n",
       "                        if (nbb_cells[i].get_text() == nbb_unformatted_code) {\n",
       "                             nbb_cells[i].set_text(nbb_formatted_code);\n",
       "                        }\n",
       "                        break;\n",
       "                    }\n",
       "                }\n",
       "            }, 500);\n",
       "            "
      ],
      "text/plain": [
       "<IPython.core.display.Javascript object>"
      ]
     },
     "metadata": {},
     "output_type": "display_data"
    }
   ],
   "source": [
    "print(\n",
    "    f\"The total amount of money being paid to workers in 4 shifts are ${value(prob.objective)}\",\n",
    ")"
   ]
  }
 ],
 "metadata": {
  "kernelspec": {
   "display_name": "medium",
   "language": "python",
   "name": "medium"
  },
  "language_info": {
   "codemirror_mode": {
    "name": "ipython",
    "version": 3
   },
   "file_extension": ".py",
   "mimetype": "text/x-python",
   "name": "python",
   "nbconvert_exporter": "python",
   "pygments_lexer": "ipython3",
   "version": "3.7.8"
  },
  "toc": {
   "base_numbering": 1,
   "nav_menu": {},
   "number_sections": true,
   "sideBar": true,
   "skip_h1_title": false,
   "title_cell": "Table of Contents",
   "title_sidebar": "Contents",
   "toc_cell": false,
   "toc_position": {},
   "toc_section_display": true,
   "toc_window_display": false
  },
  "varInspector": {
   "cols": {
    "lenName": 16,
    "lenType": 16,
    "lenVar": 40
   },
   "kernels_config": {
    "python": {
     "delete_cmd_postfix": "",
     "delete_cmd_prefix": "del ",
     "library": "var_list.py",
     "varRefreshCmd": "print(var_dic_list())"
    },
    "r": {
     "delete_cmd_postfix": ") ",
     "delete_cmd_prefix": "rm(",
     "library": "var_list.r",
     "varRefreshCmd": "cat(var_dic_list()) "
    }
   },
   "types_to_exclude": [
    "module",
    "function",
    "builtin_function_or_method",
    "instance",
    "_Feature"
   ],
   "window_display": false
  }
 },
 "nbformat": 4,
 "nbformat_minor": 5
}
