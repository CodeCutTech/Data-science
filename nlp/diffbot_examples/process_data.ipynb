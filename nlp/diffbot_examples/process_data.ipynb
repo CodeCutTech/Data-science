{
 "cells": [
  {
   "cell_type": "markdown",
   "source": [
    "[![View on GitHub](https://img.shields.io/badge/GitHub-View_on_GitHub-blue?logo=GitHub)](https://github.com/khuyentran1401/Data-science/blob/master/nlp/diffbot_examples/process_data.ipynb)\n",
    "\n",
    "[<img src=\"https://deepnote.com/buttons/launch-in-deepnote.svg\">](https://deepnote.com/project/Data-science-hxlyJpi-QrKFJziQgoMSmQ/%2FData-science%2Fnlp%2Fdiffbot_examples%2Fprocess_data.ipynb)"
   ],
   "metadata": {
    "tags": [],
    "cell_id": "00000-2ca86e52-3d7e-4be8-9ec2-0b502a8d3980",
    "deepnote_to_be_reexecuted": false,
    "source_hash": "b2a7d016",
    "execution_start": 1633617664743,
    "execution_millis": 6,
    "deepnote_cell_type": "markdown"
   }
  },
  {
   "cell_type": "code",
   "execution_count": null,
   "source": [
    "!pip install texthero"
   ],
   "outputs": [],
   "metadata": {
    "tags": [],
    "cell_id": "00001-76b5624c-3405-4160-b1a6-95ddf7a30e54",
    "deepnote_cell_type": "code"
   }
  },
  {
   "cell_type": "markdown",
   "source": [
    "# Import data"
   ],
   "metadata": {
    "cell_id": "00000-3a623f6c-891e-43e2-b807-e448076d3140",
    "deepnote_cell_type": "markdown"
   }
  },
  {
   "cell_type": "code",
   "execution_count": null,
   "source": [
    "import pandas as pd"
   ],
   "outputs": [],
   "metadata": {
    "ExecuteTime": {
     "end_time": "2021-07-25T18:51:59.834701Z",
     "start_time": "2021-07-25T18:51:59.445875Z"
    },
    "cell_id": "00003-06ffc394-0e42-4a75-9e4c-b23e2db4796b",
    "deepnote_to_be_reexecuted": false,
    "source_hash": "9b82ee11",
    "execution_start": 1633617926566,
    "execution_millis": 0,
    "deepnote_cell_type": "code"
   }
  },
  {
   "cell_type": "code",
   "execution_count": null,
   "source": [
    "data_scientist = pd.read_csv(\"/datasets/dataset/data-science-job-search.csv\")\n",
    "data_engineer = pd.read_csv(\"/datasets/dataset/data-engineer-job-search.csv\")"
   ],
   "outputs": [],
   "metadata": {
    "ExecuteTime": {
     "end_time": "2021-07-25T18:52:00.088041Z",
     "start_time": "2021-07-25T18:51:59.984545Z"
    },
    "cell_id": "00004-9d729dd8-7048-46df-ade1-13f6e35022a7",
    "deepnote_to_be_reexecuted": false,
    "source_hash": "f098d898",
    "execution_start": 1633617963358,
    "execution_millis": 104,
    "deepnote_cell_type": "code"
   }
  },
  {
   "cell_type": "code",
   "execution_count": null,
   "source": [
    "data_scientist[\"title\"] = [\"data scientist\"] * len(data_scientist)\n",
    "data_engineer[\"title\"] = [\"data engineer\"] * len(data_scientist)"
   ],
   "outputs": [],
   "metadata": {
    "ExecuteTime": {
     "end_time": "2021-07-25T18:52:00.519178Z",
     "start_time": "2021-07-25T18:52:00.515670Z"
    },
    "cell_id": "00005-334394e9-a65c-48cd-b609-77b4a564870a",
    "deepnote_to_be_reexecuted": false,
    "source_hash": "6690b95",
    "execution_start": 1633617964676,
    "execution_millis": 1,
    "deepnote_cell_type": "code"
   }
  },
  {
   "cell_type": "code",
   "execution_count": null,
   "source": [
    "df = pd.concat([data_scientist, data_engineer]).reset_index(drop=True)"
   ],
   "outputs": [],
   "metadata": {
    "ExecuteTime": {
     "end_time": "2021-07-25T18:52:00.939068Z",
     "start_time": "2021-07-25T18:52:00.933455Z"
    },
    "cell_id": "00006-cbdd0d8b-ab71-4686-b8b1-1d39bbc20a67",
    "deepnote_to_be_reexecuted": false,
    "source_hash": "7dba644e",
    "execution_start": 1633617976200,
    "execution_millis": 2,
    "deepnote_cell_type": "code"
   }
  },
  {
   "cell_type": "markdown",
   "source": [
    "Filter out the jobs without text"
   ],
   "metadata": {
    "cell_id": "00007-ccdbfb45-cfca-4b28-8e0b-47027ab571c5",
    "deepnote_cell_type": "markdown"
   }
  },
  {
   "cell_type": "code",
   "execution_count": null,
   "source": [
    "df = df[~df.text.isna()]"
   ],
   "outputs": [],
   "metadata": {
    "ExecuteTime": {
     "end_time": "2021-07-25T18:52:01.466841Z",
     "start_time": "2021-07-25T18:52:01.462058Z"
    },
    "cell_id": "00008-49d23a0d-6345-40cf-a739-70c36bc836cc",
    "deepnote_to_be_reexecuted": false,
    "source_hash": "b08f6a9f",
    "execution_start": 1633617978192,
    "execution_millis": 3,
    "deepnote_cell_type": "code"
   }
  },
  {
   "cell_type": "markdown",
   "source": [
    "# Analyze Page Source"
   ],
   "metadata": {
    "cell_id": "00009-ca84ebc0-130c-44e2-a8e8-13e808788adf",
    "deepnote_cell_type": "markdown"
   }
  },
  {
   "cell_type": "code",
   "execution_count": null,
   "source": [
    "from yarl import URL"
   ],
   "outputs": [],
   "metadata": {
    "ExecuteTime": {
     "end_time": "2021-07-25T18:52:01.956584Z",
     "start_time": "2021-07-25T18:52:01.940577Z"
    },
    "cell_id": "00010-21179d1a-0f3e-41af-b084-e987f62d22fa",
    "deepnote_to_be_reexecuted": false,
    "source_hash": "fcfcf8c6",
    "execution_start": 1633617979703,
    "execution_millis": 30,
    "deepnote_cell_type": "code"
   }
  },
  {
   "cell_type": "code",
   "execution_count": null,
   "source": [
    "def get_page_source(url: str):\n",
    "    return URL(url).host"
   ],
   "outputs": [],
   "metadata": {
    "ExecuteTime": {
     "end_time": "2021-07-25T18:52:02.439683Z",
     "start_time": "2021-07-25T18:52:02.436783Z"
    },
    "cell_id": "00011-2e94c11a-28e4-42a3-9fbd-a9fa7e28d6b3",
    "deepnote_to_be_reexecuted": false,
    "source_hash": "6ddcac49",
    "execution_start": 1633617982261,
    "execution_millis": 0,
    "deepnote_cell_type": "code"
   }
  },
  {
   "cell_type": "code",
   "execution_count": null,
   "source": [
    "df[\"page_host\"] = df[\"pageUrl\"].apply(get_page_source)"
   ],
   "outputs": [],
   "metadata": {
    "ExecuteTime": {
     "end_time": "2021-07-25T18:52:03.047251Z",
     "start_time": "2021-07-25T18:52:02.986307Z"
    },
    "cell_id": "00012-a188974d-c84a-493c-a509-dcb59e8ae79d",
    "deepnote_to_be_reexecuted": false,
    "source_hash": "530f8783",
    "execution_start": 1633617987566,
    "execution_millis": 57,
    "deepnote_cell_type": "code"
   }
  },
  {
   "cell_type": "code",
   "execution_count": null,
   "source": [
    "top_pages = df[\"page_host\"].value_counts()[:20].to_frame()"
   ],
   "outputs": [],
   "metadata": {
    "ExecuteTime": {
     "end_time": "2021-07-25T18:52:03.538235Z",
     "start_time": "2021-07-25T18:52:03.534510Z"
    },
    "cell_id": "00013-459418ef-052f-41fb-9f89-b95a1e3d96e8",
    "deepnote_to_be_reexecuted": false,
    "source_hash": "ed958ceb",
    "execution_start": 1633617989245,
    "execution_millis": 2,
    "deepnote_cell_type": "code"
   }
  },
  {
   "cell_type": "code",
   "execution_count": null,
   "source": [
    "import plotly.express as px\n",
    "\n",
    "fig = px.histogram(\n",
    "    top_pages,\n",
    "    x=top_pages.index,\n",
    "    y=\"page_host\",\n",
    "    labels={\"sum of page_host\": \"frequency\", \"index\": \"page host\"},\n",
    ").update_xaxes(\n",
    "    categoryorder=\"total descending\",\n",
    ")\n",
    "fig"
   ],
   "outputs": [],
   "metadata": {
    "ExecuteTime": {
     "end_time": "2021-07-25T18:52:05.474258Z",
     "start_time": "2021-07-25T18:52:04.076654Z"
    },
    "cell_id": "00014-eacdbbd2-a613-48e1-b82d-299662bdc0f2",
    "deepnote_to_be_reexecuted": false,
    "source_hash": "1f4757e8",
    "execution_start": 1633617994491,
    "execution_millis": 2925,
    "deepnote_cell_type": "code"
   }
  },
  {
   "cell_type": "code",
   "execution_count": null,
   "source": [
    "df.to_pickle(\"processed_df.pkl\")"
   ],
   "outputs": [],
   "metadata": {
    "ExecuteTime": {
     "end_time": "2021-07-25T18:52:06.097490Z",
     "start_time": "2021-07-25T18:52:06.078012Z"
    },
    "cell_id": "00015-b8ffd6ca-0683-479c-9512-edf0f4531e9f",
    "deepnote_to_be_reexecuted": false,
    "source_hash": "39bb0b8b",
    "execution_start": 1633618000116,
    "execution_millis": 502,
    "deepnote_cell_type": "code"
   }
  },
  {
   "cell_type": "markdown",
   "source": [
    "# Get Text"
   ],
   "metadata": {
    "cell_id": "00016-93c03713-f2da-4a62-86cc-6bbd6a136379",
    "deepnote_cell_type": "markdown"
   }
  },
  {
   "cell_type": "code",
   "execution_count": null,
   "source": [
    "import texthero as hero"
   ],
   "outputs": [],
   "metadata": {
    "ExecuteTime": {
     "end_time": "2021-07-25T18:52:09.731125Z",
     "start_time": "2021-07-25T18:52:06.775344Z"
    },
    "cell_id": "00017-e51e08d7-5b42-46e3-b63c-e2d1386ed563",
    "deepnote_to_be_reexecuted": false,
    "source_hash": "69f53230",
    "execution_start": 1633618047319,
    "execution_millis": 11055,
    "deepnote_cell_type": "code"
   }
  },
  {
   "cell_type": "code",
   "execution_count": null,
   "source": [
    "df[\"text\"] = df[\"text\"].pipe(hero.clean)\n",
    "df[\"requirements\"] = df[\"requirements\"].pipe(hero.clean)\n",
    "df[\"tasks\"] = df[\"tasks\"].pipe(hero.clean)"
   ],
   "outputs": [],
   "metadata": {
    "ExecuteTime": {
     "end_time": "2021-07-25T18:52:13.168221Z",
     "start_time": "2021-07-25T18:52:10.362746Z"
    },
    "cell_id": "00018-d06315a1-8509-4353-afe0-cc64547df445",
    "deepnote_to_be_reexecuted": false,
    "source_hash": "6b13368b",
    "execution_start": 1633618058365,
    "execution_millis": 3658,
    "deepnote_cell_type": "code"
   }
  },
  {
   "cell_type": "code",
   "execution_count": null,
   "source": [
    "text = \" \".join(df[\"text\"].values)"
   ],
   "outputs": [],
   "metadata": {
    "ExecuteTime": {
     "end_time": "2021-07-25T18:52:13.806499Z",
     "start_time": "2021-07-25T18:52:13.801554Z"
    },
    "cell_id": "00019-64f95b58-ee87-41d4-8d01-06aa33a09d26",
    "deepnote_to_be_reexecuted": false,
    "source_hash": "a1429108",
    "execution_start": 1633618063104,
    "execution_millis": 2,
    "deepnote_cell_type": "code"
   }
  },
  {
   "cell_type": "code",
   "execution_count": null,
   "source": [
    "from wordcloud import WordCloud, STOPWORDS, ImageColorGenerator\n",
    "import matplotlib.pyplot as plt\n",
    "\n",
    "%matplotlib inline\n",
    "\n",
    "\n",
    "def make_wordcloud(new_text):\n",
    "    \"\"\"'function to make wordcloud\"\"\"\n",
    "\n",
    "    wordcloud = WordCloud(\n",
    "        width=800,\n",
    "        height=800,\n",
    "        min_font_size=10,\n",
    "        background_color=\"black\",\n",
    "        colormap=\"Set2\",\n",
    "        collocation_threshold=3,\n",
    "    ).generate(new_text)\n",
    "\n",
    "    fig = plt.figure(figsize=(8, 8), facecolor=None)\n",
    "    plt.imshow(wordcloud, interpolation=\"bilinear\")\n",
    "    plt.axis(\"off\")\n",
    "    plt.tight_layout(pad=0)\n",
    "\n",
    "    plt.show()\n",
    "\n",
    "    return fig"
   ],
   "outputs": [],
   "metadata": {
    "ExecuteTime": {
     "end_time": "2021-07-25T18:52:14.437903Z",
     "start_time": "2021-07-25T18:52:14.422550Z"
    },
    "cell_id": "00020-9793b15e-e2aa-4182-8c3e-c98314defec1",
    "deepnote_to_be_reexecuted": false,
    "source_hash": "22e90b1f",
    "execution_start": 1633618066121,
    "execution_millis": 1,
    "deepnote_cell_type": "code"
   }
  },
  {
   "cell_type": "code",
   "execution_count": null,
   "source": [
    "text_cloud = make_wordcloud(text)"
   ],
   "outputs": [],
   "metadata": {
    "ExecuteTime": {
     "end_time": "2021-07-25T18:52:18.595947Z",
     "start_time": "2021-07-25T18:52:15.076161Z"
    },
    "cell_id": "00021-fc8646ac-f1b4-4753-aa60-ac40e1e209f3",
    "deepnote_to_be_reexecuted": false,
    "source_hash": "4281cb5e",
    "execution_start": 1633618067808,
    "execution_millis": 4808,
    "deepnote_cell_type": "code"
   }
  },
  {
   "cell_type": "markdown",
   "source": [
    "<a style='text-decoration:none;line-height:16px;display:flex;color:#5B5B62;padding:10px;justify-content:end;' href='https://deepnote.com?utm_source=created-in-deepnote-cell&projectId=87197226-98be-42b2-8527-389082831299' target=\"_blank\">\n",
    "<img alt='Created in deepnote.com' style='display:inline;max-height:16px;margin:0px;margin-right:7.5px;' src='data:image/svg+xml;base64,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' > </img>\n",
    "Created in <span style='font-weight:600;margin-left:4px;'>Deepnote</span></a>"
   ],
   "metadata": {
    "tags": [],
    "created_in_deepnote_cell": true,
    "deepnote_cell_type": "markdown"
   }
  }
 ],
 "nbformat": 4,
 "nbformat_minor": 5,
 "metadata": {
  "hide_input": false,
  "kernelspec": {
   "display_name": "Python 3",
   "language": "python",
   "name": "python3"
  },
  "language_info": {
   "codemirror_mode": {
    "name": "ipython",
    "version": 3
   },
   "file_extension": ".py",
   "mimetype": "text/x-python",
   "name": "python",
   "nbconvert_exporter": "python",
   "pygments_lexer": "ipython3",
   "version": "3.8.10"
  },
  "toc": {
   "base_numbering": 1,
   "nav_menu": {},
   "number_sections": true,
   "sideBar": true,
   "skip_h1_title": false,
   "title_cell": "Table of Contents",
   "title_sidebar": "Contents",
   "toc_cell": false,
   "toc_position": {},
   "toc_section_display": true,
   "toc_window_display": false
  },
  "varInspector": {
   "cols": {
    "lenName": 16,
    "lenType": 16,
    "lenVar": 40
   },
   "kernels_config": {
    "python": {
     "delete_cmd_postfix": "",
     "delete_cmd_prefix": "del ",
     "library": "var_list.py",
     "varRefreshCmd": "print(var_dic_list())"
    },
    "r": {
     "delete_cmd_postfix": ") ",
     "delete_cmd_prefix": "rm(",
     "library": "var_list.r",
     "varRefreshCmd": "cat(var_dic_list()) "
    }
   },
   "types_to_exclude": [
    "module",
    "function",
    "builtin_function_or_method",
    "instance",
    "_Feature"
   ],
   "window_display": false
  },
  "deepnote_notebook_id": "eacb3c0e-2979-4d3b-aac9-9bc76608e408",
  "deepnote": {},
  "deepnote_execution_queue": []
 }
}