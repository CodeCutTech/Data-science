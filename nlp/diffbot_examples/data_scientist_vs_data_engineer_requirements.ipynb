{
 "cells": [
  {
   "cell_type": "markdown",
   "id": "a38f4355",
   "metadata": {},
   "source": [
    "## Process data"
   ]
  },
  {
   "cell_type": "code",
   "execution_count": 121,
   "id": "5f6c58c9",
   "metadata": {
    "ExecuteTime": {
     "end_time": "2021-07-25T17:09:01.872170Z",
     "start_time": "2021-07-25T17:09:01.789713Z"
    }
   },
   "outputs": [
    {
     "data": {
      "application/javascript": [
       "\n",
       "            setTimeout(function() {\n",
       "                var nbb_cell_id = 121;\n",
       "                var nbb_unformatted_code = \"import pandas as pd\\n\\ndf = pd.read_pickle(\\\"processed_df.pkl\\\")\";\n",
       "                var nbb_formatted_code = \"import pandas as pd\\n\\ndf = pd.read_pickle(\\\"processed_df.pkl\\\")\";\n",
       "                var nbb_cells = Jupyter.notebook.get_cells();\n",
       "                for (var i = 0; i < nbb_cells.length; ++i) {\n",
       "                    if (nbb_cells[i].input_prompt_number == nbb_cell_id) {\n",
       "                        if (nbb_cells[i].get_text() == nbb_unformatted_code) {\n",
       "                             nbb_cells[i].set_text(nbb_formatted_code);\n",
       "                        }\n",
       "                        break;\n",
       "                    }\n",
       "                }\n",
       "            }, 500);\n",
       "            "
      ],
      "text/plain": [
       "<IPython.core.display.Javascript object>"
      ]
     },
     "metadata": {},
     "output_type": "display_data"
    }
   ],
   "source": [
    "import pandas as pd\n",
    "\n",
    "df = pd.read_pickle(\"processed_df.pkl\")"
   ]
  },
  {
   "cell_type": "markdown",
   "id": "20b4dbd4",
   "metadata": {},
   "source": [
    "## Terms"
   ]
  },
  {
   "cell_type": "code",
   "execution_count": 142,
   "id": "db24ee52",
   "metadata": {
    "ExecuteTime": {
     "end_time": "2021-07-25T17:11:33.754546Z",
     "start_time": "2021-07-25T17:11:33.705254Z"
    }
   },
   "outputs": [
    {
     "data": {
      "application/javascript": [
       "\n",
       "            setTimeout(function() {\n",
       "                var nbb_cell_id = 142;\n",
       "                var nbb_unformatted_code = \"import scattertext as st\";\n",
       "                var nbb_formatted_code = \"import scattertext as st\";\n",
       "                var nbb_cells = Jupyter.notebook.get_cells();\n",
       "                for (var i = 0; i < nbb_cells.length; ++i) {\n",
       "                    if (nbb_cells[i].input_prompt_number == nbb_cell_id) {\n",
       "                        if (nbb_cells[i].get_text() == nbb_unformatted_code) {\n",
       "                             nbb_cells[i].set_text(nbb_formatted_code);\n",
       "                        }\n",
       "                        break;\n",
       "                    }\n",
       "                }\n",
       "            }, 500);\n",
       "            "
      ],
      "text/plain": [
       "<IPython.core.display.Javascript object>"
      ]
     },
     "metadata": {},
     "output_type": "display_data"
    }
   ],
   "source": [
    "import scattertext as st"
   ]
  },
  {
   "cell_type": "code",
   "execution_count": 143,
   "id": "6d37fae4",
   "metadata": {
    "ExecuteTime": {
     "end_time": "2021-07-25T17:11:33.806346Z",
     "start_time": "2021-07-25T17:11:33.756740Z"
    }
   },
   "outputs": [
    {
     "data": {
      "application/javascript": [
       "\n",
       "            setTimeout(function() {\n",
       "                var nbb_cell_id = 143;\n",
       "                var nbb_unformatted_code = \"import re\";\n",
       "                var nbb_formatted_code = \"import re\";\n",
       "                var nbb_cells = Jupyter.notebook.get_cells();\n",
       "                for (var i = 0; i < nbb_cells.length; ++i) {\n",
       "                    if (nbb_cells[i].input_prompt_number == nbb_cell_id) {\n",
       "                        if (nbb_cells[i].get_text() == nbb_unformatted_code) {\n",
       "                             nbb_cells[i].set_text(nbb_formatted_code);\n",
       "                        }\n",
       "                        break;\n",
       "                    }\n",
       "                }\n",
       "            }, 500);\n",
       "            "
      ],
      "text/plain": [
       "<IPython.core.display.Javascript object>"
      ]
     },
     "metadata": {},
     "output_type": "display_data"
    }
   ],
   "source": [
    "import re"
   ]
  },
  {
   "cell_type": "code",
   "execution_count": 146,
   "id": "81dfee35",
   "metadata": {
    "ExecuteTime": {
     "end_time": "2021-07-25T17:12:01.551230Z",
     "start_time": "2021-07-25T17:12:01.471185Z"
    }
   },
   "outputs": [
    {
     "data": {
      "application/javascript": [
       "\n",
       "            setTimeout(function() {\n",
       "                var nbb_cell_id = 146;\n",
       "                var nbb_unformatted_code = \"analyze_col = 'requirements'\";\n",
       "                var nbb_formatted_code = \"analyze_col = \\\"requirements\\\"\";\n",
       "                var nbb_cells = Jupyter.notebook.get_cells();\n",
       "                for (var i = 0; i < nbb_cells.length; ++i) {\n",
       "                    if (nbb_cells[i].input_prompt_number == nbb_cell_id) {\n",
       "                        if (nbb_cells[i].get_text() == nbb_unformatted_code) {\n",
       "                             nbb_cells[i].set_text(nbb_formatted_code);\n",
       "                        }\n",
       "                        break;\n",
       "                    }\n",
       "                }\n",
       "            }, 500);\n",
       "            "
      ],
      "text/plain": [
       "<IPython.core.display.Javascript object>"
      ]
     },
     "metadata": {},
     "output_type": "display_data"
    }
   ],
   "source": [
    "analyze_col = \"requirements\""
   ]
  },
  {
   "cell_type": "code",
   "execution_count": 149,
   "id": "1aeb3cf7",
   "metadata": {
    "ExecuteTime": {
     "end_time": "2021-07-25T18:26:18.447064Z",
     "start_time": "2021-07-25T18:26:18.372284Z"
    }
   },
   "outputs": [
    {
     "data": {
      "application/javascript": [
       "\n",
       "            setTimeout(function() {\n",
       "                var nbb_cell_id = 149;\n",
       "                var nbb_unformatted_code = \"filtered_df = df[~df[analyze_col].isna()][[\\\"title\\\", analyze_col, \\\"page_host\\\"]]\";\n",
       "                var nbb_formatted_code = \"filtered_df = df[~df[analyze_col].isna()][[\\\"title\\\", analyze_col, \\\"page_host\\\"]]\";\n",
       "                var nbb_cells = Jupyter.notebook.get_cells();\n",
       "                for (var i = 0; i < nbb_cells.length; ++i) {\n",
       "                    if (nbb_cells[i].input_prompt_number == nbb_cell_id) {\n",
       "                        if (nbb_cells[i].get_text() == nbb_unformatted_code) {\n",
       "                             nbb_cells[i].set_text(nbb_formatted_code);\n",
       "                        }\n",
       "                        break;\n",
       "                    }\n",
       "                }\n",
       "            }, 500);\n",
       "            "
      ],
      "text/plain": [
       "<IPython.core.display.Javascript object>"
      ]
     },
     "metadata": {},
     "output_type": "display_data"
    }
   ],
   "source": [
    "filtered_df = df[~df[analyze_col].isna()][[\"title\", analyze_col, \"page_host\"]]"
   ]
  },
  {
   "cell_type": "code",
   "execution_count": 150,
   "id": "37f96a64",
   "metadata": {
    "ExecuteTime": {
     "end_time": "2021-07-25T18:26:24.482343Z",
     "start_time": "2021-07-25T18:26:19.111382Z"
    }
   },
   "outputs": [
    {
     "data": {
      "application/javascript": [
       "\n",
       "            setTimeout(function() {\n",
       "                var nbb_cell_id = 150;\n",
       "                var nbb_unformatted_code = \"filtered_df[\\\"parse\\\"] = filtered_df[analyze_col].apply(st.whitespace_nlp_with_sentences)\";\n",
       "                var nbb_formatted_code = \"filtered_df[\\\"parse\\\"] = filtered_df[analyze_col].apply(st.whitespace_nlp_with_sentences)\";\n",
       "                var nbb_cells = Jupyter.notebook.get_cells();\n",
       "                for (var i = 0; i < nbb_cells.length; ++i) {\n",
       "                    if (nbb_cells[i].input_prompt_number == nbb_cell_id) {\n",
       "                        if (nbb_cells[i].get_text() == nbb_unformatted_code) {\n",
       "                             nbb_cells[i].set_text(nbb_formatted_code);\n",
       "                        }\n",
       "                        break;\n",
       "                    }\n",
       "                }\n",
       "            }, 500);\n",
       "            "
      ],
      "text/plain": [
       "<IPython.core.display.Javascript object>"
      ]
     },
     "metadata": {},
     "output_type": "display_data"
    }
   ],
   "source": [
    "filtered_df[\"parse\"] = filtered_df[analyze_col].apply(st.whitespace_nlp_with_sentences)"
   ]
  },
  {
   "cell_type": "code",
   "execution_count": 151,
   "id": "ee3f5eed",
   "metadata": {
    "ExecuteTime": {
     "end_time": "2021-07-25T18:26:25.252036Z",
     "start_time": "2021-07-25T18:26:25.194004Z"
    }
   },
   "outputs": [
    {
     "data": {
      "text/plain": [
       "0                                                      ()\n",
       "1       (years, relevant, experience, preferred, healt...\n",
       "2       (pursuing, phd, ms, cs, math, statistics, phys...\n",
       "3                                                      ()\n",
       "4       (phd, ms, computational, biology, computer, sc...\n",
       "                              ...                        \n",
       "1995    (monthly, team, outings, ball, games, happy, h...\n",
       "1996                                                   ()\n",
       "1997                                                   ()\n",
       "1998    (least, years, experience, developing, busines...\n",
       "1999                                                   ()\n",
       "Name: parse, Length: 2000, dtype: object"
      ]
     },
     "execution_count": 151,
     "metadata": {},
     "output_type": "execute_result"
    },
    {
     "data": {
      "application/javascript": [
       "\n",
       "            setTimeout(function() {\n",
       "                var nbb_cell_id = 151;\n",
       "                var nbb_unformatted_code = \"filtered_df[\\\"parse\\\"]\";\n",
       "                var nbb_formatted_code = \"filtered_df[\\\"parse\\\"]\";\n",
       "                var nbb_cells = Jupyter.notebook.get_cells();\n",
       "                for (var i = 0; i < nbb_cells.length; ++i) {\n",
       "                    if (nbb_cells[i].input_prompt_number == nbb_cell_id) {\n",
       "                        if (nbb_cells[i].get_text() == nbb_unformatted_code) {\n",
       "                             nbb_cells[i].set_text(nbb_formatted_code);\n",
       "                        }\n",
       "                        break;\n",
       "                    }\n",
       "                }\n",
       "            }, 500);\n",
       "            "
      ],
      "text/plain": [
       "<IPython.core.display.Javascript object>"
      ]
     },
     "metadata": {},
     "output_type": "display_data"
    }
   ],
   "source": [
    "filtered_df[\"parse\"]"
   ]
  },
  {
   "cell_type": "code",
   "execution_count": 129,
   "id": "ea55e14d",
   "metadata": {
    "ExecuteTime": {
     "end_time": "2021-07-25T17:09:24.229773Z",
     "start_time": "2021-07-25T17:09:23.546226Z"
    }
   },
   "outputs": [
    {
     "data": {
      "application/javascript": [
       "\n",
       "            setTimeout(function() {\n",
       "                var nbb_cell_id = 129;\n",
       "                var nbb_unformatted_code = \"corpus = (\\n    st.CorpusFromParsedDocuments(filtered_df, category_col=\\\"title\\\", parsed_col=\\\"parse\\\")\\n    .build()\\n    .get_unigram_corpus()\\n    .compact(st.AssociationCompactor(2000))\\n)\";\n",
       "                var nbb_formatted_code = \"corpus = (\\n    st.CorpusFromParsedDocuments(filtered_df, category_col=\\\"title\\\", parsed_col=\\\"parse\\\")\\n    .build()\\n    .get_unigram_corpus()\\n    .compact(st.AssociationCompactor(2000))\\n)\";\n",
       "                var nbb_cells = Jupyter.notebook.get_cells();\n",
       "                for (var i = 0; i < nbb_cells.length; ++i) {\n",
       "                    if (nbb_cells[i].input_prompt_number == nbb_cell_id) {\n",
       "                        if (nbb_cells[i].get_text() == nbb_unformatted_code) {\n",
       "                             nbb_cells[i].set_text(nbb_formatted_code);\n",
       "                        }\n",
       "                        break;\n",
       "                    }\n",
       "                }\n",
       "            }, 500);\n",
       "            "
      ],
      "text/plain": [
       "<IPython.core.display.Javascript object>"
      ]
     },
     "metadata": {},
     "output_type": "display_data"
    }
   ],
   "source": [
    "corpus = (\n",
    "    st.CorpusFromParsedDocuments(filtered_df, category_col=\"title\", parsed_col=\"parse\")\n",
    "    .build()\n",
    "    .get_unigram_corpus()\n",
    "    .compact(st.AssociationCompactor(2000))\n",
    ")"
   ]
  },
  {
   "cell_type": "code",
   "execution_count": 130,
   "id": "dc6a8278",
   "metadata": {
    "ExecuteTime": {
     "end_time": "2021-07-25T17:09:24.841974Z",
     "start_time": "2021-07-25T17:09:24.794079Z"
    }
   },
   "outputs": [
    {
     "data": {
      "application/javascript": [
       "\n",
       "            setTimeout(function() {\n",
       "                var nbb_cell_id = 130;\n",
       "                var nbb_unformatted_code = \"term_freq_df = corpus.get_term_freq_df()\";\n",
       "                var nbb_formatted_code = \"term_freq_df = corpus.get_term_freq_df()\";\n",
       "                var nbb_cells = Jupyter.notebook.get_cells();\n",
       "                for (var i = 0; i < nbb_cells.length; ++i) {\n",
       "                    if (nbb_cells[i].input_prompt_number == nbb_cell_id) {\n",
       "                        if (nbb_cells[i].get_text() == nbb_unformatted_code) {\n",
       "                             nbb_cells[i].set_text(nbb_formatted_code);\n",
       "                        }\n",
       "                        break;\n",
       "                    }\n",
       "                }\n",
       "            }, 500);\n",
       "            "
      ],
      "text/plain": [
       "<IPython.core.display.Javascript object>"
      ]
     },
     "metadata": {},
     "output_type": "display_data"
    }
   ],
   "source": [
    "term_freq_df = corpus.get_term_freq_df()"
   ]
  },
  {
   "cell_type": "code",
   "execution_count": 131,
   "id": "4337bde3",
   "metadata": {
    "ExecuteTime": {
     "end_time": "2021-07-25T17:09:25.722892Z",
     "start_time": "2021-07-25T17:09:25.400472Z"
    }
   },
   "outputs": [
    {
     "name": "stderr",
     "output_type": "stream",
     "text": [
      "[nltk_data] Downloading package averaged_perceptron_tagger to\n",
      "[nltk_data]     /Users/khuyen/nltk_data...\n",
      "[nltk_data]   Package averaged_perceptron_tagger is already up-to-\n",
      "[nltk_data]       date!\n"
     ]
    },
    {
     "data": {
      "text/plain": [
       "True"
      ]
     },
     "execution_count": 131,
     "metadata": {},
     "output_type": "execute_result"
    },
    {
     "data": {
      "application/javascript": [
       "\n",
       "            setTimeout(function() {\n",
       "                var nbb_cell_id = 131;\n",
       "                var nbb_unformatted_code = \"import nltk\\n\\nnltk.download(\\\"averaged_perceptron_tagger\\\")\";\n",
       "                var nbb_formatted_code = \"import nltk\\n\\nnltk.download(\\\"averaged_perceptron_tagger\\\")\";\n",
       "                var nbb_cells = Jupyter.notebook.get_cells();\n",
       "                for (var i = 0; i < nbb_cells.length; ++i) {\n",
       "                    if (nbb_cells[i].input_prompt_number == nbb_cell_id) {\n",
       "                        if (nbb_cells[i].get_text() == nbb_unformatted_code) {\n",
       "                             nbb_cells[i].set_text(nbb_formatted_code);\n",
       "                        }\n",
       "                        break;\n",
       "                    }\n",
       "                }\n",
       "            }, 500);\n",
       "            "
      ],
      "text/plain": [
       "<IPython.core.display.Javascript object>"
      ]
     },
     "metadata": {},
     "output_type": "display_data"
    }
   ],
   "source": [
    "import nltk\n",
    "\n",
    "nltk.download(\"averaged_perceptron_tagger\")"
   ]
  },
  {
   "cell_type": "code",
   "execution_count": 132,
   "id": "2d17cce0",
   "metadata": {
    "ExecuteTime": {
     "end_time": "2021-07-25T17:09:26.356692Z",
     "start_time": "2021-07-25T17:09:26.301571Z"
    }
   },
   "outputs": [
    {
     "data": {
      "application/javascript": [
       "\n",
       "            setTimeout(function() {\n",
       "                var nbb_cell_id = 132;\n",
       "                var nbb_unformatted_code = \"term_freq_df[\\\"Data Scientist Score\\\"] = corpus.get_scaled_f_scores(\\\"data scientist\\\")\\nterm_freq_df[\\\"Data Engineer Score\\\"] = corpus.get_scaled_f_scores(\\\"data engineer\\\")\";\n",
       "                var nbb_formatted_code = \"term_freq_df[\\\"Data Scientist Score\\\"] = corpus.get_scaled_f_scores(\\\"data scientist\\\")\\nterm_freq_df[\\\"Data Engineer Score\\\"] = corpus.get_scaled_f_scores(\\\"data engineer\\\")\";\n",
       "                var nbb_cells = Jupyter.notebook.get_cells();\n",
       "                for (var i = 0; i < nbb_cells.length; ++i) {\n",
       "                    if (nbb_cells[i].input_prompt_number == nbb_cell_id) {\n",
       "                        if (nbb_cells[i].get_text() == nbb_unformatted_code) {\n",
       "                             nbb_cells[i].set_text(nbb_formatted_code);\n",
       "                        }\n",
       "                        break;\n",
       "                    }\n",
       "                }\n",
       "            }, 500);\n",
       "            "
      ],
      "text/plain": [
       "<IPython.core.display.Javascript object>"
      ]
     },
     "metadata": {},
     "output_type": "display_data"
    }
   ],
   "source": [
    "term_freq_df[\"Data Scientist Score\"] = corpus.get_scaled_f_scores(\"data scientist\")\n",
    "term_freq_df[\"Data Engineer Score\"] = corpus.get_scaled_f_scores(\"data engineer\")"
   ]
  },
  {
   "cell_type": "code",
   "execution_count": 133,
   "id": "02aded44",
   "metadata": {
    "ExecuteTime": {
     "end_time": "2021-07-25T17:09:27.241017Z",
     "start_time": "2021-07-25T17:09:26.943324Z"
    }
   },
   "outputs": [
    {
     "data": {
      "application/javascript": [
       "\n",
       "            setTimeout(function() {\n",
       "                var nbb_cell_id = 133;\n",
       "                var nbb_unformatted_code = \"def is_noun(word: str):\\n    pos = nltk.pos_tag([word])[0][1]\\n    return pos[:2] == \\\"NN\\\"\\n\\n\\nterm_freq_df = term_freq_df.loc[map(is_noun, term_freq_df.index)]\";\n",
       "                var nbb_formatted_code = \"def is_noun(word: str):\\n    pos = nltk.pos_tag([word])[0][1]\\n    return pos[:2] == \\\"NN\\\"\\n\\n\\nterm_freq_df = term_freq_df.loc[map(is_noun, term_freq_df.index)]\";\n",
       "                var nbb_cells = Jupyter.notebook.get_cells();\n",
       "                for (var i = 0; i < nbb_cells.length; ++i) {\n",
       "                    if (nbb_cells[i].input_prompt_number == nbb_cell_id) {\n",
       "                        if (nbb_cells[i].get_text() == nbb_unformatted_code) {\n",
       "                             nbb_cells[i].set_text(nbb_formatted_code);\n",
       "                        }\n",
       "                        break;\n",
       "                    }\n",
       "                }\n",
       "            }, 500);\n",
       "            "
      ],
      "text/plain": [
       "<IPython.core.display.Javascript object>"
      ]
     },
     "metadata": {},
     "output_type": "display_data"
    }
   ],
   "source": [
    "def is_noun(word: str):\n",
    "    pos = nltk.pos_tag([word])[0][1]\n",
    "    return pos[:2] == \"NN\"\n",
    "\n",
    "\n",
    "term_freq_df = term_freq_df.loc[map(is_noun, term_freq_df.index)]"
   ]
  },
  {
   "cell_type": "code",
   "execution_count": 134,
   "id": "b875a1c6",
   "metadata": {
    "ExecuteTime": {
     "end_time": "2021-07-25T17:09:27.918417Z",
     "start_time": "2021-07-25T17:09:27.868963Z"
    }
   },
   "outputs": [
    {
     "data": {
      "text/plain": [
       "Index(['quantitative', 'statistics', 'r', 'machine', 'analysis', 'field',\n",
       "       'science', 'ability', 'computer', 'mathematics', 'analytics', 'work',\n",
       "       'techniques', 'degree', 'research', 'engineering', 'business', 'mining',\n",
       "       'environment', 'time', 'knowledge', 'python', 'experience', 'problems',\n",
       "       'skills', 'years', 'math', 'team', 'languages', 'bachelor'],\n",
       "      dtype='object', name='term')"
      ]
     },
     "execution_count": 134,
     "metadata": {},
     "output_type": "execute_result"
    },
    {
     "data": {
      "application/javascript": [
       "\n",
       "            setTimeout(function() {\n",
       "                var nbb_cell_id = 134;\n",
       "                var nbb_unformatted_code = \"term_freq_df.sort_values(by=\\\"Data Scientist Score\\\", ascending=False).index[:30]\";\n",
       "                var nbb_formatted_code = \"term_freq_df.sort_values(by=\\\"Data Scientist Score\\\", ascending=False).index[:30]\";\n",
       "                var nbb_cells = Jupyter.notebook.get_cells();\n",
       "                for (var i = 0; i < nbb_cells.length; ++i) {\n",
       "                    if (nbb_cells[i].input_prompt_number == nbb_cell_id) {\n",
       "                        if (nbb_cells[i].get_text() == nbb_unformatted_code) {\n",
       "                             nbb_cells[i].set_text(nbb_formatted_code);\n",
       "                        }\n",
       "                        break;\n",
       "                    }\n",
       "                }\n",
       "            }, 500);\n",
       "            "
      ],
      "text/plain": [
       "<IPython.core.display.Javascript object>"
      ]
     },
     "metadata": {},
     "output_type": "display_data"
    }
   ],
   "source": [
    "term_freq_df.sort_values(by=\"Data Scientist Score\", ascending=False).index[:30]"
   ]
  },
  {
   "cell_type": "code",
   "execution_count": 155,
   "id": "c7247bf1",
   "metadata": {
    "ExecuteTime": {
     "end_time": "2021-07-25T18:43:22.578887Z",
     "start_time": "2021-07-25T18:43:22.514035Z"
    }
   },
   "outputs": [
    {
     "name": "stdout",
     "output_type": "stream",
     "text": [
      "Index(['apache', 'kafka', 'self', 'implement', 'spark', 'dimensional',\n",
      "       'design', 'scala', 'storm', 'excellent', 'stream', 'building', 'java',\n",
      "       'g', 'operating', 'management', 'flink', 'growth', 'processing',\n",
      "       'hands', 'others', 'mapreduce', 'aws', 'pipelines', 'sets', 'datasets',\n",
      "       'e', 'perfect', 'enemy', 'ambiguity'],\n",
      "      dtype='object', name='term')\n"
     ]
    },
    {
     "data": {
      "application/javascript": [
       "\n",
       "            setTimeout(function() {\n",
       "                var nbb_cell_id = 155;\n",
       "                var nbb_unformatted_code = \"print(term_freq_df.sort_values(by=\\\"Data Engineer Score\\\", ascending=False).index[:30])\";\n",
       "                var nbb_formatted_code = \"print(term_freq_df.sort_values(by=\\\"Data Engineer Score\\\", ascending=False).index[:30])\";\n",
       "                var nbb_cells = Jupyter.notebook.get_cells();\n",
       "                for (var i = 0; i < nbb_cells.length; ++i) {\n",
       "                    if (nbb_cells[i].input_prompt_number == nbb_cell_id) {\n",
       "                        if (nbb_cells[i].get_text() == nbb_unformatted_code) {\n",
       "                             nbb_cells[i].set_text(nbb_formatted_code);\n",
       "                        }\n",
       "                        break;\n",
       "                    }\n",
       "                }\n",
       "            }, 500);\n",
       "            "
      ],
      "text/plain": [
       "<IPython.core.display.Javascript object>"
      ]
     },
     "metadata": {},
     "output_type": "display_data"
    }
   ],
   "source": [
    "term_freq_df.sort_values(by=\"Data Engineer Score\", ascending=False).index[:30]"
   ]
  },
  {
   "cell_type": "code",
   "execution_count": 156,
   "id": "3500745b",
   "metadata": {
    "ExecuteTime": {
     "end_time": "2021-07-25T18:49:55.150573Z",
     "start_time": "2021-07-25T18:49:53.352467Z"
    }
   },
   "outputs": [
    {
     "data": {
      "text/plain": [
       "1226016"
      ]
     },
     "execution_count": 156,
     "metadata": {},
     "output_type": "execute_result"
    },
    {
     "data": {
      "application/javascript": [
       "\n",
       "            setTimeout(function() {\n",
       "                var nbb_cell_id = 156;\n",
       "                var nbb_unformatted_code = \"html = st.produce_scattertext_explorer(\\n    corpus,\\n    category=\\\"data scientist\\\",\\n    category_name=\\\"Data scientist\\\",\\n    not_category_name=\\\"Data Engineer\\\",\\n    minimum_term_frequency=5,\\n    pmi_threshold_coefficient=0,\\n    width_in_pixels=1000,\\n    metadata=corpus.get_df()[\\\"page_host\\\"],\\n    transform=st.Scalers.dense_rank,\\n)\\nopen(\\\"data_science_vs_data_engineer_requirements_terms.html\\\", \\\"w\\\").write(html)\";\n",
       "                var nbb_formatted_code = \"html = st.produce_scattertext_explorer(\\n    corpus,\\n    category=\\\"data scientist\\\",\\n    category_name=\\\"Data scientist\\\",\\n    not_category_name=\\\"Data Engineer\\\",\\n    minimum_term_frequency=5,\\n    pmi_threshold_coefficient=0,\\n    width_in_pixels=1000,\\n    metadata=corpus.get_df()[\\\"page_host\\\"],\\n    transform=st.Scalers.dense_rank,\\n)\\nopen(\\\"data_science_vs_data_engineer_requirements_terms.html\\\", \\\"w\\\").write(html)\";\n",
       "                var nbb_cells = Jupyter.notebook.get_cells();\n",
       "                for (var i = 0; i < nbb_cells.length; ++i) {\n",
       "                    if (nbb_cells[i].input_prompt_number == nbb_cell_id) {\n",
       "                        if (nbb_cells[i].get_text() == nbb_unformatted_code) {\n",
       "                             nbb_cells[i].set_text(nbb_formatted_code);\n",
       "                        }\n",
       "                        break;\n",
       "                    }\n",
       "                }\n",
       "            }, 500);\n",
       "            "
      ],
      "text/plain": [
       "<IPython.core.display.Javascript object>"
      ]
     },
     "metadata": {},
     "output_type": "display_data"
    }
   ],
   "source": [
    "html = st.produce_scattertext_explorer(\n",
    "    corpus,\n",
    "    category=\"data scientist\",\n",
    "    category_name=\"Data scientist\",\n",
    "    not_category_name=\"Data Engineer\",\n",
    "    minimum_term_frequency=5,\n",
    "    pmi_threshold_coefficient=0,\n",
    "    width_in_pixels=1000,\n",
    "    metadata=corpus.get_df()[\"page_host\"],\n",
    "    transform=st.Scalers.dense_rank,\n",
    ")\n",
    "open(\"data_science_vs_data_engineer_requirements_terms.html\", \"w\").write(html)"
   ]
  },
  {
   "cell_type": "code",
   "execution_count": null,
   "id": "c31cdaed",
   "metadata": {},
   "outputs": [],
   "source": []
  }
 ],
 "metadata": {
  "hide_input": false,
  "kernelspec": {
   "display_name": "Python 3",
   "language": "python",
   "name": "python3"
  },
  "language_info": {
   "codemirror_mode": {
    "name": "ipython",
    "version": 3
   },
   "file_extension": ".py",
   "mimetype": "text/x-python",
   "name": "python",
   "nbconvert_exporter": "python",
   "pygments_lexer": "ipython3",
   "version": "3.8.10"
  },
  "toc": {
   "base_numbering": 1,
   "nav_menu": {},
   "number_sections": true,
   "sideBar": true,
   "skip_h1_title": false,
   "title_cell": "Table of Contents",
   "title_sidebar": "Contents",
   "toc_cell": false,
   "toc_position": {},
   "toc_section_display": true,
   "toc_window_display": false
  },
  "varInspector": {
   "cols": {
    "lenName": 16,
    "lenType": 16,
    "lenVar": 40
   },
   "kernels_config": {
    "python": {
     "delete_cmd_postfix": "",
     "delete_cmd_prefix": "del ",
     "library": "var_list.py",
     "varRefreshCmd": "print(var_dic_list())"
    },
    "r": {
     "delete_cmd_postfix": ") ",
     "delete_cmd_prefix": "rm(",
     "library": "var_list.r",
     "varRefreshCmd": "cat(var_dic_list()) "
    }
   },
   "types_to_exclude": [
    "module",
    "function",
    "builtin_function_or_method",
    "instance",
    "_Feature"
   ],
   "window_display": false
  }
 },
 "nbformat": 4,
 "nbformat_minor": 5
}
