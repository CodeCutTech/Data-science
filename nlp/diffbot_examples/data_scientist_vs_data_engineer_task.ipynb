{
 "cells": [
  {
   "cell_type": "markdown",
   "id": "a38f4355",
   "metadata": {},
   "source": [
    "## Process data"
   ]
  },
  {
   "cell_type": "code",
   "execution_count": 1,
   "id": "32706cf4",
   "metadata": {
    "ExecuteTime": {
     "end_time": "2021-07-20T01:55:26.718600Z",
     "start_time": "2021-07-20T01:55:26.678383Z"
    }
   },
   "outputs": [
    {
     "data": {
      "application/javascript": [
       "\n",
       "            setTimeout(function() {\n",
       "                var nbb_cell_id = 1;\n",
       "                var nbb_unformatted_code = \"%load_ext nb_black\";\n",
       "                var nbb_formatted_code = \"%load_ext nb_black\";\n",
       "                var nbb_cells = Jupyter.notebook.get_cells();\n",
       "                for (var i = 0; i < nbb_cells.length; ++i) {\n",
       "                    if (nbb_cells[i].input_prompt_number == nbb_cell_id) {\n",
       "                        if (nbb_cells[i].get_text() == nbb_unformatted_code) {\n",
       "                             nbb_cells[i].set_text(nbb_formatted_code);\n",
       "                        }\n",
       "                        break;\n",
       "                    }\n",
       "                }\n",
       "            }, 500);\n",
       "            "
      ],
      "text/plain": [
       "<IPython.core.display.Javascript object>"
      ]
     },
     "metadata": {},
     "output_type": "display_data"
    }
   ],
   "source": [
    "%load_ext nb_black"
   ]
  },
  {
   "cell_type": "code",
   "execution_count": 2,
   "id": "ab69d237",
   "metadata": {
    "ExecuteTime": {
     "end_time": "2021-07-20T01:55:26.729086Z",
     "start_time": "2021-07-20T01:55:26.719687Z"
    }
   },
   "outputs": [
    {
     "data": {
      "application/javascript": [
       "\n",
       "            setTimeout(function() {\n",
       "                var nbb_cell_id = 2;\n",
       "                var nbb_unformatted_code = \"%load_ext autoreload\\n%autoreload 2\";\n",
       "                var nbb_formatted_code = \"%load_ext autoreload\\n%autoreload 2\";\n",
       "                var nbb_cells = Jupyter.notebook.get_cells();\n",
       "                for (var i = 0; i < nbb_cells.length; ++i) {\n",
       "                    if (nbb_cells[i].input_prompt_number == nbb_cell_id) {\n",
       "                        if (nbb_cells[i].get_text() == nbb_unformatted_code) {\n",
       "                             nbb_cells[i].set_text(nbb_formatted_code);\n",
       "                        }\n",
       "                        break;\n",
       "                    }\n",
       "                }\n",
       "            }, 500);\n",
       "            "
      ],
      "text/plain": [
       "<IPython.core.display.Javascript object>"
      ]
     },
     "metadata": {},
     "output_type": "display_data"
    }
   ],
   "source": [
    "%load_ext autoreload\n",
    "%autoreload 2"
   ]
  },
  {
   "cell_type": "code",
   "execution_count": 3,
   "id": "819a7ca1",
   "metadata": {
    "ExecuteTime": {
     "end_time": "2021-07-20T01:55:26.939872Z",
     "start_time": "2021-07-20T01:55:26.729885Z"
    }
   },
   "outputs": [
    {
     "data": {
      "application/javascript": [
       "\n",
       "            setTimeout(function() {\n",
       "                var nbb_cell_id = 3;\n",
       "                var nbb_unformatted_code = \"import pandas as pd\\n\\ndf = pd.read_pickle(\\\"processed_df.pkl\\\")\";\n",
       "                var nbb_formatted_code = \"import pandas as pd\\n\\ndf = pd.read_pickle(\\\"processed_df.pkl\\\")\";\n",
       "                var nbb_cells = Jupyter.notebook.get_cells();\n",
       "                for (var i = 0; i < nbb_cells.length; ++i) {\n",
       "                    if (nbb_cells[i].input_prompt_number == nbb_cell_id) {\n",
       "                        if (nbb_cells[i].get_text() == nbb_unformatted_code) {\n",
       "                             nbb_cells[i].set_text(nbb_formatted_code);\n",
       "                        }\n",
       "                        break;\n",
       "                    }\n",
       "                }\n",
       "            }, 500);\n",
       "            "
      ],
      "text/plain": [
       "<IPython.core.display.Javascript object>"
      ]
     },
     "metadata": {},
     "output_type": "display_data"
    }
   ],
   "source": [
    "import pandas as pd\n",
    "\n",
    "df = pd.read_pickle(\"processed_df.pkl\")"
   ]
  },
  {
   "cell_type": "code",
   "execution_count": 21,
   "id": "de97d21f",
   "metadata": {
    "ExecuteTime": {
     "end_time": "2021-07-20T01:56:13.798747Z",
     "start_time": "2021-07-20T01:56:13.713252Z"
    }
   },
   "outputs": [
    {
     "data": {
      "application/javascript": [
       "\n",
       "            setTimeout(function() {\n",
       "                var nbb_cell_id = 4;\n",
       "                var nbb_unformatted_code = \"analyze_col = \\\"tasks\\\"\";\n",
       "                var nbb_formatted_code = \"analyze_col = \\\"tasks\\\"\";\n",
       "                var nbb_cells = Jupyter.notebook.get_cells();\n",
       "                for (var i = 0; i < nbb_cells.length; ++i) {\n",
       "                    if (nbb_cells[i].input_prompt_number == nbb_cell_id) {\n",
       "                        if (nbb_cells[i].get_text() == nbb_unformatted_code) {\n",
       "                             nbb_cells[i].set_text(nbb_formatted_code);\n",
       "                        }\n",
       "                        break;\n",
       "                    }\n",
       "                }\n",
       "            }, 500);\n",
       "            "
      ],
      "text/plain": [
       "<IPython.core.display.Javascript object>"
      ]
     },
     "metadata": {},
     "output_type": "display_data"
    }
   ],
   "source": [
    "analyze_col = \"tasks\""
   ]
  },
  {
   "cell_type": "code",
   "execution_count": 5,
   "id": "b04ee3cc",
   "metadata": {
    "ExecuteTime": {
     "end_time": "2021-07-20T01:55:30.420097Z",
     "start_time": "2021-07-20T01:55:26.952839Z"
    }
   },
   "outputs": [
    {
     "data": {
      "application/javascript": [
       "\n",
       "            setTimeout(function() {\n",
       "                var nbb_cell_id = 5;\n",
       "                var nbb_unformatted_code = \"import texthero as hero\\nimport scattertext as st\\n\\ndf[analyze_col] = (\\n    df[analyze_col]\\n    .pipe(hero.remove_punctuation)\\n    .pipe(hero.remove_digits)\\n    .pipe(hero.fillna)\\n    .pipe(hero.remove_stopwords)\\n    .pipe(hero.remove_whitespace)\\n)\";\n",
       "                var nbb_formatted_code = \"import texthero as hero\\nimport scattertext as st\\n\\ndf[analyze_col] = (\\n    df[analyze_col]\\n    .pipe(hero.remove_punctuation)\\n    .pipe(hero.remove_digits)\\n    .pipe(hero.fillna)\\n    .pipe(hero.remove_stopwords)\\n    .pipe(hero.remove_whitespace)\\n)\";\n",
       "                var nbb_cells = Jupyter.notebook.get_cells();\n",
       "                for (var i = 0; i < nbb_cells.length; ++i) {\n",
       "                    if (nbb_cells[i].input_prompt_number == nbb_cell_id) {\n",
       "                        if (nbb_cells[i].get_text() == nbb_unformatted_code) {\n",
       "                             nbb_cells[i].set_text(nbb_formatted_code);\n",
       "                        }\n",
       "                        break;\n",
       "                    }\n",
       "                }\n",
       "            }, 500);\n",
       "            "
      ],
      "text/plain": [
       "<IPython.core.display.Javascript object>"
      ]
     },
     "metadata": {},
     "output_type": "display_data"
    }
   ],
   "source": [
    "import texthero as hero\n",
    "import scattertext as st\n",
    "\n",
    "df[analyze_col] = (\n",
    "    df[analyze_col]\n",
    "    .pipe(hero.remove_punctuation)\n",
    "    .pipe(hero.remove_digits)\n",
    "    .pipe(hero.fillna)\n",
    "    .pipe(hero.remove_stopwords)\n",
    "    .pipe(hero.remove_whitespace)\n",
    ")"
   ]
  },
  {
   "cell_type": "markdown",
   "id": "20b4dbd4",
   "metadata": {},
   "source": [
    "## Terms"
   ]
  },
  {
   "cell_type": "code",
   "execution_count": 6,
   "id": "0cf7abfb",
   "metadata": {
    "ExecuteTime": {
     "end_time": "2021-07-20T01:55:30.456519Z",
     "start_time": "2021-07-20T01:55:30.421014Z"
    }
   },
   "outputs": [
    {
     "data": {
      "application/javascript": [
       "\n",
       "            setTimeout(function() {\n",
       "                var nbb_cell_id = 6;\n",
       "                var nbb_unformatted_code = \"import re\";\n",
       "                var nbb_formatted_code = \"import re\";\n",
       "                var nbb_cells = Jupyter.notebook.get_cells();\n",
       "                for (var i = 0; i < nbb_cells.length; ++i) {\n",
       "                    if (nbb_cells[i].input_prompt_number == nbb_cell_id) {\n",
       "                        if (nbb_cells[i].get_text() == nbb_unformatted_code) {\n",
       "                             nbb_cells[i].set_text(nbb_formatted_code);\n",
       "                        }\n",
       "                        break;\n",
       "                    }\n",
       "                }\n",
       "            }, 500);\n",
       "            "
      ],
      "text/plain": [
       "<IPython.core.display.Javascript object>"
      ]
     },
     "metadata": {},
     "output_type": "display_data"
    }
   ],
   "source": [
    "import re"
   ]
  },
  {
   "cell_type": "code",
   "execution_count": 7,
   "id": "58ba6977",
   "metadata": {
    "ExecuteTime": {
     "end_time": "2021-07-20T01:55:30.494258Z",
     "start_time": "2021-07-20T01:55:30.458766Z"
    }
   },
   "outputs": [
    {
     "data": {
      "application/javascript": [
       "\n",
       "            setTimeout(function() {\n",
       "                var nbb_cell_id = 7;\n",
       "                var nbb_unformatted_code = \"filtered_df = df[~df[analyze_col].isna()][[\\\"title\\\", analyze_col, \\\"page_host\\\"]]\";\n",
       "                var nbb_formatted_code = \"filtered_df = df[~df[analyze_col].isna()][[\\\"title\\\", analyze_col, \\\"page_host\\\"]]\";\n",
       "                var nbb_cells = Jupyter.notebook.get_cells();\n",
       "                for (var i = 0; i < nbb_cells.length; ++i) {\n",
       "                    if (nbb_cells[i].input_prompt_number == nbb_cell_id) {\n",
       "                        if (nbb_cells[i].get_text() == nbb_unformatted_code) {\n",
       "                             nbb_cells[i].set_text(nbb_formatted_code);\n",
       "                        }\n",
       "                        break;\n",
       "                    }\n",
       "                }\n",
       "            }, 500);\n",
       "            "
      ],
      "text/plain": [
       "<IPython.core.display.Javascript object>"
      ]
     },
     "metadata": {},
     "output_type": "display_data"
    }
   ],
   "source": [
    "filtered_df = df[~df[analyze_col].isna()][[\"title\", analyze_col, \"page_host\"]]"
   ]
  },
  {
   "cell_type": "code",
   "execution_count": 8,
   "id": "2ec4b394",
   "metadata": {
    "ExecuteTime": {
     "end_time": "2021-07-20T01:55:30.541677Z",
     "start_time": "2021-07-20T01:55:30.495419Z"
    }
   },
   "outputs": [
    {
     "data": {
      "application/javascript": [
       "\n",
       "            setTimeout(function() {\n",
       "                var nbb_cell_id = 8;\n",
       "                var nbb_unformatted_code = \"filtered_df[analyze_col] = filtered_df[analyze_col].apply(\\n    lambda row: re.sub(r\\\"(?<=[.,])(?=[^\\\\s])\\\", r\\\" \\\", row)\\n)\";\n",
       "                var nbb_formatted_code = \"filtered_df[analyze_col] = filtered_df[analyze_col].apply(\\n    lambda row: re.sub(r\\\"(?<=[.,])(?=[^\\\\s])\\\", r\\\" \\\", row)\\n)\";\n",
       "                var nbb_cells = Jupyter.notebook.get_cells();\n",
       "                for (var i = 0; i < nbb_cells.length; ++i) {\n",
       "                    if (nbb_cells[i].input_prompt_number == nbb_cell_id) {\n",
       "                        if (nbb_cells[i].get_text() == nbb_unformatted_code) {\n",
       "                             nbb_cells[i].set_text(nbb_formatted_code);\n",
       "                        }\n",
       "                        break;\n",
       "                    }\n",
       "                }\n",
       "            }, 500);\n",
       "            "
      ],
      "text/plain": [
       "<IPython.core.display.Javascript object>"
      ]
     },
     "metadata": {},
     "output_type": "display_data"
    }
   ],
   "source": [
    "filtered_df[analyze_col] = filtered_df[analyze_col].apply(\n",
    "    lambda row: re.sub(r\"(?<=[.,])(?=[^\\s])\", r\" \", row)\n",
    ")"
   ]
  },
  {
   "cell_type": "code",
   "execution_count": 9,
   "id": "37f96a64",
   "metadata": {
    "ExecuteTime": {
     "end_time": "2021-07-20T01:55:39.660220Z",
     "start_time": "2021-07-20T01:55:30.542612Z"
    }
   },
   "outputs": [
    {
     "data": {
      "application/javascript": [
       "\n",
       "            setTimeout(function() {\n",
       "                var nbb_cell_id = 9;\n",
       "                var nbb_unformatted_code = \"filtered_df[\\\"parse\\\"] = filtered_df[analyze_col].apply(st.whitespace_nlp_with_sentences)\";\n",
       "                var nbb_formatted_code = \"filtered_df[\\\"parse\\\"] = filtered_df[analyze_col].apply(st.whitespace_nlp_with_sentences)\";\n",
       "                var nbb_cells = Jupyter.notebook.get_cells();\n",
       "                for (var i = 0; i < nbb_cells.length; ++i) {\n",
       "                    if (nbb_cells[i].input_prompt_number == nbb_cell_id) {\n",
       "                        if (nbb_cells[i].get_text() == nbb_unformatted_code) {\n",
       "                             nbb_cells[i].set_text(nbb_formatted_code);\n",
       "                        }\n",
       "                        break;\n",
       "                    }\n",
       "                }\n",
       "            }, 500);\n",
       "            "
      ],
      "text/plain": [
       "<IPython.core.display.Javascript object>"
      ]
     },
     "metadata": {},
     "output_type": "display_data"
    }
   ],
   "source": [
    "filtered_df[\"parse\"] = filtered_df[analyze_col].apply(st.whitespace_nlp_with_sentences)"
   ]
  },
  {
   "cell_type": "code",
   "execution_count": 10,
   "id": "ea55e14d",
   "metadata": {
    "ExecuteTime": {
     "end_time": "2021-07-20T01:55:40.409182Z",
     "start_time": "2021-07-20T01:55:39.661113Z"
    }
   },
   "outputs": [
    {
     "data": {
      "application/javascript": [
       "\n",
       "            setTimeout(function() {\n",
       "                var nbb_cell_id = 10;\n",
       "                var nbb_unformatted_code = \"corpus = (\\n    st.CorpusFromParsedDocuments(filtered_df, category_col=\\\"title\\\", parsed_col=\\\"parse\\\")\\n    .build()\\n    .get_unigram_corpus()\\n    .compact(st.AssociationCompactor(2000))\\n)\";\n",
       "                var nbb_formatted_code = \"corpus = (\\n    st.CorpusFromParsedDocuments(filtered_df, category_col=\\\"title\\\", parsed_col=\\\"parse\\\")\\n    .build()\\n    .get_unigram_corpus()\\n    .compact(st.AssociationCompactor(2000))\\n)\";\n",
       "                var nbb_cells = Jupyter.notebook.get_cells();\n",
       "                for (var i = 0; i < nbb_cells.length; ++i) {\n",
       "                    if (nbb_cells[i].input_prompt_number == nbb_cell_id) {\n",
       "                        if (nbb_cells[i].get_text() == nbb_unformatted_code) {\n",
       "                             nbb_cells[i].set_text(nbb_formatted_code);\n",
       "                        }\n",
       "                        break;\n",
       "                    }\n",
       "                }\n",
       "            }, 500);\n",
       "            "
      ],
      "text/plain": [
       "<IPython.core.display.Javascript object>"
      ]
     },
     "metadata": {},
     "output_type": "display_data"
    }
   ],
   "source": [
    "corpus = (\n",
    "    st.CorpusFromParsedDocuments(filtered_df, category_col=\"title\", parsed_col=\"parse\")\n",
    "    .build()\n",
    "    .get_unigram_corpus()\n",
    "    .compact(st.AssociationCompactor(2000))\n",
    ")"
   ]
  },
  {
   "cell_type": "code",
   "execution_count": 11,
   "id": "3500745b",
   "metadata": {
    "ExecuteTime": {
     "end_time": "2021-07-20T01:55:41.461829Z",
     "start_time": "2021-07-20T01:55:40.410126Z"
    }
   },
   "outputs": [
    {
     "data": {
      "text/plain": [
       "1608035"
      ]
     },
     "execution_count": 11,
     "metadata": {},
     "output_type": "execute_result"
    },
    {
     "data": {
      "application/javascript": [
       "\n",
       "            setTimeout(function() {\n",
       "                var nbb_cell_id = 11;\n",
       "                var nbb_unformatted_code = \"html = st.produce_scattertext_explorer(\\n    corpus,\\n    category=\\\"data scientist\\\",\\n    category_name=\\\"Data scientist\\\",\\n    not_category_name=\\\"Data Engineer\\\",\\n    minimum_term_frequency=5,\\n    pmi_threshold_coefficient=0,\\n    width_in_pixels=1000,\\n    metadata=corpus.get_df()[\\\"page_host\\\"],\\n    transform=st.Scalers.dense_rank,\\n)\\nopen(\\\"data_science_vs_data_engineer_terms_task.html\\\", \\\"w\\\").write(html)\";\n",
       "                var nbb_formatted_code = \"html = st.produce_scattertext_explorer(\\n    corpus,\\n    category=\\\"data scientist\\\",\\n    category_name=\\\"Data scientist\\\",\\n    not_category_name=\\\"Data Engineer\\\",\\n    minimum_term_frequency=5,\\n    pmi_threshold_coefficient=0,\\n    width_in_pixels=1000,\\n    metadata=corpus.get_df()[\\\"page_host\\\"],\\n    transform=st.Scalers.dense_rank,\\n)\\nopen(\\\"data_science_vs_data_engineer_terms_task.html\\\", \\\"w\\\").write(html)\";\n",
       "                var nbb_cells = Jupyter.notebook.get_cells();\n",
       "                for (var i = 0; i < nbb_cells.length; ++i) {\n",
       "                    if (nbb_cells[i].input_prompt_number == nbb_cell_id) {\n",
       "                        if (nbb_cells[i].get_text() == nbb_unformatted_code) {\n",
       "                             nbb_cells[i].set_text(nbb_formatted_code);\n",
       "                        }\n",
       "                        break;\n",
       "                    }\n",
       "                }\n",
       "            }, 500);\n",
       "            "
      ],
      "text/plain": [
       "<IPython.core.display.Javascript object>"
      ]
     },
     "metadata": {},
     "output_type": "display_data"
    }
   ],
   "source": [
    "html = st.produce_scattertext_explorer(\n",
    "    corpus,\n",
    "    category=\"data scientist\",\n",
    "    category_name=\"Data scientist\",\n",
    "    not_category_name=\"Data Engineer\",\n",
    "    minimum_term_frequency=5,\n",
    "    pmi_threshold_coefficient=0,\n",
    "    width_in_pixels=1000,\n",
    "    metadata=corpus.get_df()[\"page_host\"],\n",
    "    transform=st.Scalers.dense_rank,\n",
    ")\n",
    "open(\"data_science_vs_data_engineer_terms_task.html\", \"w\").write(html)"
   ]
  },
  {
   "cell_type": "markdown",
   "id": "8851e9f1",
   "metadata": {},
   "source": [
    "## Phrases"
   ]
  },
  {
   "cell_type": "code",
   "execution_count": 12,
   "id": "d79305e4",
   "metadata": {
    "ExecuteTime": {
     "end_time": "2021-07-20T01:55:41.916396Z",
     "start_time": "2021-07-20T01:55:41.462786Z"
    }
   },
   "outputs": [
    {
     "data": {
      "text/plain": [
       "<pytextrank.base.BaseTextRankFactory at 0x7f33d41cd490>"
      ]
     },
     "execution_count": 12,
     "metadata": {},
     "output_type": "execute_result"
    },
    {
     "data": {
      "application/javascript": [
       "\n",
       "            setTimeout(function() {\n",
       "                var nbb_cell_id = 12;\n",
       "                var nbb_unformatted_code = \"import pytextrank, spacy\\nimport scattertext as st\\n\\nnlp = spacy.load(\\\"en_core_web_sm\\\")\\nnlp.add_pipe(\\\"textrank\\\", last=True)\";\n",
       "                var nbb_formatted_code = \"import pytextrank, spacy\\nimport scattertext as st\\n\\nnlp = spacy.load(\\\"en_core_web_sm\\\")\\nnlp.add_pipe(\\\"textrank\\\", last=True)\";\n",
       "                var nbb_cells = Jupyter.notebook.get_cells();\n",
       "                for (var i = 0; i < nbb_cells.length; ++i) {\n",
       "                    if (nbb_cells[i].input_prompt_number == nbb_cell_id) {\n",
       "                        if (nbb_cells[i].get_text() == nbb_unformatted_code) {\n",
       "                             nbb_cells[i].set_text(nbb_formatted_code);\n",
       "                        }\n",
       "                        break;\n",
       "                    }\n",
       "                }\n",
       "            }, 500);\n",
       "            "
      ],
      "text/plain": [
       "<IPython.core.display.Javascript object>"
      ]
     },
     "metadata": {},
     "output_type": "display_data"
    }
   ],
   "source": [
    "import pytextrank, spacy\n",
    "import scattertext as st\n",
    "\n",
    "nlp = spacy.load(\"en_core_web_sm\")\n",
    "nlp.add_pipe(\"textrank\", last=True)"
   ]
  },
  {
   "cell_type": "code",
   "execution_count": 13,
   "id": "a1722d9b",
   "metadata": {
    "ExecuteTime": {
     "end_time": "2021-07-20T01:56:10.607205Z",
     "start_time": "2021-07-20T01:55:41.917368Z"
    }
   },
   "outputs": [
    {
     "data": {
      "application/javascript": [
       "\n",
       "            setTimeout(function() {\n",
       "                var nbb_cell_id = 13;\n",
       "                var nbb_unformatted_code = \"filtered_df = filtered_df.assign(\\n    parse=lambda df: df[analyze_col].apply(nlp),\\n    position=lambda df: df.title.apply(\\n        {\\\"data scientist\\\": \\\"Data scientist\\\", \\\"data engineer\\\": \\\"Data engineer\\\"}.get\\n    ),\\n)\";\n",
       "                var nbb_formatted_code = \"filtered_df = filtered_df.assign(\\n    parse=lambda df: df[analyze_col].apply(nlp),\\n    position=lambda df: df.title.apply(\\n        {\\\"data scientist\\\": \\\"Data scientist\\\", \\\"data engineer\\\": \\\"Data engineer\\\"}.get\\n    ),\\n)\";\n",
       "                var nbb_cells = Jupyter.notebook.get_cells();\n",
       "                for (var i = 0; i < nbb_cells.length; ++i) {\n",
       "                    if (nbb_cells[i].input_prompt_number == nbb_cell_id) {\n",
       "                        if (nbb_cells[i].get_text() == nbb_unformatted_code) {\n",
       "                             nbb_cells[i].set_text(nbb_formatted_code);\n",
       "                        }\n",
       "                        break;\n",
       "                    }\n",
       "                }\n",
       "            }, 500);\n",
       "            "
      ],
      "text/plain": [
       "<IPython.core.display.Javascript object>"
      ]
     },
     "metadata": {},
     "output_type": "display_data"
    }
   ],
   "source": [
    "filtered_df = filtered_df.assign(\n",
    "    parse=lambda df: df[analyze_col].apply(nlp),\n",
    "    position=lambda df: df.title.apply(\n",
    "        {\"data scientist\": \"Data scientist\", \"data engineer\": \"Data engineer\"}.get\n",
    "    ),\n",
    ")"
   ]
  },
  {
   "cell_type": "code",
   "execution_count": 14,
   "id": "05bfe280",
   "metadata": {
    "ExecuteTime": {
     "end_time": "2021-07-20T01:56:11.570525Z",
     "start_time": "2021-07-20T01:56:10.608280Z"
    }
   },
   "outputs": [
    {
     "name": "stderr",
     "output_type": "stream",
     "text": [
      "/home/user/Data-science/venv/lib/python3.8/site-packages/scattertext/termscoring/ScaledFScore.py:129: RuntimeWarning: invalid value encountered in true_divide\n",
      "  precision = (cat_word_counts * 1. / (cat_word_counts + not_cat_word_counts))\n",
      "/home/user/Data-science/venv/lib/python3.8/site-packages/scipy/stats/_distn_infrastructure.py:1847: RuntimeWarning: invalid value encountered in greater_equal\n",
      "  cond2 = (x >= np.asarray(_b)) & cond0\n"
     ]
    },
    {
     "data": {
      "application/javascript": [
       "\n",
       "            setTimeout(function() {\n",
       "                var nbb_cell_id = 14;\n",
       "                var nbb_unformatted_code = \"corpus = (\\n    st.CorpusFromParsedDocuments(\\n        filtered_df,\\n        category_col=\\\"title\\\",\\n        parsed_col=\\\"parse\\\",\\n        feats_from_spacy_doc=st.PyTextRankPhrases(),\\n    )\\n    .build()\\n    .get_unigram_corpus()\\n    .compact(st.AssociationCompactor(2000, use_non_text_features=True))\\n)\";\n",
       "                var nbb_formatted_code = \"corpus = (\\n    st.CorpusFromParsedDocuments(\\n        filtered_df,\\n        category_col=\\\"title\\\",\\n        parsed_col=\\\"parse\\\",\\n        feats_from_spacy_doc=st.PyTextRankPhrases(),\\n    )\\n    .build()\\n    .get_unigram_corpus()\\n    .compact(st.AssociationCompactor(2000, use_non_text_features=True))\\n)\";\n",
       "                var nbb_cells = Jupyter.notebook.get_cells();\n",
       "                for (var i = 0; i < nbb_cells.length; ++i) {\n",
       "                    if (nbb_cells[i].input_prompt_number == nbb_cell_id) {\n",
       "                        if (nbb_cells[i].get_text() == nbb_unformatted_code) {\n",
       "                             nbb_cells[i].set_text(nbb_formatted_code);\n",
       "                        }\n",
       "                        break;\n",
       "                    }\n",
       "                }\n",
       "            }, 500);\n",
       "            "
      ],
      "text/plain": [
       "<IPython.core.display.Javascript object>"
      ]
     },
     "metadata": {},
     "output_type": "display_data"
    }
   ],
   "source": [
    "corpus = (\n",
    "    st.CorpusFromParsedDocuments(\n",
    "        filtered_df,\n",
    "        category_col=\"title\",\n",
    "        parsed_col=\"parse\",\n",
    "        feats_from_spacy_doc=st.PyTextRankPhrases(),\n",
    "    )\n",
    "    .build()\n",
    "    .get_unigram_corpus()\n",
    "    .compact(st.AssociationCompactor(2000, use_non_text_features=True))\n",
    ")"
   ]
  },
  {
   "cell_type": "code",
   "execution_count": 15,
   "id": "4ad599cd",
   "metadata": {
    "ExecuteTime": {
     "end_time": "2021-07-20T01:56:11.609740Z",
     "start_time": "2021-07-20T01:56:11.571488Z"
    }
   },
   "outputs": [
    {
     "name": "stdout",
     "output_type": "stream",
     "text": [
      "                                                    data scientist  \\\n",
      "term                                                                 \n",
      "Bachelor                                                  0.633226   \n",
      "Explain                                                   0.196449   \n",
      "relationships                                             0.551930   \n",
      "Improve                                                   0.159983   \n",
      "SQL                                                       1.171628   \n",
      "...                                                            ...   \n",
      "Participate management database                           0.000000   \n",
      "BigData Hadoop Spark Yarn Oozie Scala Agile TDD...        0.000000   \n",
      "NoSQL Cloud                                               0.000000   \n",
      "Microsoft Azure Architect                                 0.000000   \n",
      "Atlanta GA Full time Design                               0.000000   \n",
      "\n",
      "                                                    data engineer  \n",
      "term                                                               \n",
      "Bachelor                                                 0.394239  \n",
      "Explain                                                  0.000000  \n",
      "relationships                                            0.028339  \n",
      "Improve                                                  0.300278  \n",
      "SQL                                                      2.659187  \n",
      "...                                                           ...  \n",
      "Participate management database                          0.197112  \n",
      "BigData Hadoop Spark Yarn Oozie Scala Agile TDD...       0.242155  \n",
      "NoSQL Cloud                                              0.204269  \n",
      "Microsoft Azure Architect                                0.167601  \n",
      "Atlanta GA Full time Design                              0.076271  \n",
      "\n",
      "[2000 rows x 2 columns]\n"
     ]
    },
    {
     "data": {
      "application/javascript": [
       "\n",
       "            setTimeout(function() {\n",
       "                var nbb_cell_id = 15;\n",
       "                var nbb_unformatted_code = \"term_category_scores = corpus.get_metadata_freq_df(\\\"\\\")\\nprint(term_category_scores)\";\n",
       "                var nbb_formatted_code = \"term_category_scores = corpus.get_metadata_freq_df(\\\"\\\")\\nprint(term_category_scores)\";\n",
       "                var nbb_cells = Jupyter.notebook.get_cells();\n",
       "                for (var i = 0; i < nbb_cells.length; ++i) {\n",
       "                    if (nbb_cells[i].input_prompt_number == nbb_cell_id) {\n",
       "                        if (nbb_cells[i].get_text() == nbb_unformatted_code) {\n",
       "                             nbb_cells[i].set_text(nbb_formatted_code);\n",
       "                        }\n",
       "                        break;\n",
       "                    }\n",
       "                }\n",
       "            }, 500);\n",
       "            "
      ],
      "text/plain": [
       "<IPython.core.display.Javascript object>"
      ]
     },
     "metadata": {},
     "output_type": "display_data"
    }
   ],
   "source": [
    "term_category_scores = corpus.get_metadata_freq_df(\"\")\n",
    "print(term_category_scores)"
   ]
  },
  {
   "cell_type": "code",
   "execution_count": 16,
   "id": "d7727bb5",
   "metadata": {
    "ExecuteTime": {
     "end_time": "2021-07-20T01:56:11.643126Z",
     "start_time": "2021-07-20T01:56:11.610612Z"
    }
   },
   "outputs": [
    {
     "data": {
      "application/javascript": [
       "\n",
       "            setTimeout(function() {\n",
       "                var nbb_cell_id = 16;\n",
       "                var nbb_unformatted_code = \"import numpy as np\";\n",
       "                var nbb_formatted_code = \"import numpy as np\";\n",
       "                var nbb_cells = Jupyter.notebook.get_cells();\n",
       "                for (var i = 0; i < nbb_cells.length; ++i) {\n",
       "                    if (nbb_cells[i].input_prompt_number == nbb_cell_id) {\n",
       "                        if (nbb_cells[i].get_text() == nbb_unformatted_code) {\n",
       "                             nbb_cells[i].set_text(nbb_formatted_code);\n",
       "                        }\n",
       "                        break;\n",
       "                    }\n",
       "                }\n",
       "            }, 500);\n",
       "            "
      ],
      "text/plain": [
       "<IPython.core.display.Javascript object>"
      ]
     },
     "metadata": {},
     "output_type": "display_data"
    }
   ],
   "source": [
    "import numpy as np"
   ]
  },
  {
   "cell_type": "code",
   "execution_count": 17,
   "id": "7da7cc8a",
   "metadata": {
    "ExecuteTime": {
     "end_time": "2021-07-20T01:56:11.719578Z",
     "start_time": "2021-07-20T01:56:11.643899Z"
    }
   },
   "outputs": [
    {
     "data": {
      "application/javascript": [
       "\n",
       "            setTimeout(function() {\n",
       "                var nbb_cell_id = 17;\n",
       "                var nbb_unformatted_code = \"term_ranks = np.argsort(np.argsort(-term_category_scores, axis=0), axis=0) + 1\\nmetadata_descriptions = {\\n    term: '<br/>' + '<br/>'.join(\\n        '<b>%s</b> TextRank score rank: %s/%s' % (cat, term_ranks.loc[term, cat], corpus.get_num_metadata())\\n        for cat in corpus.get_categories())\\n    for term in corpus.get_metadata()\\n}\";\n",
       "                var nbb_formatted_code = \"term_ranks = np.argsort(np.argsort(-term_category_scores, axis=0), axis=0) + 1\\nmetadata_descriptions = {\\n    term: \\\"<br/>\\\"\\n    + \\\"<br/>\\\".join(\\n        \\\"<b>%s</b> TextRank score rank: %s/%s\\\"\\n        % (cat, term_ranks.loc[term, cat], corpus.get_num_metadata())\\n        for cat in corpus.get_categories()\\n    )\\n    for term in corpus.get_metadata()\\n}\";\n",
       "                var nbb_cells = Jupyter.notebook.get_cells();\n",
       "                for (var i = 0; i < nbb_cells.length; ++i) {\n",
       "                    if (nbb_cells[i].input_prompt_number == nbb_cell_id) {\n",
       "                        if (nbb_cells[i].get_text() == nbb_unformatted_code) {\n",
       "                             nbb_cells[i].set_text(nbb_formatted_code);\n",
       "                        }\n",
       "                        break;\n",
       "                    }\n",
       "                }\n",
       "            }, 500);\n",
       "            "
      ],
      "text/plain": [
       "<IPython.core.display.Javascript object>"
      ]
     },
     "metadata": {},
     "output_type": "display_data"
    }
   ],
   "source": [
    "term_ranks = np.argsort(np.argsort(-term_category_scores, axis=0), axis=0) + 1\n",
    "metadata_descriptions = {\n",
    "    term: '<br/>' + '<br/>'.join(\n",
    "        '<b>%s</b> TextRank score rank: %s/%s' % (cat, term_ranks.loc[term, cat], corpus.get_num_metadata())\n",
    "        for cat in corpus.get_categories())\n",
    "    for term in corpus.get_metadata()\n",
    "}\n"
   ]
  },
  {
   "cell_type": "code",
   "execution_count": 18,
   "id": "770fd17e",
   "metadata": {
    "ExecuteTime": {
     "end_time": "2021-07-20T01:56:11.787478Z",
     "start_time": "2021-07-20T01:56:11.721116Z"
    }
   },
   "outputs": [
    {
     "data": {
      "application/javascript": [
       "\n",
       "            setTimeout(function() {\n",
       "                var nbb_cell_id = 18;\n",
       "                var nbb_unformatted_code = \"category_specific_prominence = term_category_scores.apply(\\n    lambda r: r['data scientist'] if r['data scientist'] > r['data engineer'] else -r['data engineer'],\\n    axis=1\\n)\";\n",
       "                var nbb_formatted_code = \"category_specific_prominence = term_category_scores.apply(\\n    lambda r: r[\\\"data scientist\\\"]\\n    if r[\\\"data scientist\\\"] > r[\\\"data engineer\\\"]\\n    else -r[\\\"data engineer\\\"],\\n    axis=1,\\n)\";\n",
       "                var nbb_cells = Jupyter.notebook.get_cells();\n",
       "                for (var i = 0; i < nbb_cells.length; ++i) {\n",
       "                    if (nbb_cells[i].input_prompt_number == nbb_cell_id) {\n",
       "                        if (nbb_cells[i].get_text() == nbb_unformatted_code) {\n",
       "                             nbb_cells[i].set_text(nbb_formatted_code);\n",
       "                        }\n",
       "                        break;\n",
       "                    }\n",
       "                }\n",
       "            }, 500);\n",
       "            "
      ],
      "text/plain": [
       "<IPython.core.display.Javascript object>"
      ]
     },
     "metadata": {},
     "output_type": "display_data"
    }
   ],
   "source": [
    "category_specific_prominence = term_category_scores.apply(\n",
    "    lambda r: r['data scientist'] if r['data scientist'] > r['data engineer'] else -r['data engineer'],\n",
    "    axis=1\n",
    ")\n"
   ]
  },
  {
   "cell_type": "code",
   "execution_count": 19,
   "id": "a5cffe87",
   "metadata": {
    "ExecuteTime": {
     "end_time": "2021-07-20T01:56:12.000046Z",
     "start_time": "2021-07-20T01:56:11.788919Z"
    }
   },
   "outputs": [
    {
     "data": {
      "application/javascript": [
       "\n",
       "            setTimeout(function() {\n",
       "                var nbb_cell_id = 19;\n",
       "                var nbb_unformatted_code = \"html = st.produce_scattertext_explorer(\\n    corpus,\\n    category=\\\"data scientist\\\",\\n    category_name=\\\"Data scientist\\\",\\n    not_category_name=\\\"Data Engineer\\\",\\n    minimum_term_frequency=0,\\n    pmi_threshold_coefficient=0,\\n    width_in_pixels=1000,\\n    transform=st.Scalers.dense_rank,\\n    metadata=corpus.get_df()[\\\"page_host\\\"],\\n    scores=category_specific_prominence,\\n    sort_by_dist=False,\\n    use_non_text_features=True,\\n    topic_model_term_lists={term: [term] for term in corpus.get_metadata()},\\n    topic_model_preview_size=0,\\n    metadata_descriptions=metadata_descriptions,\\n    use_full_doc=True,\\n)\";\n",
       "                var nbb_formatted_code = \"html = st.produce_scattertext_explorer(\\n    corpus,\\n    category=\\\"data scientist\\\",\\n    category_name=\\\"Data scientist\\\",\\n    not_category_name=\\\"Data Engineer\\\",\\n    minimum_term_frequency=0,\\n    pmi_threshold_coefficient=0,\\n    width_in_pixels=1000,\\n    transform=st.Scalers.dense_rank,\\n    metadata=corpus.get_df()[\\\"page_host\\\"],\\n    scores=category_specific_prominence,\\n    sort_by_dist=False,\\n    use_non_text_features=True,\\n    topic_model_term_lists={term: [term] for term in corpus.get_metadata()},\\n    topic_model_preview_size=0,\\n    metadata_descriptions=metadata_descriptions,\\n    use_full_doc=True,\\n)\";\n",
       "                var nbb_cells = Jupyter.notebook.get_cells();\n",
       "                for (var i = 0; i < nbb_cells.length; ++i) {\n",
       "                    if (nbb_cells[i].input_prompt_number == nbb_cell_id) {\n",
       "                        if (nbb_cells[i].get_text() == nbb_unformatted_code) {\n",
       "                             nbb_cells[i].set_text(nbb_formatted_code);\n",
       "                        }\n",
       "                        break;\n",
       "                    }\n",
       "                }\n",
       "            }, 500);\n",
       "            "
      ],
      "text/plain": [
       "<IPython.core.display.Javascript object>"
      ]
     },
     "metadata": {},
     "output_type": "display_data"
    }
   ],
   "source": [
    "html = st.produce_scattertext_explorer(\n",
    "    corpus,\n",
    "    category=\"data scientist\",\n",
    "    category_name=\"Data scientist\",\n",
    "    not_category_name=\"Data Engineer\",\n",
    "    minimum_term_frequency=0,\n",
    "    pmi_threshold_coefficient=0,\n",
    "    width_in_pixels=1000,\n",
    "    transform=st.Scalers.dense_rank,\n",
    "    metadata=corpus.get_df()[\"page_host\"],\n",
    "    scores=category_specific_prominence,\n",
    "    sort_by_dist=False,\n",
    "    use_non_text_features=True,\n",
    "    topic_model_term_lists={term: [term] for term in corpus.get_metadata()},\n",
    "    topic_model_preview_size=0,\n",
    "    metadata_descriptions=metadata_descriptions,\n",
    "    use_full_doc=True,\n",
    ")"
   ]
  },
  {
   "cell_type": "code",
   "execution_count": 20,
   "id": "3dfba664",
   "metadata": {
    "ExecuteTime": {
     "end_time": "2021-07-20T01:56:12.038786Z",
     "start_time": "2021-07-20T01:56:12.001269Z"
    }
   },
   "outputs": [
    {
     "data": {
      "text/plain": [
       "2501920"
      ]
     },
     "execution_count": 20,
     "metadata": {},
     "output_type": "execute_result"
    },
    {
     "data": {
      "application/javascript": [
       "\n",
       "            setTimeout(function() {\n",
       "                var nbb_cell_id = 20;\n",
       "                var nbb_unformatted_code = \"open(\\\"./data_scientist_vs_data_engineer_task.html\\\", \\\"w\\\").write(html)\";\n",
       "                var nbb_formatted_code = \"open(\\\"./data_scientist_vs_data_engineer_task.html\\\", \\\"w\\\").write(html)\";\n",
       "                var nbb_cells = Jupyter.notebook.get_cells();\n",
       "                for (var i = 0; i < nbb_cells.length; ++i) {\n",
       "                    if (nbb_cells[i].input_prompt_number == nbb_cell_id) {\n",
       "                        if (nbb_cells[i].get_text() == nbb_unformatted_code) {\n",
       "                             nbb_cells[i].set_text(nbb_formatted_code);\n",
       "                        }\n",
       "                        break;\n",
       "                    }\n",
       "                }\n",
       "            }, 500);\n",
       "            "
      ],
      "text/plain": [
       "<IPython.core.display.Javascript object>"
      ]
     },
     "metadata": {},
     "output_type": "display_data"
    }
   ],
   "source": [
    "open(\"./data_scientist_vs_data_engineer_task.html\", \"w\").write(html)"
   ]
  },
  {
   "cell_type": "code",
   "execution_count": null,
   "id": "75f602ab",
   "metadata": {},
   "outputs": [],
   "source": []
  },
  {
   "cell_type": "code",
   "execution_count": null,
   "id": "6309defd",
   "metadata": {},
   "outputs": [],
   "source": []
  }
 ],
 "metadata": {
  "kernelspec": {
   "display_name": "Python 3",
   "language": "python",
   "name": "python3"
  },
  "language_info": {
   "codemirror_mode": {
    "name": "ipython",
    "version": 3
   },
   "file_extension": ".py",
   "mimetype": "text/x-python",
   "name": "python",
   "nbconvert_exporter": "python",
   "pygments_lexer": "ipython3",
   "version": "3.8.1"
  },
  "toc": {
   "base_numbering": 1,
   "nav_menu": {},
   "number_sections": true,
   "sideBar": true,
   "skip_h1_title": false,
   "title_cell": "Table of Contents",
   "title_sidebar": "Contents",
   "toc_cell": false,
   "toc_position": {},
   "toc_section_display": true,
   "toc_window_display": false
  }
 },
 "nbformat": 4,
 "nbformat_minor": 5
}
