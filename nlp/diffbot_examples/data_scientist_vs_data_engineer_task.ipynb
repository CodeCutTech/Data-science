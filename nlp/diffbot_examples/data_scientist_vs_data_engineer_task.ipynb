{
 "cells": [
  {
   "cell_type": "markdown",
   "id": "a38f4355",
   "metadata": {},
   "source": [
    "## Process data"
   ]
  },
  {
   "cell_type": "code",
   "execution_count": 25,
   "id": "819a7ca1",
   "metadata": {
    "ExecuteTime": {
     "end_time": "2021-07-25T18:50:12.096706Z",
     "start_time": "2021-07-25T18:50:12.035528Z"
    }
   },
   "outputs": [
    {
     "data": {
      "application/javascript": [
       "\n",
       "            setTimeout(function() {\n",
       "                var nbb_cell_id = 25;\n",
       "                var nbb_unformatted_code = \"import pandas as pd\\n\\ndf = pd.read_pickle(\\\"processed_df.pkl\\\")\";\n",
       "                var nbb_formatted_code = \"import pandas as pd\\n\\ndf = pd.read_pickle(\\\"processed_df.pkl\\\")\";\n",
       "                var nbb_cells = Jupyter.notebook.get_cells();\n",
       "                for (var i = 0; i < nbb_cells.length; ++i) {\n",
       "                    if (nbb_cells[i].input_prompt_number == nbb_cell_id) {\n",
       "                        if (nbb_cells[i].get_text() == nbb_unformatted_code) {\n",
       "                             nbb_cells[i].set_text(nbb_formatted_code);\n",
       "                        }\n",
       "                        break;\n",
       "                    }\n",
       "                }\n",
       "            }, 500);\n",
       "            "
      ],
      "text/plain": [
       "<IPython.core.display.Javascript object>"
      ]
     },
     "metadata": {},
     "output_type": "display_data"
    }
   ],
   "source": [
    "import pandas as pd\n",
    "\n",
    "df = pd.read_pickle(\"processed_df.pkl\")"
   ]
  },
  {
   "cell_type": "markdown",
   "id": "20b4dbd4",
   "metadata": {},
   "source": [
    "## Terms"
   ]
  },
  {
   "cell_type": "code",
   "execution_count": 26,
   "id": "0cf7abfb",
   "metadata": {
    "ExecuteTime": {
     "end_time": "2021-07-25T18:50:12.764993Z",
     "start_time": "2021-07-25T18:50:12.722382Z"
    }
   },
   "outputs": [
    {
     "data": {
      "application/javascript": [
       "\n",
       "            setTimeout(function() {\n",
       "                var nbb_cell_id = 26;\n",
       "                var nbb_unformatted_code = \"import re\\nimport scattertext as st\";\n",
       "                var nbb_formatted_code = \"import re\\nimport scattertext as st\";\n",
       "                var nbb_cells = Jupyter.notebook.get_cells();\n",
       "                for (var i = 0; i < nbb_cells.length; ++i) {\n",
       "                    if (nbb_cells[i].input_prompt_number == nbb_cell_id) {\n",
       "                        if (nbb_cells[i].get_text() == nbb_unformatted_code) {\n",
       "                             nbb_cells[i].set_text(nbb_formatted_code);\n",
       "                        }\n",
       "                        break;\n",
       "                    }\n",
       "                }\n",
       "            }, 500);\n",
       "            "
      ],
      "text/plain": [
       "<IPython.core.display.Javascript object>"
      ]
     },
     "metadata": {},
     "output_type": "display_data"
    }
   ],
   "source": [
    "import re\n",
    "import scattertext as st"
   ]
  },
  {
   "cell_type": "code",
   "execution_count": 27,
   "id": "de97d21f",
   "metadata": {
    "ExecuteTime": {
     "end_time": "2021-07-25T18:50:13.427842Z",
     "start_time": "2021-07-25T18:50:13.390007Z"
    }
   },
   "outputs": [
    {
     "data": {
      "application/javascript": [
       "\n",
       "            setTimeout(function() {\n",
       "                var nbb_cell_id = 27;\n",
       "                var nbb_unformatted_code = \"analyze_col = \\\"tasks\\\"\";\n",
       "                var nbb_formatted_code = \"analyze_col = \\\"tasks\\\"\";\n",
       "                var nbb_cells = Jupyter.notebook.get_cells();\n",
       "                for (var i = 0; i < nbb_cells.length; ++i) {\n",
       "                    if (nbb_cells[i].input_prompt_number == nbb_cell_id) {\n",
       "                        if (nbb_cells[i].get_text() == nbb_unformatted_code) {\n",
       "                             nbb_cells[i].set_text(nbb_formatted_code);\n",
       "                        }\n",
       "                        break;\n",
       "                    }\n",
       "                }\n",
       "            }, 500);\n",
       "            "
      ],
      "text/plain": [
       "<IPython.core.display.Javascript object>"
      ]
     },
     "metadata": {},
     "output_type": "display_data"
    }
   ],
   "source": [
    "analyze_col = \"tasks\""
   ]
  },
  {
   "cell_type": "code",
   "execution_count": 28,
   "id": "58ba6977",
   "metadata": {
    "ExecuteTime": {
     "end_time": "2021-07-25T18:50:14.087555Z",
     "start_time": "2021-07-25T18:50:14.038682Z"
    }
   },
   "outputs": [
    {
     "data": {
      "application/javascript": [
       "\n",
       "            setTimeout(function() {\n",
       "                var nbb_cell_id = 28;\n",
       "                var nbb_unformatted_code = \"filtered_df = df[~df[analyze_col].isna()][[\\\"title\\\", analyze_col, \\\"page_host\\\"]]\";\n",
       "                var nbb_formatted_code = \"filtered_df = df[~df[analyze_col].isna()][[\\\"title\\\", analyze_col, \\\"page_host\\\"]]\";\n",
       "                var nbb_cells = Jupyter.notebook.get_cells();\n",
       "                for (var i = 0; i < nbb_cells.length; ++i) {\n",
       "                    if (nbb_cells[i].input_prompt_number == nbb_cell_id) {\n",
       "                        if (nbb_cells[i].get_text() == nbb_unformatted_code) {\n",
       "                             nbb_cells[i].set_text(nbb_formatted_code);\n",
       "                        }\n",
       "                        break;\n",
       "                    }\n",
       "                }\n",
       "            }, 500);\n",
       "            "
      ],
      "text/plain": [
       "<IPython.core.display.Javascript object>"
      ]
     },
     "metadata": {},
     "output_type": "display_data"
    }
   ],
   "source": [
    "filtered_df = df[~df[analyze_col].isna()][[\"title\", analyze_col, \"page_host\"]]"
   ]
  },
  {
   "cell_type": "code",
   "execution_count": 29,
   "id": "37f96a64",
   "metadata": {
    "ExecuteTime": {
     "end_time": "2021-07-25T18:50:17.700111Z",
     "start_time": "2021-07-25T18:50:14.664045Z"
    }
   },
   "outputs": [
    {
     "data": {
      "application/javascript": [
       "\n",
       "            setTimeout(function() {\n",
       "                var nbb_cell_id = 29;\n",
       "                var nbb_unformatted_code = \"filtered_df[\\\"parse\\\"] = filtered_df[analyze_col].apply(st.whitespace_nlp_with_sentences)\";\n",
       "                var nbb_formatted_code = \"filtered_df[\\\"parse\\\"] = filtered_df[analyze_col].apply(st.whitespace_nlp_with_sentences)\";\n",
       "                var nbb_cells = Jupyter.notebook.get_cells();\n",
       "                for (var i = 0; i < nbb_cells.length; ++i) {\n",
       "                    if (nbb_cells[i].input_prompt_number == nbb_cell_id) {\n",
       "                        if (nbb_cells[i].get_text() == nbb_unformatted_code) {\n",
       "                             nbb_cells[i].set_text(nbb_formatted_code);\n",
       "                        }\n",
       "                        break;\n",
       "                    }\n",
       "                }\n",
       "            }, 500);\n",
       "            "
      ],
      "text/plain": [
       "<IPython.core.display.Javascript object>"
      ]
     },
     "metadata": {},
     "output_type": "display_data"
    }
   ],
   "source": [
    "filtered_df[\"parse\"] = filtered_df[analyze_col].apply(st.whitespace_nlp_with_sentences)"
   ]
  },
  {
   "cell_type": "code",
   "execution_count": 30,
   "id": "ea55e14d",
   "metadata": {
    "ExecuteTime": {
     "end_time": "2021-07-25T18:50:19.461319Z",
     "start_time": "2021-07-25T18:50:18.333813Z"
    }
   },
   "outputs": [
    {
     "data": {
      "application/javascript": [
       "\n",
       "            setTimeout(function() {\n",
       "                var nbb_cell_id = 30;\n",
       "                var nbb_unformatted_code = \"corpus = (\\n    st.CorpusFromParsedDocuments(filtered_df, category_col=\\\"title\\\", parsed_col=\\\"parse\\\")\\n    .build()\\n    .get_unigram_corpus()\\n    .compact(st.AssociationCompactor(2000))\\n)\";\n",
       "                var nbb_formatted_code = \"corpus = (\\n    st.CorpusFromParsedDocuments(filtered_df, category_col=\\\"title\\\", parsed_col=\\\"parse\\\")\\n    .build()\\n    .get_unigram_corpus()\\n    .compact(st.AssociationCompactor(2000))\\n)\";\n",
       "                var nbb_cells = Jupyter.notebook.get_cells();\n",
       "                for (var i = 0; i < nbb_cells.length; ++i) {\n",
       "                    if (nbb_cells[i].input_prompt_number == nbb_cell_id) {\n",
       "                        if (nbb_cells[i].get_text() == nbb_unformatted_code) {\n",
       "                             nbb_cells[i].set_text(nbb_formatted_code);\n",
       "                        }\n",
       "                        break;\n",
       "                    }\n",
       "                }\n",
       "            }, 500);\n",
       "            "
      ],
      "text/plain": [
       "<IPython.core.display.Javascript object>"
      ]
     },
     "metadata": {},
     "output_type": "display_data"
    }
   ],
   "source": [
    "corpus = (\n",
    "    st.CorpusFromParsedDocuments(filtered_df, category_col=\"title\", parsed_col=\"parse\")\n",
    "    .build()\n",
    "    .get_unigram_corpus()\n",
    "    .compact(st.AssociationCompactor(2000))\n",
    ")"
   ]
  },
  {
   "cell_type": "code",
   "execution_count": 31,
   "id": "3500745b",
   "metadata": {
    "ExecuteTime": {
     "end_time": "2021-07-25T18:50:21.779385Z",
     "start_time": "2021-07-25T18:50:20.130316Z"
    }
   },
   "outputs": [
    {
     "data": {
      "text/plain": [
       "1805457"
      ]
     },
     "execution_count": 31,
     "metadata": {},
     "output_type": "execute_result"
    },
    {
     "data": {
      "application/javascript": [
       "\n",
       "            setTimeout(function() {\n",
       "                var nbb_cell_id = 31;\n",
       "                var nbb_unformatted_code = \"html = st.produce_scattertext_explorer(\\n    corpus,\\n    category=\\\"data scientist\\\",\\n    category_name=\\\"Data scientist\\\",\\n    not_category_name=\\\"Data Engineer\\\",\\n    minimum_term_frequency=5,\\n    pmi_threshold_coefficient=0,\\n    width_in_pixels=1000,\\n    metadata=corpus.get_df()[\\\"page_host\\\"],\\n    transform=st.Scalers.dense_rank,\\n)\\nopen(\\\"data_science_vs_data_engineer_task_terms.html\\\", \\\"w\\\").write(html)\";\n",
       "                var nbb_formatted_code = \"html = st.produce_scattertext_explorer(\\n    corpus,\\n    category=\\\"data scientist\\\",\\n    category_name=\\\"Data scientist\\\",\\n    not_category_name=\\\"Data Engineer\\\",\\n    minimum_term_frequency=5,\\n    pmi_threshold_coefficient=0,\\n    width_in_pixels=1000,\\n    metadata=corpus.get_df()[\\\"page_host\\\"],\\n    transform=st.Scalers.dense_rank,\\n)\\nopen(\\\"data_science_vs_data_engineer_task_terms.html\\\", \\\"w\\\").write(html)\";\n",
       "                var nbb_cells = Jupyter.notebook.get_cells();\n",
       "                for (var i = 0; i < nbb_cells.length; ++i) {\n",
       "                    if (nbb_cells[i].input_prompt_number == nbb_cell_id) {\n",
       "                        if (nbb_cells[i].get_text() == nbb_unformatted_code) {\n",
       "                             nbb_cells[i].set_text(nbb_formatted_code);\n",
       "                        }\n",
       "                        break;\n",
       "                    }\n",
       "                }\n",
       "            }, 500);\n",
       "            "
      ],
      "text/plain": [
       "<IPython.core.display.Javascript object>"
      ]
     },
     "metadata": {},
     "output_type": "display_data"
    }
   ],
   "source": [
    "html = st.produce_scattertext_explorer(\n",
    "    corpus,\n",
    "    category=\"data scientist\",\n",
    "    category_name=\"Data scientist\",\n",
    "    not_category_name=\"Data Engineer\",\n",
    "    minimum_term_frequency=5,\n",
    "    pmi_threshold_coefficient=0,\n",
    "    width_in_pixels=1000,\n",
    "    metadata=corpus.get_df()[\"page_host\"],\n",
    "    transform=st.Scalers.dense_rank,\n",
    ")\n",
    "open(\"data_science_vs_data_engineer_task_terms.html\", \"w\").write(html)"
   ]
  }
 ],
 "metadata": {
  "hide_input": false,
  "kernelspec": {
   "display_name": "Python 3",
   "language": "python",
   "name": "python3"
  },
  "language_info": {
   "codemirror_mode": {
    "name": "ipython",
    "version": 3
   },
   "file_extension": ".py",
   "mimetype": "text/x-python",
   "name": "python",
   "nbconvert_exporter": "python",
   "pygments_lexer": "ipython3",
   "version": "3.8.10"
  },
  "toc": {
   "base_numbering": 1,
   "nav_menu": {},
   "number_sections": true,
   "sideBar": true,
   "skip_h1_title": false,
   "title_cell": "Table of Contents",
   "title_sidebar": "Contents",
   "toc_cell": false,
   "toc_position": {},
   "toc_section_display": true,
   "toc_window_display": false
  },
  "varInspector": {
   "cols": {
    "lenName": 16,
    "lenType": 16,
    "lenVar": 40
   },
   "kernels_config": {
    "python": {
     "delete_cmd_postfix": "",
     "delete_cmd_prefix": "del ",
     "library": "var_list.py",
     "varRefreshCmd": "print(var_dic_list())"
    },
    "r": {
     "delete_cmd_postfix": ") ",
     "delete_cmd_prefix": "rm(",
     "library": "var_list.r",
     "varRefreshCmd": "cat(var_dic_list()) "
    }
   },
   "types_to_exclude": [
    "module",
    "function",
    "builtin_function_or_method",
    "instance",
    "_Feature"
   ],
   "window_display": false
  }
 },
 "nbformat": 4,
 "nbformat_minor": 5
}
