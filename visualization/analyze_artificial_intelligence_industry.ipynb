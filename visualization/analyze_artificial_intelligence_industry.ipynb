{
 "cells": [
  {
   "cell_type": "markdown",
   "source": "[![View on GitHub](https://img.shields.io/badge/GitHub-View_on_GitHub-blue?logo=GitHub)](https://github.com/khuyentran1401/Data-science/blob/master/visualization/analyze_artificial_intelligence_industry.ipynb)\n\n[<img src=\"https://deepnote.com/buttons/launch-in-deepnote.svg\">](https://deepnote.com/project/Data-science-hxlyJpi-QrKFJziQgoMSmQ/%2FData-science%2Fvisualization%2Fanalyze_artificial_intelligence_industry.ipynb)",
   "metadata": {
    "tags": [],
    "cell_id": "00001-28b8f188-f68c-4130-9394-c06683499251",
    "deepnote_cell_type": "markdown"
   }
  },
  {
   "cell_type": "markdown",
<<<<<<< HEAD
   "id": "258d976a",
=======
   "source": "!wget -O 'artificial_intelligence.json' 'https://kg.diffbot.com/kg/dql_endpoint?type=query&token=your-token&query=type%3AOrganization+industries%3A%22Artificial+Intelligence+Companies%22&size=1000'",
>>>>>>> ef819c0bd33b4fc37495afc4aff1c3c5825d8547
   "metadata": {
    "ExecuteTime": {
     "end_time": "2021-10-03T15:39:26.904093Z",
     "start_time": "2021-10-03T15:39:11.752003Z"
<<<<<<< HEAD
    }
   },
   "source": [
    "!wget -O 'artificial_intelligence.json' 'https://kg.diffbot.com/kg/dql_endpoint?type=query&token=your-token&query=type%3AOrganization+industries%3A%22Artificial+Intelligence+Companies%22&size=1000'"
   ]
  },
  {
   "cell_type": "code",
   "execution_count": null,
   "id": "f96476c4",
   "metadata": {},
   "outputs": [],
   "source": [
    "import gdown\n",
    "\n",
    "url = \"https://drive.google.com/uc?id=1owa_NIBnj-Q5uwDyM2xBJeZPipjmkJsH\"\n",
    "output = \"artificial_intelligence.json\"\n",
    "\n",
    "gdown.download(url, output, quiet=False)"
   ]
=======
    },
    "cell_id": "00001-237697a7-5acf-40f9-8416-5c489027c8fd",
    "deepnote_cell_type": "markdown"
   }
>>>>>>> ef819c0bd33b4fc37495afc4aff1c3c5825d8547
  },
  {
   "cell_type": "code",
   "metadata": {
    "ExecuteTime": {
     "end_time": "2021-10-03T15:39:31.742642Z",
     "start_time": "2021-10-03T15:39:31.162964Z"
    },
    "cell_id": "00003-8d0d6fe2-925d-4a9b-b43e-ed818a2001cf",
    "deepnote_to_be_reexecuted": false,
    "source_hash": "4ecc0ffe",
    "execution_start": 1633435785663,
    "execution_millis": 744,
    "deepnote_cell_type": "code"
   },
   "source": "import json\n\nwith open(\"/datasets/artificialintelligence/artificial_intelligence.json\") as f:\n    output = json.load(f)",
   "execution_count": null,
   "outputs": []
  },
  {
   "cell_type": "code",
   "metadata": {
    "ExecuteTime": {
     "end_time": "2021-10-03T22:41:17.783049Z",
     "start_time": "2021-10-03T22:41:17.771697Z"
    },
    "cell_id": "00004-c855e023-846e-4b92-b116-cace9ea684e2",
    "deepnote_to_be_reexecuted": false,
    "source_hash": "3db1c13",
    "execution_start": 1633435787889,
    "execution_millis": 50,
    "deepnote_cell_type": "code"
   },
   "source": "data = output[\"data\"]",
   "execution_count": null,
   "outputs": []
  },
  {
   "cell_type": "code",
   "metadata": {
    "ExecuteTime": {
     "end_time": "2021-10-03T22:41:19.210302Z",
     "start_time": "2021-10-03T22:41:19.195813Z"
    },
<<<<<<< HEAD
    {
     "data": {
      "application/javascript": [
       "\n",
       "            setTimeout(function() {\n",
       "                var nbb_cell_id = 90;\n",
       "                var nbb_unformatted_code = \"data[0].keys()\";\n",
       "                var nbb_formatted_code = \"data[0].keys()\";\n",
       "                var nbb_cells = Jupyter.notebook.get_cells();\n",
       "                for (var i = 0; i < nbb_cells.length; ++i) {\n",
       "                    if (nbb_cells[i].input_prompt_number == nbb_cell_id) {\n",
       "                        if (nbb_cells[i].get_text() == nbb_unformatted_code) {\n",
       "                             nbb_cells[i].set_text(nbb_formatted_code);\n",
       "                        }\n",
       "                        break;\n",
       "                    }\n",
       "                }\n",
       "            }, 500);\n",
       "            "
      ],
      "text/plain": [
       "<IPython.core.display.Javascript object>"
      ]
     },
     "metadata": {},
     "output_type": "display_data"
    }
   ],
   "source": [
    "data[0].keys()"
   ]
  },
  {
   "cell_type": "code",
   "execution_count": 129,
   "id": "27cdfa4c",
   "metadata": {
    "ExecuteTime": {
     "end_time": "2021-10-04T00:19:52.839818Z",
     "start_time": "2021-10-04T00:19:52.824686Z"
    }
=======
    "cell_id": "00005-421d3690-2820-4e44-95f1-9575db0f5c1d",
    "deepnote_to_be_reexecuted": false,
    "source_hash": "14937887",
    "execution_start": 1633435787946,
    "execution_millis": 11,
    "deepnote_cell_type": "code"
>>>>>>> ef819c0bd33b4fc37495afc4aff1c3c5825d8547
   },
   "source": "data[0].keys()",
   "execution_count": null,
   "outputs": [
    {
     "output_type": "execute_result",
     "execution_count": 18,
     "data": {
      "text/plain": "dict_keys(['twitterUri', 'nbActiveEmployeeEdges', 'type', 'allNames', 'revenue', 'yearlyRevenues', 'logo', 'id', 'stock', 'nbOrigins', 'sicClassification', 'foundingDate', 'image', 'images', 'wikipediaUri', 'irsEmployerIdentificationNumbers', 'diffbotUri', 'nbIncomingEdges', 'nbEmployeesMin', 'ipo', 'parentCompany', 'angellistUri', 'name', 'motto', 'nbEmployeesMax', 'totalInvestment', 'allOriginHashes', 'linkedInUri', 'naicsClassification', 'nbEmployees', 'githubUri', 'isDissolved', 'importance', 'origin', 'description', 'homepageUri', 'founders', 'ceo', 'investments', 'blogUri', 'descriptors', 'isNonProfit', 'origins', 'isPublic', 'categories', 'crawlTimestamp', 'nbUniqueInvestors', 'facebookUri', 'secCentralIndexKeys', 'summary', 'types', 'boardMembers', 'allUris', 'nbLocations', 'crunchbaseUri', 'industries', 'allDescriptions', 'location', 'locations', 'subsidiaries'])"
     },
     "metadata": {}
    }
   ]
  },
  {
   "cell_type": "code",
   "metadata": {
    "ExecuteTime": {
     "end_time": "2021-10-03T22:41:33.567564Z",
     "start_time": "2021-10-03T22:41:33.545502Z"
<<<<<<< HEAD
    }
   },
   "outputs": [
    {
     "data": {
      "application/javascript": [
       "\n",
       "            setTimeout(function() {\n",
       "                var nbb_cell_id = 95;\n",
       "                var nbb_unformatted_code = \"from datetime import datetime\\n\\ndef get_founding_year(company: dict):\\n    date_str = company.get(\\\"foundingDate\\\", {}).get(\\\"str\\\")\\n    if date_str:\\n        return date_str.split(\\\"-\\\")[0][1:]\\n    return date_str\";\n",
       "                var nbb_formatted_code = \"from datetime import datetime\\n\\n\\ndef get_founding_year(company: dict):\\n    date_str = company.get(\\\"foundingDate\\\", {}).get(\\\"str\\\")\\n    if date_str:\\n        return date_str.split(\\\"-\\\")[0][1:]\\n    return date_str\";\n",
       "                var nbb_cells = Jupyter.notebook.get_cells();\n",
       "                for (var i = 0; i < nbb_cells.length; ++i) {\n",
       "                    if (nbb_cells[i].input_prompt_number == nbb_cell_id) {\n",
       "                        if (nbb_cells[i].get_text() == nbb_unformatted_code) {\n",
       "                             nbb_cells[i].set_text(nbb_formatted_code);\n",
       "                        }\n",
       "                        break;\n",
       "                    }\n",
       "                }\n",
       "            }, 500);\n",
       "            "
      ],
      "text/plain": [
       "<IPython.core.display.Javascript object>"
      ]
     },
     "metadata": {},
     "output_type": "display_data"
    }
   ],
   "source": [
    "from datetime import datetime\n",
    "\n",
    "def get_founding_year(company: dict):\n",
    "    date_str = company.get(\"foundingDate\", {}).get(\"str\")\n",
    "    if date_str:\n",
    "        return date_str.split(\"-\")[0][1:]\n",
    "    return date_str"
   ]
  },
  {
   "cell_type": "code",
   "execution_count": 143,
   "id": "7b5d1cd1",
   "metadata": {
    "ExecuteTime": {
     "end_time": "2021-10-04T19:37:47.989105Z",
     "start_time": "2021-10-04T19:37:47.978744Z"
    }
   },
   "outputs": [
    {
     "data": {
      "application/javascript": [
       "\n",
       "            setTimeout(function() {\n",
       "                var nbb_cell_id = 143;\n",
       "                var nbb_unformatted_code = \"import pandas as pd\";\n",
       "                var nbb_formatted_code = \"import pandas as pd\";\n",
       "                var nbb_cells = Jupyter.notebook.get_cells();\n",
       "                for (var i = 0; i < nbb_cells.length; ++i) {\n",
       "                    if (nbb_cells[i].input_prompt_number == nbb_cell_id) {\n",
       "                        if (nbb_cells[i].get_text() == nbb_unformatted_code) {\n",
       "                             nbb_cells[i].set_text(nbb_formatted_code);\n",
       "                        }\n",
       "                        break;\n",
       "                    }\n",
       "                }\n",
       "            }, 500);\n",
       "            "
      ],
      "text/plain": [
       "<IPython.core.display.Javascript object>"
      ]
     },
     "metadata": {},
     "output_type": "display_data"
    }
   ],
   "source": [
    "import pandas as pd"
   ]
  },
  {
   "cell_type": "code",
   "execution_count": 144,
   "id": "277816f5",
   "metadata": {
    "ExecuteTime": {
     "end_time": "2021-10-04T19:37:56.338106Z",
     "start_time": "2021-10-04T19:37:56.241307Z"
    }
   },
   "outputs": [
    {
     "data": {
      "application/javascript": [
       "\n",
       "            setTimeout(function() {\n",
       "                var nbb_cell_id = 144;\n",
       "                var nbb_unformatted_code = \"df = pd.DataFrame(\\n    {\\n        \\\"company\\\": [company.get(\\\"name\\\") for company in data],\\n        \\\"revenue\\\": [company.get(\\\"revenue\\\", {}).get(\\\"value\\\") for company in data],\\n        \\\"nbEmployees\\\": [company.get(\\\"nbEmployees\\\", None) for company in data],\\n        \\\"founding_year\\\": [get_founding_year(company) for company in data],\\n        \\\"locations\\\": [\\n            company.get(\\\"location\\\", {}).get(\\\"country\\\", {}).get(\\\"name\\\")\\n            for company in data\\n        ],\\n        \\\"isPublic\\\": [company.get(\\\"isPublic\\\") for company in data],\\n    }\\n)\\n\\ndf = df[df.notnull().all(axis=1)]\\ndf[\\\"founding_year\\\"] = df[\\\"founding_year\\\"].astype(int)\\ndf[\\\"year_from_now\\\"] = df[\\\"founding_year\\\"].apply(lambda row: datetime.now().year - row)\";\n",
       "                var nbb_formatted_code = \"df = pd.DataFrame(\\n    {\\n        \\\"company\\\": [company.get(\\\"name\\\") for company in data],\\n        \\\"revenue\\\": [company.get(\\\"revenue\\\", {}).get(\\\"value\\\") for company in data],\\n        \\\"nbEmployees\\\": [company.get(\\\"nbEmployees\\\", None) for company in data],\\n        \\\"founding_year\\\": [get_founding_year(company) for company in data],\\n        \\\"locations\\\": [\\n            company.get(\\\"location\\\", {}).get(\\\"country\\\", {}).get(\\\"name\\\")\\n            for company in data\\n        ],\\n        \\\"isPublic\\\": [company.get(\\\"isPublic\\\") for company in data],\\n    }\\n)\\n\\ndf = df[df.notnull().all(axis=1)]\\ndf[\\\"founding_year\\\"] = df[\\\"founding_year\\\"].astype(int)\\ndf[\\\"year_from_now\\\"] = df[\\\"founding_year\\\"].apply(lambda row: datetime.now().year - row)\";\n",
       "                var nbb_cells = Jupyter.notebook.get_cells();\n",
       "                for (var i = 0; i < nbb_cells.length; ++i) {\n",
       "                    if (nbb_cells[i].input_prompt_number == nbb_cell_id) {\n",
       "                        if (nbb_cells[i].get_text() == nbb_unformatted_code) {\n",
       "                             nbb_cells[i].set_text(nbb_formatted_code);\n",
       "                        }\n",
       "                        break;\n",
       "                    }\n",
       "                }\n",
       "            }, 500);\n",
       "            "
      ],
      "text/plain": [
       "<IPython.core.display.Javascript object>"
      ]
     },
     "metadata": {},
     "output_type": "display_data"
    }
   ],
   "source": [
    "df = pd.DataFrame(\n",
    "    {\n",
    "        \"company\": [company.get(\"name\") for company in data],\n",
    "        \"revenue\": [company.get(\"revenue\", {}).get(\"value\") for company in data],\n",
    "        \"nbEmployees\": [company.get(\"nbEmployees\", None) for company in data],\n",
    "        \"founding_year\": [get_founding_year(company) for company in data],\n",
    "        \"locations\": [\n",
    "            company.get(\"location\", {}).get(\"country\", {}).get(\"name\")\n",
    "            for company in data\n",
    "        ],\n",
    "        \"isPublic\": [company.get(\"isPublic\") for company in data],\n",
    "    }\n",
    ")\n",
    "\n",
    "df = df[df.notnull().all(axis=1)]\n",
    "df[\"founding_year\"] = df[\"founding_year\"].astype(int)\n",
    "df[\"year_from_now\"] = df[\"founding_year\"].apply(lambda row: datetime.now().year - row)"
   ]
  },
  {
   "cell_type": "code",
   "execution_count": 145,
   "id": "dc01e552",
   "metadata": {
    "ExecuteTime": {
     "end_time": "2021-10-04T19:37:58.377020Z",
     "start_time": "2021-10-04T19:37:58.359094Z"
    }
   },
   "outputs": [
    {
     "data": {
      "application/javascript": [
       "\n",
       "            setTimeout(function() {\n",
       "                var nbb_cell_id = 145;\n",
       "                var nbb_unformatted_code = \"df[\\\"isPublic\\\"] = df[\\\"isPublic\\\"].map({True: \\\"public\\\", False: \\\"private\\\"})\";\n",
       "                var nbb_formatted_code = \"df[\\\"isPublic\\\"] = df[\\\"isPublic\\\"].map({True: \\\"public\\\", False: \\\"private\\\"})\";\n",
       "                var nbb_cells = Jupyter.notebook.get_cells();\n",
       "                for (var i = 0; i < nbb_cells.length; ++i) {\n",
       "                    if (nbb_cells[i].input_prompt_number == nbb_cell_id) {\n",
       "                        if (nbb_cells[i].get_text() == nbb_unformatted_code) {\n",
       "                             nbb_cells[i].set_text(nbb_formatted_code);\n",
       "                        }\n",
       "                        break;\n",
       "                    }\n",
       "                }\n",
       "            }, 500);\n",
       "            "
      ],
      "text/plain": [
       "<IPython.core.display.Javascript object>"
      ]
     },
     "metadata": {},
     "output_type": "display_data"
    }
   ],
   "source": [
    "df[\"isPublic\"] = df[\"isPublic\"].map({True: \"public\", False: \"private\"})"
   ]
  },
  {
   "cell_type": "code",
   "execution_count": 147,
   "id": "9659553e",
   "metadata": {
    "ExecuteTime": {
     "end_time": "2021-10-04T19:38:04.242751Z",
     "start_time": "2021-10-04T19:38:04.212396Z"
    }
   },
   "outputs": [
    {
     "data": {
      "text/html": [
       "<div>\n",
       "<style scoped>\n",
       "    .dataframe tbody tr th:only-of-type {\n",
       "        vertical-align: middle;\n",
       "    }\n",
       "\n",
       "    .dataframe tbody tr th {\n",
       "        vertical-align: top;\n",
       "    }\n",
       "\n",
       "    .dataframe thead th {\n",
       "        text-align: right;\n",
       "    }\n",
       "</style>\n",
       "<table border=\"1\" class=\"dataframe\">\n",
       "  <thead>\n",
       "    <tr style=\"text-align: right;\">\n",
       "      <th></th>\n",
       "      <th>company</th>\n",
       "      <th>revenue</th>\n",
       "      <th>nbEmployees</th>\n",
       "      <th>founding_year</th>\n",
       "      <th>locations</th>\n",
       "      <th>isPublic</th>\n",
       "      <th>year_from_now</th>\n",
       "    </tr>\n",
       "  </thead>\n",
       "  <tbody>\n",
       "    <tr>\n",
       "      <th>0</th>\n",
       "      <td>Google</td>\n",
       "      <td>6.600100e+10</td>\n",
       "      <td>150000</td>\n",
       "      <td>1998</td>\n",
       "      <td>United States of America</td>\n",
       "      <td>public</td>\n",
       "      <td>23</td>\n",
       "    </tr>\n",
       "    <tr>\n",
       "      <th>1</th>\n",
       "      <td>ABB</td>\n",
       "      <td>3.431200e+10</td>\n",
       "      <td>60000</td>\n",
       "      <td>1988</td>\n",
       "      <td>Switzerland</td>\n",
       "      <td>public</td>\n",
       "      <td>33</td>\n",
       "    </tr>\n",
       "    <tr>\n",
       "      <th>2</th>\n",
       "      <td>Google</td>\n",
       "      <td>4.900000e+08</td>\n",
       "      <td>35000</td>\n",
       "      <td>1998</td>\n",
       "      <td>United States of America</td>\n",
       "      <td>private</td>\n",
       "      <td>23</td>\n",
       "    </tr>\n",
       "    <tr>\n",
       "      <th>3</th>\n",
       "      <td>Rockwell Automation Inc.</td>\n",
       "      <td>6.666000e+09</td>\n",
       "      <td>23500</td>\n",
       "      <td>1903</td>\n",
       "      <td>United States of America</td>\n",
       "      <td>public</td>\n",
       "      <td>118</td>\n",
       "    </tr>\n",
       "    <tr>\n",
       "      <th>4</th>\n",
       "      <td>Keyence</td>\n",
       "      <td>4.958000e+09</td>\n",
       "      <td>7500</td>\n",
       "      <td>1974</td>\n",
       "      <td>Japan</td>\n",
       "      <td>public</td>\n",
       "      <td>47</td>\n",
       "    </tr>\n",
       "  </tbody>\n",
       "</table>\n",
       "</div>"
      ],
      "text/plain": [
       "                    company       revenue  nbEmployees  founding_year  \\\n",
       "0                    Google  6.600100e+10       150000           1998   \n",
       "1                       ABB  3.431200e+10        60000           1988   \n",
       "2                    Google  4.900000e+08        35000           1998   \n",
       "3  Rockwell Automation Inc.  6.666000e+09        23500           1903   \n",
       "4                   Keyence  4.958000e+09         7500           1974   \n",
       "\n",
       "                  locations isPublic  year_from_now  \n",
       "0  United States of America   public             23  \n",
       "1               Switzerland   public             33  \n",
       "2  United States of America  private             23  \n",
       "3  United States of America   public            118  \n",
       "4                     Japan   public             47  "
      ]
     },
     "execution_count": 147,
     "metadata": {},
     "output_type": "execute_result"
    },
    {
     "data": {
      "application/javascript": [
       "\n",
       "            setTimeout(function() {\n",
       "                var nbb_cell_id = 147;\n",
       "                var nbb_unformatted_code = \"df.head(5)\";\n",
       "                var nbb_formatted_code = \"df.head(5)\";\n",
       "                var nbb_cells = Jupyter.notebook.get_cells();\n",
       "                for (var i = 0; i < nbb_cells.length; ++i) {\n",
       "                    if (nbb_cells[i].input_prompt_number == nbb_cell_id) {\n",
       "                        if (nbb_cells[i].get_text() == nbb_unformatted_code) {\n",
       "                             nbb_cells[i].set_text(nbb_formatted_code);\n",
       "                        }\n",
       "                        break;\n",
       "                    }\n",
       "                }\n",
       "            }, 500);\n",
       "            "
      ],
      "text/plain": [
       "<IPython.core.display.Javascript object>"
      ]
     },
     "metadata": {},
     "output_type": "display_data"
    }
   ],
   "source": [
    "df.head(5)"
   ]
  },
  {
   "cell_type": "code",
   "execution_count": 148,
   "id": "89797b67",
   "metadata": {
    "ExecuteTime": {
     "end_time": "2021-10-04T19:38:06.154892Z",
     "start_time": "2021-10-04T19:38:06.126060Z"
    }
   },
   "outputs": [
    {
     "data": {
      "application/javascript": [
       "\n",
       "            setTimeout(function() {\n",
       "                var nbb_cell_id = 148;\n",
       "                var nbb_unformatted_code = \"def human_format(num: float):\\n    \\\"\\\"\\\"Turn a number into human-readable format\\\"\\\"\\\"\\n    num = float(\\\"{:.3g}\\\".format(num))\\n    magnitude = 0\\n    while abs(num) >= 1000:\\n        magnitude += 1\\n        num /= 1000.0\\n    return \\\"{}{}\\\".format(\\n        \\\"{:f}\\\".format(num).rstrip(\\\"0\\\").rstrip(\\\".\\\"), [\\\"\\\", \\\"K\\\", \\\"M\\\", \\\"B\\\", \\\"T\\\"][magnitude]\\n    )\";\n",
       "                var nbb_formatted_code = \"def human_format(num: float):\\n    \\\"\\\"\\\"Turn a number into human-readable format\\\"\\\"\\\"\\n    num = float(\\\"{:.3g}\\\".format(num))\\n    magnitude = 0\\n    while abs(num) >= 1000:\\n        magnitude += 1\\n        num /= 1000.0\\n    return \\\"{}{}\\\".format(\\n        \\\"{:f}\\\".format(num).rstrip(\\\"0\\\").rstrip(\\\".\\\"), [\\\"\\\", \\\"K\\\", \\\"M\\\", \\\"B\\\", \\\"T\\\"][magnitude]\\n    )\";\n",
       "                var nbb_cells = Jupyter.notebook.get_cells();\n",
       "                for (var i = 0; i < nbb_cells.length; ++i) {\n",
       "                    if (nbb_cells[i].input_prompt_number == nbb_cell_id) {\n",
       "                        if (nbb_cells[i].get_text() == nbb_unformatted_code) {\n",
       "                             nbb_cells[i].set_text(nbb_formatted_code);\n",
       "                        }\n",
       "                        break;\n",
       "                    }\n",
       "                }\n",
       "            }, 500);\n",
       "            "
      ],
      "text/plain": [
       "<IPython.core.display.Javascript object>"
      ]
     },
     "metadata": {},
     "output_type": "display_data"
    }
   ],
   "source": [
    "def human_format(num: float):\n",
    "    \"\"\"Turn a number into human-readable format\"\"\"\n",
    "    num = float(\"{:.3g}\".format(num))\n",
    "    magnitude = 0\n",
    "    while abs(num) >= 1000:\n",
    "        magnitude += 1\n",
    "        num /= 1000.0\n",
    "    return \"{}{}\".format(\n",
    "        \"{:f}\".format(num).rstrip(\"0\").rstrip(\".\"), [\"\", \"K\", \"M\", \"B\", \"T\"][magnitude]\n",
    "    )"
   ]
  },
  {
   "cell_type": "code",
   "execution_count": 149,
   "id": "bd545d4f",
   "metadata": {
    "ExecuteTime": {
     "end_time": "2021-10-04T19:38:08.036462Z",
     "start_time": "2021-10-04T19:38:08.018692Z"
    }
   },
   "outputs": [
    {
     "data": {
      "application/javascript": [
       "\n",
       "            setTimeout(function() {\n",
       "                var nbb_cell_id = 149;\n",
       "                var nbb_unformatted_code = \"def num_to_str(number: float, median: int, median_str: str, column: str):\\n    if number <= median:\\n        return f\\\"{column} <= {median_str}\\\"\\n    else:\\n        return f\\\"{column} > {median_str}\\\"\";\n",
       "                var nbb_formatted_code = \"def num_to_str(number: float, median: int, median_str: str, column: str):\\n    if number <= median:\\n        return f\\\"{column} <= {median_str}\\\"\\n    else:\\n        return f\\\"{column} > {median_str}\\\"\";\n",
       "                var nbb_cells = Jupyter.notebook.get_cells();\n",
       "                for (var i = 0; i < nbb_cells.length; ++i) {\n",
       "                    if (nbb_cells[i].input_prompt_number == nbb_cell_id) {\n",
       "                        if (nbb_cells[i].get_text() == nbb_unformatted_code) {\n",
       "                             nbb_cells[i].set_text(nbb_formatted_code);\n",
       "                        }\n",
       "                        break;\n",
       "                    }\n",
       "                }\n",
       "            }, 500);\n",
       "            "
      ],
      "text/plain": [
       "<IPython.core.display.Javascript object>"
      ]
     },
     "metadata": {},
     "output_type": "display_data"
    }
   ],
   "source": [
    "def num_to_str(number: float, median: int, median_str: str, column: str):\n",
    "    if number <= median:\n",
    "        return f\"{column} <= {median_str}\"\n",
    "    else:\n",
    "        return f\"{column} > {median_str}\""
   ]
  },
  {
   "cell_type": "code",
   "execution_count": 150,
   "id": "19ad4777",
   "metadata": {
    "ExecuteTime": {
     "end_time": "2021-10-04T19:38:08.506993Z",
     "start_time": "2021-10-04T19:38:08.476502Z"
    }
   },
   "outputs": [
    {
     "data": {
      "application/javascript": [
       "\n",
       "            setTimeout(function() {\n",
       "                var nbb_cell_id = 150;\n",
       "                var nbb_unformatted_code = \"def map_values_based_on_median(column: str, data: pd.DataFrame):\\n    df = data.copy()\\n    median = df[column].median()\\n    median_str = human_format(median)\\n    df[column] = df[column].apply(\\n        lambda row: num_to_str(row, median, median_str, column)\\n    )\\n    return df\";\n",
       "                var nbb_formatted_code = \"def map_values_based_on_median(column: str, data: pd.DataFrame):\\n    df = data.copy()\\n    median = df[column].median()\\n    median_str = human_format(median)\\n    df[column] = df[column].apply(\\n        lambda row: num_to_str(row, median, median_str, column)\\n    )\\n    return df\";\n",
       "                var nbb_cells = Jupyter.notebook.get_cells();\n",
       "                for (var i = 0; i < nbb_cells.length; ++i) {\n",
       "                    if (nbb_cells[i].input_prompt_number == nbb_cell_id) {\n",
       "                        if (nbb_cells[i].get_text() == nbb_unformatted_code) {\n",
       "                             nbb_cells[i].set_text(nbb_formatted_code);\n",
       "                        }\n",
       "                        break;\n",
       "                    }\n",
       "                }\n",
       "            }, 500);\n",
       "            "
      ],
      "text/plain": [
       "<IPython.core.display.Javascript object>"
      ]
     },
     "metadata": {},
     "output_type": "display_data"
    }
   ],
   "source": [
    "def map_values_based_on_median(column: str, data: pd.DataFrame):\n",
    "    df = data.copy()\n",
    "    median = df[column].median()\n",
    "    median_str = human_format(median)\n",
    "    df[column] = df[column].apply(\n",
    "        lambda row: num_to_str(row, median, median_str, column)\n",
    "    )\n",
    "    return df"
   ]
  },
  {
   "cell_type": "code",
   "execution_count": 151,
   "id": "028f879c",
   "metadata": {
    "ExecuteTime": {
     "end_time": "2021-10-04T19:38:08.980324Z",
     "start_time": "2021-10-04T19:38:08.961835Z"
    }
   },
   "outputs": [
    {
     "data": {
      "application/javascript": [
       "\n",
       "            setTimeout(function() {\n",
       "                var nbb_cell_id = 151;\n",
       "                var nbb_unformatted_code = \"df = map_values_based_on_median(\\\"revenue\\\", df)\";\n",
       "                var nbb_formatted_code = \"df = map_values_based_on_median(\\\"revenue\\\", df)\";\n",
       "                var nbb_cells = Jupyter.notebook.get_cells();\n",
       "                for (var i = 0; i < nbb_cells.length; ++i) {\n",
       "                    if (nbb_cells[i].input_prompt_number == nbb_cell_id) {\n",
       "                        if (nbb_cells[i].get_text() == nbb_unformatted_code) {\n",
       "                             nbb_cells[i].set_text(nbb_formatted_code);\n",
       "                        }\n",
       "                        break;\n",
       "                    }\n",
       "                }\n",
       "            }, 500);\n",
       "            "
      ],
      "text/plain": [
       "<IPython.core.display.Javascript object>"
      ]
     },
     "metadata": {},
     "output_type": "display_data"
    }
   ],
   "source": [
    "df = map_values_based_on_median(\"revenue\", df)"
   ]
  },
  {
   "cell_type": "code",
   "execution_count": 152,
   "id": "a8aac165",
   "metadata": {
    "ExecuteTime": {
     "end_time": "2021-10-04T19:38:09.969231Z",
     "start_time": "2021-10-04T19:38:09.951348Z"
    }
   },
   "outputs": [
    {
     "data": {
      "application/javascript": [
       "\n",
       "            setTimeout(function() {\n",
       "                var nbb_cell_id = 152;\n",
       "                var nbb_unformatted_code = \"df = map_values_based_on_median(\\\"nbEmployees\\\", df)\";\n",
       "                var nbb_formatted_code = \"df = map_values_based_on_median(\\\"nbEmployees\\\", df)\";\n",
       "                var nbb_cells = Jupyter.notebook.get_cells();\n",
       "                for (var i = 0; i < nbb_cells.length; ++i) {\n",
       "                    if (nbb_cells[i].input_prompt_number == nbb_cell_id) {\n",
       "                        if (nbb_cells[i].get_text() == nbb_unformatted_code) {\n",
       "                             nbb_cells[i].set_text(nbb_formatted_code);\n",
       "                        }\n",
       "                        break;\n",
       "                    }\n",
       "                }\n",
       "            }, 500);\n",
       "            "
      ],
      "text/plain": [
       "<IPython.core.display.Javascript object>"
      ]
     },
     "metadata": {},
     "output_type": "display_data"
    }
   ],
   "source": [
    "df = map_values_based_on_median(\"nbEmployees\", df)"
   ]
  },
  {
   "cell_type": "code",
   "execution_count": 153,
   "id": "57213c1b",
   "metadata": {
    "ExecuteTime": {
     "end_time": "2021-10-04T19:38:10.737535Z",
     "start_time": "2021-10-04T19:38:10.720886Z"
    }
   },
   "outputs": [
    {
     "data": {
      "application/javascript": [
       "\n",
       "            setTimeout(function() {\n",
       "                var nbb_cell_id = 153;\n",
       "                var nbb_unformatted_code = \"df = map_values_based_on_median(\\\"year_from_now\\\", df)\";\n",
       "                var nbb_formatted_code = \"df = map_values_based_on_median(\\\"year_from_now\\\", df)\";\n",
       "                var nbb_cells = Jupyter.notebook.get_cells();\n",
       "                for (var i = 0; i < nbb_cells.length; ++i) {\n",
       "                    if (nbb_cells[i].input_prompt_number == nbb_cell_id) {\n",
       "                        if (nbb_cells[i].get_text() == nbb_unformatted_code) {\n",
       "                             nbb_cells[i].set_text(nbb_formatted_code);\n",
       "                        }\n",
       "                        break;\n",
       "                    }\n",
       "                }\n",
       "            }, 500);\n",
       "            "
      ],
      "text/plain": [
       "<IPython.core.display.Javascript object>"
      ]
     },
     "metadata": {},
     "output_type": "display_data"
    }
   ],
   "source": [
    "df = map_values_based_on_median(\"year_from_now\", df)"
   ]
  },
  {
   "cell_type": "code",
   "execution_count": 154,
   "id": "5344be06",
   "metadata": {
    "ExecuteTime": {
     "end_time": "2021-10-04T19:38:12.114767Z",
     "start_time": "2021-10-04T19:38:12.078238Z"
    }
=======
    },
    "cell_id": "00007-c7212072-8322-4cd0-9d5f-a2f19606e5cc",
    "deepnote_to_be_reexecuted": false,
    "source_hash": "3a83ccc",
    "execution_start": 1633435789368,
    "execution_millis": 2,
    "deepnote_cell_type": "code"
   },
   "source": "from datetime import datetime\n\ndef get_founding_year(company: dict):\n    date_str = company.get(\"foundingDate\", {}).get(\"str\")\n    if date_str:\n        return date_str.split(\"-\")[0][1:]\n    return date_str",
   "execution_count": null,
   "outputs": []
  },
  {
   "cell_type": "code",
   "metadata": {
    "ExecuteTime": {
     "end_time": "2021-10-03T22:41:46.330437Z",
     "start_time": "2021-10-03T22:41:46.319566Z"
    },
    "cell_id": "00009-0a80554d-67e0-4d41-ba1a-e84683ce3dc4",
    "deepnote_to_be_reexecuted": false,
    "source_hash": "9b82ee11",
    "execution_start": 1633435789374,
    "execution_millis": 1725114,
    "deepnote_cell_type": "code"
   },
   "source": "import pandas as pd",
   "execution_count": null,
   "outputs": []
  },
  {
   "cell_type": "code",
   "metadata": {
    "ExecuteTime": {
     "end_time": "2021-10-04T18:39:55.340379Z",
     "start_time": "2021-10-04T18:39:55.260153Z"
    },
    "cell_id": "00010-aa7496be-9499-411d-a6ad-1b283d4f5d95",
    "deepnote_to_be_reexecuted": false,
    "source_hash": "ee7786a6",
    "execution_start": 1633435789730,
    "execution_millis": 1,
    "deepnote_cell_type": "code"
   },
   "source": "df = pd.DataFrame(\n    {\n        \"company\": [company.get(\"name\") for company in data],\n        \"revenue\": [company.get(\"revenue\", {}).get(\"value\") for company in data],\n        \"nbEmployees\": [company.get(\"nbEmployees\", None) for company in data],\n        \"founding_year\": [get_founding_year(company) for company in data],\n        \"locations\": [\n            company.get(\"location\", {}).get(\"country\", {}).get(\"name\")\n            for company in data\n        ],\n        \"isPublic\": [company.get(\"isPublic\") for company in data],\n    }\n)\n\ndf = df[df.notnull().all(axis=1)]\ndf[\"founding_year\"] = df[\"founding_year\"].astype(int)\ndf[\"year_from_now\"] = df[\"founding_year\"].apply(lambda row: datetime.now().year - row)",
   "execution_count": null,
   "outputs": []
  },
  {
   "cell_type": "code",
   "metadata": {
    "ExecuteTime": {
     "end_time": "2021-10-04T18:39:55.606031Z",
     "start_time": "2021-10-04T18:39:55.588935Z"
    },
    "cell_id": "00011-61239559-ade7-4878-ac53-9ec2235fb06d",
    "deepnote_to_be_reexecuted": false,
    "source_hash": "9b5984e",
    "execution_start": 1633435791081,
    "execution_millis": 0,
    "deepnote_cell_type": "code"
   },
   "source": "df[\"isPublic\"] = df[\"isPublic\"].map({True: \"public\", False: \"private\"})",
   "execution_count": null,
   "outputs": []
  },
  {
   "cell_type": "code",
   "metadata": {
    "ExecuteTime": {
     "end_time": "2021-10-04T18:40:11.118556Z",
     "start_time": "2021-10-04T18:40:11.086069Z"
    },
    "cell_id": "00014-c260ea44-b44a-4f73-a5cb-24f372a70aed",
    "deepnote_to_be_reexecuted": false,
    "source_hash": "245876d0",
    "execution_start": 1633435792392,
    "execution_millis": 41,
    "allow_embed": "code_output",
    "deepnote_cell_type": "code"
>>>>>>> ef819c0bd33b4fc37495afc4aff1c3c5825d8547
   },
   "source": "df.head(5)",
   "execution_count": null,
   "outputs": [
    {
     "output_type": "execute_result",
     "execution_count": 23,
     "data": {
<<<<<<< HEAD
      "text/html": [
       "<div>\n",
       "<style scoped>\n",
       "    .dataframe tbody tr th:only-of-type {\n",
       "        vertical-align: middle;\n",
       "    }\n",
       "\n",
       "    .dataframe tbody tr th {\n",
       "        vertical-align: top;\n",
       "    }\n",
       "\n",
       "    .dataframe thead th {\n",
       "        text-align: right;\n",
       "    }\n",
       "</style>\n",
       "<table border=\"1\" class=\"dataframe\">\n",
       "  <thead>\n",
       "    <tr style=\"text-align: right;\">\n",
       "      <th></th>\n",
       "      <th>company</th>\n",
       "      <th>revenue</th>\n",
       "      <th>nbEmployees</th>\n",
       "      <th>founding_year</th>\n",
       "      <th>locations</th>\n",
       "      <th>isPublic</th>\n",
       "      <th>year_from_now</th>\n",
       "    </tr>\n",
       "  </thead>\n",
       "  <tbody>\n",
       "    <tr>\n",
       "      <th>0</th>\n",
       "      <td>Google</td>\n",
       "      <td>revenue &gt; 24M</td>\n",
       "      <td>nbEmployees &gt; 350</td>\n",
       "      <td>1998</td>\n",
       "      <td>United States of America</td>\n",
       "      <td>public</td>\n",
       "      <td>year_from_now &gt; 19</td>\n",
       "    </tr>\n",
       "    <tr>\n",
       "      <th>1</th>\n",
       "      <td>ABB</td>\n",
       "      <td>revenue &gt; 24M</td>\n",
       "      <td>nbEmployees &gt; 350</td>\n",
       "      <td>1988</td>\n",
       "      <td>Switzerland</td>\n",
       "      <td>public</td>\n",
       "      <td>year_from_now &gt; 19</td>\n",
       "    </tr>\n",
       "    <tr>\n",
       "      <th>2</th>\n",
       "      <td>Google</td>\n",
       "      <td>revenue &gt; 24M</td>\n",
       "      <td>nbEmployees &gt; 350</td>\n",
       "      <td>1998</td>\n",
       "      <td>United States of America</td>\n",
       "      <td>private</td>\n",
       "      <td>year_from_now &gt; 19</td>\n",
       "    </tr>\n",
       "    <tr>\n",
       "      <th>3</th>\n",
       "      <td>Rockwell Automation Inc.</td>\n",
       "      <td>revenue &gt; 24M</td>\n",
       "      <td>nbEmployees &gt; 350</td>\n",
       "      <td>1903</td>\n",
       "      <td>United States of America</td>\n",
       "      <td>public</td>\n",
       "      <td>year_from_now &gt; 19</td>\n",
       "    </tr>\n",
       "    <tr>\n",
       "      <th>4</th>\n",
       "      <td>Keyence</td>\n",
       "      <td>revenue &gt; 24M</td>\n",
       "      <td>nbEmployees &gt; 350</td>\n",
       "      <td>1974</td>\n",
       "      <td>Japan</td>\n",
       "      <td>public</td>\n",
       "      <td>year_from_now &gt; 19</td>\n",
       "    </tr>\n",
       "    <tr>\n",
       "      <th>...</th>\n",
       "      <td>...</td>\n",
       "      <td>...</td>\n",
       "      <td>...</td>\n",
       "      <td>...</td>\n",
       "      <td>...</td>\n",
       "      <td>...</td>\n",
       "      <td>...</td>\n",
       "    </tr>\n",
       "    <tr>\n",
       "      <th>995</th>\n",
       "      <td>WITHIN</td>\n",
       "      <td>revenue &lt;= 24M</td>\n",
       "      <td>nbEmployees &lt;= 350</td>\n",
       "      <td>2014</td>\n",
       "      <td>United States of America</td>\n",
       "      <td>private</td>\n",
       "      <td>year_from_now &lt;= 19</td>\n",
       "    </tr>\n",
       "    <tr>\n",
       "      <th>996</th>\n",
       "      <td>Primer</td>\n",
       "      <td>revenue &lt;= 24M</td>\n",
       "      <td>nbEmployees &lt;= 350</td>\n",
       "      <td>2015</td>\n",
       "      <td>United States of America</td>\n",
       "      <td>private</td>\n",
       "      <td>year_from_now &lt;= 19</td>\n",
       "    </tr>\n",
       "    <tr>\n",
       "      <th>997</th>\n",
       "      <td>Omdena</td>\n",
       "      <td>revenue &lt;= 24M</td>\n",
       "      <td>nbEmployees &lt;= 350</td>\n",
       "      <td>2019</td>\n",
       "      <td>United States of America</td>\n",
       "      <td>private</td>\n",
       "      <td>year_from_now &lt;= 19</td>\n",
       "    </tr>\n",
       "    <tr>\n",
       "      <th>998</th>\n",
       "      <td>Clerk.io</td>\n",
       "      <td>revenue &lt;= 24M</td>\n",
       "      <td>nbEmployees &lt;= 350</td>\n",
       "      <td>2011</td>\n",
       "      <td>Denmark</td>\n",
       "      <td>private</td>\n",
       "      <td>year_from_now &lt;= 19</td>\n",
       "    </tr>\n",
       "    <tr>\n",
       "      <th>999</th>\n",
       "      <td>BOS</td>\n",
       "      <td>revenue &lt;= 24M</td>\n",
       "      <td>nbEmployees &lt;= 350</td>\n",
       "      <td>1992</td>\n",
       "      <td>United States of America</td>\n",
       "      <td>private</td>\n",
       "      <td>year_from_now &gt; 19</td>\n",
       "    </tr>\n",
       "  </tbody>\n",
       "</table>\n",
       "<p>875 rows × 7 columns</p>\n",
       "</div>"
      ],
      "text/plain": [
       "                      company         revenue         nbEmployees  \\\n",
       "0                      Google   revenue > 24M   nbEmployees > 350   \n",
       "1                         ABB   revenue > 24M   nbEmployees > 350   \n",
       "2                      Google   revenue > 24M   nbEmployees > 350   \n",
       "3    Rockwell Automation Inc.   revenue > 24M   nbEmployees > 350   \n",
       "4                     Keyence   revenue > 24M   nbEmployees > 350   \n",
       "..                        ...             ...                 ...   \n",
       "995                    WITHIN  revenue <= 24M  nbEmployees <= 350   \n",
       "996                    Primer  revenue <= 24M  nbEmployees <= 350   \n",
       "997                    Omdena  revenue <= 24M  nbEmployees <= 350   \n",
       "998                  Clerk.io  revenue <= 24M  nbEmployees <= 350   \n",
       "999                       BOS  revenue <= 24M  nbEmployees <= 350   \n",
       "\n",
       "     founding_year                 locations isPublic        year_from_now  \n",
       "0             1998  United States of America   public   year_from_now > 19  \n",
       "1             1988               Switzerland   public   year_from_now > 19  \n",
       "2             1998  United States of America  private   year_from_now > 19  \n",
       "3             1903  United States of America   public   year_from_now > 19  \n",
       "4             1974                     Japan   public   year_from_now > 19  \n",
       "..             ...                       ...      ...                  ...  \n",
       "995           2014  United States of America  private  year_from_now <= 19  \n",
       "996           2015  United States of America  private  year_from_now <= 19  \n",
       "997           2019  United States of America  private  year_from_now <= 19  \n",
       "998           2011                   Denmark  private  year_from_now <= 19  \n",
       "999           1992  United States of America  private   year_from_now > 19  \n",
       "\n",
       "[875 rows x 7 columns]"
      ]
     },
     "execution_count": 154,
     "metadata": {},
     "output_type": "execute_result"
    },
    {
     "data": {
      "application/javascript": [
       "\n",
       "            setTimeout(function() {\n",
       "                var nbb_cell_id = 154;\n",
       "                var nbb_unformatted_code = \"df\";\n",
       "                var nbb_formatted_code = \"df\";\n",
       "                var nbb_cells = Jupyter.notebook.get_cells();\n",
       "                for (var i = 0; i < nbb_cells.length; ++i) {\n",
       "                    if (nbb_cells[i].input_prompt_number == nbb_cell_id) {\n",
       "                        if (nbb_cells[i].get_text() == nbb_unformatted_code) {\n",
       "                             nbb_cells[i].set_text(nbb_formatted_code);\n",
       "                        }\n",
       "                        break;\n",
       "                    }\n",
       "                }\n",
       "            }, 500);\n",
       "            "
      ],
      "text/plain": [
       "<IPython.core.display.Javascript object>"
      ]
=======
      "application/vnd.deepnote.dataframe.v2+json": {
       "row_count": 5,
       "column_count": 7,
       "columns": [
        {
         "name": "company",
         "dtype": "object",
         "stats": {
          "unique_count": 4,
          "nan_count": 0,
          "categories": [
           {
            "name": "Google",
            "count": 2
           },
           {
            "name": "ABB",
            "count": 1
           },
           {
            "name": "2 others",
            "count": 2
           }
          ]
         }
        },
        {
         "name": "revenue",
         "dtype": "float64",
         "stats": {
          "unique_count": 5,
          "nan_count": 0,
          "min": "490000000.0",
          "max": "66001000000.0",
          "histogram": [
           {
            "bin_start": 490000000,
            "bin_end": 7041100000,
            "count": 3
           },
           {
            "bin_start": 7041100000,
            "bin_end": 13592200000,
            "count": 0
           },
           {
            "bin_start": 13592200000,
            "bin_end": 20143300000,
            "count": 0
           },
           {
            "bin_start": 20143300000,
            "bin_end": 26694400000,
            "count": 0
           },
           {
            "bin_start": 26694400000,
            "bin_end": 33245500000,
            "count": 0
           },
           {
            "bin_start": 33245500000,
            "bin_end": 39796600000,
            "count": 1
           },
           {
            "bin_start": 39796600000,
            "bin_end": 46347700000,
            "count": 0
           },
           {
            "bin_start": 46347700000,
            "bin_end": 52898800000,
            "count": 0
           },
           {
            "bin_start": 52898800000,
            "bin_end": 59449900000,
            "count": 0
           },
           {
            "bin_start": 59449900000,
            "bin_end": 66001000000,
            "count": 1
           }
          ]
         }
        },
        {
         "name": "nbEmployees",
         "dtype": "int64",
         "stats": {
          "unique_count": 5,
          "nan_count": 0,
          "min": "7500",
          "max": "150000",
          "histogram": [
           {
            "bin_start": 7500,
            "bin_end": 21750,
            "count": 1
           },
           {
            "bin_start": 21750,
            "bin_end": 36000,
            "count": 2
           },
           {
            "bin_start": 36000,
            "bin_end": 50250,
            "count": 0
           },
           {
            "bin_start": 50250,
            "bin_end": 64500,
            "count": 1
           },
           {
            "bin_start": 64500,
            "bin_end": 78750,
            "count": 0
           },
           {
            "bin_start": 78750,
            "bin_end": 93000,
            "count": 0
           },
           {
            "bin_start": 93000,
            "bin_end": 107250,
            "count": 0
           },
           {
            "bin_start": 107250,
            "bin_end": 121500,
            "count": 0
           },
           {
            "bin_start": 121500,
            "bin_end": 135750,
            "count": 0
           },
           {
            "bin_start": 135750,
            "bin_end": 150000,
            "count": 1
           }
          ]
         }
        },
        {
         "name": "founding_year",
         "dtype": "int64",
         "stats": {
          "unique_count": 4,
          "nan_count": 0,
          "min": "1903",
          "max": "1998",
          "histogram": [
           {
            "bin_start": 1903,
            "bin_end": 1912.5,
            "count": 1
           },
           {
            "bin_start": 1912.5,
            "bin_end": 1922,
            "count": 0
           },
           {
            "bin_start": 1922,
            "bin_end": 1931.5,
            "count": 0
           },
           {
            "bin_start": 1931.5,
            "bin_end": 1941,
            "count": 0
           },
           {
            "bin_start": 1941,
            "bin_end": 1950.5,
            "count": 0
           },
           {
            "bin_start": 1950.5,
            "bin_end": 1960,
            "count": 0
           },
           {
            "bin_start": 1960,
            "bin_end": 1969.5,
            "count": 0
           },
           {
            "bin_start": 1969.5,
            "bin_end": 1979,
            "count": 1
           },
           {
            "bin_start": 1979,
            "bin_end": 1988.5,
            "count": 1
           },
           {
            "bin_start": 1988.5,
            "bin_end": 1998,
            "count": 2
           }
          ]
         }
        },
        {
         "name": "locations",
         "dtype": "object",
         "stats": {
          "unique_count": 3,
          "nan_count": 0,
          "categories": [
           {
            "name": "United States of America",
            "count": 3
           },
           {
            "name": "Switzerland",
            "count": 1
           },
           {
            "name": "Japan",
            "count": 1
           }
          ]
         }
        },
        {
         "name": "isPublic",
         "dtype": "object",
         "stats": {
          "unique_count": 2,
          "nan_count": 0,
          "categories": [
           {
            "name": "public",
            "count": 4
           },
           {
            "name": "private",
            "count": 1
           }
          ]
         }
        },
        {
         "name": "year_from_now",
         "dtype": "int64",
         "stats": {
          "unique_count": 4,
          "nan_count": 0,
          "min": "23",
          "max": "118",
          "histogram": [
           {
            "bin_start": 23,
            "bin_end": 32.5,
            "count": 2
           },
           {
            "bin_start": 32.5,
            "bin_end": 42,
            "count": 1
           },
           {
            "bin_start": 42,
            "bin_end": 51.5,
            "count": 1
           },
           {
            "bin_start": 51.5,
            "bin_end": 61,
            "count": 0
           },
           {
            "bin_start": 61,
            "bin_end": 70.5,
            "count": 0
           },
           {
            "bin_start": 70.5,
            "bin_end": 80,
            "count": 0
           },
           {
            "bin_start": 80,
            "bin_end": 89.5,
            "count": 0
           },
           {
            "bin_start": 89.5,
            "bin_end": 99,
            "count": 0
           },
           {
            "bin_start": 99,
            "bin_end": 108.5,
            "count": 0
           },
           {
            "bin_start": 108.5,
            "bin_end": 118,
            "count": 1
           }
          ]
         }
        },
        {
         "name": "_deepnote_index_column",
         "dtype": "int64"
        }
       ],
       "rows_top": [
        {
         "company": "Google",
         "revenue": 66001000000,
         "nbEmployees": 150000,
         "founding_year": 1998,
         "locations": "United States of America",
         "isPublic": "public",
         "year_from_now": 23,
         "_deepnote_index_column": 0
        },
        {
         "company": "ABB",
         "revenue": 34311999500,
         "nbEmployees": 60000,
         "founding_year": 1988,
         "locations": "Switzerland",
         "isPublic": "public",
         "year_from_now": 33,
         "_deepnote_index_column": 1
        },
        {
         "company": "Google",
         "revenue": 490000000,
         "nbEmployees": 35000,
         "founding_year": 1998,
         "locations": "United States of America",
         "isPublic": "private",
         "year_from_now": 23,
         "_deepnote_index_column": 2
        },
        {
         "company": "Rockwell Automation Inc.",
         "revenue": 6665999900,
         "nbEmployees": 23500,
         "founding_year": 1903,
         "locations": "United States of America",
         "isPublic": "public",
         "year_from_now": 118,
         "_deepnote_index_column": 3
        },
        {
         "company": "Keyence",
         "revenue": 4958000000,
         "nbEmployees": 7500,
         "founding_year": 1974,
         "locations": "Japan",
         "isPublic": "public",
         "year_from_now": 47,
         "_deepnote_index_column": 4
        }
       ],
       "rows_bottom": null
      },
      "text/plain": "                    company       revenue  nbEmployees  founding_year  \\\n0                    Google  6.600100e+10       150000           1998   \n1                       ABB  3.431200e+10        60000           1988   \n2                    Google  4.900000e+08        35000           1998   \n3  Rockwell Automation Inc.  6.666000e+09        23500           1903   \n4                   Keyence  4.958000e+09         7500           1974   \n\n                  locations isPublic  year_from_now  \n0  United States of America   public             23  \n1               Switzerland   public             33  \n2  United States of America  private             23  \n3  United States of America   public            118  \n4                     Japan   public             47  ",
      "text/html": "<div>\n<style scoped>\n    .dataframe tbody tr th:only-of-type {\n        vertical-align: middle;\n    }\n\n    .dataframe tbody tr th {\n        vertical-align: top;\n    }\n\n    .dataframe thead th {\n        text-align: right;\n    }\n</style>\n<table border=\"1\" class=\"dataframe\">\n  <thead>\n    <tr style=\"text-align: right;\">\n      <th></th>\n      <th>company</th>\n      <th>revenue</th>\n      <th>nbEmployees</th>\n      <th>founding_year</th>\n      <th>locations</th>\n      <th>isPublic</th>\n      <th>year_from_now</th>\n    </tr>\n  </thead>\n  <tbody>\n    <tr>\n      <th>0</th>\n      <td>Google</td>\n      <td>6.600100e+10</td>\n      <td>150000</td>\n      <td>1998</td>\n      <td>United States of America</td>\n      <td>public</td>\n      <td>23</td>\n    </tr>\n    <tr>\n      <th>1</th>\n      <td>ABB</td>\n      <td>3.431200e+10</td>\n      <td>60000</td>\n      <td>1988</td>\n      <td>Switzerland</td>\n      <td>public</td>\n      <td>33</td>\n    </tr>\n    <tr>\n      <th>2</th>\n      <td>Google</td>\n      <td>4.900000e+08</td>\n      <td>35000</td>\n      <td>1998</td>\n      <td>United States of America</td>\n      <td>private</td>\n      <td>23</td>\n    </tr>\n    <tr>\n      <th>3</th>\n      <td>Rockwell Automation Inc.</td>\n      <td>6.666000e+09</td>\n      <td>23500</td>\n      <td>1903</td>\n      <td>United States of America</td>\n      <td>public</td>\n      <td>118</td>\n    </tr>\n    <tr>\n      <th>4</th>\n      <td>Keyence</td>\n      <td>4.958000e+09</td>\n      <td>7500</td>\n      <td>1974</td>\n      <td>Japan</td>\n      <td>public</td>\n      <td>47</td>\n    </tr>\n  </tbody>\n</table>\n</div>"
>>>>>>> ef819c0bd33b4fc37495afc4aff1c3c5825d8547
     },
     "metadata": {}
    }
   ]
  },
  {
   "cell_type": "code",
<<<<<<< HEAD
   "execution_count": 155,
   "id": "a717419d",
   "metadata": {
    "ExecuteTime": {
     "end_time": "2021-10-04T19:38:15.728702Z",
     "start_time": "2021-10-04T19:38:15.704846Z"
    }
   },
   "outputs": [
    {
     "data": {
      "application/javascript": [
       "\n",
       "            setTimeout(function() {\n",
       "                var nbb_cell_id = 155;\n",
       "                var nbb_unformatted_code = \"df.to_csv(\\\"artificial_intelligence.csv\\\", index=False)\";\n",
       "                var nbb_formatted_code = \"df.to_csv(\\\"artificial_intelligence.csv\\\", index=False)\";\n",
       "                var nbb_cells = Jupyter.notebook.get_cells();\n",
       "                for (var i = 0; i < nbb_cells.length; ++i) {\n",
       "                    if (nbb_cells[i].input_prompt_number == nbb_cell_id) {\n",
       "                        if (nbb_cells[i].get_text() == nbb_unformatted_code) {\n",
       "                             nbb_cells[i].set_text(nbb_formatted_code);\n",
       "                        }\n",
       "                        break;\n",
       "                    }\n",
       "                }\n",
       "            }, 500);\n",
       "            "
      ],
      "text/plain": [
       "<IPython.core.display.Javascript object>"
      ]
     },
     "metadata": {},
     "output_type": "display_data"
    }
   ],
   "source": [
    "df.to_csv(\"artificial_intelligence.csv\", index=False)"
   ]
  },
  {
   "cell_type": "code",
   "execution_count": null,
   "id": "a0d46718",
   "metadata": {},
   "outputs": [],
   "source": []
=======
   "metadata": {
    "ExecuteTime": {
     "end_time": "2021-10-03T22:42:41.555778Z",
     "start_time": "2021-10-03T22:42:41.524900Z"
    },
    "cell_id": "00022-8767e50a-5b86-4cfd-99e2-84014cb9af67",
    "allow_embed": "code_output",
    "deepnote_to_be_reexecuted": false,
    "source_hash": "9ce045e3",
    "execution_start": 1633435793830,
    "execution_millis": 217,
    "deepnote_cell_type": "code"
   },
   "source": "df.to_csv(\"artificial_intelligence.csv\", index=False)",
   "execution_count": null,
   "outputs": []
  },
  {
   "cell_type": "markdown",
   "source": "<a style='text-decoration:none;line-height:16px;display:flex;color:#5B5B62;padding:10px;justify-content:end;' href='https://deepnote.com?utm_source=created-in-deepnote-cell&projectId=87197226-98be-42b2-8527-389082831299' target=\"_blank\">\n<img alt='Created in deepnote.com' style='display:inline;max-height:16px;margin:0px;margin-right:7.5px;' src='data:image/svg+xml;base64,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' > </img>\nCreated in <span style='font-weight:600;margin-left:4px;'>Deepnote</span></a>",
   "metadata": {
    "tags": [],
    "created_in_deepnote_cell": true,
    "deepnote_cell_type": "markdown"
   }
>>>>>>> ef819c0bd33b4fc37495afc4aff1c3c5825d8547
  }
 ],
 "nbformat": 4,
 "nbformat_minor": 5,
 "metadata": {
  "kernelspec": {
   "display_name": "Python 3 (ipykernel)",
   "language": "python",
   "name": "python3"
  },
  "language_info": {
   "codemirror_mode": {
    "name": "ipython",
    "version": 3
   },
   "file_extension": ".py",
   "mimetype": "text/x-python",
   "name": "python",
   "nbconvert_exporter": "python",
   "pygments_lexer": "ipython3",
   "version": "3.8.10"
  },
  "toc": {
   "base_numbering": 1,
   "nav_menu": {},
   "number_sections": true,
   "sideBar": true,
   "skip_h1_title": false,
   "title_cell": "Table of Contents",
   "title_sidebar": "Contents",
   "toc_cell": false,
   "toc_position": {},
   "toc_section_display": true,
   "toc_window_display": false
  },
  "deepnote_notebook_id": "e7d155c6-fa50-4611-9dcb-22c2832b0019",
  "deepnote": {},
  "deepnote_execution_queue": []
 }
}