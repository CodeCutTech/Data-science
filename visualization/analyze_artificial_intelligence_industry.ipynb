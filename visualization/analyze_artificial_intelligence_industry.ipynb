{
 "cells": [
  {
   "cell_type": "markdown",
   "source": "[![View on GitHub](https://img.shields.io/badge/GitHub-View_on_GitHub-blue?logo=GitHub)](https://github.com/khuyentran1401/Data-science/blob/master/visualization/analyze_artificial_intelligence_industry.ipynb)\n\n[<img src=\"https://deepnote.com/buttons/launch-in-deepnote.svg\">](https://deepnote.com/project/Data-science-hxlyJpi-QrKFJziQgoMSmQ/%2FData-science%2Fvisualization%2Fanalyze_artificial_intelligence_industry.ipynb)",
   "metadata": {
    "tags": [],
    "cell_id": "00001-d364f719-4d93-41b2-a043-165db2e4e26f",
    "deepnote_cell_type": "markdown"
   }
  },
  {
   "cell_type": "code",
   "metadata": {
    "ExecuteTime": {
     "end_time": "2021-10-10T15:36:37.046955Z",
     "start_time": "2021-10-10T15:36:36.680103Z"
    },
    "cell_id": "00001-9812a8c5-0e1f-4036-b700-012529b4bdd8",
    "deepnote_to_be_reexecuted": false,
    "source_hash": "98101f2a",
    "execution_start": 1633974983985,
    "execution_millis": 2175,
    "deepnote_cell_type": "code"
   },
   "source": "import json\n\nwith open(\"/datasets/dataset/artificial_intelligence.json\") as f:\n    output = json.load(f)\n    \ndata = output[\"data\"]\n\n# View the keys of the first company\ndata[0].keys()",
   "execution_count": null,
   "outputs": [
    {
     "output_type": "execute_result",
     "execution_count": 2,
     "data": {
      "text/plain": "dict_keys(['twitterUri', 'nbActiveEmployeeEdges', 'type', 'allNames', 'revenue', 'yearlyRevenues', 'logo', 'id', 'stock', 'nbOrigins', 'sicClassification', 'foundingDate', 'image', 'images', 'wikipediaUri', 'irsEmployerIdentificationNumbers', 'diffbotUri', 'nbIncomingEdges', 'nbEmployeesMin', 'ipo', 'parentCompany', 'angellistUri', 'name', 'motto', 'nbEmployeesMax', 'totalInvestment', 'allOriginHashes', 'linkedInUri', 'naicsClassification', 'nbEmployees', 'githubUri', 'isDissolved', 'importance', 'origin', 'description', 'homepageUri', 'founders', 'ceo', 'investments', 'blogUri', 'descriptors', 'isNonProfit', 'origins', 'isPublic', 'categories', 'crawlTimestamp', 'nbUniqueInvestors', 'facebookUri', 'secCentralIndexKeys', 'summary', 'types', 'boardMembers', 'allUris', 'nbLocations', 'crunchbaseUri', 'industries', 'allDescriptions', 'location', 'locations', 'subsidiaries'])"
     },
     "metadata": {}
    }
   ]
  },
  {
   "cell_type": "code",
   "metadata": {
    "ExecuteTime": {
     "end_time": "2021-10-10T15:36:53.131029Z",
     "start_time": "2021-10-10T15:36:52.722906Z"
    },
    "cell_id": "00002-26640409-f555-4c6d-a8bc-d3915faa0d19",
    "deepnote_to_be_reexecuted": false,
    "source_hash": "30ebb697",
    "execution_start": 1633974986152,
    "execution_millis": 9,
    "deepnote_cell_type": "code"
   },
   "source": "from datetime import datetime\nimport pandas as pd \n\ndef get_founding_year(company: dict):\n    date_str = company.get(\"foundingDate\", {}).get(\"str\")\n    if date_str:\n        return date_str.split(\"-\")[0][1:]\n    return date_str\n    \ndf = pd.DataFrame(\n    {\n        \"company\": [company.get(\"name\") for company in data],\n        \"revenue\": [company.get(\"revenue\", {}).get(\"value\") for company in data],\n        \"nbEmployees\": [company.get(\"nbEmployees\", None) for company in data],\n        \"founding_year\": [get_founding_year(company) for company in data],\n        \"locations\": [\n            company.get(\"location\", {}).get(\"country\", {}).get(\"name\")\n            for company in data\n        ],\n        \"isPublic\": [company.get(\"isPublic\") for company in data],\n        \"industries\": [company.get(\"industries\") for company in data],\n    }\n)",
   "execution_count": null,
   "outputs": []
  },
  {
   "cell_type": "code",
   "metadata": {
    "ExecuteTime": {
     "end_time": "2021-10-10T15:37:06.183835Z",
     "start_time": "2021-10-10T15:37:06.156026Z"
    },
    "cell_id": "00003-10d1f969-5fd3-4564-b0e6-537edf7bfe74",
    "deepnote_to_be_reexecuted": false,
    "source_hash": "13f71b91",
    "execution_start": 1633974987545,
    "execution_millis": 8,
    "allow_embed": "code_output",
    "deepnote_cell_type": "code"
   },
   "source": "df = df[df.notnull().all(axis=1)]\n\ndf[\"founding_year\"] = df[\"founding_year\"].astype(int)\n\n# Get number of years from now\ndf[\"year_from_now\"] = df[\"founding_year\"].apply(lambda row: datetime.now().year - row)",
   "execution_count": null,
   "outputs": []
  },
  {
   "cell_type": "code",
   "metadata": {
    "tags": [],
    "cell_id": "00004-59488375-465c-462f-a955-eb4ea85268f0",
    "deepnote_to_be_reexecuted": false,
    "source_hash": "f30f989a",
    "execution_start": 1633974698157,
    "execution_millis": 55,
    "allow_embed": "code_output",
    "deepnote_cell_type": "code"
   },
   "source": "df.head(10)",
   "execution_count": null,
   "outputs": [
    {
     "output_type": "execute_result",
     "execution_count": 9,
     "data": {
      "application/vnd.deepnote.dataframe.v2+json": {
       "row_count": 10,
       "column_count": 8,
       "columns": [
        {
         "name": "company",
         "dtype": "object",
         "stats": {
          "unique_count": 9,
          "nan_count": 0,
          "categories": [
           {
            "name": "Google",
            "count": 2
           },
           {
            "name": "ABB",
            "count": 1
           },
           {
            "name": "7 others",
            "count": 7
           }
          ]
         }
        },
        {
         "name": "revenue",
         "dtype": "float64",
         "stats": {
          "unique_count": 10,
          "nan_count": 0,
          "min": "29000000.0",
          "max": "27234521000000.0",
          "histogram": [
           {
            "bin_start": 29000000,
            "bin_end": 2723478200000,
            "count": 9
           },
           {
            "bin_start": 2723478200000,
            "bin_end": 5446927400000,
            "count": 0
           },
           {
            "bin_start": 5446927400000,
            "bin_end": 8170376600000,
            "count": 0
           },
           {
            "bin_start": 8170376600000,
            "bin_end": 10893825800000,
            "count": 0
           },
           {
            "bin_start": 10893825800000,
            "bin_end": 13617275000000,
            "count": 0
           },
           {
            "bin_start": 13617275000000,
            "bin_end": 16340724200000,
            "count": 0
           },
           {
            "bin_start": 16340724200000,
            "bin_end": 19064173400000,
            "count": 0
           },
           {
            "bin_start": 19064173400000,
            "bin_end": 21787622600000,
            "count": 0
           },
           {
            "bin_start": 21787622600000,
            "bin_end": 24511071800000,
            "count": 0
           },
           {
            "bin_start": 24511071800000,
            "bin_end": 27234521000000,
            "count": 1
           }
          ]
         }
        },
        {
         "name": "nbEmployees",
         "dtype": "int64",
         "stats": {
          "unique_count": 8,
          "nan_count": 0,
          "min": "3000",
          "max": "350000",
          "histogram": [
           {
            "bin_start": 3000,
            "bin_end": 37700,
            "count": 7
           },
           {
            "bin_start": 37700,
            "bin_end": 72400,
            "count": 1
           },
           {
            "bin_start": 72400,
            "bin_end": 107100,
            "count": 0
           },
           {
            "bin_start": 107100,
            "bin_end": 141800,
            "count": 0
           },
           {
            "bin_start": 141800,
            "bin_end": 176500,
            "count": 1
           },
           {
            "bin_start": 176500,
            "bin_end": 211200,
            "count": 0
           },
           {
            "bin_start": 211200,
            "bin_end": 245900,
            "count": 0
           },
           {
            "bin_start": 245900,
            "bin_end": 280600,
            "count": 0
           },
           {
            "bin_start": 280600,
            "bin_end": 315300,
            "count": 0
           },
           {
            "bin_start": 315300,
            "bin_end": 350000,
            "count": 1
           }
          ]
         }
        },
        {
         "name": "founding_year",
         "dtype": "int64",
         "stats": {
          "unique_count": 8,
          "nan_count": 0,
          "min": "1903",
          "max": "2000",
          "histogram": [
           {
            "bin_start": 1903,
            "bin_end": 1912.7,
            "count": 1
           },
           {
            "bin_start": 1912.7,
            "bin_end": 1922.4,
            "count": 0
           },
           {
            "bin_start": 1922.4,
            "bin_end": 1932.1,
            "count": 0
           },
           {
            "bin_start": 1932.1,
            "bin_end": 1941.8,
            "count": 1
           },
           {
            "bin_start": 1941.8,
            "bin_end": 1951.5,
            "count": 0
           },
           {
            "bin_start": 1951.5,
            "bin_end": 1961.2,
            "count": 0
           },
           {
            "bin_start": 1961.2,
            "bin_end": 1970.9,
            "count": 0
           },
           {
            "bin_start": 1970.9,
            "bin_end": 1980.6,
            "count": 1
           },
           {
            "bin_start": 1980.6,
            "bin_end": 1990.3,
            "count": 1
           },
           {
            "bin_start": 1990.3,
            "bin_end": 2000,
            "count": 6
           }
          ]
         }
        },
        {
         "name": "locations",
         "dtype": "object",
         "stats": {
          "unique_count": 4,
          "nan_count": 0,
          "categories": [
           {
            "name": "United States of America",
            "count": 6
           },
           {
            "name": "Japan",
            "count": 2
           },
           {
            "name": "2 others",
            "count": 2
           }
          ]
         }
        },
        {
         "name": "isPublic",
         "dtype": "bool",
         "stats": {
          "unique_count": 2,
          "nan_count": 0,
          "categories": [
           {
            "name": "True",
            "count": 7
           },
           {
            "name": "False",
            "count": 3
           }
          ]
         }
        },
        {
         "name": "industries",
         "dtype": "object",
         "stats": {
          "unique_count": 10,
          "nan_count": 0,
          "categories": [
           {
            "name": "['Manufacturing Companies', 'Electronic Products Manufacturers', 'Mobile Phone Manufacturers', 'Software Companies', 'Artificial Intelligence Companies', 'Virtual Reality Companies', 'Computer Hardware Companies', 'Cloud Computing Providers', 'Data Providers']",
            "count": 1
           },
           {
            "name": "['Software Companies', 'Artificial Intelligence Companies', 'Robotics Companies']",
            "count": 1
           },
           {
            "name": "8 others",
            "count": 8
           }
          ]
         }
        },
        {
         "name": "year_from_now",
         "dtype": "int64",
         "stats": {
          "unique_count": 8,
          "nan_count": 0,
          "min": "21",
          "max": "118",
          "histogram": [
           {
            "bin_start": 21,
            "bin_end": 30.7,
            "count": 6
           },
           {
            "bin_start": 30.7,
            "bin_end": 40.4,
            "count": 1
           },
           {
            "bin_start": 40.4,
            "bin_end": 50.099999999999994,
            "count": 1
           },
           {
            "bin_start": 50.099999999999994,
            "bin_end": 59.8,
            "count": 0
           },
           {
            "bin_start": 59.8,
            "bin_end": 69.5,
            "count": 0
           },
           {
            "bin_start": 69.5,
            "bin_end": 79.19999999999999,
            "count": 0
           },
           {
            "bin_start": 79.19999999999999,
            "bin_end": 88.89999999999999,
            "count": 1
           },
           {
            "bin_start": 88.89999999999999,
            "bin_end": 98.6,
            "count": 0
           },
           {
            "bin_start": 98.6,
            "bin_end": 108.3,
            "count": 0
           },
           {
            "bin_start": 108.3,
            "bin_end": 118,
            "count": 1
           }
          ]
         }
        },
        {
         "name": "_deepnote_index_column",
         "dtype": "int64"
        }
       ],
       "rows_top": [
        {
         "company": "Google",
         "revenue": 66001000000,
         "nbEmployees": 150000,
         "founding_year": 1998,
         "locations": "United States of America",
         "isPublic": true,
         "industries": "['Manufacturing Companies', 'Electronic Products Manufacturers', 'Mobile Phone Manufacturers', 'Sof…",
         "year_from_now": 23,
         "_deepnote_index_column": 0
        },
        {
         "company": "ABB",
         "revenue": 34311999500,
         "nbEmployees": 60000,
         "founding_year": 1988,
         "locations": "Switzerland",
         "isPublic": true,
         "industries": "['Software Companies', 'Artificial Intelligence Companies', 'Robotics Companies']",
         "year_from_now": 33,
         "_deepnote_index_column": 1
        },
        {
         "company": "Google",
         "revenue": 490000000,
         "nbEmployees": 35000,
         "founding_year": 1998,
         "locations": "United States of America",
         "isPublic": false,
         "industries": "['Software Companies', 'Artificial Intelligence Companies']",
         "year_from_now": 23,
         "_deepnote_index_column": 2
        },
        {
         "company": "Rockwell Automation Inc.",
         "revenue": 6665999900,
         "nbEmployees": 23500,
         "founding_year": 1903,
         "locations": "United States of America",
         "isPublic": true,
         "industries": "['Manufacturing Companies', 'Software Companies', 'Artificial Intelligence Companies', 'Robotics Co…",
         "year_from_now": 118,
         "_deepnote_index_column": 3
        },
        {
         "company": "Keyence",
         "revenue": 4958000000,
         "nbEmployees": 7500,
         "founding_year": 1974,
         "locations": "Japan",
         "isPublic": true,
         "industries": "['Manufacturing Companies', 'Electronic Products Manufacturers', 'Tool Manufacturers', 'Software Co…",
         "year_from_now": 47,
         "_deepnote_index_column": 4
        },
        {
         "company": "IBM INDIA PRIVATE LIMITED",
         "revenue": 320000000,
         "nbEmployees": 7500,
         "founding_year": 1992,
         "locations": "India",
         "isPublic": false,
         "industries": "['Software Companies', 'Artificial Intelligence Companies', 'Computer Hardware Companies']",
         "year_from_now": 29,
         "_deepnote_index_column": 5
        },
        {
         "company": "Toyota Motor",
         "revenue": 27234521000000,
         "nbEmployees": 350000,
         "founding_year": 1937,
         "locations": "Japan",
         "isPublic": true,
         "industries": "['Manufacturing Companies', 'Engine Manufacturers', 'Motor Vehicle Manufacturers', 'Car Manufacture…",
         "year_from_now": 84,
         "_deepnote_index_column": 6
        },
        {
         "company": "Visteon Corporation",
         "revenue": 2548000000,
         "nbEmployees": 10000,
         "founding_year": 2000,
         "locations": "United States of America",
         "isPublic": true,
         "industries": "['Manufacturing Companies', 'Electronic Products Manufacturers', 'Retailers', 'Automotive Part Reta…",
         "year_from_now": 21,
         "_deepnote_index_column": 7
        },
        {
         "company": "EXLSERVICE HOLDINGS, INC.",
         "revenue": 958434000,
         "nbEmployees": 35000,
         "founding_year": 1999,
         "locations": "United States of America",
         "isPublic": true,
         "industries": "['Software Companies', 'Artificial Intelligence Companies', 'Robotics Companies', 'Data Analytics C…",
         "year_from_now": 22,
         "_deepnote_index_column": 9
        },
        {
         "company": "gA",
         "revenue": 29000000,
         "nbEmployees": 3000,
         "founding_year": 1992,
         "locations": "United States of America",
         "isPublic": false,
         "industries": "['Software Companies', 'Artificial Intelligence Companies', 'Natural Language Processing Companies']",
         "year_from_now": 29,
         "_deepnote_index_column": 10
        }
       ],
       "rows_bottom": null
      },
      "text/plain": "                      company       revenue  nbEmployees  founding_year  \\\n0                      Google  6.600100e+10       150000           1998   \n1                         ABB  3.431200e+10        60000           1988   \n2                      Google  4.900000e+08        35000           1998   \n3    Rockwell Automation Inc.  6.666000e+09        23500           1903   \n4                     Keyence  4.958000e+09         7500           1974   \n5   IBM INDIA PRIVATE LIMITED  3.200000e+08         7500           1992   \n6                Toyota Motor  2.723452e+13       350000           1937   \n7         Visteon Corporation  2.548000e+09        10000           2000   \n9   EXLSERVICE HOLDINGS, INC.  9.584340e+08        35000           1999   \n10                         gA  2.900000e+07         3000           1992   \n\n                   locations  isPublic  \\\n0   United States of America      True   \n1                Switzerland      True   \n2   United States of America     False   \n3   United States of America      True   \n4                      Japan      True   \n5                      India     False   \n6                      Japan      True   \n7   United States of America      True   \n9   United States of America      True   \n10  United States of America     False   \n\n                                           industries  year_from_now  \n0   [Manufacturing Companies, Electronic Products ...             23  \n1   [Software Companies, Artificial Intelligence C...             33  \n2   [Software Companies, Artificial Intelligence C...             23  \n3   [Manufacturing Companies, Software Companies, ...            118  \n4   [Manufacturing Companies, Electronic Products ...             47  \n5   [Software Companies, Artificial Intelligence C...             29  \n6   [Manufacturing Companies, Engine Manufacturers...             84  \n7   [Manufacturing Companies, Electronic Products ...             21  \n9   [Software Companies, Artificial Intelligence C...             22  \n10  [Software Companies, Artificial Intelligence C...             29  ",
      "text/html": "<div>\n<style scoped>\n    .dataframe tbody tr th:only-of-type {\n        vertical-align: middle;\n    }\n\n    .dataframe tbody tr th {\n        vertical-align: top;\n    }\n\n    .dataframe thead th {\n        text-align: right;\n    }\n</style>\n<table border=\"1\" class=\"dataframe\">\n  <thead>\n    <tr style=\"text-align: right;\">\n      <th></th>\n      <th>company</th>\n      <th>revenue</th>\n      <th>nbEmployees</th>\n      <th>founding_year</th>\n      <th>locations</th>\n      <th>isPublic</th>\n      <th>industries</th>\n      <th>year_from_now</th>\n    </tr>\n  </thead>\n  <tbody>\n    <tr>\n      <th>0</th>\n      <td>Google</td>\n      <td>6.600100e+10</td>\n      <td>150000</td>\n      <td>1998</td>\n      <td>United States of America</td>\n      <td>True</td>\n      <td>[Manufacturing Companies, Electronic Products ...</td>\n      <td>23</td>\n    </tr>\n    <tr>\n      <th>1</th>\n      <td>ABB</td>\n      <td>3.431200e+10</td>\n      <td>60000</td>\n      <td>1988</td>\n      <td>Switzerland</td>\n      <td>True</td>\n      <td>[Software Companies, Artificial Intelligence C...</td>\n      <td>33</td>\n    </tr>\n    <tr>\n      <th>2</th>\n      <td>Google</td>\n      <td>4.900000e+08</td>\n      <td>35000</td>\n      <td>1998</td>\n      <td>United States of America</td>\n      <td>False</td>\n      <td>[Software Companies, Artificial Intelligence C...</td>\n      <td>23</td>\n    </tr>\n    <tr>\n      <th>3</th>\n      <td>Rockwell Automation Inc.</td>\n      <td>6.666000e+09</td>\n      <td>23500</td>\n      <td>1903</td>\n      <td>United States of America</td>\n      <td>True</td>\n      <td>[Manufacturing Companies, Software Companies, ...</td>\n      <td>118</td>\n    </tr>\n    <tr>\n      <th>4</th>\n      <td>Keyence</td>\n      <td>4.958000e+09</td>\n      <td>7500</td>\n      <td>1974</td>\n      <td>Japan</td>\n      <td>True</td>\n      <td>[Manufacturing Companies, Electronic Products ...</td>\n      <td>47</td>\n    </tr>\n    <tr>\n      <th>5</th>\n      <td>IBM INDIA PRIVATE LIMITED</td>\n      <td>3.200000e+08</td>\n      <td>7500</td>\n      <td>1992</td>\n      <td>India</td>\n      <td>False</td>\n      <td>[Software Companies, Artificial Intelligence C...</td>\n      <td>29</td>\n    </tr>\n    <tr>\n      <th>6</th>\n      <td>Toyota Motor</td>\n      <td>2.723452e+13</td>\n      <td>350000</td>\n      <td>1937</td>\n      <td>Japan</td>\n      <td>True</td>\n      <td>[Manufacturing Companies, Engine Manufacturers...</td>\n      <td>84</td>\n    </tr>\n    <tr>\n      <th>7</th>\n      <td>Visteon Corporation</td>\n      <td>2.548000e+09</td>\n      <td>10000</td>\n      <td>2000</td>\n      <td>United States of America</td>\n      <td>True</td>\n      <td>[Manufacturing Companies, Electronic Products ...</td>\n      <td>21</td>\n    </tr>\n    <tr>\n      <th>9</th>\n      <td>EXLSERVICE HOLDINGS, INC.</td>\n      <td>9.584340e+08</td>\n      <td>35000</td>\n      <td>1999</td>\n      <td>United States of America</td>\n      <td>True</td>\n      <td>[Software Companies, Artificial Intelligence C...</td>\n      <td>22</td>\n    </tr>\n    <tr>\n      <th>10</th>\n      <td>gA</td>\n      <td>2.900000e+07</td>\n      <td>3000</td>\n      <td>1992</td>\n      <td>United States of America</td>\n      <td>False</td>\n      <td>[Software Companies, Artificial Intelligence C...</td>\n      <td>29</td>\n    </tr>\n  </tbody>\n</table>\n</div>"
     },
     "metadata": {}
    }
   ]
  },
  {
   "cell_type": "code",
   "metadata": {
    "ExecuteTime": {
     "end_time": "2021-10-10T15:37:09.193477Z",
     "start_time": "2021-10-10T15:37:09.161322Z"
    },
    "cell_id": "00004-2cb3d10a-23d5-45d1-b3b9-26faa086ddca",
    "deepnote_cell_type": "code"
   },
   "source": "df.to_csv(\"artificial_intelligence.csv\", index=False)",
   "execution_count": null,
   "outputs": []
  },
  {
   "cell_type": "markdown",
   "source": "<a style='text-decoration:none;line-height:16px;display:flex;color:#5B5B62;padding:10px;justify-content:end;' href='https://deepnote.com?utm_source=created-in-deepnote-cell&projectId=87197226-98be-42b2-8527-389082831299' target=\"_blank\">\n<img alt='Created in deepnote.com' style='display:inline;max-height:16px;margin:0px;margin-right:7.5px;' src='data:image/svg+xml;base64,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' > </img>\nCreated in <span style='font-weight:600;margin-left:4px;'>Deepnote</span></a>",
   "metadata": {
    "tags": [],
    "created_in_deepnote_cell": true,
    "deepnote_cell_type": "markdown"
   }
  }
 ],
 "nbformat": 4,
 "nbformat_minor": 5,
 "metadata": {
  "kernelspec": {
   "display_name": "Python 3 (ipykernel)",
   "language": "python",
   "name": "python3"
  },
  "language_info": {
   "codemirror_mode": {
    "name": "ipython",
    "version": 3
   },
   "file_extension": ".py",
   "mimetype": "text/x-python",
   "name": "python",
   "nbconvert_exporter": "python",
   "pygments_lexer": "ipython3",
   "version": "3.8.10"
  },
  "toc": {
   "base_numbering": 1,
   "nav_menu": {},
   "number_sections": true,
   "sideBar": true,
   "skip_h1_title": false,
   "title_cell": "Table of Contents",
   "title_sidebar": "Contents",
   "toc_cell": false,
   "toc_position": {},
   "toc_section_display": true,
   "toc_window_display": false
  },
  "deepnote_notebook_id": "3b82b6f8-ac1f-4a15-868f-199e0d7ef554",
  "deepnote": {},
  "deepnote_execution_queue": []
 }
}