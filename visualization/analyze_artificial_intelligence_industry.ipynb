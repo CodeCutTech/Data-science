{
 "cells": [
  {
   "cell_type": "code",
   "execution_count": 1,
   "id": "16367e10",
   "metadata": {
    "ExecuteTime": {
     "end_time": "2021-10-10T15:36:36.623748Z",
     "start_time": "2021-10-10T15:36:28.711716Z"
    }
   },
   "outputs": [
    {
     "name": "stderr",
     "output_type": "stream",
     "text": [
      "Downloading...\n",
      "From: https://drive.google.com/uc?id=1owa_NIBnj-Q5uwDyM2xBJeZPipjmkJsH\n",
      "To: /home/khuyen/Data-science/visualization/artificial_intelligence.json\n",
      "100%|██████████████████████████████████████████████████████████████████████████████████████████████████████████████████████████████████████| 30.3M/30.3M [00:04<00:00, 6.21MB/s]\n"
     ]
    },
    {
     "data": {
      "text/plain": [
       "'artificial_intelligence.json'"
      ]
     },
     "execution_count": 1,
     "metadata": {},
     "output_type": "execute_result"
    }
   ],
   "source": [
    "import gdown\n",
    "\n",
    "url = \"https://drive.google.com/uc?id=1owa_NIBnj-Q5uwDyM2xBJeZPipjmkJsH\"\n",
    "output = \"artificial_intelligence.json\"\n",
    "\n",
    "gdown.download(url, output, quiet=False)"
   ]
  },
  {
   "cell_type": "code",
   "execution_count": 2,
   "id": "664e5ead",
   "metadata": {
    "ExecuteTime": {
     "end_time": "2021-10-10T15:36:37.046955Z",
     "start_time": "2021-10-10T15:36:36.680103Z"
    }
   },
   "outputs": [
    {
     "data": {
      "text/plain": [
       "dict_keys(['twitterUri', 'nbActiveEmployeeEdges', 'type', 'allNames', 'revenue', 'yearlyRevenues', 'logo', 'id', 'stock', 'nbOrigins', 'sicClassification', 'foundingDate', 'image', 'images', 'wikipediaUri', 'irsEmployerIdentificationNumbers', 'diffbotUri', 'nbIncomingEdges', 'nbEmployeesMin', 'ipo', 'parentCompany', 'angellistUri', 'name', 'motto', 'nbEmployeesMax', 'totalInvestment', 'allOriginHashes', 'linkedInUri', 'naicsClassification', 'nbEmployees', 'githubUri', 'isDissolved', 'importance', 'origin', 'description', 'homepageUri', 'founders', 'ceo', 'investments', 'blogUri', 'descriptors', 'isNonProfit', 'origins', 'isPublic', 'categories', 'crawlTimestamp', 'nbUniqueInvestors', 'facebookUri', 'secCentralIndexKeys', 'summary', 'types', 'boardMembers', 'allUris', 'nbLocations', 'crunchbaseUri', 'industries', 'allDescriptions', 'location', 'locations', 'subsidiaries'])"
      ]
     },
     "execution_count": 2,
     "metadata": {},
     "output_type": "execute_result"
    }
   ],
   "source": [
    "import json\n",
    "\n",
    "with open(\"artificial_intelligence.json\") as f:\n",
    "    output = json.load(f)\n",
    "    \n",
    "data = output[\"data\"]\n",
    "\n",
    "# View the keys of the first company\n",
    "data[0].keys()"
   ]
  },
  {
   "cell_type": "code",
   "execution_count": 4,
   "id": "b247cd6b",
   "metadata": {
    "ExecuteTime": {
     "end_time": "2021-10-10T15:36:53.131029Z",
     "start_time": "2021-10-10T15:36:52.722906Z"
    }
   },
   "outputs": [],
   "source": [
    "from datetime import datetime\n",
    "import pandas as pd \n",
    "\n",
    "def get_founding_year(company: dict):\n",
    "    date_str = company.get(\"foundingDate\", {}).get(\"str\")\n",
    "    if date_str:\n",
    "        return date_str.split(\"-\")[0][1:]\n",
    "    return date_str\n",
    "    \n",
    "df = pd.DataFrame(\n",
    "    {\n",
    "        \"company\": [company.get(\"name\") for company in data],\n",
    "        \"revenue\": [company.get(\"revenue\", {}).get(\"value\") for company in data],\n",
    "        \"nbEmployees\": [company.get(\"nbEmployees\", None) for company in data],\n",
    "        \"founding_year\": [get_founding_year(company) for company in data],\n",
    "        \"locations\": [\n",
    "            company.get(\"location\", {}).get(\"country\", {}).get(\"name\")\n",
    "            for company in data\n",
    "        ],\n",
    "        \"isPublic\": [company.get(\"isPublic\") for company in data],\n",
    "        \"industries\": [company.get(\"industries\") for company in data],\n",
    "    }\n",
    ")"
   ]
  },
  {
   "cell_type": "code",
   "execution_count": 5,
   "id": "1bcfdefa",
   "metadata": {
    "ExecuteTime": {
     "end_time": "2021-10-10T15:37:06.183835Z",
     "start_time": "2021-10-10T15:37:06.156026Z"
    }
   },
   "outputs": [],
   "source": [
    "df = df[df.notnull().all(axis=1)]\n",
    "\n",
    "df[\"founding_year\"] = df[\"founding_year\"].astype(int)\n",
    "\n",
    "# Get number of years from now\n",
    "df[\"year_from_now\"] = df[\"founding_year\"].apply(lambda row: datetime.now().year - row)"
   ]
  },
  {
   "cell_type": "code",
   "execution_count": 6,
   "id": "f7068192",
   "metadata": {
    "ExecuteTime": {
     "end_time": "2021-10-10T15:37:09.193477Z",
     "start_time": "2021-10-10T15:37:09.161322Z"
    }
   },
   "outputs": [],
   "source": [
    "df.to_csv(\"artificial_intelligence.csv\", index=False)"
   ]
  }
 ],
 "metadata": {
  "kernelspec": {
   "display_name": "Python 3 (ipykernel)",
   "language": "python",
   "name": "python3"
  },
  "language_info": {
   "codemirror_mode": {
    "name": "ipython",
    "version": 3
   },
   "file_extension": ".py",
   "mimetype": "text/x-python",
   "name": "python",
   "nbconvert_exporter": "python",
   "pygments_lexer": "ipython3",
   "version": "3.8.10"
  },
  "toc": {
   "base_numbering": 1,
   "nav_menu": {},
   "number_sections": true,
   "sideBar": true,
   "skip_h1_title": false,
   "title_cell": "Table of Contents",
   "title_sidebar": "Contents",
   "toc_cell": false,
   "toc_position": {},
   "toc_section_display": true,
   "toc_window_display": false
  }
 },
 "nbformat": 4,
 "nbformat_minor": 5
}
