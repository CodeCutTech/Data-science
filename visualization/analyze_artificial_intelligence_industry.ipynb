{
 "cells": [
  {
   "cell_type": "code",
   "execution_count": 92,
   "id": "cf5749bd",
   "metadata": {
    "ExecuteTime": {
     "end_time": "2021-10-03T22:41:26.426034Z",
     "start_time": "2021-10-03T22:41:26.413607Z"
    }
   },
   "outputs": [
    {
     "name": "stdout",
     "output_type": "stream",
     "text": [
      "The nb_black extension is already loaded. To reload it, use:\n",
      "  %reload_ext nb_black\n"
     ]
    },
    {
     "data": {
      "application/javascript": [
       "\n",
       "            setTimeout(function() {\n",
       "                var nbb_cell_id = 92;\n",
       "                var nbb_unformatted_code = \"%load_ext nb_black\";\n",
       "                var nbb_formatted_code = \"%load_ext nb_black\";\n",
       "                var nbb_cells = Jupyter.notebook.get_cells();\n",
       "                for (var i = 0; i < nbb_cells.length; ++i) {\n",
       "                    if (nbb_cells[i].input_prompt_number == nbb_cell_id) {\n",
       "                        if (nbb_cells[i].get_text() == nbb_unformatted_code) {\n",
       "                             nbb_cells[i].set_text(nbb_formatted_code);\n",
       "                        }\n",
       "                        break;\n",
       "                    }\n",
       "                }\n",
       "            }, 500);\n",
       "            "
      ],
      "text/plain": [
       "<IPython.core.display.Javascript object>"
      ]
     },
     "metadata": {},
     "output_type": "display_data"
    }
   ],
   "source": [
    "%load_ext nb_black"
   ]
  },
  {
   "cell_type": "markdown",
   "id": "4aa5ddda",
   "metadata": {
    "ExecuteTime": {
     "end_time": "2021-10-03T15:39:26.904093Z",
     "start_time": "2021-10-03T15:39:11.752003Z"
    }
   },
   "source": [
    "!wget -O 'artificial_intelligence.json' 'https://kg.diffbot.com/kg/dql_endpoint?type=query&token=your-token&query=type%3AOrganization+industries%3A%22Artificial+Intelligence+Companies%22&size=1000'"
   ]
  },
  {
   "cell_type": "code",
   "execution_count": null,
   "id": "6aba71d5",
   "metadata": {},
   "outputs": [],
   "source": [
    "import gdown\n",
    "\n",
    "url = \"https://drive.google.com/uc?id=1owa_NIBnj-Q5uwDyM2xBJeZPipjmkJsH\"\n",
    "output = \"artificial_intelligence.json\"\n",
    "\n",
    "gdown.download(url, output, quiet=False)"
   ]
  },
  {
   "cell_type": "code",
   "execution_count": 4,
   "id": "d813332c",
   "metadata": {
    "ExecuteTime": {
     "end_time": "2021-10-03T15:39:31.742642Z",
     "start_time": "2021-10-03T15:39:31.162964Z"
    }
   },
   "outputs": [
    {
     "data": {
      "application/javascript": [
       "\n",
       "            setTimeout(function() {\n",
       "                var nbb_cell_id = 4;\n",
       "                var nbb_unformatted_code = \"import json\\n\\nwith open(\\\"artificial_intelligence.json\\\") as f:\\n    output = json.load(f)\";\n",
       "                var nbb_formatted_code = \"import json\\n\\nwith open(\\\"artificial_intelligence.json\\\") as f:\\n    output = json.load(f)\";\n",
       "                var nbb_cells = Jupyter.notebook.get_cells();\n",
       "                for (var i = 0; i < nbb_cells.length; ++i) {\n",
       "                    if (nbb_cells[i].input_prompt_number == nbb_cell_id) {\n",
       "                        if (nbb_cells[i].get_text() == nbb_unformatted_code) {\n",
       "                             nbb_cells[i].set_text(nbb_formatted_code);\n",
       "                        }\n",
       "                        break;\n",
       "                    }\n",
       "                }\n",
       "            }, 500);\n",
       "            "
      ],
      "text/plain": [
       "<IPython.core.display.Javascript object>"
      ]
     },
     "metadata": {},
     "output_type": "display_data"
    }
   ],
   "source": [
    "import json\n",
    "\n",
    "with open(\"artificial_intelligence.json\") as f:\n",
    "    output = json.load(f)"
   ]
  },
  {
   "cell_type": "code",
   "execution_count": 89,
   "id": "a5267148",
   "metadata": {
    "ExecuteTime": {
     "end_time": "2021-10-03T22:41:17.783049Z",
     "start_time": "2021-10-03T22:41:17.771697Z"
    }
   },
   "outputs": [
    {
     "data": {
      "application/javascript": [
       "\n",
       "            setTimeout(function() {\n",
       "                var nbb_cell_id = 89;\n",
       "                var nbb_unformatted_code = \"data = output[\\\"data\\\"]\";\n",
       "                var nbb_formatted_code = \"data = output[\\\"data\\\"]\";\n",
       "                var nbb_cells = Jupyter.notebook.get_cells();\n",
       "                for (var i = 0; i < nbb_cells.length; ++i) {\n",
       "                    if (nbb_cells[i].input_prompt_number == nbb_cell_id) {\n",
       "                        if (nbb_cells[i].get_text() == nbb_unformatted_code) {\n",
       "                             nbb_cells[i].set_text(nbb_formatted_code);\n",
       "                        }\n",
       "                        break;\n",
       "                    }\n",
       "                }\n",
       "            }, 500);\n",
       "            "
      ],
      "text/plain": [
       "<IPython.core.display.Javascript object>"
      ]
     },
     "metadata": {},
     "output_type": "display_data"
    }
   ],
   "source": [
    "data = output[\"data\"]"
   ]
  },
  {
   "cell_type": "code",
   "execution_count": 90,
   "id": "06c30d6c",
   "metadata": {
    "ExecuteTime": {
     "end_time": "2021-10-03T22:41:19.210302Z",
     "start_time": "2021-10-03T22:41:19.195813Z"
    }
   },
   "outputs": [
    {
     "data": {
      "text/plain": [
       "dict_keys(['twitterUri', 'nbActiveEmployeeEdges', 'type', 'allNames', 'revenue', 'yearlyRevenues', 'logo', 'id', 'stock', 'nbOrigins', 'sicClassification', 'foundingDate', 'image', 'images', 'wikipediaUri', 'irsEmployerIdentificationNumbers', 'diffbotUri', 'nbIncomingEdges', 'nbEmployeesMin', 'ipo', 'parentCompany', 'angellistUri', 'name', 'motto', 'nbEmployeesMax', 'totalInvestment', 'allOriginHashes', 'linkedInUri', 'naicsClassification', 'nbEmployees', 'githubUri', 'isDissolved', 'importance', 'origin', 'description', 'homepageUri', 'founders', 'ceo', 'investments', 'blogUri', 'descriptors', 'isNonProfit', 'origins', 'isPublic', 'categories', 'crawlTimestamp', 'nbUniqueInvestors', 'facebookUri', 'secCentralIndexKeys', 'summary', 'types', 'boardMembers', 'allUris', 'nbLocations', 'crunchbaseUri', 'industries', 'allDescriptions', 'location', 'locations', 'subsidiaries'])"
      ]
     },
     "execution_count": 90,
     "metadata": {},
     "output_type": "execute_result"
    },
    {
     "data": {
      "application/javascript": [
       "\n",
       "            setTimeout(function() {\n",
       "                var nbb_cell_id = 90;\n",
       "                var nbb_unformatted_code = \"data[0].keys()\";\n",
       "                var nbb_formatted_code = \"data[0].keys()\";\n",
       "                var nbb_cells = Jupyter.notebook.get_cells();\n",
       "                for (var i = 0; i < nbb_cells.length; ++i) {\n",
       "                    if (nbb_cells[i].input_prompt_number == nbb_cell_id) {\n",
       "                        if (nbb_cells[i].get_text() == nbb_unformatted_code) {\n",
       "                             nbb_cells[i].set_text(nbb_formatted_code);\n",
       "                        }\n",
       "                        break;\n",
       "                    }\n",
       "                }\n",
       "            }, 500);\n",
       "            "
      ],
      "text/plain": [
       "<IPython.core.display.Javascript object>"
      ]
     },
     "metadata": {},
     "output_type": "display_data"
    }
   ],
   "source": [
    "data[0].keys()"
   ]
  },
  {
   "cell_type": "code",
   "execution_count": 129,
   "id": "5b2103d8",
   "metadata": {
    "ExecuteTime": {
     "end_time": "2021-10-04T00:19:52.839818Z",
     "start_time": "2021-10-04T00:19:52.824686Z"
    }
   },
   "outputs": [
    {
     "data": {
      "text/plain": [
       "'PANASONIC CORP'"
      ]
     },
     "execution_count": 129,
     "metadata": {},
     "output_type": "execute_result"
    },
    {
     "data": {
      "application/javascript": [
       "\n",
       "            setTimeout(function() {\n",
       "                var nbb_cell_id = 129;\n",
       "                var nbb_unformatted_code = \"data[17][\\\"name\\\"]\";\n",
       "                var nbb_formatted_code = \"data[17][\\\"name\\\"]\";\n",
       "                var nbb_cells = Jupyter.notebook.get_cells();\n",
       "                for (var i = 0; i < nbb_cells.length; ++i) {\n",
       "                    if (nbb_cells[i].input_prompt_number == nbb_cell_id) {\n",
       "                        if (nbb_cells[i].get_text() == nbb_unformatted_code) {\n",
       "                             nbb_cells[i].set_text(nbb_formatted_code);\n",
       "                        }\n",
       "                        break;\n",
       "                    }\n",
       "                }\n",
       "            }, 500);\n",
       "            "
      ],
      "text/plain": [
       "<IPython.core.display.Javascript object>"
      ]
     },
     "metadata": {},
     "output_type": "display_data"
    }
   ],
   "source": [
    "data[17][\"name\"]"
   ]
  },
  {
   "cell_type": "code",
   "execution_count": 95,
   "id": "26d8a0fc",
   "metadata": {
    "ExecuteTime": {
     "end_time": "2021-10-03T22:41:33.567564Z",
     "start_time": "2021-10-03T22:41:33.545502Z"
    }
   },
   "outputs": [
    {
     "data": {
      "application/javascript": [
       "\n",
       "            setTimeout(function() {\n",
       "                var nbb_cell_id = 95;\n",
       "                var nbb_unformatted_code = \"from datetime import datetime\\n\\ndef get_founding_year(company: dict):\\n    date_str = company.get(\\\"foundingDate\\\", {}).get(\\\"str\\\")\\n    if date_str:\\n        return date_str.split(\\\"-\\\")[0][1:]\\n    return date_str\";\n",
       "                var nbb_formatted_code = \"from datetime import datetime\\n\\n\\ndef get_founding_year(company: dict):\\n    date_str = company.get(\\\"foundingDate\\\", {}).get(\\\"str\\\")\\n    if date_str:\\n        return date_str.split(\\\"-\\\")[0][1:]\\n    return date_str\";\n",
       "                var nbb_cells = Jupyter.notebook.get_cells();\n",
       "                for (var i = 0; i < nbb_cells.length; ++i) {\n",
       "                    if (nbb_cells[i].input_prompt_number == nbb_cell_id) {\n",
       "                        if (nbb_cells[i].get_text() == nbb_unformatted_code) {\n",
       "                             nbb_cells[i].set_text(nbb_formatted_code);\n",
       "                        }\n",
       "                        break;\n",
       "                    }\n",
       "                }\n",
       "            }, 500);\n",
       "            "
      ],
      "text/plain": [
       "<IPython.core.display.Javascript object>"
      ]
     },
     "metadata": {},
     "output_type": "display_data"
    }
   ],
   "source": [
    "from datetime import datetime\n",
    "\n",
    "def get_founding_year(company: dict):\n",
    "    date_str = company.get(\"foundingDate\", {}).get(\"str\")\n",
    "    if date_str:\n",
    "        return date_str.split(\"-\")[0][1:]\n",
    "    return date_str"
   ]
  },
  {
   "cell_type": "code",
   "execution_count": 96,
   "id": "ac379a46",
   "metadata": {
    "ExecuteTime": {
     "end_time": "2021-10-03T22:41:35.426705Z",
     "start_time": "2021-10-03T22:41:35.382162Z"
    }
   },
   "outputs": [
    {
     "data": {
      "application/javascript": [
       "\n",
       "            setTimeout(function() {\n",
       "                var nbb_cell_id = 96;\n",
       "                var nbb_unformatted_code = \"names = [company.get(\\\"name\\\") for company in data]\\nrevenues = [company.get(\\\"revenue\\\", {}).get(\\\"value\\\") for company in data]\\nnbEmployees = [company.get(\\\"nbEmployees\\\", None) for company in data]\\nfounding_year = [get_founding_year(company) for company in data]\\nlocations = [\\n    company.get(\\\"location\\\", {}).get(\\\"country\\\", {}).get(\\\"name\\\") for company in data\\n]\\nisPublic = [company.get(\\\"isPublic\\\") for company in data]\\nindustries = [company.get(\\\"industries\\\") for company in data]\";\n",
       "                var nbb_formatted_code = \"names = [company.get(\\\"name\\\") for company in data]\\nrevenues = [company.get(\\\"revenue\\\", {}).get(\\\"value\\\") for company in data]\\nnbEmployees = [company.get(\\\"nbEmployees\\\", None) for company in data]\\nfounding_year = [get_founding_year(company) for company in data]\\nlocations = [\\n    company.get(\\\"location\\\", {}).get(\\\"country\\\", {}).get(\\\"name\\\") for company in data\\n]\\nisPublic = [company.get(\\\"isPublic\\\") for company in data]\\nindustries = [company.get(\\\"industries\\\") for company in data]\";\n",
       "                var nbb_cells = Jupyter.notebook.get_cells();\n",
       "                for (var i = 0; i < nbb_cells.length; ++i) {\n",
       "                    if (nbb_cells[i].input_prompt_number == nbb_cell_id) {\n",
       "                        if (nbb_cells[i].get_text() == nbb_unformatted_code) {\n",
       "                             nbb_cells[i].set_text(nbb_formatted_code);\n",
       "                        }\n",
       "                        break;\n",
       "                    }\n",
       "                }\n",
       "            }, 500);\n",
       "            "
      ],
      "text/plain": [
       "<IPython.core.display.Javascript object>"
      ]
     },
     "metadata": {},
     "output_type": "display_data"
    }
   ],
   "source": [
    "names = [company.get(\"name\") for company in data]\n",
    "revenues = [company.get(\"revenue\", {}).get(\"value\") for company in data]\n",
    "nbEmployees = [company.get(\"nbEmployees\", None) for company in data]\n",
    "founding_year = [get_founding_year(company) for company in data]\n",
    "locations = [\n",
    "    company.get(\"location\", {}).get(\"country\", {}).get(\"name\") for company in data\n",
    "]\n",
    "isPublic = [company.get(\"isPublic\") for company in data]\n",
    "industries = [company.get(\"industries\") for company in data]"
   ]
  },
  {
   "cell_type": "code",
   "execution_count": 97,
   "id": "7b5d1cd1",
   "metadata": {
    "ExecuteTime": {
     "end_time": "2021-10-03T22:41:46.330437Z",
     "start_time": "2021-10-03T22:41:46.319566Z"
    }
   },
   "outputs": [
    {
     "data": {
      "application/javascript": [
       "\n",
       "            setTimeout(function() {\n",
       "                var nbb_cell_id = 97;\n",
       "                var nbb_unformatted_code = \"import pandas as pd\";\n",
       "                var nbb_formatted_code = \"import pandas as pd\";\n",
       "                var nbb_cells = Jupyter.notebook.get_cells();\n",
       "                for (var i = 0; i < nbb_cells.length; ++i) {\n",
       "                    if (nbb_cells[i].input_prompt_number == nbb_cell_id) {\n",
       "                        if (nbb_cells[i].get_text() == nbb_unformatted_code) {\n",
       "                             nbb_cells[i].set_text(nbb_formatted_code);\n",
       "                        }\n",
       "                        break;\n",
       "                    }\n",
       "                }\n",
       "            }, 500);\n",
       "            "
      ],
      "text/plain": [
       "<IPython.core.display.Javascript object>"
      ]
     },
     "metadata": {},
     "output_type": "display_data"
    }
   ],
   "source": [
    "import pandas as pd"
   ]
  },
  {
   "cell_type": "code",
   "execution_count": 136,
   "id": "277816f5",
   "metadata": {
    "ExecuteTime": {
     "end_time": "2021-10-04T18:39:55.340379Z",
     "start_time": "2021-10-04T18:39:55.260153Z"
    }
   },
   "outputs": [
    {
     "data": {
      "application/javascript": [
       "\n",
       "            setTimeout(function() {\n",
       "                var nbb_cell_id = 136;\n",
       "                var nbb_unformatted_code = \"df = pd.DataFrame(\\n    {\\n        \\\"company\\\": [company.get(\\\"name\\\") for company in data],\\n        \\\"revenue\\\": [company.get(\\\"revenue\\\", {}).get(\\\"value\\\") for company in data],\\n        \\\"nbEmployees\\\": [company.get(\\\"nbEmployees\\\", None) for company in data],\\n        \\\"founding_year\\\": [get_founding_year(company) for company in data],\\n        \\\"locations\\\": [\\n            company.get(\\\"location\\\", {}).get(\\\"country\\\", {}).get(\\\"name\\\")\\n            for company in data\\n        ],\\n        \\\"isPublic\\\": [company.get(\\\"isPublic\\\") for company in data],\\n        \\\"industries\\\": [company.get(\\\"industries\\\") for company in data],\\n    }\\n)\\n\\ndf = df[df.notnull().all(axis=1)]\\ndf[\\\"founding_year\\\"] = df[\\\"founding_year\\\"].astype(int)\\ndf[\\\"year_from_now\\\"] = df[\\\"founding_year\\\"].apply(lambda row: datetime.now().year - row)\";\n",
       "                var nbb_formatted_code = \"df = pd.DataFrame(\\n    {\\n        \\\"company\\\": [company.get(\\\"name\\\") for company in data],\\n        \\\"revenue\\\": [company.get(\\\"revenue\\\", {}).get(\\\"value\\\") for company in data],\\n        \\\"nbEmployees\\\": [company.get(\\\"nbEmployees\\\", None) for company in data],\\n        \\\"founding_year\\\": [get_founding_year(company) for company in data],\\n        \\\"locations\\\": [\\n            company.get(\\\"location\\\", {}).get(\\\"country\\\", {}).get(\\\"name\\\")\\n            for company in data\\n        ],\\n        \\\"isPublic\\\": [company.get(\\\"isPublic\\\") for company in data],\\n        \\\"industries\\\": [company.get(\\\"industries\\\") for company in data],\\n    }\\n)\\n\\ndf = df[df.notnull().all(axis=1)]\\ndf[\\\"founding_year\\\"] = df[\\\"founding_year\\\"].astype(int)\\ndf[\\\"year_from_now\\\"] = df[\\\"founding_year\\\"].apply(lambda row: datetime.now().year - row)\";\n",
       "                var nbb_cells = Jupyter.notebook.get_cells();\n",
       "                for (var i = 0; i < nbb_cells.length; ++i) {\n",
       "                    if (nbb_cells[i].input_prompt_number == nbb_cell_id) {\n",
       "                        if (nbb_cells[i].get_text() == nbb_unformatted_code) {\n",
       "                             nbb_cells[i].set_text(nbb_formatted_code);\n",
       "                        }\n",
       "                        break;\n",
       "                    }\n",
       "                }\n",
       "            }, 500);\n",
       "            "
      ],
      "text/plain": [
       "<IPython.core.display.Javascript object>"
      ]
     },
     "metadata": {},
     "output_type": "display_data"
    }
   ],
   "source": [
    "df = pd.DataFrame(\n",
    "    {\n",
    "        \"company\": [company.get(\"name\") for company in data],\n",
    "        \"revenue\": [company.get(\"revenue\", {}).get(\"value\") for company in data],\n",
    "        \"nbEmployees\": [company.get(\"nbEmployees\", None) for company in data],\n",
    "        \"founding_year\": [get_founding_year(company) for company in data],\n",
    "        \"locations\": [\n",
    "            company.get(\"location\", {}).get(\"country\", {}).get(\"name\")\n",
    "            for company in data\n",
    "        ],\n",
    "        \"isPublic\": [company.get(\"isPublic\") for company in data],\n",
    "        \"industries\": [company.get(\"industries\") for company in data],\n",
    "    }\n",
    ")\n",
    "\n",
    "df = df[df.notnull().all(axis=1)]\n",
    "df[\"founding_year\"] = df[\"founding_year\"].astype(int)\n",
    "df[\"year_from_now\"] = df[\"founding_year\"].apply(lambda row: datetime.now().year - row)"
   ]
  },
  {
   "cell_type": "code",
   "execution_count": 137,
   "id": "cc981eb0",
   "metadata": {
    "ExecuteTime": {
     "end_time": "2021-10-04T18:39:55.606031Z",
     "start_time": "2021-10-04T18:39:55.588935Z"
    }
   },
   "outputs": [
    {
     "data": {
      "application/javascript": [
       "\n",
       "            setTimeout(function() {\n",
       "                var nbb_cell_id = 137;\n",
       "                var nbb_unformatted_code = \"df[\\\"isPublic\\\"] = df[\\\"isPublic\\\"].map({True: \\\"public\\\", False: \\\"private\\\"})\";\n",
       "                var nbb_formatted_code = \"df[\\\"isPublic\\\"] = df[\\\"isPublic\\\"].map({True: \\\"public\\\", False: \\\"private\\\"})\";\n",
       "                var nbb_cells = Jupyter.notebook.get_cells();\n",
       "                for (var i = 0; i < nbb_cells.length; ++i) {\n",
       "                    if (nbb_cells[i].input_prompt_number == nbb_cell_id) {\n",
       "                        if (nbb_cells[i].get_text() == nbb_unformatted_code) {\n",
       "                             nbb_cells[i].set_text(nbb_formatted_code);\n",
       "                        }\n",
       "                        break;\n",
       "                    }\n",
       "                }\n",
       "            }, 500);\n",
       "            "
      ],
      "text/plain": [
       "<IPython.core.display.Javascript object>"
      ]
     },
     "metadata": {},
     "output_type": "display_data"
    }
   ],
   "source": [
    "df[\"isPublic\"] = df[\"isPublic\"].map({True: \"public\", False: \"private\"})"
   ]
  },
  {
   "cell_type": "code",
   "execution_count": 138,
   "id": "feac4ac2",
   "metadata": {
    "ExecuteTime": {
     "end_time": "2021-10-04T18:39:55.917028Z",
     "start_time": "2021-10-04T18:39:55.899613Z"
    }
   },
   "outputs": [
    {
     "data": {
      "application/javascript": [
       "\n",
       "            setTimeout(function() {\n",
       "                var nbb_cell_id = 138;\n",
       "                var nbb_unformatted_code = \"def turn_list_into_a_string(industries: list):\\n    industries = str(industries).replace(\\\"[\\\", \\\"\\\").replace(\\\"]\\\", \\\"\\\").replace(\\\"'\\\", \\\"\\\")\\n    return industries\";\n",
       "                var nbb_formatted_code = \"def turn_list_into_a_string(industries: list):\\n    industries = str(industries).replace(\\\"[\\\", \\\"\\\").replace(\\\"]\\\", \\\"\\\").replace(\\\"'\\\", \\\"\\\")\\n    return industries\";\n",
       "                var nbb_cells = Jupyter.notebook.get_cells();\n",
       "                for (var i = 0; i < nbb_cells.length; ++i) {\n",
       "                    if (nbb_cells[i].input_prompt_number == nbb_cell_id) {\n",
       "                        if (nbb_cells[i].get_text() == nbb_unformatted_code) {\n",
       "                             nbb_cells[i].set_text(nbb_formatted_code);\n",
       "                        }\n",
       "                        break;\n",
       "                    }\n",
       "                }\n",
       "            }, 500);\n",
       "            "
      ],
      "text/plain": [
       "<IPython.core.display.Javascript object>"
      ]
     },
     "metadata": {},
     "output_type": "display_data"
    }
   ],
   "source": [
    "def turn_list_into_a_string(industries: list):\n",
    "    industries = str(industries).replace(\"[\", \"\").replace(\"]\", \"\").replace(\"'\", \"\")\n",
    "    return industries"
   ]
  },
  {
   "cell_type": "code",
   "execution_count": 139,
   "id": "318fe7d0",
   "metadata": {
    "ExecuteTime": {
     "end_time": "2021-10-04T18:39:57.313269Z",
     "start_time": "2021-10-04T18:39:57.307494Z"
    }
   },
   "outputs": [
    {
     "data": {
      "application/javascript": [
       "\n",
       "            setTimeout(function() {\n",
       "                var nbb_cell_id = 139;\n",
       "                var nbb_unformatted_code = \"df[\\\"industries\\\"] = df[\\\"industries\\\"].apply(remove_bracket)\";\n",
       "                var nbb_formatted_code = \"df[\\\"industries\\\"] = df[\\\"industries\\\"].apply(remove_bracket)\";\n",
       "                var nbb_cells = Jupyter.notebook.get_cells();\n",
       "                for (var i = 0; i < nbb_cells.length; ++i) {\n",
       "                    if (nbb_cells[i].input_prompt_number == nbb_cell_id) {\n",
       "                        if (nbb_cells[i].get_text() == nbb_unformatted_code) {\n",
       "                             nbb_cells[i].set_text(nbb_formatted_code);\n",
       "                        }\n",
       "                        break;\n",
       "                    }\n",
       "                }\n",
       "            }, 500);\n",
       "            "
      ],
      "text/plain": [
       "<IPython.core.display.Javascript object>"
      ]
     },
     "metadata": {},
     "output_type": "display_data"
    }
   ],
   "source": [
    "df[\"industries\"] = df[\"industries\"].apply(remove_bracket)"
   ]
  },
  {
   "cell_type": "code",
   "execution_count": 141,
   "id": "9cb45fcf",
   "metadata": {
    "ExecuteTime": {
     "end_time": "2021-10-04T18:40:11.118556Z",
     "start_time": "2021-10-04T18:40:11.086069Z"
    }
   },
   "outputs": [
    {
     "data": {
      "text/html": [
       "<div>\n",
       "<style scoped>\n",
       "    .dataframe tbody tr th:only-of-type {\n",
       "        vertical-align: middle;\n",
       "    }\n",
       "\n",
       "    .dataframe tbody tr th {\n",
       "        vertical-align: top;\n",
       "    }\n",
       "\n",
       "    .dataframe thead th {\n",
       "        text-align: right;\n",
       "    }\n",
       "</style>\n",
       "<table border=\"1\" class=\"dataframe\">\n",
       "  <thead>\n",
       "    <tr style=\"text-align: right;\">\n",
       "      <th></th>\n",
       "      <th>company</th>\n",
       "      <th>revenue</th>\n",
       "      <th>nbEmployees</th>\n",
       "      <th>founding_year</th>\n",
       "      <th>locations</th>\n",
       "      <th>isPublic</th>\n",
       "      <th>industries</th>\n",
       "      <th>year_from_now</th>\n",
       "    </tr>\n",
       "  </thead>\n",
       "  <tbody>\n",
       "    <tr>\n",
       "      <th>0</th>\n",
       "      <td>Google</td>\n",
       "      <td>6.600100e+10</td>\n",
       "      <td>150000</td>\n",
       "      <td>1998</td>\n",
       "      <td>United States of America</td>\n",
       "      <td>public</td>\n",
       "      <td>Manufacturing Companies, Electronic Products M...</td>\n",
       "      <td>23</td>\n",
       "    </tr>\n",
       "    <tr>\n",
       "      <th>1</th>\n",
       "      <td>ABB</td>\n",
       "      <td>3.431200e+10</td>\n",
       "      <td>60000</td>\n",
       "      <td>1988</td>\n",
       "      <td>Switzerland</td>\n",
       "      <td>public</td>\n",
       "      <td>Software Companies, Artificial Intelligence Co...</td>\n",
       "      <td>33</td>\n",
       "    </tr>\n",
       "    <tr>\n",
       "      <th>2</th>\n",
       "      <td>Google</td>\n",
       "      <td>4.900000e+08</td>\n",
       "      <td>35000</td>\n",
       "      <td>1998</td>\n",
       "      <td>United States of America</td>\n",
       "      <td>private</td>\n",
       "      <td>Software Companies, Artificial Intelligence Co...</td>\n",
       "      <td>23</td>\n",
       "    </tr>\n",
       "    <tr>\n",
       "      <th>3</th>\n",
       "      <td>Rockwell Automation Inc.</td>\n",
       "      <td>6.666000e+09</td>\n",
       "      <td>23500</td>\n",
       "      <td>1903</td>\n",
       "      <td>United States of America</td>\n",
       "      <td>public</td>\n",
       "      <td>Manufacturing Companies, Software Companies, A...</td>\n",
       "      <td>118</td>\n",
       "    </tr>\n",
       "    <tr>\n",
       "      <th>4</th>\n",
       "      <td>Keyence</td>\n",
       "      <td>4.958000e+09</td>\n",
       "      <td>7500</td>\n",
       "      <td>1974</td>\n",
       "      <td>Japan</td>\n",
       "      <td>public</td>\n",
       "      <td>Manufacturing Companies, Electronic Products M...</td>\n",
       "      <td>47</td>\n",
       "    </tr>\n",
       "  </tbody>\n",
       "</table>\n",
       "</div>"
      ],
      "text/plain": [
       "                    company       revenue  nbEmployees  founding_year  \\\n",
       "0                    Google  6.600100e+10       150000           1998   \n",
       "1                       ABB  3.431200e+10        60000           1988   \n",
       "2                    Google  4.900000e+08        35000           1998   \n",
       "3  Rockwell Automation Inc.  6.666000e+09        23500           1903   \n",
       "4                   Keyence  4.958000e+09         7500           1974   \n",
       "\n",
       "                  locations isPublic  \\\n",
       "0  United States of America   public   \n",
       "1               Switzerland   public   \n",
       "2  United States of America  private   \n",
       "3  United States of America   public   \n",
       "4                     Japan   public   \n",
       "\n",
       "                                          industries  year_from_now  \n",
       "0  Manufacturing Companies, Electronic Products M...             23  \n",
       "1  Software Companies, Artificial Intelligence Co...             33  \n",
       "2  Software Companies, Artificial Intelligence Co...             23  \n",
       "3  Manufacturing Companies, Software Companies, A...            118  \n",
       "4  Manufacturing Companies, Electronic Products M...             47  "
      ]
     },
     "execution_count": 141,
     "metadata": {},
     "output_type": "execute_result"
    },
    {
     "data": {
      "application/javascript": [
       "\n",
       "            setTimeout(function() {\n",
       "                var nbb_cell_id = 141;\n",
       "                var nbb_unformatted_code = \"df.head(5)\";\n",
       "                var nbb_formatted_code = \"df.head(5)\";\n",
       "                var nbb_cells = Jupyter.notebook.get_cells();\n",
       "                for (var i = 0; i < nbb_cells.length; ++i) {\n",
       "                    if (nbb_cells[i].input_prompt_number == nbb_cell_id) {\n",
       "                        if (nbb_cells[i].get_text() == nbb_unformatted_code) {\n",
       "                             nbb_cells[i].set_text(nbb_formatted_code);\n",
       "                        }\n",
       "                        break;\n",
       "                    }\n",
       "                }\n",
       "            }, 500);\n",
       "            "
      ],
      "text/plain": [
       "<IPython.core.display.Javascript object>"
      ]
     },
     "metadata": {},
     "output_type": "display_data"
    }
   ],
   "source": [
    "df.head(5)"
   ]
  },
  {
   "cell_type": "code",
   "execution_count": 102,
   "id": "7792daf0",
   "metadata": {
    "ExecuteTime": {
     "end_time": "2021-10-03T22:41:51.664496Z",
     "start_time": "2021-10-03T22:41:51.634683Z"
    }
   },
   "outputs": [
    {
     "data": {
      "application/javascript": [
       "\n",
       "            setTimeout(function() {\n",
       "                var nbb_cell_id = 102;\n",
       "                var nbb_unformatted_code = \"def human_format(num: float):\\n    \\\"\\\"\\\"Turn a number into human-readable format\\\"\\\"\\\"\\n    num = float(\\\"{:.3g}\\\".format(num))\\n    magnitude = 0\\n    while abs(num) >= 1000:\\n        magnitude += 1\\n        num /= 1000.0\\n    return \\\"{}{}\\\".format(\\n        \\\"{:f}\\\".format(num).rstrip(\\\"0\\\").rstrip(\\\".\\\"), [\\\"\\\", \\\"K\\\", \\\"M\\\", \\\"B\\\", \\\"T\\\"][magnitude]\\n    )\";\n",
       "                var nbb_formatted_code = \"def human_format(num: float):\\n    \\\"\\\"\\\"Turn a number into human-readable format\\\"\\\"\\\"\\n    num = float(\\\"{:.3g}\\\".format(num))\\n    magnitude = 0\\n    while abs(num) >= 1000:\\n        magnitude += 1\\n        num /= 1000.0\\n    return \\\"{}{}\\\".format(\\n        \\\"{:f}\\\".format(num).rstrip(\\\"0\\\").rstrip(\\\".\\\"), [\\\"\\\", \\\"K\\\", \\\"M\\\", \\\"B\\\", \\\"T\\\"][magnitude]\\n    )\";\n",
       "                var nbb_cells = Jupyter.notebook.get_cells();\n",
       "                for (var i = 0; i < nbb_cells.length; ++i) {\n",
       "                    if (nbb_cells[i].input_prompt_number == nbb_cell_id) {\n",
       "                        if (nbb_cells[i].get_text() == nbb_unformatted_code) {\n",
       "                             nbb_cells[i].set_text(nbb_formatted_code);\n",
       "                        }\n",
       "                        break;\n",
       "                    }\n",
       "                }\n",
       "            }, 500);\n",
       "            "
      ],
      "text/plain": [
       "<IPython.core.display.Javascript object>"
      ]
     },
     "metadata": {},
     "output_type": "display_data"
    }
   ],
   "source": [
    "def human_format(num: float):\n",
    "    \"\"\"Turn a number into human-readable format\"\"\"\n",
    "    num = float(\"{:.3g}\".format(num))\n",
    "    magnitude = 0\n",
    "    while abs(num) >= 1000:\n",
    "        magnitude += 1\n",
    "        num /= 1000.0\n",
    "    return \"{}{}\".format(\n",
    "        \"{:f}\".format(num).rstrip(\"0\").rstrip(\".\"), [\"\", \"K\", \"M\", \"B\", \"T\"][magnitude]\n",
    "    )"
   ]
  },
  {
   "cell_type": "code",
   "execution_count": 103,
   "id": "18a165ff",
   "metadata": {
    "ExecuteTime": {
     "end_time": "2021-10-03T22:41:52.176874Z",
     "start_time": "2021-10-03T22:41:52.156166Z"
    }
   },
   "outputs": [
    {
     "data": {
      "application/javascript": [
       "\n",
       "            setTimeout(function() {\n",
       "                var nbb_cell_id = 103;\n",
       "                var nbb_unformatted_code = \"def num_to_str(number: float, median: int, median_str: str, column: str):\\n    if number <= median:\\n        return f\\\"{column} <= {median_str}\\\"\\n    else:\\n        return f\\\"{column} > {median_str}\\\"\";\n",
       "                var nbb_formatted_code = \"def num_to_str(number: float, median: int, median_str: str, column: str):\\n    if number <= median:\\n        return f\\\"{column} <= {median_str}\\\"\\n    else:\\n        return f\\\"{column} > {median_str}\\\"\";\n",
       "                var nbb_cells = Jupyter.notebook.get_cells();\n",
       "                for (var i = 0; i < nbb_cells.length; ++i) {\n",
       "                    if (nbb_cells[i].input_prompt_number == nbb_cell_id) {\n",
       "                        if (nbb_cells[i].get_text() == nbb_unformatted_code) {\n",
       "                             nbb_cells[i].set_text(nbb_formatted_code);\n",
       "                        }\n",
       "                        break;\n",
       "                    }\n",
       "                }\n",
       "            }, 500);\n",
       "            "
      ],
      "text/plain": [
       "<IPython.core.display.Javascript object>"
      ]
     },
     "metadata": {},
     "output_type": "display_data"
    }
   ],
   "source": [
    "def num_to_str(number: float, median: int, median_str: str, column: str):\n",
    "    if number <= median:\n",
    "        return f\"{column} <= {median_str}\"\n",
    "    else:\n",
    "        return f\"{column} > {median_str}\""
   ]
  },
  {
   "cell_type": "code",
   "execution_count": 104,
   "id": "a7629e99",
   "metadata": {
    "ExecuteTime": {
     "end_time": "2021-10-03T22:41:53.020999Z",
     "start_time": "2021-10-03T22:41:52.996407Z"
    }
   },
   "outputs": [
    {
     "data": {
      "application/javascript": [
       "\n",
       "            setTimeout(function() {\n",
       "                var nbb_cell_id = 104;\n",
       "                var nbb_unformatted_code = \"def map_values_based_on_median(column: str, data: pd.DataFrame):\\n    df = data.copy()\\n    median = df[column].median()\\n    median_str = human_format(median)\\n    df[column] = df[column].apply(\\n        lambda row: num_to_str(row, median, median_str, column)\\n    )\\n    return df\";\n",
       "                var nbb_formatted_code = \"def map_values_based_on_median(column: str, data: pd.DataFrame):\\n    df = data.copy()\\n    median = df[column].median()\\n    median_str = human_format(median)\\n    df[column] = df[column].apply(\\n        lambda row: num_to_str(row, median, median_str, column)\\n    )\\n    return df\";\n",
       "                var nbb_cells = Jupyter.notebook.get_cells();\n",
       "                for (var i = 0; i < nbb_cells.length; ++i) {\n",
       "                    if (nbb_cells[i].input_prompt_number == nbb_cell_id) {\n",
       "                        if (nbb_cells[i].get_text() == nbb_unformatted_code) {\n",
       "                             nbb_cells[i].set_text(nbb_formatted_code);\n",
       "                        }\n",
       "                        break;\n",
       "                    }\n",
       "                }\n",
       "            }, 500);\n",
       "            "
      ],
      "text/plain": [
       "<IPython.core.display.Javascript object>"
      ]
     },
     "metadata": {},
     "output_type": "display_data"
    }
   ],
   "source": [
    "def map_values_based_on_median(column: str, data: pd.DataFrame):\n",
    "    df = data.copy()\n",
    "    median = df[column].median()\n",
    "    median_str = human_format(median)\n",
    "    df[column] = df[column].apply(\n",
    "        lambda row: num_to_str(row, median, median_str, column)\n",
    "    )\n",
    "    return df"
   ]
  },
  {
   "cell_type": "code",
   "execution_count": 105,
   "id": "8f554790",
   "metadata": {
    "ExecuteTime": {
     "end_time": "2021-10-03T22:41:54.148454Z",
     "start_time": "2021-10-03T22:41:54.131194Z"
    }
   },
   "outputs": [
    {
     "data": {
      "application/javascript": [
       "\n",
       "            setTimeout(function() {\n",
       "                var nbb_cell_id = 105;\n",
       "                var nbb_unformatted_code = \"df = map_values_based_on_median(\\\"revenue\\\", df)\";\n",
       "                var nbb_formatted_code = \"df = map_values_based_on_median(\\\"revenue\\\", df)\";\n",
       "                var nbb_cells = Jupyter.notebook.get_cells();\n",
       "                for (var i = 0; i < nbb_cells.length; ++i) {\n",
       "                    if (nbb_cells[i].input_prompt_number == nbb_cell_id) {\n",
       "                        if (nbb_cells[i].get_text() == nbb_unformatted_code) {\n",
       "                             nbb_cells[i].set_text(nbb_formatted_code);\n",
       "                        }\n",
       "                        break;\n",
       "                    }\n",
       "                }\n",
       "            }, 500);\n",
       "            "
      ],
      "text/plain": [
       "<IPython.core.display.Javascript object>"
      ]
     },
     "metadata": {},
     "output_type": "display_data"
    }
   ],
   "source": [
    "df = map_values_based_on_median(\"revenue\", df)"
   ]
  },
  {
   "cell_type": "code",
   "execution_count": 106,
   "id": "f74e9c78",
   "metadata": {
    "ExecuteTime": {
     "end_time": "2021-10-03T22:41:54.803048Z",
     "start_time": "2021-10-03T22:41:54.786526Z"
    }
   },
   "outputs": [
    {
     "data": {
      "application/javascript": [
       "\n",
       "            setTimeout(function() {\n",
       "                var nbb_cell_id = 106;\n",
       "                var nbb_unformatted_code = \"df = map_values_based_on_median(\\\"nbEmployees\\\", df)\";\n",
       "                var nbb_formatted_code = \"df = map_values_based_on_median(\\\"nbEmployees\\\", df)\";\n",
       "                var nbb_cells = Jupyter.notebook.get_cells();\n",
       "                for (var i = 0; i < nbb_cells.length; ++i) {\n",
       "                    if (nbb_cells[i].input_prompt_number == nbb_cell_id) {\n",
       "                        if (nbb_cells[i].get_text() == nbb_unformatted_code) {\n",
       "                             nbb_cells[i].set_text(nbb_formatted_code);\n",
       "                        }\n",
       "                        break;\n",
       "                    }\n",
       "                }\n",
       "            }, 500);\n",
       "            "
      ],
      "text/plain": [
       "<IPython.core.display.Javascript object>"
      ]
     },
     "metadata": {},
     "output_type": "display_data"
    }
   ],
   "source": [
    "df = map_values_based_on_median(\"nbEmployees\", df)"
   ]
  },
  {
   "cell_type": "code",
   "execution_count": 107,
   "id": "9df6b103",
   "metadata": {
    "ExecuteTime": {
     "end_time": "2021-10-03T22:41:55.300113Z",
     "start_time": "2021-10-03T22:41:55.282419Z"
    }
   },
   "outputs": [
    {
     "data": {
      "application/javascript": [
       "\n",
       "            setTimeout(function() {\n",
       "                var nbb_cell_id = 107;\n",
       "                var nbb_unformatted_code = \"df = map_values_based_on_median(\\\"year_from_now\\\", df)\";\n",
       "                var nbb_formatted_code = \"df = map_values_based_on_median(\\\"year_from_now\\\", df)\";\n",
       "                var nbb_cells = Jupyter.notebook.get_cells();\n",
       "                for (var i = 0; i < nbb_cells.length; ++i) {\n",
       "                    if (nbb_cells[i].input_prompt_number == nbb_cell_id) {\n",
       "                        if (nbb_cells[i].get_text() == nbb_unformatted_code) {\n",
       "                             nbb_cells[i].set_text(nbb_formatted_code);\n",
       "                        }\n",
       "                        break;\n",
       "                    }\n",
       "                }\n",
       "            }, 500);\n",
       "            "
      ],
      "text/plain": [
       "<IPython.core.display.Javascript object>"
      ]
     },
     "metadata": {},
     "output_type": "display_data"
    }
   ],
   "source": [
    "df = map_values_based_on_median(\"year_from_now\", df)"
   ]
  },
  {
   "cell_type": "code",
   "execution_count": 110,
   "id": "a43030c1",
   "metadata": {
    "ExecuteTime": {
     "end_time": "2021-10-03T22:42:40.222974Z",
     "start_time": "2021-10-03T22:42:40.183007Z"
    }
   },
   "outputs": [
    {
     "data": {
      "text/html": [
       "<div>\n",
       "<style scoped>\n",
       "    .dataframe tbody tr th:only-of-type {\n",
       "        vertical-align: middle;\n",
       "    }\n",
       "\n",
       "    .dataframe tbody tr th {\n",
       "        vertical-align: top;\n",
       "    }\n",
       "\n",
       "    .dataframe thead th {\n",
       "        text-align: right;\n",
       "    }\n",
       "</style>\n",
       "<table border=\"1\" class=\"dataframe\">\n",
       "  <thead>\n",
       "    <tr style=\"text-align: right;\">\n",
       "      <th></th>\n",
       "      <th>company</th>\n",
       "      <th>revenue</th>\n",
       "      <th>nbEmployees</th>\n",
       "      <th>founding_year</th>\n",
       "      <th>locations</th>\n",
       "      <th>isPublic</th>\n",
       "      <th>industries</th>\n",
       "      <th>year_from_now</th>\n",
       "    </tr>\n",
       "  </thead>\n",
       "  <tbody>\n",
       "    <tr>\n",
       "      <th>0</th>\n",
       "      <td>Google</td>\n",
       "      <td>revenue &gt; 24M</td>\n",
       "      <td>nbEmployees &gt; 350</td>\n",
       "      <td>1998</td>\n",
       "      <td>United States of America</td>\n",
       "      <td>public</td>\n",
       "      <td>Manufacturing Companies, Electronic Products M...</td>\n",
       "      <td>year_from_now &gt; 19</td>\n",
       "    </tr>\n",
       "    <tr>\n",
       "      <th>1</th>\n",
       "      <td>ABB</td>\n",
       "      <td>revenue &gt; 24M</td>\n",
       "      <td>nbEmployees &gt; 350</td>\n",
       "      <td>1988</td>\n",
       "      <td>Switzerland</td>\n",
       "      <td>public</td>\n",
       "      <td>Software Companies, Artificial Intelligence Co...</td>\n",
       "      <td>year_from_now &gt; 19</td>\n",
       "    </tr>\n",
       "    <tr>\n",
       "      <th>2</th>\n",
       "      <td>Google</td>\n",
       "      <td>revenue &gt; 24M</td>\n",
       "      <td>nbEmployees &gt; 350</td>\n",
       "      <td>1998</td>\n",
       "      <td>United States of America</td>\n",
       "      <td>private</td>\n",
       "      <td>Software Companies, Artificial Intelligence Co...</td>\n",
       "      <td>year_from_now &gt; 19</td>\n",
       "    </tr>\n",
       "    <tr>\n",
       "      <th>3</th>\n",
       "      <td>Rockwell Automation Inc.</td>\n",
       "      <td>revenue &gt; 24M</td>\n",
       "      <td>nbEmployees &gt; 350</td>\n",
       "      <td>1903</td>\n",
       "      <td>United States of America</td>\n",
       "      <td>public</td>\n",
       "      <td>Manufacturing Companies, Software Companies, A...</td>\n",
       "      <td>year_from_now &gt; 19</td>\n",
       "    </tr>\n",
       "    <tr>\n",
       "      <th>4</th>\n",
       "      <td>Keyence</td>\n",
       "      <td>revenue &gt; 24M</td>\n",
       "      <td>nbEmployees &gt; 350</td>\n",
       "      <td>1974</td>\n",
       "      <td>Japan</td>\n",
       "      <td>public</td>\n",
       "      <td>Manufacturing Companies, Electronic Products M...</td>\n",
       "      <td>year_from_now &gt; 19</td>\n",
       "    </tr>\n",
       "    <tr>\n",
       "      <th>...</th>\n",
       "      <td>...</td>\n",
       "      <td>...</td>\n",
       "      <td>...</td>\n",
       "      <td>...</td>\n",
       "      <td>...</td>\n",
       "      <td>...</td>\n",
       "      <td>...</td>\n",
       "      <td>...</td>\n",
       "    </tr>\n",
       "    <tr>\n",
       "      <th>995</th>\n",
       "      <td>WITHIN</td>\n",
       "      <td>revenue &lt;= 24M</td>\n",
       "      <td>nbEmployees &lt;= 350</td>\n",
       "      <td>2014</td>\n",
       "      <td>United States of America</td>\n",
       "      <td>private</td>\n",
       "      <td>Software Companies, Artificial Intelligence Co...</td>\n",
       "      <td>year_from_now &lt;= 19</td>\n",
       "    </tr>\n",
       "    <tr>\n",
       "      <th>996</th>\n",
       "      <td>Primer</td>\n",
       "      <td>revenue &lt;= 24M</td>\n",
       "      <td>nbEmployees &lt;= 350</td>\n",
       "      <td>2015</td>\n",
       "      <td>United States of America</td>\n",
       "      <td>private</td>\n",
       "      <td>Software Companies, Artificial Intelligence Co...</td>\n",
       "      <td>year_from_now &lt;= 19</td>\n",
       "    </tr>\n",
       "    <tr>\n",
       "      <th>997</th>\n",
       "      <td>Omdena</td>\n",
       "      <td>revenue &lt;= 24M</td>\n",
       "      <td>nbEmployees &lt;= 350</td>\n",
       "      <td>2019</td>\n",
       "      <td>United States of America</td>\n",
       "      <td>private</td>\n",
       "      <td>Software Companies, Artificial Intelligence Co...</td>\n",
       "      <td>year_from_now &lt;= 19</td>\n",
       "    </tr>\n",
       "    <tr>\n",
       "      <th>998</th>\n",
       "      <td>Clerk.io</td>\n",
       "      <td>revenue &lt;= 24M</td>\n",
       "      <td>nbEmployees &lt;= 350</td>\n",
       "      <td>2011</td>\n",
       "      <td>Denmark</td>\n",
       "      <td>private</td>\n",
       "      <td>Software Companies, Artificial Intelligence Co...</td>\n",
       "      <td>year_from_now &lt;= 19</td>\n",
       "    </tr>\n",
       "    <tr>\n",
       "      <th>999</th>\n",
       "      <td>BOS</td>\n",
       "      <td>revenue &lt;= 24M</td>\n",
       "      <td>nbEmployees &lt;= 350</td>\n",
       "      <td>1992</td>\n",
       "      <td>United States of America</td>\n",
       "      <td>private</td>\n",
       "      <td>Software Companies, Artificial Intelligence Co...</td>\n",
       "      <td>year_from_now &gt; 19</td>\n",
       "    </tr>\n",
       "  </tbody>\n",
       "</table>\n",
       "<p>875 rows × 8 columns</p>\n",
       "</div>"
      ],
      "text/plain": [
       "                      company         revenue         nbEmployees  \\\n",
       "0                      Google   revenue > 24M   nbEmployees > 350   \n",
       "1                         ABB   revenue > 24M   nbEmployees > 350   \n",
       "2                      Google   revenue > 24M   nbEmployees > 350   \n",
       "3    Rockwell Automation Inc.   revenue > 24M   nbEmployees > 350   \n",
       "4                     Keyence   revenue > 24M   nbEmployees > 350   \n",
       "..                        ...             ...                 ...   \n",
       "995                    WITHIN  revenue <= 24M  nbEmployees <= 350   \n",
       "996                    Primer  revenue <= 24M  nbEmployees <= 350   \n",
       "997                    Omdena  revenue <= 24M  nbEmployees <= 350   \n",
       "998                  Clerk.io  revenue <= 24M  nbEmployees <= 350   \n",
       "999                       BOS  revenue <= 24M  nbEmployees <= 350   \n",
       "\n",
       "     founding_year                 locations isPublic  \\\n",
       "0             1998  United States of America   public   \n",
       "1             1988               Switzerland   public   \n",
       "2             1998  United States of America  private   \n",
       "3             1903  United States of America   public   \n",
       "4             1974                     Japan   public   \n",
       "..             ...                       ...      ...   \n",
       "995           2014  United States of America  private   \n",
       "996           2015  United States of America  private   \n",
       "997           2019  United States of America  private   \n",
       "998           2011                   Denmark  private   \n",
       "999           1992  United States of America  private   \n",
       "\n",
       "                                            industries        year_from_now  \n",
       "0    Manufacturing Companies, Electronic Products M...   year_from_now > 19  \n",
       "1    Software Companies, Artificial Intelligence Co...   year_from_now > 19  \n",
       "2    Software Companies, Artificial Intelligence Co...   year_from_now > 19  \n",
       "3    Manufacturing Companies, Software Companies, A...   year_from_now > 19  \n",
       "4    Manufacturing Companies, Electronic Products M...   year_from_now > 19  \n",
       "..                                                 ...                  ...  \n",
       "995  Software Companies, Artificial Intelligence Co...  year_from_now <= 19  \n",
       "996  Software Companies, Artificial Intelligence Co...  year_from_now <= 19  \n",
       "997  Software Companies, Artificial Intelligence Co...  year_from_now <= 19  \n",
       "998  Software Companies, Artificial Intelligence Co...  year_from_now <= 19  \n",
       "999  Software Companies, Artificial Intelligence Co...   year_from_now > 19  \n",
       "\n",
       "[875 rows x 8 columns]"
      ]
     },
     "execution_count": 110,
     "metadata": {},
     "output_type": "execute_result"
    },
    {
     "data": {
      "application/javascript": [
       "\n",
       "            setTimeout(function() {\n",
       "                var nbb_cell_id = 110;\n",
       "                var nbb_unformatted_code = \"df\";\n",
       "                var nbb_formatted_code = \"df\";\n",
       "                var nbb_cells = Jupyter.notebook.get_cells();\n",
       "                for (var i = 0; i < nbb_cells.length; ++i) {\n",
       "                    if (nbb_cells[i].input_prompt_number == nbb_cell_id) {\n",
       "                        if (nbb_cells[i].get_text() == nbb_unformatted_code) {\n",
       "                             nbb_cells[i].set_text(nbb_formatted_code);\n",
       "                        }\n",
       "                        break;\n",
       "                    }\n",
       "                }\n",
       "            }, 500);\n",
       "            "
      ],
      "text/plain": [
       "<IPython.core.display.Javascript object>"
      ]
     },
     "metadata": {},
     "output_type": "display_data"
    }
   ],
   "source": [
    "df"
   ]
  },
  {
   "cell_type": "code",
   "execution_count": 111,
   "id": "e4bb42a9",
   "metadata": {
    "ExecuteTime": {
     "end_time": "2021-10-03T22:42:41.555778Z",
     "start_time": "2021-10-03T22:42:41.524900Z"
    }
   },
   "outputs": [
    {
     "data": {
      "application/javascript": [
       "\n",
       "            setTimeout(function() {\n",
       "                var nbb_cell_id = 111;\n",
       "                var nbb_unformatted_code = \"df.to_csv(\\\"artificial_intelligence.csv\\\", index=False)\";\n",
       "                var nbb_formatted_code = \"df.to_csv(\\\"artificial_intelligence.csv\\\", index=False)\";\n",
       "                var nbb_cells = Jupyter.notebook.get_cells();\n",
       "                for (var i = 0; i < nbb_cells.length; ++i) {\n",
       "                    if (nbb_cells[i].input_prompt_number == nbb_cell_id) {\n",
       "                        if (nbb_cells[i].get_text() == nbb_unformatted_code) {\n",
       "                             nbb_cells[i].set_text(nbb_formatted_code);\n",
       "                        }\n",
       "                        break;\n",
       "                    }\n",
       "                }\n",
       "            }, 500);\n",
       "            "
      ],
      "text/plain": [
       "<IPython.core.display.Javascript object>"
      ]
     },
     "metadata": {},
     "output_type": "display_data"
    }
   ],
   "source": [
    "df.to_csv(\"artificial_intelligence.csv\", index=False)"
   ]
  },
  {
   "cell_type": "code",
   "execution_count": 70,
   "id": "be54ebc2",
   "metadata": {
    "ExecuteTime": {
     "end_time": "2021-10-03T22:07:48.252253Z",
     "start_time": "2021-10-03T22:07:48.215537Z"
    }
   },
   "outputs": [
    {
     "data": {
      "text/plain": [
       "Software Companies                       86\n",
       "Artificial Intelligence Companies        86\n",
       "Robotics Companies                       29\n",
       "Natural Language Processing Companies    20\n",
       "Manufacturing Companies                  15\n",
       "Computer Hardware Companies               8\n",
       "Computer Vision Companies                 8\n",
       "Electronic Products Manufacturers         6\n",
       "Enterprise Software Companies             5\n",
       "Virtual Reality Companies                 5\n",
       "Machine Manufacturers                     5\n",
       "Retailers                                 4\n",
       "Financial Technology Companies            4\n",
       "Financial Services Companies              4\n",
       "Professional Service Companies            4\n",
       "Software As A Service Companies           4\n",
       "Motor Vehicle Manufacturers               4\n",
       "Tool Manufacturers                        4\n",
       "Home Appliance Manufacturers              2\n",
       "Coworking Spaces                          2\n",
       "Engine Manufacturers                      2\n",
       "Public Administration                     2\n",
       "Display Technology Companies              2\n",
       "Audio Video Equipment Manufacturers       2\n",
       "Engineering Consulting Firms              2\n",
       "Data Providers                            2\n",
       "Internet Of Things Companies              2\n",
       "Mobile Phone Manufacturers                2\n",
       "Automotive Part Retailers                 2\n",
       "Luxury Brands                             2\n",
       "Consumer Service Companies                2\n",
       "Event Management Companies                1\n",
       "Construction Equipment Manufacturers      1\n",
       "Entertainment Companies                   1\n",
       "Standards Organizations                   1\n",
       "Database Companies                        1\n",
       "Translation Services                      1\n",
       "Business Software Companies               1\n",
       "Associations And Societies                1\n",
       "Agricultural Organizations                1\n",
       "Video Game Companies                      1\n",
       "International Organizations               1\n",
       "Engineering Societies                     1\n",
       "Air Conditioning Companies                1\n",
       "Media And Information Companies           1\n",
       "Cycle Manufacturers                       1\n",
       "Health Care Companies                     1\n",
       "Medical Organizations                     1\n",
       "Vehicle Parts Manufacturers               1\n",
       "Semiconductor Companies                   1\n",
       "Medical Technology Companies              1\n",
       "Electrical Equipment Manufacturers        1\n",
       "Construction Companies                    1\n",
       "Data Analytics Companies                  1\n",
       "Truck Manufacturers                       1\n",
       "Luxury Motor Vehicle Manufacturers        1\n",
       "Electric Vehicles                         1\n",
       "Car Manufacturers                         1\n",
       "Cloud Computing Providers                 1\n",
       "Autonomous Vehicles                       1\n",
       "Name: industries, dtype: int64"
      ]
     },
     "execution_count": 70,
     "metadata": {},
     "output_type": "execute_result"
    },
    {
     "data": {
      "application/javascript": [
       "\n",
       "            setTimeout(function() {\n",
       "                var nbb_cell_id = 70;\n",
       "                var nbb_unformatted_code = \"df.explode(\\\"industries\\\")['industries'].value_counts()\";\n",
       "                var nbb_formatted_code = \"df.explode(\\\"industries\\\")[\\\"industries\\\"].value_counts()\";\n",
       "                var nbb_cells = Jupyter.notebook.get_cells();\n",
       "                for (var i = 0; i < nbb_cells.length; ++i) {\n",
       "                    if (nbb_cells[i].input_prompt_number == nbb_cell_id) {\n",
       "                        if (nbb_cells[i].get_text() == nbb_unformatted_code) {\n",
       "                             nbb_cells[i].set_text(nbb_formatted_code);\n",
       "                        }\n",
       "                        break;\n",
       "                    }\n",
       "                }\n",
       "            }, 500);\n",
       "            "
      ],
      "text/plain": [
       "<IPython.core.display.Javascript object>"
      ]
     },
     "metadata": {},
     "output_type": "display_data"
    }
   ],
   "source": [
    "df.explode(\"industries\")[\"industries\"].value_counts()"
   ]
  },
  {
   "cell_type": "code",
   "execution_count": 132,
   "id": "6773612a",
   "metadata": {
    "ExecuteTime": {
     "end_time": "2021-10-04T01:13:23.008472Z",
     "start_time": "2021-10-04T01:13:18.293645Z"
    }
   },
   "outputs": [
    {
     "name": "stderr",
     "output_type": "stream",
     "text": [
      "Downloading...\n",
      "From: https://drive.google.com/uc?id=1gQ4TEqhC_5nyHz-Uje5SSrvHoHuSXFWc\n",
      "To: /home/khuyen/Data-science/visualization/artificial_intelligence.csv\n",
      "100%|███████████████████████████████████████████████████████████████████████████████████████████████████████████████████████████████████████████| 176k/176k [00:00<00:00, 180kB/s]\n"
     ]
    },
    {
     "data": {
      "text/plain": [
       "'artificial_intelligence.csv'"
      ]
     },
     "execution_count": 132,
     "metadata": {},
     "output_type": "execute_result"
    },
    {
     "data": {
      "application/javascript": [
       "\n",
       "            setTimeout(function() {\n",
       "                var nbb_cell_id = 132;\n",
       "                var nbb_unformatted_code = \"import gdown\\n\\nurl = \\\"https://drive.google.com/uc?id=1gQ4TEqhC_5nyHz-Uje5SSrvHoHuSXFWc\\\"\\noutput = \\\"artificial_intelligence.csv\\\"\\n\\ngdown.download(url, output, quiet=False)\";\n",
       "                var nbb_formatted_code = \"import gdown\\n\\nurl = \\\"https://drive.google.com/uc?id=1gQ4TEqhC_5nyHz-Uje5SSrvHoHuSXFWc\\\"\\noutput = \\\"artificial_intelligence.csv\\\"\\n\\ngdown.download(url, output, quiet=False)\";\n",
       "                var nbb_cells = Jupyter.notebook.get_cells();\n",
       "                for (var i = 0; i < nbb_cells.length; ++i) {\n",
       "                    if (nbb_cells[i].input_prompt_number == nbb_cell_id) {\n",
       "                        if (nbb_cells[i].get_text() == nbb_unformatted_code) {\n",
       "                             nbb_cells[i].set_text(nbb_formatted_code);\n",
       "                        }\n",
       "                        break;\n",
       "                    }\n",
       "                }\n",
       "            }, 500);\n",
       "            "
      ],
      "text/plain": [
       "<IPython.core.display.Javascript object>"
      ]
     },
     "metadata": {},
     "output_type": "display_data"
    }
   ],
   "source": [
    "import gdown\n",
    "\n",
    "url = \"https://drive.google.com/uc?id=1gQ4TEqhC_5nyHz-Uje5SSrvHoHuSXFWc\"\n",
    "output = \"artificial_intelligence.csv\"\n",
    "\n",
    "gdown.download(url, output, quiet=False)"
   ]
  },
  {
   "cell_type": "code",
   "execution_count": null,
   "id": "c65bcb9b",
   "metadata": {},
   "outputs": [],
   "source": []
  }
 ],
 "metadata": {
  "kernelspec": {
   "display_name": "Python 3 (ipykernel)",
   "language": "python",
   "name": "python3"
  },
  "language_info": {
   "codemirror_mode": {
    "name": "ipython",
    "version": 3
   },
   "file_extension": ".py",
   "mimetype": "text/x-python",
   "name": "python",
   "nbconvert_exporter": "python",
   "pygments_lexer": "ipython3",
   "version": "3.8.10"
  },
  "toc": {
   "base_numbering": 1,
   "nav_menu": {},
   "number_sections": true,
   "sideBar": true,
   "skip_h1_title": false,
   "title_cell": "Table of Contents",
   "title_sidebar": "Contents",
   "toc_cell": false,
   "toc_position": {},
   "toc_section_display": true,
   "toc_window_display": false
  }
 },
 "nbformat": 4,
 "nbformat_minor": 5
}
