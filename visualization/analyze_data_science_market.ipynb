{
 "cells": [
  {
   "cell_type": "code",
   "execution_count": 6,
   "id": "d0be8d79",
   "metadata": {
    "ExecuteTime": {
     "end_time": "2021-10-19T19:11:17.964048Z",
     "start_time": "2021-10-19T19:11:16.230170Z"
    }
   },
   "outputs": [
    {
     "name": "stdout",
     "output_type": "stream",
     "text": [
      "--2021-10-19 14:11:16--  https://kg.diffbot.com/kg/dql_endpoint?type=query&token=c2887c50296c48408adef6ca12ce831c&query=type%3AJob+title%3A%22data+scientist%22&size=25\n",
      "Resolving kg.diffbot.com (kg.diffbot.com)... 64.71.166.37, 64.71.166.38\n",
      "Connecting to kg.diffbot.com (kg.diffbot.com)|64.71.166.37|:443... connected.\n",
      "HTTP request sent, awaiting response... 200 OK\n",
      "Length: unspecified [application/json]\n",
      "Saving to: ‘data_science_jobs.json’\n",
      "\n",
      "data_science_jobs.j     [  <=>               ] 112.38K   458KB/s    in 0.2s    \n",
      "\n",
      "2021-10-19 14:11:17 (458 KB/s) - ‘data_science_jobs.json’ saved [115074]\n",
      "\n"
     ]
    }
   ],
   "source": [
    "!wget -O 'data_science_jobs.json' 'https://kg.diffbot.com/kg/dql_endpoint?type=query&token=c2887c50296c48408adef6ca12ce831c&query=type%3AJob+title%3A%22data+scientist%22&size=25'"
   ]
  },
  {
   "cell_type": "code",
   "execution_count": null,
   "id": "5f0bd94d",
   "metadata": {},
   "outputs": [],
   "source": []
  }
 ],
 "metadata": {
  "kernelspec": {
   "display_name": "Python 3 (ipykernel)",
   "language": "python",
   "name": "python3"
  },
  "language_info": {
   "codemirror_mode": {
    "name": "ipython",
    "version": 3
   },
   "file_extension": ".py",
   "mimetype": "text/x-python",
   "name": "python",
   "nbconvert_exporter": "python",
   "pygments_lexer": "ipython3",
   "version": "3.8.10"
  },
  "toc": {
   "base_numbering": 1,
   "nav_menu": {},
   "number_sections": true,
   "sideBar": true,
   "skip_h1_title": false,
   "title_cell": "Table of Contents",
   "title_sidebar": "Contents",
   "toc_cell": false,
   "toc_position": {},
   "toc_section_display": true,
   "toc_window_display": false
  }
 },
 "nbformat": 4,
 "nbformat_minor": 5
}
