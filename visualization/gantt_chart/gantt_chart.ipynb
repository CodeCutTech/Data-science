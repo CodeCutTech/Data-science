{
 "cells": [
  {
   "cell_type": "markdown",
   "id": "spatial-treatment",
   "metadata": {},
   "source": [
    "# Getting Started"
   ]
  },
  {
   "cell_type": "markdown",
   "id": "superior-timothy",
   "metadata": {},
   "source": [
    "## Set up"
   ]
  },
  {
   "cell_type": "code",
   "execution_count": 1,
   "id": "bizarre-skiing",
   "metadata": {
    "ExecuteTime": {
     "end_time": "2021-01-27T18:27:04.514408Z",
     "start_time": "2021-01-27T18:27:04.461833Z"
    }
   },
   "outputs": [],
   "source": [
    "from datetime import date\n",
    "import gantt"
   ]
  },
  {
   "cell_type": "code",
   "execution_count": 2,
   "id": "compressed-shadow",
   "metadata": {
    "ExecuteTime": {
     "end_time": "2021-01-27T18:27:04.689601Z",
     "start_time": "2021-01-27T18:27:04.684392Z"
    }
   },
   "outputs": [],
   "source": [
    "# Change font default\n",
    "gantt.define_font_attributes(fill='black', stroke='black', stroke_width=0, font_family=\"Verdana\")"
   ]
  },
  {
   "cell_type": "markdown",
   "id": "agreed-warning",
   "metadata": {},
   "source": [
    "## Create 2 employees"
   ]
  },
  {
   "cell_type": "code",
   "execution_count": 3,
   "id": "hired-branch",
   "metadata": {
    "ExecuteTime": {
     "end_time": "2021-01-27T18:27:05.062502Z",
     "start_time": "2021-01-27T18:27:05.058043Z"
    }
   },
   "outputs": [],
   "source": [
    "Ben = gantt.Resource(\"Ben\")\n",
    "Alex = gantt.Resource(\"Alex\")"
   ]
  },
  {
   "cell_type": "markdown",
   "id": "fifty-bumper",
   "metadata": {},
   "source": [
    "## Create project and its tasks"
   ]
  },
  {
   "cell_type": "code",
   "execution_count": 4,
   "id": "stylish-chance",
   "metadata": {
    "ExecuteTime": {
     "end_time": "2021-01-27T18:27:05.653041Z",
     "start_time": "2021-01-27T18:27:05.640635Z"
    }
   },
   "outputs": [],
   "source": [
    "# Create tasks\n",
    "task1_project1 = gantt.Task(name='task1', start=date(2021, 1, 27), duration=13, resources=[Ben], color=\"#a3ddcb\")\n",
    "task2_project1 = gantt.Task(name='task2', start=date(2021, 2, 10), duration=8, resources=[Alex], color=\"#a3ddcb\")\n",
    "task3_project1 = gantt.Task(name='task3', start=date(2021, 2, 19), duration=10, resources=[Ben], color=\"#a3ddcb\")\n",
    "task4_project1 = gantt.Task(name='task4', start=date(2021, 3, 1), duration=12, resources=[Ben, Alex], color=\"#a3ddcb\")"
   ]
  },
  {
   "cell_type": "code",
   "execution_count": 5,
   "id": "rubber-programmer",
   "metadata": {
    "ExecuteTime": {
     "end_time": "2021-01-27T18:27:07.270565Z",
     "start_time": "2021-01-27T18:27:07.268642Z"
    }
   },
   "outputs": [],
   "source": [
    "# Create a project\n",
    "project_1 = gantt.Project(name='Project 1')"
   ]
  },
  {
   "cell_type": "code",
   "execution_count": 6,
   "id": "tutorial-asbestos",
   "metadata": {
    "ExecuteTime": {
     "end_time": "2021-01-27T18:27:07.938640Z",
     "start_time": "2021-01-27T18:27:07.933677Z"
    }
   },
   "outputs": [],
   "source": [
    "# Add tasks to this project\n",
    "for task in [task1_project1, task2_project1, task3_project1, task4_project1]:\n",
    "    project_1.add_task(task)"
   ]
  },
  {
   "cell_type": "markdown",
   "id": "looking-disease",
   "metadata": {},
   "source": [
    "## Add Vacations"
   ]
  },
  {
   "cell_type": "code",
   "execution_count": 7,
   "id": "uniform-annex",
   "metadata": {
    "ExecuteTime": {
     "end_time": "2021-01-27T18:27:26.873240Z",
     "start_time": "2021-01-27T18:27:26.867794Z"
    }
   },
   "outputs": [],
   "source": [
    "gantt.add_vacations(start_date=date(2021, 3, 15), end_date= date(2021,3,20))"
   ]
  },
  {
   "cell_type": "markdown",
   "id": "stuffed-preservation",
   "metadata": {},
   "source": [
    "## Visualize"
   ]
  },
  {
   "cell_type": "code",
   "execution_count": 8,
   "id": "brave-wallet",
   "metadata": {
    "ExecuteTime": {
     "end_time": "2021-01-27T18:27:28.457788Z",
     "start_time": "2021-01-27T18:27:28.437677Z"
    }
   },
   "outputs": [],
   "source": [
    "project_1.make_svg_for_tasks(\n",
    "                      filename='Project_1.svg', \n",
    "                      today=date(2021, 1, 27), \n",
    "                      start=date(2021,1, 20),\n",
    "                      end=date(2021, 4, 1)\n",
    "                     )"
   ]
  },
  {
   "cell_type": "markdown",
   "id": "electric-arthur",
   "metadata": {},
   "source": [
    "The plot should be saved in your local machine. You can view svg file using svg viewer . Click [here](https://khuyentran1401.github.io/Project_1.svg) to view the plot"
   ]
  },
  {
   "cell_type": "markdown",
   "id": "linear-moment",
   "metadata": {},
   "source": [
    "# Advanced Examples"
   ]
  },
  {
   "cell_type": "markdown",
   "id": "interstate-psychology",
   "metadata": {},
   "source": [
    "## Add tasks and milestones to the second project"
   ]
  },
  {
   "cell_type": "code",
   "execution_count": 8,
   "id": "lined-worst",
   "metadata": {
    "ExecuteTime": {
     "end_time": "2021-01-27T18:17:38.825967Z",
     "start_time": "2021-01-27T18:17:38.822673Z"
    }
   },
   "outputs": [],
   "source": [
    "# Create tasks for project 2\n",
    "task1_project2 = gantt.Task(name='task1', start=date(2021, 3, 13), duration=10, resources=[Alex], color=\"#ffe3de\")\n",
    "task2_project2 = gantt.Task(name='task2', start=date(2021, 3, 23), duration=8, resources=[Ben], color=\"#ffe3de\")\n",
    "task3_project2 = gantt.Task(name='task3', start=date(2021, 3, 24), duration=10, resources=[Ben], color=\"#ffe3de\")\n",
    "task4_project2 = gantt.Task(name='task4', start=date(2021, 4, 5), duration=5, resources=[Ben, Alex], color=\"#ffe3de\")"
   ]
  },
  {
   "cell_type": "code",
   "execution_count": 9,
   "id": "mighty-seller",
   "metadata": {
    "ExecuteTime": {
     "end_time": "2021-01-27T18:17:38.839732Z",
     "start_time": "2021-01-27T18:17:38.827187Z"
    }
   },
   "outputs": [],
   "source": [
    "# Add milestones\n",
    "ms1 = gantt.Milestone(name='Milestone 1', depends_of=[task1_project2, task3_project2])\n",
    "ms2 = gantt.Milestone(name='Milestone 2', depends_of=[task1_project2, task4_project2])"
   ]
  },
  {
   "cell_type": "code",
   "execution_count": 10,
   "id": "verified-campus",
   "metadata": {
    "ExecuteTime": {
     "end_time": "2021-01-27T18:17:38.850760Z",
     "start_time": "2021-01-27T18:17:38.842084Z"
    }
   },
   "outputs": [],
   "source": [
    "# Create project 2\n",
    "project_2 = gantt.Project(name='Project 2')"
   ]
  },
  {
   "cell_type": "code",
   "execution_count": 11,
   "id": "wicked-mention",
   "metadata": {
    "ExecuteTime": {
     "end_time": "2021-01-27T18:17:38.861153Z",
     "start_time": "2021-01-27T18:17:38.852676Z"
    }
   },
   "outputs": [],
   "source": [
    "# Add tasks and milestones to the project\n",
    "for task in [task1_project2, task2_project2, task3_project2, task4_project2]:\n",
    "    project_2.add_task(task)\n",
    "\n",
    "for milestone in [ms1, ms2]:\n",
    "    project_2.add_task(milestone)"
   ]
  },
  {
   "cell_type": "markdown",
   "id": "objective-projection",
   "metadata": {},
   "source": [
    "## Visualize all projects"
   ]
  },
  {
   "cell_type": "code",
   "execution_count": 19,
   "id": "decent-transparency",
   "metadata": {
    "ExecuteTime": {
     "end_time": "2021-01-27T18:21:26.391640Z",
     "start_time": "2021-01-27T18:21:26.384790Z"
    }
   },
   "outputs": [],
   "source": [
    "# Create project that contains 2 projects\n",
    "all_projects = gantt.Project(name='All Projects')\n",
    "\n",
    "for project in [project_1, project_2]:\n",
    "    all_projects.add_task(project)"
   ]
  },
  {
   "cell_type": "code",
   "execution_count": 20,
   "id": "electoral-inspection",
   "metadata": {
    "ExecuteTime": {
     "end_time": "2021-01-27T18:21:26.808161Z",
     "start_time": "2021-01-27T18:21:26.763515Z"
    }
   },
   "outputs": [],
   "source": [
    "all_projects.make_svg_for_tasks(\n",
    "                      filename='multiple_projects.svg', \n",
    "                      today=date(2021, 1, 27), \n",
    "                      start=date(2021,1, 20),\n",
    "                      end=date(2021, 4, 30)\n",
    "                     )"
   ]
  },
  {
   "cell_type": "markdown",
   "id": "incorporated-domestic",
   "metadata": {},
   "source": [
    "Click [here](https://khuyentran1401.github.io/multiple_projects.svg) to view the plot"
   ]
  }
 ],
 "metadata": {
  "kernelspec": {
   "display_name": "medium",
   "language": "python",
   "name": "medium"
  },
  "language_info": {
   "codemirror_mode": {
    "name": "ipython",
    "version": 3
   },
   "file_extension": ".py",
   "mimetype": "text/x-python",
   "name": "python",
   "nbconvert_exporter": "python",
   "pygments_lexer": "ipython3",
   "version": "3.7.8"
  },
  "toc": {
   "base_numbering": 1,
   "nav_menu": {},
   "number_sections": true,
   "sideBar": true,
   "skip_h1_title": false,
   "title_cell": "Table of Contents",
   "title_sidebar": "Contents",
   "toc_cell": false,
   "toc_position": {},
   "toc_section_display": true,
   "toc_window_display": false
  }
 },
 "nbformat": 4,
 "nbformat_minor": 5
}
