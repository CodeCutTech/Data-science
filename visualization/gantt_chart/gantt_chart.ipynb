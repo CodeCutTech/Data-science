{
 "cells": [
  {
   "cell_type": "markdown",
   "id": "abandoned-fairy",
   "metadata": {},
   "source": [
    "# Getting Started"
   ]
  },
  {
   "cell_type": "markdown",
   "id": "complete-clerk",
   "metadata": {},
   "source": [
    "## Set up"
   ]
  },
  {
   "cell_type": "code",
   "execution_count": 1,
   "id": "productive-forestry",
   "metadata": {
    "ExecuteTime": {
     "end_time": "2021-01-27T18:27:04.514408Z",
     "start_time": "2021-01-27T18:27:04.461833Z"
    }
   },
   "outputs": [],
   "source": [
    "from datetime import date\n",
    "import gantt"
   ]
  },
  {
   "cell_type": "code",
   "execution_count": 2,
   "id": "caring-simple",
   "metadata": {
    "ExecuteTime": {
     "end_time": "2021-01-27T18:27:04.689601Z",
     "start_time": "2021-01-27T18:27:04.684392Z"
    }
   },
   "outputs": [],
   "source": [
    "# Change font default\n",
    "gantt.define_font_attributes(fill='black', stroke='black', stroke_width=0, font_family=\"Verdana\")"
   ]
  },
  {
   "cell_type": "markdown",
   "id": "piano-people",
   "metadata": {},
   "source": [
    "## Create 2 employees"
   ]
  },
  {
   "cell_type": "code",
   "execution_count": 3,
   "id": "peaceful-simon",
   "metadata": {
    "ExecuteTime": {
     "end_time": "2021-01-27T18:27:05.062502Z",
     "start_time": "2021-01-27T18:27:05.058043Z"
    }
   },
   "outputs": [],
   "source": [
    "Ben = gantt.Resource(\"Ben\")\n",
    "Alex = gantt.Resource(\"Alex\")"
   ]
  },
  {
   "cell_type": "markdown",
   "id": "grateful-equity",
   "metadata": {},
   "source": [
    "## Create project and its tasks"
   ]
  },
  {
   "cell_type": "code",
   "execution_count": 4,
   "id": "separate-progressive",
   "metadata": {
    "ExecuteTime": {
     "end_time": "2021-01-27T18:27:05.653041Z",
     "start_time": "2021-01-27T18:27:05.640635Z"
    }
   },
   "outputs": [],
   "source": [
    "# Create tasks\n",
    "task1_project1 = gantt.Task(name='task1', start=date(2021, 1, 27), duration=13, resources=[Ben], color=\"#a3ddcb\")\n",
    "task2_project1 = gantt.Task(name='task2', start=date(2021, 2, 10), duration=8, resources=[Alex], color=\"#a3ddcb\")\n",
    "task3_project1 = gantt.Task(name='task3', start=date(2021, 2, 19), duration=10, resources=[Ben], color=\"#a3ddcb\")\n",
    "task4_project1 = gantt.Task(name='task4', start=date(2021, 3, 1), duration=12, resources=[Ben, Alex], color=\"#a3ddcb\")"
   ]
  },
  {
   "cell_type": "code",
   "execution_count": 5,
   "id": "exempt-wildlife",
   "metadata": {
    "ExecuteTime": {
     "end_time": "2021-01-27T18:27:07.270565Z",
     "start_time": "2021-01-27T18:27:07.268642Z"
    }
   },
   "outputs": [],
   "source": [
    "# Create a project\n",
    "project_1 = gantt.Project(name='Project 1')"
   ]
  },
  {
   "cell_type": "code",
   "execution_count": 6,
   "id": "attended-habitat",
   "metadata": {
    "ExecuteTime": {
     "end_time": "2021-01-27T18:27:07.938640Z",
     "start_time": "2021-01-27T18:27:07.933677Z"
    }
   },
   "outputs": [],
   "source": [
    "# Add tasks to this project\n",
    "for task in [task1_project1, task2_project1, task3_project1, task4_project1]:\n",
    "    project_1.add_task(task)"
   ]
  },
  {
   "cell_type": "markdown",
   "id": "chicken-heaven",
   "metadata": {},
   "source": [
    "## Add Vacations"
   ]
  },
  {
   "cell_type": "code",
   "execution_count": 7,
   "id": "collective-macedonia",
   "metadata": {
    "ExecuteTime": {
     "end_time": "2021-01-27T18:27:26.873240Z",
     "start_time": "2021-01-27T18:27:26.867794Z"
    }
   },
   "outputs": [],
   "source": [
    "gantt.add_vacations(start_date=date(2021, 3, 15), end_date= date(2021,3,20))"
   ]
  },
  {
   "cell_type": "markdown",
   "id": "advised-walter",
   "metadata": {},
   "source": [
    "## Visualize"
   ]
  },
  {
   "cell_type": "code",
   "execution_count": 8,
   "id": "mighty-instrument",
   "metadata": {
    "ExecuteTime": {
     "end_time": "2021-01-27T18:27:28.457788Z",
     "start_time": "2021-01-27T18:27:28.437677Z"
    }
   },
   "outputs": [],
   "source": [
    "project_1.make_svg_for_tasks(\n",
    "                      filename='Project_1.svg', \n",
    "                      today=date(2021, 1, 27), \n",
    "                      start=date(2021,1, 20),\n",
    "                      end=date(2021, 4, 1)\n",
    "                     )"
   ]
  },
  {
   "cell_type": "markdown",
   "id": "devoted-communication",
   "metadata": {},
   "source": [
    "# Advanced Examples"
   ]
  },
  {
   "cell_type": "markdown",
   "id": "established-spray",
   "metadata": {},
   "source": [
    "## Add tasks and milestones to the second project"
   ]
  },
  {
   "cell_type": "code",
   "execution_count": 8,
   "id": "pregnant-carroll",
   "metadata": {
    "ExecuteTime": {
     "end_time": "2021-01-27T18:17:38.825967Z",
     "start_time": "2021-01-27T18:17:38.822673Z"
    }
   },
   "outputs": [],
   "source": [
    "# Create tasks for project 2\n",
    "task1_project2 = gantt.Task(name='task1', start=date(2021, 3, 13), duration=10, resources=[Alex], color=\"#ffe3de\")\n",
    "task2_project2 = gantt.Task(name='task2', start=date(2021, 3, 23), duration=8, resources=[Ben], color=\"#ffe3de\")\n",
    "task3_project2 = gantt.Task(name='task3', start=date(2021, 3, 24), duration=10, resources=[Ben], color=\"#ffe3de\")\n",
    "task4_project2 = gantt.Task(name='task4', start=date(2021, 4, 5), duration=5, resources=[Ben, Alex], color=\"#ffe3de\")"
   ]
  },
  {
   "cell_type": "code",
   "execution_count": 9,
   "id": "opened-chinese",
   "metadata": {
    "ExecuteTime": {
     "end_time": "2021-01-27T18:17:38.839732Z",
     "start_time": "2021-01-27T18:17:38.827187Z"
    }
   },
   "outputs": [],
   "source": [
    "# Add milestones\n",
    "ms1 = gantt.Milestone(name='Milestone 1', depends_of=[task1_project2, task3_project2])\n",
    "ms2 = gantt.Milestone(name='Milestone 2', depends_of=[task1_project2, task4_project2])"
   ]
  },
  {
   "cell_type": "code",
   "execution_count": 10,
   "id": "whole-yahoo",
   "metadata": {
    "ExecuteTime": {
     "end_time": "2021-01-27T18:17:38.850760Z",
     "start_time": "2021-01-27T18:17:38.842084Z"
    }
   },
   "outputs": [],
   "source": [
    "# Create project 2\n",
    "project_2 = gantt.Project(name='Project 2')"
   ]
  },
  {
   "cell_type": "code",
   "execution_count": 11,
   "id": "acute-investigator",
   "metadata": {
    "ExecuteTime": {
     "end_time": "2021-01-27T18:17:38.861153Z",
     "start_time": "2021-01-27T18:17:38.852676Z"
    }
   },
   "outputs": [],
   "source": [
    "# Add tasks and milestones to the project\n",
    "for task in [task1_project2, task2_project2, task3_project2, task4_project2]:\n",
    "    project_2.add_task(task)\n",
    "\n",
    "for milestone in [ms1, ms2]:\n",
    "    project_2.add_task(milestone)"
   ]
  },
  {
   "cell_type": "markdown",
   "id": "finite-defense",
   "metadata": {},
   "source": [
    "## Visualize all projects"
   ]
  },
  {
   "cell_type": "code",
   "execution_count": 19,
   "id": "stopped-annual",
   "metadata": {
    "ExecuteTime": {
     "end_time": "2021-01-27T18:21:26.391640Z",
     "start_time": "2021-01-27T18:21:26.384790Z"
    }
   },
   "outputs": [],
   "source": [
    "# Create project that contains 2 projects\n",
    "all_projects = gantt.Project(name='All Projects')\n",
    "\n",
    "for project in [project_1, project_2]:\n",
    "    all_projects.add_task(project)"
   ]
  },
  {
   "cell_type": "code",
   "execution_count": 20,
   "id": "integral-oliver",
   "metadata": {
    "ExecuteTime": {
     "end_time": "2021-01-27T18:21:26.808161Z",
     "start_time": "2021-01-27T18:21:26.763515Z"
    }
   },
   "outputs": [],
   "source": [
    "all_projects.make_svg_for_tasks(\n",
    "                      filename='multiple_projects.svg', \n",
    "                      today=date(2021, 1, 27), \n",
    "                      start=date(2021,1, 20),\n",
    "                      end=date(2021, 4, 30)\n",
    "                     )"
   ]
  },
  {
   "cell_type": "code",
   "execution_count": null,
   "id": "vertical-cylinder",
   "metadata": {},
   "outputs": [],
   "source": []
  }
 ],
 "metadata": {
  "kernelspec": {
   "display_name": "medium",
   "language": "python",
   "name": "medium"
  },
  "language_info": {
   "codemirror_mode": {
    "name": "ipython",
    "version": 3
   },
   "file_extension": ".py",
   "mimetype": "text/x-python",
   "name": "python",
   "nbconvert_exporter": "python",
   "pygments_lexer": "ipython3",
   "version": "3.7.8"
  },
  "toc": {
   "base_numbering": 1,
   "nav_menu": {},
   "number_sections": true,
   "sideBar": true,
   "skip_h1_title": false,
   "title_cell": "Table of Contents",
   "title_sidebar": "Contents",
   "toc_cell": false,
   "toc_position": {},
   "toc_section_display": true,
   "toc_window_display": false
  }
 },
 "nbformat": 4,
 "nbformat_minor": 5
}
