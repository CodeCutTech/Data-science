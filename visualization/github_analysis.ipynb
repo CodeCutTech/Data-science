{
 "cells": [
  {
   "cell_type": "code",
   "execution_count": 108,
   "metadata": {
    "ExecuteTime": {
     "end_time": "2020-08-03T15:39:40.288578Z",
     "start_time": "2020-08-03T15:39:39.714435Z"
    },
    "scrolled": true
   },
   "outputs": [
    {
     "name": "stdout",
     "output_type": "stream",
     "text": [
      "Archive:  test_df.zip\n",
      "  inflating: test_df.csv             \n"
     ]
    }
   ],
   "source": [
    "import pickle \n",
    "import numpy as np \n",
    "import pandas as pd \n",
    "import datapane as dp \n",
    "import base64\n",
    "\n",
    "!unzip test_df.zip\n",
    "\n"
   ]
  },
  {
   "cell_type": "code",
   "execution_count": 110,
   "metadata": {
    "ExecuteTime": {
     "end_time": "2020-08-03T15:39:49.892795Z",
     "start_time": "2020-08-03T15:39:49.457058Z"
    }
   },
   "outputs": [],
   "source": [
    "new_profile = pd.read_csv('test_df.csv')"
   ]
  },
  {
   "cell_type": "code",
   "execution_count": null,
   "metadata": {
    "ExecuteTime": {
     "end_time": "2020-07-20T15:10:07.355721Z",
     "start_time": "2020-07-20T15:10:07.335479Z"
    },
    "scrolled": true
   },
   "outputs": [],
   "source": [
    "#Find percentage of missing values\n",
    "new_profile.isnull().sum()/len(new_profile)"
   ]
  },
  {
   "cell_type": "code",
   "execution_count": null,
   "metadata": {
    "ExecuteTime": {
     "end_time": "2020-08-02T22:38:52.442016Z",
     "start_time": "2020-08-02T22:38:52.398524Z"
    }
   },
   "outputs": [],
   "source": [
    "new_profile.head(10)"
   ]
  },
  {
   "cell_type": "markdown",
   "metadata": {},
   "source": [
    "# Visualization"
   ]
  },
  {
   "cell_type": "markdown",
   "metadata": {},
   "source": [
    "## Bar graphs"
   ]
  },
  {
   "cell_type": "code",
   "execution_count": null,
   "metadata": {
    "ExecuteTime": {
     "end_time": "2020-08-02T22:39:04.624994Z",
     "start_time": "2020-08-02T22:39:04.412978Z"
    }
   },
   "outputs": [],
   "source": [
    "import altair as alt \n",
    "import matplotlib.pyplot as plt\n",
    "import numpy as np"
   ]
  },
  {
   "cell_type": "code",
   "execution_count": null,
   "metadata": {
    "ExecuteTime": {
     "end_time": "2020-08-02T22:39:05.621954Z",
     "start_time": "2020-08-02T22:39:05.430026Z"
    }
   },
   "outputs": [],
   "source": [
    "import plotly.express as px\n"
   ]
  },
  {
   "cell_type": "code",
   "execution_count": null,
   "metadata": {
    "ExecuteTime": {
     "end_time": "2020-08-02T22:39:16.777792Z",
     "start_time": "2020-08-02T22:39:16.514181Z"
    }
   },
   "outputs": [],
   "source": [
    "fig = px.bar(top_followers, \n",
    "             x='user_name', \n",
    "             y='followers',\n",
    "             hover_data=['followers'],\n",
    "            )\n",
    "\n",
    "fig.update_layout({'plot_bgcolor': 'rgba(36, 83, 97, 0.06)'}) #Change background color\n",
    "\n",
    "\n",
    "fig.show()"
   ]
  },
  {
   "cell_type": "code",
   "execution_count": null,
   "metadata": {
    "ExecuteTime": {
     "end_time": "2020-08-02T22:40:40.665039Z",
     "start_time": "2020-08-02T22:40:40.656074Z"
    }
   },
   "outputs": [],
   "source": [
    "top_n = int(len(top_followers) * 0.01)\n",
    "top_n"
   ]
  },
  {
   "cell_type": "code",
   "execution_count": null,
   "metadata": {
    "ExecuteTime": {
     "end_time": "2020-08-02T22:40:50.239835Z",
     "start_time": "2020-08-02T22:40:50.232748Z"
    }
   },
   "outputs": [],
   "source": [
    "sum(top_followers.iloc[0: top_n,:].loc[:, 'followers'])/sum(top_followers.followers)"
   ]
  },
  {
   "cell_type": "code",
   "execution_count": null,
   "metadata": {
    "ExecuteTime": {
     "end_time": "2020-08-02T22:41:18.668632Z",
     "start_time": "2020-08-02T22:41:18.108867Z"
    }
   },
   "outputs": [],
   "source": [
    "features = ['followers',\n",
    "               'following',\n",
    "               'total_stars',\n",
    "               'max_star',\n",
    "               'forks',\n",
    "           'contribution']\n",
    "figs = []\n",
    "for col in features:\n",
    "    top_col = new_profile.sort_values(by=col, axis=0, ascending=False)\n",
    "    \n",
    "    log_y = False\n",
    "    \n",
    "    # #change scale of y-axis of every feature to log except contribution\n",
    "    if col != 'contribution':\n",
    "        log_y = True\n",
    "    \n",
    "    fig = px.bar(top_col,\n",
    "             x='user_name', \n",
    "             y=col,\n",
    "             hover_data=[col],\n",
    "            log_y=log_y, \n",
    "            )\n",
    "    \n",
    "    fig.update_layout({'plot_bgcolor': 'rgba(36, 83, 97, 0.06)'})\n",
    "    \n",
    "    fig.show()\n",
    "    fig = dp.Plot(fig)\n",
    "    figs.append(fig)\n",
    "\n"
   ]
  },
  {
   "cell_type": "markdown",
   "metadata": {},
   "source": [
    "## Correlation"
   ]
  },
  {
   "cell_type": "code",
   "execution_count": null,
   "metadata": {
    "ExecuteTime": {
     "end_time": "2020-08-02T22:42:13.800646Z",
     "start_time": "2020-08-02T22:42:13.733562Z"
    },
    "scrolled": true
   },
   "outputs": [],
   "source": [
    "correlation = px.scatter_matrix(new_profile, dimensions=['forks', 'total_stars', 'followers',\n",
    "                                 'following', 'max_star','contribution'],\n",
    "                               title='Correlation between datapoints',\n",
    "                               width=800, height=800)\n",
    "\n",
    "correlation.show()\n",
    "\n",
    "figs.append(dp.Plot(correlation))"
   ]
  },
  {
   "cell_type": "code",
   "execution_count": null,
   "metadata": {
    "ExecuteTime": {
     "end_time": "2020-08-02T22:42:25.227225Z",
     "start_time": "2020-08-02T22:42:25.187665Z"
    }
   },
   "outputs": [],
   "source": [
    "corr = new_profile.corr()\n",
    "figs.append(dp.Table(corr))"
   ]
  },
  {
   "cell_type": "markdown",
   "metadata": {},
   "source": [
    "## Languages"
   ]
  },
  {
   "cell_type": "code",
   "execution_count": null,
   "metadata": {},
   "outputs": [],
   "source": [
    "languages = []\n",
    "for language in new_profile['languages']:\n",
    "    try:\n",
    "        languages += languages\n",
    "    except:\n",
    "        languages += ['None'] "
   ]
  },
  {
   "cell_type": "code",
   "execution_count": null,
   "metadata": {
    "ExecuteTime": {
     "end_time": "2020-08-02T22:42:59.544585Z",
     "start_time": "2020-08-02T22:42:59.538809Z"
    }
   },
   "outputs": [],
   "source": [
    "from collections import Counter \n",
    "\n",
    "occ = dict(Counter(languages))\n",
    "occ "
   ]
  },
  {
   "cell_type": "code",
   "execution_count": null,
   "metadata": {
    "ExecuteTime": {
     "end_time": "2020-08-02T22:43:02.246402Z",
     "start_time": "2020-08-02T22:43:02.216745Z"
    }
   },
   "outputs": [],
   "source": [
    "top_languages = [(language, frequency) for language, frequency in occ.items() if frequency > 10]\n",
    "\n",
    "top_languages = list(zip(*top_languages))\n",
    "\n",
    "language_df = pd.DataFrame(data = {'languages': top_languages[0],\n",
    "                           'frequency': top_languages[1]})\n",
    "\n",
    "#language_df.loc[language_df['frequency'] < 30, 'languages'] = 'Other languages'\n",
    "\n",
    "language_df.sort_values(by='frequency', axis=0, inplace=True, ascending=False)\n",
    "\n",
    "language = px.bar(language_df, y='frequency', x='languages',\n",
    "      title='Frequency of languages')\n",
    "\n",
    "figs.append(dp.Plot(language))"
   ]
  },
  {
   "cell_type": "code",
   "execution_count": null,
   "metadata": {
    "ExecuteTime": {
     "end_time": "2020-08-02T22:43:20.967344Z",
     "start_time": "2020-08-02T22:43:20.960794Z"
    }
   },
   "outputs": [],
   "source": [
    "language.show()"
   ]
  },
  {
   "cell_type": "markdown",
   "metadata": {},
   "source": [
    "## Hireable"
   ]
  },
  {
   "cell_type": "code",
   "execution_count": null,
   "metadata": {
    "ExecuteTime": {
     "end_time": "2020-08-02T22:43:40.311584Z",
     "start_time": "2020-08-02T22:43:39.318223Z"
    }
   },
   "outputs": [],
   "source": [
    "import altair as alt\n",
    "\n",
    "hireable = alt.Chart(new_profile).transform_aggregate(\n",
    "    count='count()',\n",
    "    groupby=['hireable']\n",
    ").mark_bar().encode(\n",
    "    x='hireable:O',\n",
    "    y='count:Q')\n",
    "\n",
    "figs.append(dp.Plot(hireable))"
   ]
  },
  {
   "cell_type": "code",
   "execution_count": null,
   "metadata": {
    "ExecuteTime": {
     "end_time": "2020-08-02T22:44:48.935967Z",
     "start_time": "2020-08-02T22:44:47.617368Z"
    }
   },
   "outputs": [],
   "source": [
    "hireable"
   ]
  },
  {
   "cell_type": "markdown",
   "metadata": {},
   "source": [
    "## Locations"
   ]
  },
  {
   "cell_type": "code",
   "execution_count": null,
   "metadata": {
    "ExecuteTime": {
     "end_time": "2020-08-02T23:06:42.142999Z",
     "start_time": "2020-08-02T22:56:29.269952Z"
    }
   },
   "outputs": [],
   "source": [
    "from geopy.geocoders import Nominatim\n",
    "import folium\n",
    "\n",
    "locations = list(new_profile['location'])\n",
    "\n",
    "lats = []\n",
    "lons = []\n",
    "exceptions = []\n",
    "\n",
    "for loc in locations:\n",
    "    try:\n",
    "        location = geolocator.geocode(loc)\n",
    "        lats.append(location.latitude)\n",
    "        lons.append(location.longitude)\n",
    "    except:\n",
    "        exceptions.append(loc)"
   ]
  },
  {
   "cell_type": "code",
   "execution_count": null,
   "metadata": {
    "ExecuteTime": {
     "end_time": "2020-08-02T23:14:29.496909Z",
     "start_time": "2020-08-02T23:14:29.490233Z"
    }
   },
   "outputs": [],
   "source": [
    "location_df = new_profile[~new_profile.location.isin(exceptions)]"
   ]
  },
  {
   "cell_type": "code",
   "execution_count": null,
   "metadata": {
    "ExecuteTime": {
     "end_time": "2020-08-02T23:14:30.542686Z",
     "start_time": "2020-08-02T23:14:30.539198Z"
    }
   },
   "outputs": [],
   "source": [
    "location_df['latitude'] = lats\n",
    "location_df['longitude'] = lons"
   ]
  },
  {
   "cell_type": "code",
   "execution_count": null,
   "metadata": {
    "ExecuteTime": {
     "end_time": "2020-08-02T23:18:11.294540Z",
     "start_time": "2020-08-02T23:18:11.278828Z"
    }
   },
   "outputs": [],
   "source": [
    "location_df =location_df.dropna(axis=0, subset=['longitude'])"
   ]
  },
  {
   "cell_type": "code",
   "execution_count": null,
   "metadata": {
    "ExecuteTime": {
     "end_time": "2020-08-02T23:51:07.868833Z",
     "start_time": "2020-08-02T23:51:07.561033Z"
    }
   },
   "outputs": [],
   "source": [
    "# Visualize with Plotly's scatter_geo\n",
    "m = px.scatter_geo(location_df.fillna(0), lat='latitude', lon='longitude',\n",
    "                color='total_stars', \n",
    "                size='forks',\n",
    "                hover_data=['user_name','followers'],\n",
    "                 title='Locations of Top Users')\n",
    "m.show()\n",
    "\n",
    "figs.append(dp.Plot(m))"
   ]
  },
  {
   "cell_type": "code",
   "execution_count": null,
   "metadata": {
    "ExecuteTime": {
     "end_time": "2020-08-02T23:51:36.806974Z",
     "start_time": "2020-08-02T23:51:36.765367Z"
    }
   },
   "outputs": [],
   "source": [
    "figs.append(dp.Plot(m))"
   ]
  },
  {
   "cell_type": "markdown",
   "metadata": {},
   "source": [
    "## Word Clouds of Descriptions and Bios\n"
   ]
  },
  {
   "cell_type": "code",
   "execution_count": null,
   "metadata": {
    "ExecuteTime": {
     "end_time": "2020-08-02T23:56:22.404858Z",
     "start_time": "2020-08-02T23:56:10.619196Z"
    }
   },
   "outputs": [],
   "source": [
    "import string\n",
    "import nltk\n",
    "from nltk.corpus import stopwords\n",
    "from nltk.tokenize import word_tokenize\n",
    "from nltk.stem import WordNetLemmatizer\n",
    "from nltk.tokenize import word_tokenize\n",
    "from wordcloud import WordCloud, STOPWORDS \n",
    "import matplotlib.pyplot as plt\n",
    "\n",
    "nltk.download('stopwords')\n",
    "nltk.download('punkt')\n",
    "nltk.download('wordnet')\n",
    "\n",
    "      \n",
    "def process_text(features):\n",
    "    '''Function to process texts'''\n",
    "    \n",
    "    features = [row for row in features if row != None]\n",
    "    \n",
    "    text = ' '.join(features)\n",
    "    \n",
    "    \n",
    "    \n",
    "    # lowercase\n",
    "    text = text.lower()\n",
    "\n",
    "    #remove punctuation\n",
    "    text = text.translate(str.maketrans('', '', string.punctuation))\n",
    "\n",
    "    #remove stopwords\n",
    "    stop_words = set(stopwords.words('english'))\n",
    "\n",
    "    #tokenize\n",
    "    tokens = word_tokenize(text)\n",
    "    new_text = [i for i in tokens if not i in stop_words]\n",
    "    \n",
    "    new_text = ' '.join(new_text)\n",
    "    \n",
    "    return new_text\n",
    "\n",
    "def make_wordcloud(new_text):\n",
    "    '''Funciton to make wordcloud'''\n",
    "    \n",
    "    wordcloud = WordCloud(width = 800, height = 800, \n",
    "                background_color ='white', \n",
    "                min_font_size = 10).generate(new_text) \n",
    "\n",
    "    \n",
    "    fig = plt.figure(figsize = (8, 8), facecolor = None) \n",
    "    plt.imshow(wordcloud) \n",
    "    plt.axis(\"off\") \n",
    "    plt.tight_layout(pad = 0) \n",
    "\n",
    "    plt.show() \n",
    "    \n",
    "    return fig\n",
    "    \n",
    "descriptions = []\n",
    "for desc in new_profile['descriptions']:\n",
    "    try:\n",
    "        descriptions += desc\n",
    "        \n",
    "    except:\n",
    "        pass\n",
    "\n",
    "descriptions = process_text(descriptions)\n",
    "\n",
    "cloud = make_wordcloud(descriptions)\n",
    "\n",
    "figs.append(dp.Plot(cloud))"
   ]
  },
  {
   "cell_type": "code",
   "execution_count": null,
   "metadata": {
    "ExecuteTime": {
     "end_time": "2020-08-02T23:56:51.821138Z",
     "start_time": "2020-08-02T23:56:46.435272Z"
    }
   },
   "outputs": [],
   "source": [
    "bios = []\n",
    "for bio in new_profile['bio']:\n",
    "    try:\n",
    "        bios.append(bio)\n",
    "        \n",
    "    except:\n",
    "        pass\n",
    "      \n",
    "text = process_text(bios)\n",
    "\n",
    "cloud = make_wordcloud(text)\n",
    "\n",
    "figs.append(dp.Plot(cloud))"
   ]
  },
  {
   "cell_type": "code",
   "execution_count": null,
   "metadata": {
    "ExecuteTime": {
     "end_time": "2020-08-02T23:57:39.829773Z",
     "start_time": "2020-08-02T23:56:56.499452Z"
    },
    "scrolled": true
   },
   "outputs": [],
   "source": [
    "dp.Report(*figs).publish(name='finding')"
   ]
  },
  {
   "cell_type": "code",
   "execution_count": null,
   "metadata": {},
   "outputs": [],
   "source": []
  }
 ],
 "metadata": {
  "kernelspec": {
   "display_name": "Python 3",
   "language": "python",
   "name": "python3"
  },
  "language_info": {
   "codemirror_mode": {
    "name": "ipython",
    "version": 3
   },
   "file_extension": ".py",
   "mimetype": "text/x-python",
   "name": "python",
   "nbconvert_exporter": "python",
   "pygments_lexer": "ipython3",
   "version": "3.7.6"
  },
  "latex_envs": {
   "LaTeX_envs_menu_present": true,
   "autoclose": false,
   "autocomplete": true,
   "bibliofile": "biblio.bib",
   "cite_by": "apalike",
   "current_citInitial": 1,
   "eqLabelWithNumbers": true,
   "eqNumInitial": 1,
   "hotkeys": {
    "equation": "Ctrl-E",
    "itemize": "Ctrl-I"
   },
   "labels_anchors": false,
   "latex_user_defs": false,
   "report_style_numbering": false,
   "user_envs_cfg": false
  },
  "toc": {
   "base_numbering": 1,
   "nav_menu": {},
   "number_sections": true,
   "sideBar": true,
   "skip_h1_title": false,
   "title_cell": "Table of Contents",
   "title_sidebar": "Contents",
   "toc_cell": false,
   "toc_position": {},
   "toc_section_display": true,
   "toc_window_display": false
  }
 },
 "nbformat": 4,
 "nbformat_minor": 4
}
