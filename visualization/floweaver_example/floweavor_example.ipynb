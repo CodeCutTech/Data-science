{
 "cells": [
  {
   "cell_type": "code",
   "execution_count": 1,
   "id": "7d20025e",
   "metadata": {
    "ExecuteTime": {
     "end_time": "2022-01-11T01:38:40.204184Z",
     "start_time": "2022-01-11T01:38:40.036455Z"
    }
   },
   "outputs": [
    {
     "data": {
      "application/javascript": [
       "\n",
       "            setTimeout(function() {\n",
       "                var nbb_cell_id = 1;\n",
       "                var nbb_unformatted_code = \"%load_ext nb_black\";\n",
       "                var nbb_formatted_code = \"%load_ext nb_black\";\n",
       "                var nbb_cells = Jupyter.notebook.get_cells();\n",
       "                for (var i = 0; i < nbb_cells.length; ++i) {\n",
       "                    if (nbb_cells[i].input_prompt_number == nbb_cell_id) {\n",
       "                        if (nbb_cells[i].get_text() == nbb_unformatted_code) {\n",
       "                             nbb_cells[i].set_text(nbb_formatted_code);\n",
       "                        }\n",
       "                        break;\n",
       "                    }\n",
       "                }\n",
       "            }, 500);\n",
       "            "
      ],
      "text/plain": [
       "<IPython.core.display.Javascript object>"
      ]
     },
     "metadata": {},
     "output_type": "display_data"
    }
   ],
   "source": [
    "%load_ext nb_black"
   ]
  },
  {
   "cell_type": "code",
   "execution_count": null,
   "id": "e2c73221",
   "metadata": {
    "ExecuteTime": {
     "end_time": "2022-01-09T17:13:16.656577Z",
     "start_time": "2022-01-09T17:13:12.177892Z"
    }
   },
   "outputs": [],
   "source": [
    "!pip install floweaver ipysankeywidget"
   ]
  },
  {
   "cell_type": "code",
   "execution_count": 2,
   "id": "087b9cf3",
   "metadata": {
    "ExecuteTime": {
     "end_time": "2022-01-11T01:38:41.929310Z",
     "start_time": "2022-01-11T01:38:40.947421Z"
    }
   },
   "outputs": [
    {
     "data": {
      "application/javascript": [
       "\n",
       "            setTimeout(function() {\n",
       "                var nbb_cell_id = 2;\n",
       "                var nbb_unformatted_code = \"import pandas as pd\\nfrom ipysankeywidget import SankeyWidget\\nfrom floweaver import *\";\n",
       "                var nbb_formatted_code = \"import pandas as pd\\nfrom ipysankeywidget import SankeyWidget\\nfrom floweaver import *\";\n",
       "                var nbb_cells = Jupyter.notebook.get_cells();\n",
       "                for (var i = 0; i < nbb_cells.length; ++i) {\n",
       "                    if (nbb_cells[i].input_prompt_number == nbb_cell_id) {\n",
       "                        if (nbb_cells[i].get_text() == nbb_unformatted_code) {\n",
       "                             nbb_cells[i].set_text(nbb_formatted_code);\n",
       "                        }\n",
       "                        break;\n",
       "                    }\n",
       "                }\n",
       "            }, 500);\n",
       "            "
      ],
      "text/plain": [
       "<IPython.core.display.Javascript object>"
      ]
     },
     "metadata": {},
     "output_type": "display_data"
    }
   ],
   "source": [
    "import pandas as pd\n",
    "from ipysankeywidget import SankeyWidget\n",
    "from floweaver import *"
   ]
  },
  {
   "cell_type": "code",
   "execution_count": 26,
   "id": "196b28d8",
   "metadata": {
    "ExecuteTime": {
     "end_time": "2022-01-11T01:56:15.827923Z",
     "start_time": "2022-01-11T01:56:15.798188Z"
    }
   },
   "outputs": [
    {
     "data": {
      "text/html": [
       "<div>\n",
       "<style scoped>\n",
       "    .dataframe tbody tr th:only-of-type {\n",
       "        vertical-align: middle;\n",
       "    }\n",
       "\n",
       "    .dataframe tbody tr th {\n",
       "        vertical-align: top;\n",
       "    }\n",
       "\n",
       "    .dataframe thead th {\n",
       "        text-align: right;\n",
       "    }\n",
       "</style>\n",
       "<table border=\"1\" class=\"dataframe\">\n",
       "  <thead>\n",
       "    <tr style=\"text-align: right;\">\n",
       "      <th></th>\n",
       "      <th>source</th>\n",
       "      <th>target</th>\n",
       "      <th>type</th>\n",
       "      <th>value</th>\n",
       "    </tr>\n",
       "  </thead>\n",
       "  <tbody>\n",
       "    <tr>\n",
       "      <th>0</th>\n",
       "      <td>Anna</td>\n",
       "      <td>New York</td>\n",
       "      <td>business trip</td>\n",
       "      <td>2</td>\n",
       "    </tr>\n",
       "    <tr>\n",
       "      <th>1</th>\n",
       "      <td>Anna</td>\n",
       "      <td>New York</td>\n",
       "      <td>family visit</td>\n",
       "      <td>3</td>\n",
       "    </tr>\n",
       "    <tr>\n",
       "      <th>2</th>\n",
       "      <td>Anna</td>\n",
       "      <td>Chicago</td>\n",
       "      <td>business trip</td>\n",
       "      <td>1</td>\n",
       "    </tr>\n",
       "    <tr>\n",
       "      <th>3</th>\n",
       "      <td>Josh</td>\n",
       "      <td>San Jose</td>\n",
       "      <td>vacation</td>\n",
       "      <td>3</td>\n",
       "    </tr>\n",
       "    <tr>\n",
       "      <th>4</th>\n",
       "      <td>Ben</td>\n",
       "      <td>Chicago</td>\n",
       "      <td>family visit</td>\n",
       "      <td>2</td>\n",
       "    </tr>\n",
       "    <tr>\n",
       "      <th>5</th>\n",
       "      <td>Ben</td>\n",
       "      <td>New York</td>\n",
       "      <td>vacation</td>\n",
       "      <td>3</td>\n",
       "    </tr>\n",
       "    <tr>\n",
       "      <th>6</th>\n",
       "      <td>Ben</td>\n",
       "      <td>San Jose</td>\n",
       "      <td>business trip</td>\n",
       "      <td>1</td>\n",
       "    </tr>\n",
       "    <tr>\n",
       "      <th>7</th>\n",
       "      <td>Ben</td>\n",
       "      <td>San Jose</td>\n",
       "      <td>vacation</td>\n",
       "      <td>1</td>\n",
       "    </tr>\n",
       "    <tr>\n",
       "      <th>8</th>\n",
       "      <td>Lauren</td>\n",
       "      <td>Milwaukee</td>\n",
       "      <td>business trip</td>\n",
       "      <td>4</td>\n",
       "    </tr>\n",
       "  </tbody>\n",
       "</table>\n",
       "</div>"
      ],
      "text/plain": [
       "   source     target           type  value\n",
       "0    Anna   New York  business trip      2\n",
       "1    Anna   New York   family visit      3\n",
       "2    Anna    Chicago  business trip      1\n",
       "3    Josh   San Jose       vacation      3\n",
       "4     Ben    Chicago   family visit      2\n",
       "5     Ben   New York       vacation      3\n",
       "6     Ben   San Jose  business trip      1\n",
       "7     Ben   San Jose       vacation      1\n",
       "8  Lauren  Milwaukee  business trip      4"
      ]
     },
     "execution_count": 26,
     "metadata": {},
     "output_type": "execute_result"
    },
    {
     "data": {
      "application/javascript": [
       "\n",
       "            setTimeout(function() {\n",
       "                var nbb_cell_id = 26;\n",
       "                var nbb_unformatted_code = \"df = pd.read_csv(\\\"travel.csv\\\")\\ndf\";\n",
       "                var nbb_formatted_code = \"df = pd.read_csv(\\\"travel.csv\\\")\\ndf\";\n",
       "                var nbb_cells = Jupyter.notebook.get_cells();\n",
       "                for (var i = 0; i < nbb_cells.length; ++i) {\n",
       "                    if (nbb_cells[i].input_prompt_number == nbb_cell_id) {\n",
       "                        if (nbb_cells[i].get_text() == nbb_unformatted_code) {\n",
       "                             nbb_cells[i].set_text(nbb_formatted_code);\n",
       "                        }\n",
       "                        break;\n",
       "                    }\n",
       "                }\n",
       "            }, 500);\n",
       "            "
      ],
      "text/plain": [
       "<IPython.core.display.Javascript object>"
      ]
     },
     "metadata": {},
     "output_type": "display_data"
    }
   ],
   "source": [
    "df = pd.read_csv(\"travel.csv\")\n",
    "df"
   ]
  },
  {
   "cell_type": "code",
   "execution_count": 27,
   "id": "47803326",
   "metadata": {
    "ExecuteTime": {
     "end_time": "2022-01-11T01:56:17.176190Z",
     "start_time": "2022-01-11T01:56:17.147697Z"
    }
   },
   "outputs": [
    {
     "data": {
      "application/vnd.jupyter.widget-view+json": {
       "model_id": "d5d38af1495e4878b00656cdbc8211cc",
       "version_major": 2,
       "version_minor": 0
      },
      "text/plain": [
       "SankeyWidget(links=[{'source': 'Anna', 'target': 'New York', 'type': 'business trip', 'value': 2}, {'source': …"
      ]
     },
     "metadata": {},
     "output_type": "display_data"
    },
    {
     "data": {
      "application/javascript": [
       "\n",
       "            setTimeout(function() {\n",
       "                var nbb_cell_id = 27;\n",
       "                var nbb_unformatted_code = \"SankeyWidget(links=df.to_dict(\\\"records\\\"))\";\n",
       "                var nbb_formatted_code = \"SankeyWidget(links=df.to_dict(\\\"records\\\"))\";\n",
       "                var nbb_cells = Jupyter.notebook.get_cells();\n",
       "                for (var i = 0; i < nbb_cells.length; ++i) {\n",
       "                    if (nbb_cells[i].input_prompt_number == nbb_cell_id) {\n",
       "                        if (nbb_cells[i].get_text() == nbb_unformatted_code) {\n",
       "                             nbb_cells[i].set_text(nbb_formatted_code);\n",
       "                        }\n",
       "                        break;\n",
       "                    }\n",
       "                }\n",
       "            }, 500);\n",
       "            "
      ],
      "text/plain": [
       "<IPython.core.display.Javascript object>"
      ]
     },
     "metadata": {},
     "output_type": "display_data"
    }
   ],
   "source": [
    "SankeyWidget(links=df.to_dict(\"records\"))"
   ]
  },
  {
   "cell_type": "code",
   "execution_count": 56,
   "id": "818a432a",
   "metadata": {
    "ExecuteTime": {
     "end_time": "2022-01-11T01:59:17.241211Z",
     "start_time": "2022-01-11T01:59:17.220272Z"
    }
   },
   "outputs": [
    {
     "data": {
      "application/javascript": [
       "\n",
       "            setTimeout(function() {\n",
       "                var nbb_cell_id = 56;\n",
       "                var nbb_unformatted_code = \"nodes = {\\n    \\\"people\\\": ProcessGroup([\\\"Josh\\\", \\\"Anna\\\", \\\"Ben\\\", \\\"Lauren\\\"]),\\n    \\\"locations\\\": ProcessGroup([\\\"New York\\\", \\\"Chicago\\\", \\\"Milwaukee\\\", \\\"San Jose\\\"]),\\n}\";\n",
       "                var nbb_formatted_code = \"nodes = {\\n    \\\"people\\\": ProcessGroup([\\\"Josh\\\", \\\"Anna\\\", \\\"Ben\\\", \\\"Lauren\\\"]),\\n    \\\"locations\\\": ProcessGroup([\\\"New York\\\", \\\"Chicago\\\", \\\"Milwaukee\\\", \\\"San Jose\\\"]),\\n}\";\n",
       "                var nbb_cells = Jupyter.notebook.get_cells();\n",
       "                for (var i = 0; i < nbb_cells.length; ++i) {\n",
       "                    if (nbb_cells[i].input_prompt_number == nbb_cell_id) {\n",
       "                        if (nbb_cells[i].get_text() == nbb_unformatted_code) {\n",
       "                             nbb_cells[i].set_text(nbb_formatted_code);\n",
       "                        }\n",
       "                        break;\n",
       "                    }\n",
       "                }\n",
       "            }, 500);\n",
       "            "
      ],
      "text/plain": [
       "<IPython.core.display.Javascript object>"
      ]
     },
     "metadata": {},
     "output_type": "display_data"
    }
   ],
   "source": [
    "nodes = {\n",
    "    \"people\": ProcessGroup([\"Josh\", \"Anna\", \"Ben\", \"Lauren\"]),\n",
    "    \"locations\": ProcessGroup([\"New York\", \"Chicago\", \"Milwaukee\", \"San Jose\"]),\n",
    "}"
   ]
  },
  {
   "cell_type": "code",
   "execution_count": 57,
   "id": "01586058",
   "metadata": {
    "ExecuteTime": {
     "end_time": "2022-01-11T01:59:17.597357Z",
     "start_time": "2022-01-11T01:59:17.583502Z"
    }
   },
   "outputs": [
    {
     "data": {
      "application/javascript": [
       "\n",
       "            setTimeout(function() {\n",
       "                var nbb_cell_id = 57;\n",
       "                var nbb_unformatted_code = \"ordering = [[\\\"people\\\"], [\\\"locations\\\"]]\";\n",
       "                var nbb_formatted_code = \"ordering = [[\\\"people\\\"], [\\\"locations\\\"]]\";\n",
       "                var nbb_cells = Jupyter.notebook.get_cells();\n",
       "                for (var i = 0; i < nbb_cells.length; ++i) {\n",
       "                    if (nbb_cells[i].input_prompt_number == nbb_cell_id) {\n",
       "                        if (nbb_cells[i].get_text() == nbb_unformatted_code) {\n",
       "                             nbb_cells[i].set_text(nbb_formatted_code);\n",
       "                        }\n",
       "                        break;\n",
       "                    }\n",
       "                }\n",
       "            }, 500);\n",
       "            "
      ],
      "text/plain": [
       "<IPython.core.display.Javascript object>"
      ]
     },
     "metadata": {},
     "output_type": "display_data"
    }
   ],
   "source": [
    "ordering = [[\"people\"], [\"locations\"]]"
   ]
  },
  {
   "cell_type": "code",
   "execution_count": 58,
   "id": "f0d0b495",
   "metadata": {
    "ExecuteTime": {
     "end_time": "2022-01-11T01:59:18.110887Z",
     "start_time": "2022-01-11T01:59:18.097076Z"
    }
   },
   "outputs": [
    {
     "data": {
      "application/javascript": [
       "\n",
       "            setTimeout(function() {\n",
       "                var nbb_cell_id = 58;\n",
       "                var nbb_unformatted_code = \"bundles = [Bundle(\\\"people\\\", \\\"locations\\\")]\";\n",
       "                var nbb_formatted_code = \"bundles = [Bundle(\\\"people\\\", \\\"locations\\\")]\";\n",
       "                var nbb_cells = Jupyter.notebook.get_cells();\n",
       "                for (var i = 0; i < nbb_cells.length; ++i) {\n",
       "                    if (nbb_cells[i].input_prompt_number == nbb_cell_id) {\n",
       "                        if (nbb_cells[i].get_text() == nbb_unformatted_code) {\n",
       "                             nbb_cells[i].set_text(nbb_formatted_code);\n",
       "                        }\n",
       "                        break;\n",
       "                    }\n",
       "                }\n",
       "            }, 500);\n",
       "            "
      ],
      "text/plain": [
       "<IPython.core.display.Javascript object>"
      ]
     },
     "metadata": {},
     "output_type": "display_data"
    }
   ],
   "source": [
    "bundles = [Bundle(\"people\", \"locations\")]"
   ]
  },
  {
   "cell_type": "code",
   "execution_count": 59,
   "id": "074bbf6e",
   "metadata": {
    "ExecuteTime": {
     "end_time": "2022-01-11T01:59:18.593339Z",
     "start_time": "2022-01-11T01:59:18.505847Z"
    }
   },
   "outputs": [
    {
     "data": {
      "application/vnd.jupyter.widget-view+json": {
       "model_id": "d0508fe88a5247b89389c11d8d91cb4f",
       "version_major": 2,
       "version_minor": 0
      },
      "text/plain": [
       "SankeyWidget(layout=Layout(height='500', width='700'), links=[{'source': 'people^*', 'target': 'locations^*', …"
      ]
     },
     "metadata": {},
     "output_type": "display_data"
    },
    {
     "data": {
      "application/javascript": [
       "\n",
       "            setTimeout(function() {\n",
       "                var nbb_cell_id = 59;\n",
       "                var nbb_unformatted_code = \"sdd = SankeyDefinition(nodes, bundles, ordering)\\nweave(sdd, df).to_widget()\";\n",
       "                var nbb_formatted_code = \"sdd = SankeyDefinition(nodes, bundles, ordering)\\nweave(sdd, df).to_widget()\";\n",
       "                var nbb_cells = Jupyter.notebook.get_cells();\n",
       "                for (var i = 0; i < nbb_cells.length; ++i) {\n",
       "                    if (nbb_cells[i].input_prompt_number == nbb_cell_id) {\n",
       "                        if (nbb_cells[i].get_text() == nbb_unformatted_code) {\n",
       "                             nbb_cells[i].set_text(nbb_formatted_code);\n",
       "                        }\n",
       "                        break;\n",
       "                    }\n",
       "                }\n",
       "            }, 500);\n",
       "            "
      ],
      "text/plain": [
       "<IPython.core.display.Javascript object>"
      ]
     },
     "metadata": {},
     "output_type": "display_data"
    }
   ],
   "source": [
    "sdd = SankeyDefinition(nodes, bundles, ordering)\n",
    "weave(sdd, df).to_widget()"
   ]
  },
  {
   "cell_type": "code",
   "execution_count": 60,
   "id": "f7c789cc",
   "metadata": {
    "ExecuteTime": {
     "end_time": "2022-01-11T01:59:20.043220Z",
     "start_time": "2022-01-11T01:59:20.023842Z"
    }
   },
   "outputs": [
    {
     "data": {
      "application/javascript": [
       "\n",
       "            setTimeout(function() {\n",
       "                var nbb_cell_id = 60;\n",
       "                var nbb_unformatted_code = \"people = Partition.Simple(\\\"process\\\", [\\\"Josh\\\", \\\"Anna\\\", \\\"Ben\\\", \\\"Lauren\\\"])\\nlocations = Partition.Simple(\\n    \\\"process\\\", [\\\"New York\\\", \\\"Chicago\\\", \\\"Milwaukee\\\", \\\"San Jose\\\"]\\n)\";\n",
       "                var nbb_formatted_code = \"people = Partition.Simple(\\\"process\\\", [\\\"Josh\\\", \\\"Anna\\\", \\\"Ben\\\", \\\"Lauren\\\"])\\nlocations = Partition.Simple(\\n    \\\"process\\\", [\\\"New York\\\", \\\"Chicago\\\", \\\"Milwaukee\\\", \\\"San Jose\\\"]\\n)\";\n",
       "                var nbb_cells = Jupyter.notebook.get_cells();\n",
       "                for (var i = 0; i < nbb_cells.length; ++i) {\n",
       "                    if (nbb_cells[i].input_prompt_number == nbb_cell_id) {\n",
       "                        if (nbb_cells[i].get_text() == nbb_unformatted_code) {\n",
       "                             nbb_cells[i].set_text(nbb_formatted_code);\n",
       "                        }\n",
       "                        break;\n",
       "                    }\n",
       "                }\n",
       "            }, 500);\n",
       "            "
      ],
      "text/plain": [
       "<IPython.core.display.Javascript object>"
      ]
     },
     "metadata": {},
     "output_type": "display_data"
    }
   ],
   "source": [
    "people = Partition.Simple(\"process\", [\"Josh\", \"Anna\", \"Ben\", \"Lauren\"])\n",
    "locations = Partition.Simple(\n",
    "    \"process\", [\"New York\", \"Chicago\", \"Milwaukee\", \"San Jose\"]\n",
    ")"
   ]
  },
  {
   "cell_type": "code",
   "execution_count": 61,
   "id": "ca6aebdc",
   "metadata": {
    "ExecuteTime": {
     "end_time": "2022-01-11T01:59:20.540683Z",
     "start_time": "2022-01-11T01:59:20.519940Z"
    }
   },
   "outputs": [
    {
     "data": {
      "application/javascript": [
       "\n",
       "            setTimeout(function() {\n",
       "                var nbb_cell_id = 61;\n",
       "                var nbb_unformatted_code = \"nodes[\\\"people\\\"].partition = people\\nnodes[\\\"locations\\\"].partition = locations\";\n",
       "                var nbb_formatted_code = \"nodes[\\\"people\\\"].partition = people\\nnodes[\\\"locations\\\"].partition = locations\";\n",
       "                var nbb_cells = Jupyter.notebook.get_cells();\n",
       "                for (var i = 0; i < nbb_cells.length; ++i) {\n",
       "                    if (nbb_cells[i].input_prompt_number == nbb_cell_id) {\n",
       "                        if (nbb_cells[i].get_text() == nbb_unformatted_code) {\n",
       "                             nbb_cells[i].set_text(nbb_formatted_code);\n",
       "                        }\n",
       "                        break;\n",
       "                    }\n",
       "                }\n",
       "            }, 500);\n",
       "            "
      ],
      "text/plain": [
       "<IPython.core.display.Javascript object>"
      ]
     },
     "metadata": {},
     "output_type": "display_data"
    }
   ],
   "source": [
    "nodes[\"people\"].partition = people\n",
    "nodes[\"locations\"].partition = locations"
   ]
  },
  {
   "cell_type": "code",
   "execution_count": 62,
   "id": "47b88b82",
   "metadata": {
    "ExecuteTime": {
     "end_time": "2022-01-11T01:59:21.457191Z",
     "start_time": "2022-01-11T01:59:21.327965Z"
    }
   },
   "outputs": [
    {
     "data": {
      "application/vnd.jupyter.widget-view+json": {
       "model_id": "3fc36b01b7d84698b1e91a2e171607ea",
       "version_major": 2,
       "version_minor": 0
      },
      "text/plain": [
       "SankeyWidget(groups=[{'id': 'people', 'type': 'process', 'title': '', 'nodes': ['people^Josh', 'people^Anna', …"
      ]
     },
     "metadata": {},
     "output_type": "display_data"
    },
    {
     "data": {
      "application/javascript": [
       "\n",
       "            setTimeout(function() {\n",
       "                var nbb_cell_id = 62;\n",
       "                var nbb_unformatted_code = \"weave(sdd, df).to_widget()\";\n",
       "                var nbb_formatted_code = \"weave(sdd, df).to_widget()\";\n",
       "                var nbb_cells = Jupyter.notebook.get_cells();\n",
       "                for (var i = 0; i < nbb_cells.length; ++i) {\n",
       "                    if (nbb_cells[i].input_prompt_number == nbb_cell_id) {\n",
       "                        if (nbb_cells[i].get_text() == nbb_unformatted_code) {\n",
       "                             nbb_cells[i].set_text(nbb_formatted_code);\n",
       "                        }\n",
       "                        break;\n",
       "                    }\n",
       "                }\n",
       "            }, 500);\n",
       "            "
      ],
      "text/plain": [
       "<IPython.core.display.Javascript object>"
      ]
     },
     "metadata": {},
     "output_type": "display_data"
    }
   ],
   "source": [
    "weave(sdd, df).to_widget()"
   ]
  },
  {
   "cell_type": "code",
   "execution_count": 63,
   "id": "2e01b77b",
   "metadata": {
    "ExecuteTime": {
     "end_time": "2022-01-11T01:59:22.519806Z",
     "start_time": "2022-01-11T01:59:22.514017Z"
    }
   },
   "outputs": [
    {
     "data": {
      "application/javascript": [
       "\n",
       "            setTimeout(function() {\n",
       "                var nbb_cell_id = 63;\n",
       "                var nbb_unformatted_code = \"people_by_gender = Partition.Simple(\\n    \\\"process\\\", [(\\\"Men\\\", [\\\"Josh\\\", \\\"Ben\\\"]), (\\\"Women\\\", [\\\"Anna\\\", \\\"Lauren\\\"])]\\n)\\nnodes[\\\"people\\\"].partition = people_by_gender\";\n",
       "                var nbb_formatted_code = \"people_by_gender = Partition.Simple(\\n    \\\"process\\\", [(\\\"Men\\\", [\\\"Josh\\\", \\\"Ben\\\"]), (\\\"Women\\\", [\\\"Anna\\\", \\\"Lauren\\\"])]\\n)\\nnodes[\\\"people\\\"].partition = people_by_gender\";\n",
       "                var nbb_cells = Jupyter.notebook.get_cells();\n",
       "                for (var i = 0; i < nbb_cells.length; ++i) {\n",
       "                    if (nbb_cells[i].input_prompt_number == nbb_cell_id) {\n",
       "                        if (nbb_cells[i].get_text() == nbb_unformatted_code) {\n",
       "                             nbb_cells[i].set_text(nbb_formatted_code);\n",
       "                        }\n",
       "                        break;\n",
       "                    }\n",
       "                }\n",
       "            }, 500);\n",
       "            "
      ],
      "text/plain": [
       "<IPython.core.display.Javascript object>"
      ]
     },
     "metadata": {},
     "output_type": "display_data"
    }
   ],
   "source": [
    "people_by_gender = Partition.Simple(\n",
    "    \"process\", [(\"Men\", [\"Josh\", \"Ben\"]), (\"Women\", [\"Anna\", \"Lauren\"])]\n",
    ")\n",
    "nodes[\"people\"].partition = people_by_gender"
   ]
  },
  {
   "cell_type": "code",
   "execution_count": 64,
   "id": "63af7ed4",
   "metadata": {
    "ExecuteTime": {
     "end_time": "2022-01-11T01:59:23.561345Z",
     "start_time": "2022-01-11T01:59:23.433340Z"
    }
   },
   "outputs": [
    {
     "data": {
      "application/vnd.jupyter.widget-view+json": {
       "model_id": "6a1914fc5d114d84a40f3b95a0cd37bf",
       "version_major": 2,
       "version_minor": 0
      },
      "text/plain": [
       "SankeyWidget(groups=[{'id': 'people', 'type': 'process', 'title': '', 'nodes': ['people^Men', 'people^Women']}…"
      ]
     },
     "metadata": {},
     "output_type": "display_data"
    },
    {
     "data": {
      "application/javascript": [
       "\n",
       "            setTimeout(function() {\n",
       "                var nbb_cell_id = 64;\n",
       "                var nbb_unformatted_code = \"weave(sdd, df).to_widget()\";\n",
       "                var nbb_formatted_code = \"weave(sdd, df).to_widget()\";\n",
       "                var nbb_cells = Jupyter.notebook.get_cells();\n",
       "                for (var i = 0; i < nbb_cells.length; ++i) {\n",
       "                    if (nbb_cells[i].input_prompt_number == nbb_cell_id) {\n",
       "                        if (nbb_cells[i].get_text() == nbb_unformatted_code) {\n",
       "                             nbb_cells[i].set_text(nbb_formatted_code);\n",
       "                        }\n",
       "                        break;\n",
       "                    }\n",
       "                }\n",
       "            }, 500);\n",
       "            "
      ],
      "text/plain": [
       "<IPython.core.display.Javascript object>"
      ]
     },
     "metadata": {},
     "output_type": "display_data"
    }
   ],
   "source": [
    "weave(sdd, df).to_widget()"
   ]
  },
  {
   "cell_type": "code",
   "execution_count": 65,
   "id": "fb001269",
   "metadata": {
    "ExecuteTime": {
     "end_time": "2022-01-11T01:59:32.644537Z",
     "start_time": "2022-01-11T01:59:32.441492Z"
    }
   },
   "outputs": [
    {
     "data": {
      "application/vnd.jupyter.widget-view+json": {
       "model_id": "d35cf82f8eac4f999f9bfcb0a26e2d11",
       "version_major": 2,
       "version_minor": 0
      },
      "text/plain": [
       "SankeyWidget(groups=[{'id': 'people', 'type': 'process', 'title': '', 'nodes': ['people^Men', 'people^Women']}…"
      ]
     },
     "metadata": {},
     "output_type": "display_data"
    },
    {
     "data": {
      "application/javascript": [
       "\n",
       "            setTimeout(function() {\n",
       "                var nbb_cell_id = 65;\n",
       "                var nbb_unformatted_code = \"trip_type = Partition.Simple(\\n    \\\"type\\\",\\n    [\\n        \\\"business trip\\\",\\n        \\\"family visit\\\",\\n        \\\"vacation\\\",\\n    ],\\n)\\n\\nsdd = SankeyDefinition(nodes, bundles, ordering, flow_partition=trip_type)\\nweave(sdd, df).to_widget()\";\n",
       "                var nbb_formatted_code = \"trip_type = Partition.Simple(\\n    \\\"type\\\",\\n    [\\n        \\\"business trip\\\",\\n        \\\"family visit\\\",\\n        \\\"vacation\\\",\\n    ],\\n)\\n\\nsdd = SankeyDefinition(nodes, bundles, ordering, flow_partition=trip_type)\\nweave(sdd, df).to_widget()\";\n",
       "                var nbb_cells = Jupyter.notebook.get_cells();\n",
       "                for (var i = 0; i < nbb_cells.length; ++i) {\n",
       "                    if (nbb_cells[i].input_prompt_number == nbb_cell_id) {\n",
       "                        if (nbb_cells[i].get_text() == nbb_unformatted_code) {\n",
       "                             nbb_cells[i].set_text(nbb_formatted_code);\n",
       "                        }\n",
       "                        break;\n",
       "                    }\n",
       "                }\n",
       "            }, 500);\n",
       "            "
      ],
      "text/plain": [
       "<IPython.core.display.Javascript object>"
      ]
     },
     "metadata": {},
     "output_type": "display_data"
    }
   ],
   "source": [
    "trip_type = Partition.Simple(\n",
    "    \"type\",\n",
    "    [\n",
    "        \"business trip\",\n",
    "        \"family visit\",\n",
    "        \"vacation\",\n",
    "    ],\n",
    ")\n",
    "\n",
    "sdd = SankeyDefinition(nodes, bundles, ordering, flow_partition=trip_type)\n",
    "weave(sdd, df).to_widget()"
   ]
  },
  {
   "cell_type": "code",
   "execution_count": 66,
   "id": "b37277df",
   "metadata": {
    "ExecuteTime": {
     "end_time": "2022-01-11T01:59:33.701727Z",
     "start_time": "2022-01-11T01:59:33.548823Z"
    }
   },
   "outputs": [
    {
     "data": {
      "application/vnd.jupyter.widget-view+json": {
       "model_id": "359e821b95174c8f825a68c61a5c7915",
       "version_major": 2,
       "version_minor": 0
      },
      "text/plain": [
       "SankeyWidget(groups=[{'id': 'people', 'type': 'process', 'title': '', 'nodes': ['people^Men', 'people^Women']}…"
      ]
     },
     "metadata": {},
     "output_type": "display_data"
    },
    {
     "data": {
      "application/javascript": [
       "\n",
       "            setTimeout(function() {\n",
       "                var nbb_cell_id = 66;\n",
       "                var nbb_unformatted_code = \"# 1. Define a new waypoint node\\nnodes[\\\"waypoint\\\"] = Waypoint(trip_type)\\n\\n# 2. Update the ordering to show where the waypoint goes: in the middle\\nordering = [\\n    [\\\"people\\\"],\\n    [\\\"waypoint\\\"],\\n    [\\\"locations\\\"],\\n]\\n\\n# 3. Update the bundle definition to send the flows via the waypoint\\nbundles = [\\n    Bundle(\\\"people\\\", \\\"locations\\\", waypoints=[\\\"waypoint\\\"]),\\n]\\n\\n# Update the SDD with the new nodes, ordering & bundles.\\nsdd = SankeyDefinition(nodes, bundles, ordering, flow_partition=trip_type)\\n\\nweave(sdd, df).to_widget()\";\n",
       "                var nbb_formatted_code = \"# 1. Define a new waypoint node\\nnodes[\\\"waypoint\\\"] = Waypoint(trip_type)\\n\\n# 2. Update the ordering to show where the waypoint goes: in the middle\\nordering = [\\n    [\\\"people\\\"],\\n    [\\\"waypoint\\\"],\\n    [\\\"locations\\\"],\\n]\\n\\n# 3. Update the bundle definition to send the flows via the waypoint\\nbundles = [\\n    Bundle(\\\"people\\\", \\\"locations\\\", waypoints=[\\\"waypoint\\\"]),\\n]\\n\\n# Update the SDD with the new nodes, ordering & bundles.\\nsdd = SankeyDefinition(nodes, bundles, ordering, flow_partition=trip_type)\\n\\nweave(sdd, df).to_widget()\";\n",
       "                var nbb_cells = Jupyter.notebook.get_cells();\n",
       "                for (var i = 0; i < nbb_cells.length; ++i) {\n",
       "                    if (nbb_cells[i].input_prompt_number == nbb_cell_id) {\n",
       "                        if (nbb_cells[i].get_text() == nbb_unformatted_code) {\n",
       "                             nbb_cells[i].set_text(nbb_formatted_code);\n",
       "                        }\n",
       "                        break;\n",
       "                    }\n",
       "                }\n",
       "            }, 500);\n",
       "            "
      ],
      "text/plain": [
       "<IPython.core.display.Javascript object>"
      ]
     },
     "metadata": {},
     "output_type": "display_data"
    }
   ],
   "source": [
    "# 1. Define a new waypoint node\n",
    "nodes[\"waypoint\"] = Waypoint(trip_type)\n",
    "\n",
    "# 2. Update the ordering to show where the waypoint goes: in the middle\n",
    "ordering = [\n",
    "    [\"people\"],\n",
    "    [\"waypoint\"],\n",
    "    [\"locations\"],\n",
    "]\n",
    "\n",
    "# 3. Update the bundle definition to send the flows via the waypoint\n",
    "bundles = [\n",
    "    Bundle(\"people\", \"locations\", waypoints=[\"waypoint\"]),\n",
    "]\n",
    "\n",
    "# Update the SDD with the new nodes, ordering & bundles.\n",
    "sdd = SankeyDefinition(nodes, bundles, ordering, flow_partition=trip_type)\n",
    "\n",
    "weave(sdd, df).to_widget()"
   ]
  },
  {
   "cell_type": "code",
   "execution_count": null,
   "id": "9a0dd5fd",
   "metadata": {},
   "outputs": [],
   "source": []
  }
 ],
 "metadata": {
  "kernelspec": {
   "display_name": "Python 3 (ipykernel)",
   "language": "python",
   "name": "python3"
  },
  "language_info": {
   "codemirror_mode": {
    "name": "ipython",
    "version": 3
   },
   "file_extension": ".py",
   "mimetype": "text/x-python",
   "name": "python",
   "nbconvert_exporter": "python",
   "pygments_lexer": "ipython3",
   "version": "3.8.10"
  },
  "toc": {
   "base_numbering": 1,
   "nav_menu": {},
   "number_sections": true,
   "sideBar": true,
   "skip_h1_title": false,
   "title_cell": "Table of Contents",
   "title_sidebar": "Contents",
   "toc_cell": false,
   "toc_position": {},
   "toc_section_display": true,
   "toc_window_display": false
  }
 },
 "nbformat": 4,
 "nbformat_minor": 5
}
