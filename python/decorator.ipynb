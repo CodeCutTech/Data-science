{
 "cells": [
  {
   "cell_type": "code",
   "execution_count": 16,
   "id": "c30ac884",
   "metadata": {
    "ExecuteTime": {
     "end_time": "2021-08-30T12:33:19.436734Z",
     "start_time": "2021-08-30T12:33:19.268946Z"
    }
   },
   "outputs": [
    {
     "data": {
      "application/javascript": [
       "\n",
       "            setTimeout(function() {\n",
       "                var nbb_cell_id = 16;\n",
       "                var nbb_unformatted_code = \"%load_ext nb_black\";\n",
       "                var nbb_formatted_code = \"%load_ext nb_black\";\n",
       "                var nbb_cells = Jupyter.notebook.get_cells();\n",
       "                for (var i = 0; i < nbb_cells.length; ++i) {\n",
       "                    if (nbb_cells[i].input_prompt_number == nbb_cell_id) {\n",
       "                        if (nbb_cells[i].get_text() == nbb_unformatted_code) {\n",
       "                             nbb_cells[i].set_text(nbb_formatted_code);\n",
       "                        }\n",
       "                        break;\n",
       "                    }\n",
       "                }\n",
       "            }, 500);\n",
       "            "
      ],
      "text/plain": [
       "<IPython.core.display.Javascript object>"
      ]
     },
     "metadata": {},
     "output_type": "display_data"
    }
   ],
   "source": [
    "%load_ext nb_black"
   ]
  },
  {
   "cell_type": "markdown",
   "id": "c3890e3d",
   "metadata": {},
   "source": [
    "# Problem"
   ]
  },
  {
   "cell_type": "code",
   "execution_count": 1,
   "id": "52fd3d37",
   "metadata": {
    "ExecuteTime": {
     "end_time": "2021-08-30T12:25:39.976527Z",
     "start_time": "2021-08-30T12:25:39.957294Z"
    }
   },
   "outputs": [],
   "source": [
    "def time_func(func):\n",
    "    def wrapper(*args, **kwargs):\n",
    "        start_time = time()\n",
    "        func(*args, **kwargs)\n",
    "        end_time = time()\n",
    "        print(\n",
    "            f\"\"\"It takes {round(end_time - start_time, 3)} seconds to execute the function\"\"\"\n",
    "        )\n",
    "    return wrapper "
   ]
  },
  {
   "cell_type": "code",
   "execution_count": 2,
   "id": "ba04b799",
   "metadata": {
    "ExecuteTime": {
     "end_time": "2021-08-30T12:26:47.565415Z",
     "start_time": "2021-08-30T12:26:46.557892Z"
    }
   },
   "outputs": [
    {
     "name": "stdout",
     "output_type": "stream",
     "text": [
      "It takes 1.001 seconds to execute the function\n"
     ]
    }
   ],
   "source": [
    "from time import time, sleep\n",
    "\n",
    "@time_func\n",
    "def test_func():\n",
    "    sleep(1)\n",
    "    \n",
    "test_func()"
   ]
  },
  {
   "cell_type": "code",
   "execution_count": 11,
   "id": "22156fb4",
   "metadata": {
    "ExecuteTime": {
     "end_time": "2021-08-30T12:30:11.494315Z",
     "start_time": "2021-08-30T12:30:11.486056Z"
    }
   },
   "outputs": [
    {
     "data": {
      "text/plain": [
       "<Signature (*args, **kwargs)>"
      ]
     },
     "execution_count": 11,
     "metadata": {},
     "output_type": "execute_result"
    }
   ],
   "source": [
    "from inspect import signature\n",
    "signature(test_func)"
   ]
  },
  {
   "cell_type": "code",
   "execution_count": 14,
   "id": "6eb105c4",
   "metadata": {
    "ExecuteTime": {
     "end_time": "2021-08-30T12:30:44.009457Z",
     "start_time": "2021-08-30T12:30:43.991487Z"
    }
   },
   "outputs": [
    {
     "ename": "TypeError",
     "evalue": "test_func() takes 0 positional arguments but 2 were given",
     "output_type": "error",
     "traceback": [
      "\u001b[0;31m---------------------------------------------------------------------------\u001b[0m",
      "\u001b[0;31mTypeError\u001b[0m                                 Traceback (most recent call last)",
      "\u001b[0;32m/tmp/ipykernel_369895/402927679.py\u001b[0m in \u001b[0;36m<module>\u001b[0;34m\u001b[0m\n\u001b[0;32m----> 1\u001b[0;31m \u001b[0mtest_func\u001b[0m\u001b[0;34m(\u001b[0m\u001b[0;36m1\u001b[0m\u001b[0;34m,\u001b[0m \u001b[0;36m2\u001b[0m\u001b[0;34m)\u001b[0m\u001b[0;34m\u001b[0m\u001b[0;34m\u001b[0m\u001b[0m\n\u001b[0m",
      "\u001b[0;32m/tmp/ipykernel_369895/2864448759.py\u001b[0m in \u001b[0;36mwrapper\u001b[0;34m(*args, **kwargs)\u001b[0m\n\u001b[1;32m      5\u001b[0m     \u001b[0;32mdef\u001b[0m \u001b[0mwrapper\u001b[0m\u001b[0;34m(\u001b[0m\u001b[0;34m*\u001b[0m\u001b[0margs\u001b[0m\u001b[0;34m,\u001b[0m \u001b[0;34m**\u001b[0m\u001b[0mkwargs\u001b[0m\u001b[0;34m)\u001b[0m\u001b[0;34m:\u001b[0m\u001b[0;34m\u001b[0m\u001b[0;34m\u001b[0m\u001b[0m\n\u001b[1;32m      6\u001b[0m         \u001b[0mstart_time\u001b[0m \u001b[0;34m=\u001b[0m \u001b[0mtime\u001b[0m\u001b[0;34m(\u001b[0m\u001b[0;34m)\u001b[0m\u001b[0;34m\u001b[0m\u001b[0;34m\u001b[0m\u001b[0m\n\u001b[0;32m----> 7\u001b[0;31m         \u001b[0mfunc\u001b[0m\u001b[0;34m(\u001b[0m\u001b[0;34m*\u001b[0m\u001b[0margs\u001b[0m\u001b[0;34m,\u001b[0m \u001b[0;34m**\u001b[0m\u001b[0mkwargs\u001b[0m\u001b[0;34m)\u001b[0m\u001b[0;34m\u001b[0m\u001b[0;34m\u001b[0m\u001b[0m\n\u001b[0m\u001b[1;32m      8\u001b[0m         \u001b[0mend_time\u001b[0m \u001b[0;34m=\u001b[0m \u001b[0mtime\u001b[0m\u001b[0;34m(\u001b[0m\u001b[0;34m)\u001b[0m\u001b[0;34m\u001b[0m\u001b[0;34m\u001b[0m\u001b[0m\n\u001b[1;32m      9\u001b[0m         print(\n",
      "\u001b[0;31mTypeError\u001b[0m: test_func() takes 0 positional arguments but 2 were given"
     ]
    }
   ],
   "source": [
    "test_func(1, 2)"
   ]
  },
  {
   "cell_type": "markdown",
   "id": "f6ff3f4a",
   "metadata": {
    "ExecuteTime": {
     "end_time": "2021-08-30T12:31:15.427478Z",
     "start_time": "2021-08-30T12:31:15.422103Z"
    }
   },
   "source": [
    "# Decorator Library"
   ]
  },
  {
   "cell_type": "markdown",
   "id": "fab3a3a8",
   "metadata": {},
   "source": [
    "## Decorator.decorator"
   ]
  },
  {
   "cell_type": "markdown",
   "id": "f7c0ac63",
   "metadata": {},
   "source": [
    "### Time func"
   ]
  },
  {
   "cell_type": "code",
   "execution_count": 4,
   "id": "81ab0088",
   "metadata": {
    "ExecuteTime": {
     "end_time": "2021-08-30T12:27:41.443337Z",
     "start_time": "2021-08-30T12:27:41.435948Z"
    }
   },
   "outputs": [],
   "source": [
    "from decorator import decorator\n",
    "\n",
    "@decorator\n",
    "def time_func_2(func, *args, **kwargs):\n",
    "    start_time = time()\n",
    "    func(*args, **kwargs)\n",
    "    end_time = time()\n",
    "    print(\n",
    "            f\"\"\"It takes {round(end_time - start_time, 3)} seconds to execute the function\"\"\"\n",
    "        )"
   ]
  },
  {
   "cell_type": "code",
   "execution_count": 5,
   "id": "11644a8e",
   "metadata": {
    "ExecuteTime": {
     "end_time": "2021-08-30T12:28:02.859191Z",
     "start_time": "2021-08-30T12:28:01.852340Z"
    }
   },
   "outputs": [
    {
     "name": "stdout",
     "output_type": "stream",
     "text": [
      "It takes 1.001 seconds to execute the function\n"
     ]
    }
   ],
   "source": [
    "@time_func_2\n",
    "def test_func_2():\n",
    "    sleep(1)\n",
    "    \n",
    "test_func_2()"
   ]
  },
  {
   "cell_type": "code",
   "execution_count": 12,
   "id": "57ab5848",
   "metadata": {
    "ExecuteTime": {
     "end_time": "2021-08-30T12:30:17.447352Z",
     "start_time": "2021-08-30T12:30:17.438949Z"
    }
   },
   "outputs": [
    {
     "data": {
      "text/plain": [
       "<Signature ()>"
      ]
     },
     "execution_count": 12,
     "metadata": {},
     "output_type": "execute_result"
    }
   ],
   "source": [
    "signature(test_func_2)"
   ]
  },
  {
   "cell_type": "markdown",
   "id": "384588aa",
   "metadata": {},
   "source": [
    "### Validate data"
   ]
  },
  {
   "cell_type": "code",
   "execution_count": 115,
   "id": "758b6e2b",
   "metadata": {
    "ExecuteTime": {
     "end_time": "2021-08-30T19:35:48.200680Z",
     "start_time": "2021-08-30T19:35:48.160086Z"
    }
   },
   "outputs": [
    {
     "data": {
      "application/javascript": [
       "\n",
       "            setTimeout(function() {\n",
       "                var nbb_cell_id = 115;\n",
       "                var nbb_unformatted_code = \"import pandera as pa\\n\\n\\n@decorator\\ndef validate_data(func, data: pd.DataFrame):\\n    schema = pa.DataFrameSchema(\\n        {\\n            \\\"col1\\\": pa.Column(int, checks=pa.Check.le(5)),\\n            \\\"col2\\\": pa.Column(str, checks=pa.Check.isin([\\\"a\\\", \\\"b\\\", \\\"c\\\", \\\"d\\\"])),\\n            \\\"col3\\\": pa.Column(int, checks=pa.Check.le(5)),\\n        }\\n    )\\n    processed_data = func(data)\\n    validated_data = schema(processed_data)\\n    return processed_data\";\n",
       "                var nbb_formatted_code = \"import pandera as pa\\n\\n\\n@decorator\\ndef validate_data(func, data: pd.DataFrame):\\n    schema = pa.DataFrameSchema(\\n        {\\n            \\\"col1\\\": pa.Column(int, checks=pa.Check.le(5)),\\n            \\\"col2\\\": pa.Column(str, checks=pa.Check.isin([\\\"a\\\", \\\"b\\\", \\\"c\\\", \\\"d\\\"])),\\n            \\\"col3\\\": pa.Column(int, checks=pa.Check.le(5)),\\n        }\\n    )\\n    processed_data = func(data)\\n    validated_data = schema(processed_data)\\n    return processed_data\";\n",
       "                var nbb_cells = Jupyter.notebook.get_cells();\n",
       "                for (var i = 0; i < nbb_cells.length; ++i) {\n",
       "                    if (nbb_cells[i].input_prompt_number == nbb_cell_id) {\n",
       "                        if (nbb_cells[i].get_text() == nbb_unformatted_code) {\n",
       "                             nbb_cells[i].set_text(nbb_formatted_code);\n",
       "                        }\n",
       "                        break;\n",
       "                    }\n",
       "                }\n",
       "            }, 500);\n",
       "            "
      ],
      "text/plain": [
       "<IPython.core.display.Javascript object>"
      ]
     },
     "metadata": {},
     "output_type": "display_data"
    }
   ],
   "source": [
    "import pandera as pa\n",
    "\n",
    "\n",
    "@decorator\n",
    "def validate_data(func, data: pd.DataFrame):\n",
    "    schema = pa.DataFrameSchema(\n",
    "        {\n",
    "            \"col1\": pa.Column(int, checks=pa.Check.le(5)),\n",
    "            \"col2\": pa.Column(str, checks=pa.Check.isin([\"a\", \"b\", \"c\", \"d\"])),\n",
    "            \"col3\": pa.Column(int, checks=pa.Check.le(5)),\n",
    "        }\n",
    "    )\n",
    "    processed_data = func(data)\n",
    "    validated_data = schema(processed_data)\n",
    "    return processed_data"
   ]
  },
  {
   "cell_type": "code",
   "execution_count": 112,
   "id": "82a9bba3",
   "metadata": {
    "ExecuteTime": {
     "end_time": "2021-08-30T19:35:27.596891Z",
     "start_time": "2021-08-30T19:35:27.576708Z"
    }
   },
   "outputs": [
    {
     "data": {
      "application/javascript": [
       "\n",
       "            setTimeout(function() {\n",
       "                var nbb_cell_id = 112;\n",
       "                var nbb_unformatted_code = \"import pandas as pd\\n\\n\\n@validate_data\\ndef process_data(data: pd.DataFrame):\\n    data.col3 = data.col3.map(int)\\n    return data\";\n",
       "                var nbb_formatted_code = \"import pandas as pd\\n\\n\\n@validate_data\\ndef process_data(data: pd.DataFrame):\\n    data.col3 = data.col3.map(int)\\n    return data\";\n",
       "                var nbb_cells = Jupyter.notebook.get_cells();\n",
       "                for (var i = 0; i < nbb_cells.length; ++i) {\n",
       "                    if (nbb_cells[i].input_prompt_number == nbb_cell_id) {\n",
       "                        if (nbb_cells[i].get_text() == nbb_unformatted_code) {\n",
       "                             nbb_cells[i].set_text(nbb_formatted_code);\n",
       "                        }\n",
       "                        break;\n",
       "                    }\n",
       "                }\n",
       "            }, 500);\n",
       "            "
      ],
      "text/plain": [
       "<IPython.core.display.Javascript object>"
      ]
     },
     "metadata": {},
     "output_type": "display_data"
    }
   ],
   "source": [
    "import pandas as pd\n",
    "\n",
    "\n",
    "@validate_data\n",
    "def process_data(data: pd.DataFrame):\n",
    "    data.col3 = data.col3.map(int)\n",
    "    return data"
   ]
  },
  {
   "cell_type": "code",
   "execution_count": 113,
   "id": "4d3c0601",
   "metadata": {
    "ExecuteTime": {
     "end_time": "2021-08-30T19:35:28.155681Z",
     "start_time": "2021-08-30T19:35:28.132176Z"
    }
   },
   "outputs": [
    {
     "data": {
      "application/javascript": [
       "\n",
       "            setTimeout(function() {\n",
       "                var nbb_cell_id = 113;\n",
       "                var nbb_unformatted_code = \"df = pd.DataFrame(\\n    {\\\"col1\\\": [1, 2, 3, 4], \\\"col2\\\": [\\\"a\\\", \\\"b\\\", \\\"c\\\", \\\"d\\\"], \\\"col3\\\": [1.1, 2.2, 3.3, 4.4]}\\n)\";\n",
       "                var nbb_formatted_code = \"df = pd.DataFrame(\\n    {\\\"col1\\\": [1, 2, 3, 4], \\\"col2\\\": [\\\"a\\\", \\\"b\\\", \\\"c\\\", \\\"d\\\"], \\\"col3\\\": [1.1, 2.2, 3.3, 4.4]}\\n)\";\n",
       "                var nbb_cells = Jupyter.notebook.get_cells();\n",
       "                for (var i = 0; i < nbb_cells.length; ++i) {\n",
       "                    if (nbb_cells[i].input_prompt_number == nbb_cell_id) {\n",
       "                        if (nbb_cells[i].get_text() == nbb_unformatted_code) {\n",
       "                             nbb_cells[i].set_text(nbb_formatted_code);\n",
       "                        }\n",
       "                        break;\n",
       "                    }\n",
       "                }\n",
       "            }, 500);\n",
       "            "
      ],
      "text/plain": [
       "<IPython.core.display.Javascript object>"
      ]
     },
     "metadata": {},
     "output_type": "display_data"
    }
   ],
   "source": [
    "df = pd.DataFrame(\n",
    "    {\"col1\": [1, 2, 3, 4], \"col2\": [\"a\", \"b\", \"c\", \"d\"], \"col3\": [1.1, 2.2, 3.3, 4.4]}\n",
    ")"
   ]
  },
  {
   "cell_type": "code",
   "execution_count": 114,
   "id": "5d453502",
   "metadata": {
    "ExecuteTime": {
     "end_time": "2021-08-30T19:35:28.665914Z",
     "start_time": "2021-08-30T19:35:28.619354Z"
    }
   },
   "outputs": [
    {
     "data": {
      "text/html": [
       "<div>\n",
       "<style scoped>\n",
       "    .dataframe tbody tr th:only-of-type {\n",
       "        vertical-align: middle;\n",
       "    }\n",
       "\n",
       "    .dataframe tbody tr th {\n",
       "        vertical-align: top;\n",
       "    }\n",
       "\n",
       "    .dataframe thead th {\n",
       "        text-align: right;\n",
       "    }\n",
       "</style>\n",
       "<table border=\"1\" class=\"dataframe\">\n",
       "  <thead>\n",
       "    <tr style=\"text-align: right;\">\n",
       "      <th></th>\n",
       "      <th>col1</th>\n",
       "      <th>col2</th>\n",
       "      <th>col3</th>\n",
       "    </tr>\n",
       "  </thead>\n",
       "  <tbody>\n",
       "    <tr>\n",
       "      <th>0</th>\n",
       "      <td>1</td>\n",
       "      <td>a</td>\n",
       "      <td>1</td>\n",
       "    </tr>\n",
       "    <tr>\n",
       "      <th>1</th>\n",
       "      <td>2</td>\n",
       "      <td>b</td>\n",
       "      <td>2</td>\n",
       "    </tr>\n",
       "    <tr>\n",
       "      <th>2</th>\n",
       "      <td>3</td>\n",
       "      <td>c</td>\n",
       "      <td>3</td>\n",
       "    </tr>\n",
       "    <tr>\n",
       "      <th>3</th>\n",
       "      <td>4</td>\n",
       "      <td>d</td>\n",
       "      <td>4</td>\n",
       "    </tr>\n",
       "  </tbody>\n",
       "</table>\n",
       "</div>"
      ],
      "text/plain": [
       "   col1 col2  col3\n",
       "0     1    a     1\n",
       "1     2    b     2\n",
       "2     3    c     3\n",
       "3     4    d     4"
      ]
     },
     "execution_count": 114,
     "metadata": {},
     "output_type": "execute_result"
    },
    {
     "data": {
      "application/javascript": [
       "\n",
       "            setTimeout(function() {\n",
       "                var nbb_cell_id = 114;\n",
       "                var nbb_unformatted_code = \"processed_df = process_data(df)\\nprocessed_df\";\n",
       "                var nbb_formatted_code = \"processed_df = process_data(df)\\nprocessed_df\";\n",
       "                var nbb_cells = Jupyter.notebook.get_cells();\n",
       "                for (var i = 0; i < nbb_cells.length; ++i) {\n",
       "                    if (nbb_cells[i].input_prompt_number == nbb_cell_id) {\n",
       "                        if (nbb_cells[i].get_text() == nbb_unformatted_code) {\n",
       "                             nbb_cells[i].set_text(nbb_formatted_code);\n",
       "                        }\n",
       "                        break;\n",
       "                    }\n",
       "                }\n",
       "            }, 500);\n",
       "            "
      ],
      "text/plain": [
       "<IPython.core.display.Javascript object>"
      ]
     },
     "metadata": {},
     "output_type": "display_data"
    }
   ],
   "source": [
    "processed_df = process_data(df)\n",
    "processed_df"
   ]
  },
  {
   "cell_type": "code",
   "execution_count": 116,
   "id": "b48621fa",
   "metadata": {
    "ExecuteTime": {
     "end_time": "2021-08-30T19:36:30.517875Z",
     "start_time": "2021-08-30T19:36:30.502503Z"
    }
   },
   "outputs": [
    {
     "data": {
      "text/plain": [
       "<Signature (data: pandas.core.frame.DataFrame)>"
      ]
     },
     "execution_count": 116,
     "metadata": {},
     "output_type": "execute_result"
    },
    {
     "data": {
      "application/javascript": [
       "\n",
       "            setTimeout(function() {\n",
       "                var nbb_cell_id = 116;\n",
       "                var nbb_unformatted_code = \"signature(process_data)\";\n",
       "                var nbb_formatted_code = \"signature(process_data)\";\n",
       "                var nbb_cells = Jupyter.notebook.get_cells();\n",
       "                for (var i = 0; i < nbb_cells.length; ++i) {\n",
       "                    if (nbb_cells[i].input_prompt_number == nbb_cell_id) {\n",
       "                        if (nbb_cells[i].get_text() == nbb_unformatted_code) {\n",
       "                             nbb_cells[i].set_text(nbb_formatted_code);\n",
       "                        }\n",
       "                        break;\n",
       "                    }\n",
       "                }\n",
       "            }, 500);\n",
       "            "
      ],
      "text/plain": [
       "<IPython.core.display.Javascript object>"
      ]
     },
     "metadata": {},
     "output_type": "display_data"
    }
   ],
   "source": [
    "signature(process_data)"
   ]
  },
  {
   "cell_type": "code",
   "execution_count": null,
   "id": "d67a6ca4",
   "metadata": {},
   "outputs": [],
   "source": [
    "@d"
   ]
  }
 ],
 "metadata": {
  "kernelspec": {
   "display_name": "Python 3 (ipykernel)",
   "language": "python",
   "name": "python3"
  },
  "language_info": {
   "codemirror_mode": {
    "name": "ipython",
    "version": 3
   },
   "file_extension": ".py",
   "mimetype": "text/x-python",
   "name": "python",
   "nbconvert_exporter": "python",
   "pygments_lexer": "ipython3",
   "version": "3.8.10"
  },
  "toc": {
   "base_numbering": 1,
   "nav_menu": {},
   "number_sections": true,
   "sideBar": true,
   "skip_h1_title": false,
   "title_cell": "Table of Contents",
   "title_sidebar": "Contents",
   "toc_cell": false,
   "toc_position": {},
   "toc_section_display": true,
   "toc_window_display": false
  }
 },
 "nbformat": 4,
 "nbformat_minor": 5
}
