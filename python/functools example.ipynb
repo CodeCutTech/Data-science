{
 "cells": [
  {
   "cell_type": "markdown",
   "id": "556065fd",
   "metadata": {},
   "source": [
    "# functools.partial"
   ]
  },
  {
   "cell_type": "code",
   "execution_count": 46,
   "id": "642c0a7b",
   "metadata": {
    "ExecuteTime": {
     "end_time": "2021-11-12T23:12:02.008793Z",
     "start_time": "2021-11-12T23:12:02.002793Z"
    }
   },
   "outputs": [],
   "source": [
    "from functools import partial\n",
    "from sklearn.datasets import load_wine"
   ]
  },
  {
   "cell_type": "code",
   "execution_count": 19,
   "id": "bf84dce7",
   "metadata": {
    "ExecuteTime": {
     "end_time": "2021-11-12T23:04:49.279883Z",
     "start_time": "2021-11-12T23:04:49.216809Z"
    }
   },
   "outputs": [
    {
     "data": {
      "text/html": [
       "<div>\n",
       "<style scoped>\n",
       "    .dataframe tbody tr th:only-of-type {\n",
       "        vertical-align: middle;\n",
       "    }\n",
       "\n",
       "    .dataframe tbody tr th {\n",
       "        vertical-align: top;\n",
       "    }\n",
       "\n",
       "    .dataframe thead th {\n",
       "        text-align: right;\n",
       "    }\n",
       "</style>\n",
       "<table border=\"1\" class=\"dataframe\">\n",
       "  <thead>\n",
       "    <tr style=\"text-align: right;\">\n",
       "      <th></th>\n",
       "      <th>alcohol</th>\n",
       "      <th>malic_acid</th>\n",
       "      <th>ash</th>\n",
       "      <th>alcalinity_of_ash</th>\n",
       "      <th>magnesium</th>\n",
       "      <th>total_phenols</th>\n",
       "      <th>flavanoids</th>\n",
       "      <th>nonflavanoid_phenols</th>\n",
       "      <th>proanthocyanins</th>\n",
       "      <th>color_intensity</th>\n",
       "      <th>hue</th>\n",
       "      <th>od280/od315_of_diluted_wines</th>\n",
       "      <th>proline</th>\n",
       "      <th>target</th>\n",
       "    </tr>\n",
       "  </thead>\n",
       "  <tbody>\n",
       "    <tr>\n",
       "      <th>0</th>\n",
       "      <td>14.23</td>\n",
       "      <td>1.71</td>\n",
       "      <td>2.43</td>\n",
       "      <td>15.6</td>\n",
       "      <td>127.0</td>\n",
       "      <td>2.80</td>\n",
       "      <td>3.06</td>\n",
       "      <td>0.28</td>\n",
       "      <td>2.29</td>\n",
       "      <td>5.64</td>\n",
       "      <td>1.04</td>\n",
       "      <td>3.92</td>\n",
       "      <td>1065.0</td>\n",
       "      <td>0</td>\n",
       "    </tr>\n",
       "    <tr>\n",
       "      <th>1</th>\n",
       "      <td>13.20</td>\n",
       "      <td>1.78</td>\n",
       "      <td>2.14</td>\n",
       "      <td>11.2</td>\n",
       "      <td>100.0</td>\n",
       "      <td>2.65</td>\n",
       "      <td>2.76</td>\n",
       "      <td>0.26</td>\n",
       "      <td>1.28</td>\n",
       "      <td>4.38</td>\n",
       "      <td>1.05</td>\n",
       "      <td>3.40</td>\n",
       "      <td>1050.0</td>\n",
       "      <td>0</td>\n",
       "    </tr>\n",
       "    <tr>\n",
       "      <th>2</th>\n",
       "      <td>13.16</td>\n",
       "      <td>2.36</td>\n",
       "      <td>2.67</td>\n",
       "      <td>18.6</td>\n",
       "      <td>101.0</td>\n",
       "      <td>2.80</td>\n",
       "      <td>3.24</td>\n",
       "      <td>0.30</td>\n",
       "      <td>2.81</td>\n",
       "      <td>5.68</td>\n",
       "      <td>1.03</td>\n",
       "      <td>3.17</td>\n",
       "      <td>1185.0</td>\n",
       "      <td>0</td>\n",
       "    </tr>\n",
       "    <tr>\n",
       "      <th>3</th>\n",
       "      <td>14.37</td>\n",
       "      <td>1.95</td>\n",
       "      <td>2.50</td>\n",
       "      <td>16.8</td>\n",
       "      <td>113.0</td>\n",
       "      <td>3.85</td>\n",
       "      <td>3.49</td>\n",
       "      <td>0.24</td>\n",
       "      <td>2.18</td>\n",
       "      <td>7.80</td>\n",
       "      <td>0.86</td>\n",
       "      <td>3.45</td>\n",
       "      <td>1480.0</td>\n",
       "      <td>0</td>\n",
       "    </tr>\n",
       "    <tr>\n",
       "      <th>4</th>\n",
       "      <td>13.24</td>\n",
       "      <td>2.59</td>\n",
       "      <td>2.87</td>\n",
       "      <td>21.0</td>\n",
       "      <td>118.0</td>\n",
       "      <td>2.80</td>\n",
       "      <td>2.69</td>\n",
       "      <td>0.39</td>\n",
       "      <td>1.82</td>\n",
       "      <td>4.32</td>\n",
       "      <td>1.04</td>\n",
       "      <td>2.93</td>\n",
       "      <td>735.0</td>\n",
       "      <td>0</td>\n",
       "    </tr>\n",
       "    <tr>\n",
       "      <th>5</th>\n",
       "      <td>14.20</td>\n",
       "      <td>1.76</td>\n",
       "      <td>2.45</td>\n",
       "      <td>15.2</td>\n",
       "      <td>112.0</td>\n",
       "      <td>3.27</td>\n",
       "      <td>3.39</td>\n",
       "      <td>0.34</td>\n",
       "      <td>1.97</td>\n",
       "      <td>6.75</td>\n",
       "      <td>1.05</td>\n",
       "      <td>2.85</td>\n",
       "      <td>1450.0</td>\n",
       "      <td>0</td>\n",
       "    </tr>\n",
       "    <tr>\n",
       "      <th>6</th>\n",
       "      <td>14.39</td>\n",
       "      <td>1.87</td>\n",
       "      <td>2.45</td>\n",
       "      <td>14.6</td>\n",
       "      <td>96.0</td>\n",
       "      <td>2.50</td>\n",
       "      <td>2.52</td>\n",
       "      <td>0.30</td>\n",
       "      <td>1.98</td>\n",
       "      <td>5.25</td>\n",
       "      <td>1.02</td>\n",
       "      <td>3.58</td>\n",
       "      <td>1290.0</td>\n",
       "      <td>0</td>\n",
       "    </tr>\n",
       "    <tr>\n",
       "      <th>7</th>\n",
       "      <td>14.06</td>\n",
       "      <td>2.15</td>\n",
       "      <td>2.61</td>\n",
       "      <td>17.6</td>\n",
       "      <td>121.0</td>\n",
       "      <td>2.60</td>\n",
       "      <td>2.51</td>\n",
       "      <td>0.31</td>\n",
       "      <td>1.25</td>\n",
       "      <td>5.05</td>\n",
       "      <td>1.06</td>\n",
       "      <td>3.58</td>\n",
       "      <td>1295.0</td>\n",
       "      <td>0</td>\n",
       "    </tr>\n",
       "    <tr>\n",
       "      <th>8</th>\n",
       "      <td>14.83</td>\n",
       "      <td>1.64</td>\n",
       "      <td>2.17</td>\n",
       "      <td>14.0</td>\n",
       "      <td>97.0</td>\n",
       "      <td>2.80</td>\n",
       "      <td>2.98</td>\n",
       "      <td>0.29</td>\n",
       "      <td>1.98</td>\n",
       "      <td>5.20</td>\n",
       "      <td>1.08</td>\n",
       "      <td>2.85</td>\n",
       "      <td>1045.0</td>\n",
       "      <td>0</td>\n",
       "    </tr>\n",
       "    <tr>\n",
       "      <th>9</th>\n",
       "      <td>13.86</td>\n",
       "      <td>1.35</td>\n",
       "      <td>2.27</td>\n",
       "      <td>16.0</td>\n",
       "      <td>98.0</td>\n",
       "      <td>2.98</td>\n",
       "      <td>3.15</td>\n",
       "      <td>0.22</td>\n",
       "      <td>1.85</td>\n",
       "      <td>7.22</td>\n",
       "      <td>1.01</td>\n",
       "      <td>3.55</td>\n",
       "      <td>1045.0</td>\n",
       "      <td>0</td>\n",
       "    </tr>\n",
       "  </tbody>\n",
       "</table>\n",
       "</div>"
      ],
      "text/plain": [
       "   alcohol  malic_acid   ash  alcalinity_of_ash  magnesium  total_phenols  \\\n",
       "0    14.23        1.71  2.43               15.6      127.0           2.80   \n",
       "1    13.20        1.78  2.14               11.2      100.0           2.65   \n",
       "2    13.16        2.36  2.67               18.6      101.0           2.80   \n",
       "3    14.37        1.95  2.50               16.8      113.0           3.85   \n",
       "4    13.24        2.59  2.87               21.0      118.0           2.80   \n",
       "5    14.20        1.76  2.45               15.2      112.0           3.27   \n",
       "6    14.39        1.87  2.45               14.6       96.0           2.50   \n",
       "7    14.06        2.15  2.61               17.6      121.0           2.60   \n",
       "8    14.83        1.64  2.17               14.0       97.0           2.80   \n",
       "9    13.86        1.35  2.27               16.0       98.0           2.98   \n",
       "\n",
       "   flavanoids  nonflavanoid_phenols  proanthocyanins  color_intensity   hue  \\\n",
       "0        3.06                  0.28             2.29             5.64  1.04   \n",
       "1        2.76                  0.26             1.28             4.38  1.05   \n",
       "2        3.24                  0.30             2.81             5.68  1.03   \n",
       "3        3.49                  0.24             2.18             7.80  0.86   \n",
       "4        2.69                  0.39             1.82             4.32  1.04   \n",
       "5        3.39                  0.34             1.97             6.75  1.05   \n",
       "6        2.52                  0.30             1.98             5.25  1.02   \n",
       "7        2.51                  0.31             1.25             5.05  1.06   \n",
       "8        2.98                  0.29             1.98             5.20  1.08   \n",
       "9        3.15                  0.22             1.85             7.22  1.01   \n",
       "\n",
       "   od280/od315_of_diluted_wines  proline  target  \n",
       "0                          3.92   1065.0       0  \n",
       "1                          3.40   1050.0       0  \n",
       "2                          3.17   1185.0       0  \n",
       "3                          3.45   1480.0       0  \n",
       "4                          2.93    735.0       0  \n",
       "5                          2.85   1450.0       0  \n",
       "6                          3.58   1290.0       0  \n",
       "7                          3.58   1295.0       0  \n",
       "8                          2.85   1045.0       0  \n",
       "9                          3.55   1045.0       0  "
      ]
     },
     "execution_count": 19,
     "metadata": {},
     "output_type": "execute_result"
    }
   ],
   "source": [
    "X, y = load_wine(as_frame=True, return_X_y=True)\n",
    "df = X.merge(y, left_index=True, right_index=True)\n",
    "df.head(10)"
   ]
  },
  {
   "cell_type": "code",
   "execution_count": 41,
   "id": "feef5e2e",
   "metadata": {
    "ExecuteTime": {
     "end_time": "2021-11-12T23:11:23.304259Z",
     "start_time": "2021-11-12T23:11:23.296809Z"
    }
   },
   "outputs": [],
   "source": [
    "def get_count_above_threshold(threshold: str, column: str, df: pd.DataFrame):\n",
    "    return (df[column] > threshold).sum()"
   ]
  },
  {
   "cell_type": "code",
   "execution_count": 42,
   "id": "e0400c17",
   "metadata": {
    "ExecuteTime": {
     "end_time": "2021-11-12T23:11:26.384349Z",
     "start_time": "2021-11-12T23:11:26.374164Z"
    }
   },
   "outputs": [
    {
     "data": {
      "text/plain": [
       "82"
      ]
     },
     "execution_count": 42,
     "metadata": {},
     "output_type": "execute_result"
    }
   ],
   "source": [
    "get_count_above_threshold(98, 'magnesium', df)"
   ]
  },
  {
   "cell_type": "code",
   "execution_count": 43,
   "id": "23d41d39",
   "metadata": {
    "ExecuteTime": {
     "end_time": "2021-11-12T23:11:28.718214Z",
     "start_time": "2021-11-12T23:11:28.708481Z"
    }
   },
   "outputs": [
    {
     "data": {
      "text/plain": [
       "92"
      ]
     },
     "execution_count": 43,
     "metadata": {},
     "output_type": "execute_result"
    }
   ],
   "source": [
    "get_count_above_threshold(13, 'alcohol', df)"
   ]
  },
  {
   "cell_type": "code",
   "execution_count": 44,
   "id": "574a4575",
   "metadata": {
    "ExecuteTime": {
     "end_time": "2021-11-12T23:11:34.965076Z",
     "start_time": "2021-11-12T23:11:34.959485Z"
    }
   },
   "outputs": [],
   "source": [
    "get_count_above_threshold_partial = partial(get_count_above_threshold, df=df)"
   ]
  },
  {
   "cell_type": "code",
   "execution_count": 45,
   "id": "6df14e8f",
   "metadata": {
    "ExecuteTime": {
     "end_time": "2021-11-12T23:11:41.789160Z",
     "start_time": "2021-11-12T23:11:41.778856Z"
    }
   },
   "outputs": [
    {
     "data": {
      "text/plain": [
       "92"
      ]
     },
     "execution_count": 45,
     "metadata": {},
     "output_type": "execute_result"
    }
   ],
   "source": [
    "get_count_above_threshold_partial(13, 'alcohol')"
   ]
  },
  {
   "cell_type": "markdown",
   "id": "bed9e348",
   "metadata": {},
   "source": [
    "# functools.singledispatch"
   ]
  },
  {
   "cell_type": "code",
   "execution_count": 47,
   "id": "6a43bb60",
   "metadata": {
    "ExecuteTime": {
     "end_time": "2021-11-12T23:14:50.940321Z",
     "start_time": "2021-11-12T23:14:50.933146Z"
    }
   },
   "outputs": [],
   "source": [
    "data = {\"a\": [1, 2, 3], \"b\": [4, 5, 6]}\n",
    "data2 = [{\"a\": [1, 2, 3]}, {\"b\": [4, 5, 6]}]"
   ]
  },
  {
   "cell_type": "code",
   "execution_count": 48,
   "id": "297a0c08",
   "metadata": {
    "ExecuteTime": {
     "end_time": "2021-11-12T23:15:05.503720Z",
     "start_time": "2021-11-12T23:15:05.495774Z"
    }
   },
   "outputs": [],
   "source": [
    "def process_data(data):\n",
    "    if isinstance(data, dict):\n",
    "        process_dict(data)\n",
    "\n",
    "    else:\n",
    "        process_list(data)\n",
    "\n",
    "\n",
    "def process_dict(data: dict):\n",
    "    print(\"Dict is processed\")\n",
    "\n",
    "\n",
    "def process_list(data: list):\n",
    "    print(\"List is processed\")"
   ]
  },
  {
   "cell_type": "code",
   "execution_count": 49,
   "id": "af90f774",
   "metadata": {
    "ExecuteTime": {
     "end_time": "2021-11-12T23:19:36.971963Z",
     "start_time": "2021-11-12T23:19:36.963779Z"
    }
   },
   "outputs": [],
   "source": [
    "from functools import singledispatch\n",
    "\n",
    "@singledispatch\n",
    "def process_data2(data):\n",
    "    raise NotImplementedError(\"Please implement process_data2\")\n",
    "\n",
    "\n",
    "@process_data2.register\n",
    "def process_dict2(data: dict):\n",
    "    print(\"Dict is processed\")\n",
    "\n",
    "\n",
    "@process_data2.register\n",
    "def process_list2(data: list):\n",
    "    print(\"List is processed\")"
   ]
  },
  {
   "cell_type": "code",
   "execution_count": 50,
   "id": "8b9df284",
   "metadata": {
    "ExecuteTime": {
     "end_time": "2021-11-12T23:19:42.134874Z",
     "start_time": "2021-11-12T23:19:42.127504Z"
    }
   },
   "outputs": [
    {
     "name": "stdout",
     "output_type": "stream",
     "text": [
      "Dict is processed\n"
     ]
    }
   ],
   "source": [
    "process_data2(data)"
   ]
  },
  {
   "cell_type": "code",
   "execution_count": 51,
   "id": "86fe1925",
   "metadata": {
    "ExecuteTime": {
     "end_time": "2021-11-12T23:19:46.238261Z",
     "start_time": "2021-11-12T23:19:46.230540Z"
    }
   },
   "outputs": [
    {
     "name": "stdout",
     "output_type": "stream",
     "text": [
      "List is processed\n"
     ]
    }
   ],
   "source": [
    "process_data2(data2)"
   ]
  },
  {
   "cell_type": "code",
   "execution_count": null,
   "id": "e5152052",
   "metadata": {},
   "outputs": [],
   "source": []
  }
 ],
 "metadata": {
  "kernelspec": {
   "display_name": "Python 3 (ipykernel)",
   "language": "python",
   "name": "python3"
  },
  "language_info": {
   "codemirror_mode": {
    "name": "ipython",
    "version": 3
   },
   "file_extension": ".py",
   "mimetype": "text/x-python",
   "name": "python",
   "nbconvert_exporter": "python",
   "pygments_lexer": "ipython3",
   "version": "3.8.10"
  },
  "toc": {
   "base_numbering": 1,
   "nav_menu": {},
   "number_sections": true,
   "sideBar": true,
   "skip_h1_title": false,
   "title_cell": "Table of Contents",
   "title_sidebar": "Contents",
   "toc_cell": false,
   "toc_position": {},
   "toc_section_display": true,
   "toc_window_display": false
  }
 },
 "nbformat": 4,
 "nbformat_minor": 5
}
