{
 "cells": [
  {
   "cell_type": "markdown",
   "id": "ea264742",
   "metadata": {
    "cell_id": "00000-c97cd42c-6623-445b-9cb2-fc4b76048774",
    "deepnote_cell_type": "markdown"
   },
   "source": [
    "# Edit Your Expectation Suite\n",
    "Use this notebook to recreate and modify your expectation suite:\n",
    "\n",
    "**Expectation Suite Name**: `first_data.csv.warning`\n"
   ]
  },
  {
   "cell_type": "code",
   "execution_count": 1,
   "id": "dcb0bbdf",
   "metadata": {
    "ExecuteTime": {
     "end_time": "2021-10-07T21:01:42.399860Z",
     "start_time": "2021-10-07T21:01:40.954163Z"
    },
    "cell_id": "00001-baf84959-f7a1-49ef-a88d-30c7cfa5f77b",
    "deepnote_cell_type": "code",
    "deepnote_to_be_reexecuted": false,
    "execution_millis": 11260,
    "execution_start": 1633637757338,
    "output_cleared": true,
    "source_hash": "e71590bc",
    "tags": []
   },
   "outputs": [
    {
     "name": "stdout",
     "output_type": "stream",
     "text": [
      "Requirement already satisfied: great_expectations in /home/khuyen/Data-science/venv/lib/python3.8/site-packages (0.13.36)\n",
      "Requirement already satisfied: requests>=2.20 in /home/khuyen/Data-science/venv/lib/python3.8/site-packages (from great_expectations) (2.26.0)\n",
      "Requirement already satisfied: pandas>=0.23.0 in /home/khuyen/Data-science/venv/lib/python3.8/site-packages (from great_expectations) (1.3.3)\n",
      "Requirement already satisfied: tqdm>=4.59.0 in /home/khuyen/Data-science/venv/lib/python3.8/site-packages (from great_expectations) (4.62.3)\n",
      "Requirement already satisfied: mistune>=0.8.4 in /home/khuyen/Data-science/venv/lib/python3.8/site-packages (from great_expectations) (0.8.4)\n",
      "Requirement already satisfied: numpy>=1.14.1 in /home/khuyen/Data-science/venv/lib/python3.8/site-packages (from great_expectations) (1.20.3)\n",
      "Requirement already satisfied: ruamel.yaml>=0.16 in /home/khuyen/Data-science/venv/lib/python3.8/site-packages (from great_expectations) (0.17.16)\n",
      "Requirement already satisfied: termcolor>=1.1.0 in /home/khuyen/Data-science/venv/lib/python3.8/site-packages (from great_expectations) (1.1.0)\n",
      "Requirement already satisfied: pytz>=2015.6 in /home/khuyen/Data-science/venv/lib/python3.8/site-packages (from great_expectations) (2021.1)\n",
      "Requirement already satisfied: importlib-metadata>=1.7.0 in /home/khuyen/Data-science/venv/lib/python3.8/site-packages (from great_expectations) (4.8.1)\n",
      "Requirement already satisfied: Click>=7.1.2 in /home/khuyen/Data-science/venv/lib/python3.8/site-packages (from great_expectations) (7.1.2)\n",
      "Requirement already satisfied: jsonpatch>=1.22 in /home/khuyen/Data-science/venv/lib/python3.8/site-packages (from great_expectations) (1.32)\n",
      "Requirement already satisfied: altair<5,>=4.0.0 in /home/khuyen/Data-science/venv/lib/python3.8/site-packages (from great_expectations) (4.1.0)\n",
      "Requirement already satisfied: python-dateutil>=2.8.1 in /home/khuyen/Data-science/venv/lib/python3.8/site-packages (from great_expectations) (2.8.2)\n",
      "Requirement already satisfied: scipy>=0.19.0 in /home/khuyen/Data-science/venv/lib/python3.8/site-packages (from great_expectations) (1.7.1)\n",
      "Requirement already satisfied: pyparsing<3,>=2.4 in /home/khuyen/Data-science/venv/lib/python3.8/site-packages (from great_expectations) (2.4.7)\n",
      "Requirement already satisfied: jinja2>=2.10 in /home/khuyen/Data-science/venv/lib/python3.8/site-packages (from great_expectations) (3.0.1)\n",
      "Requirement already satisfied: ipywidgets>=7.5.1 in /home/khuyen/Data-science/venv/lib/python3.8/site-packages (from great_expectations) (7.6.5)\n",
      "Requirement already satisfied: jsonschema>=2.5.1 in /home/khuyen/Data-science/venv/lib/python3.8/site-packages (from great_expectations) (3.2.0)\n",
      "Requirement already satisfied: tzlocal>=1.2 in /home/khuyen/Data-science/venv/lib/python3.8/site-packages (from great_expectations) (3.0)\n",
      "Requirement already satisfied: toolz in /home/khuyen/Data-science/venv/lib/python3.8/site-packages (from altair<5,>=4.0.0->great_expectations) (0.11.1)\n",
      "Requirement already satisfied: entrypoints in /home/khuyen/Data-science/venv/lib/python3.8/site-packages (from altair<5,>=4.0.0->great_expectations) (0.3)\n",
      "Requirement already satisfied: zipp>=0.5 in /home/khuyen/Data-science/venv/lib/python3.8/site-packages (from importlib-metadata>=1.7.0->great_expectations) (3.5.0)\n",
      "Requirement already satisfied: widgetsnbextension~=3.5.0 in /home/khuyen/Data-science/venv/lib/python3.8/site-packages (from ipywidgets>=7.5.1->great_expectations) (3.5.1)\n",
      "Requirement already satisfied: ipykernel>=4.5.1 in /home/khuyen/Data-science/venv/lib/python3.8/site-packages (from ipywidgets>=7.5.1->great_expectations) (6.2.0)\n",
      "Requirement already satisfied: ipython>=4.0.0 in /home/khuyen/Data-science/venv/lib/python3.8/site-packages (from ipywidgets>=7.5.1->great_expectations) (7.27.0)\n",
      "Requirement already satisfied: traitlets>=4.3.1 in /home/khuyen/Data-science/venv/lib/python3.8/site-packages (from ipywidgets>=7.5.1->great_expectations) (5.1.0)\n",
      "Requirement already satisfied: nbformat>=4.2.0 in /home/khuyen/Data-science/venv/lib/python3.8/site-packages (from ipywidgets>=7.5.1->great_expectations) (5.1.3)\n",
      "Requirement already satisfied: ipython-genutils~=0.2.0 in /home/khuyen/Data-science/venv/lib/python3.8/site-packages (from ipywidgets>=7.5.1->great_expectations) (0.2.0)\n",
      "Requirement already satisfied: jupyterlab-widgets>=1.0.0 in /home/khuyen/Data-science/venv/lib/python3.8/site-packages (from ipywidgets>=7.5.1->great_expectations) (1.0.2)\n",
      "Requirement already satisfied: tornado<7.0,>=4.2 in /home/khuyen/Data-science/venv/lib/python3.8/site-packages (from ipykernel>=4.5.1->ipywidgets>=7.5.1->great_expectations) (6.1)\n",
      "Requirement already satisfied: debugpy<2.0,>=1.0.0 in /home/khuyen/Data-science/venv/lib/python3.8/site-packages (from ipykernel>=4.5.1->ipywidgets>=7.5.1->great_expectations) (1.4.1)\n",
      "Requirement already satisfied: jupyter-client<8.0 in /home/khuyen/Data-science/venv/lib/python3.8/site-packages (from ipykernel>=4.5.1->ipywidgets>=7.5.1->great_expectations) (6.1.12)\n",
      "Requirement already satisfied: matplotlib-inline<0.2.0,>=0.1.0 in /home/khuyen/Data-science/venv/lib/python3.8/site-packages (from ipykernel>=4.5.1->ipywidgets>=7.5.1->great_expectations) (0.1.3)\n",
      "Requirement already satisfied: pickleshare in /home/khuyen/Data-science/venv/lib/python3.8/site-packages (from ipython>=4.0.0->ipywidgets>=7.5.1->great_expectations) (0.7.5)\n",
      "Requirement already satisfied: setuptools>=18.5 in /home/khuyen/Data-science/venv/lib/python3.8/site-packages (from ipython>=4.0.0->ipywidgets>=7.5.1->great_expectations) (58.0.4)\n",
      "Requirement already satisfied: pexpect>4.3 in /home/khuyen/Data-science/venv/lib/python3.8/site-packages (from ipython>=4.0.0->ipywidgets>=7.5.1->great_expectations) (4.8.0)\n",
      "Requirement already satisfied: pygments in /home/khuyen/Data-science/venv/lib/python3.8/site-packages (from ipython>=4.0.0->ipywidgets>=7.5.1->great_expectations) (2.10.0)\n",
      "Requirement already satisfied: backcall in /home/khuyen/Data-science/venv/lib/python3.8/site-packages (from ipython>=4.0.0->ipywidgets>=7.5.1->great_expectations) (0.2.0)\n",
      "Requirement already satisfied: jedi>=0.16 in /home/khuyen/Data-science/venv/lib/python3.8/site-packages (from ipython>=4.0.0->ipywidgets>=7.5.1->great_expectations) (0.18.0)\n",
      "Requirement already satisfied: prompt-toolkit!=3.0.0,!=3.0.1,<3.1.0,>=2.0.0 in /home/khuyen/Data-science/venv/lib/python3.8/site-packages (from ipython>=4.0.0->ipywidgets>=7.5.1->great_expectations) (3.0.20)\n",
      "Requirement already satisfied: decorator in /home/khuyen/Data-science/venv/lib/python3.8/site-packages (from ipython>=4.0.0->ipywidgets>=7.5.1->great_expectations) (5.1.0)\n",
      "Requirement already satisfied: parso<0.9.0,>=0.8.0 in /home/khuyen/Data-science/venv/lib/python3.8/site-packages (from jedi>=0.16->ipython>=4.0.0->ipywidgets>=7.5.1->great_expectations) (0.8.2)\n",
      "Requirement already satisfied: MarkupSafe>=2.0 in /home/khuyen/Data-science/venv/lib/python3.8/site-packages (from jinja2>=2.10->great_expectations) (2.0.1)\n",
      "Requirement already satisfied: jsonpointer>=1.9 in /home/khuyen/Data-science/venv/lib/python3.8/site-packages (from jsonpatch>=1.22->great_expectations) (2.1)\n",
      "Requirement already satisfied: attrs>=17.4.0 in /home/khuyen/Data-science/venv/lib/python3.8/site-packages (from jsonschema>=2.5.1->great_expectations) (21.2.0)\n",
      "Requirement already satisfied: pyrsistent>=0.14.0 in /home/khuyen/Data-science/venv/lib/python3.8/site-packages (from jsonschema>=2.5.1->great_expectations) (0.18.0)\n",
      "Requirement already satisfied: six>=1.11.0 in /home/khuyen/Data-science/venv/lib/python3.8/site-packages (from jsonschema>=2.5.1->great_expectations) (1.16.0)\n",
      "Requirement already satisfied: pyzmq>=13 in /home/khuyen/Data-science/venv/lib/python3.8/site-packages (from jupyter-client<8.0->ipykernel>=4.5.1->ipywidgets>=7.5.1->great_expectations) (22.2.1)\n",
      "Requirement already satisfied: jupyter-core>=4.6.0 in /home/khuyen/Data-science/venv/lib/python3.8/site-packages (from jupyter-client<8.0->ipykernel>=4.5.1->ipywidgets>=7.5.1->great_expectations) (4.7.1)\n",
      "Requirement already satisfied: ptyprocess>=0.5 in /home/khuyen/Data-science/venv/lib/python3.8/site-packages (from pexpect>4.3->ipython>=4.0.0->ipywidgets>=7.5.1->great_expectations) (0.7.0)\n",
      "Requirement already satisfied: wcwidth in /home/khuyen/Data-science/venv/lib/python3.8/site-packages (from prompt-toolkit!=3.0.0,!=3.0.1,<3.1.0,>=2.0.0->ipython>=4.0.0->ipywidgets>=7.5.1->great_expectations) (0.2.5)\n",
      "Requirement already satisfied: idna<4,>=2.5 in /home/khuyen/Data-science/venv/lib/python3.8/site-packages (from requests>=2.20->great_expectations) (3.2)\n",
      "Requirement already satisfied: certifi>=2017.4.17 in /home/khuyen/Data-science/venv/lib/python3.8/site-packages (from requests>=2.20->great_expectations) (2021.5.30)\n",
      "Requirement already satisfied: urllib3<1.27,>=1.21.1 in /home/khuyen/Data-science/venv/lib/python3.8/site-packages (from requests>=2.20->great_expectations) (1.26.6)\n"
     ]
    },
    {
     "name": "stdout",
     "output_type": "stream",
     "text": [
      "Requirement already satisfied: charset-normalizer~=2.0.0 in /home/khuyen/Data-science/venv/lib/python3.8/site-packages (from requests>=2.20->great_expectations) (2.0.4)\n",
      "Requirement already satisfied: ruamel.yaml.clib>=0.1.2 in /home/khuyen/Data-science/venv/lib/python3.8/site-packages (from ruamel.yaml>=0.16->great_expectations) (0.2.6)\n",
      "Requirement already satisfied: backports.zoneinfo in /home/khuyen/Data-science/venv/lib/python3.8/site-packages (from tzlocal>=1.2->great_expectations) (0.2.1)\n",
      "Requirement already satisfied: notebook>=4.4.1 in /home/khuyen/Data-science/venv/lib/python3.8/site-packages (from widgetsnbextension~=3.5.0->ipywidgets>=7.5.1->great_expectations) (6.4.3)\n",
      "Requirement already satisfied: Send2Trash>=1.5.0 in /home/khuyen/Data-science/venv/lib/python3.8/site-packages (from notebook>=4.4.1->widgetsnbextension~=3.5.0->ipywidgets>=7.5.1->great_expectations) (1.8.0)\n",
      "Requirement already satisfied: nbconvert in /home/khuyen/Data-science/venv/lib/python3.8/site-packages (from notebook>=4.4.1->widgetsnbextension~=3.5.0->ipywidgets>=7.5.1->great_expectations) (6.1.0)\n",
      "Requirement already satisfied: argon2-cffi in /home/khuyen/Data-science/venv/lib/python3.8/site-packages (from notebook>=4.4.1->widgetsnbextension~=3.5.0->ipywidgets>=7.5.1->great_expectations) (20.1.0)\n",
      "Requirement already satisfied: terminado>=0.8.3 in /home/khuyen/Data-science/venv/lib/python3.8/site-packages (from notebook>=4.4.1->widgetsnbextension~=3.5.0->ipywidgets>=7.5.1->great_expectations) (0.11.1)\n",
      "Requirement already satisfied: prometheus-client in /home/khuyen/Data-science/venv/lib/python3.8/site-packages (from notebook>=4.4.1->widgetsnbextension~=3.5.0->ipywidgets>=7.5.1->great_expectations) (0.11.0)\n",
      "Requirement already satisfied: cffi>=1.0.0 in /home/khuyen/Data-science/venv/lib/python3.8/site-packages (from argon2-cffi->notebook>=4.4.1->widgetsnbextension~=3.5.0->ipywidgets>=7.5.1->great_expectations) (1.14.6)\n",
      "Requirement already satisfied: pycparser in /home/khuyen/Data-science/venv/lib/python3.8/site-packages (from cffi>=1.0.0->argon2-cffi->notebook>=4.4.1->widgetsnbextension~=3.5.0->ipywidgets>=7.5.1->great_expectations) (2.20)\n",
      "Requirement already satisfied: jupyterlab-pygments in /home/khuyen/Data-science/venv/lib/python3.8/site-packages (from nbconvert->notebook>=4.4.1->widgetsnbextension~=3.5.0->ipywidgets>=7.5.1->great_expectations) (0.1.2)\n",
      "Requirement already satisfied: pandocfilters>=1.4.1 in /home/khuyen/Data-science/venv/lib/python3.8/site-packages (from nbconvert->notebook>=4.4.1->widgetsnbextension~=3.5.0->ipywidgets>=7.5.1->great_expectations) (1.4.3)\n",
      "Requirement already satisfied: testpath in /home/khuyen/Data-science/venv/lib/python3.8/site-packages (from nbconvert->notebook>=4.4.1->widgetsnbextension~=3.5.0->ipywidgets>=7.5.1->great_expectations) (0.5.0)\n",
      "Requirement already satisfied: nbclient<0.6.0,>=0.5.0 in /home/khuyen/Data-science/venv/lib/python3.8/site-packages (from nbconvert->notebook>=4.4.1->widgetsnbextension~=3.5.0->ipywidgets>=7.5.1->great_expectations) (0.5.4)\n",
      "Requirement already satisfied: bleach in /home/khuyen/Data-science/venv/lib/python3.8/site-packages (from nbconvert->notebook>=4.4.1->widgetsnbextension~=3.5.0->ipywidgets>=7.5.1->great_expectations) (4.0.0)\n",
      "Requirement already satisfied: defusedxml in /home/khuyen/Data-science/venv/lib/python3.8/site-packages (from nbconvert->notebook>=4.4.1->widgetsnbextension~=3.5.0->ipywidgets>=7.5.1->great_expectations) (0.7.1)\n",
      "Requirement already satisfied: nest-asyncio in /home/khuyen/Data-science/venv/lib/python3.8/site-packages (from nbclient<0.6.0,>=0.5.0->nbconvert->notebook>=4.4.1->widgetsnbextension~=3.5.0->ipywidgets>=7.5.1->great_expectations) (1.5.1)\n",
      "Requirement already satisfied: packaging in /home/khuyen/Data-science/venv/lib/python3.8/site-packages (from bleach->nbconvert->notebook>=4.4.1->widgetsnbextension~=3.5.0->ipywidgets>=7.5.1->great_expectations) (21.0)\n",
      "Requirement already satisfied: webencodings in /home/khuyen/Data-science/venv/lib/python3.8/site-packages (from bleach->nbconvert->notebook>=4.4.1->widgetsnbextension~=3.5.0->ipywidgets>=7.5.1->great_expectations) (0.5.1)\n"
     ]
    }
   ],
   "source": [
    "!pip install great_expectations"
   ]
  },
  {
   "cell_type": "code",
   "execution_count": 2,
   "id": "8e6764d2",
   "metadata": {
    "ExecuteTime": {
     "end_time": "2021-10-07T21:01:43.445398Z",
     "start_time": "2021-10-07T21:01:42.401921Z"
    },
    "cell_id": "00001-b2fc0ec2-93ad-462d-bf0b-a50eff7f98b8",
    "deepnote_cell_type": "code",
    "deepnote_to_be_reexecuted": false,
    "execution_millis": 2681,
    "execution_start": 1633639605395,
    "source_hash": "2e564970"
   },
   "outputs": [
    {
     "name": "stdout",
     "output_type": "stream",
     "text": [
      "2021-10-07T16:01:43-0500 - INFO - Great Expectations logging enabled at 20 level by JupyterUX module.\n",
      "Loaded ExpectationSuite \"first_data.csv.warning\" containing 38 expectations.\n",
      "Columns: \"Unnamed: 0\", \"Daily Time Spent on Site\", \"Age\", \"Area Income\", \"Daily Internet Usage\", \"Ad Topic Line\", \"City\", \"Male\", \"Country\", \"Timestamp\", \"Clicked on Ad\".\n"
     ]
    },
    {
     "name": "stderr",
     "output_type": "stream",
     "text": [
      "/home/khuyen/Data-science/venv/lib/python3.8/site-packages/great_expectations/jupyter_ux/__init__.py:15: FutureWarning: Passing a negative integer is deprecated in version 1.0 and will not be supported in future version. Instead, use None to not limit the column width.\n",
      "  pd.set_option(\"display.max_colwidth\", -1)\n"
     ]
    },
    {
     "data": {
      "text/html": [
       "<div>\n",
       "<style scoped>\n",
       "    .dataframe tbody tr th:only-of-type {\n",
       "        vertical-align: middle;\n",
       "    }\n",
       "\n",
       "    .dataframe tbody tr th {\n",
       "        vertical-align: top;\n",
       "    }\n",
       "\n",
       "    .dataframe thead th {\n",
       "        text-align: right;\n",
       "    }\n",
       "</style>\n",
       "<table border=\"1\" class=\"dataframe\">\n",
       "  <thead>\n",
       "    <tr style=\"text-align: right;\">\n",
       "      <th></th>\n",
       "      <th>Unnamed: 0</th>\n",
       "      <th>Daily Time Spent on Site</th>\n",
       "      <th>Age</th>\n",
       "      <th>Area Income</th>\n",
       "      <th>Daily Internet Usage</th>\n",
       "      <th>Ad Topic Line</th>\n",
       "      <th>City</th>\n",
       "      <th>Male</th>\n",
       "      <th>Country</th>\n",
       "      <th>Timestamp</th>\n",
       "      <th>Clicked on Ad</th>\n",
       "    </tr>\n",
       "  </thead>\n",
       "  <tbody>\n",
       "    <tr>\n",
       "      <th>0</th>\n",
       "      <td>0</td>\n",
       "      <td>80.67</td>\n",
       "      <td>34</td>\n",
       "      <td>58909.36</td>\n",
       "      <td>239.76</td>\n",
       "      <td>Seamless impactful info-mediaries</td>\n",
       "      <td>Jamesville</td>\n",
       "      <td>0</td>\n",
       "      <td>Portugal</td>\n",
       "      <td>2016-01-01 02:52:10</td>\n",
       "      <td>0</td>\n",
       "    </tr>\n",
       "    <tr>\n",
       "      <th>1</th>\n",
       "      <td>1</td>\n",
       "      <td>68.01</td>\n",
       "      <td>25</td>\n",
       "      <td>68357.96</td>\n",
       "      <td>188.32</td>\n",
       "      <td>Ameliorated actuating workforce</td>\n",
       "      <td>Kaylashire</td>\n",
       "      <td>1</td>\n",
       "      <td>Afghanistan</td>\n",
       "      <td>2016-01-01 03:35:35</td>\n",
       "      <td>0</td>\n",
       "    </tr>\n",
       "    <tr>\n",
       "      <th>2</th>\n",
       "      <td>2</td>\n",
       "      <td>80.94</td>\n",
       "      <td>36</td>\n",
       "      <td>60803.00</td>\n",
       "      <td>239.94</td>\n",
       "      <td>Self-enabling local strategy</td>\n",
       "      <td>North Tiffany</td>\n",
       "      <td>0</td>\n",
       "      <td>Bermuda</td>\n",
       "      <td>2016-01-01 05:31:22</td>\n",
       "      <td>0</td>\n",
       "    </tr>\n",
       "    <tr>\n",
       "      <th>3</th>\n",
       "      <td>3</td>\n",
       "      <td>78.77</td>\n",
       "      <td>28</td>\n",
       "      <td>63497.62</td>\n",
       "      <td>211.83</td>\n",
       "      <td>Public-key intangible Graphical User Interface</td>\n",
       "      <td>Gomezport</td>\n",
       "      <td>0</td>\n",
       "      <td>Guam</td>\n",
       "      <td>2016-01-01 08:27:06</td>\n",
       "      <td>0</td>\n",
       "    </tr>\n",
       "    <tr>\n",
       "      <th>4</th>\n",
       "      <td>4</td>\n",
       "      <td>36.56</td>\n",
       "      <td>29</td>\n",
       "      <td>42838.29</td>\n",
       "      <td>195.89</td>\n",
       "      <td>Team-oriented bi-directional secured line</td>\n",
       "      <td>West Ryan</td>\n",
       "      <td>0</td>\n",
       "      <td>Uganda</td>\n",
       "      <td>2016-01-01 15:14:24</td>\n",
       "      <td>1</td>\n",
       "    </tr>\n",
       "  </tbody>\n",
       "</table>\n",
       "</div>"
      ],
      "text/plain": [
       "   Unnamed: 0  Daily Time Spent on Site  Age  Area Income  \\\n",
       "0  0           80.67                     34   58909.36      \n",
       "1  1           68.01                     25   68357.96      \n",
       "2  2           80.94                     36   60803.00      \n",
       "3  3           78.77                     28   63497.62      \n",
       "4  4           36.56                     29   42838.29      \n",
       "\n",
       "   Daily Internet Usage                                   Ad Topic Line  \\\n",
       "0  239.76                Seamless impactful info-mediaries                \n",
       "1  188.32                Ameliorated actuating workforce                  \n",
       "2  239.94                Self-enabling local strategy                     \n",
       "3  211.83                Public-key intangible Graphical User Interface   \n",
       "4  195.89                Team-oriented bi-directional secured line        \n",
       "\n",
       "            City  Male      Country            Timestamp  Clicked on Ad  \n",
       "0  Jamesville     0     Portugal     2016-01-01 02:52:10  0              \n",
       "1  Kaylashire     1     Afghanistan  2016-01-01 03:35:35  0              \n",
       "2  North Tiffany  0     Bermuda      2016-01-01 05:31:22  0              \n",
       "3  Gomezport      0     Guam         2016-01-01 08:27:06  0              \n",
       "4  West Ryan      0     Uganda       2016-01-01 15:14:24  1              "
      ]
     },
     "execution_count": 2,
     "metadata": {},
     "output_type": "execute_result"
    }
   ],
   "source": [
    "import datetime\n",
    "\n",
    "import pandas as pd\n",
    "\n",
    "import great_expectations as ge\n",
    "import great_expectations.jupyter_ux\n",
    "from great_expectations.core.batch import BatchRequest\n",
    "from great_expectations.checkpoint import SimpleCheckpoint\n",
    "from great_expectations.exceptions import DataContextError\n",
    "\n",
    "context = ge.data_context.DataContext()\n",
    "\n",
    "# Note that if you modify this batch request, you may save the new version as a .json file\n",
    "#  to pass in later via the --batch-request option\n",
    "batch_request = {'datasource_name': 'first_data', 'data_connector_name': 'default_inferred_data_connector_name', 'data_asset_name': 'first_data.csv', 'limit': 1000}\n",
    "\n",
    "\n",
    "# Feel free to change the name of your suite here. Renaming this will not remove the other one.\n",
    "expectation_suite_name = \"first_data.csv.warning\"\n",
    "try:\n",
    "    suite = context.get_expectation_suite(expectation_suite_name=expectation_suite_name)\n",
    "    print(f'Loaded ExpectationSuite \"{suite.expectation_suite_name}\" containing {len(suite.expectations)} expectations.')\n",
    "except DataContextError:\n",
    "    suite = context.create_expectation_suite(expectation_suite_name=expectation_suite_name)\n",
    "    print(f'Created ExpectationSuite \"{suite.expectation_suite_name}\".')\n",
    "\n",
    "\n",
    "validator = context.get_validator(\n",
    "    batch_request=BatchRequest(**batch_request),\n",
    "    expectation_suite_name=expectation_suite_name\n",
    ")\n",
    "column_names = [f'\"{column_name}\"' for column_name in validator.columns()]\n",
    "print(f\"Columns: {', '.join(column_names)}.\")\n",
    "validator.head(n_rows=5, fetch_all=False)"
   ]
  },
  {
   "cell_type": "markdown",
   "id": "c4cbed67",
   "metadata": {
    "cell_id": "00002-42d6b63c-af89-4625-a3c4-e9c72a845c8a",
    "deepnote_cell_type": "markdown"
   },
   "source": [
    "## Create & Edit Expectations\n",
    "\n",
    "\n",
    "Add expectations by calling specific expectation methods on the `validator` object. They all begin with `.expect_` which makes autocompleting easy using tab.\n",
    "\n",
    "Because you selected interactive mode, you are now creating or editing an Expectation Suite with validator feedback from the sample batch of data that you specified (see `batch_request`).\n",
    "\n",
    "Note that if you select manual mode you may still create or edit an Expectation Suite directly, without feedback from the `validator`. See our documentation for more info and examples: [How to create a new Expectation Suite without a sample batch](https://docs.greatexpectations.io/en/latest/guides/how_to_guides/creating_and_editing_expectations/how_to_create_a_new_expectation_suite_without_a_sample_batch.html).\n",
    "\n",
    "\n",
    "\n",
    "You can see all the available expectations in the **[expectation glossary](https://docs.greatexpectations.io/en/latest/reference/glossary_of_expectations.html?utm_source=notebook&utm_medium=create_expectations)**."
   ]
  },
  {
   "cell_type": "markdown",
   "id": "de29ca11",
   "metadata": {
    "cell_id": "00003-21c6181f-e931-4d38-bba7-f96a8e0708c4",
    "deepnote_cell_type": "markdown"
   },
   "source": [
    "### Table Expectation(s)"
   ]
  },
  {
   "cell_type": "code",
   "execution_count": 3,
   "id": "0646b8f0",
   "metadata": {
    "ExecuteTime": {
     "end_time": "2021-10-07T21:01:43.451642Z",
     "start_time": "2021-10-07T21:01:43.446373Z"
    },
    "allow_embed": "code_output",
    "cell_id": "00004-c52e00b0-7305-4040-91bf-162db1be695b",
    "deepnote_cell_type": "code",
    "deepnote_to_be_reexecuted": false,
    "execution_millis": 17,
    "execution_start": 1633637793176,
    "source_hash": "75df2c55"
   },
   "outputs": [
    {
     "data": {
      "text/plain": [
       "{\n",
       "  \"result\": {\n",
       "    \"observed_value\": [\n",
       "      \"Unnamed: 0\",\n",
       "      \"Daily Time Spent on Site\",\n",
       "      \"Age\",\n",
       "      \"Area Income\",\n",
       "      \"Daily Internet Usage\",\n",
       "      \"Ad Topic Line\",\n",
       "      \"City\",\n",
       "      \"Male\",\n",
       "      \"Country\",\n",
       "      \"Timestamp\",\n",
       "      \"Clicked on Ad\"\n",
       "    ]\n",
       "  },\n",
       "  \"meta\": {},\n",
       "  \"success\": true,\n",
       "  \"exception_info\": {\n",
       "    \"raised_exception\": false,\n",
       "    \"exception_traceback\": null,\n",
       "    \"exception_message\": null\n",
       "  }\n",
       "}"
      ]
     },
     "execution_count": 3,
     "metadata": {},
     "output_type": "execute_result"
    }
   ],
   "source": [
    "validator.expect_table_columns_to_match_ordered_list(column_list=['Unnamed: 0', 'Daily Time Spent on Site', 'Age', 'Area Income', 'Daily Internet Usage', 'Ad Topic Line', 'City', 'Male', 'Country', 'Timestamp', 'Clicked on Ad'])"
   ]
  },
  {
   "cell_type": "markdown",
   "id": "1a4bb8fc",
   "metadata": {
    "cell_id": "00006-ce261b34-5f27-4a51-8d67-96220d8e073d",
    "deepnote_cell_type": "markdown"
   },
   "source": [
    "### Column Expectation(s)"
   ]
  },
  {
   "cell_type": "markdown",
   "id": "aed46e2f",
   "metadata": {
    "cell_id": "00007-e33ee7e3-3fea-4b39-9d8e-fd9a8433fcb6",
    "deepnote_cell_type": "markdown"
   },
   "source": [
    "#### `Daily Time Spent on Site`"
   ]
  },
  {
   "cell_type": "code",
   "execution_count": 4,
   "id": "b247ab61",
   "metadata": {
    "ExecuteTime": {
     "end_time": "2021-10-07T21:01:43.458916Z",
     "start_time": "2021-10-07T21:01:43.453288Z"
    },
    "cell_id": "00008-9c585708-fdc1-4b7a-a5d6-1ab7ea9ec2f0",
    "deepnote_cell_type": "code",
    "deepnote_to_be_reexecuted": false,
    "execution_millis": 205,
    "execution_start": 1633637797067,
    "source_hash": "1c8e8add",
    "tags": []
   },
   "outputs": [
    {
     "data": {
      "text/plain": [
       "count    610.000000\n",
       "mean     65.267049 \n",
       "std      15.852992 \n",
       "min      32.600000 \n",
       "25%      51.515000 \n",
       "50%      68.330000 \n",
       "75%      78.525000 \n",
       "max      91.370000 \n",
       "Name: Daily Time Spent on Site, dtype: float64"
      ]
     },
     "execution_count": 4,
     "metadata": {},
     "output_type": "execute_result"
    }
   ],
   "source": [
    "validator.active_batch.data.dataframe['Daily Time Spent on Site'].describe()"
   ]
  },
  {
   "cell_type": "code",
   "execution_count": 5,
   "id": "50adeadd",
   "metadata": {
    "ExecuteTime": {
     "end_time": "2021-10-07T21:01:43.700520Z",
     "start_time": "2021-10-07T21:01:43.459809Z"
    },
    "cell_id": "00009-978f12b1-c36b-45e3-bd14-dee2b0f5b187",
    "deepnote_cell_type": "code",
    "deepnote_to_be_reexecuted": false,
    "execution_millis": 1916,
    "execution_start": 1633637798644,
    "source_hash": "9faa1a0",
    "tags": []
   },
   "outputs": [
    {
     "data": {
      "text/plain": [
       "<AxesSubplot:ylabel='Frequency'>"
      ]
     },
     "execution_count": 5,
     "metadata": {},
     "output_type": "execute_result"
    },
    {
     "data": {
      "image/png": "[encoded data removed]",
      "text/plain": [
       "<Figure size 432x288 with 1 Axes>"
      ]
     },
     "metadata": {
      "needs_background": "light"
     },
     "output_type": "display_data"
    }
   ],
   "source": [
    "validator.active_batch.data.dataframe['Daily Time Spent on Site'].plot.hist()"
   ]
  },
  {
   "cell_type": "code",
   "execution_count": 6,
   "id": "ff6a7eb6",
   "metadata": {
    "ExecuteTime": {
     "end_time": "2021-10-07T21:01:43.721516Z",
     "start_time": "2021-10-07T21:01:43.701370Z"
    },
    "cell_id": "00008-2562a60f-4cc8-46b8-8a2c-614346e49ee3",
    "deepnote_cell_type": "code",
    "deepnote_to_be_reexecuted": false,
    "execution_millis": 51,
    "execution_start": 1633637800997,
    "source_hash": "5bc4d2f7"
   },
   "outputs": [
    {
     "data": {
      "application/vnd.jupyter.widget-view+json": {
       "model_id": "1926a0cb62a04ef681adf5badcd087f6",
       "version_major": 2,
       "version_minor": 0
      },
      "text/plain": [
       "Calculating Metrics:   0%|          | 0/3 [00:00<?, ?it/s]"
      ]
     },
     "metadata": {},
     "output_type": "display_data"
    },
    {
     "data": {
      "text/plain": [
       "{\n",
       "  \"result\": {\n",
       "    \"observed_value\": 32.6\n",
       "  },\n",
       "  \"meta\": {},\n",
       "  \"success\": true,\n",
       "  \"exception_info\": {\n",
       "    \"raised_exception\": false,\n",
       "    \"exception_traceback\": null,\n",
       "    \"exception_message\": null\n",
       "  }\n",
       "}"
      ]
     },
     "execution_count": 6,
     "metadata": {},
     "output_type": "execute_result"
    }
   ],
   "source": [
    "\n",
    "validator.expect_column_min_to_be_between(column='Daily Time Spent on Site', max_value=40, min_value=30)"
   ]
  },
  {
   "cell_type": "code",
   "execution_count": 7,
   "id": "71973310",
   "metadata": {
    "ExecuteTime": {
     "end_time": "2021-10-07T21:01:43.742619Z",
     "start_time": "2021-10-07T21:01:43.722242Z"
    },
    "cell_id": "00009-9def640d-b7e9-46fe-8073-190e5d662881",
    "deepnote_cell_type": "code",
    "deepnote_to_be_reexecuted": false,
    "execution_millis": 62,
    "execution_start": 1633637805472,
    "source_hash": "e02158fb"
   },
   "outputs": [
    {
     "data": {
      "application/vnd.jupyter.widget-view+json": {
       "model_id": "6c283932611646598c89d7d1a39acfdb",
       "version_major": 2,
       "version_minor": 0
      },
      "text/plain": [
       "Calculating Metrics:   0%|          | 0/3 [00:00<?, ?it/s]"
      ]
     },
     "metadata": {},
     "output_type": "display_data"
    },
    {
     "data": {
      "text/plain": [
       "{\n",
       "  \"result\": {\n",
       "    \"observed_value\": 91.37\n",
       "  },\n",
       "  \"meta\": {},\n",
       "  \"success\": true,\n",
       "  \"exception_info\": {\n",
       "    \"raised_exception\": false,\n",
       "    \"exception_traceback\": null,\n",
       "    \"exception_message\": null\n",
       "  }\n",
       "}"
      ]
     },
     "execution_count": 7,
     "metadata": {},
     "output_type": "execute_result"
    }
   ],
   "source": [
    "\n",
    "validator.expect_column_max_to_be_between(column='Daily Time Spent on Site', max_value=100, min_value=85)"
   ]
  },
  {
   "cell_type": "code",
   "execution_count": 8,
   "id": "bf2a10fb",
   "metadata": {
    "ExecuteTime": {
     "end_time": "2021-10-07T21:01:43.763185Z",
     "start_time": "2021-10-07T21:01:43.743357Z"
    },
    "cell_id": "00010-245697e5-e54f-42af-9935-34753301cdc9",
    "deepnote_cell_type": "code",
    "deepnote_to_be_reexecuted": false,
    "execution_millis": 66,
    "execution_start": 1633637809172,
    "source_hash": "6de11e6d"
   },
   "outputs": [
    {
     "data": {
      "application/vnd.jupyter.widget-view+json": {
       "model_id": "3b3a742d55314daba741f3db765097b7",
       "version_major": 2,
       "version_minor": 0
      },
      "text/plain": [
       "Calculating Metrics:   0%|          | 0/3 [00:00<?, ?it/s]"
      ]
     },
     "metadata": {},
     "output_type": "display_data"
    },
    {
     "data": {
      "text/plain": [
       "{\n",
       "  \"result\": {\n",
       "    \"observed_value\": 65.26704918032787\n",
       "  },\n",
       "  \"meta\": {},\n",
       "  \"success\": true,\n",
       "  \"exception_info\": {\n",
       "    \"raised_exception\": false,\n",
       "    \"exception_traceback\": null,\n",
       "    \"exception_message\": null\n",
       "  }\n",
       "}"
      ]
     },
     "execution_count": 8,
     "metadata": {},
     "output_type": "execute_result"
    }
   ],
   "source": [
    "\n",
    "validator.expect_column_mean_to_be_between(column='Daily Time Spent on Site', max_value=70, min_value=55)"
   ]
  },
  {
   "cell_type": "code",
   "execution_count": 9,
   "id": "794e35d7",
   "metadata": {
    "ExecuteTime": {
     "end_time": "2021-10-07T21:01:43.793655Z",
     "start_time": "2021-10-07T21:01:43.764057Z"
    },
    "cell_id": "00013-58b209f3-f5ec-4883-b410-113afefac338",
    "deepnote_cell_type": "code",
    "deepnote_to_be_reexecuted": false,
    "execution_millis": 93,
    "execution_start": 1633637811317,
    "source_hash": "fb571e28"
   },
   "outputs": [
    {
     "data": {
      "application/vnd.jupyter.widget-view+json": {
       "model_id": "446a0b29ce944b73b78b458420e9978b",
       "version_major": 2,
       "version_minor": 0
      },
      "text/plain": [
       "Calculating Metrics:   0%|          | 0/6 [00:00<?, ?it/s]"
      ]
     },
     "metadata": {},
     "output_type": "display_data"
    },
    {
     "data": {
      "text/plain": [
       "{\n",
       "  \"result\": {\n",
       "    \"element_count\": 610,\n",
       "    \"unexpected_count\": 0,\n",
       "    \"unexpected_percent\": 0.0,\n",
       "    \"partial_unexpected_list\": []\n",
       "  },\n",
       "  \"meta\": {},\n",
       "  \"success\": true,\n",
       "  \"exception_info\": {\n",
       "    \"raised_exception\": false,\n",
       "    \"exception_traceback\": null,\n",
       "    \"exception_message\": null\n",
       "  }\n",
       "}"
      ]
     },
     "execution_count": 9,
     "metadata": {},
     "output_type": "execute_result"
    }
   ],
   "source": [
    "\n",
    "validator.expect_column_values_to_not_be_null(column='Daily Time Spent on Site')"
   ]
  },
  {
   "cell_type": "code",
   "execution_count": 10,
   "id": "c6d1eab9",
   "metadata": {
    "ExecuteTime": {
     "end_time": "2021-10-07T21:01:43.803485Z",
     "start_time": "2021-10-07T21:01:43.796459Z"
    },
    "cell_id": "00015-d8654f56-4f52-4ff0-8c55-754f7c913093",
    "deepnote_cell_type": "code",
    "deepnote_to_be_reexecuted": false,
    "execution_millis": 25,
    "execution_start": 1633637813538,
    "source_hash": "d5286636"
   },
   "outputs": [
    {
     "data": {
      "text/plain": [
       "{\n",
       "  \"result\": {\n",
       "    \"observed_value\": \"float64\"\n",
       "  },\n",
       "  \"meta\": {},\n",
       "  \"success\": true,\n",
       "  \"exception_info\": {\n",
       "    \"raised_exception\": false,\n",
       "    \"exception_traceback\": null,\n",
       "    \"exception_message\": null\n",
       "  }\n",
       "}"
      ]
     },
     "execution_count": 10,
     "metadata": {},
     "output_type": "execute_result"
    }
   ],
   "source": [
    "\n",
    "validator.expect_column_values_to_be_in_type_list(column='Daily Time Spent on Site', type_list=['FLOAT', 'FLOAT4', 'FLOAT8', 'FLOAT64', 'DOUBLE', 'DOUBLE_PRECISION', 'NUMERIC', 'FloatType', 'DoubleType', 'float_', 'float16', 'float32', 'float64', 'number', 'DECIMAL', 'REAL'])"
   ]
  },
  {
   "cell_type": "markdown",
   "id": "2096a161",
   "metadata": {
    "cell_id": "00016-56c7a22d-4b91-4c35-be63-6d79d4096f20",
    "deepnote_cell_type": "markdown"
   },
   "source": [
    "#### `Age`"
   ]
  },
  {
   "cell_type": "code",
   "execution_count": 11,
   "id": "fb1b4ffd",
   "metadata": {
    "ExecuteTime": {
     "end_time": "2021-10-07T21:01:43.809014Z",
     "start_time": "2021-10-07T21:01:43.804275Z"
    },
    "cell_id": "00016-b6e4abd4-fc4d-42da-89a3-e79bdd67f639",
    "deepnote_cell_type": "code",
    "deepnote_to_be_reexecuted": false,
    "execution_millis": 11,
    "execution_start": 1633637815549,
    "source_hash": "f8b3e26",
    "tags": []
   },
   "outputs": [
    {
     "data": {
      "text/plain": [
       "count    610.000000\n",
       "mean     36.050820 \n",
       "std      8.918296  \n",
       "min      19.000000 \n",
       "25%      29.000000 \n",
       "50%      35.000000 \n",
       "75%      42.000000 \n",
       "max      61.000000 \n",
       "Name: Age, dtype: float64"
      ]
     },
     "execution_count": 11,
     "metadata": {},
     "output_type": "execute_result"
    }
   ],
   "source": [
    "validator.active_batch.data.dataframe['Age'].describe()"
   ]
  },
  {
   "cell_type": "code",
   "execution_count": 12,
   "id": "be607268",
   "metadata": {
    "ExecuteTime": {
     "end_time": "2021-10-07T21:01:43.829337Z",
     "start_time": "2021-10-07T21:01:43.809855Z"
    },
    "cell_id": "00017-d5ede672-8c11-4446-b753-e2c178d745f1",
    "deepnote_cell_type": "code",
    "deepnote_to_be_reexecuted": false,
    "execution_millis": 90,
    "execution_start": 1633637816139,
    "source_hash": "6bc7bee3"
   },
   "outputs": [
    {
     "data": {
      "application/vnd.jupyter.widget-view+json": {
       "model_id": "b39e6b5b4be94cf6978c89fe194fcfa5",
       "version_major": 2,
       "version_minor": 0
      },
      "text/plain": [
       "Calculating Metrics:   0%|          | 0/3 [00:00<?, ?it/s]"
      ]
     },
     "metadata": {},
     "output_type": "display_data"
    },
    {
     "data": {
      "text/plain": [
       "{\n",
       "  \"result\": {\n",
       "    \"observed_value\": 19\n",
       "  },\n",
       "  \"meta\": {},\n",
       "  \"success\": true,\n",
       "  \"exception_info\": {\n",
       "    \"raised_exception\": false,\n",
       "    \"exception_traceback\": null,\n",
       "    \"exception_message\": null\n",
       "  }\n",
       "}"
      ]
     },
     "execution_count": 12,
     "metadata": {},
     "output_type": "execute_result"
    }
   ],
   "source": [
    "\n",
    "validator.expect_column_min_to_be_between(column='Age', max_value=23, min_value=15)"
   ]
  },
  {
   "cell_type": "code",
   "execution_count": 13,
   "id": "3ed9862d",
   "metadata": {
    "ExecuteTime": {
     "end_time": "2021-10-07T21:01:43.849361Z",
     "start_time": "2021-10-07T21:01:43.830195Z"
    },
    "cell_id": "00018-53d40c68-2a71-4834-9fa5-6651ee74a390",
    "deepnote_cell_type": "code",
    "deepnote_to_be_reexecuted": false,
    "execution_millis": 93,
    "execution_start": 1633637816701,
    "source_hash": "30577458"
   },
   "outputs": [
    {
     "data": {
      "application/vnd.jupyter.widget-view+json": {
       "model_id": "f1f44d6c07af414982e2f40276f4828c",
       "version_major": 2,
       "version_minor": 0
      },
      "text/plain": [
       "Calculating Metrics:   0%|          | 0/3 [00:00<?, ?it/s]"
      ]
     },
     "metadata": {},
     "output_type": "display_data"
    },
    {
     "data": {
      "text/plain": [
       "{\n",
       "  \"result\": {\n",
       "    \"observed_value\": 61\n",
       "  },\n",
       "  \"meta\": {},\n",
       "  \"success\": true,\n",
       "  \"exception_info\": {\n",
       "    \"raised_exception\": false,\n",
       "    \"exception_traceback\": null,\n",
       "    \"exception_message\": null\n",
       "  }\n",
       "}"
      ]
     },
     "execution_count": 13,
     "metadata": {},
     "output_type": "execute_result"
    }
   ],
   "source": [
    "\n",
    "validator.expect_column_max_to_be_between(column='Age', max_value=70, min_value=57)"
   ]
  },
  {
   "cell_type": "code",
   "execution_count": 14,
   "id": "ca57778e",
   "metadata": {
    "ExecuteTime": {
     "end_time": "2021-10-07T21:01:43.870046Z",
     "start_time": "2021-10-07T21:01:43.850362Z"
    },
    "cell_id": "00019-385c5fd5-f0ed-4b89-a412-d4aa3c0ee496",
    "deepnote_cell_type": "code",
    "deepnote_to_be_reexecuted": false,
    "execution_millis": 110,
    "execution_start": 1633637818438,
    "source_hash": "534d2ffe"
   },
   "outputs": [
    {
     "data": {
      "application/vnd.jupyter.widget-view+json": {
       "model_id": "e807cd3381364268ae88f6b1d63725b0",
       "version_major": 2,
       "version_minor": 0
      },
      "text/plain": [
       "Calculating Metrics:   0%|          | 0/3 [00:00<?, ?it/s]"
      ]
     },
     "metadata": {},
     "output_type": "display_data"
    },
    {
     "data": {
      "text/plain": [
       "{\n",
       "  \"result\": {\n",
       "    \"observed_value\": 36.05081967213115\n",
       "  },\n",
       "  \"meta\": {},\n",
       "  \"success\": true,\n",
       "  \"exception_info\": {\n",
       "    \"raised_exception\": false,\n",
       "    \"exception_traceback\": null,\n",
       "    \"exception_message\": null\n",
       "  }\n",
       "}"
      ]
     },
     "execution_count": 14,
     "metadata": {},
     "output_type": "execute_result"
    }
   ],
   "source": [
    "\n",
    "validator.expect_column_mean_to_be_between(column='Age', max_value=40, min_value=30)"
   ]
  },
  {
   "cell_type": "code",
   "execution_count": 15,
   "id": "48c1df47",
   "metadata": {
    "ExecuteTime": {
     "end_time": "2021-10-07T21:01:43.895213Z",
     "start_time": "2021-10-07T21:01:43.870839Z"
    },
    "cell_id": "00023-e6668ec5-815b-44b6-8f0b-a3351cd945bc",
    "deepnote_cell_type": "code",
    "deepnote_to_be_reexecuted": false,
    "execution_millis": 38,
    "execution_start": 1633637819080,
    "source_hash": "f415c27d"
   },
   "outputs": [
    {
     "data": {
      "application/vnd.jupyter.widget-view+json": {
       "model_id": "ded38be5d9b64df58e7e7cce285d1849",
       "version_major": 2,
       "version_minor": 0
      },
      "text/plain": [
       "Calculating Metrics:   0%|          | 0/6 [00:00<?, ?it/s]"
      ]
     },
     "metadata": {},
     "output_type": "display_data"
    },
    {
     "data": {
      "text/plain": [
       "{\n",
       "  \"result\": {\n",
       "    \"element_count\": 610,\n",
       "    \"unexpected_count\": 0,\n",
       "    \"unexpected_percent\": 0.0,\n",
       "    \"partial_unexpected_list\": []\n",
       "  },\n",
       "  \"meta\": {},\n",
       "  \"success\": true,\n",
       "  \"exception_info\": {\n",
       "    \"raised_exception\": false,\n",
       "    \"exception_traceback\": null,\n",
       "    \"exception_message\": null\n",
       "  }\n",
       "}"
      ]
     },
     "execution_count": 15,
     "metadata": {},
     "output_type": "execute_result"
    }
   ],
   "source": [
    "\n",
    "validator.expect_column_values_to_not_be_null(column='Age')"
   ]
  },
  {
   "cell_type": "code",
   "execution_count": 16,
   "id": "79c97de0",
   "metadata": {
    "ExecuteTime": {
     "end_time": "2021-10-07T21:01:43.901410Z",
     "start_time": "2021-10-07T21:01:43.895967Z"
    },
    "cell_id": "00025-3b572ced-67bd-4bb9-bf59-3a24a5a66b86",
    "deepnote_cell_type": "code",
    "deepnote_to_be_reexecuted": false,
    "execution_millis": 25,
    "execution_start": 1633637820576,
    "source_hash": "d7aa5f2d"
   },
   "outputs": [
    {
     "data": {
      "text/plain": [
       "{\n",
       "  \"result\": {\n",
       "    \"observed_value\": \"int64\"\n",
       "  },\n",
       "  \"meta\": {},\n",
       "  \"success\": true,\n",
       "  \"exception_info\": {\n",
       "    \"raised_exception\": false,\n",
       "    \"exception_traceback\": null,\n",
       "    \"exception_message\": null\n",
       "  }\n",
       "}"
      ]
     },
     "execution_count": 16,
     "metadata": {},
     "output_type": "execute_result"
    }
   ],
   "source": [
    "\n",
    "validator.expect_column_values_to_be_in_type_list(column='Age', type_list=['INTEGER', 'integer', 'int', 'int_', 'int8', 'int16', 'int32', 'int64', 'uint8', 'uint16', 'uint32', 'uint64', 'INT', 'INTEGER', 'INT64', 'TINYINT', 'BYTEINT', 'SMALLINT', 'BIGINT', 'IntegerType', 'LongType'])"
   ]
  },
  {
   "cell_type": "markdown",
   "id": "a9f94bc4",
   "metadata": {
    "cell_id": "00026-5184d599-e2f9-454e-a9f6-9f98e0ac43ee",
    "deepnote_cell_type": "markdown"
   },
   "source": [
    "#### `Area Income`"
   ]
  },
  {
   "cell_type": "code",
   "execution_count": 17,
   "id": "6ee5dd1c",
   "metadata": {
    "ExecuteTime": {
     "end_time": "2021-10-07T21:01:43.907152Z",
     "start_time": "2021-10-07T21:01:43.902356Z"
    },
    "cell_id": "00024-0eabd10e-2b13-4d21-b7f9-cfd9259672ba",
    "deepnote_cell_type": "code",
    "deepnote_to_be_reexecuted": false,
    "execution_millis": 26,
    "execution_start": 1633637823372,
    "source_hash": "1917a650",
    "tags": []
   },
   "outputs": [
    {
     "data": {
      "text/plain": [
       "count    610.000000  \n",
       "mean     55365.620951\n",
       "std      12992.334779\n",
       "min      14548.060000\n",
       "25%      47688.815000\n",
       "50%      57532.600000\n",
       "75%      65101.792500\n",
       "max      79484.800000\n",
       "Name: Area Income, dtype: float64"
      ]
     },
     "execution_count": 17,
     "metadata": {},
     "output_type": "execute_result"
    }
   ],
   "source": [
    "validator.active_batch.data.dataframe['Area Income'].describe()"
   ]
  },
  {
   "cell_type": "code",
   "execution_count": 18,
   "id": "2219fa68",
   "metadata": {
    "ExecuteTime": {
     "end_time": "2021-10-07T21:01:43.928129Z",
     "start_time": "2021-10-07T21:01:43.908003Z"
    },
    "cell_id": "00027-5463e33f-b852-4d1e-bc44-a53e2b6eb9aa",
    "deepnote_cell_type": "code",
    "deepnote_to_be_reexecuted": false,
    "execution_millis": 85,
    "execution_start": 1633637824208,
    "source_hash": "6a9ca75b"
   },
   "outputs": [
    {
     "data": {
      "application/vnd.jupyter.widget-view+json": {
       "model_id": "1aaaa548278340e996071f9991b48af0",
       "version_major": 2,
       "version_minor": 0
      },
      "text/plain": [
       "Calculating Metrics:   0%|          | 0/3 [00:00<?, ?it/s]"
      ]
     },
     "metadata": {},
     "output_type": "display_data"
    },
    {
     "data": {
      "text/plain": [
       "{\n",
       "  \"result\": {\n",
       "    \"observed_value\": 14548.06\n",
       "  },\n",
       "  \"meta\": {},\n",
       "  \"success\": true,\n",
       "  \"exception_info\": {\n",
       "    \"raised_exception\": false,\n",
       "    \"exception_traceback\": null,\n",
       "    \"exception_message\": null\n",
       "  }\n",
       "}"
      ]
     },
     "execution_count": 18,
     "metadata": {},
     "output_type": "execute_result"
    }
   ],
   "source": [
    "\n",
    "validator.expect_column_min_to_be_between(column='Area Income', max_value=15000, min_value=12000)"
   ]
  },
  {
   "cell_type": "code",
   "execution_count": 19,
   "id": "2de6b3a0",
   "metadata": {
    "ExecuteTime": {
     "end_time": "2021-10-07T21:01:43.948529Z",
     "start_time": "2021-10-07T21:01:43.929006Z"
    },
    "cell_id": "00028-30dd8eee-7a3d-4025-8771-5ae16ec1b921",
    "deepnote_cell_type": "code",
    "deepnote_to_be_reexecuted": false,
    "execution_millis": 78,
    "execution_start": 1633637824918,
    "source_hash": "936b2911"
   },
   "outputs": [
    {
     "data": {
      "application/vnd.jupyter.widget-view+json": {
       "model_id": "79b001468ee64a5698031e062e4dd8ca",
       "version_major": 2,
       "version_minor": 0
      },
      "text/plain": [
       "Calculating Metrics:   0%|          | 0/3 [00:00<?, ?it/s]"
      ]
     },
     "metadata": {},
     "output_type": "display_data"
    },
    {
     "data": {
      "text/plain": [
       "{\n",
       "  \"result\": {\n",
       "    \"observed_value\": 79484.8\n",
       "  },\n",
       "  \"meta\": {},\n",
       "  \"success\": true,\n",
       "  \"exception_info\": {\n",
       "    \"raised_exception\": false,\n",
       "    \"exception_traceback\": null,\n",
       "    \"exception_message\": null\n",
       "  }\n",
       "}"
      ]
     },
     "execution_count": 19,
     "metadata": {},
     "output_type": "execute_result"
    }
   ],
   "source": [
    "\n",
    "validator.expect_column_max_to_be_between(column='Area Income', max_value=80000, min_value=70000)"
   ]
  },
  {
   "cell_type": "code",
   "execution_count": 20,
   "id": "f1228f12",
   "metadata": {
    "ExecuteTime": {
     "end_time": "2021-10-07T21:01:43.969822Z",
     "start_time": "2021-10-07T21:01:43.949363Z"
    },
    "cell_id": "00029-a373c1c3-10c5-4be2-b084-6f5ecb2a75bc",
    "deepnote_cell_type": "code",
    "deepnote_to_be_reexecuted": false,
    "execution_millis": 95,
    "execution_start": 1633637825322,
    "source_hash": "e357bd22"
   },
   "outputs": [
    {
     "data": {
      "application/vnd.jupyter.widget-view+json": {
       "model_id": "ba31c3982d144532bf2a646d73c651f3",
       "version_major": 2,
       "version_minor": 0
      },
      "text/plain": [
       "Calculating Metrics:   0%|          | 0/3 [00:00<?, ?it/s]"
      ]
     },
     "metadata": {},
     "output_type": "display_data"
    },
    {
     "data": {
      "text/plain": [
       "{\n",
       "  \"result\": {\n",
       "    \"observed_value\": 55365.62095081966\n",
       "  },\n",
       "  \"meta\": {},\n",
       "  \"success\": true,\n",
       "  \"exception_info\": {\n",
       "    \"raised_exception\": false,\n",
       "    \"exception_traceback\": null,\n",
       "    \"exception_message\": null\n",
       "  }\n",
       "}"
      ]
     },
     "execution_count": 20,
     "metadata": {},
     "output_type": "execute_result"
    }
   ],
   "source": [
    "\n",
    "validator.expect_column_mean_to_be_between(column='Area Income', max_value=65000, min_value=54000)"
   ]
  },
  {
   "cell_type": "code",
   "execution_count": 21,
   "id": "ec18be96",
   "metadata": {
    "ExecuteTime": {
     "end_time": "2021-10-07T21:01:43.994167Z",
     "start_time": "2021-10-07T21:01:43.970702Z"
    },
    "cell_id": "00032-4a9c7b47-c19b-4dcf-a765-6f9025f9326b",
    "deepnote_cell_type": "code",
    "deepnote_to_be_reexecuted": false,
    "execution_millis": 83,
    "execution_start": 1633637825855,
    "source_hash": "2e6b9aec"
   },
   "outputs": [
    {
     "data": {
      "application/vnd.jupyter.widget-view+json": {
       "model_id": "6023d6a93cf4453baabe83afc009b3f2",
       "version_major": 2,
       "version_minor": 0
      },
      "text/plain": [
       "Calculating Metrics:   0%|          | 0/6 [00:00<?, ?it/s]"
      ]
     },
     "metadata": {},
     "output_type": "display_data"
    },
    {
     "data": {
      "text/plain": [
       "{\n",
       "  \"result\": {\n",
       "    \"element_count\": 610,\n",
       "    \"unexpected_count\": 0,\n",
       "    \"unexpected_percent\": 0.0,\n",
       "    \"partial_unexpected_list\": []\n",
       "  },\n",
       "  \"meta\": {},\n",
       "  \"success\": true,\n",
       "  \"exception_info\": {\n",
       "    \"raised_exception\": false,\n",
       "    \"exception_traceback\": null,\n",
       "    \"exception_message\": null\n",
       "  }\n",
       "}"
      ]
     },
     "execution_count": 21,
     "metadata": {},
     "output_type": "execute_result"
    }
   ],
   "source": [
    "\n",
    "validator.expect_column_values_to_not_be_null(column='Area Income')"
   ]
  },
  {
   "cell_type": "code",
   "execution_count": 22,
   "id": "9d6fd391",
   "metadata": {
    "ExecuteTime": {
     "end_time": "2021-10-07T21:01:43.999466Z",
     "start_time": "2021-10-07T21:01:43.994972Z"
    },
    "cell_id": "00034-a25d60c7-ffc7-451f-b991-aa762c1dcf65",
    "deepnote_cell_type": "code",
    "deepnote_to_be_reexecuted": false,
    "execution_millis": 5,
    "execution_start": 1633637826198,
    "source_hash": "4a4b791b"
   },
   "outputs": [
    {
     "data": {
      "text/plain": [
       "{\n",
       "  \"result\": {\n",
       "    \"observed_value\": \"float64\"\n",
       "  },\n",
       "  \"meta\": {},\n",
       "  \"success\": true,\n",
       "  \"exception_info\": {\n",
       "    \"raised_exception\": false,\n",
       "    \"exception_traceback\": null,\n",
       "    \"exception_message\": null\n",
       "  }\n",
       "}"
      ]
     },
     "execution_count": 22,
     "metadata": {},
     "output_type": "execute_result"
    }
   ],
   "source": [
    "\n",
    "validator.expect_column_values_to_be_in_type_list(column='Area Income', type_list=['FLOAT', 'FLOAT4', 'FLOAT8', 'FLOAT64', 'DOUBLE', 'DOUBLE_PRECISION', 'NUMERIC', 'FloatType', 'DoubleType', 'float_', 'float16', 'float32', 'float64', 'number', 'DECIMAL', 'REAL'])"
   ]
  },
  {
   "cell_type": "markdown",
   "id": "4a99fa68",
   "metadata": {
    "cell_id": "00035-24b826c0-a2e2-4385-8a0e-b6f228b626d3",
    "deepnote_cell_type": "markdown"
   },
   "source": [
    "#### `Daily Internet Usage`"
   ]
  },
  {
   "cell_type": "code",
   "execution_count": 23,
   "id": "a4ed43ad",
   "metadata": {
    "ExecuteTime": {
     "end_time": "2021-10-07T21:01:44.019905Z",
     "start_time": "2021-10-07T21:01:44.000410Z"
    },
    "cell_id": "00036-0853f172-4376-4c69-8d4a-e0c5de42f1ca",
    "deepnote_cell_type": "code",
    "deepnote_to_be_reexecuted": false,
    "execution_millis": 98,
    "execution_start": 1633637827511,
    "source_hash": "bd474f46"
   },
   "outputs": [
    {
     "data": {
      "application/vnd.jupyter.widget-view+json": {
       "model_id": "682c6d7416a1429fa89be3c81848b59a",
       "version_major": 2,
       "version_minor": 0
      },
      "text/plain": [
       "Calculating Metrics:   0%|          | 0/3 [00:00<?, ?it/s]"
      ]
     },
     "metadata": {},
     "output_type": "display_data"
    },
    {
     "data": {
      "text/plain": [
       "{\n",
       "  \"result\": {\n",
       "    \"observed_value\": 105.0\n",
       "  },\n",
       "  \"meta\": {},\n",
       "  \"success\": true,\n",
       "  \"exception_info\": {\n",
       "    \"raised_exception\": false,\n",
       "    \"exception_traceback\": null,\n",
       "    \"exception_message\": null\n",
       "  }\n",
       "}"
      ]
     },
     "execution_count": 23,
     "metadata": {},
     "output_type": "execute_result"
    }
   ],
   "source": [
    " \n",
    "validator.expect_column_min_to_be_between(column='Daily Internet Usage', max_value=110, min_value=95)"
   ]
  },
  {
   "cell_type": "code",
   "execution_count": 24,
   "id": "3b19da28",
   "metadata": {
    "ExecuteTime": {
     "end_time": "2021-10-07T21:01:44.039599Z",
     "start_time": "2021-10-07T21:01:44.020601Z"
    },
    "cell_id": "00037-9110f47d-9522-4fb5-8c8a-1b6b6acea785",
    "deepnote_cell_type": "code",
    "deepnote_to_be_reexecuted": false,
    "execution_millis": 64,
    "execution_start": 1633637828086,
    "source_hash": "285abc24"
   },
   "outputs": [
    {
     "data": {
      "application/vnd.jupyter.widget-view+json": {
       "model_id": "f5d0161be1b14fc3a6b60a6a6727eb03",
       "version_major": 2,
       "version_minor": 0
      },
      "text/plain": [
       "Calculating Metrics:   0%|          | 0/3 [00:00<?, ?it/s]"
      ]
     },
     "metadata": {},
     "output_type": "display_data"
    },
    {
     "data": {
      "text/plain": [
       "{\n",
       "  \"result\": {\n",
       "    \"observed_value\": 269.96\n",
       "  },\n",
       "  \"meta\": {},\n",
       "  \"success\": true,\n",
       "  \"exception_info\": {\n",
       "    \"raised_exception\": false,\n",
       "    \"exception_traceback\": null,\n",
       "    \"exception_message\": null\n",
       "  }\n",
       "}"
      ]
     },
     "execution_count": 24,
     "metadata": {},
     "output_type": "execute_result"
    }
   ],
   "source": [
    "\n",
    "validator.expect_column_max_to_be_between(column='Daily Internet Usage', max_value=270, min_value=250)"
   ]
  },
  {
   "cell_type": "code",
   "execution_count": 25,
   "id": "f1f7c2a9",
   "metadata": {
    "ExecuteTime": {
     "end_time": "2021-10-07T21:01:44.068282Z",
     "start_time": "2021-10-07T21:01:44.040966Z"
    },
    "cell_id": "00038-d43a16e4-8993-4e78-bc02-a610ea5afbba",
    "deepnote_cell_type": "code",
    "deepnote_to_be_reexecuted": false,
    "execution_millis": 69,
    "execution_start": 1633637828756,
    "source_hash": "70cbbf18"
   },
   "outputs": [
    {
     "data": {
      "application/vnd.jupyter.widget-view+json": {
       "model_id": "bb211061849a4f0c83f25a754fd65574",
       "version_major": 2,
       "version_minor": 0
      },
      "text/plain": [
       "Calculating Metrics:   0%|          | 0/3 [00:00<?, ?it/s]"
      ]
     },
     "metadata": {},
     "output_type": "display_data"
    },
    {
     "data": {
      "text/plain": [
       "{\n",
       "  \"result\": {\n",
       "    \"observed_value\": 179.4397868852459\n",
       "  },\n",
       "  \"meta\": {},\n",
       "  \"success\": true,\n",
       "  \"exception_info\": {\n",
       "    \"raised_exception\": false,\n",
       "    \"exception_traceback\": null,\n",
       "    \"exception_message\": null\n",
       "  }\n",
       "}"
      ]
     },
     "execution_count": 25,
     "metadata": {},
     "output_type": "execute_result"
    }
   ],
   "source": [
    "\n",
    "validator.expect_column_mean_to_be_between(column='Daily Internet Usage', max_value=185, min_value=170)"
   ]
  },
  {
   "cell_type": "code",
   "execution_count": 26,
   "id": "a8acaa4f",
   "metadata": {
    "ExecuteTime": {
     "end_time": "2021-10-07T21:01:44.103312Z",
     "start_time": "2021-10-07T21:01:44.069345Z"
    },
    "cell_id": "00041-9d0de7dc-d3cf-43ed-a214-8723b54bfcaf",
    "deepnote_cell_type": "code",
    "deepnote_to_be_reexecuted": false,
    "execution_millis": 107,
    "execution_start": 1633637830375,
    "source_hash": "53a9889a"
   },
   "outputs": [
    {
     "data": {
      "application/vnd.jupyter.widget-view+json": {
       "model_id": "305f455d2ad34612a2d4de665cabd257",
       "version_major": 2,
       "version_minor": 0
      },
      "text/plain": [
       "Calculating Metrics:   0%|          | 0/6 [00:00<?, ?it/s]"
      ]
     },
     "metadata": {},
     "output_type": "display_data"
    },
    {
     "data": {
      "text/plain": [
       "{\n",
       "  \"result\": {\n",
       "    \"element_count\": 610,\n",
       "    \"unexpected_count\": 0,\n",
       "    \"unexpected_percent\": 0.0,\n",
       "    \"partial_unexpected_list\": []\n",
       "  },\n",
       "  \"meta\": {},\n",
       "  \"success\": true,\n",
       "  \"exception_info\": {\n",
       "    \"raised_exception\": false,\n",
       "    \"exception_traceback\": null,\n",
       "    \"exception_message\": null\n",
       "  }\n",
       "}"
      ]
     },
     "execution_count": 26,
     "metadata": {},
     "output_type": "execute_result"
    }
   ],
   "source": [
    "\n",
    "validator.expect_column_values_to_not_be_null(column='Daily Internet Usage')"
   ]
  },
  {
   "cell_type": "code",
   "execution_count": 27,
   "id": "0e265484",
   "metadata": {
    "ExecuteTime": {
     "end_time": "2021-10-07T21:01:44.109982Z",
     "start_time": "2021-10-07T21:01:44.104491Z"
    },
    "cell_id": "00043-edc7d4db-c534-4ebe-95ee-b1143f0e91c3",
    "deepnote_cell_type": "code",
    "deepnote_to_be_reexecuted": false,
    "execution_millis": 15,
    "execution_start": 1633637830866,
    "source_hash": "ed46a9cc"
   },
   "outputs": [
    {
     "data": {
      "text/plain": [
       "{\n",
       "  \"result\": {\n",
       "    \"observed_value\": \"float64\"\n",
       "  },\n",
       "  \"meta\": {},\n",
       "  \"success\": true,\n",
       "  \"exception_info\": {\n",
       "    \"raised_exception\": false,\n",
       "    \"exception_traceback\": null,\n",
       "    \"exception_message\": null\n",
       "  }\n",
       "}"
      ]
     },
     "execution_count": 27,
     "metadata": {},
     "output_type": "execute_result"
    }
   ],
   "source": [
    "\n",
    "validator.expect_column_values_to_be_in_type_list(column='Daily Internet Usage', type_list=['FLOAT', 'FLOAT4', 'FLOAT8', 'FLOAT64', 'DOUBLE', 'DOUBLE_PRECISION', 'NUMERIC', 'FloatType', 'DoubleType', 'float_', 'float16', 'float32', 'float64', 'number', 'DECIMAL', 'REAL'])"
   ]
  },
  {
   "cell_type": "markdown",
   "id": "e2b1ffcd",
   "metadata": {
    "cell_id": "00044-d20ec7cf-5bb7-4956-b5c6-80d94d570353",
    "deepnote_cell_type": "markdown"
   },
   "source": [
    "#### `Ad Topic Line`"
   ]
  },
  {
   "cell_type": "code",
   "execution_count": 28,
   "id": "838fc459",
   "metadata": {
    "ExecuteTime": {
     "end_time": "2021-10-07T21:01:44.135337Z",
     "start_time": "2021-10-07T21:01:44.112058Z"
    },
    "cell_id": "00045-3726d70b-8e66-45cc-9bf3-8878f75a9aae",
    "deepnote_cell_type": "code",
    "deepnote_to_be_reexecuted": false,
    "execution_millis": 101,
    "execution_start": 1633637833439,
    "source_hash": "294b4416"
   },
   "outputs": [
    {
     "data": {
      "application/vnd.jupyter.widget-view+json": {
       "model_id": "8363fcd6ec774773be5c491fb1e6f700",
       "version_major": 2,
       "version_minor": 0
      },
      "text/plain": [
       "Calculating Metrics:   0%|          | 0/6 [00:00<?, ?it/s]"
      ]
     },
     "metadata": {},
     "output_type": "display_data"
    },
    {
     "data": {
      "text/plain": [
       "{\n",
       "  \"result\": {\n",
       "    \"element_count\": 610,\n",
       "    \"unexpected_count\": 0,\n",
       "    \"unexpected_percent\": 0.0,\n",
       "    \"partial_unexpected_list\": []\n",
       "  },\n",
       "  \"meta\": {},\n",
       "  \"success\": true,\n",
       "  \"exception_info\": {\n",
       "    \"raised_exception\": false,\n",
       "    \"exception_traceback\": null,\n",
       "    \"exception_message\": null\n",
       "  }\n",
       "}"
      ]
     },
     "execution_count": 28,
     "metadata": {},
     "output_type": "execute_result"
    }
   ],
   "source": [
    "\n",
    "validator.expect_column_values_to_not_be_null(column='Ad Topic Line')"
   ]
  },
  {
   "cell_type": "code",
   "execution_count": 29,
   "id": "88e6dc41",
   "metadata": {
    "ExecuteTime": {
     "end_time": "2021-10-07T21:01:44.163477Z",
     "start_time": "2021-10-07T21:01:44.136147Z"
    },
    "cell_id": "00047-6e0c983d-dce1-4b2f-b947-4f8d91b38e67",
    "deepnote_cell_type": "code",
    "deepnote_to_be_reexecuted": false,
    "execution_millis": 111,
    "execution_start": 1633637834866,
    "source_hash": "13424311"
   },
   "outputs": [
    {
     "data": {
      "application/vnd.jupyter.widget-view+json": {
       "model_id": "fde561649299469da90775746eb425da",
       "version_major": 2,
       "version_minor": 0
      },
      "text/plain": [
       "Calculating Metrics:   0%|          | 0/8 [00:00<?, ?it/s]"
      ]
     },
     "metadata": {},
     "output_type": "display_data"
    },
    {
     "data": {
      "text/plain": [
       "{\n",
       "  \"result\": {\n",
       "    \"element_count\": 610,\n",
       "    \"unexpected_count\": 0,\n",
       "    \"unexpected_percent\": 0.0,\n",
       "    \"partial_unexpected_list\": [],\n",
       "    \"missing_count\": 0,\n",
       "    \"missing_percent\": 0.0,\n",
       "    \"unexpected_percent_total\": 0.0,\n",
       "    \"unexpected_percent_nonmissing\": 0.0\n",
       "  },\n",
       "  \"meta\": {},\n",
       "  \"success\": true,\n",
       "  \"exception_info\": {\n",
       "    \"raised_exception\": false,\n",
       "    \"exception_traceback\": null,\n",
       "    \"exception_message\": null\n",
       "  }\n",
       "}"
      ]
     },
     "execution_count": 29,
     "metadata": {},
     "output_type": "execute_result"
    }
   ],
   "source": [
    "\n",
    "validator.expect_column_values_to_be_in_type_list(column='Ad Topic Line', type_list=['CHAR', 'NCHAR', 'VARCHAR', 'NVARCHAR', 'TEXT', 'NTEXT', 'STRING', 'StringType', 'string', 'str', 'object', \"dtype('O')\"])"
   ]
  },
  {
   "cell_type": "markdown",
   "id": "38cef757",
   "metadata": {
    "cell_id": "00048-2d4a944a-0b19-46e3-abd2-e34cca085368",
    "deepnote_cell_type": "markdown"
   },
   "source": [
    "#### `City`"
   ]
  },
  {
   "cell_type": "code",
   "execution_count": 30,
   "id": "0aef6870",
   "metadata": {
    "ExecuteTime": {
     "end_time": "2021-10-07T21:01:44.187838Z",
     "start_time": "2021-10-07T21:01:44.164338Z"
    },
    "cell_id": "00049-3a23789e-607e-4ecb-8351-8da0736007b8",
    "deepnote_cell_type": "code",
    "deepnote_to_be_reexecuted": false,
    "execution_millis": 90,
    "execution_start": 1633637835600,
    "source_hash": "d1e21fa3"
   },
   "outputs": [
    {
     "data": {
      "application/vnd.jupyter.widget-view+json": {
       "model_id": "ce9f7bac97f448c4a2c146c9764dda12",
       "version_major": 2,
       "version_minor": 0
      },
      "text/plain": [
       "Calculating Metrics:   0%|          | 0/6 [00:00<?, ?it/s]"
      ]
     },
     "metadata": {},
     "output_type": "display_data"
    },
    {
     "data": {
      "text/plain": [
       "{\n",
       "  \"result\": {\n",
       "    \"element_count\": 610,\n",
       "    \"unexpected_count\": 0,\n",
       "    \"unexpected_percent\": 0.0,\n",
       "    \"partial_unexpected_list\": []\n",
       "  },\n",
       "  \"meta\": {},\n",
       "  \"success\": true,\n",
       "  \"exception_info\": {\n",
       "    \"raised_exception\": false,\n",
       "    \"exception_traceback\": null,\n",
       "    \"exception_message\": null\n",
       "  }\n",
       "}"
      ]
     },
     "execution_count": 30,
     "metadata": {},
     "output_type": "execute_result"
    }
   ],
   "source": [
    "\n",
    "validator.expect_column_values_to_not_be_null(column='City')"
   ]
  },
  {
   "cell_type": "code",
   "execution_count": 31,
   "id": "e5ab0b0a",
   "metadata": {
    "ExecuteTime": {
     "end_time": "2021-10-07T21:01:44.213215Z",
     "start_time": "2021-10-07T21:01:44.188644Z"
    },
    "cell_id": "00050-7f8cca05-7044-43d5-b46a-dc04fb5d0728",
    "deepnote_cell_type": "code",
    "deepnote_to_be_reexecuted": false,
    "execution_millis": 92,
    "execution_start": 1633637835887,
    "source_hash": "dc705f44"
   },
   "outputs": [
    {
     "data": {
      "application/vnd.jupyter.widget-view+json": {
       "model_id": "55cf220151ec44ddbad418e170599f69",
       "version_major": 2,
       "version_minor": 0
      },
      "text/plain": [
       "Calculating Metrics:   0%|          | 0/7 [00:00<?, ?it/s]"
      ]
     },
     "metadata": {},
     "output_type": "display_data"
    },
    {
     "data": {
      "text/plain": [
       "{\n",
       "  \"result\": {\n",
       "    \"observed_value\": 0.9819672131147541\n",
       "  },\n",
       "  \"meta\": {},\n",
       "  \"success\": true,\n",
       "  \"exception_info\": {\n",
       "    \"raised_exception\": false,\n",
       "    \"exception_traceback\": null,\n",
       "    \"exception_message\": null\n",
       "  }\n",
       "}"
      ]
     },
     "execution_count": 31,
     "metadata": {},
     "output_type": "execute_result"
    }
   ],
   "source": [
    "\n",
    "validator.expect_column_proportion_of_unique_values_to_be_between(column='City', max_value=0.999, min_value=0.9)"
   ]
  },
  {
   "cell_type": "code",
   "execution_count": 32,
   "id": "fe6f6721",
   "metadata": {
    "ExecuteTime": {
     "end_time": "2021-10-07T21:01:44.243338Z",
     "start_time": "2021-10-07T21:01:44.214080Z"
    },
    "cell_id": "00051-94d7e218-13ce-478a-be0e-e67007442441",
    "deepnote_cell_type": "code",
    "deepnote_to_be_reexecuted": false,
    "execution_millis": 98,
    "execution_start": 1633637836171,
    "source_hash": "3cce96fb"
   },
   "outputs": [
    {
     "data": {
      "application/vnd.jupyter.widget-view+json": {
       "model_id": "bc72bc3f4081443a956c2677ffe307be",
       "version_major": 2,
       "version_minor": 0
      },
      "text/plain": [
       "Calculating Metrics:   0%|          | 0/8 [00:00<?, ?it/s]"
      ]
     },
     "metadata": {},
     "output_type": "display_data"
    },
    {
     "data": {
      "text/plain": [
       "{\n",
       "  \"result\": {\n",
       "    \"element_count\": 610,\n",
       "    \"unexpected_count\": 0,\n",
       "    \"unexpected_percent\": 0.0,\n",
       "    \"partial_unexpected_list\": [],\n",
       "    \"missing_count\": 0,\n",
       "    \"missing_percent\": 0.0,\n",
       "    \"unexpected_percent_total\": 0.0,\n",
       "    \"unexpected_percent_nonmissing\": 0.0\n",
       "  },\n",
       "  \"meta\": {},\n",
       "  \"success\": true,\n",
       "  \"exception_info\": {\n",
       "    \"raised_exception\": false,\n",
       "    \"exception_traceback\": null,\n",
       "    \"exception_message\": null\n",
       "  }\n",
       "}"
      ]
     },
     "execution_count": 32,
     "metadata": {},
     "output_type": "execute_result"
    }
   ],
   "source": [
    "\n",
    "validator.expect_column_values_to_be_in_type_list(column='City', type_list=['CHAR', 'NCHAR', 'VARCHAR', 'NVARCHAR', 'TEXT', 'NTEXT', 'STRING', 'StringType', 'string', 'str', 'object', \"dtype('O')\"])"
   ]
  },
  {
   "cell_type": "markdown",
   "id": "e8aaa8e2",
   "metadata": {
    "cell_id": "00052-09057f21-488d-4ffb-92cd-b72621b8f6aa",
    "deepnote_cell_type": "markdown"
   },
   "source": [
    "#### `Male`"
   ]
  },
  {
   "cell_type": "code",
   "execution_count": 33,
   "id": "be3c96fa",
   "metadata": {
    "ExecuteTime": {
     "end_time": "2021-10-07T21:01:44.249046Z",
     "start_time": "2021-10-07T21:01:44.244078Z"
    },
    "cell_id": "00043-29906644-9685-4088-9547-7b1642e967d8",
    "deepnote_cell_type": "code",
    "deepnote_to_be_reexecuted": false,
    "execution_millis": 18,
    "execution_start": 1633637836719,
    "source_hash": "9812bbd7",
    "tags": []
   },
   "outputs": [
    {
     "data": {
      "text/plain": [
       "count    610.000000\n",
       "mean     0.485246  \n",
       "std      0.500192  \n",
       "min      0.000000  \n",
       "25%      0.000000  \n",
       "50%      0.000000  \n",
       "75%      1.000000  \n",
       "max      1.000000  \n",
       "Name: Male, dtype: float64"
      ]
     },
     "execution_count": 33,
     "metadata": {},
     "output_type": "execute_result"
    }
   ],
   "source": [
    "validator.active_batch.data.dataframe['Male'].describe()"
   ]
  },
  {
   "cell_type": "code",
   "execution_count": 34,
   "id": "cd3e7ee4",
   "metadata": {
    "ExecuteTime": {
     "end_time": "2021-10-07T21:01:44.279029Z",
     "start_time": "2021-10-07T21:01:44.249888Z"
    },
    "cell_id": "00058-f16bbab1-4fae-444d-84d1-2a74037aa9e7",
    "deepnote_cell_type": "code",
    "deepnote_to_be_reexecuted": false,
    "execution_millis": 70,
    "execution_start": 1633637837137,
    "source_hash": "2c734854"
   },
   "outputs": [
    {
     "data": {
      "application/vnd.jupyter.widget-view+json": {
       "model_id": "4102d4efbe974d1883c979e10b001291",
       "version_major": 2,
       "version_minor": 0
      },
      "text/plain": [
       "Calculating Metrics:   0%|          | 0/8 [00:00<?, ?it/s]"
      ]
     },
     "metadata": {},
     "output_type": "display_data"
    },
    {
     "data": {
      "text/plain": [
       "{\n",
       "  \"result\": {\n",
       "    \"element_count\": 610,\n",
       "    \"unexpected_count\": 0,\n",
       "    \"unexpected_percent\": 0.0,\n",
       "    \"partial_unexpected_list\": [],\n",
       "    \"missing_count\": 0,\n",
       "    \"missing_percent\": 0.0,\n",
       "    \"unexpected_percent_total\": 0.0,\n",
       "    \"unexpected_percent_nonmissing\": 0.0\n",
       "  },\n",
       "  \"meta\": {},\n",
       "  \"success\": true,\n",
       "  \"exception_info\": {\n",
       "    \"raised_exception\": false,\n",
       "    \"exception_traceback\": null,\n",
       "    \"exception_message\": null\n",
       "  }\n",
       "}"
      ]
     },
     "execution_count": 34,
     "metadata": {},
     "output_type": "execute_result"
    }
   ],
   "source": [
    "\n",
    "validator.expect_column_values_to_be_in_set(column='Male', value_set=[0, 1])"
   ]
  },
  {
   "cell_type": "code",
   "execution_count": 35,
   "id": "c67ac834",
   "metadata": {
    "ExecuteTime": {
     "end_time": "2021-10-07T21:01:44.298461Z",
     "start_time": "2021-10-07T21:01:44.279915Z"
    },
    "cell_id": "00045-65da9152-92b0-46aa-8fb1-deae608832b7",
    "deepnote_cell_type": "code",
    "deepnote_to_be_reexecuted": false,
    "execution_millis": 75,
    "execution_start": 1633637837414,
    "source_hash": "fb6e9ff1",
    "tags": []
   },
   "outputs": [
    {
     "data": {
      "application/vnd.jupyter.widget-view+json": {
       "model_id": "b7ac99c5c9534270b3fcca534b99044c",
       "version_major": 2,
       "version_minor": 0
      },
      "text/plain": [
       "Calculating Metrics:   0%|          | 0/3 [00:00<?, ?it/s]"
      ]
     },
     "metadata": {},
     "output_type": "display_data"
    },
    {
     "data": {
      "text/plain": [
       "{\n",
       "  \"result\": {\n",
       "    \"observed_value\": 0.4852459016393443\n",
       "  },\n",
       "  \"meta\": {},\n",
       "  \"success\": true,\n",
       "  \"exception_info\": {\n",
       "    \"raised_exception\": false,\n",
       "    \"exception_traceback\": null,\n",
       "    \"exception_message\": null\n",
       "  }\n",
       "}"
      ]
     },
     "execution_count": 35,
     "metadata": {},
     "output_type": "execute_result"
    }
   ],
   "source": [
    "validator.expect_column_mean_to_be_between(column='Male', max_value=0.55, min_value=0.45)"
   ]
  },
  {
   "cell_type": "code",
   "execution_count": 36,
   "id": "e753d6b4",
   "metadata": {
    "ExecuteTime": {
     "end_time": "2021-10-07T21:01:44.322444Z",
     "start_time": "2021-10-07T21:01:44.299312Z"
    },
    "cell_id": "00059-a090e74c-bd6f-4ea6-b726-acb377f1b6fd",
    "deepnote_cell_type": "code",
    "deepnote_to_be_reexecuted": false,
    "execution_millis": 91,
    "execution_start": 1633637838770,
    "source_hash": "6208844f"
   },
   "outputs": [
    {
     "data": {
      "application/vnd.jupyter.widget-view+json": {
       "model_id": "047a69f6c87f4d6ea97b69b22df2b7d7",
       "version_major": 2,
       "version_minor": 0
      },
      "text/plain": [
       "Calculating Metrics:   0%|          | 0/6 [00:00<?, ?it/s]"
      ]
     },
     "metadata": {},
     "output_type": "display_data"
    },
    {
     "data": {
      "text/plain": [
       "{\n",
       "  \"result\": {\n",
       "    \"element_count\": 610,\n",
       "    \"unexpected_count\": 0,\n",
       "    \"unexpected_percent\": 0.0,\n",
       "    \"partial_unexpected_list\": []\n",
       "  },\n",
       "  \"meta\": {},\n",
       "  \"success\": true,\n",
       "  \"exception_info\": {\n",
       "    \"raised_exception\": false,\n",
       "    \"exception_traceback\": null,\n",
       "    \"exception_message\": null\n",
       "  }\n",
       "}"
      ]
     },
     "execution_count": 36,
     "metadata": {},
     "output_type": "execute_result"
    }
   ],
   "source": [
    "\n",
    "validator.expect_column_values_to_not_be_null(column='Male')"
   ]
  },
  {
   "cell_type": "code",
   "execution_count": 37,
   "id": "519d0758",
   "metadata": {
    "ExecuteTime": {
     "end_time": "2021-10-07T21:01:44.327795Z",
     "start_time": "2021-10-07T21:01:44.323135Z"
    },
    "cell_id": "00061-e2126b53-a864-4697-8e49-311bfb7483c3",
    "deepnote_cell_type": "code",
    "deepnote_to_be_reexecuted": false,
    "execution_millis": 22,
    "execution_start": 1633637839004,
    "source_hash": "78780f19"
   },
   "outputs": [
    {
     "data": {
      "text/plain": [
       "{\n",
       "  \"result\": {\n",
       "    \"observed_value\": \"int64\"\n",
       "  },\n",
       "  \"meta\": {},\n",
       "  \"success\": true,\n",
       "  \"exception_info\": {\n",
       "    \"raised_exception\": false,\n",
       "    \"exception_traceback\": null,\n",
       "    \"exception_message\": null\n",
       "  }\n",
       "}"
      ]
     },
     "execution_count": 37,
     "metadata": {},
     "output_type": "execute_result"
    }
   ],
   "source": [
    "\n",
    "validator.expect_column_values_to_be_in_type_list(column='Male', type_list=['INTEGER', 'integer', 'int', 'int_', 'int8', 'int16', 'int32', 'int64', 'uint8', 'uint16', 'uint32', 'uint64', 'INT', 'INTEGER', 'INT64', 'TINYINT', 'BYTEINT', 'SMALLINT', 'BIGINT', 'IntegerType', 'LongType'])"
   ]
  },
  {
   "cell_type": "markdown",
   "id": "6b723d1a",
   "metadata": {
    "cell_id": "00062-9d92b0c6-f326-4df8-9550-97725b011865",
    "deepnote_cell_type": "markdown"
   },
   "source": [
    "#### `Country`"
   ]
  },
  {
   "cell_type": "code",
   "execution_count": 38,
   "id": "a7708c63",
   "metadata": {
    "ExecuteTime": {
     "end_time": "2021-10-07T21:01:44.352226Z",
     "start_time": "2021-10-07T21:01:44.328572Z"
    },
    "cell_id": "00063-7d419322-3ba5-4a24-a73a-d985cd417a5c",
    "deepnote_cell_type": "code",
    "deepnote_to_be_reexecuted": false,
    "execution_millis": 67,
    "execution_start": 1633637841354,
    "source_hash": "980e0b36"
   },
   "outputs": [
    {
     "data": {
      "application/vnd.jupyter.widget-view+json": {
       "model_id": "4279803245454638927d6102a15ffd08",
       "version_major": 2,
       "version_minor": 0
      },
      "text/plain": [
       "Calculating Metrics:   0%|          | 0/6 [00:00<?, ?it/s]"
      ]
     },
     "metadata": {},
     "output_type": "display_data"
    },
    {
     "data": {
      "text/plain": [
       "{\n",
       "  \"result\": {\n",
       "    \"element_count\": 610,\n",
       "    \"unexpected_count\": 0,\n",
       "    \"unexpected_percent\": 0.0,\n",
       "    \"partial_unexpected_list\": []\n",
       "  },\n",
       "  \"meta\": {},\n",
       "  \"success\": true,\n",
       "  \"exception_info\": {\n",
       "    \"raised_exception\": false,\n",
       "    \"exception_traceback\": null,\n",
       "    \"exception_message\": null\n",
       "  }\n",
       "}"
      ]
     },
     "execution_count": 38,
     "metadata": {},
     "output_type": "execute_result"
    }
   ],
   "source": [
    "\n",
    "validator.expect_column_values_to_not_be_null(column='Country')"
   ]
  },
  {
   "cell_type": "code",
   "execution_count": 39,
   "id": "99dd1963",
   "metadata": {
    "ExecuteTime": {
     "end_time": "2021-10-07T21:01:44.381904Z",
     "start_time": "2021-10-07T21:01:44.353236Z"
    },
    "cell_id": "00065-fcef4a52-15ab-48cf-a7fd-47c919f34a70",
    "deepnote_cell_type": "code",
    "deepnote_to_be_reexecuted": false,
    "execution_millis": 45,
    "execution_start": 1633637843078,
    "source_hash": "19ac0beb"
   },
   "outputs": [
    {
     "data": {
      "application/vnd.jupyter.widget-view+json": {
       "model_id": "deee3238e26c4314b914d73afe247e46",
       "version_major": 2,
       "version_minor": 0
      },
      "text/plain": [
       "Calculating Metrics:   0%|          | 0/8 [00:00<?, ?it/s]"
      ]
     },
     "metadata": {},
     "output_type": "display_data"
    },
    {
     "data": {
      "text/plain": [
       "{\n",
       "  \"result\": {\n",
       "    \"element_count\": 610,\n",
       "    \"unexpected_count\": 0,\n",
       "    \"unexpected_percent\": 0.0,\n",
       "    \"partial_unexpected_list\": [],\n",
       "    \"missing_count\": 0,\n",
       "    \"missing_percent\": 0.0,\n",
       "    \"unexpected_percent_total\": 0.0,\n",
       "    \"unexpected_percent_nonmissing\": 0.0\n",
       "  },\n",
       "  \"meta\": {},\n",
       "  \"success\": true,\n",
       "  \"exception_info\": {\n",
       "    \"raised_exception\": false,\n",
       "    \"exception_traceback\": null,\n",
       "    \"exception_message\": null\n",
       "  }\n",
       "}"
      ]
     },
     "execution_count": 39,
     "metadata": {},
     "output_type": "execute_result"
    }
   ],
   "source": [
    "\n",
    "validator.expect_column_values_to_be_in_type_list(column='Country', type_list=['CHAR', 'NCHAR', 'VARCHAR', 'NVARCHAR', 'TEXT', 'NTEXT', 'STRING', 'StringType', 'string', 'str', 'object', \"dtype('O')\"])"
   ]
  },
  {
   "cell_type": "markdown",
   "id": "ac9f5e24",
   "metadata": {
    "cell_id": "00066-1bfbff9e-9b3e-42d4-b077-1a58f2268dee",
    "deepnote_cell_type": "markdown"
   },
   "source": [
    "#### `Timestamp`"
   ]
  },
  {
   "cell_type": "code",
   "execution_count": 40,
   "id": "46be1ba0",
   "metadata": {
    "ExecuteTime": {
     "end_time": "2021-10-07T21:01:44.406904Z",
     "start_time": "2021-10-07T21:01:44.382854Z"
    },
    "cell_id": "00067-bbb79ef1-1f5a-4ee3-a5fb-64ce603f7402",
    "deepnote_cell_type": "code",
    "deepnote_to_be_reexecuted": false,
    "execution_millis": 53,
    "execution_start": 1633637846350,
    "source_hash": "b578a8a3"
   },
   "outputs": [
    {
     "data": {
      "application/vnd.jupyter.widget-view+json": {
       "model_id": "e886c575a455455990efa344bf84d5f0",
       "version_major": 2,
       "version_minor": 0
      },
      "text/plain": [
       "Calculating Metrics:   0%|          | 0/6 [00:00<?, ?it/s]"
      ]
     },
     "metadata": {},
     "output_type": "display_data"
    },
    {
     "data": {
      "text/plain": [
       "{\n",
       "  \"result\": {\n",
       "    \"element_count\": 610,\n",
       "    \"unexpected_count\": 0,\n",
       "    \"unexpected_percent\": 0.0,\n",
       "    \"partial_unexpected_list\": []\n",
       "  },\n",
       "  \"meta\": {},\n",
       "  \"success\": true,\n",
       "  \"exception_info\": {\n",
       "    \"raised_exception\": false,\n",
       "    \"exception_traceback\": null,\n",
       "    \"exception_message\": null\n",
       "  }\n",
       "}"
      ]
     },
     "execution_count": 40,
     "metadata": {},
     "output_type": "execute_result"
    }
   ],
   "source": [
    "\n",
    "validator.expect_column_values_to_not_be_null(column='Timestamp')"
   ]
  },
  {
   "cell_type": "code",
   "execution_count": 41,
   "id": "06421b37",
   "metadata": {
    "ExecuteTime": {
     "end_time": "2021-10-07T21:01:44.439362Z",
     "start_time": "2021-10-07T21:01:44.407861Z"
    },
    "cell_id": "00069-bc39526a-14bf-4b7d-8eec-9cd018d7fb25",
    "deepnote_cell_type": "code",
    "deepnote_to_be_reexecuted": false,
    "execution_millis": 168,
    "execution_start": 1633637846919,
    "source_hash": "a7d02439"
   },
   "outputs": [
    {
     "data": {
      "application/vnd.jupyter.widget-view+json": {
       "model_id": "7e9d402a09254d24817636e75f00e9e7",
       "version_major": 2,
       "version_minor": 0
      },
      "text/plain": [
       "Calculating Metrics:   0%|          | 0/8 [00:00<?, ?it/s]"
      ]
     },
     "metadata": {},
     "output_type": "display_data"
    },
    {
     "data": {
      "text/plain": [
       "{\n",
       "  \"result\": {\n",
       "    \"element_count\": 610,\n",
       "    \"unexpected_count\": 0,\n",
       "    \"unexpected_percent\": 0.0,\n",
       "    \"partial_unexpected_list\": [],\n",
       "    \"missing_count\": 0,\n",
       "    \"missing_percent\": 0.0,\n",
       "    \"unexpected_percent_total\": 0.0,\n",
       "    \"unexpected_percent_nonmissing\": 0.0\n",
       "  },\n",
       "  \"meta\": {},\n",
       "  \"success\": true,\n",
       "  \"exception_info\": {\n",
       "    \"raised_exception\": false,\n",
       "    \"exception_traceback\": null,\n",
       "    \"exception_message\": null\n",
       "  }\n",
       "}"
      ]
     },
     "execution_count": 41,
     "metadata": {},
     "output_type": "execute_result"
    }
   ],
   "source": [
    "\n",
    "validator.expect_column_values_to_be_in_type_list(column='Timestamp', type_list=['CHAR', 'NCHAR', 'VARCHAR', 'NVARCHAR', 'TEXT', 'NTEXT', 'STRING', 'StringType', 'string', 'str', 'object', \"dtype('O')\"])"
   ]
  },
  {
   "cell_type": "markdown",
   "id": "c7c5e445",
   "metadata": {
    "cell_id": "00070-2891f502-d5eb-4a90-a730-76dc2eab2efe",
    "deepnote_cell_type": "markdown"
   },
   "source": [
    "#### `Clicked on Ad`"
   ]
  },
  {
   "cell_type": "code",
   "execution_count": 42,
   "id": "f164df02",
   "metadata": {
    "ExecuteTime": {
     "end_time": "2021-10-07T21:01:44.460360Z",
     "start_time": "2021-10-07T21:01:44.440121Z"
    },
    "cell_id": "00073-5f122c94-b488-4282-880d-c4f4c30a7302",
    "deepnote_cell_type": "code",
    "deepnote_to_be_reexecuted": false,
    "execution_millis": 66,
    "execution_start": 1633637848587,
    "source_hash": "662a3af2"
   },
   "outputs": [
    {
     "data": {
      "application/vnd.jupyter.widget-view+json": {
       "model_id": "dda0f3dee93846f297d7d5787c358a9c",
       "version_major": 2,
       "version_minor": 0
      },
      "text/plain": [
       "Calculating Metrics:   0%|          | 0/3 [00:00<?, ?it/s]"
      ]
     },
     "metadata": {},
     "output_type": "display_data"
    },
    {
     "data": {
      "text/plain": [
       "{\n",
       "  \"result\": {\n",
       "    \"observed_value\": 0.4918032786885246\n",
       "  },\n",
       "  \"meta\": {},\n",
       "  \"success\": true,\n",
       "  \"exception_info\": {\n",
       "    \"raised_exception\": false,\n",
       "    \"exception_traceback\": null,\n",
       "    \"exception_message\": null\n",
       "  }\n",
       "}"
      ]
     },
     "execution_count": 42,
     "metadata": {},
     "output_type": "execute_result"
    }
   ],
   "source": [
    "\n",
    "validator.expect_column_mean_to_be_between(column='Clicked on Ad', max_value=0.55, min_value=0.45)"
   ]
  },
  {
   "cell_type": "code",
   "execution_count": 43,
   "id": "d8688b55",
   "metadata": {
    "ExecuteTime": {
     "end_time": "2021-10-07T21:01:44.488814Z",
     "start_time": "2021-10-07T21:01:44.461419Z"
    },
    "cell_id": "00076-37a42167-6dfa-4d98-bc30-e176a662e965",
    "deepnote_cell_type": "code",
    "deepnote_to_be_reexecuted": false,
    "execution_millis": 106,
    "execution_start": 1633637848885,
    "source_hash": "6a8e8875"
   },
   "outputs": [
    {
     "data": {
      "application/vnd.jupyter.widget-view+json": {
       "model_id": "57fc0c925693497c94944e5163b983e2",
       "version_major": 2,
       "version_minor": 0
      },
      "text/plain": [
       "Calculating Metrics:   0%|          | 0/8 [00:00<?, ?it/s]"
      ]
     },
     "metadata": {},
     "output_type": "display_data"
    },
    {
     "data": {
      "text/plain": [
       "{\n",
       "  \"result\": {\n",
       "    \"element_count\": 610,\n",
       "    \"unexpected_count\": 0,\n",
       "    \"unexpected_percent\": 0.0,\n",
       "    \"partial_unexpected_list\": [],\n",
       "    \"missing_count\": 0,\n",
       "    \"missing_percent\": 0.0,\n",
       "    \"unexpected_percent_total\": 0.0,\n",
       "    \"unexpected_percent_nonmissing\": 0.0\n",
       "  },\n",
       "  \"meta\": {},\n",
       "  \"success\": true,\n",
       "  \"exception_info\": {\n",
       "    \"raised_exception\": false,\n",
       "    \"exception_traceback\": null,\n",
       "    \"exception_message\": null\n",
       "  }\n",
       "}"
      ]
     },
     "execution_count": 43,
     "metadata": {},
     "output_type": "execute_result"
    }
   ],
   "source": [
    "\n",
    "validator.expect_column_values_to_be_in_set(column='Clicked on Ad', value_set=[0, 1])"
   ]
  },
  {
   "cell_type": "code",
   "execution_count": 44,
   "id": "bb3c0d5b",
   "metadata": {
    "ExecuteTime": {
     "end_time": "2021-10-07T21:01:44.511586Z",
     "start_time": "2021-10-07T21:01:44.489678Z"
    },
    "cell_id": "00077-53155aa1-5329-4386-8b99-e0982ebb326b",
    "deepnote_cell_type": "code",
    "deepnote_to_be_reexecuted": false,
    "execution_millis": 119,
    "execution_start": 1633637849207,
    "source_hash": "2162ce0e"
   },
   "outputs": [
    {
     "data": {
      "application/vnd.jupyter.widget-view+json": {
       "model_id": "177f487585a74fc796f7f4c8f609e57e",
       "version_major": 2,
       "version_minor": 0
      },
      "text/plain": [
       "Calculating Metrics:   0%|          | 0/6 [00:00<?, ?it/s]"
      ]
     },
     "metadata": {},
     "output_type": "display_data"
    },
    {
     "data": {
      "text/plain": [
       "{\n",
       "  \"result\": {\n",
       "    \"element_count\": 610,\n",
       "    \"unexpected_count\": 0,\n",
       "    \"unexpected_percent\": 0.0,\n",
       "    \"partial_unexpected_list\": []\n",
       "  },\n",
       "  \"meta\": {},\n",
       "  \"success\": true,\n",
       "  \"exception_info\": {\n",
       "    \"raised_exception\": false,\n",
       "    \"exception_traceback\": null,\n",
       "    \"exception_message\": null\n",
       "  }\n",
       "}"
      ]
     },
     "execution_count": 44,
     "metadata": {},
     "output_type": "execute_result"
    }
   ],
   "source": [
    "\n",
    "validator.expect_column_values_to_not_be_null(column='Clicked on Ad')"
   ]
  },
  {
   "cell_type": "code",
   "execution_count": 45,
   "id": "4558424e",
   "metadata": {
    "ExecuteTime": {
     "end_time": "2021-10-07T21:01:44.517511Z",
     "start_time": "2021-10-07T21:01:44.512399Z"
    },
    "cell_id": "00079-cc422c78-4e27-476c-b5cc-268dc831a908",
    "deepnote_cell_type": "code",
    "deepnote_to_be_reexecuted": false,
    "execution_millis": 17,
    "execution_start": 1633637850661,
    "source_hash": "1a6c766f"
   },
   "outputs": [
    {
     "data": {
      "text/plain": [
       "{\n",
       "  \"result\": {\n",
       "    \"observed_value\": \"int64\"\n",
       "  },\n",
       "  \"meta\": {},\n",
       "  \"success\": true,\n",
       "  \"exception_info\": {\n",
       "    \"raised_exception\": false,\n",
       "    \"exception_traceback\": null,\n",
       "    \"exception_message\": null\n",
       "  }\n",
       "}"
      ]
     },
     "execution_count": 45,
     "metadata": {},
     "output_type": "execute_result"
    }
   ],
   "source": [
    "\n",
    "validator.expect_column_values_to_be_in_type_list(column='Clicked on Ad', type_list=['INTEGER', 'integer', 'int', 'int_', 'int8', 'int16', 'int32', 'int64', 'uint8', 'uint16', 'uint32', 'uint64', 'INT', 'INTEGER', 'INT64', 'TINYINT', 'BYTEINT', 'SMALLINT', 'BIGINT', 'IntegerType', 'LongType'])"
   ]
  },
  {
   "cell_type": "markdown",
   "id": "c472084d",
   "metadata": {
    "cell_id": "00080-6275e6a6-4298-46db-a4bf-c421d77799c7",
    "deepnote_cell_type": "markdown"
   },
   "source": [
    "## Save & Review Your Expectations\n",
    "\n",
    "Let's save the expectation suite as a JSON file in the `great_expectations/expectations` directory of your project.\n",
    "\n",
    "Let's now rebuild your Data Docs, which helps you communicate about your data with both machines and humans."
   ]
  },
  {
   "cell_type": "code",
   "execution_count": 46,
   "id": "3ad9a6a1",
   "metadata": {
    "ExecuteTime": {
     "end_time": "2021-10-07T21:01:45.552179Z",
     "start_time": "2021-10-07T21:01:44.518401Z"
    },
    "cell_id": "00081-a2a2dd46-043f-4df1-8303-35d530c2ec89",
    "deepnote_cell_type": "code",
    "deepnote_to_be_reexecuted": false,
    "execution_millis": 3788,
    "execution_start": 1633637852431,
    "source_hash": "b6830c36"
   },
   "outputs": [
    {
     "name": "stdout",
     "output_type": "stream",
     "text": [
      "2021-10-07T16:01:44-0500 - INFO - \t38 expectation(s) included in expectation_suite.\n",
      "{\n",
      "  \"ge_cloud_id\": null,\n",
      "  \"data_asset_type\": null,\n",
      "  \"expectation_suite_name\": \"first_data.csv.warning\",\n",
      "  \"meta\": {\n",
      "    \"great_expectations_version\": \"0.13.36\"\n",
      "  },\n",
      "  \"expectations\": [\n",
      "    {\n",
      "      \"kwargs\": {\n",
      "        \"column_list\": [\n",
      "          \"Unnamed: 0\",\n",
      "          \"Daily Time Spent on Site\",\n",
      "          \"Age\",\n",
      "          \"Area Income\",\n",
      "          \"Daily Internet Usage\",\n",
      "          \"Ad Topic Line\",\n",
      "          \"City\",\n",
      "          \"Male\",\n",
      "          \"Country\",\n",
      "          \"Timestamp\",\n",
      "          \"Clicked on Ad\"\n",
      "        ]\n",
      "      },\n",
      "      \"ge_cloud_id\": null,\n",
      "      \"expectation_type\": \"expect_table_columns_to_match_ordered_list\",\n",
      "      \"meta\": {}\n",
      "    },\n",
      "    {\n",
      "      \"kwargs\": {\n",
      "        \"column\": \"Daily Time Spent on Site\",\n",
      "        \"max_value\": 40,\n",
      "        \"min_value\": 30\n",
      "      },\n",
      "      \"ge_cloud_id\": null,\n",
      "      \"expectation_type\": \"expect_column_min_to_be_between\",\n",
      "      \"meta\": {}\n",
      "    },\n",
      "    {\n",
      "      \"kwargs\": {\n",
      "        \"column\": \"Daily Time Spent on Site\",\n",
      "        \"max_value\": 100,\n",
      "        \"min_value\": 85\n",
      "      },\n",
      "      \"ge_cloud_id\": null,\n",
      "      \"expectation_type\": \"expect_column_max_to_be_between\",\n",
      "      \"meta\": {}\n",
      "    },\n",
      "    {\n",
      "      \"kwargs\": {\n",
      "        \"column\": \"Daily Time Spent on Site\",\n",
      "        \"max_value\": 70,\n",
      "        \"min_value\": 55\n",
      "      },\n",
      "      \"ge_cloud_id\": null,\n",
      "      \"expectation_type\": \"expect_column_mean_to_be_between\",\n",
      "      \"meta\": {}\n",
      "    },\n",
      "    {\n",
      "      \"kwargs\": {\n",
      "        \"column\": \"Daily Time Spent on Site\"\n",
      "      },\n",
      "      \"ge_cloud_id\": null,\n",
      "      \"expectation_type\": \"expect_column_values_to_not_be_null\",\n",
      "      \"meta\": {}\n",
      "    },\n",
      "    {\n",
      "      \"kwargs\": {\n",
      "        \"column\": \"Daily Time Spent on Site\",\n",
      "        \"type_list\": [\n",
      "          \"FLOAT\",\n",
      "          \"FLOAT4\",\n",
      "          \"FLOAT8\",\n",
      "          \"FLOAT64\",\n",
      "          \"DOUBLE\",\n",
      "          \"DOUBLE_PRECISION\",\n",
      "          \"NUMERIC\",\n",
      "          \"FloatType\",\n",
      "          \"DoubleType\",\n",
      "          \"float_\",\n",
      "          \"float16\",\n",
      "          \"float32\",\n",
      "          \"float64\",\n",
      "          \"number\",\n",
      "          \"DECIMAL\",\n",
      "          \"REAL\"\n",
      "        ]\n",
      "      },\n",
      "      \"ge_cloud_id\": null,\n",
      "      \"expectation_type\": \"expect_column_values_to_be_in_type_list\",\n",
      "      \"meta\": {}\n",
      "    },\n",
      "    {\n",
      "      \"kwargs\": {\n",
      "        \"column\": \"Age\",\n",
      "        \"max_value\": 23,\n",
      "        \"min_value\": 15\n",
      "      },\n",
      "      \"ge_cloud_id\": null,\n",
      "      \"expectation_type\": \"expect_column_min_to_be_between\",\n",
      "      \"meta\": {}\n",
      "    },\n",
      "    {\n",
      "      \"kwargs\": {\n",
      "        \"column\": \"Age\",\n",
      "        \"max_value\": 70,\n",
      "        \"min_value\": 57\n",
      "      },\n",
      "      \"ge_cloud_id\": null,\n",
      "      \"expectation_type\": \"expect_column_max_to_be_between\",\n",
      "      \"meta\": {}\n",
      "    },\n",
      "    {\n",
      "      \"kwargs\": {\n",
      "        \"column\": \"Age\",\n",
      "        \"max_value\": 40,\n",
      "        \"min_value\": 30\n",
      "      },\n",
      "      \"ge_cloud_id\": null,\n",
      "      \"expectation_type\": \"expect_column_mean_to_be_between\",\n",
      "      \"meta\": {}\n",
      "    },\n",
      "    {\n",
      "      \"kwargs\": {\n",
      "        \"column\": \"Age\"\n",
      "      },\n",
      "      \"ge_cloud_id\": null,\n",
      "      \"expectation_type\": \"expect_column_values_to_not_be_null\",\n",
      "      \"meta\": {}\n",
      "    },\n",
      "    {\n",
      "      \"kwargs\": {\n",
      "        \"column\": \"Age\",\n",
      "        \"type_list\": [\n",
      "          \"INTEGER\",\n",
      "          \"integer\",\n",
      "          \"int\",\n",
      "          \"int_\",\n",
      "          \"int8\",\n",
      "          \"int16\",\n",
      "          \"int32\",\n",
      "          \"int64\",\n",
      "          \"uint8\",\n",
      "          \"uint16\",\n",
      "          \"uint32\",\n",
      "          \"uint64\",\n",
      "          \"INT\",\n",
      "          \"INTEGER\",\n",
      "          \"INT64\",\n",
      "          \"TINYINT\",\n",
      "          \"BYTEINT\",\n",
      "          \"SMALLINT\",\n",
      "          \"BIGINT\",\n",
      "          \"IntegerType\",\n",
      "          \"LongType\"\n",
      "        ]\n",
      "      },\n",
      "      \"ge_cloud_id\": null,\n",
      "      \"expectation_type\": \"expect_column_values_to_be_in_type_list\",\n",
      "      \"meta\": {}\n",
      "    },\n",
      "    {\n",
      "      \"kwargs\": {\n",
      "        \"column\": \"Area Income\",\n",
      "        \"max_value\": 15000,\n",
      "        \"min_value\": 12000\n",
      "      },\n",
      "      \"ge_cloud_id\": null,\n",
      "      \"expectation_type\": \"expect_column_min_to_be_between\",\n",
      "      \"meta\": {}\n",
      "    },\n",
      "    {\n",
      "      \"kwargs\": {\n",
      "        \"column\": \"Area Income\",\n",
      "        \"max_value\": 80000,\n",
      "        \"min_value\": 70000\n",
      "      },\n",
      "      \"ge_cloud_id\": null,\n",
      "      \"expectation_type\": \"expect_column_max_to_be_between\",\n",
      "      \"meta\": {}\n",
      "    },\n",
      "    {\n",
      "      \"kwargs\": {\n",
      "        \"column\": \"Area Income\",\n",
      "        \"max_value\": 65000,\n",
      "        \"min_value\": 54000\n",
      "      },\n",
      "      \"ge_cloud_id\": null,\n",
      "      \"expectation_type\": \"expect_column_mean_to_be_between\",\n",
      "      \"meta\": {}\n",
      "    },\n",
      "    {\n",
      "      \"kwargs\": {\n",
      "        \"column\": \"Area Income\"\n",
      "      },\n",
      "      \"ge_cloud_id\": null,\n",
      "      \"expectation_type\": \"expect_column_values_to_not_be_null\",\n",
      "      \"meta\": {}\n",
      "    },\n",
      "    {\n",
      "      \"kwargs\": {\n",
      "        \"column\": \"Area Income\",\n",
      "        \"type_list\": [\n",
      "          \"FLOAT\",\n",
      "          \"FLOAT4\",\n",
      "          \"FLOAT8\",\n",
      "          \"FLOAT64\",\n",
      "          \"DOUBLE\",\n",
      "          \"DOUBLE_PRECISION\",\n",
      "          \"NUMERIC\",\n",
      "          \"FloatType\",\n",
      "          \"DoubleType\",\n",
      "          \"float_\",\n",
      "          \"float16\",\n",
      "          \"float32\",\n",
      "          \"float64\",\n",
      "          \"number\",\n",
      "          \"DECIMAL\",\n",
      "          \"REAL\"\n",
      "        ]\n",
      "      },\n",
      "      \"ge_cloud_id\": null,\n",
      "      \"expectation_type\": \"expect_column_values_to_be_in_type_list\",\n",
      "      \"meta\": {}\n",
      "    },\n",
      "    {\n",
      "      \"kwargs\": {\n",
      "        \"column\": \"Daily Internet Usage\",\n",
      "        \"max_value\": 110,\n",
      "        \"min_value\": 95\n",
      "      },\n",
      "      \"ge_cloud_id\": null,\n",
      "      \"expectation_type\": \"expect_column_min_to_be_between\",\n",
      "      \"meta\": {}\n",
      "    },\n",
      "    {\n",
      "      \"kwargs\": {\n",
      "        \"column\": \"Daily Internet Usage\",\n",
      "        \"max_value\": 270,\n",
      "        \"min_value\": 250\n",
      "      },\n",
      "      \"ge_cloud_id\": null,\n",
      "      \"expectation_type\": \"expect_column_max_to_be_between\",\n",
      "      \"meta\": {}\n",
      "    },\n",
      "    {\n",
      "      \"kwargs\": {\n",
      "        \"column\": \"Daily Internet Usage\",\n",
      "        \"max_value\": 185,\n",
      "        \"min_value\": 170\n",
      "      },\n",
      "      \"ge_cloud_id\": null,\n",
      "      \"expectation_type\": \"expect_column_mean_to_be_between\",\n",
      "      \"meta\": {}\n",
      "    },\n",
      "    {\n",
      "      \"kwargs\": {\n",
      "        \"column\": \"Daily Internet Usage\"\n",
      "      },\n",
      "      \"ge_cloud_id\": null,\n",
      "      \"expectation_type\": \"expect_column_values_to_not_be_null\",\n",
      "      \"meta\": {}\n",
      "    },\n",
      "    {\n",
      "      \"kwargs\": {\n",
      "        \"column\": \"Daily Internet Usage\",\n",
      "        \"type_list\": [\n",
      "          \"FLOAT\",\n",
      "          \"FLOAT4\",\n",
      "          \"FLOAT8\",\n",
      "          \"FLOAT64\",\n",
      "          \"DOUBLE\",\n",
      "          \"DOUBLE_PRECISION\",\n",
      "          \"NUMERIC\",\n",
      "          \"FloatType\",\n",
      "          \"DoubleType\",\n",
      "          \"float_\",\n",
      "          \"float16\",\n",
      "          \"float32\",\n",
      "          \"float64\",\n",
      "          \"number\",\n",
      "          \"DECIMAL\",\n",
      "          \"REAL\"\n",
      "        ]\n",
      "      },\n",
      "      \"ge_cloud_id\": null,\n",
      "      \"expectation_type\": \"expect_column_values_to_be_in_type_list\",\n",
      "      \"meta\": {}\n",
      "    },\n",
      "    {\n",
      "      \"kwargs\": {\n",
      "        \"column\": \"Ad Topic Line\"\n",
      "      },\n",
      "      \"ge_cloud_id\": null,\n",
      "      \"expectation_type\": \"expect_column_values_to_not_be_null\",\n",
      "      \"meta\": {}\n",
      "    },\n",
      "    {\n",
      "      \"kwargs\": {\n",
      "        \"column\": \"Ad Topic Line\",\n",
      "        \"type_list\": [\n",
      "          \"CHAR\",\n",
      "          \"NCHAR\",\n",
      "          \"VARCHAR\",\n",
      "          \"NVARCHAR\",\n",
      "          \"TEXT\",\n",
      "          \"NTEXT\",\n",
      "          \"STRING\",\n",
      "          \"StringType\",\n",
      "          \"string\",\n",
      "          \"str\",\n",
      "          \"object\",\n",
      "          \"dtype('O')\"\n",
      "        ]\n",
      "      },\n",
      "      \"ge_cloud_id\": null,\n",
      "      \"expectation_type\": \"expect_column_values_to_be_in_type_list\",\n",
      "      \"meta\": {}\n",
      "    },\n",
      "    {\n",
      "      \"kwargs\": {\n",
      "        \"column\": \"City\"\n",
      "      },\n",
      "      \"ge_cloud_id\": null,\n",
      "      \"expectation_type\": \"expect_column_values_to_not_be_null\",\n",
      "      \"meta\": {}\n",
      "    },\n",
      "    {\n",
      "      \"kwargs\": {\n",
      "        \"column\": \"City\",\n",
      "        \"max_value\": 0.999,\n",
      "        \"min_value\": 0.9\n",
      "      },\n",
      "      \"ge_cloud_id\": null,\n",
      "      \"expectation_type\": \"expect_column_proportion_of_unique_values_to_be_between\",\n",
      "      \"meta\": {}\n",
      "    },\n",
      "    {\n",
      "      \"kwargs\": {\n",
      "        \"column\": \"City\",\n",
      "        \"type_list\": [\n",
      "          \"CHAR\",\n",
      "          \"NCHAR\",\n",
      "          \"VARCHAR\",\n",
      "          \"NVARCHAR\",\n",
      "          \"TEXT\",\n",
      "          \"NTEXT\",\n",
      "          \"STRING\",\n",
      "          \"StringType\",\n",
      "          \"string\",\n",
      "          \"str\",\n",
      "          \"object\",\n",
      "          \"dtype('O')\"\n",
      "        ]\n",
      "      },\n",
      "      \"ge_cloud_id\": null,\n",
      "      \"expectation_type\": \"expect_column_values_to_be_in_type_list\",\n",
      "      \"meta\": {}\n",
      "    },\n",
      "    {\n",
      "      \"kwargs\": {\n",
      "        \"column\": \"Male\",\n",
      "        \"value_set\": [\n",
      "          0,\n",
      "          1\n",
      "        ]\n",
      "      },\n",
      "      \"ge_cloud_id\": null,\n",
      "      \"expectation_type\": \"expect_column_values_to_be_in_set\",\n",
      "      \"meta\": {}\n",
      "    },\n",
      "    {\n",
      "      \"kwargs\": {\n",
      "        \"column\": \"Male\",\n",
      "        \"max_value\": 0.55,\n",
      "        \"min_value\": 0.45\n",
      "      },\n",
      "      \"ge_cloud_id\": null,\n",
      "      \"expectation_type\": \"expect_column_mean_to_be_between\",\n",
      "      \"meta\": {}\n",
      "    },\n",
      "    {\n",
      "      \"kwargs\": {\n",
      "        \"column\": \"Male\"\n",
      "      },\n",
      "      \"ge_cloud_id\": null,\n",
      "      \"expectation_type\": \"expect_column_values_to_not_be_null\",\n",
      "      \"meta\": {}\n",
      "    },\n",
      "    {\n",
      "      \"kwargs\": {\n",
      "        \"column\": \"Male\",\n",
      "        \"type_list\": [\n",
      "          \"INTEGER\",\n",
      "          \"integer\",\n",
      "          \"int\",\n",
      "          \"int_\",\n",
      "          \"int8\",\n",
      "          \"int16\",\n",
      "          \"int32\",\n",
      "          \"int64\",\n",
      "          \"uint8\",\n",
      "          \"uint16\",\n",
      "          \"uint32\",\n",
      "          \"uint64\",\n",
      "          \"INT\",\n",
      "          \"INTEGER\",\n",
      "          \"INT64\",\n",
      "          \"TINYINT\",\n",
      "          \"BYTEINT\",\n",
      "          \"SMALLINT\",\n",
      "          \"BIGINT\",\n",
      "          \"IntegerType\",\n",
      "          \"LongType\"\n",
      "        ]\n",
      "      },\n",
      "      \"ge_cloud_id\": null,\n",
      "      \"expectation_type\": \"expect_column_values_to_be_in_type_list\",\n",
      "      \"meta\": {}\n",
      "    },\n",
      "    {\n",
      "      \"kwargs\": {\n",
      "        \"column\": \"Country\"\n",
      "      },\n",
      "      \"ge_cloud_id\": null,\n",
      "      \"expectation_type\": \"expect_column_values_to_not_be_null\",\n",
      "      \"meta\": {}\n",
      "    },\n",
      "    {\n",
      "      \"kwargs\": {\n",
      "        \"column\": \"Country\",\n",
      "        \"type_list\": [\n",
      "          \"CHAR\",\n",
      "          \"NCHAR\",\n",
      "          \"VARCHAR\",\n",
      "          \"NVARCHAR\",\n",
      "          \"TEXT\",\n",
      "          \"NTEXT\",\n",
      "          \"STRING\",\n",
      "          \"StringType\",\n",
      "          \"string\",\n",
      "          \"str\",\n",
      "          \"object\",\n",
      "          \"dtype('O')\"\n",
      "        ]\n",
      "      },\n",
      "      \"ge_cloud_id\": null,\n",
      "      \"expectation_type\": \"expect_column_values_to_be_in_type_list\",\n",
      "      \"meta\": {}\n",
      "    },\n",
      "    {\n",
      "      \"kwargs\": {\n",
      "        \"column\": \"Timestamp\"\n",
      "      },\n",
      "      \"ge_cloud_id\": null,\n",
      "      \"expectation_type\": \"expect_column_values_to_not_be_null\",\n",
      "      \"meta\": {}\n",
      "    },\n",
      "    {\n",
      "      \"kwargs\": {\n",
      "        \"column\": \"Timestamp\",\n",
      "        \"type_list\": [\n",
      "          \"CHAR\",\n",
      "          \"NCHAR\",\n",
      "          \"VARCHAR\",\n",
      "          \"NVARCHAR\",\n",
      "          \"TEXT\",\n",
      "          \"NTEXT\",\n",
      "          \"STRING\",\n",
      "          \"StringType\",\n",
      "          \"string\",\n",
      "          \"str\",\n",
      "          \"object\",\n",
      "          \"dtype('O')\"\n",
      "        ]\n",
      "      },\n",
      "      \"ge_cloud_id\": null,\n",
      "      \"expectation_type\": \"expect_column_values_to_be_in_type_list\",\n",
      "      \"meta\": {}\n",
      "    },\n",
      "    {\n",
      "      \"kwargs\": {\n",
      "        \"column\": \"Clicked on Ad\",\n",
      "        \"max_value\": 0.55,\n",
      "        \"min_value\": 0.45\n",
      "      },\n",
      "      \"ge_cloud_id\": null,\n",
      "      \"expectation_type\": \"expect_column_mean_to_be_between\",\n",
      "      \"meta\": {}\n",
      "    },\n",
      "    {\n",
      "      \"kwargs\": {\n",
      "        \"column\": \"Clicked on Ad\",\n",
      "        \"value_set\": [\n",
      "          0,\n",
      "          1\n",
      "        ]\n",
      "      },\n",
      "      \"ge_cloud_id\": null,\n",
      "      \"expectation_type\": \"expect_column_values_to_be_in_set\",\n",
      "      \"meta\": {}\n",
      "    },\n",
      "    {\n",
      "      \"kwargs\": {\n",
      "        \"column\": \"Clicked on Ad\"\n",
      "      },\n",
      "      \"ge_cloud_id\": null,\n",
      "      \"expectation_type\": \"expect_column_values_to_not_be_null\",\n",
      "      \"meta\": {}\n",
      "    },\n",
      "    {\n",
      "      \"kwargs\": {\n",
      "        \"column\": \"Clicked on Ad\",\n",
      "        \"type_list\": [\n",
      "          \"INTEGER\",\n",
      "          \"integer\",\n",
      "          \"int\",\n",
      "          \"int_\",\n",
      "          \"int8\",\n",
      "          \"int16\",\n",
      "          \"int32\",\n",
      "          \"int64\",\n",
      "          \"uint8\",\n",
      "          \"uint16\",\n",
      "          \"uint32\",\n",
      "          \"uint64\",\n",
      "          \"INT\",\n",
      "          \"INTEGER\",\n",
      "          \"INT64\",\n",
      "          \"TINYINT\",\n",
      "          \"BYTEINT\",\n",
      "          \"SMALLINT\",\n",
      "          \"BIGINT\",\n",
      "          \"IntegerType\",\n",
      "          \"LongType\"\n",
      "        ]\n",
      "      },\n",
      "      \"ge_cloud_id\": null,\n",
      "      \"expectation_type\": \"expect_column_values_to_be_in_type_list\",\n",
      "      \"meta\": {}\n",
      "    }\n",
      "  ]\n",
      "}\n",
      "2021-10-07T16:01:44-0500 - INFO - \t38 expectation(s) included in expectation_suite.\n"
     ]
    },
    {
     "name": "stdout",
     "output_type": "stream",
     "text": [
      "2021-10-07T16:01:44-0500 - INFO - \t38 expectation(s) included in expectation_suite.\n"
     ]
    },
    {
     "data": {
      "application/vnd.jupyter.widget-view+json": {
       "model_id": "efe286ecd9be468aa6eede4d72bd4c38",
       "version_major": 2,
       "version_minor": 0
      },
      "text/plain": [
       "Calculating Metrics:   0%|          | 0/67 [00:00<?, ?it/s]"
      ]
     },
     "metadata": {},
     "output_type": "display_data"
    },
    {
     "name": "stdout",
     "output_type": "stream",
     "text": [
      "Opening in existing browser session.\n"
     ]
    }
   ],
   "source": [
    "print(validator.get_expectation_suite(discard_failed_expectations=False))\n",
    "validator.save_expectation_suite(discard_failed_expectations=False)\n",
    "\n",
    "checkpoint_config = {\n",
    "    \"class_name\": \"SimpleCheckpoint\",\n",
    "    \"validations\": [\n",
    "        {\n",
    "            \"batch_request\": batch_request,\n",
    "            \"expectation_suite_name\": expectation_suite_name\n",
    "        }\n",
    "    ]\n",
    "}\n",
    "checkpoint = SimpleCheckpoint(\n",
    "    f\"_tmp_checkpoint_{expectation_suite_name}\",\n",
    "    context,\n",
    "    **checkpoint_config\n",
    ")\n",
    "checkpoint_result = checkpoint.run()\n",
    "\n",
    "context.build_data_docs()\n",
    "\n",
    "validation_result_identifier = checkpoint_result.list_validation_result_identifiers()[0]\n",
    "context.open_data_docs(resource_identifier=validation_result_identifier)"
   ]
  },
  {
   "cell_type": "markdown",
   "id": "dfc3d304",
   "metadata": {
    "created_in_deepnote_cell": true,
    "deepnote_cell_type": "markdown",
    "tags": []
   },
   "source": [
    "<a style='text-decoration:none;line-height:16px;display:flex;color:#5B5B62;padding:10px;justify-content:end;' href='https://deepnote.com?utm_source=created-in-deepnote-cell&projectId=87197226-98be-42b2-8527-389082831299' target=\"_blank\">\n",
    "<img alt='Created in deepnote.com' style='display:inline;max-height:16px;margin:0px;margin-right:7.5px;' src='data:image/svg+xml;base64,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' > </img>\n",
    "Created in <span style='font-weight:600;margin-left:4px;'>Deepnote</span></a>"
   ]
  }
 ],
 "metadata": {
  "deepnote": {},
  "deepnote_execution_queue": [],
  "deepnote_notebook_id": "b98c8920-11d5-4957-9152-c6671cffbab2",
  "kernelspec": {
   "display_name": "Python 3 (ipykernel)",
   "language": "python",
   "name": "python3"
  },
  "language_info": {
   "codemirror_mode": {
    "name": "ipython",
    "version": 3
   },
   "file_extension": ".py",
   "mimetype": "text/x-python",
   "name": "python",
   "nbconvert_exporter": "python",
   "pygments_lexer": "ipython3",
   "version": "3.8.10"
  },
  "toc": {
   "base_numbering": 1,
   "nav_menu": {},
   "number_sections": true,
   "sideBar": true,
   "skip_h1_title": false,
   "title_cell": "Table of Contents",
   "title_sidebar": "Contents",
   "toc_cell": false,
   "toc_position": {},
   "toc_section_display": true,
   "toc_window_display": false
  }
 },
 "nbformat": 4,
 "nbformat_minor": 5
}
