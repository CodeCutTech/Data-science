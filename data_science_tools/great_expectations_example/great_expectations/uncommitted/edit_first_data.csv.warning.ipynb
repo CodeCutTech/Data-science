{
 "cells": [
  {
   "cell_type": "markdown",
   "source": "# Edit Your Expectation Suite\nUse this notebook to recreate and modify your expectation suite:\n\n**Expectation Suite Name**: `first_data.csv.warning`\n",
   "metadata": {
    "cell_id": "00000-c97cd42c-6623-445b-9cb2-fc4b76048774",
    "deepnote_cell_type": "markdown"
   }
  },
  {
   "cell_type": "code",
   "source": "!pip install great_expectations",
   "metadata": {
    "tags": [],
    "cell_id": "00001-baf84959-f7a1-49ef-a88d-30c7cfa5f77b",
    "deepnote_to_be_reexecuted": false,
    "source_hash": "e71590bc",
    "execution_start": 1633637757338,
    "execution_millis": 11260,
    "output_cleared": true,
    "deepnote_cell_type": "code"
   },
   "outputs": [],
   "execution_count": 2
  },
  {
   "cell_type": "code",
   "metadata": {
    "cell_id": "00001-b2fc0ec2-93ad-462d-bf0b-a50eff7f98b8",
    "deepnote_to_be_reexecuted": false,
    "source_hash": "2e564970",
    "execution_start": 1633637779939,
    "execution_millis": 11435,
    "deepnote_cell_type": "code"
   },
   "source": "import datetime\n\nimport pandas as pd\n\nimport great_expectations as ge\nimport great_expectations.jupyter_ux\nfrom great_expectations.core.batch import BatchRequest\nfrom great_expectations.checkpoint import SimpleCheckpoint\nfrom great_expectations.exceptions import DataContextError\n\ncontext = ge.data_context.DataContext()\n\n# Note that if you modify this batch request, you may save the new version as a .json file\n#  to pass in later via the --batch-request option\nbatch_request = {'datasource_name': 'first_data', 'data_connector_name': 'default_inferred_data_connector_name', 'data_asset_name': 'first_data.csv', 'limit': 1000}\n\n\n# Feel free to change the name of your suite here. Renaming this will not remove the other one.\nexpectation_suite_name = \"first_data.csv.warning\"\ntry:\n    suite = context.get_expectation_suite(expectation_suite_name=expectation_suite_name)\n    print(f'Loaded ExpectationSuite \"{suite.expectation_suite_name}\" containing {len(suite.expectations)} expectations.')\nexcept DataContextError:\n    suite = context.create_expectation_suite(expectation_suite_name=expectation_suite_name)\n    print(f'Created ExpectationSuite \"{suite.expectation_suite_name}\".')\n\n\nvalidator = context.get_validator(\n    batch_request=BatchRequest(**batch_request),\n    expectation_suite_name=expectation_suite_name\n)\ncolumn_names = [f'\"{column_name}\"' for column_name in validator.columns()]\nprint(f\"Columns: {', '.join(column_names)}.\")\nvalidator.head(n_rows=5, fetch_all=False)",
   "execution_count": 3,
   "outputs": [
    {
     "name": "stdout",
     "text": "2021-10-07T20:16:27+0000 - INFO - Great Expectations logging enabled at 20 level by JupyterUX module.\n/root/venv/lib/python3.7/site-packages/great_expectations/jupyter_ux/__init__.py:15: FutureWarning: Passing a negative integer is deprecated in version 1.0 and will not be supported in future version. Instead, use None to not limit the column width.\n  pd.set_option(\"display.max_colwidth\", -1)\nLoaded ExpectationSuite \"first_data.csv.warning\" containing 65 expectations.\nColumns: \"Unnamed: 0\", \"Daily Time Spent on Site\", \"Age\", \"Area Income\", \"Daily Internet Usage\", \"Ad Topic Line\", \"City\", \"Male\", \"Country\", \"Timestamp\", \"Clicked on Ad\".\n",
     "output_type": "stream"
    },
    {
     "output_type": "execute_result",
     "execution_count": 3,
     "data": {
      "application/vnd.deepnote.dataframe.v2+json": {
       "row_count": 5,
       "column_count": 11,
       "columns": [
        {
         "name": "Unnamed: 0",
         "dtype": "int64",
         "stats": {
          "unique_count": 5,
          "nan_count": 0,
          "min": "0",
          "max": "4",
          "histogram": [
           {
            "bin_start": 0,
            "bin_end": 0.4,
            "count": 1
           },
           {
            "bin_start": 0.4,
            "bin_end": 0.8,
            "count": 0
           },
           {
            "bin_start": 0.8,
            "bin_end": 1.2000000000000002,
            "count": 1
           },
           {
            "bin_start": 1.2000000000000002,
            "bin_end": 1.6,
            "count": 0
           },
           {
            "bin_start": 1.6,
            "bin_end": 2,
            "count": 0
           },
           {
            "bin_start": 2,
            "bin_end": 2.4000000000000004,
            "count": 1
           },
           {
            "bin_start": 2.4000000000000004,
            "bin_end": 2.8000000000000003,
            "count": 0
           },
           {
            "bin_start": 2.8000000000000003,
            "bin_end": 3.2,
            "count": 1
           },
           {
            "bin_start": 3.2,
            "bin_end": 3.6,
            "count": 0
           },
           {
            "bin_start": 3.6,
            "bin_end": 4,
            "count": 1
           }
          ]
         }
        },
        {
         "name": "Daily Time Spent on Site",
         "dtype": "float64",
         "stats": {
          "unique_count": 5,
          "nan_count": 0,
          "min": "36.56",
          "max": "80.94",
          "histogram": [
           {
            "bin_start": 36.56,
            "bin_end": 40.998000000000005,
            "count": 1
           },
           {
            "bin_start": 40.998000000000005,
            "bin_end": 45.436,
            "count": 0
           },
           {
            "bin_start": 45.436,
            "bin_end": 49.874,
            "count": 0
           },
           {
            "bin_start": 49.874,
            "bin_end": 54.312,
            "count": 0
           },
           {
            "bin_start": 54.312,
            "bin_end": 58.75,
            "count": 0
           },
           {
            "bin_start": 58.75,
            "bin_end": 63.188,
            "count": 0
           },
           {
            "bin_start": 63.188,
            "bin_end": 67.626,
            "count": 0
           },
           {
            "bin_start": 67.626,
            "bin_end": 72.064,
            "count": 1
           },
           {
            "bin_start": 72.064,
            "bin_end": 76.50200000000001,
            "count": 0
           },
           {
            "bin_start": 76.50200000000001,
            "bin_end": 80.94,
            "count": 3
           }
          ]
         }
        },
        {
         "name": "Age",
         "dtype": "int64",
         "stats": {
          "unique_count": 5,
          "nan_count": 0,
          "min": "25",
          "max": "36",
          "histogram": [
           {
            "bin_start": 25,
            "bin_end": 26.1,
            "count": 1
           },
           {
            "bin_start": 26.1,
            "bin_end": 27.2,
            "count": 0
           },
           {
            "bin_start": 27.2,
            "bin_end": 28.3,
            "count": 1
           },
           {
            "bin_start": 28.3,
            "bin_end": 29.4,
            "count": 1
           },
           {
            "bin_start": 29.4,
            "bin_end": 30.5,
            "count": 0
           },
           {
            "bin_start": 30.5,
            "bin_end": 31.6,
            "count": 0
           },
           {
            "bin_start": 31.6,
            "bin_end": 32.7,
            "count": 0
           },
           {
            "bin_start": 32.7,
            "bin_end": 33.8,
            "count": 0
           },
           {
            "bin_start": 33.8,
            "bin_end": 34.9,
            "count": 1
           },
           {
            "bin_start": 34.9,
            "bin_end": 36,
            "count": 1
           }
          ]
         }
        },
        {
         "name": "Area Income",
         "dtype": "float64",
         "stats": {
          "unique_count": 5,
          "nan_count": 0,
          "min": "42838.29",
          "max": "68357.96",
          "histogram": [
           {
            "bin_start": 42838.29,
            "bin_end": 45390.257,
            "count": 1
           },
           {
            "bin_start": 45390.257,
            "bin_end": 47942.224,
            "count": 0
           },
           {
            "bin_start": 47942.224,
            "bin_end": 50494.191000000006,
            "count": 0
           },
           {
            "bin_start": 50494.191000000006,
            "bin_end": 53046.158,
            "count": 0
           },
           {
            "bin_start": 53046.158,
            "bin_end": 55598.125,
            "count": 0
           },
           {
            "bin_start": 55598.125,
            "bin_end": 58150.092000000004,
            "count": 0
           },
           {
            "bin_start": 58150.092000000004,
            "bin_end": 60702.05900000001,
            "count": 1
           },
           {
            "bin_start": 60702.05900000001,
            "bin_end": 63254.026000000005,
            "count": 1
           },
           {
            "bin_start": 63254.026000000005,
            "bin_end": 65805.993,
            "count": 1
           },
           {
            "bin_start": 65805.993,
            "bin_end": 68357.96,
            "count": 1
           }
          ]
         }
        },
        {
         "name": "Daily Internet Usage",
         "dtype": "float64",
         "stats": {
          "unique_count": 5,
          "nan_count": 0,
          "min": "188.32",
          "max": "239.94",
          "histogram": [
           {
            "bin_start": 188.32,
            "bin_end": 193.482,
            "count": 1
           },
           {
            "bin_start": 193.482,
            "bin_end": 198.644,
            "count": 1
           },
           {
            "bin_start": 198.644,
            "bin_end": 203.80599999999998,
            "count": 0
           },
           {
            "bin_start": 203.80599999999998,
            "bin_end": 208.968,
            "count": 0
           },
           {
            "bin_start": 208.968,
            "bin_end": 214.13,
            "count": 1
           },
           {
            "bin_start": 214.13,
            "bin_end": 219.292,
            "count": 0
           },
           {
            "bin_start": 219.292,
            "bin_end": 224.454,
            "count": 0
           },
           {
            "bin_start": 224.454,
            "bin_end": 229.61599999999999,
            "count": 0
           },
           {
            "bin_start": 229.61599999999999,
            "bin_end": 234.778,
            "count": 0
           },
           {
            "bin_start": 234.778,
            "bin_end": 239.94,
            "count": 2
           }
          ]
         }
        },
        {
         "name": "Ad Topic Line",
         "dtype": "object",
         "stats": {
          "unique_count": 5,
          "nan_count": 0,
          "categories": [
           {
            "name": "Seamless impactful info-mediaries",
            "count": 1
           },
           {
            "name": "Ameliorated actuating workforce",
            "count": 1
           },
           {
            "name": "3 others",
            "count": 3
           }
          ]
         }
        },
        {
         "name": "City",
         "dtype": "object",
         "stats": {
          "unique_count": 5,
          "nan_count": 0,
          "categories": [
           {
            "name": "Jamesville",
            "count": 1
           },
           {
            "name": "Kaylashire",
            "count": 1
           },
           {
            "name": "3 others",
            "count": 3
           }
          ]
         }
        },
        {
         "name": "Male",
         "dtype": "int64",
         "stats": {
          "unique_count": 2,
          "nan_count": 0,
          "min": "0",
          "max": "1",
          "histogram": [
           {
            "bin_start": 0,
            "bin_end": 0.1,
            "count": 4
           },
           {
            "bin_start": 0.1,
            "bin_end": 0.2,
            "count": 0
           },
           {
            "bin_start": 0.2,
            "bin_end": 0.30000000000000004,
            "count": 0
           },
           {
            "bin_start": 0.30000000000000004,
            "bin_end": 0.4,
            "count": 0
           },
           {
            "bin_start": 0.4,
            "bin_end": 0.5,
            "count": 0
           },
           {
            "bin_start": 0.5,
            "bin_end": 0.6000000000000001,
            "count": 0
           },
           {
            "bin_start": 0.6000000000000001,
            "bin_end": 0.7000000000000001,
            "count": 0
           },
           {
            "bin_start": 0.7000000000000001,
            "bin_end": 0.8,
            "count": 0
           },
           {
            "bin_start": 0.8,
            "bin_end": 0.9,
            "count": 0
           },
           {
            "bin_start": 0.9,
            "bin_end": 1,
            "count": 1
           }
          ]
         }
        },
        {
         "name": "Country",
         "dtype": "object",
         "stats": {
          "unique_count": 5,
          "nan_count": 0,
          "categories": [
           {
            "name": "Portugal",
            "count": 1
           },
           {
            "name": "Afghanistan",
            "count": 1
           },
           {
            "name": "3 others",
            "count": 3
           }
          ]
         }
        },
        {
         "name": "Timestamp",
         "dtype": "object",
         "stats": {
          "unique_count": 5,
          "nan_count": 0,
          "categories": [
           {
            "name": "2016-01-01 02:52:10",
            "count": 1
           },
           {
            "name": "2016-01-01 03:35:35",
            "count": 1
           },
           {
            "name": "3 others",
            "count": 3
           }
          ]
         }
        },
        {
         "name": "Clicked on Ad",
         "dtype": "int64",
         "stats": {
          "unique_count": 2,
          "nan_count": 0,
          "min": "0",
          "max": "1",
          "histogram": [
           {
            "bin_start": 0,
            "bin_end": 0.1,
            "count": 4
           },
           {
            "bin_start": 0.1,
            "bin_end": 0.2,
            "count": 0
           },
           {
            "bin_start": 0.2,
            "bin_end": 0.30000000000000004,
            "count": 0
           },
           {
            "bin_start": 0.30000000000000004,
            "bin_end": 0.4,
            "count": 0
           },
           {
            "bin_start": 0.4,
            "bin_end": 0.5,
            "count": 0
           },
           {
            "bin_start": 0.5,
            "bin_end": 0.6000000000000001,
            "count": 0
           },
           {
            "bin_start": 0.6000000000000001,
            "bin_end": 0.7000000000000001,
            "count": 0
           },
           {
            "bin_start": 0.7000000000000001,
            "bin_end": 0.8,
            "count": 0
           },
           {
            "bin_start": 0.8,
            "bin_end": 0.9,
            "count": 0
           },
           {
            "bin_start": 0.9,
            "bin_end": 1,
            "count": 1
           }
          ]
         }
        },
        {
         "name": "_deepnote_index_column",
         "dtype": "int64"
        }
       ],
       "rows_top": [
        {
         "Unnamed: 0": 0,
         "Daily Time Spent on Site": 80.67,
         "Age": 34,
         "Area Income": 58909.36,
         "Daily Internet Usage": 239.76,
         "Ad Topic Line": "Seamless impactful info-mediaries",
         "City": "Jamesville",
         "Male": 0,
         "Country": "Portugal",
         "Timestamp": "2016-01-01 02:52:10",
         "Clicked on Ad": 0,
         "_deepnote_index_column": 0
        },
        {
         "Unnamed: 0": 1,
         "Daily Time Spent on Site": 68.01,
         "Age": 25,
         "Area Income": 68357.96,
         "Daily Internet Usage": 188.32,
         "Ad Topic Line": "Ameliorated actuating workforce",
         "City": "Kaylashire",
         "Male": 1,
         "Country": "Afghanistan",
         "Timestamp": "2016-01-01 03:35:35",
         "Clicked on Ad": 0,
         "_deepnote_index_column": 1
        },
        {
         "Unnamed: 0": 2,
         "Daily Time Spent on Site": 80.94,
         "Age": 36,
         "Area Income": 60803,
         "Daily Internet Usage": 239.94,
         "Ad Topic Line": "Self-enabling local strategy",
         "City": "North Tiffany",
         "Male": 0,
         "Country": "Bermuda",
         "Timestamp": "2016-01-01 05:31:22",
         "Clicked on Ad": 0,
         "_deepnote_index_column": 2
        },
        {
         "Unnamed: 0": 3,
         "Daily Time Spent on Site": 78.77,
         "Age": 28,
         "Area Income": 63497.62,
         "Daily Internet Usage": 211.83,
         "Ad Topic Line": "Public-key intangible Graphical User Interface",
         "City": "Gomezport",
         "Male": 0,
         "Country": "Guam",
         "Timestamp": "2016-01-01 08:27:06",
         "Clicked on Ad": 0,
         "_deepnote_index_column": 3
        },
        {
         "Unnamed: 0": 4,
         "Daily Time Spent on Site": 36.56,
         "Age": 29,
         "Area Income": 42838.29,
         "Daily Internet Usage": 195.89,
         "Ad Topic Line": "Team-oriented bi-directional secured line",
         "City": "West Ryan",
         "Male": 0,
         "Country": "Uganda",
         "Timestamp": "2016-01-01 15:14:24",
         "Clicked on Ad": 1,
         "_deepnote_index_column": 4
        }
       ],
       "rows_bottom": null
      },
      "text/plain": "   Unnamed: 0  Daily Time Spent on Site  Age  Area Income  \\\n0  0           80.67                     34   58909.36      \n1  1           68.01                     25   68357.96      \n2  2           80.94                     36   60803.00      \n3  3           78.77                     28   63497.62      \n4  4           36.56                     29   42838.29      \n\n   Daily Internet Usage                                   Ad Topic Line  \\\n0  239.76                Seamless impactful info-mediaries                \n1  188.32                Ameliorated actuating workforce                  \n2  239.94                Self-enabling local strategy                     \n3  211.83                Public-key intangible Graphical User Interface   \n4  195.89                Team-oriented bi-directional secured line        \n\n            City  Male      Country            Timestamp  Clicked on Ad  \n0  Jamesville     0     Portugal     2016-01-01 02:52:10  0              \n1  Kaylashire     1     Afghanistan  2016-01-01 03:35:35  0              \n2  North Tiffany  0     Bermuda      2016-01-01 05:31:22  0              \n3  Gomezport      0     Guam         2016-01-01 08:27:06  0              \n4  West Ryan      0     Uganda       2016-01-01 15:14:24  1              ",
      "text/html": "<div>\n<style scoped>\n    .dataframe tbody tr th:only-of-type {\n        vertical-align: middle;\n    }\n\n    .dataframe tbody tr th {\n        vertical-align: top;\n    }\n\n    .dataframe thead th {\n        text-align: right;\n    }\n</style>\n<table border=\"1\" class=\"dataframe\">\n  <thead>\n    <tr style=\"text-align: right;\">\n      <th></th>\n      <th>Unnamed: 0</th>\n      <th>Daily Time Spent on Site</th>\n      <th>Age</th>\n      <th>Area Income</th>\n      <th>Daily Internet Usage</th>\n      <th>Ad Topic Line</th>\n      <th>City</th>\n      <th>Male</th>\n      <th>Country</th>\n      <th>Timestamp</th>\n      <th>Clicked on Ad</th>\n    </tr>\n  </thead>\n  <tbody>\n    <tr>\n      <th>0</th>\n      <td>0</td>\n      <td>80.67</td>\n      <td>34</td>\n      <td>58909.36</td>\n      <td>239.76</td>\n      <td>Seamless impactful info-mediaries</td>\n      <td>Jamesville</td>\n      <td>0</td>\n      <td>Portugal</td>\n      <td>2016-01-01 02:52:10</td>\n      <td>0</td>\n    </tr>\n    <tr>\n      <th>1</th>\n      <td>1</td>\n      <td>68.01</td>\n      <td>25</td>\n      <td>68357.96</td>\n      <td>188.32</td>\n      <td>Ameliorated actuating workforce</td>\n      <td>Kaylashire</td>\n      <td>1</td>\n      <td>Afghanistan</td>\n      <td>2016-01-01 03:35:35</td>\n      <td>0</td>\n    </tr>\n    <tr>\n      <th>2</th>\n      <td>2</td>\n      <td>80.94</td>\n      <td>36</td>\n      <td>60803.00</td>\n      <td>239.94</td>\n      <td>Self-enabling local strategy</td>\n      <td>North Tiffany</td>\n      <td>0</td>\n      <td>Bermuda</td>\n      <td>2016-01-01 05:31:22</td>\n      <td>0</td>\n    </tr>\n    <tr>\n      <th>3</th>\n      <td>3</td>\n      <td>78.77</td>\n      <td>28</td>\n      <td>63497.62</td>\n      <td>211.83</td>\n      <td>Public-key intangible Graphical User Interface</td>\n      <td>Gomezport</td>\n      <td>0</td>\n      <td>Guam</td>\n      <td>2016-01-01 08:27:06</td>\n      <td>0</td>\n    </tr>\n    <tr>\n      <th>4</th>\n      <td>4</td>\n      <td>36.56</td>\n      <td>29</td>\n      <td>42838.29</td>\n      <td>195.89</td>\n      <td>Team-oriented bi-directional secured line</td>\n      <td>West Ryan</td>\n      <td>0</td>\n      <td>Uganda</td>\n      <td>2016-01-01 15:14:24</td>\n      <td>1</td>\n    </tr>\n  </tbody>\n</table>\n</div>"
     },
     "metadata": {}
    }
   ]
  },
  {
   "cell_type": "markdown",
   "source": "## Create & Edit Expectations\n\n\nAdd expectations by calling specific expectation methods on the `validator` object. They all begin with `.expect_` which makes autocompleting easy using tab.\n\nBecause you selected interactive mode, you are now creating or editing an Expectation Suite with validator feedback from the sample batch of data that you specified (see `batch_request`).\n\nNote that if you select manual mode you may still create or edit an Expectation Suite directly, without feedback from the `validator`. See our documentation for more info and examples: [How to create a new Expectation Suite without a sample batch](https://docs.greatexpectations.io/en/latest/guides/how_to_guides/creating_and_editing_expectations/how_to_create_a_new_expectation_suite_without_a_sample_batch.html).\n\n\n\nYou can see all the available expectations in the **[expectation glossary](https://docs.greatexpectations.io/en/latest/reference/glossary_of_expectations.html?utm_source=notebook&utm_medium=create_expectations)**.",
   "metadata": {
    "cell_id": "00002-42d6b63c-af89-4625-a3c4-e9c72a845c8a",
    "deepnote_cell_type": "markdown"
   }
  },
  {
   "cell_type": "markdown",
   "source": "### Table Expectation(s)",
   "metadata": {
    "cell_id": "00003-21c6181f-e931-4d38-bba7-f96a8e0708c4",
    "deepnote_cell_type": "markdown"
   }
  },
  {
   "cell_type": "code",
   "metadata": {
    "cell_id": "00004-c52e00b0-7305-4040-91bf-162db1be695b",
    "deepnote_to_be_reexecuted": false,
    "source_hash": "75df2c55",
    "execution_start": 1633637793176,
    "execution_millis": 17,
    "allow_embed": "code_output",
    "deepnote_cell_type": "code"
   },
   "source": "validator.expect_table_columns_to_match_ordered_list(column_list=['Unnamed: 0', 'Daily Time Spent on Site', 'Age', 'Area Income', 'Daily Internet Usage', 'Ad Topic Line', 'City', 'Male', 'Country', 'Timestamp', 'Clicked on Ad'])",
   "execution_count": 4,
   "outputs": [
    {
     "output_type": "execute_result",
     "execution_count": 4,
     "data": {
      "text/plain": "{\n  \"success\": true,\n  \"result\": {\n    \"observed_value\": [\n      \"Unnamed: 0\",\n      \"Daily Time Spent on Site\",\n      \"Age\",\n      \"Area Income\",\n      \"Daily Internet Usage\",\n      \"Ad Topic Line\",\n      \"City\",\n      \"Male\",\n      \"Country\",\n      \"Timestamp\",\n      \"Clicked on Ad\"\n    ]\n  },\n  \"meta\": {},\n  \"exception_info\": {\n    \"raised_exception\": false,\n    \"exception_traceback\": null,\n    \"exception_message\": null\n  }\n}"
     },
     "metadata": {}
    }
   ]
  },
  {
   "cell_type": "markdown",
   "source": "### Column Expectation(s)",
   "metadata": {
    "cell_id": "00006-ce261b34-5f27-4a51-8d67-96220d8e073d",
    "deepnote_cell_type": "markdown"
   }
  },
  {
   "cell_type": "markdown",
   "source": "#### `Daily Time Spent on Site`",
   "metadata": {
    "cell_id": "00007-e33ee7e3-3fea-4b39-9d8e-fd9a8433fcb6",
    "deepnote_cell_type": "markdown"
   }
  },
  {
   "cell_type": "code",
   "source": "validator.active_batch.data.dataframe['Daily Time Spent on Site'].describe()",
   "metadata": {
    "tags": [],
    "cell_id": "00008-9c585708-fdc1-4b7a-a5d6-1ab7ea9ec2f0",
    "deepnote_to_be_reexecuted": false,
    "source_hash": "1c8e8add",
    "execution_start": 1633637797067,
    "execution_millis": 205,
    "deepnote_cell_type": "code"
   },
   "outputs": [
    {
     "output_type": "execute_result",
     "execution_count": 5,
     "data": {
      "text/plain": "count    610.000000\nmean     65.267049 \nstd      15.852992 \nmin      32.600000 \n25%      51.515000 \n50%      68.330000 \n75%      78.525000 \nmax      91.370000 \nName: Daily Time Spent on Site, dtype: float64"
     },
     "metadata": {}
    }
   ],
   "execution_count": 5
  },
  {
   "cell_type": "code",
   "source": "validator.active_batch.data.dataframe['Daily Time Spent on Site'].plot.hist()",
   "metadata": {
    "tags": [],
    "cell_id": "00009-978f12b1-c36b-45e3-bd14-dee2b0f5b187",
    "deepnote_to_be_reexecuted": false,
    "source_hash": "9faa1a0",
    "execution_start": 1633637798644,
    "execution_millis": 1916,
    "deepnote_cell_type": "code"
   },
   "outputs": [
    {
     "output_type": "execute_result",
     "execution_count": 6,
     "data": {
      "text/plain": "<AxesSubplot:ylabel='Frequency'>"
     },
     "metadata": {}
    },
    {
     "data": {
      "text/plain": "<Figure size 432x288 with 1 Axes>",
      "image/png": "[encoded data removed]"
     },
     "metadata": {
      "needs_background": "light",
      "image/png": {
       "width": 389,
       "height": 248
      }
     },
     "output_type": "display_data"
    }
   ],
   "execution_count": 6
  },
  {
   "cell_type": "code",
   "metadata": {
    "cell_id": "00008-2562a60f-4cc8-46b8-8a2c-614346e49ee3",
    "deepnote_to_be_reexecuted": false,
    "source_hash": "5bc4d2f7",
    "execution_start": 1633637800997,
    "execution_millis": 51,
    "deepnote_cell_type": "code"
   },
   "source": "\nvalidator.expect_column_min_to_be_between(column='Daily Time Spent on Site', max_value=40, min_value=30)",
   "execution_count": 7,
   "outputs": [
    {
     "data": {
      "text/plain": "Calculating Metrics:   0%|          | 0/3 [00:00<?, ?it/s]",
      "application/vnd.jupyter.widget-view+json": {
       "version_major": 2,
       "version_minor": 0,
       "model_id": "8937aaf6f1084af191e9b7df595b84be"
      }
     },
     "metadata": {},
     "output_type": "display_data"
    },
    {
     "output_type": "execute_result",
     "execution_count": 7,
     "data": {
      "text/plain": "{\n  \"success\": true,\n  \"result\": {\n    \"observed_value\": 32.6\n  },\n  \"meta\": {},\n  \"exception_info\": {\n    \"raised_exception\": false,\n    \"exception_traceback\": null,\n    \"exception_message\": null\n  }\n}"
     },
     "metadata": {}
    }
   ]
  },
  {
   "cell_type": "code",
   "metadata": {
    "cell_id": "00009-9def640d-b7e9-46fe-8073-190e5d662881",
    "deepnote_to_be_reexecuted": false,
    "source_hash": "e02158fb",
    "execution_start": 1633637805472,
    "execution_millis": 62,
    "deepnote_cell_type": "code"
   },
   "source": "\nvalidator.expect_column_max_to_be_between(column='Daily Time Spent on Site', max_value=100, min_value=85)",
   "execution_count": 8,
   "outputs": [
    {
     "data": {
      "text/plain": "Calculating Metrics:   0%|          | 0/3 [00:00<?, ?it/s]",
      "application/vnd.jupyter.widget-view+json": {
       "version_major": 2,
       "version_minor": 0,
       "model_id": "2e3afe9fce074579afec59a06ae51b4b"
      }
     },
     "metadata": {},
     "output_type": "display_data"
    },
    {
     "output_type": "execute_result",
     "execution_count": 8,
     "data": {
      "text/plain": "{\n  \"success\": true,\n  \"result\": {\n    \"observed_value\": 91.37\n  },\n  \"meta\": {},\n  \"exception_info\": {\n    \"raised_exception\": false,\n    \"exception_traceback\": null,\n    \"exception_message\": null\n  }\n}"
     },
     "metadata": {}
    }
   ]
  },
  {
   "cell_type": "code",
   "metadata": {
    "cell_id": "00010-245697e5-e54f-42af-9935-34753301cdc9",
    "deepnote_to_be_reexecuted": false,
    "source_hash": "6de11e6d",
    "execution_start": 1633637809172,
    "execution_millis": 66,
    "deepnote_cell_type": "code"
   },
   "source": "\nvalidator.expect_column_mean_to_be_between(column='Daily Time Spent on Site', max_value=70, min_value=55)",
   "execution_count": 9,
   "outputs": [
    {
     "data": {
      "text/plain": "Calculating Metrics:   0%|          | 0/3 [00:00<?, ?it/s]",
      "application/vnd.jupyter.widget-view+json": {
       "version_major": 2,
       "version_minor": 0,
       "model_id": "56013bf8a8f04b85bccdabbf159accdd"
      }
     },
     "metadata": {},
     "output_type": "display_data"
    },
    {
     "output_type": "execute_result",
     "execution_count": 9,
     "data": {
      "text/plain": "{\n  \"success\": true,\n  \"result\": {\n    \"observed_value\": 65.26704918032787\n  },\n  \"meta\": {},\n  \"exception_info\": {\n    \"raised_exception\": false,\n    \"exception_traceback\": null,\n    \"exception_message\": null\n  }\n}"
     },
     "metadata": {}
    }
   ]
  },
  {
   "cell_type": "code",
   "metadata": {
    "cell_id": "00013-58b209f3-f5ec-4883-b410-113afefac338",
    "deepnote_to_be_reexecuted": false,
    "source_hash": "fb571e28",
    "execution_start": 1633637811317,
    "execution_millis": 93,
    "deepnote_cell_type": "code"
   },
   "source": "\nvalidator.expect_column_values_to_not_be_null(column='Daily Time Spent on Site')",
   "execution_count": 10,
   "outputs": [
    {
     "data": {
      "text/plain": "Calculating Metrics:   0%|          | 0/6 [00:00<?, ?it/s]",
      "application/vnd.jupyter.widget-view+json": {
       "version_major": 2,
       "version_minor": 0,
       "model_id": "59772547c9284b11bb1b3994d1205bbb"
      }
     },
     "metadata": {},
     "output_type": "display_data"
    },
    {
     "output_type": "execute_result",
     "execution_count": 10,
     "data": {
      "text/plain": "{\n  \"success\": true,\n  \"result\": {\n    \"element_count\": 610,\n    \"unexpected_count\": 0,\n    \"unexpected_percent\": 0.0,\n    \"partial_unexpected_list\": []\n  },\n  \"meta\": {},\n  \"exception_info\": {\n    \"raised_exception\": false,\n    \"exception_traceback\": null,\n    \"exception_message\": null\n  }\n}"
     },
     "metadata": {}
    }
   ]
  },
  {
   "cell_type": "code",
   "metadata": {
    "cell_id": "00015-d8654f56-4f52-4ff0-8c55-754f7c913093",
    "deepnote_to_be_reexecuted": false,
    "source_hash": "d5286636",
    "execution_start": 1633637813538,
    "execution_millis": 25,
    "deepnote_cell_type": "code"
   },
   "source": "\nvalidator.expect_column_values_to_be_in_type_list(column='Daily Time Spent on Site', type_list=['FLOAT', 'FLOAT4', 'FLOAT8', 'FLOAT64', 'DOUBLE', 'DOUBLE_PRECISION', 'NUMERIC', 'FloatType', 'DoubleType', 'float_', 'float16', 'float32', 'float64', 'number', 'DECIMAL', 'REAL'])",
   "execution_count": 11,
   "outputs": [
    {
     "output_type": "execute_result",
     "execution_count": 11,
     "data": {
      "text/plain": "{\n  \"success\": true,\n  \"result\": {\n    \"observed_value\": \"float64\"\n  },\n  \"meta\": {},\n  \"exception_info\": {\n    \"raised_exception\": false,\n    \"exception_traceback\": null,\n    \"exception_message\": null\n  }\n}"
     },
     "metadata": {}
    }
   ]
  },
  {
   "cell_type": "markdown",
   "source": "#### `Age`",
   "metadata": {
    "cell_id": "00016-56c7a22d-4b91-4c35-be63-6d79d4096f20",
    "deepnote_cell_type": "markdown"
   }
  },
  {
   "cell_type": "code",
   "source": "validator.active_batch.data.dataframe['Age'].describe()",
   "metadata": {
    "tags": [],
    "cell_id": "00016-b6e4abd4-fc4d-42da-89a3-e79bdd67f639",
    "deepnote_to_be_reexecuted": false,
    "source_hash": "f8b3e26",
    "execution_start": 1633637815549,
    "execution_millis": 11,
    "deepnote_cell_type": "code"
   },
   "outputs": [
    {
     "output_type": "execute_result",
     "execution_count": 12,
     "data": {
      "text/plain": "count    610.000000\nmean     36.050820 \nstd      8.918296  \nmin      19.000000 \n25%      29.000000 \n50%      35.000000 \n75%      42.000000 \nmax      61.000000 \nName: Age, dtype: float64"
     },
     "metadata": {}
    }
   ],
   "execution_count": 12
  },
  {
   "cell_type": "code",
   "metadata": {
    "cell_id": "00017-d5ede672-8c11-4446-b753-e2c178d745f1",
    "deepnote_to_be_reexecuted": false,
    "source_hash": "6bc7bee3",
    "execution_start": 1633637816139,
    "execution_millis": 90,
    "deepnote_cell_type": "code"
   },
   "source": "\nvalidator.expect_column_min_to_be_between(column='Age', max_value=12, min_value=10)",
   "execution_count": 13,
   "outputs": [
    {
     "data": {
      "text/plain": "Calculating Metrics:   0%|          | 0/3 [00:00<?, ?it/s]",
      "application/vnd.jupyter.widget-view+json": {
       "version_major": 2,
       "version_minor": 0,
       "model_id": "d84bcb55711b4495a96a7270d7a9fe58"
      }
     },
     "metadata": {},
     "output_type": "display_data"
    },
    {
     "output_type": "execute_result",
     "execution_count": 13,
     "data": {
      "text/plain": "{\n  \"success\": false,\n  \"result\": {\n    \"observed_value\": 19\n  },\n  \"meta\": {},\n  \"exception_info\": {\n    \"raised_exception\": false,\n    \"exception_traceback\": null,\n    \"exception_message\": null\n  }\n}"
     },
     "metadata": {}
    }
   ]
  },
  {
   "cell_type": "code",
   "metadata": {
    "cell_id": "00018-53d40c68-2a71-4834-9fa5-6651ee74a390",
    "deepnote_to_be_reexecuted": false,
    "source_hash": "30577458",
    "execution_start": 1633637816701,
    "execution_millis": 93,
    "deepnote_cell_type": "code"
   },
   "source": "\nvalidator.expect_column_max_to_be_between(column='Age', max_value=70, min_value=57)",
   "execution_count": 14,
   "outputs": [
    {
     "data": {
      "text/plain": "Calculating Metrics:   0%|          | 0/3 [00:00<?, ?it/s]",
      "application/vnd.jupyter.widget-view+json": {
       "version_major": 2,
       "version_minor": 0,
       "model_id": "3b7244594ecf40d0a6c0ed185a62bf3e"
      }
     },
     "metadata": {},
     "output_type": "display_data"
    },
    {
     "output_type": "execute_result",
     "execution_count": 14,
     "data": {
      "text/plain": "{\n  \"success\": true,\n  \"result\": {\n    \"observed_value\": 61\n  },\n  \"meta\": {},\n  \"exception_info\": {\n    \"raised_exception\": false,\n    \"exception_traceback\": null,\n    \"exception_message\": null\n  }\n}"
     },
     "metadata": {}
    }
   ]
  },
  {
   "cell_type": "code",
   "metadata": {
    "cell_id": "00019-385c5fd5-f0ed-4b89-a412-d4aa3c0ee496",
    "deepnote_to_be_reexecuted": false,
    "source_hash": "534d2ffe",
    "execution_start": 1633637818438,
    "execution_millis": 110,
    "deepnote_cell_type": "code"
   },
   "source": "\nvalidator.expect_column_mean_to_be_between(column='Age', max_value=40, min_value=30)",
   "execution_count": 15,
   "outputs": [
    {
     "data": {
      "text/plain": "Calculating Metrics:   0%|          | 0/3 [00:00<?, ?it/s]",
      "application/vnd.jupyter.widget-view+json": {
       "version_major": 2,
       "version_minor": 0,
       "model_id": "371fcd362b564142b235a046713414c2"
      }
     },
     "metadata": {},
     "output_type": "display_data"
    },
    {
     "output_type": "execute_result",
     "execution_count": 15,
     "data": {
      "text/plain": "{\n  \"success\": true,\n  \"result\": {\n    \"observed_value\": 36.05081967213115\n  },\n  \"meta\": {},\n  \"exception_info\": {\n    \"raised_exception\": false,\n    \"exception_traceback\": null,\n    \"exception_message\": null\n  }\n}"
     },
     "metadata": {}
    }
   ]
  },
  {
   "cell_type": "code",
   "metadata": {
    "cell_id": "00023-e6668ec5-815b-44b6-8f0b-a3351cd945bc",
    "deepnote_to_be_reexecuted": false,
    "source_hash": "f415c27d",
    "execution_start": 1633637819080,
    "execution_millis": 38,
    "deepnote_cell_type": "code"
   },
   "source": "\nvalidator.expect_column_values_to_not_be_null(column='Age')",
   "execution_count": 16,
   "outputs": [
    {
     "data": {
      "text/plain": "Calculating Metrics:   0%|          | 0/6 [00:00<?, ?it/s]",
      "application/vnd.jupyter.widget-view+json": {
       "version_major": 2,
       "version_minor": 0,
       "model_id": "0435f137a2224aadb78b5cd3ea502706"
      }
     },
     "metadata": {},
     "output_type": "display_data"
    },
    {
     "output_type": "execute_result",
     "execution_count": 16,
     "data": {
      "text/plain": "{\n  \"success\": true,\n  \"result\": {\n    \"element_count\": 610,\n    \"unexpected_count\": 0,\n    \"unexpected_percent\": 0.0,\n    \"partial_unexpected_list\": []\n  },\n  \"meta\": {},\n  \"exception_info\": {\n    \"raised_exception\": false,\n    \"exception_traceback\": null,\n    \"exception_message\": null\n  }\n}"
     },
     "metadata": {}
    }
   ]
  },
  {
   "cell_type": "code",
   "metadata": {
    "cell_id": "00025-3b572ced-67bd-4bb9-bf59-3a24a5a66b86",
    "deepnote_to_be_reexecuted": false,
    "source_hash": "d7aa5f2d",
    "execution_start": 1633637820576,
    "execution_millis": 25,
    "deepnote_cell_type": "code"
   },
   "source": "\nvalidator.expect_column_values_to_be_in_type_list(column='Age', type_list=['INTEGER', 'integer', 'int', 'int_', 'int8', 'int16', 'int32', 'int64', 'uint8', 'uint16', 'uint32', 'uint64', 'INT', 'INTEGER', 'INT64', 'TINYINT', 'BYTEINT', 'SMALLINT', 'BIGINT', 'IntegerType', 'LongType'])",
   "execution_count": 17,
   "outputs": [
    {
     "output_type": "execute_result",
     "execution_count": 17,
     "data": {
      "text/plain": "{\n  \"success\": true,\n  \"result\": {\n    \"observed_value\": \"int64\"\n  },\n  \"meta\": {},\n  \"exception_info\": {\n    \"raised_exception\": false,\n    \"exception_traceback\": null,\n    \"exception_message\": null\n  }\n}"
     },
     "metadata": {}
    }
   ]
  },
  {
   "cell_type": "markdown",
   "source": "#### `Area Income`",
   "metadata": {
    "cell_id": "00026-5184d599-e2f9-454e-a9f6-9f98e0ac43ee",
    "deepnote_cell_type": "markdown"
   }
  },
  {
   "cell_type": "code",
   "source": "validator.active_batch.data.dataframe['Area Income'].describe()",
   "metadata": {
    "tags": [],
    "cell_id": "00024-0eabd10e-2b13-4d21-b7f9-cfd9259672ba",
    "deepnote_to_be_reexecuted": false,
    "source_hash": "1917a650",
    "execution_start": 1633637823372,
    "execution_millis": 26,
    "deepnote_cell_type": "code"
   },
   "outputs": [
    {
     "output_type": "execute_result",
     "execution_count": 18,
     "data": {
      "text/plain": "count    610.000000  \nmean     55365.620951\nstd      12992.334779\nmin      14548.060000\n25%      47688.815000\n50%      57532.600000\n75%      65101.792500\nmax      79484.800000\nName: Area Income, dtype: float64"
     },
     "metadata": {}
    }
   ],
   "execution_count": 18
  },
  {
   "cell_type": "code",
   "metadata": {
    "cell_id": "00027-5463e33f-b852-4d1e-bc44-a53e2b6eb9aa",
    "deepnote_to_be_reexecuted": false,
    "source_hash": "6a9ca75b",
    "execution_start": 1633637824208,
    "execution_millis": 85,
    "deepnote_cell_type": "code"
   },
   "source": "\nvalidator.expect_column_min_to_be_between(column='Area Income', max_value=15000, min_value=12000)",
   "execution_count": 19,
   "outputs": [
    {
     "data": {
      "text/plain": "Calculating Metrics:   0%|          | 0/3 [00:00<?, ?it/s]",
      "application/vnd.jupyter.widget-view+json": {
       "version_major": 2,
       "version_minor": 0,
       "model_id": "87ecdca02155473d92f03b11c73f3bc7"
      }
     },
     "metadata": {},
     "output_type": "display_data"
    },
    {
     "output_type": "execute_result",
     "execution_count": 19,
     "data": {
      "text/plain": "{\n  \"success\": true,\n  \"result\": {\n    \"observed_value\": 14548.06\n  },\n  \"meta\": {},\n  \"exception_info\": {\n    \"raised_exception\": false,\n    \"exception_traceback\": null,\n    \"exception_message\": null\n  }\n}"
     },
     "metadata": {}
    }
   ]
  },
  {
   "cell_type": "code",
   "metadata": {
    "cell_id": "00028-30dd8eee-7a3d-4025-8771-5ae16ec1b921",
    "deepnote_to_be_reexecuted": false,
    "source_hash": "936b2911",
    "execution_start": 1633637824918,
    "execution_millis": 78,
    "deepnote_cell_type": "code"
   },
   "source": "\nvalidator.expect_column_max_to_be_between(column='Area Income', max_value=80000, min_value=70000)",
   "execution_count": 20,
   "outputs": [
    {
     "data": {
      "text/plain": "Calculating Metrics:   0%|          | 0/3 [00:00<?, ?it/s]",
      "application/vnd.jupyter.widget-view+json": {
       "version_major": 2,
       "version_minor": 0,
       "model_id": "27567b122b6541f1aa8781124aebcbbe"
      }
     },
     "metadata": {},
     "output_type": "display_data"
    },
    {
     "output_type": "execute_result",
     "execution_count": 20,
     "data": {
      "text/plain": "{\n  \"success\": true,\n  \"result\": {\n    \"observed_value\": 79484.8\n  },\n  \"meta\": {},\n  \"exception_info\": {\n    \"raised_exception\": false,\n    \"exception_traceback\": null,\n    \"exception_message\": null\n  }\n}"
     },
     "metadata": {}
    }
   ]
  },
  {
   "cell_type": "code",
   "metadata": {
    "cell_id": "00029-a373c1c3-10c5-4be2-b084-6f5ecb2a75bc",
    "deepnote_to_be_reexecuted": false,
    "source_hash": "e357bd22",
    "execution_start": 1633637825322,
    "execution_millis": 95,
    "deepnote_cell_type": "code"
   },
   "source": "\nvalidator.expect_column_mean_to_be_between(column='Area Income', max_value=65000, min_value=55000)",
   "execution_count": 21,
   "outputs": [
    {
     "data": {
      "text/plain": "Calculating Metrics:   0%|          | 0/3 [00:00<?, ?it/s]",
      "application/vnd.jupyter.widget-view+json": {
       "version_major": 2,
       "version_minor": 0,
       "model_id": "a806a3858e094d999562dc2d1b85c14b"
      }
     },
     "metadata": {},
     "output_type": "display_data"
    },
    {
     "output_type": "execute_result",
     "execution_count": 21,
     "data": {
      "text/plain": "{\n  \"success\": true,\n  \"result\": {\n    \"observed_value\": 55365.62095081966\n  },\n  \"meta\": {},\n  \"exception_info\": {\n    \"raised_exception\": false,\n    \"exception_traceback\": null,\n    \"exception_message\": null\n  }\n}"
     },
     "metadata": {}
    }
   ]
  },
  {
   "cell_type": "code",
   "metadata": {
    "cell_id": "00032-4a9c7b47-c19b-4dcf-a765-6f9025f9326b",
    "deepnote_to_be_reexecuted": false,
    "source_hash": "2e6b9aec",
    "execution_start": 1633637825855,
    "execution_millis": 83,
    "deepnote_cell_type": "code"
   },
   "source": "\nvalidator.expect_column_values_to_not_be_null(column='Area Income')",
   "execution_count": 22,
   "outputs": [
    {
     "data": {
      "text/plain": "Calculating Metrics:   0%|          | 0/6 [00:00<?, ?it/s]",
      "application/vnd.jupyter.widget-view+json": {
       "version_major": 2,
       "version_minor": 0,
       "model_id": "41622fc7653a47589293102880dc61e9"
      }
     },
     "metadata": {},
     "output_type": "display_data"
    },
    {
     "output_type": "execute_result",
     "execution_count": 22,
     "data": {
      "text/plain": "{\n  \"success\": true,\n  \"result\": {\n    \"element_count\": 610,\n    \"unexpected_count\": 0,\n    \"unexpected_percent\": 0.0,\n    \"partial_unexpected_list\": []\n  },\n  \"meta\": {},\n  \"exception_info\": {\n    \"raised_exception\": false,\n    \"exception_traceback\": null,\n    \"exception_message\": null\n  }\n}"
     },
     "metadata": {}
    }
   ]
  },
  {
   "cell_type": "code",
   "metadata": {
    "cell_id": "00034-a25d60c7-ffc7-451f-b991-aa762c1dcf65",
    "deepnote_to_be_reexecuted": false,
    "source_hash": "4a4b791b",
    "execution_start": 1633637826198,
    "execution_millis": 5,
    "deepnote_cell_type": "code"
   },
   "source": "\nvalidator.expect_column_values_to_be_in_type_list(column='Area Income', type_list=['FLOAT', 'FLOAT4', 'FLOAT8', 'FLOAT64', 'DOUBLE', 'DOUBLE_PRECISION', 'NUMERIC', 'FloatType', 'DoubleType', 'float_', 'float16', 'float32', 'float64', 'number', 'DECIMAL', 'REAL'])",
   "execution_count": 23,
   "outputs": [
    {
     "output_type": "execute_result",
     "execution_count": 23,
     "data": {
      "text/plain": "{\n  \"success\": true,\n  \"result\": {\n    \"observed_value\": \"float64\"\n  },\n  \"meta\": {},\n  \"exception_info\": {\n    \"raised_exception\": false,\n    \"exception_traceback\": null,\n    \"exception_message\": null\n  }\n}"
     },
     "metadata": {}
    }
   ]
  },
  {
   "cell_type": "markdown",
   "source": "#### `Daily Internet Usage`",
   "metadata": {
    "cell_id": "00035-24b826c0-a2e2-4385-8a0e-b6f228b626d3",
    "deepnote_cell_type": "markdown"
   }
  },
  {
   "cell_type": "code",
   "metadata": {
    "cell_id": "00036-0853f172-4376-4c69-8d4a-e0c5de42f1ca",
    "deepnote_to_be_reexecuted": false,
    "source_hash": "bd474f46",
    "execution_start": 1633637827511,
    "execution_millis": 98,
    "deepnote_cell_type": "code"
   },
   "source": " \nvalidator.expect_column_min_to_be_between(column='Daily Internet Usage', max_value=110, min_value=95)",
   "execution_count": 24,
   "outputs": [
    {
     "data": {
      "text/plain": "Calculating Metrics:   0%|          | 0/3 [00:00<?, ?it/s]",
      "application/vnd.jupyter.widget-view+json": {
       "version_major": 2,
       "version_minor": 0,
       "model_id": "8267f7b54b2d4f539b6423b12d907a8f"
      }
     },
     "metadata": {},
     "output_type": "display_data"
    },
    {
     "output_type": "execute_result",
     "execution_count": 24,
     "data": {
      "text/plain": "{\n  \"success\": true,\n  \"result\": {\n    \"observed_value\": 105.0\n  },\n  \"meta\": {},\n  \"exception_info\": {\n    \"raised_exception\": false,\n    \"exception_traceback\": null,\n    \"exception_message\": null\n  }\n}"
     },
     "metadata": {}
    }
   ]
  },
  {
   "cell_type": "code",
   "metadata": {
    "cell_id": "00037-9110f47d-9522-4fb5-8c8a-1b6b6acea785",
    "deepnote_to_be_reexecuted": false,
    "source_hash": "285abc24",
    "execution_start": 1633637828086,
    "execution_millis": 64,
    "deepnote_cell_type": "code"
   },
   "source": "\nvalidator.expect_column_max_to_be_between(column='Daily Internet Usage', max_value=270, min_value=250)",
   "execution_count": 25,
   "outputs": [
    {
     "data": {
      "text/plain": "Calculating Metrics:   0%|          | 0/3 [00:00<?, ?it/s]",
      "application/vnd.jupyter.widget-view+json": {
       "version_major": 2,
       "version_minor": 0,
       "model_id": "729a9b34979a44709197ebeca1dde211"
      }
     },
     "metadata": {},
     "output_type": "display_data"
    },
    {
     "output_type": "execute_result",
     "execution_count": 25,
     "data": {
      "text/plain": "{\n  \"success\": true,\n  \"result\": {\n    \"observed_value\": 269.96\n  },\n  \"meta\": {},\n  \"exception_info\": {\n    \"raised_exception\": false,\n    \"exception_traceback\": null,\n    \"exception_message\": null\n  }\n}"
     },
     "metadata": {}
    }
   ]
  },
  {
   "cell_type": "code",
   "metadata": {
    "cell_id": "00038-d43a16e4-8993-4e78-bc02-a610ea5afbba",
    "deepnote_to_be_reexecuted": false,
    "source_hash": "70cbbf18",
    "execution_start": 1633637828756,
    "execution_millis": 69,
    "deepnote_cell_type": "code"
   },
   "source": "\nvalidator.expect_column_mean_to_be_between(column='Daily Internet Usage', max_value=185, min_value=170)",
   "execution_count": 26,
   "outputs": [
    {
     "data": {
      "text/plain": "Calculating Metrics:   0%|          | 0/3 [00:00<?, ?it/s]",
      "application/vnd.jupyter.widget-view+json": {
       "version_major": 2,
       "version_minor": 0,
       "model_id": "7518f28ccb304632a5832d544da90e77"
      }
     },
     "metadata": {},
     "output_type": "display_data"
    },
    {
     "output_type": "execute_result",
     "execution_count": 26,
     "data": {
      "text/plain": "{\n  \"success\": true,\n  \"result\": {\n    \"observed_value\": 179.4397868852459\n  },\n  \"meta\": {},\n  \"exception_info\": {\n    \"raised_exception\": false,\n    \"exception_traceback\": null,\n    \"exception_message\": null\n  }\n}"
     },
     "metadata": {}
    }
   ]
  },
  {
   "cell_type": "code",
   "metadata": {
    "cell_id": "00041-9d0de7dc-d3cf-43ed-a214-8723b54bfcaf",
    "deepnote_to_be_reexecuted": false,
    "source_hash": "53a9889a",
    "execution_start": 1633637830375,
    "execution_millis": 107,
    "deepnote_cell_type": "code"
   },
   "source": "\nvalidator.expect_column_values_to_not_be_null(column='Daily Internet Usage')",
   "execution_count": 27,
   "outputs": [
    {
     "data": {
      "text/plain": "Calculating Metrics:   0%|          | 0/6 [00:00<?, ?it/s]",
      "application/vnd.jupyter.widget-view+json": {
       "version_major": 2,
       "version_minor": 0,
       "model_id": "45e535eeeda247f4804420f027a0014c"
      }
     },
     "metadata": {},
     "output_type": "display_data"
    },
    {
     "output_type": "execute_result",
     "execution_count": 27,
     "data": {
      "text/plain": "{\n  \"success\": true,\n  \"result\": {\n    \"element_count\": 610,\n    \"unexpected_count\": 0,\n    \"unexpected_percent\": 0.0,\n    \"partial_unexpected_list\": []\n  },\n  \"meta\": {},\n  \"exception_info\": {\n    \"raised_exception\": false,\n    \"exception_traceback\": null,\n    \"exception_message\": null\n  }\n}"
     },
     "metadata": {}
    }
   ]
  },
  {
   "cell_type": "code",
   "metadata": {
    "cell_id": "00043-edc7d4db-c534-4ebe-95ee-b1143f0e91c3",
    "deepnote_to_be_reexecuted": false,
    "source_hash": "ed46a9cc",
    "execution_start": 1633637830866,
    "execution_millis": 15,
    "deepnote_cell_type": "code"
   },
   "source": "\nvalidator.expect_column_values_to_be_in_type_list(column='Daily Internet Usage', type_list=['FLOAT', 'FLOAT4', 'FLOAT8', 'FLOAT64', 'DOUBLE', 'DOUBLE_PRECISION', 'NUMERIC', 'FloatType', 'DoubleType', 'float_', 'float16', 'float32', 'float64', 'number', 'DECIMAL', 'REAL'])",
   "execution_count": 28,
   "outputs": [
    {
     "output_type": "execute_result",
     "execution_count": 28,
     "data": {
      "text/plain": "{\n  \"success\": true,\n  \"result\": {\n    \"observed_value\": \"float64\"\n  },\n  \"meta\": {},\n  \"exception_info\": {\n    \"raised_exception\": false,\n    \"exception_traceback\": null,\n    \"exception_message\": null\n  }\n}"
     },
     "metadata": {}
    }
   ]
  },
  {
   "cell_type": "markdown",
   "source": "#### `Ad Topic Line`",
   "metadata": {
    "cell_id": "00044-d20ec7cf-5bb7-4956-b5c6-80d94d570353",
    "deepnote_cell_type": "markdown"
   }
  },
  {
   "cell_type": "code",
   "metadata": {
    "cell_id": "00045-3726d70b-8e66-45cc-9bf3-8878f75a9aae",
    "deepnote_to_be_reexecuted": false,
    "source_hash": "294b4416",
    "execution_start": 1633637833439,
    "execution_millis": 101,
    "deepnote_cell_type": "code"
   },
   "source": "\nvalidator.expect_column_values_to_not_be_null(column='Ad Topic Line')",
   "execution_count": 29,
   "outputs": [
    {
     "data": {
      "text/plain": "Calculating Metrics:   0%|          | 0/6 [00:00<?, ?it/s]",
      "application/vnd.jupyter.widget-view+json": {
       "version_major": 2,
       "version_minor": 0,
       "model_id": "efb919917bf94d52b27dc3d482f6e3e1"
      }
     },
     "metadata": {},
     "output_type": "display_data"
    },
    {
     "output_type": "execute_result",
     "execution_count": 29,
     "data": {
      "text/plain": "{\n  \"success\": true,\n  \"result\": {\n    \"element_count\": 610,\n    \"unexpected_count\": 0,\n    \"unexpected_percent\": 0.0,\n    \"partial_unexpected_list\": []\n  },\n  \"meta\": {},\n  \"exception_info\": {\n    \"raised_exception\": false,\n    \"exception_traceback\": null,\n    \"exception_message\": null\n  }\n}"
     },
     "metadata": {}
    }
   ]
  },
  {
   "cell_type": "code",
   "metadata": {
    "cell_id": "00047-6e0c983d-dce1-4b2f-b947-4f8d91b38e67",
    "deepnote_to_be_reexecuted": false,
    "source_hash": "13424311",
    "execution_start": 1633637834866,
    "execution_millis": 111,
    "deepnote_cell_type": "code"
   },
   "source": "\nvalidator.expect_column_values_to_be_in_type_list(column='Ad Topic Line', type_list=['CHAR', 'NCHAR', 'VARCHAR', 'NVARCHAR', 'TEXT', 'NTEXT', 'STRING', 'StringType', 'string', 'str', 'object', \"dtype('O')\"])",
   "execution_count": 30,
   "outputs": [
    {
     "data": {
      "text/plain": "Calculating Metrics:   0%|          | 0/8 [00:00<?, ?it/s]",
      "application/vnd.jupyter.widget-view+json": {
       "version_major": 2,
       "version_minor": 0,
       "model_id": "61a4a64074ad4bc1b41d8124a303677c"
      }
     },
     "metadata": {},
     "output_type": "display_data"
    },
    {
     "output_type": "execute_result",
     "execution_count": 30,
     "data": {
      "text/plain": "{\n  \"success\": true,\n  \"result\": {\n    \"element_count\": 610,\n    \"unexpected_count\": 0,\n    \"unexpected_percent\": 0.0,\n    \"partial_unexpected_list\": [],\n    \"missing_count\": 0,\n    \"missing_percent\": 0.0,\n    \"unexpected_percent_total\": 0.0,\n    \"unexpected_percent_nonmissing\": 0.0\n  },\n  \"meta\": {},\n  \"exception_info\": {\n    \"raised_exception\": false,\n    \"exception_traceback\": null,\n    \"exception_message\": null\n  }\n}"
     },
     "metadata": {}
    }
   ]
  },
  {
   "cell_type": "markdown",
   "source": "#### `City`",
   "metadata": {
    "cell_id": "00048-2d4a944a-0b19-46e3-abd2-e34cca085368",
    "deepnote_cell_type": "markdown"
   }
  },
  {
   "cell_type": "code",
   "metadata": {
    "cell_id": "00049-3a23789e-607e-4ecb-8351-8da0736007b8",
    "deepnote_to_be_reexecuted": false,
    "source_hash": "d1e21fa3",
    "execution_start": 1633637835600,
    "execution_millis": 90,
    "deepnote_cell_type": "code"
   },
   "source": "\nvalidator.expect_column_values_to_not_be_null(column='City')",
   "execution_count": 31,
   "outputs": [
    {
     "data": {
      "text/plain": "Calculating Metrics:   0%|          | 0/6 [00:00<?, ?it/s]",
      "application/vnd.jupyter.widget-view+json": {
       "version_major": 2,
       "version_minor": 0,
       "model_id": "6950227dc7754faabec81ea9bf970d8f"
      }
     },
     "metadata": {},
     "output_type": "display_data"
    },
    {
     "output_type": "execute_result",
     "execution_count": 31,
     "data": {
      "text/plain": "{\n  \"success\": true,\n  \"result\": {\n    \"element_count\": 610,\n    \"unexpected_count\": 0,\n    \"unexpected_percent\": 0.0,\n    \"partial_unexpected_list\": []\n  },\n  \"meta\": {},\n  \"exception_info\": {\n    \"raised_exception\": false,\n    \"exception_traceback\": null,\n    \"exception_message\": null\n  }\n}"
     },
     "metadata": {}
    }
   ]
  },
  {
   "cell_type": "code",
   "metadata": {
    "cell_id": "00050-7f8cca05-7044-43d5-b46a-dc04fb5d0728",
    "deepnote_to_be_reexecuted": false,
    "source_hash": "dc705f44",
    "execution_start": 1633637835887,
    "execution_millis": 92,
    "deepnote_cell_type": "code"
   },
   "source": "\nvalidator.expect_column_proportion_of_unique_values_to_be_between(column='City', max_value=0.98, min_value=0.9)",
   "execution_count": 32,
   "outputs": [
    {
     "data": {
      "text/plain": "Calculating Metrics:   0%|          | 0/7 [00:00<?, ?it/s]",
      "application/vnd.jupyter.widget-view+json": {
       "version_major": 2,
       "version_minor": 0,
       "model_id": "fa3262b5cd0344aaa5e4b83dcfa424fe"
      }
     },
     "metadata": {},
     "output_type": "display_data"
    },
    {
     "output_type": "execute_result",
     "execution_count": 32,
     "data": {
      "text/plain": "{\n  \"success\": false,\n  \"result\": {\n    \"observed_value\": 0.9819672131147541\n  },\n  \"meta\": {},\n  \"exception_info\": {\n    \"raised_exception\": false,\n    \"exception_traceback\": null,\n    \"exception_message\": null\n  }\n}"
     },
     "metadata": {}
    }
   ]
  },
  {
   "cell_type": "code",
   "metadata": {
    "cell_id": "00051-94d7e218-13ce-478a-be0e-e67007442441",
    "deepnote_to_be_reexecuted": false,
    "source_hash": "3cce96fb",
    "execution_start": 1633637836171,
    "execution_millis": 98,
    "deepnote_cell_type": "code"
   },
   "source": "\nvalidator.expect_column_values_to_be_in_type_list(column='City', type_list=['CHAR', 'NCHAR', 'VARCHAR', 'NVARCHAR', 'TEXT', 'NTEXT', 'STRING', 'StringType', 'string', 'str', 'object', \"dtype('O')\"])",
   "execution_count": 33,
   "outputs": [
    {
     "data": {
      "text/plain": "Calculating Metrics:   0%|          | 0/8 [00:00<?, ?it/s]",
      "application/vnd.jupyter.widget-view+json": {
       "version_major": 2,
       "version_minor": 0,
       "model_id": "8ee4d5901cea465086b73295c546d72e"
      }
     },
     "metadata": {},
     "output_type": "display_data"
    },
    {
     "output_type": "execute_result",
     "execution_count": 33,
     "data": {
      "text/plain": "{\n  \"success\": true,\n  \"result\": {\n    \"element_count\": 610,\n    \"unexpected_count\": 0,\n    \"unexpected_percent\": 0.0,\n    \"partial_unexpected_list\": [],\n    \"missing_count\": 0,\n    \"missing_percent\": 0.0,\n    \"unexpected_percent_total\": 0.0,\n    \"unexpected_percent_nonmissing\": 0.0\n  },\n  \"meta\": {},\n  \"exception_info\": {\n    \"raised_exception\": false,\n    \"exception_traceback\": null,\n    \"exception_message\": null\n  }\n}"
     },
     "metadata": {}
    }
   ]
  },
  {
   "cell_type": "markdown",
   "source": "#### `Male`",
   "metadata": {
    "cell_id": "00052-09057f21-488d-4ffb-92cd-b72621b8f6aa",
    "deepnote_cell_type": "markdown"
   }
  },
  {
   "cell_type": "code",
   "source": "validator.active_batch.data.dataframe['Male'].describe()",
   "metadata": {
    "tags": [],
    "cell_id": "00043-29906644-9685-4088-9547-7b1642e967d8",
    "deepnote_to_be_reexecuted": false,
    "source_hash": "9812bbd7",
    "execution_start": 1633637836719,
    "execution_millis": 18,
    "deepnote_cell_type": "code"
   },
   "outputs": [
    {
     "output_type": "execute_result",
     "execution_count": 34,
     "data": {
      "text/plain": "count    610.000000\nmean     0.485246  \nstd      0.500192  \nmin      0.000000  \n25%      0.000000  \n50%      0.000000  \n75%      1.000000  \nmax      1.000000  \nName: Male, dtype: float64"
     },
     "metadata": {}
    }
   ],
   "execution_count": 34
  },
  {
   "cell_type": "code",
   "metadata": {
    "cell_id": "00058-f16bbab1-4fae-444d-84d1-2a74037aa9e7",
    "deepnote_to_be_reexecuted": false,
    "source_hash": "2c734854",
    "execution_start": 1633637837137,
    "execution_millis": 70,
    "deepnote_cell_type": "code"
   },
   "source": "\nvalidator.expect_column_values_to_be_in_set(column='Male', value_set=[0, 1])",
   "execution_count": 35,
   "outputs": [
    {
     "data": {
      "text/plain": "Calculating Metrics:   0%|          | 0/8 [00:00<?, ?it/s]",
      "application/vnd.jupyter.widget-view+json": {
       "version_major": 2,
       "version_minor": 0,
       "model_id": "fbfffcf11487407eadbe7a92a9878cd3"
      }
     },
     "metadata": {},
     "output_type": "display_data"
    },
    {
     "output_type": "execute_result",
     "execution_count": 35,
     "data": {
      "text/plain": "{\n  \"success\": true,\n  \"result\": {\n    \"element_count\": 610,\n    \"unexpected_count\": 0,\n    \"unexpected_percent\": 0.0,\n    \"partial_unexpected_list\": [],\n    \"missing_count\": 0,\n    \"missing_percent\": 0.0,\n    \"unexpected_percent_total\": 0.0,\n    \"unexpected_percent_nonmissing\": 0.0\n  },\n  \"meta\": {},\n  \"exception_info\": {\n    \"raised_exception\": false,\n    \"exception_traceback\": null,\n    \"exception_message\": null\n  }\n}"
     },
     "metadata": {}
    }
   ]
  },
  {
   "cell_type": "code",
   "source": "validator.expect_column_mean_to_be_between(column='Male', max_value=0.55, min_value=0.45)",
   "metadata": {
    "tags": [],
    "cell_id": "00045-65da9152-92b0-46aa-8fb1-deae608832b7",
    "deepnote_to_be_reexecuted": false,
    "source_hash": "fb6e9ff1",
    "execution_start": 1633637837414,
    "execution_millis": 75,
    "deepnote_cell_type": "code"
   },
   "outputs": [
    {
     "data": {
      "text/plain": "Calculating Metrics:   0%|          | 0/3 [00:00<?, ?it/s]",
      "application/vnd.jupyter.widget-view+json": {
       "version_major": 2,
       "version_minor": 0,
       "model_id": "80d46afc9f8c490d941711ccb4c641d1"
      }
     },
     "metadata": {},
     "output_type": "display_data"
    },
    {
     "output_type": "execute_result",
     "execution_count": 36,
     "data": {
      "text/plain": "{\n  \"success\": true,\n  \"result\": {\n    \"observed_value\": 0.4852459016393443\n  },\n  \"meta\": {},\n  \"exception_info\": {\n    \"raised_exception\": false,\n    \"exception_traceback\": null,\n    \"exception_message\": null\n  }\n}"
     },
     "metadata": {}
    }
   ],
   "execution_count": 36
  },
  {
   "cell_type": "code",
   "metadata": {
    "cell_id": "00059-a090e74c-bd6f-4ea6-b726-acb377f1b6fd",
    "deepnote_to_be_reexecuted": false,
    "source_hash": "6208844f",
    "execution_start": 1633637838770,
    "execution_millis": 91,
    "deepnote_cell_type": "code"
   },
   "source": "\nvalidator.expect_column_values_to_not_be_null(column='Male')",
   "execution_count": 37,
   "outputs": [
    {
     "data": {
      "text/plain": "Calculating Metrics:   0%|          | 0/6 [00:00<?, ?it/s]",
      "application/vnd.jupyter.widget-view+json": {
       "version_major": 2,
       "version_minor": 0,
       "model_id": "d930428e14874adda31ee1f6133299e1"
      }
     },
     "metadata": {},
     "output_type": "display_data"
    },
    {
     "output_type": "execute_result",
     "execution_count": 37,
     "data": {
      "text/plain": "{\n  \"success\": true,\n  \"result\": {\n    \"element_count\": 610,\n    \"unexpected_count\": 0,\n    \"unexpected_percent\": 0.0,\n    \"partial_unexpected_list\": []\n  },\n  \"meta\": {},\n  \"exception_info\": {\n    \"raised_exception\": false,\n    \"exception_traceback\": null,\n    \"exception_message\": null\n  }\n}"
     },
     "metadata": {}
    }
   ]
  },
  {
   "cell_type": "code",
   "metadata": {
    "cell_id": "00061-e2126b53-a864-4697-8e49-311bfb7483c3",
    "deepnote_to_be_reexecuted": false,
    "source_hash": "78780f19",
    "execution_start": 1633637839004,
    "execution_millis": 22,
    "deepnote_cell_type": "code"
   },
   "source": "\nvalidator.expect_column_values_to_be_in_type_list(column='Male', type_list=['INTEGER', 'integer', 'int', 'int_', 'int8', 'int16', 'int32', 'int64', 'uint8', 'uint16', 'uint32', 'uint64', 'INT', 'INTEGER', 'INT64', 'TINYINT', 'BYTEINT', 'SMALLINT', 'BIGINT', 'IntegerType', 'LongType'])",
   "execution_count": 38,
   "outputs": [
    {
     "output_type": "execute_result",
     "execution_count": 38,
     "data": {
      "text/plain": "{\n  \"success\": true,\n  \"result\": {\n    \"observed_value\": \"int64\"\n  },\n  \"meta\": {},\n  \"exception_info\": {\n    \"raised_exception\": false,\n    \"exception_traceback\": null,\n    \"exception_message\": null\n  }\n}"
     },
     "metadata": {}
    }
   ]
  },
  {
   "cell_type": "markdown",
   "source": "#### `Country`",
   "metadata": {
    "cell_id": "00062-9d92b0c6-f326-4df8-9550-97725b011865",
    "deepnote_cell_type": "markdown"
   }
  },
  {
   "cell_type": "code",
   "metadata": {
    "cell_id": "00063-7d419322-3ba5-4a24-a73a-d985cd417a5c",
    "deepnote_to_be_reexecuted": false,
    "source_hash": "980e0b36",
    "execution_start": 1633637841354,
    "execution_millis": 67,
    "deepnote_cell_type": "code"
   },
   "source": "\nvalidator.expect_column_values_to_not_be_null(column='Country')",
   "execution_count": 39,
   "outputs": [
    {
     "data": {
      "text/plain": "Calculating Metrics:   0%|          | 0/6 [00:00<?, ?it/s]",
      "application/vnd.jupyter.widget-view+json": {
       "version_major": 2,
       "version_minor": 0,
       "model_id": "0fb13330edfe4701a9239aa476a25f21"
      }
     },
     "metadata": {},
     "output_type": "display_data"
    },
    {
     "output_type": "execute_result",
     "execution_count": 39,
     "data": {
      "text/plain": "{\n  \"success\": true,\n  \"result\": {\n    \"element_count\": 610,\n    \"unexpected_count\": 0,\n    \"unexpected_percent\": 0.0,\n    \"partial_unexpected_list\": []\n  },\n  \"meta\": {},\n  \"exception_info\": {\n    \"raised_exception\": false,\n    \"exception_traceback\": null,\n    \"exception_message\": null\n  }\n}"
     },
     "metadata": {}
    }
   ]
  },
  {
   "cell_type": "code",
   "metadata": {
    "cell_id": "00065-fcef4a52-15ab-48cf-a7fd-47c919f34a70",
    "deepnote_to_be_reexecuted": false,
    "source_hash": "19ac0beb",
    "execution_start": 1633637843078,
    "execution_millis": 45,
    "deepnote_cell_type": "code"
   },
   "source": "\nvalidator.expect_column_values_to_be_in_type_list(column='Country', type_list=['CHAR', 'NCHAR', 'VARCHAR', 'NVARCHAR', 'TEXT', 'NTEXT', 'STRING', 'StringType', 'string', 'str', 'object', \"dtype('O')\"])",
   "execution_count": 40,
   "outputs": [
    {
     "data": {
      "text/plain": "Calculating Metrics:   0%|          | 0/8 [00:00<?, ?it/s]",
      "application/vnd.jupyter.widget-view+json": {
       "version_major": 2,
       "version_minor": 0,
       "model_id": "43313383e6b74986be7c71ab31ea2c23"
      }
     },
     "metadata": {},
     "output_type": "display_data"
    },
    {
     "output_type": "execute_result",
     "execution_count": 40,
     "data": {
      "text/plain": "{\n  \"success\": true,\n  \"result\": {\n    \"element_count\": 610,\n    \"unexpected_count\": 0,\n    \"unexpected_percent\": 0.0,\n    \"partial_unexpected_list\": [],\n    \"missing_count\": 0,\n    \"missing_percent\": 0.0,\n    \"unexpected_percent_total\": 0.0,\n    \"unexpected_percent_nonmissing\": 0.0\n  },\n  \"meta\": {},\n  \"exception_info\": {\n    \"raised_exception\": false,\n    \"exception_traceback\": null,\n    \"exception_message\": null\n  }\n}"
     },
     "metadata": {}
    }
   ]
  },
  {
   "cell_type": "markdown",
   "source": "#### `Timestamp`",
   "metadata": {
    "cell_id": "00066-1bfbff9e-9b3e-42d4-b077-1a58f2268dee",
    "deepnote_cell_type": "markdown"
   }
  },
  {
   "cell_type": "code",
   "metadata": {
    "cell_id": "00067-bbb79ef1-1f5a-4ee3-a5fb-64ce603f7402",
    "deepnote_to_be_reexecuted": false,
    "source_hash": "b578a8a3",
    "execution_start": 1633637846350,
    "execution_millis": 53,
    "deepnote_cell_type": "code"
   },
   "source": "\nvalidator.expect_column_values_to_not_be_null(column='Timestamp')",
   "execution_count": 41,
   "outputs": [
    {
     "data": {
      "text/plain": "Calculating Metrics:   0%|          | 0/6 [00:00<?, ?it/s]",
      "application/vnd.jupyter.widget-view+json": {
       "version_major": 2,
       "version_minor": 0,
       "model_id": "824fcff897df4a7f8f5176e3af991639"
      }
     },
     "metadata": {},
     "output_type": "display_data"
    },
    {
     "output_type": "execute_result",
     "execution_count": 41,
     "data": {
      "text/plain": "{\n  \"success\": true,\n  \"result\": {\n    \"element_count\": 610,\n    \"unexpected_count\": 0,\n    \"unexpected_percent\": 0.0,\n    \"partial_unexpected_list\": []\n  },\n  \"meta\": {},\n  \"exception_info\": {\n    \"raised_exception\": false,\n    \"exception_traceback\": null,\n    \"exception_message\": null\n  }\n}"
     },
     "metadata": {}
    }
   ]
  },
  {
   "cell_type": "code",
   "metadata": {
    "cell_id": "00069-bc39526a-14bf-4b7d-8eec-9cd018d7fb25",
    "deepnote_to_be_reexecuted": false,
    "source_hash": "a7d02439",
    "execution_start": 1633637846919,
    "execution_millis": 168,
    "deepnote_cell_type": "code"
   },
   "source": "\nvalidator.expect_column_values_to_be_in_type_list(column='Timestamp', type_list=['CHAR', 'NCHAR', 'VARCHAR', 'NVARCHAR', 'TEXT', 'NTEXT', 'STRING', 'StringType', 'string', 'str', 'object', \"dtype('O')\"])",
   "execution_count": 42,
   "outputs": [
    {
     "data": {
      "text/plain": "Calculating Metrics:   0%|          | 0/8 [00:00<?, ?it/s]",
      "application/vnd.jupyter.widget-view+json": {
       "version_major": 2,
       "version_minor": 0,
       "model_id": "dc2d3267b48040b0b975e118cd8231ac"
      }
     },
     "metadata": {},
     "output_type": "display_data"
    },
    {
     "output_type": "execute_result",
     "execution_count": 42,
     "data": {
      "text/plain": "{\n  \"success\": true,\n  \"result\": {\n    \"element_count\": 610,\n    \"unexpected_count\": 0,\n    \"unexpected_percent\": 0.0,\n    \"partial_unexpected_list\": [],\n    \"missing_count\": 0,\n    \"missing_percent\": 0.0,\n    \"unexpected_percent_total\": 0.0,\n    \"unexpected_percent_nonmissing\": 0.0\n  },\n  \"meta\": {},\n  \"exception_info\": {\n    \"raised_exception\": false,\n    \"exception_traceback\": null,\n    \"exception_message\": null\n  }\n}"
     },
     "metadata": {}
    }
   ]
  },
  {
   "cell_type": "markdown",
   "source": "#### `Clicked on Ad`",
   "metadata": {
    "cell_id": "00070-2891f502-d5eb-4a90-a730-76dc2eab2efe",
    "deepnote_cell_type": "markdown"
   }
  },
  {
   "cell_type": "code",
   "metadata": {
    "cell_id": "00073-5f122c94-b488-4282-880d-c4f4c30a7302",
    "deepnote_to_be_reexecuted": false,
    "source_hash": "662a3af2",
    "execution_start": 1633637848587,
    "execution_millis": 66,
    "deepnote_cell_type": "code"
   },
   "source": "\nvalidator.expect_column_mean_to_be_between(column='Clicked on Ad', max_value=0.55, min_value=0.45)",
   "execution_count": 43,
   "outputs": [
    {
     "data": {
      "text/plain": "Calculating Metrics:   0%|          | 0/3 [00:00<?, ?it/s]",
      "application/vnd.jupyter.widget-view+json": {
       "version_major": 2,
       "version_minor": 0,
       "model_id": "139088cede484e4e819a1c2eb77f9dd9"
      }
     },
     "metadata": {},
     "output_type": "display_data"
    },
    {
     "output_type": "execute_result",
     "execution_count": 43,
     "data": {
      "text/plain": "{\n  \"success\": true,\n  \"result\": {\n    \"observed_value\": 0.4918032786885246\n  },\n  \"meta\": {},\n  \"exception_info\": {\n    \"raised_exception\": false,\n    \"exception_traceback\": null,\n    \"exception_message\": null\n  }\n}"
     },
     "metadata": {}
    }
   ]
  },
  {
   "cell_type": "code",
   "metadata": {
    "cell_id": "00076-37a42167-6dfa-4d98-bc30-e176a662e965",
    "deepnote_to_be_reexecuted": false,
    "source_hash": "6a8e8875",
    "execution_start": 1633637848885,
    "execution_millis": 106,
    "deepnote_cell_type": "code"
   },
   "source": "\nvalidator.expect_column_values_to_be_in_set(column='Clicked on Ad', value_set=[0, 1])",
   "execution_count": 44,
   "outputs": [
    {
     "data": {
      "text/plain": "Calculating Metrics:   0%|          | 0/8 [00:00<?, ?it/s]",
      "application/vnd.jupyter.widget-view+json": {
       "version_major": 2,
       "version_minor": 0,
       "model_id": "17380383dcf0471cbb015badd2a71e15"
      }
     },
     "metadata": {},
     "output_type": "display_data"
    },
    {
     "output_type": "execute_result",
     "execution_count": 44,
     "data": {
      "text/plain": "{\n  \"success\": true,\n  \"result\": {\n    \"element_count\": 610,\n    \"unexpected_count\": 0,\n    \"unexpected_percent\": 0.0,\n    \"partial_unexpected_list\": [],\n    \"missing_count\": 0,\n    \"missing_percent\": 0.0,\n    \"unexpected_percent_total\": 0.0,\n    \"unexpected_percent_nonmissing\": 0.0\n  },\n  \"meta\": {},\n  \"exception_info\": {\n    \"raised_exception\": false,\n    \"exception_traceback\": null,\n    \"exception_message\": null\n  }\n}"
     },
     "metadata": {}
    }
   ]
  },
  {
   "cell_type": "code",
   "metadata": {
    "cell_id": "00077-53155aa1-5329-4386-8b99-e0982ebb326b",
    "deepnote_to_be_reexecuted": false,
    "source_hash": "2162ce0e",
    "execution_start": 1633637849207,
    "execution_millis": 119,
    "deepnote_cell_type": "code"
   },
   "source": "\nvalidator.expect_column_values_to_not_be_null(column='Clicked on Ad')",
   "execution_count": 45,
   "outputs": [
    {
     "data": {
      "text/plain": "Calculating Metrics:   0%|          | 0/6 [00:00<?, ?it/s]",
      "application/vnd.jupyter.widget-view+json": {
       "version_major": 2,
       "version_minor": 0,
       "model_id": "7d79b05d7ba544678786666c6ab08650"
      }
     },
     "metadata": {},
     "output_type": "display_data"
    },
    {
     "output_type": "execute_result",
     "execution_count": 45,
     "data": {
      "text/plain": "{\n  \"success\": true,\n  \"result\": {\n    \"element_count\": 610,\n    \"unexpected_count\": 0,\n    \"unexpected_percent\": 0.0,\n    \"partial_unexpected_list\": []\n  },\n  \"meta\": {},\n  \"exception_info\": {\n    \"raised_exception\": false,\n    \"exception_traceback\": null,\n    \"exception_message\": null\n  }\n}"
     },
     "metadata": {}
    }
   ]
  },
  {
   "cell_type": "code",
   "metadata": {
    "cell_id": "00079-cc422c78-4e27-476c-b5cc-268dc831a908",
    "deepnote_to_be_reexecuted": false,
    "source_hash": "1a6c766f",
    "execution_start": 1633637850661,
    "execution_millis": 17,
    "deepnote_cell_type": "code"
   },
   "source": "\nvalidator.expect_column_values_to_be_in_type_list(column='Clicked on Ad', type_list=['INTEGER', 'integer', 'int', 'int_', 'int8', 'int16', 'int32', 'int64', 'uint8', 'uint16', 'uint32', 'uint64', 'INT', 'INTEGER', 'INT64', 'TINYINT', 'BYTEINT', 'SMALLINT', 'BIGINT', 'IntegerType', 'LongType'])",
   "execution_count": 46,
   "outputs": [
    {
     "output_type": "execute_result",
     "execution_count": 46,
     "data": {
      "text/plain": "{\n  \"success\": true,\n  \"result\": {\n    \"observed_value\": \"int64\"\n  },\n  \"meta\": {},\n  \"exception_info\": {\n    \"raised_exception\": false,\n    \"exception_traceback\": null,\n    \"exception_message\": null\n  }\n}"
     },
     "metadata": {}
    }
   ]
  },
  {
   "cell_type": "markdown",
   "source": "## Save & Review Your Expectations\n\nLet's save the expectation suite as a JSON file in the `great_expectations/expectations` directory of your project.\n\nLet's now rebuild your Data Docs, which helps you communicate about your data with both machines and humans.",
   "metadata": {
    "cell_id": "00080-6275e6a6-4298-46db-a4bf-c421d77799c7",
    "deepnote_cell_type": "markdown"
   }
  },
  {
   "cell_type": "code",
   "metadata": {
    "cell_id": "00081-a2a2dd46-043f-4df1-8303-35d530c2ec89",
    "deepnote_to_be_reexecuted": false,
    "source_hash": "b6830c36",
    "execution_start": 1633637852431,
    "execution_millis": 3788,
    "deepnote_cell_type": "code"
   },
   "source": "print(validator.get_expectation_suite(discard_failed_expectations=False))\nvalidator.save_expectation_suite(discard_failed_expectations=False)\n\ncheckpoint_config = {\n    \"class_name\": \"SimpleCheckpoint\",\n    \"validations\": [\n        {\n            \"batch_request\": batch_request,\n            \"expectation_suite_name\": expectation_suite_name\n        }\n    ]\n}\ncheckpoint = SimpleCheckpoint(\n    f\"_tmp_checkpoint_{expectation_suite_name}\",\n    context,\n    **checkpoint_config\n)\ncheckpoint_result = checkpoint.run()\n\ncontext.build_data_docs()\n\nvalidation_result_identifier = checkpoint_result.list_validation_result_identifiers()[0]\ncontext.open_data_docs(resource_identifier=validation_result_identifier)",
   "execution_count": 47,
   "outputs": [
    {
     "name": "stdout",
     "text": "    },\n    {\n      \"kwargs\": {\n        \"column\": \"Daily Time Spent on Site\",\n        \"max_value\": 70,\n        \"min_value\": 55\n      },\n      \"meta\": {},\n      \"ge_cloud_id\": null,\n      \"expectation_type\": \"expect_column_mean_to_be_between\"\n    },\n    {\n      \"kwargs\": {\n        \"column\": \"Daily Time Spent on Site\",\n        \"max_value\": 68.33,\n        \"min_value\": 68.33\n      },\n      \"meta\": {},\n      \"ge_cloud_id\": null,\n      \"expectation_type\": \"expect_column_median_to_be_between\"\n    },\n    {\n      \"kwargs\": {\n        \"allow_relative_error\": \"lower\",\n        \"column\": \"Daily Time Spent on Site\",\n        \"quantile_ranges\": {\n          \"quantiles\": [\n            0.05,\n            0.25,\n            0.5,\n            0.75,\n            0.95\n          ],\n          \"value_ranges\": [\n            [\n              37.47,\n              37.47\n            ],\n            [\n              51.5,\n              51.5\n            ],\n            [\n              68.25,\n              68.25\n            ],\n            [\n              78.51,\n              78.51\n            ],\n            [\n              87.09,\n              87.09\n            ]\n          ]\n        }\n      },\n      \"meta\": {},\n      \"ge_cloud_id\": null,\n      \"expectation_type\": \"expect_column_quantile_values_to_be_between\"\n    },\n    {\n      \"kwargs\": {\n        \"column\": \"Daily Time Spent on Site\"\n      },\n      \"meta\": {},\n      \"ge_cloud_id\": null,\n      \"expectation_type\": \"expect_column_values_to_not_be_null\"\n    },\n    {\n      \"kwargs\": {\n        \"column\": \"Daily Time Spent on Site\",\n        \"max_value\": 0.9344262295081968,\n        \"min_value\": 0.9344262295081968\n      },\n      \"meta\": {},\n      \"ge_cloud_id\": null,\n      \"expectation_type\": \"expect_column_proportion_of_unique_values_to_be_between\"\n    },\n    {\n      \"kwargs\": {\n        \"column\": \"Daily Time Spent on Site\",\n        \"type_list\": [\n          \"FLOAT\",\n          \"FLOAT4\",\n          \"FLOAT8\",\n          \"FLOAT64\",\n          \"DOUBLE\",\n          \"DOUBLE_PRECISION\",\n          \"NUMERIC\",\n          \"FloatType\",\n          \"DoubleType\",\n          \"float_\",\n          \"float16\",\n          \"float32\",\n          \"float64\",\n          \"number\",\n          \"DECIMAL\",\n          \"REAL\"\n        ]\n      },\n      \"meta\": {},\n      \"ge_cloud_id\": null,\n      \"expectation_type\": \"expect_column_values_to_be_in_type_list\"\n    },\n    {\n      \"kwargs\": {\n        \"column\": \"Age\",\n        \"max_value\": 12,\n        \"min_value\": 10\n      },\n      \"meta\": {},\n      \"ge_cloud_id\": null,\n      \"expectation_type\": \"expect_column_min_to_be_between\"\n    },\n    {\n      \"kwargs\": {\n        \"column\": \"Age\",\n        \"max_value\": 70,\n        \"min_value\": 57\n      },\n      \"meta\": {},\n      \"ge_cloud_id\": null,\n      \"expectation_type\": \"expect_column_max_to_be_between\"\n    },\n    {\n      \"kwargs\": {\n        \"column\": \"Age\",\n        \"max_value\": 40,\n        \"min_value\": 30\n      },\n      \"meta\": {},\n      \"ge_cloud_id\": null,\n      \"expectation_type\": \"expect_column_mean_to_be_between\"\n    },\n    {\n      \"kwargs\": {\n        \"column\": \"Age\",\n        \"max_value\": 35.0,\n        \"min_value\": 35.0\n      },\n      \"meta\": {},\n      \"ge_cloud_id\": null,\n      \"expectation_type\": \"expect_column_median_to_be_between\"\n    },\n    {\n      \"kwargs\": {\n        \"allow_relative_error\": \"lower\",\n        \"column\": \"Age\",\n        \"quantile_ranges\": {\n          \"quantiles\": [\n            0.05,\n            0.25,\n            0.5,\n            0.75,\n            0.95\n          ],\n          \"value_ranges\": [\n            [\n              23,\n              23\n            ],\n            [\n              29,\n              29\n            ],\n            [\n              35,\n              35\n            ],\n            [\n              42,\n              42\n            ],\n            [\n              52,\n              52\n            ]\n          ]\n        }\n      },\n      \"meta\": {},\n      \"ge_cloud_id\": null,\n      \"expectation_type\": \"expect_column_quantile_values_to_be_between\"\n    },\n    {\n      \"kwargs\": {\n        \"column\": \"Age\",\n        \"value_set\": [\n          19,\n          20,\n          21,\n          22,\n          23,\n          24,\n          25,\n          26,\n          27,\n          28,\n          29,\n          30,\n          31,\n          32,\n          33,\n          34,\n          35,\n          36,\n          37,\n          38,\n          39,\n          40,\n          41,\n          42,\n          43,\n          44,\n          45,\n          46,\n          47,\n          48,\n          49,\n          50,\n          51,\n          52,\n          53,\n          54,\n          55,\n          56,\n          57,\n          58,\n          59,\n          60,\n          61\n        ]\n      },\n      \"meta\": {},\n      \"ge_cloud_id\": null,\n      \"expectation_type\": \"expect_column_values_to_be_in_set\"\n    },\n    {\n      \"kwargs\": {\n        \"column\": \"Age\"\n      },\n      \"meta\": {},\n      \"ge_cloud_id\": null,\n      \"expectation_type\": \"expect_column_values_to_not_be_null\"\n    },\n    {\n      \"kwargs\": {\n        \"column\": \"Age\",\n        \"max_value\": 0.07049180327868852,\n        \"min_value\": 0.07049180327868852\n      },\n      \"meta\": {},\n      \"ge_cloud_id\": null,\n      \"expectation_type\": \"expect_column_proportion_of_unique_values_to_be_between\"\n    },\n    {\n      \"kwargs\": {\n        \"column\": \"Age\",\n        \"type_list\": [\n          \"INTEGER\",\n          \"integer\",\n          \"int\",\n          \"int_\",\n          \"int8\",\n          \"int16\",\n          \"int32\",\n          \"int64\",\n          \"uint8\",\n          \"uint16\",\n          \"uint32\",\n          \"uint64\",\n          \"INT\",\n          \"INTEGER\",\n          \"INT64\",\n          \"TINYINT\",\n          \"BYTEINT\",\n          \"SMALLINT\",\n          \"BIGINT\",\n          \"IntegerType\",\n          \"LongType\"\n        ]\n      },\n      \"meta\": {},\n      \"ge_cloud_id\": null,\n      \"expectation_type\": \"expect_column_values_to_be_in_type_list\"\n    },\n    {\n      \"kwargs\": {\n        \"column\": \"Area Income\",\n        \"max_value\": 15000,\n        \"min_value\": 12000\n      },\n      \"meta\": {},\n      \"ge_cloud_id\": null,\n      \"expectation_type\": \"expect_column_min_to_be_between\"\n    },\n    {\n      \"kwargs\": {\n        \"column\": \"Area Income\",\n        \"max_value\": 80000,\n        \"min_value\": 70000\n      },\n      \"meta\": {},\n      \"ge_cloud_id\": null,\n      \"expectation_type\": \"expect_column_max_to_be_between\"\n    },\n    {\n      \"kwargs\": {\n        \"column\": \"Area Income\",\n        \"max_value\": 65000,\n        \"min_value\": 55000\n      },\n      \"meta\": {},\n      \"ge_cloud_id\": null,\n      \"expectation_type\": \"expect_column_mean_to_be_between\"\n    },\n    {\n      \"kwargs\": {\n        \"column\": \"Area Income\",\n        \"max_value\": 57532.6,\n        \"min_value\": 57532.6\n      },\n      \"meta\": {},\n      \"ge_cloud_id\": null,\n      \"expectation_type\": \"expect_column_median_to_be_between\"\n    },\n    {\n      \"kwargs\": {\n        \"allow_relative_error\": \"lower\",\n        \"column\": \"Area Income\",\n        \"quantile_ranges\": {\n          \"quantiles\": [\n            0.05,\n            0.25,\n            0.5,\n            0.75,\n            0.95\n          ],\n          \"value_ranges\": [\n            [\n              30487.48,\n              30487.48\n            ],\n            [\n              47682.28,\n              47682.28\n            ],\n            [\n              57519.64,\n              57519.64\n            ],\n            [\n              65044.59,\n              65044.59\n            ],\n            [\n              73538.09,\n              73538.09\n            ]\n          ]\n        }\n      },\n      \"meta\": {},\n      \"ge_cloud_id\": null,\n      \"expectation_type\": \"expect_column_quantile_values_to_be_between\"\n    },\n    {\n      \"kwargs\": {\n        \"column\": \"Area Income\"\n      },\n      \"meta\": {},\n      \"ge_cloud_id\": null,\n      \"expectation_type\": \"expect_column_values_to_not_be_null\"\n    },\n    {\n      \"kwargs\": {\n        \"column\": \"Area Income\",\n        \"max_value\": 1.0,\n        \"min_value\": 1.0\n      },\n      \"meta\": {},\n      \"ge_cloud_id\": null,\n      \"expectation_type\": \"expect_column_proportion_of_unique_values_to_be_between\"\n    },\n    {\n      \"kwargs\": {\n        \"column\": \"Area Income\",\n        \"type_list\": [\n          \"FLOAT\",\n          \"FLOAT4\",\n          \"FLOAT8\",\n          \"FLOAT64\",\n          \"DOUBLE\",\n          \"DOUBLE_PRECISION\",\n          \"NUMERIC\",\n          \"FloatType\",\n          \"DoubleType\",\n          \"float_\",\n          \"float16\",\n          \"float32\",\n          \"float64\",\n          \"number\",\n          \"DECIMAL\",\n          \"REAL\"\n        ]\n      },\n      \"meta\": {},\n      \"ge_cloud_id\": null,\n      \"expectation_type\": \"expect_column_values_to_be_in_type_list\"\n    },\n    {\n      \"kwargs\": {\n        \"column\": \"Daily Internet Usage\",\n        \"max_value\": 110,\n        \"min_value\": 95\n      },\n      \"meta\": {},\n      \"ge_cloud_id\": null,\n      \"expectation_type\": \"expect_column_min_to_be_between\"\n    },\n    {\n      \"kwargs\": {\n        \"column\": \"Daily Internet Usage\",\n        \"max_value\": 270,\n        \"min_value\": 250\n      },\n      \"meta\": {},\n      \"ge_cloud_id\": null,\n      \"expectation_type\": \"expect_column_max_to_be_between\"\n    },\n    {\n      \"kwargs\": {\n        \"column\": \"Daily Internet Usage\",\n        \"max_value\": 185,\n        \"min_value\": 170\n      },\n      \"meta\": {},\n      \"ge_cloud_id\": null,\n      \"expectation_type\": \"expect_column_mean_to_be_between\"\n    },\n    {\n      \"kwargs\": {\n        \"column\": \"Daily Internet Usage\",\n        \"max_value\": 183.035,\n        \"min_value\": 183.035\n      },\n      \"meta\": {},\n      \"ge_cloud_id\": null,\n      \"expectation_type\": \"expect_column_median_to_be_between\"\n    },\n    {\n      \"kwargs\": {\n        \"allow_relative_error\": \"lower\",\n        \"column\": \"Daily Internet Usage\",\n        \"quantile_ranges\": {\n          \"quantiles\": [\n            0.05,\n            0.25,\n            0.5,\n            0.75,\n            0.95\n          ],\n          \"value_ranges\": [\n            [\n              113.75,\n              113.75\n            ],\n            [\n              137.2,\n              137.2\n            ],\n            [\n              182.65,\n              182.65\n            ],\n            [\n              217.68,\n              217.68\n            ],\n            [\n              245.89,\n              245.89\n            ]\n          ]\n        }\n      },\n      \"meta\": {},\n      \"ge_cloud_id\": null,\n      \"expectation_type\": \"expect_column_quantile_values_to_be_between\"\n    },\n    {\n      \"kwargs\": {\n        \"column\": \"Daily Internet Usage\"\n      },\n      \"meta\": {},\n      \"ge_cloud_id\": null,\n      \"expectation_type\": \"expect_column_values_to_not_be_null\"\n    },\n    {\n      \"kwargs\": {\n        \"column\": \"Daily Internet Usage\",\n        \"max_value\": 0.9704918032786886,\n        \"min_value\": 0.9704918032786886\n      },\n      \"meta\": {},\n      \"ge_cloud_id\": null,\n      \"expectation_type\": \"expect_column_proportion_of_unique_values_to_be_between\"\n    },\n    {\n      \"kwargs\": {\n        \"column\": \"Daily Internet Usage\",\n        \"type_list\": [\n          \"FLOAT\",\n          \"FLOAT4\",\n          \"FLOAT8\",\n          \"FLOAT64\",\n          \"DOUBLE\",\n          \"DOUBLE_PRECISION\",\n          \"NUMERIC\",\n          \"FloatType\",\n          \"DoubleType\",\n          \"float_\",\n          \"float16\",\n          \"float32\",\n          \"float64\",\n          \"number\",\n          \"DECIMAL\",\n          \"REAL\"\n        ]\n      },\n      \"meta\": {},\n      \"ge_cloud_id\": null,\n      \"expectation_type\": \"expect_column_values_to_be_in_type_list\"\n    },\n    {\n      \"kwargs\": {\n        \"column\": \"Ad Topic Line\"\n      },\n      \"meta\": {},\n      \"ge_cloud_id\": null,\n      \"expectation_type\": \"expect_column_values_to_not_be_null\"\n    },\n    {\n      \"kwargs\": {\n        \"column\": \"Ad Topic Line\",\n        \"max_value\": 1.0,\n        \"min_value\": 1.0\n      },\n      \"meta\": {},\n      \"ge_cloud_id\": null,\n      \"expectation_type\": \"expect_column_proportion_of_unique_values_to_be_between\"\n    },\n    {\n      \"kwargs\": {\n        \"column\": \"Ad Topic Line\",\n        \"type_list\": [\n          \"CHAR\",\n          \"NCHAR\",\n          \"VARCHAR\",\n          \"NVARCHAR\",\n          \"TEXT\",\n          \"NTEXT\",\n          \"STRING\",\n          \"StringType\",\n          \"string\",\n          \"str\",\n          \"object\",\n          \"dtype('O')\"\n        ]\n      },\n      \"meta\": {},\n      \"ge_cloud_id\": null,\n      \"expectation_type\": \"expect_column_values_to_be_in_type_list\"\n    },\n    {\n      \"kwargs\": {\n        \"column\": \"City\"\n      },\n      \"meta\": {},\n      \"ge_cloud_id\": null,\n      \"expectation_type\": \"expect_column_values_to_not_be_null\"\n    },\n    {\n      \"kwargs\": {\n        \"column\": \"City\",\n        \"max_value\": 0.98,\n        \"min_value\": 0.9\n      },\n      \"meta\": {},\n      \"ge_cloud_id\": null,\n      \"expectation_type\": \"expect_column_proportion_of_unique_values_to_be_between\"\n    },\n    {\n      \"kwargs\": {\n        \"column\": \"City\",\n        \"type_list\": [\n          \"CHAR\",\n          \"NCHAR\",\n          \"VARCHAR\",\n          \"NVARCHAR\",\n          \"TEXT\",\n          \"NTEXT\",\n          \"STRING\",\n          \"StringType\",\n          \"string\",\n          \"str\",\n          \"object\",\n          \"dtype('O')\"\n        ]\n      },\n      \"meta\": {},\n      \"ge_cloud_id\": null,\n      \"expectation_type\": \"expect_column_values_to_be_in_type_list\"\n    },\n    {\n      \"kwargs\": {\n        \"column\": \"Male\",\n        \"max_value\": 0,\n        \"min_value\": 0\n      },\n      \"meta\": {},\n      \"ge_cloud_id\": null,\n      \"expectation_type\": \"expect_column_min_to_be_between\"\n    },\n    {\n      \"kwargs\": {\n        \"column\": \"Male\",\n        \"max_value\": 1,\n        \"min_value\": 1\n      },\n      \"meta\": {},\n      \"ge_cloud_id\": null,\n      \"expectation_type\": \"expect_column_max_to_be_between\"\n    },\n    {\n      \"kwargs\": {\n        \"column\": \"Male\",\n        \"max_value\": 0.55,\n        \"min_value\": 0.45\n      },\n      \"meta\": {},\n      \"ge_cloud_id\": null,\n      \"expectation_type\": \"expect_column_mean_to_be_between\"\n    },\n    {\n      \"kwargs\": {\n        \"column\": \"Male\",\n        \"max_value\": 0.0,\n        \"min_value\": 0.0\n      },\n      \"meta\": {},\n      \"ge_cloud_id\": null,\n      \"expectation_type\": \"expect_column_median_to_be_between\"\n    },\n    {\n      \"kwargs\": {\n        \"allow_relative_error\": \"lower\",\n        \"column\": \"Male\",\n        \"quantile_ranges\": {\n          \"quantiles\": [\n            0.05,\n            0.25,\n            0.5,\n            0.75,\n            0.95\n          ],\n          \"value_ranges\": [\n            [\n              0,\n              0\n            ],\n            [\n              0,\n              0\n            ],\n            [\n              0,\n              0\n            ],\n            [\n              1,\n              1\n            ],\n            [\n              1,\n              1\n            ]\n          ]\n        }\n      },\n      \"meta\": {},\n      \"ge_cloud_id\": null,\n      \"expectation_type\": \"expect_column_quantile_values_to_be_between\"\n    },\n    {\n      \"kwargs\": {\n        \"column\": \"Male\",\n        \"value_set\": [\n          0,\n          1\n        ]\n      },\n      \"meta\": {},\n      \"ge_cloud_id\": null,\n      \"expectation_type\": \"expect_column_values_to_be_in_set\"\n    },\n    {\n      \"kwargs\": {\n        \"column\": \"Male\"\n      },\n      \"meta\": {},\n      \"ge_cloud_id\": null,\n      \"expectation_type\": \"expect_column_values_to_not_be_null\"\n    },\n    {\n      \"kwargs\": {\n        \"column\": \"Male\",\n        \"max_value\": 0.003278688524590164,\n        \"min_value\": 0.003278688524590164\n      },\n      \"meta\": {},\n      \"ge_cloud_id\": null,\n      \"expectation_type\": \"expect_column_proportion_of_unique_values_to_be_between\"\n    },\n    {\n      \"kwargs\": {\n        \"column\": \"Male\",\n        \"type_list\": [\n          \"INTEGER\",\n          \"integer\",\n          \"int\",\n          \"int_\",\n          \"int8\",\n          \"int16\",\n          \"int32\",\n          \"int64\",\n          \"uint8\",\n          \"uint16\",\n          \"uint32\",\n          \"uint64\",\n          \"INT\",\n          \"INTEGER\",\n          \"INT64\",\n          \"TINYINT\",\n          \"BYTEINT\",\n          \"SMALLINT\",\n          \"BIGINT\",\n          \"IntegerType\",\n          \"LongType\"\n        ]\n      },\n      \"meta\": {},\n      \"ge_cloud_id\": null,\n      \"expectation_type\": \"expect_column_values_to_be_in_type_list\"\n    },\n    {\n      \"kwargs\": {\n        \"column\": \"Country\"\n      },\n      \"meta\": {},\n      \"ge_cloud_id\": null,\n      \"expectation_type\": \"expect_column_values_to_not_be_null\"\n    },\n    {\n      \"kwargs\": {\n        \"column\": \"Country\",\n        \"max_value\": 0.3655737704918033,\n        \"min_value\": 0.3655737704918033\n      },\n      \"meta\": {},\n      \"ge_cloud_id\": null,\n      \"expectation_type\": \"expect_column_proportion_of_unique_values_to_be_between\"\n    },\n    {\n      \"kwargs\": {\n        \"column\": \"Country\",\n        \"type_list\": [\n          \"CHAR\",\n          \"NCHAR\",\n          \"VARCHAR\",\n          \"NVARCHAR\",\n          \"TEXT\",\n          \"NTEXT\",\n          \"STRING\",\n          \"StringType\",\n          \"string\",\n          \"str\",\n          \"object\",\n          \"dtype('O')\"\n        ]\n      },\n      \"meta\": {},\n      \"ge_cloud_id\": null,\n      \"expectation_type\": \"expect_column_values_to_be_in_type_list\"\n    },\n    {\n      \"kwargs\": {\n        \"column\": \"Timestamp\"\n      },\n      \"meta\": {},\n      \"ge_cloud_id\": null,\n      \"expectation_type\": \"expect_column_values_to_not_be_null\"\n    },\n    {\n      \"kwargs\": {\n        \"column\": \"Timestamp\",\n        \"max_value\": 1.0,\n        \"min_value\": 1.0\n      },\n      \"meta\": {},\n      \"ge_cloud_id\": null,\n      \"expectation_type\": \"expect_column_proportion_of_unique_values_to_be_between\"\n    },\n    {\n      \"kwargs\": {\n        \"column\": \"Timestamp\",\n        \"type_list\": [\n          \"CHAR\",\n          \"NCHAR\",\n          \"VARCHAR\",\n          \"NVARCHAR\",\n          \"TEXT\",\n          \"NTEXT\",\n          \"STRING\",\n          \"StringType\",\n          \"string\",\n          \"str\",\n          \"object\",\n          \"dtype('O')\"\n        ]\n      },\n      \"meta\": {},\n      \"ge_cloud_id\": null,\n      \"expectation_type\": \"expect_column_values_to_be_in_type_list\"\n    },\n    {\n      \"kwargs\": {\n        \"column\": \"Clicked on Ad\",\n        \"max_value\": 0,\n        \"min_value\": 0\n      },\n      \"meta\": {},\n      \"ge_cloud_id\": null,\n      \"expectation_type\": \"expect_column_min_to_be_between\"\n    },\n    {\n      \"kwargs\": {\n        \"column\": \"Clicked on Ad\",\n        \"max_value\": 1,\n        \"min_value\": 1\n      },\n      \"meta\": {},\n      \"ge_cloud_id\": null,\n      \"expectation_type\": \"expect_column_max_to_be_between\"\n    },\n    {\n      \"kwargs\": {\n        \"column\": \"Clicked on Ad\",\n        \"max_value\": 0.55,\n        \"min_value\": 0.45\n      },\n      \"meta\": {},\n      \"ge_cloud_id\": null,\n      \"expectation_type\": \"expect_column_mean_to_be_between\"\n    },\n    {\n      \"kwargs\": {\n        \"column\": \"Clicked on Ad\",\n        \"max_value\": 0.0,\n        \"min_value\": 0.0\n      },\n      \"meta\": {},\n      \"ge_cloud_id\": null,\n      \"expectation_type\": \"expect_column_median_to_be_between\"\n    },\n    {\n      \"kwargs\": {\n        \"allow_relative_error\": \"lower\",\n        \"column\": \"Clicked on Ad\",\n        \"quantile_ranges\": {\n          \"quantiles\": [\n            0.05,\n            0.25,\n            0.5,\n            0.75,\n            0.95\n          ],\n          \"value_ranges\": [\n            [\n              0,\n              0\n            ],\n            [\n              0,\n              0\n            ],\n            [\n              0,\n              0\n            ],\n            [\n              1,\n              1\n            ],\n            [\n              1,\n              1\n            ]\n          ]\n        }\n      },\n      \"meta\": {},\n      \"ge_cloud_id\": null,\n      \"expectation_type\": \"expect_column_quantile_values_to_be_between\"\n    },\n    {\n      \"kwargs\": {\n        \"column\": \"Clicked on Ad\",\n        \"value_set\": [\n          0,\n          1\n        ]\n      },\n      \"meta\": {},\n      \"ge_cloud_id\": null,\n      \"expectation_type\": \"expect_column_values_to_be_in_set\"\n    },\n    {\n      \"kwargs\": {\n        \"column\": \"Clicked on Ad\"\n      },\n      \"meta\": {},\n      \"ge_cloud_id\": null,\n      \"expectation_type\": \"expect_column_values_to_not_be_null\"\n    },\n    {\n      \"kwargs\": {\n        \"column\": \"Clicked on Ad\",\n        \"max_value\": 0.003278688524590164,\n        \"min_value\": 0.003278688524590164\n      },\n      \"meta\": {},\n      \"ge_cloud_id\": null,\n      \"expectation_type\": \"expect_column_proportion_of_unique_values_to_be_between\"\n    },\n    {\n      \"kwargs\": {\n        \"column\": \"Clicked on Ad\",\n        \"type_list\": [\n          \"INTEGER\",\n          \"integer\",\n          \"int\",\n          \"int_\",\n          \"int8\",\n          \"int16\",\n          \"int32\",\n          \"int64\",\n          \"uint8\",\n          \"uint16\",\n          \"uint32\",\n          \"uint64\",\n          \"INT\",\n          \"INTEGER\",\n          \"INT64\",\n          \"TINYINT\",\n          \"BYTEINT\",\n          \"SMALLINT\",\n          \"BIGINT\",\n          \"IntegerType\",\n          \"LongType\"\n        ]\n      },\n      \"meta\": {},\n      \"ge_cloud_id\": null,\n      \"expectation_type\": \"expect_column_values_to_be_in_type_list\"\n    }\n  ],\n  \"ge_cloud_id\": null,\n  \"meta\": {\n    \"citations\": [\n      {\n        \"batch_request\": {\n          \"data_asset_name\": \"first_data.csv\",\n          \"data_connector_name\": \"default_inferred_data_connector_name\",\n          \"datasource_name\": \"first_data\",\n          \"limit\": 1000\n        },\n        \"citation_date\": \"2021-10-07T18:26:54.131729Z\",\n        \"comment\": \"Created suite added via CLI\"\n      }\n    ],\n    \"great_expectations_version\": \"0.13.36\"\n  },\n  \"data_asset_type\": null,\n  \"expectation_suite_name\": \"first_data.csv.warning\"\n}\n2021-10-07T20:17:32+0000 - INFO - \t65 expectation(s) included in expectation_suite.\n2021-10-07T20:17:32+0000 - INFO - \t65 expectation(s) included in expectation_suite.\n",
     "output_type": "stream"
    },
    {
     "data": {
      "text/plain": "Calculating Metrics:   0%|          | 0/104 [00:00<?, ?it/s]",
      "application/vnd.jupyter.widget-view+json": {
       "version_major": 2,
       "version_minor": 0,
       "model_id": "432731c2d3334d51a2f9bb6e08eaaf2c"
      }
     },
     "metadata": {},
     "output_type": "display_data"
    }
   ]
  },
  {
   "cell_type": "markdown",
   "source": "<a style='text-decoration:none;line-height:16px;display:flex;color:#5B5B62;padding:10px;justify-content:end;' href='https://deepnote.com?utm_source=created-in-deepnote-cell&projectId=87197226-98be-42b2-8527-389082831299' target=\"_blank\">\n<img alt='Created in deepnote.com' style='display:inline;max-height:16px;margin:0px;margin-right:7.5px;' src='data:image/svg+xml;base64,PD94bWwgdmVyc2lvbj0iMS4wIiBlbmNvZGluZz0iVVRGLTgiPz4KPHN2ZyB3aWR0aD0iODBweCIgaGVpZ2h0PSI4MHB4IiB2aWV3Qm94PSIwIDAgODAgODAiIHZlcnNpb249IjEuMSIgeG1sbnM9Imh0dHA6Ly93d3cudzMub3JnLzIwMDAvc3ZnIiB4bWxuczp4bGluaz0iaHR0cDovL3d3dy53My5vcmcvMTk5OS94bGluayI+CiAgICA8IS0tIEdlbmVyYXRvcjogU2tldGNoIDU0LjEgKDc2NDkwKSAtIGh0dHBzOi8vc2tldGNoYXBwLmNvbSAtLT4KICAgIDx0aXRsZT5Hcm91cCAzPC90aXRsZT4KICAgIDxkZXNjPkNyZWF0ZWQgd2l0aCBTa2V0Y2guPC9kZXNjPgogICAgPGcgaWQ9IkxhbmRpbmciIHN0cm9rZT0ibm9uZSIgc3Ryb2tlLXdpZHRoPSIxIiBmaWxsPSJub25lIiBmaWxsLXJ1bGU9ImV2ZW5vZGQiPgogICAgICAgIDxnIGlkPSJBcnRib2FyZCIgdHJhbnNmb3JtPSJ0cmFuc2xhdGUoLTEyMzUuMDAwMDAwLCAtNzkuMDAwMDAwKSI+CiAgICAgICAgICAgIDxnIGlkPSJHcm91cC0zIiB0cmFuc2Zvcm09InRyYW5zbGF0ZSgxMjM1LjAwMDAwMCwgNzkuMDAwMDAwKSI+CiAgICAgICAgICAgICAgICA8cG9seWdvbiBpZD0iUGF0aC0yMCIgZmlsbD0iIzAyNjVCNCIgcG9pbnRzPSIyLjM3NjIzNzYyIDgwIDM4LjA0NzY2NjcgODAgNTcuODIxNzgyMiA3My44MDU3NTkyIDU3LjgyMTc4MjIgMzIuNzU5MjczOSAzOS4xNDAyMjc4IDMxLjY4MzE2ODMiPjwvcG9seWdvbj4KICAgICAgICAgICAgICAgIDxwYXRoIGQ9Ik0zNS4wMDc3MTgsODAgQzQyLjkwNjIwMDcsNzYuNDU0OTM1OCA0Ny41NjQ5MTY3LDcxLjU0MjI2NzEgNDguOTgzODY2LDY1LjI2MTk5MzkgQzUxLjExMjI4OTksNTUuODQxNTg0MiA0MS42NzcxNzk1LDQ5LjIxMjIyODQgMjUuNjIzOTg0Niw0OS4yMTIyMjg0IEMyNS40ODQ5Mjg5LDQ5LjEyNjg0NDggMjkuODI2MTI5Niw0My4yODM4MjQ4IDM4LjY0NzU4NjksMzEuNjgzMTY4MyBMNzIuODcxMjg3MSwzMi41NTQ0MjUgTDY1LjI4MDk3Myw2Ny42NzYzNDIxIEw1MS4xMTIyODk5LDc3LjM3NjE0NCBMMzUuMDA3NzE4LDgwIFoiIGlkPSJQYXRoLTIyIiBmaWxsPSIjMDAyODY4Ij48L3BhdGg+CiAgICAgICAgICAgICAgICA8cGF0aCBkPSJNMCwzNy43MzA0NDA1IEwyNy4xMTQ1MzcsMC4yNTcxMTE0MzYgQzYyLjM3MTUxMjMsLTEuOTkwNzE3MDEgODAsMTAuNTAwMzkyNyA4MCwzNy43MzA0NDA1IEM4MCw2NC45NjA0ODgyIDY0Ljc3NjUwMzgsNzkuMDUwMzQxNCAzNC4zMjk1MTEzLDgwIEM0Ny4wNTUzNDg5LDc3LjU2NzA4MDggNTMuNDE4MjY3Nyw3MC4zMTM2MTAzIDUzLjQxODI2NzcsNTguMjM5NTg4NSBDNTMuNDE4MjY3Nyw0MC4xMjg1NTU3IDM2LjMwMzk1NDQsMzcuNzMwNDQwNSAyNS4yMjc0MTcsMzcuNzMwNDQwNSBDMTcuODQzMDU4NiwzNy43MzA0NDA1IDkuNDMzOTE5NjYsMzcuNzMwNDQwNSAwLDM3LjczMDQ0MDUgWiIgaWQ9IlBhdGgtMTkiIGZpbGw9IiMzNzkzRUYiPjwvcGF0aD4KICAgICAgICAgICAgPC9nPgogICAgICAgIDwvZz4KICAgIDwvZz4KPC9zdmc+' > </img>\nCreated in <span style='font-weight:600;margin-left:4px;'>Deepnote</span></a>",
   "metadata": {
    "tags": [],
    "created_in_deepnote_cell": true,
    "deepnote_cell_type": "markdown"
   }
  }
 ],
 "nbformat": 4,
 "nbformat_minor": 5,
 "metadata": {
  "deepnote_notebook_id": "b98c8920-11d5-4957-9152-c6671cffbab2",
  "deepnote": {},
  "deepnote_execution_queue": []
 }
}