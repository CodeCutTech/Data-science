{
 "cells": [
  {
   "cell_type": "markdown",
   "id": "ea264742",
   "metadata": {
    "cell_id": "00000-c97cd42c-6623-445b-9cb2-fc4b76048774",
    "deepnote_cell_type": "markdown"
   },
   "source": [
    "# Edit Your Expectation Suite\n",
    "Use this notebook to recreate and modify your expectation suite:\n",
    "\n",
    "**Expectation Suite Name**: `first_data.csv.warning`\n"
   ]
  },
  {
   "cell_type": "code",
   "execution_count": null,
   "id": "dcb0bbdf",
   "metadata": {
    "ExecuteTime": {
     "end_time": "2021-10-07T20:59:20.433480Z",
     "start_time": "2021-10-07T20:59:19.042000Z"
    },
    "cell_id": "00001-baf84959-f7a1-49ef-a88d-30c7cfa5f77b",
    "deepnote_cell_type": "code",
    "deepnote_to_be_reexecuted": false,
    "execution_millis": 11260,
    "execution_start": 1633637757338,
    "output_cleared": true,
    "source_hash": "e71590bc",
    "tags": []
   },
   "outputs": [],
   "source": [
    "!pip install great_expectations"
   ]
  },
  {
   "cell_type": "code",
   "execution_count": 2,
   "id": "8e6764d2",
   "metadata": {
    "ExecuteTime": {
     "end_time": "2021-10-07T20:59:21.427029Z",
     "start_time": "2021-10-07T20:59:20.437472Z"
    },
    "cell_id": "00001-b2fc0ec2-93ad-462d-bf0b-a50eff7f98b8",
    "deepnote_cell_type": "code",
    "deepnote_to_be_reexecuted": false,
    "execution_millis": 2681,
    "execution_start": 1633639605395,
    "source_hash": "2e564970"
   },
   "outputs": [
    {
     "name": "stdout",
     "output_type": "stream",
     "text": [
      "2021-10-07T15:59:21-0500 - INFO - Great Expectations logging enabled at 20 level by JupyterUX module.\n",
      "Created ExpectationSuite \"first_data.csv.warning\".\n",
      "Columns: \"Unnamed: 0\", \"Daily Time Spent on Site\", \"Age\", \"Area Income\", \"Daily Internet Usage\", \"Ad Topic Line\", \"City\", \"Male\", \"Country\", \"Timestamp\", \"Clicked on Ad\".\n"
     ]
    },
    {
     "name": "stderr",
     "output_type": "stream",
     "text": [
      "/home/khuyen/Data-science/venv/lib/python3.8/site-packages/great_expectations/jupyter_ux/__init__.py:15: FutureWarning: Passing a negative integer is deprecated in version 1.0 and will not be supported in future version. Instead, use None to not limit the column width.\n",
      "  pd.set_option(\"display.max_colwidth\", -1)\n"
     ]
    },
    {
     "data": {
      "text/html": [
       "<div>\n",
       "<style scoped>\n",
       "    .dataframe tbody tr th:only-of-type {\n",
       "        vertical-align: middle;\n",
       "    }\n",
       "\n",
       "    .dataframe tbody tr th {\n",
       "        vertical-align: top;\n",
       "    }\n",
       "\n",
       "    .dataframe thead th {\n",
       "        text-align: right;\n",
       "    }\n",
       "</style>\n",
       "<table border=\"1\" class=\"dataframe\">\n",
       "  <thead>\n",
       "    <tr style=\"text-align: right;\">\n",
       "      <th></th>\n",
       "      <th>Unnamed: 0</th>\n",
       "      <th>Daily Time Spent on Site</th>\n",
       "      <th>Age</th>\n",
       "      <th>Area Income</th>\n",
       "      <th>Daily Internet Usage</th>\n",
       "      <th>Ad Topic Line</th>\n",
       "      <th>City</th>\n",
       "      <th>Male</th>\n",
       "      <th>Country</th>\n",
       "      <th>Timestamp</th>\n",
       "      <th>Clicked on Ad</th>\n",
       "    </tr>\n",
       "  </thead>\n",
       "  <tbody>\n",
       "    <tr>\n",
       "      <th>0</th>\n",
       "      <td>0</td>\n",
       "      <td>80.67</td>\n",
       "      <td>34</td>\n",
       "      <td>58909.36</td>\n",
       "      <td>239.76</td>\n",
       "      <td>Seamless impactful info-mediaries</td>\n",
       "      <td>Jamesville</td>\n",
       "      <td>0</td>\n",
       "      <td>Portugal</td>\n",
       "      <td>2016-01-01 02:52:10</td>\n",
       "      <td>0</td>\n",
       "    </tr>\n",
       "    <tr>\n",
       "      <th>1</th>\n",
       "      <td>1</td>\n",
       "      <td>68.01</td>\n",
       "      <td>25</td>\n",
       "      <td>68357.96</td>\n",
       "      <td>188.32</td>\n",
       "      <td>Ameliorated actuating workforce</td>\n",
       "      <td>Kaylashire</td>\n",
       "      <td>1</td>\n",
       "      <td>Afghanistan</td>\n",
       "      <td>2016-01-01 03:35:35</td>\n",
       "      <td>0</td>\n",
       "    </tr>\n",
       "    <tr>\n",
       "      <th>2</th>\n",
       "      <td>2</td>\n",
       "      <td>80.94</td>\n",
       "      <td>36</td>\n",
       "      <td>60803.00</td>\n",
       "      <td>239.94</td>\n",
       "      <td>Self-enabling local strategy</td>\n",
       "      <td>North Tiffany</td>\n",
       "      <td>0</td>\n",
       "      <td>Bermuda</td>\n",
       "      <td>2016-01-01 05:31:22</td>\n",
       "      <td>0</td>\n",
       "    </tr>\n",
       "    <tr>\n",
       "      <th>3</th>\n",
       "      <td>3</td>\n",
       "      <td>78.77</td>\n",
       "      <td>28</td>\n",
       "      <td>63497.62</td>\n",
       "      <td>211.83</td>\n",
       "      <td>Public-key intangible Graphical User Interface</td>\n",
       "      <td>Gomezport</td>\n",
       "      <td>0</td>\n",
       "      <td>Guam</td>\n",
       "      <td>2016-01-01 08:27:06</td>\n",
       "      <td>0</td>\n",
       "    </tr>\n",
       "    <tr>\n",
       "      <th>4</th>\n",
       "      <td>4</td>\n",
       "      <td>36.56</td>\n",
       "      <td>29</td>\n",
       "      <td>42838.29</td>\n",
       "      <td>195.89</td>\n",
       "      <td>Team-oriented bi-directional secured line</td>\n",
       "      <td>West Ryan</td>\n",
       "      <td>0</td>\n",
       "      <td>Uganda</td>\n",
       "      <td>2016-01-01 15:14:24</td>\n",
       "      <td>1</td>\n",
       "    </tr>\n",
       "  </tbody>\n",
       "</table>\n",
       "</div>"
      ],
      "text/plain": [
       "   Unnamed: 0  Daily Time Spent on Site  Age  Area Income  \\\n",
       "0  0           80.67                     34   58909.36      \n",
       "1  1           68.01                     25   68357.96      \n",
       "2  2           80.94                     36   60803.00      \n",
       "3  3           78.77                     28   63497.62      \n",
       "4  4           36.56                     29   42838.29      \n",
       "\n",
       "   Daily Internet Usage                                   Ad Topic Line  \\\n",
       "0  239.76                Seamless impactful info-mediaries                \n",
       "1  188.32                Ameliorated actuating workforce                  \n",
       "2  239.94                Self-enabling local strategy                     \n",
       "3  211.83                Public-key intangible Graphical User Interface   \n",
       "4  195.89                Team-oriented bi-directional secured line        \n",
       "\n",
       "            City  Male      Country            Timestamp  Clicked on Ad  \n",
       "0  Jamesville     0     Portugal     2016-01-01 02:52:10  0              \n",
       "1  Kaylashire     1     Afghanistan  2016-01-01 03:35:35  0              \n",
       "2  North Tiffany  0     Bermuda      2016-01-01 05:31:22  0              \n",
       "3  Gomezport      0     Guam         2016-01-01 08:27:06  0              \n",
       "4  West Ryan      0     Uganda       2016-01-01 15:14:24  1              "
      ]
     },
     "execution_count": 2,
     "metadata": {},
     "output_type": "execute_result"
    }
   ],
   "source": [
    "import datetime\n",
    "\n",
    "import pandas as pd\n",
    "\n",
    "import great_expectations as ge\n",
    "import great_expectations.jupyter_ux\n",
    "from great_expectations.core.batch import BatchRequest\n",
    "from great_expectations.checkpoint import SimpleCheckpoint\n",
    "from great_expectations.exceptions import DataContextError\n",
    "\n",
    "context = ge.data_context.DataContext()\n",
    "\n",
    "# Note that if you modify this batch request, you may save the new version as a .json file\n",
    "#  to pass in later via the --batch-request option\n",
    "batch_request = {'datasource_name': 'first_data', 'data_connector_name': 'default_inferred_data_connector_name', 'data_asset_name': 'first_data.csv', 'limit': 1000}\n",
    "\n",
    "\n",
    "# Feel free to change the name of your suite here. Renaming this will not remove the other one.\n",
    "expectation_suite_name = \"first_data.csv.warning\"\n",
    "try:\n",
    "    suite = context.get_expectation_suite(expectation_suite_name=expectation_suite_name)\n",
    "    print(f'Loaded ExpectationSuite \"{suite.expectation_suite_name}\" containing {len(suite.expectations)} expectations.')\n",
    "except DataContextError:\n",
    "    suite = context.create_expectation_suite(expectation_suite_name=expectation_suite_name)\n",
    "    print(f'Created ExpectationSuite \"{suite.expectation_suite_name}\".')\n",
    "\n",
    "\n",
    "validator = context.get_validator(\n",
    "    batch_request=BatchRequest(**batch_request),\n",
    "    expectation_suite_name=expectation_suite_name\n",
    ")\n",
    "column_names = [f'\"{column_name}\"' for column_name in validator.columns()]\n",
    "print(f\"Columns: {', '.join(column_names)}.\")\n",
    "validator.head(n_rows=5, fetch_all=False)"
   ]
  },
  {
   "cell_type": "markdown",
   "id": "c4cbed67",
   "metadata": {
    "cell_id": "00002-42d6b63c-af89-4625-a3c4-e9c72a845c8a",
    "deepnote_cell_type": "markdown"
   },
   "source": [
    "## Create & Edit Expectations\n",
    "\n",
    "\n",
    "Add expectations by calling specific expectation methods on the `validator` object. They all begin with `.expect_` which makes autocompleting easy using tab.\n",
    "\n",
    "Because you selected interactive mode, you are now creating or editing an Expectation Suite with validator feedback from the sample batch of data that you specified (see `batch_request`).\n",
    "\n",
    "Note that if you select manual mode you may still create or edit an Expectation Suite directly, without feedback from the `validator`. See our documentation for more info and examples: [How to create a new Expectation Suite without a sample batch](https://docs.greatexpectations.io/en/latest/guides/how_to_guides/creating_and_editing_expectations/how_to_create_a_new_expectation_suite_without_a_sample_batch.html).\n",
    "\n",
    "\n",
    "\n",
    "You can see all the available expectations in the **[expectation glossary](https://docs.greatexpectations.io/en/latest/reference/glossary_of_expectations.html?utm_source=notebook&utm_medium=create_expectations)**."
   ]
  },
  {
   "cell_type": "markdown",
   "id": "de29ca11",
   "metadata": {
    "cell_id": "00003-21c6181f-e931-4d38-bba7-f96a8e0708c4",
    "deepnote_cell_type": "markdown"
   },
   "source": [
    "### Table Expectation(s)"
   ]
  },
  {
   "cell_type": "code",
   "execution_count": 3,
   "id": "0646b8f0",
   "metadata": {
    "ExecuteTime": {
     "end_time": "2021-10-07T20:59:21.432819Z",
     "start_time": "2021-10-07T20:59:21.427987Z"
    },
    "allow_embed": "code_output",
    "cell_id": "00004-c52e00b0-7305-4040-91bf-162db1be695b",
    "deepnote_cell_type": "code",
    "deepnote_to_be_reexecuted": false,
    "execution_millis": 17,
    "execution_start": 1633637793176,
    "source_hash": "75df2c55"
   },
   "outputs": [
    {
     "data": {
      "text/plain": [
       "{\n",
       "  \"result\": {\n",
       "    \"observed_value\": [\n",
       "      \"Unnamed: 0\",\n",
       "      \"Daily Time Spent on Site\",\n",
       "      \"Age\",\n",
       "      \"Area Income\",\n",
       "      \"Daily Internet Usage\",\n",
       "      \"Ad Topic Line\",\n",
       "      \"City\",\n",
       "      \"Male\",\n",
       "      \"Country\",\n",
       "      \"Timestamp\",\n",
       "      \"Clicked on Ad\"\n",
       "    ]\n",
       "  },\n",
       "  \"meta\": {},\n",
       "  \"success\": true,\n",
       "  \"exception_info\": {\n",
       "    \"raised_exception\": false,\n",
       "    \"exception_traceback\": null,\n",
       "    \"exception_message\": null\n",
       "  }\n",
       "}"
      ]
     },
     "execution_count": 3,
     "metadata": {},
     "output_type": "execute_result"
    }
   ],
   "source": [
    "validator.expect_table_columns_to_match_ordered_list(column_list=['Unnamed: 0', 'Daily Time Spent on Site', 'Age', 'Area Income', 'Daily Internet Usage', 'Ad Topic Line', 'City', 'Male', 'Country', 'Timestamp', 'Clicked on Ad'])"
   ]
  },
  {
   "cell_type": "markdown",
   "id": "1a4bb8fc",
   "metadata": {
    "cell_id": "00006-ce261b34-5f27-4a51-8d67-96220d8e073d",
    "deepnote_cell_type": "markdown"
   },
   "source": [
    "### Column Expectation(s)"
   ]
  },
  {
   "cell_type": "markdown",
   "id": "aed46e2f",
   "metadata": {
    "cell_id": "00007-e33ee7e3-3fea-4b39-9d8e-fd9a8433fcb6",
    "deepnote_cell_type": "markdown"
   },
   "source": [
    "#### `Daily Time Spent on Site`"
   ]
  },
  {
   "cell_type": "code",
   "execution_count": 4,
   "id": "b247ab61",
   "metadata": {
    "ExecuteTime": {
     "end_time": "2021-10-07T20:59:21.439222Z",
     "start_time": "2021-10-07T20:59:21.434299Z"
    },
    "cell_id": "00008-9c585708-fdc1-4b7a-a5d6-1ab7ea9ec2f0",
    "deepnote_cell_type": "code",
    "deepnote_to_be_reexecuted": false,
    "execution_millis": 205,
    "execution_start": 1633637797067,
    "source_hash": "1c8e8add",
    "tags": []
   },
   "outputs": [
    {
     "data": {
      "text/plain": [
       "count    610.000000\n",
       "mean     65.267049 \n",
       "std      15.852992 \n",
       "min      32.600000 \n",
       "25%      51.515000 \n",
       "50%      68.330000 \n",
       "75%      78.525000 \n",
       "max      91.370000 \n",
       "Name: Daily Time Spent on Site, dtype: float64"
      ]
     },
     "execution_count": 4,
     "metadata": {},
     "output_type": "execute_result"
    }
   ],
   "source": [
    "validator.active_batch.data.dataframe['Daily Time Spent on Site'].describe()"
   ]
  },
  {
   "cell_type": "code",
   "execution_count": 5,
   "id": "50adeadd",
   "metadata": {
    "ExecuteTime": {
     "end_time": "2021-10-07T20:59:21.683796Z",
     "start_time": "2021-10-07T20:59:21.440039Z"
    },
    "cell_id": "00009-978f12b1-c36b-45e3-bd14-dee2b0f5b187",
    "deepnote_cell_type": "code",
    "deepnote_to_be_reexecuted": false,
    "execution_millis": 1916,
    "execution_start": 1633637798644,
    "source_hash": "9faa1a0",
    "tags": []
   },
   "outputs": [
    {
     "data": {
      "text/plain": [
       "<AxesSubplot:ylabel='Frequency'>"
      ]
     },
     "execution_count": 5,
     "metadata": {},
     "output_type": "execute_result"
    },
    {
     "data": {
      "image/png": "[encoded data removed]",
      "text/plain": [
       "<Figure size 432x288 with 1 Axes>"
      ]
     },
     "metadata": {
      "needs_background": "light"
     },
     "output_type": "display_data"
    }
   ],
   "source": [
    "validator.active_batch.data.dataframe['Daily Time Spent on Site'].plot.hist()"
   ]
  },
  {
   "cell_type": "code",
   "execution_count": 6,
   "id": "ff6a7eb6",
   "metadata": {
    "ExecuteTime": {
     "end_time": "2021-10-07T20:59:21.704923Z",
     "start_time": "2021-10-07T20:59:21.684710Z"
    },
    "cell_id": "00008-2562a60f-4cc8-46b8-8a2c-614346e49ee3",
    "deepnote_cell_type": "code",
    "deepnote_to_be_reexecuted": false,
    "execution_millis": 51,
    "execution_start": 1633637800997,
    "source_hash": "5bc4d2f7"
   },
   "outputs": [
    {
     "data": {
      "application/vnd.jupyter.widget-view+json": {
       "model_id": "03f96e845fd0449f9febb220e1ff3807",
       "version_major": 2,
       "version_minor": 0
      },
      "text/plain": [
       "Calculating Metrics:   0%|          | 0/3 [00:00<?, ?it/s]"
      ]
     },
     "metadata": {},
     "output_type": "display_data"
    },
    {
     "data": {
      "text/plain": [
       "{\n",
       "  \"result\": {\n",
       "    \"observed_value\": 32.6\n",
       "  },\n",
       "  \"meta\": {},\n",
       "  \"success\": true,\n",
       "  \"exception_info\": {\n",
       "    \"raised_exception\": false,\n",
       "    \"exception_traceback\": null,\n",
       "    \"exception_message\": null\n",
       "  }\n",
       "}"
      ]
     },
     "execution_count": 6,
     "metadata": {},
     "output_type": "execute_result"
    }
   ],
   "source": [
    "\n",
    "validator.expect_column_min_to_be_between(column='Daily Time Spent on Site', max_value=40, min_value=30)"
   ]
  },
  {
   "cell_type": "code",
   "execution_count": 7,
   "id": "71973310",
   "metadata": {
    "ExecuteTime": {
     "end_time": "2021-10-07T20:59:21.726919Z",
     "start_time": "2021-10-07T20:59:21.705799Z"
    },
    "cell_id": "00009-9def640d-b7e9-46fe-8073-190e5d662881",
    "deepnote_cell_type": "code",
    "deepnote_to_be_reexecuted": false,
    "execution_millis": 62,
    "execution_start": 1633637805472,
    "source_hash": "e02158fb"
   },
   "outputs": [
    {
     "data": {
      "application/vnd.jupyter.widget-view+json": {
       "model_id": "89b0fa8915074e509c8332412de81d6c",
       "version_major": 2,
       "version_minor": 0
      },
      "text/plain": [
       "Calculating Metrics:   0%|          | 0/3 [00:00<?, ?it/s]"
      ]
     },
     "metadata": {},
     "output_type": "display_data"
    },
    {
     "data": {
      "text/plain": [
       "{\n",
       "  \"result\": {\n",
       "    \"observed_value\": 91.37\n",
       "  },\n",
       "  \"meta\": {},\n",
       "  \"success\": true,\n",
       "  \"exception_info\": {\n",
       "    \"raised_exception\": false,\n",
       "    \"exception_traceback\": null,\n",
       "    \"exception_message\": null\n",
       "  }\n",
       "}"
      ]
     },
     "execution_count": 7,
     "metadata": {},
     "output_type": "execute_result"
    }
   ],
   "source": [
    "\n",
    "validator.expect_column_max_to_be_between(column='Daily Time Spent on Site', max_value=100, min_value=85)"
   ]
  },
  {
   "cell_type": "code",
   "execution_count": 8,
   "id": "bf2a10fb",
   "metadata": {
    "ExecuteTime": {
     "end_time": "2021-10-07T20:59:21.750791Z",
     "start_time": "2021-10-07T20:59:21.727777Z"
    },
    "cell_id": "00010-245697e5-e54f-42af-9935-34753301cdc9",
    "deepnote_cell_type": "code",
    "deepnote_to_be_reexecuted": false,
    "execution_millis": 66,
    "execution_start": 1633637809172,
    "source_hash": "6de11e6d"
   },
   "outputs": [
    {
     "data": {
      "application/vnd.jupyter.widget-view+json": {
       "model_id": "7e2922164339401083e59b7cec34311a",
       "version_major": 2,
       "version_minor": 0
      },
      "text/plain": [
       "Calculating Metrics:   0%|          | 0/3 [00:00<?, ?it/s]"
      ]
     },
     "metadata": {},
     "output_type": "display_data"
    },
    {
     "data": {
      "text/plain": [
       "{\n",
       "  \"result\": {\n",
       "    \"observed_value\": 65.26704918032787\n",
       "  },\n",
       "  \"meta\": {},\n",
       "  \"success\": true,\n",
       "  \"exception_info\": {\n",
       "    \"raised_exception\": false,\n",
       "    \"exception_traceback\": null,\n",
       "    \"exception_message\": null\n",
       "  }\n",
       "}"
      ]
     },
     "execution_count": 8,
     "metadata": {},
     "output_type": "execute_result"
    }
   ],
   "source": [
    "\n",
    "validator.expect_column_mean_to_be_between(column='Daily Time Spent on Site', max_value=70, min_value=55)"
   ]
  },
  {
   "cell_type": "code",
   "execution_count": 9,
   "id": "794e35d7",
   "metadata": {
    "ExecuteTime": {
     "end_time": "2021-10-07T20:59:21.777838Z",
     "start_time": "2021-10-07T20:59:21.751632Z"
    },
    "cell_id": "00013-58b209f3-f5ec-4883-b410-113afefac338",
    "deepnote_cell_type": "code",
    "deepnote_to_be_reexecuted": false,
    "execution_millis": 93,
    "execution_start": 1633637811317,
    "source_hash": "fb571e28"
   },
   "outputs": [
    {
     "data": {
      "application/vnd.jupyter.widget-view+json": {
       "model_id": "72fbbc51a6b34c28826f121ce75bbcfe",
       "version_major": 2,
       "version_minor": 0
      },
      "text/plain": [
       "Calculating Metrics:   0%|          | 0/6 [00:00<?, ?it/s]"
      ]
     },
     "metadata": {},
     "output_type": "display_data"
    },
    {
     "data": {
      "text/plain": [
       "{\n",
       "  \"result\": {\n",
       "    \"element_count\": 610,\n",
       "    \"unexpected_count\": 0,\n",
       "    \"unexpected_percent\": 0.0,\n",
       "    \"partial_unexpected_list\": []\n",
       "  },\n",
       "  \"meta\": {},\n",
       "  \"success\": true,\n",
       "  \"exception_info\": {\n",
       "    \"raised_exception\": false,\n",
       "    \"exception_traceback\": null,\n",
       "    \"exception_message\": null\n",
       "  }\n",
       "}"
      ]
     },
     "execution_count": 9,
     "metadata": {},
     "output_type": "execute_result"
    }
   ],
   "source": [
    "\n",
    "validator.expect_column_values_to_not_be_null(column='Daily Time Spent on Site')"
   ]
  },
  {
   "cell_type": "code",
   "execution_count": 10,
   "id": "c6d1eab9",
   "metadata": {
    "ExecuteTime": {
     "end_time": "2021-10-07T20:59:21.786092Z",
     "start_time": "2021-10-07T20:59:21.779608Z"
    },
    "cell_id": "00015-d8654f56-4f52-4ff0-8c55-754f7c913093",
    "deepnote_cell_type": "code",
    "deepnote_to_be_reexecuted": false,
    "execution_millis": 25,
    "execution_start": 1633637813538,
    "source_hash": "d5286636"
   },
   "outputs": [
    {
     "data": {
      "text/plain": [
       "{\n",
       "  \"result\": {\n",
       "    \"observed_value\": \"float64\"\n",
       "  },\n",
       "  \"meta\": {},\n",
       "  \"success\": true,\n",
       "  \"exception_info\": {\n",
       "    \"raised_exception\": false,\n",
       "    \"exception_traceback\": null,\n",
       "    \"exception_message\": null\n",
       "  }\n",
       "}"
      ]
     },
     "execution_count": 10,
     "metadata": {},
     "output_type": "execute_result"
    }
   ],
   "source": [
    "\n",
    "validator.expect_column_values_to_be_in_type_list(column='Daily Time Spent on Site', type_list=['FLOAT', 'FLOAT4', 'FLOAT8', 'FLOAT64', 'DOUBLE', 'DOUBLE_PRECISION', 'NUMERIC', 'FloatType', 'DoubleType', 'float_', 'float16', 'float32', 'float64', 'number', 'DECIMAL', 'REAL'])"
   ]
  },
  {
   "cell_type": "markdown",
   "id": "2096a161",
   "metadata": {
    "cell_id": "00016-56c7a22d-4b91-4c35-be63-6d79d4096f20",
    "deepnote_cell_type": "markdown"
   },
   "source": [
    "#### `Age`"
   ]
  },
  {
   "cell_type": "code",
   "execution_count": 11,
   "id": "fb1b4ffd",
   "metadata": {
    "ExecuteTime": {
     "end_time": "2021-10-07T20:59:21.792580Z",
     "start_time": "2021-10-07T20:59:21.787078Z"
    },
    "cell_id": "00016-b6e4abd4-fc4d-42da-89a3-e79bdd67f639",
    "deepnote_cell_type": "code",
    "deepnote_to_be_reexecuted": false,
    "execution_millis": 11,
    "execution_start": 1633637815549,
    "source_hash": "f8b3e26",
    "tags": []
   },
   "outputs": [
    {
     "data": {
      "text/plain": [
       "count    610.000000\n",
       "mean     36.050820 \n",
       "std      8.918296  \n",
       "min      19.000000 \n",
       "25%      29.000000 \n",
       "50%      35.000000 \n",
       "75%      42.000000 \n",
       "max      61.000000 \n",
       "Name: Age, dtype: float64"
      ]
     },
     "execution_count": 11,
     "metadata": {},
     "output_type": "execute_result"
    }
   ],
   "source": [
    "validator.active_batch.data.dataframe['Age'].describe()"
   ]
  },
  {
   "cell_type": "code",
   "execution_count": 12,
   "id": "be607268",
   "metadata": {
    "ExecuteTime": {
     "end_time": "2021-10-07T20:59:21.814741Z",
     "start_time": "2021-10-07T20:59:21.793398Z"
    },
    "cell_id": "00017-d5ede672-8c11-4446-b753-e2c178d745f1",
    "deepnote_cell_type": "code",
    "deepnote_to_be_reexecuted": false,
    "execution_millis": 90,
    "execution_start": 1633637816139,
    "source_hash": "6bc7bee3"
   },
   "outputs": [
    {
     "data": {
      "application/vnd.jupyter.widget-view+json": {
       "model_id": "cbe71af7e87c4e2c87d2a8851213e5e7",
       "version_major": 2,
       "version_minor": 0
      },
      "text/plain": [
       "Calculating Metrics:   0%|          | 0/3 [00:00<?, ?it/s]"
      ]
     },
     "metadata": {},
     "output_type": "display_data"
    },
    {
     "data": {
      "text/plain": [
       "{\n",
       "  \"result\": {\n",
       "    \"observed_value\": 19\n",
       "  },\n",
       "  \"meta\": {},\n",
       "  \"success\": true,\n",
       "  \"exception_info\": {\n",
       "    \"raised_exception\": false,\n",
       "    \"exception_traceback\": null,\n",
       "    \"exception_message\": null\n",
       "  }\n",
       "}"
      ]
     },
     "execution_count": 12,
     "metadata": {},
     "output_type": "execute_result"
    }
   ],
   "source": [
    "\n",
    "validator.expect_column_min_to_be_between(column='Age', max_value=23, min_value=15)"
   ]
  },
  {
   "cell_type": "code",
   "execution_count": 13,
   "id": "3ed9862d",
   "metadata": {
    "ExecuteTime": {
     "end_time": "2021-10-07T20:59:21.835515Z",
     "start_time": "2021-10-07T20:59:21.815537Z"
    },
    "cell_id": "00018-53d40c68-2a71-4834-9fa5-6651ee74a390",
    "deepnote_cell_type": "code",
    "deepnote_to_be_reexecuted": false,
    "execution_millis": 93,
    "execution_start": 1633637816701,
    "source_hash": "30577458"
   },
   "outputs": [
    {
     "data": {
      "application/vnd.jupyter.widget-view+json": {
       "model_id": "bd171a2eae4d43d1bcd13386bd6dfad6",
       "version_major": 2,
       "version_minor": 0
      },
      "text/plain": [
       "Calculating Metrics:   0%|          | 0/3 [00:00<?, ?it/s]"
      ]
     },
     "metadata": {},
     "output_type": "display_data"
    },
    {
     "data": {
      "text/plain": [
       "{\n",
       "  \"result\": {\n",
       "    \"observed_value\": 61\n",
       "  },\n",
       "  \"meta\": {},\n",
       "  \"success\": true,\n",
       "  \"exception_info\": {\n",
       "    \"raised_exception\": false,\n",
       "    \"exception_traceback\": null,\n",
       "    \"exception_message\": null\n",
       "  }\n",
       "}"
      ]
     },
     "execution_count": 13,
     "metadata": {},
     "output_type": "execute_result"
    }
   ],
   "source": [
    "\n",
    "validator.expect_column_max_to_be_between(column='Age', max_value=70, min_value=57)"
   ]
  },
  {
   "cell_type": "code",
   "execution_count": 14,
   "id": "ca57778e",
   "metadata": {
    "ExecuteTime": {
     "end_time": "2021-10-07T20:59:21.855429Z",
     "start_time": "2021-10-07T20:59:21.836441Z"
    },
    "cell_id": "00019-385c5fd5-f0ed-4b89-a412-d4aa3c0ee496",
    "deepnote_cell_type": "code",
    "deepnote_to_be_reexecuted": false,
    "execution_millis": 110,
    "execution_start": 1633637818438,
    "source_hash": "534d2ffe"
   },
   "outputs": [
    {
     "data": {
      "application/vnd.jupyter.widget-view+json": {
       "model_id": "f01f6bebdb3c4f0a8f64c4a111025c92",
       "version_major": 2,
       "version_minor": 0
      },
      "text/plain": [
       "Calculating Metrics:   0%|          | 0/3 [00:00<?, ?it/s]"
      ]
     },
     "metadata": {},
     "output_type": "display_data"
    },
    {
     "data": {
      "text/plain": [
       "{\n",
       "  \"result\": {\n",
       "    \"observed_value\": 36.05081967213115\n",
       "  },\n",
       "  \"meta\": {},\n",
       "  \"success\": true,\n",
       "  \"exception_info\": {\n",
       "    \"raised_exception\": false,\n",
       "    \"exception_traceback\": null,\n",
       "    \"exception_message\": null\n",
       "  }\n",
       "}"
      ]
     },
     "execution_count": 14,
     "metadata": {},
     "output_type": "execute_result"
    }
   ],
   "source": [
    "\n",
    "validator.expect_column_mean_to_be_between(column='Age', max_value=40, min_value=30)"
   ]
  },
  {
   "cell_type": "code",
   "execution_count": 15,
   "id": "48c1df47",
   "metadata": {
    "ExecuteTime": {
     "end_time": "2021-10-07T20:59:21.879947Z",
     "start_time": "2021-10-07T20:59:21.856355Z"
    },
    "cell_id": "00023-e6668ec5-815b-44b6-8f0b-a3351cd945bc",
    "deepnote_cell_type": "code",
    "deepnote_to_be_reexecuted": false,
    "execution_millis": 38,
    "execution_start": 1633637819080,
    "source_hash": "f415c27d"
   },
   "outputs": [
    {
     "data": {
      "application/vnd.jupyter.widget-view+json": {
       "model_id": "d3abbb92cefb40a8b11d5e8a0a5bc0d2",
       "version_major": 2,
       "version_minor": 0
      },
      "text/plain": [
       "Calculating Metrics:   0%|          | 0/6 [00:00<?, ?it/s]"
      ]
     },
     "metadata": {},
     "output_type": "display_data"
    },
    {
     "data": {
      "text/plain": [
       "{\n",
       "  \"result\": {\n",
       "    \"element_count\": 610,\n",
       "    \"unexpected_count\": 0,\n",
       "    \"unexpected_percent\": 0.0,\n",
       "    \"partial_unexpected_list\": []\n",
       "  },\n",
       "  \"meta\": {},\n",
       "  \"success\": true,\n",
       "  \"exception_info\": {\n",
       "    \"raised_exception\": false,\n",
       "    \"exception_traceback\": null,\n",
       "    \"exception_message\": null\n",
       "  }\n",
       "}"
      ]
     },
     "execution_count": 15,
     "metadata": {},
     "output_type": "execute_result"
    }
   ],
   "source": [
    "\n",
    "validator.expect_column_values_to_not_be_null(column='Age')"
   ]
  },
  {
   "cell_type": "code",
   "execution_count": 16,
   "id": "79c97de0",
   "metadata": {
    "ExecuteTime": {
     "end_time": "2021-10-07T20:59:21.885852Z",
     "start_time": "2021-10-07T20:59:21.880806Z"
    },
    "cell_id": "00025-3b572ced-67bd-4bb9-bf59-3a24a5a66b86",
    "deepnote_cell_type": "code",
    "deepnote_to_be_reexecuted": false,
    "execution_millis": 25,
    "execution_start": 1633637820576,
    "source_hash": "d7aa5f2d"
   },
   "outputs": [
    {
     "data": {
      "text/plain": [
       "{\n",
       "  \"result\": {\n",
       "    \"observed_value\": \"int64\"\n",
       "  },\n",
       "  \"meta\": {},\n",
       "  \"success\": true,\n",
       "  \"exception_info\": {\n",
       "    \"raised_exception\": false,\n",
       "    \"exception_traceback\": null,\n",
       "    \"exception_message\": null\n",
       "  }\n",
       "}"
      ]
     },
     "execution_count": 16,
     "metadata": {},
     "output_type": "execute_result"
    }
   ],
   "source": [
    "\n",
    "validator.expect_column_values_to_be_in_type_list(column='Age', type_list=['INTEGER', 'integer', 'int', 'int_', 'int8', 'int16', 'int32', 'int64', 'uint8', 'uint16', 'uint32', 'uint64', 'INT', 'INTEGER', 'INT64', 'TINYINT', 'BYTEINT', 'SMALLINT', 'BIGINT', 'IntegerType', 'LongType'])"
   ]
  },
  {
   "cell_type": "markdown",
   "id": "a9f94bc4",
   "metadata": {
    "cell_id": "00026-5184d599-e2f9-454e-a9f6-9f98e0ac43ee",
    "deepnote_cell_type": "markdown"
   },
   "source": [
    "#### `Area Income`"
   ]
  },
  {
   "cell_type": "code",
   "execution_count": 17,
   "id": "6ee5dd1c",
   "metadata": {
    "ExecuteTime": {
     "end_time": "2021-10-07T20:59:21.892764Z",
     "start_time": "2021-10-07T20:59:21.886595Z"
    },
    "cell_id": "00024-0eabd10e-2b13-4d21-b7f9-cfd9259672ba",
    "deepnote_cell_type": "code",
    "deepnote_to_be_reexecuted": false,
    "execution_millis": 26,
    "execution_start": 1633637823372,
    "source_hash": "1917a650",
    "tags": []
   },
   "outputs": [
    {
     "data": {
      "text/plain": [
       "count    610.000000  \n",
       "mean     55365.620951\n",
       "std      12992.334779\n",
       "min      14548.060000\n",
       "25%      47688.815000\n",
       "50%      57532.600000\n",
       "75%      65101.792500\n",
       "max      79484.800000\n",
       "Name: Area Income, dtype: float64"
      ]
     },
     "execution_count": 17,
     "metadata": {},
     "output_type": "execute_result"
    }
   ],
   "source": [
    "validator.active_batch.data.dataframe['Area Income'].describe()"
   ]
  },
  {
   "cell_type": "code",
   "execution_count": 18,
   "id": "2219fa68",
   "metadata": {
    "ExecuteTime": {
     "end_time": "2021-10-07T20:59:21.913446Z",
     "start_time": "2021-10-07T20:59:21.893453Z"
    },
    "cell_id": "00027-5463e33f-b852-4d1e-bc44-a53e2b6eb9aa",
    "deepnote_cell_type": "code",
    "deepnote_to_be_reexecuted": false,
    "execution_millis": 85,
    "execution_start": 1633637824208,
    "source_hash": "6a9ca75b"
   },
   "outputs": [
    {
     "data": {
      "application/vnd.jupyter.widget-view+json": {
       "model_id": "def5d52a84ab456eb104b32e680400a0",
       "version_major": 2,
       "version_minor": 0
      },
      "text/plain": [
       "Calculating Metrics:   0%|          | 0/3 [00:00<?, ?it/s]"
      ]
     },
     "metadata": {},
     "output_type": "display_data"
    },
    {
     "data": {
      "text/plain": [
       "{\n",
       "  \"result\": {\n",
       "    \"observed_value\": 14548.06\n",
       "  },\n",
       "  \"meta\": {},\n",
       "  \"success\": true,\n",
       "  \"exception_info\": {\n",
       "    \"raised_exception\": false,\n",
       "    \"exception_traceback\": null,\n",
       "    \"exception_message\": null\n",
       "  }\n",
       "}"
      ]
     },
     "execution_count": 18,
     "metadata": {},
     "output_type": "execute_result"
    }
   ],
   "source": [
    "\n",
    "validator.expect_column_min_to_be_between(column='Area Income', max_value=15000, min_value=12000)"
   ]
  },
  {
   "cell_type": "code",
   "execution_count": 19,
   "id": "2de6b3a0",
   "metadata": {
    "ExecuteTime": {
     "end_time": "2021-10-07T20:59:21.932033Z",
     "start_time": "2021-10-07T20:59:21.914213Z"
    },
    "cell_id": "00028-30dd8eee-7a3d-4025-8771-5ae16ec1b921",
    "deepnote_cell_type": "code",
    "deepnote_to_be_reexecuted": false,
    "execution_millis": 78,
    "execution_start": 1633637824918,
    "source_hash": "936b2911"
   },
   "outputs": [
    {
     "data": {
      "application/vnd.jupyter.widget-view+json": {
       "model_id": "5a09499d72d44012b3abc21df7569d3b",
       "version_major": 2,
       "version_minor": 0
      },
      "text/plain": [
       "Calculating Metrics:   0%|          | 0/3 [00:00<?, ?it/s]"
      ]
     },
     "metadata": {},
     "output_type": "display_data"
    },
    {
     "data": {
      "text/plain": [
       "{\n",
       "  \"result\": {\n",
       "    \"observed_value\": 79484.8\n",
       "  },\n",
       "  \"meta\": {},\n",
       "  \"success\": true,\n",
       "  \"exception_info\": {\n",
       "    \"raised_exception\": false,\n",
       "    \"exception_traceback\": null,\n",
       "    \"exception_message\": null\n",
       "  }\n",
       "}"
      ]
     },
     "execution_count": 19,
     "metadata": {},
     "output_type": "execute_result"
    }
   ],
   "source": [
    "\n",
    "validator.expect_column_max_to_be_between(column='Area Income', max_value=80000, min_value=70000)"
   ]
  },
  {
   "cell_type": "code",
   "execution_count": 20,
   "id": "f1228f12",
   "metadata": {
    "ExecuteTime": {
     "end_time": "2021-10-07T20:59:21.950491Z",
     "start_time": "2021-10-07T20:59:21.932739Z"
    },
    "cell_id": "00029-a373c1c3-10c5-4be2-b084-6f5ecb2a75bc",
    "deepnote_cell_type": "code",
    "deepnote_to_be_reexecuted": false,
    "execution_millis": 95,
    "execution_start": 1633637825322,
    "source_hash": "e357bd22"
   },
   "outputs": [
    {
     "data": {
      "application/vnd.jupyter.widget-view+json": {
       "model_id": "59065681d9644db19cdf3912e279e28b",
       "version_major": 2,
       "version_minor": 0
      },
      "text/plain": [
       "Calculating Metrics:   0%|          | 0/3 [00:00<?, ?it/s]"
      ]
     },
     "metadata": {},
     "output_type": "display_data"
    },
    {
     "data": {
      "text/plain": [
       "{\n",
       "  \"result\": {\n",
       "    \"observed_value\": 55365.62095081966\n",
       "  },\n",
       "  \"meta\": {},\n",
       "  \"success\": true,\n",
       "  \"exception_info\": {\n",
       "    \"raised_exception\": false,\n",
       "    \"exception_traceback\": null,\n",
       "    \"exception_message\": null\n",
       "  }\n",
       "}"
      ]
     },
     "execution_count": 20,
     "metadata": {},
     "output_type": "execute_result"
    }
   ],
   "source": [
    "\n",
    "validator.expect_column_mean_to_be_between(column='Area Income', max_value=65000, min_value=54000)"
   ]
  },
  {
   "cell_type": "code",
   "execution_count": 21,
   "id": "ec18be96",
   "metadata": {
    "ExecuteTime": {
     "end_time": "2021-10-07T20:59:21.973683Z",
     "start_time": "2021-10-07T20:59:21.951208Z"
    },
    "cell_id": "00032-4a9c7b47-c19b-4dcf-a765-6f9025f9326b",
    "deepnote_cell_type": "code",
    "deepnote_to_be_reexecuted": false,
    "execution_millis": 83,
    "execution_start": 1633637825855,
    "source_hash": "2e6b9aec"
   },
   "outputs": [
    {
     "data": {
      "application/vnd.jupyter.widget-view+json": {
       "model_id": "b7fe92f2257b49ef83efd52b968a7111",
       "version_major": 2,
       "version_minor": 0
      },
      "text/plain": [
       "Calculating Metrics:   0%|          | 0/6 [00:00<?, ?it/s]"
      ]
     },
     "metadata": {},
     "output_type": "display_data"
    },
    {
     "data": {
      "text/plain": [
       "{\n",
       "  \"result\": {\n",
       "    \"element_count\": 610,\n",
       "    \"unexpected_count\": 0,\n",
       "    \"unexpected_percent\": 0.0,\n",
       "    \"partial_unexpected_list\": []\n",
       "  },\n",
       "  \"meta\": {},\n",
       "  \"success\": true,\n",
       "  \"exception_info\": {\n",
       "    \"raised_exception\": false,\n",
       "    \"exception_traceback\": null,\n",
       "    \"exception_message\": null\n",
       "  }\n",
       "}"
      ]
     },
     "execution_count": 21,
     "metadata": {},
     "output_type": "execute_result"
    }
   ],
   "source": [
    "\n",
    "validator.expect_column_values_to_not_be_null(column='Area Income')"
   ]
  },
  {
   "cell_type": "code",
   "execution_count": 22,
   "id": "9d6fd391",
   "metadata": {
    "ExecuteTime": {
     "end_time": "2021-10-07T20:59:21.979041Z",
     "start_time": "2021-10-07T20:59:21.974629Z"
    },
    "cell_id": "00034-a25d60c7-ffc7-451f-b991-aa762c1dcf65",
    "deepnote_cell_type": "code",
    "deepnote_to_be_reexecuted": false,
    "execution_millis": 5,
    "execution_start": 1633637826198,
    "source_hash": "4a4b791b"
   },
   "outputs": [
    {
     "data": {
      "text/plain": [
       "{\n",
       "  \"result\": {\n",
       "    \"observed_value\": \"float64\"\n",
       "  },\n",
       "  \"meta\": {},\n",
       "  \"success\": true,\n",
       "  \"exception_info\": {\n",
       "    \"raised_exception\": false,\n",
       "    \"exception_traceback\": null,\n",
       "    \"exception_message\": null\n",
       "  }\n",
       "}"
      ]
     },
     "execution_count": 22,
     "metadata": {},
     "output_type": "execute_result"
    }
   ],
   "source": [
    "\n",
    "validator.expect_column_values_to_be_in_type_list(column='Area Income', type_list=['FLOAT', 'FLOAT4', 'FLOAT8', 'FLOAT64', 'DOUBLE', 'DOUBLE_PRECISION', 'NUMERIC', 'FloatType', 'DoubleType', 'float_', 'float16', 'float32', 'float64', 'number', 'DECIMAL', 'REAL'])"
   ]
  },
  {
   "cell_type": "markdown",
   "id": "4a99fa68",
   "metadata": {
    "cell_id": "00035-24b826c0-a2e2-4385-8a0e-b6f228b626d3",
    "deepnote_cell_type": "markdown"
   },
   "source": [
    "#### `Daily Internet Usage`"
   ]
  },
  {
   "cell_type": "code",
   "execution_count": 23,
   "id": "a4ed43ad",
   "metadata": {
    "ExecuteTime": {
     "end_time": "2021-10-07T20:59:22.000147Z",
     "start_time": "2021-10-07T20:59:21.979836Z"
    },
    "cell_id": "00036-0853f172-4376-4c69-8d4a-e0c5de42f1ca",
    "deepnote_cell_type": "code",
    "deepnote_to_be_reexecuted": false,
    "execution_millis": 98,
    "execution_start": 1633637827511,
    "source_hash": "bd474f46"
   },
   "outputs": [
    {
     "data": {
      "application/vnd.jupyter.widget-view+json": {
       "model_id": "f0d1d3e50541470385d28f4d5843bf2f",
       "version_major": 2,
       "version_minor": 0
      },
      "text/plain": [
       "Calculating Metrics:   0%|          | 0/3 [00:00<?, ?it/s]"
      ]
     },
     "metadata": {},
     "output_type": "display_data"
    },
    {
     "data": {
      "text/plain": [
       "{\n",
       "  \"result\": {\n",
       "    \"observed_value\": 105.0\n",
       "  },\n",
       "  \"meta\": {},\n",
       "  \"success\": true,\n",
       "  \"exception_info\": {\n",
       "    \"raised_exception\": false,\n",
       "    \"exception_traceback\": null,\n",
       "    \"exception_message\": null\n",
       "  }\n",
       "}"
      ]
     },
     "execution_count": 23,
     "metadata": {},
     "output_type": "execute_result"
    }
   ],
   "source": [
    " \n",
    "validator.expect_column_min_to_be_between(column='Daily Internet Usage', max_value=110, min_value=95)"
   ]
  },
  {
   "cell_type": "code",
   "execution_count": 24,
   "id": "3b19da28",
   "metadata": {
    "ExecuteTime": {
     "end_time": "2021-10-07T20:59:22.025365Z",
     "start_time": "2021-10-07T20:59:22.000838Z"
    },
    "cell_id": "00037-9110f47d-9522-4fb5-8c8a-1b6b6acea785",
    "deepnote_cell_type": "code",
    "deepnote_to_be_reexecuted": false,
    "execution_millis": 64,
    "execution_start": 1633637828086,
    "source_hash": "285abc24"
   },
   "outputs": [
    {
     "data": {
      "application/vnd.jupyter.widget-view+json": {
       "model_id": "f5bee7025ef64a7f871475c5d2716b94",
       "version_major": 2,
       "version_minor": 0
      },
      "text/plain": [
       "Calculating Metrics:   0%|          | 0/3 [00:00<?, ?it/s]"
      ]
     },
     "metadata": {},
     "output_type": "display_data"
    },
    {
     "data": {
      "text/plain": [
       "{\n",
       "  \"result\": {\n",
       "    \"observed_value\": 269.96\n",
       "  },\n",
       "  \"meta\": {},\n",
       "  \"success\": true,\n",
       "  \"exception_info\": {\n",
       "    \"raised_exception\": false,\n",
       "    \"exception_traceback\": null,\n",
       "    \"exception_message\": null\n",
       "  }\n",
       "}"
      ]
     },
     "execution_count": 24,
     "metadata": {},
     "output_type": "execute_result"
    }
   ],
   "source": [
    "\n",
    "validator.expect_column_max_to_be_between(column='Daily Internet Usage', max_value=270, min_value=250)"
   ]
  },
  {
   "cell_type": "code",
   "execution_count": 25,
   "id": "f1f7c2a9",
   "metadata": {
    "ExecuteTime": {
     "end_time": "2021-10-07T20:59:22.050335Z",
     "start_time": "2021-10-07T20:59:22.027127Z"
    },
    "cell_id": "00038-d43a16e4-8993-4e78-bc02-a610ea5afbba",
    "deepnote_cell_type": "code",
    "deepnote_to_be_reexecuted": false,
    "execution_millis": 69,
    "execution_start": 1633637828756,
    "source_hash": "70cbbf18"
   },
   "outputs": [
    {
     "data": {
      "application/vnd.jupyter.widget-view+json": {
       "model_id": "6afe9b88c6fa412391f0b9df7c283dd0",
       "version_major": 2,
       "version_minor": 0
      },
      "text/plain": [
       "Calculating Metrics:   0%|          | 0/3 [00:00<?, ?it/s]"
      ]
     },
     "metadata": {},
     "output_type": "display_data"
    },
    {
     "data": {
      "text/plain": [
       "{\n",
       "  \"result\": {\n",
       "    \"observed_value\": 179.4397868852459\n",
       "  },\n",
       "  \"meta\": {},\n",
       "  \"success\": true,\n",
       "  \"exception_info\": {\n",
       "    \"raised_exception\": false,\n",
       "    \"exception_traceback\": null,\n",
       "    \"exception_message\": null\n",
       "  }\n",
       "}"
      ]
     },
     "execution_count": 25,
     "metadata": {},
     "output_type": "execute_result"
    }
   ],
   "source": [
    "\n",
    "validator.expect_column_mean_to_be_between(column='Daily Internet Usage', max_value=185, min_value=170)"
   ]
  },
  {
   "cell_type": "code",
   "execution_count": 26,
   "id": "a8acaa4f",
   "metadata": {
    "ExecuteTime": {
     "end_time": "2021-10-07T20:59:22.076054Z",
     "start_time": "2021-10-07T20:59:22.051424Z"
    },
    "cell_id": "00041-9d0de7dc-d3cf-43ed-a214-8723b54bfcaf",
    "deepnote_cell_type": "code",
    "deepnote_to_be_reexecuted": false,
    "execution_millis": 107,
    "execution_start": 1633637830375,
    "source_hash": "53a9889a"
   },
   "outputs": [
    {
     "data": {
      "application/vnd.jupyter.widget-view+json": {
       "model_id": "0b6a1bd5c9334f09a5f4363a95d26222",
       "version_major": 2,
       "version_minor": 0
      },
      "text/plain": [
       "Calculating Metrics:   0%|          | 0/6 [00:00<?, ?it/s]"
      ]
     },
     "metadata": {},
     "output_type": "display_data"
    },
    {
     "data": {
      "text/plain": [
       "{\n",
       "  \"result\": {\n",
       "    \"element_count\": 610,\n",
       "    \"unexpected_count\": 0,\n",
       "    \"unexpected_percent\": 0.0,\n",
       "    \"partial_unexpected_list\": []\n",
       "  },\n",
       "  \"meta\": {},\n",
       "  \"success\": true,\n",
       "  \"exception_info\": {\n",
       "    \"raised_exception\": false,\n",
       "    \"exception_traceback\": null,\n",
       "    \"exception_message\": null\n",
       "  }\n",
       "}"
      ]
     },
     "execution_count": 26,
     "metadata": {},
     "output_type": "execute_result"
    }
   ],
   "source": [
    "\n",
    "validator.expect_column_values_to_not_be_null(column='Daily Internet Usage')"
   ]
  },
  {
   "cell_type": "code",
   "execution_count": 27,
   "id": "0e265484",
   "metadata": {
    "ExecuteTime": {
     "end_time": "2021-10-07T20:59:22.081984Z",
     "start_time": "2021-10-07T20:59:22.077061Z"
    },
    "cell_id": "00043-edc7d4db-c534-4ebe-95ee-b1143f0e91c3",
    "deepnote_cell_type": "code",
    "deepnote_to_be_reexecuted": false,
    "execution_millis": 15,
    "execution_start": 1633637830866,
    "source_hash": "ed46a9cc"
   },
   "outputs": [
    {
     "data": {
      "text/plain": [
       "{\n",
       "  \"result\": {\n",
       "    \"observed_value\": \"float64\"\n",
       "  },\n",
       "  \"meta\": {},\n",
       "  \"success\": true,\n",
       "  \"exception_info\": {\n",
       "    \"raised_exception\": false,\n",
       "    \"exception_traceback\": null,\n",
       "    \"exception_message\": null\n",
       "  }\n",
       "}"
      ]
     },
     "execution_count": 27,
     "metadata": {},
     "output_type": "execute_result"
    }
   ],
   "source": [
    "\n",
    "validator.expect_column_values_to_be_in_type_list(column='Daily Internet Usage', type_list=['FLOAT', 'FLOAT4', 'FLOAT8', 'FLOAT64', 'DOUBLE', 'DOUBLE_PRECISION', 'NUMERIC', 'FloatType', 'DoubleType', 'float_', 'float16', 'float32', 'float64', 'number', 'DECIMAL', 'REAL'])"
   ]
  },
  {
   "cell_type": "markdown",
   "id": "e2b1ffcd",
   "metadata": {
    "cell_id": "00044-d20ec7cf-5bb7-4956-b5c6-80d94d570353",
    "deepnote_cell_type": "markdown"
   },
   "source": [
    "#### `Ad Topic Line`"
   ]
  },
  {
   "cell_type": "code",
   "execution_count": 28,
   "id": "838fc459",
   "metadata": {
    "ExecuteTime": {
     "end_time": "2021-10-07T20:59:22.106278Z",
     "start_time": "2021-10-07T20:59:22.084225Z"
    },
    "cell_id": "00045-3726d70b-8e66-45cc-9bf3-8878f75a9aae",
    "deepnote_cell_type": "code",
    "deepnote_to_be_reexecuted": false,
    "execution_millis": 101,
    "execution_start": 1633637833439,
    "source_hash": "294b4416"
   },
   "outputs": [
    {
     "data": {
      "application/vnd.jupyter.widget-view+json": {
       "model_id": "9728639408ed484b951147ffed52235c",
       "version_major": 2,
       "version_minor": 0
      },
      "text/plain": [
       "Calculating Metrics:   0%|          | 0/6 [00:00<?, ?it/s]"
      ]
     },
     "metadata": {},
     "output_type": "display_data"
    },
    {
     "data": {
      "text/plain": [
       "{\n",
       "  \"result\": {\n",
       "    \"element_count\": 610,\n",
       "    \"unexpected_count\": 0,\n",
       "    \"unexpected_percent\": 0.0,\n",
       "    \"partial_unexpected_list\": []\n",
       "  },\n",
       "  \"meta\": {},\n",
       "  \"success\": true,\n",
       "  \"exception_info\": {\n",
       "    \"raised_exception\": false,\n",
       "    \"exception_traceback\": null,\n",
       "    \"exception_message\": null\n",
       "  }\n",
       "}"
      ]
     },
     "execution_count": 28,
     "metadata": {},
     "output_type": "execute_result"
    }
   ],
   "source": [
    "\n",
    "validator.expect_column_values_to_not_be_null(column='Ad Topic Line')"
   ]
  },
  {
   "cell_type": "code",
   "execution_count": 29,
   "id": "88e6dc41",
   "metadata": {
    "ExecuteTime": {
     "end_time": "2021-10-07T20:59:22.134066Z",
     "start_time": "2021-10-07T20:59:22.107019Z"
    },
    "cell_id": "00047-6e0c983d-dce1-4b2f-b947-4f8d91b38e67",
    "deepnote_cell_type": "code",
    "deepnote_to_be_reexecuted": false,
    "execution_millis": 111,
    "execution_start": 1633637834866,
    "source_hash": "13424311"
   },
   "outputs": [
    {
     "data": {
      "application/vnd.jupyter.widget-view+json": {
       "model_id": "5677a72753f643c1b94f94b5dcc41d71",
       "version_major": 2,
       "version_minor": 0
      },
      "text/plain": [
       "Calculating Metrics:   0%|          | 0/8 [00:00<?, ?it/s]"
      ]
     },
     "metadata": {},
     "output_type": "display_data"
    },
    {
     "data": {
      "text/plain": [
       "{\n",
       "  \"result\": {\n",
       "    \"element_count\": 610,\n",
       "    \"unexpected_count\": 0,\n",
       "    \"unexpected_percent\": 0.0,\n",
       "    \"partial_unexpected_list\": [],\n",
       "    \"missing_count\": 0,\n",
       "    \"missing_percent\": 0.0,\n",
       "    \"unexpected_percent_total\": 0.0,\n",
       "    \"unexpected_percent_nonmissing\": 0.0\n",
       "  },\n",
       "  \"meta\": {},\n",
       "  \"success\": true,\n",
       "  \"exception_info\": {\n",
       "    \"raised_exception\": false,\n",
       "    \"exception_traceback\": null,\n",
       "    \"exception_message\": null\n",
       "  }\n",
       "}"
      ]
     },
     "execution_count": 29,
     "metadata": {},
     "output_type": "execute_result"
    }
   ],
   "source": [
    "\n",
    "validator.expect_column_values_to_be_in_type_list(column='Ad Topic Line', type_list=['CHAR', 'NCHAR', 'VARCHAR', 'NVARCHAR', 'TEXT', 'NTEXT', 'STRING', 'StringType', 'string', 'str', 'object', \"dtype('O')\"])"
   ]
  },
  {
   "cell_type": "markdown",
   "id": "38cef757",
   "metadata": {
    "cell_id": "00048-2d4a944a-0b19-46e3-abd2-e34cca085368",
    "deepnote_cell_type": "markdown"
   },
   "source": [
    "#### `City`"
   ]
  },
  {
   "cell_type": "code",
   "execution_count": 30,
   "id": "0aef6870",
   "metadata": {
    "ExecuteTime": {
     "end_time": "2021-10-07T20:59:22.159284Z",
     "start_time": "2021-10-07T20:59:22.134727Z"
    },
    "cell_id": "00049-3a23789e-607e-4ecb-8351-8da0736007b8",
    "deepnote_cell_type": "code",
    "deepnote_to_be_reexecuted": false,
    "execution_millis": 90,
    "execution_start": 1633637835600,
    "source_hash": "d1e21fa3"
   },
   "outputs": [
    {
     "data": {
      "application/vnd.jupyter.widget-view+json": {
       "model_id": "0a573fec548244acb69d4715a772bbad",
       "version_major": 2,
       "version_minor": 0
      },
      "text/plain": [
       "Calculating Metrics:   0%|          | 0/6 [00:00<?, ?it/s]"
      ]
     },
     "metadata": {},
     "output_type": "display_data"
    },
    {
     "data": {
      "text/plain": [
       "{\n",
       "  \"result\": {\n",
       "    \"element_count\": 610,\n",
       "    \"unexpected_count\": 0,\n",
       "    \"unexpected_percent\": 0.0,\n",
       "    \"partial_unexpected_list\": []\n",
       "  },\n",
       "  \"meta\": {},\n",
       "  \"success\": true,\n",
       "  \"exception_info\": {\n",
       "    \"raised_exception\": false,\n",
       "    \"exception_traceback\": null,\n",
       "    \"exception_message\": null\n",
       "  }\n",
       "}"
      ]
     },
     "execution_count": 30,
     "metadata": {},
     "output_type": "execute_result"
    }
   ],
   "source": [
    "\n",
    "validator.expect_column_values_to_not_be_null(column='City')"
   ]
  },
  {
   "cell_type": "code",
   "execution_count": 31,
   "id": "e5ab0b0a",
   "metadata": {
    "ExecuteTime": {
     "end_time": "2021-10-07T20:59:22.186159Z",
     "start_time": "2021-10-07T20:59:22.160501Z"
    },
    "cell_id": "00050-7f8cca05-7044-43d5-b46a-dc04fb5d0728",
    "deepnote_cell_type": "code",
    "deepnote_to_be_reexecuted": false,
    "execution_millis": 92,
    "execution_start": 1633637835887,
    "source_hash": "dc705f44"
   },
   "outputs": [
    {
     "data": {
      "application/vnd.jupyter.widget-view+json": {
       "model_id": "9cc1bc7e11034864971cc44b3a5962e2",
       "version_major": 2,
       "version_minor": 0
      },
      "text/plain": [
       "Calculating Metrics:   0%|          | 0/7 [00:00<?, ?it/s]"
      ]
     },
     "metadata": {},
     "output_type": "display_data"
    },
    {
     "data": {
      "text/plain": [
       "{\n",
       "  \"result\": {\n",
       "    \"observed_value\": 0.9819672131147541\n",
       "  },\n",
       "  \"meta\": {},\n",
       "  \"success\": true,\n",
       "  \"exception_info\": {\n",
       "    \"raised_exception\": false,\n",
       "    \"exception_traceback\": null,\n",
       "    \"exception_message\": null\n",
       "  }\n",
       "}"
      ]
     },
     "execution_count": 31,
     "metadata": {},
     "output_type": "execute_result"
    }
   ],
   "source": [
    "\n",
    "validator.expect_column_proportion_of_unique_values_to_be_between(column='City', max_value=0.999, min_value=0.9)"
   ]
  },
  {
   "cell_type": "code",
   "execution_count": 32,
   "id": "fe6f6721",
   "metadata": {
    "ExecuteTime": {
     "end_time": "2021-10-07T20:59:22.217606Z",
     "start_time": "2021-10-07T20:59:22.187084Z"
    },
    "cell_id": "00051-94d7e218-13ce-478a-be0e-e67007442441",
    "deepnote_cell_type": "code",
    "deepnote_to_be_reexecuted": false,
    "execution_millis": 98,
    "execution_start": 1633637836171,
    "source_hash": "3cce96fb"
   },
   "outputs": [
    {
     "data": {
      "application/vnd.jupyter.widget-view+json": {
       "model_id": "cdd74cfbc6dc4bb3a1ed8fb82603dd5b",
       "version_major": 2,
       "version_minor": 0
      },
      "text/plain": [
       "Calculating Metrics:   0%|          | 0/8 [00:00<?, ?it/s]"
      ]
     },
     "metadata": {},
     "output_type": "display_data"
    },
    {
     "data": {
      "text/plain": [
       "{\n",
       "  \"result\": {\n",
       "    \"element_count\": 610,\n",
       "    \"unexpected_count\": 0,\n",
       "    \"unexpected_percent\": 0.0,\n",
       "    \"partial_unexpected_list\": [],\n",
       "    \"missing_count\": 0,\n",
       "    \"missing_percent\": 0.0,\n",
       "    \"unexpected_percent_total\": 0.0,\n",
       "    \"unexpected_percent_nonmissing\": 0.0\n",
       "  },\n",
       "  \"meta\": {},\n",
       "  \"success\": true,\n",
       "  \"exception_info\": {\n",
       "    \"raised_exception\": false,\n",
       "    \"exception_traceback\": null,\n",
       "    \"exception_message\": null\n",
       "  }\n",
       "}"
      ]
     },
     "execution_count": 32,
     "metadata": {},
     "output_type": "execute_result"
    }
   ],
   "source": [
    "\n",
    "validator.expect_column_values_to_be_in_type_list(column='City', type_list=['CHAR', 'NCHAR', 'VARCHAR', 'NVARCHAR', 'TEXT', 'NTEXT', 'STRING', 'StringType', 'string', 'str', 'object', \"dtype('O')\"])"
   ]
  },
  {
   "cell_type": "markdown",
   "id": "e8aaa8e2",
   "metadata": {
    "cell_id": "00052-09057f21-488d-4ffb-92cd-b72621b8f6aa",
    "deepnote_cell_type": "markdown"
   },
   "source": [
    "#### `Male`"
   ]
  },
  {
   "cell_type": "code",
   "execution_count": 33,
   "id": "be3c96fa",
   "metadata": {
    "ExecuteTime": {
     "end_time": "2021-10-07T20:59:22.224636Z",
     "start_time": "2021-10-07T20:59:22.218898Z"
    },
    "cell_id": "00043-29906644-9685-4088-9547-7b1642e967d8",
    "deepnote_cell_type": "code",
    "deepnote_to_be_reexecuted": false,
    "execution_millis": 18,
    "execution_start": 1633637836719,
    "source_hash": "9812bbd7",
    "tags": []
   },
   "outputs": [
    {
     "data": {
      "text/plain": [
       "count    610.000000\n",
       "mean     0.485246  \n",
       "std      0.500192  \n",
       "min      0.000000  \n",
       "25%      0.000000  \n",
       "50%      0.000000  \n",
       "75%      1.000000  \n",
       "max      1.000000  \n",
       "Name: Male, dtype: float64"
      ]
     },
     "execution_count": 33,
     "metadata": {},
     "output_type": "execute_result"
    }
   ],
   "source": [
    "validator.active_batch.data.dataframe['Male'].describe()"
   ]
  },
  {
   "cell_type": "code",
   "execution_count": 34,
   "id": "cd3e7ee4",
   "metadata": {
    "ExecuteTime": {
     "end_time": "2021-10-07T20:59:22.259423Z",
     "start_time": "2021-10-07T20:59:22.225557Z"
    },
    "cell_id": "00058-f16bbab1-4fae-444d-84d1-2a74037aa9e7",
    "deepnote_cell_type": "code",
    "deepnote_to_be_reexecuted": false,
    "execution_millis": 70,
    "execution_start": 1633637837137,
    "source_hash": "2c734854"
   },
   "outputs": [
    {
     "data": {
      "application/vnd.jupyter.widget-view+json": {
       "model_id": "6bd0aeed807f4510926d01d931d4bc78",
       "version_major": 2,
       "version_minor": 0
      },
      "text/plain": [
       "Calculating Metrics:   0%|          | 0/8 [00:00<?, ?it/s]"
      ]
     },
     "metadata": {},
     "output_type": "display_data"
    },
    {
     "data": {
      "text/plain": [
       "{\n",
       "  \"result\": {\n",
       "    \"element_count\": 610,\n",
       "    \"unexpected_count\": 0,\n",
       "    \"unexpected_percent\": 0.0,\n",
       "    \"partial_unexpected_list\": [],\n",
       "    \"missing_count\": 0,\n",
       "    \"missing_percent\": 0.0,\n",
       "    \"unexpected_percent_total\": 0.0,\n",
       "    \"unexpected_percent_nonmissing\": 0.0\n",
       "  },\n",
       "  \"meta\": {},\n",
       "  \"success\": true,\n",
       "  \"exception_info\": {\n",
       "    \"raised_exception\": false,\n",
       "    \"exception_traceback\": null,\n",
       "    \"exception_message\": null\n",
       "  }\n",
       "}"
      ]
     },
     "execution_count": 34,
     "metadata": {},
     "output_type": "execute_result"
    }
   ],
   "source": [
    "\n",
    "validator.expect_column_values_to_be_in_set(column='Male', value_set=[0, 1])"
   ]
  },
  {
   "cell_type": "code",
   "execution_count": 35,
   "id": "c67ac834",
   "metadata": {
    "ExecuteTime": {
     "end_time": "2021-10-07T20:59:22.285628Z",
     "start_time": "2021-10-07T20:59:22.260598Z"
    },
    "cell_id": "00045-65da9152-92b0-46aa-8fb1-deae608832b7",
    "deepnote_cell_type": "code",
    "deepnote_to_be_reexecuted": false,
    "execution_millis": 75,
    "execution_start": 1633637837414,
    "source_hash": "fb6e9ff1",
    "tags": []
   },
   "outputs": [
    {
     "data": {
      "application/vnd.jupyter.widget-view+json": {
       "model_id": "850bca2931804449b15007cdeceb1c06",
       "version_major": 2,
       "version_minor": 0
      },
      "text/plain": [
       "Calculating Metrics:   0%|          | 0/3 [00:00<?, ?it/s]"
      ]
     },
     "metadata": {},
     "output_type": "display_data"
    },
    {
     "data": {
      "text/plain": [
       "{\n",
       "  \"result\": {\n",
       "    \"observed_value\": 0.4852459016393443\n",
       "  },\n",
       "  \"meta\": {},\n",
       "  \"success\": true,\n",
       "  \"exception_info\": {\n",
       "    \"raised_exception\": false,\n",
       "    \"exception_traceback\": null,\n",
       "    \"exception_message\": null\n",
       "  }\n",
       "}"
      ]
     },
     "execution_count": 35,
     "metadata": {},
     "output_type": "execute_result"
    }
   ],
   "source": [
    "validator.expect_column_mean_to_be_between(column='Male', max_value=0.55, min_value=0.45)"
   ]
  },
  {
   "cell_type": "code",
   "execution_count": 36,
   "id": "e753d6b4",
   "metadata": {
    "ExecuteTime": {
     "end_time": "2021-10-07T20:59:22.320069Z",
     "start_time": "2021-10-07T20:59:22.286691Z"
    },
    "cell_id": "00059-a090e74c-bd6f-4ea6-b726-acb377f1b6fd",
    "deepnote_cell_type": "code",
    "deepnote_to_be_reexecuted": false,
    "execution_millis": 91,
    "execution_start": 1633637838770,
    "source_hash": "6208844f"
   },
   "outputs": [
    {
     "data": {
      "application/vnd.jupyter.widget-view+json": {
       "model_id": "31422e0609d24f9384d601d6d59ff441",
       "version_major": 2,
       "version_minor": 0
      },
      "text/plain": [
       "Calculating Metrics:   0%|          | 0/6 [00:00<?, ?it/s]"
      ]
     },
     "metadata": {},
     "output_type": "display_data"
    },
    {
     "data": {
      "text/plain": [
       "{\n",
       "  \"result\": {\n",
       "    \"element_count\": 610,\n",
       "    \"unexpected_count\": 0,\n",
       "    \"unexpected_percent\": 0.0,\n",
       "    \"partial_unexpected_list\": []\n",
       "  },\n",
       "  \"meta\": {},\n",
       "  \"success\": true,\n",
       "  \"exception_info\": {\n",
       "    \"raised_exception\": false,\n",
       "    \"exception_traceback\": null,\n",
       "    \"exception_message\": null\n",
       "  }\n",
       "}"
      ]
     },
     "execution_count": 36,
     "metadata": {},
     "output_type": "execute_result"
    }
   ],
   "source": [
    "\n",
    "validator.expect_column_values_to_not_be_null(column='Male')"
   ]
  },
  {
   "cell_type": "code",
   "execution_count": 37,
   "id": "519d0758",
   "metadata": {
    "ExecuteTime": {
     "end_time": "2021-10-07T20:59:22.328812Z",
     "start_time": "2021-10-07T20:59:22.321306Z"
    },
    "cell_id": "00061-e2126b53-a864-4697-8e49-311bfb7483c3",
    "deepnote_cell_type": "code",
    "deepnote_to_be_reexecuted": false,
    "execution_millis": 22,
    "execution_start": 1633637839004,
    "source_hash": "78780f19"
   },
   "outputs": [
    {
     "data": {
      "text/plain": [
       "{\n",
       "  \"result\": {\n",
       "    \"observed_value\": \"int64\"\n",
       "  },\n",
       "  \"meta\": {},\n",
       "  \"success\": true,\n",
       "  \"exception_info\": {\n",
       "    \"raised_exception\": false,\n",
       "    \"exception_traceback\": null,\n",
       "    \"exception_message\": null\n",
       "  }\n",
       "}"
      ]
     },
     "execution_count": 37,
     "metadata": {},
     "output_type": "execute_result"
    }
   ],
   "source": [
    "\n",
    "validator.expect_column_values_to_be_in_type_list(column='Male', type_list=['INTEGER', 'integer', 'int', 'int_', 'int8', 'int16', 'int32', 'int64', 'uint8', 'uint16', 'uint32', 'uint64', 'INT', 'INTEGER', 'INT64', 'TINYINT', 'BYTEINT', 'SMALLINT', 'BIGINT', 'IntegerType', 'LongType'])"
   ]
  },
  {
   "cell_type": "markdown",
   "id": "6b723d1a",
   "metadata": {
    "cell_id": "00062-9d92b0c6-f326-4df8-9550-97725b011865",
    "deepnote_cell_type": "markdown"
   },
   "source": [
    "#### `Country`"
   ]
  },
  {
   "cell_type": "code",
   "execution_count": 38,
   "id": "a7708c63",
   "metadata": {
    "ExecuteTime": {
     "end_time": "2021-10-07T20:59:22.360677Z",
     "start_time": "2021-10-07T20:59:22.329962Z"
    },
    "cell_id": "00063-7d419322-3ba5-4a24-a73a-d985cd417a5c",
    "deepnote_cell_type": "code",
    "deepnote_to_be_reexecuted": false,
    "execution_millis": 67,
    "execution_start": 1633637841354,
    "source_hash": "980e0b36"
   },
   "outputs": [
    {
     "data": {
      "application/vnd.jupyter.widget-view+json": {
       "model_id": "0d274472869741e5b87a79cf411489be",
       "version_major": 2,
       "version_minor": 0
      },
      "text/plain": [
       "Calculating Metrics:   0%|          | 0/6 [00:00<?, ?it/s]"
      ]
     },
     "metadata": {},
     "output_type": "display_data"
    },
    {
     "data": {
      "text/plain": [
       "{\n",
       "  \"result\": {\n",
       "    \"element_count\": 610,\n",
       "    \"unexpected_count\": 0,\n",
       "    \"unexpected_percent\": 0.0,\n",
       "    \"partial_unexpected_list\": []\n",
       "  },\n",
       "  \"meta\": {},\n",
       "  \"success\": true,\n",
       "  \"exception_info\": {\n",
       "    \"raised_exception\": false,\n",
       "    \"exception_traceback\": null,\n",
       "    \"exception_message\": null\n",
       "  }\n",
       "}"
      ]
     },
     "execution_count": 38,
     "metadata": {},
     "output_type": "execute_result"
    }
   ],
   "source": [
    "\n",
    "validator.expect_column_values_to_not_be_null(column='Country')"
   ]
  },
  {
   "cell_type": "code",
   "execution_count": 39,
   "id": "99dd1963",
   "metadata": {
    "ExecuteTime": {
     "end_time": "2021-10-07T20:59:22.391110Z",
     "start_time": "2021-10-07T20:59:22.361810Z"
    },
    "cell_id": "00065-fcef4a52-15ab-48cf-a7fd-47c919f34a70",
    "deepnote_cell_type": "code",
    "deepnote_to_be_reexecuted": false,
    "execution_millis": 45,
    "execution_start": 1633637843078,
    "source_hash": "19ac0beb"
   },
   "outputs": [
    {
     "data": {
      "application/vnd.jupyter.widget-view+json": {
       "model_id": "75805ef45eb74aee8e2fde3e9f237a79",
       "version_major": 2,
       "version_minor": 0
      },
      "text/plain": [
       "Calculating Metrics:   0%|          | 0/8 [00:00<?, ?it/s]"
      ]
     },
     "metadata": {},
     "output_type": "display_data"
    },
    {
     "data": {
      "text/plain": [
       "{\n",
       "  \"result\": {\n",
       "    \"element_count\": 610,\n",
       "    \"unexpected_count\": 0,\n",
       "    \"unexpected_percent\": 0.0,\n",
       "    \"partial_unexpected_list\": [],\n",
       "    \"missing_count\": 0,\n",
       "    \"missing_percent\": 0.0,\n",
       "    \"unexpected_percent_total\": 0.0,\n",
       "    \"unexpected_percent_nonmissing\": 0.0\n",
       "  },\n",
       "  \"meta\": {},\n",
       "  \"success\": true,\n",
       "  \"exception_info\": {\n",
       "    \"raised_exception\": false,\n",
       "    \"exception_traceback\": null,\n",
       "    \"exception_message\": null\n",
       "  }\n",
       "}"
      ]
     },
     "execution_count": 39,
     "metadata": {},
     "output_type": "execute_result"
    }
   ],
   "source": [
    "\n",
    "validator.expect_column_values_to_be_in_type_list(column='Country', type_list=['CHAR', 'NCHAR', 'VARCHAR', 'NVARCHAR', 'TEXT', 'NTEXT', 'STRING', 'StringType', 'string', 'str', 'object', \"dtype('O')\"])"
   ]
  },
  {
   "cell_type": "markdown",
   "id": "ac9f5e24",
   "metadata": {
    "cell_id": "00066-1bfbff9e-9b3e-42d4-b077-1a58f2268dee",
    "deepnote_cell_type": "markdown"
   },
   "source": [
    "#### `Timestamp`"
   ]
  },
  {
   "cell_type": "code",
   "execution_count": 40,
   "id": "46be1ba0",
   "metadata": {
    "ExecuteTime": {
     "end_time": "2021-10-07T20:59:22.413877Z",
     "start_time": "2021-10-07T20:59:22.391877Z"
    },
    "cell_id": "00067-bbb79ef1-1f5a-4ee3-a5fb-64ce603f7402",
    "deepnote_cell_type": "code",
    "deepnote_to_be_reexecuted": false,
    "execution_millis": 53,
    "execution_start": 1633637846350,
    "source_hash": "b578a8a3"
   },
   "outputs": [
    {
     "data": {
      "application/vnd.jupyter.widget-view+json": {
       "model_id": "b18e30a336274b6a825e7e2f7b87c574",
       "version_major": 2,
       "version_minor": 0
      },
      "text/plain": [
       "Calculating Metrics:   0%|          | 0/6 [00:00<?, ?it/s]"
      ]
     },
     "metadata": {},
     "output_type": "display_data"
    },
    {
     "data": {
      "text/plain": [
       "{\n",
       "  \"result\": {\n",
       "    \"element_count\": 610,\n",
       "    \"unexpected_count\": 0,\n",
       "    \"unexpected_percent\": 0.0,\n",
       "    \"partial_unexpected_list\": []\n",
       "  },\n",
       "  \"meta\": {},\n",
       "  \"success\": true,\n",
       "  \"exception_info\": {\n",
       "    \"raised_exception\": false,\n",
       "    \"exception_traceback\": null,\n",
       "    \"exception_message\": null\n",
       "  }\n",
       "}"
      ]
     },
     "execution_count": 40,
     "metadata": {},
     "output_type": "execute_result"
    }
   ],
   "source": [
    "\n",
    "validator.expect_column_values_to_not_be_null(column='Timestamp')"
   ]
  },
  {
   "cell_type": "code",
   "execution_count": 41,
   "id": "06421b37",
   "metadata": {
    "ExecuteTime": {
     "end_time": "2021-10-07T20:59:22.442323Z",
     "start_time": "2021-10-07T20:59:22.414723Z"
    },
    "cell_id": "00069-bc39526a-14bf-4b7d-8eec-9cd018d7fb25",
    "deepnote_cell_type": "code",
    "deepnote_to_be_reexecuted": false,
    "execution_millis": 168,
    "execution_start": 1633637846919,
    "source_hash": "a7d02439"
   },
   "outputs": [
    {
     "data": {
      "application/vnd.jupyter.widget-view+json": {
       "model_id": "76d95658d8d04caebcac241591b8a3ab",
       "version_major": 2,
       "version_minor": 0
      },
      "text/plain": [
       "Calculating Metrics:   0%|          | 0/8 [00:00<?, ?it/s]"
      ]
     },
     "metadata": {},
     "output_type": "display_data"
    },
    {
     "data": {
      "text/plain": [
       "{\n",
       "  \"result\": {\n",
       "    \"element_count\": 610,\n",
       "    \"unexpected_count\": 0,\n",
       "    \"unexpected_percent\": 0.0,\n",
       "    \"partial_unexpected_list\": [],\n",
       "    \"missing_count\": 0,\n",
       "    \"missing_percent\": 0.0,\n",
       "    \"unexpected_percent_total\": 0.0,\n",
       "    \"unexpected_percent_nonmissing\": 0.0\n",
       "  },\n",
       "  \"meta\": {},\n",
       "  \"success\": true,\n",
       "  \"exception_info\": {\n",
       "    \"raised_exception\": false,\n",
       "    \"exception_traceback\": null,\n",
       "    \"exception_message\": null\n",
       "  }\n",
       "}"
      ]
     },
     "execution_count": 41,
     "metadata": {},
     "output_type": "execute_result"
    }
   ],
   "source": [
    "\n",
    "validator.expect_column_values_to_be_in_type_list(column='Timestamp', type_list=['CHAR', 'NCHAR', 'VARCHAR', 'NVARCHAR', 'TEXT', 'NTEXT', 'STRING', 'StringType', 'string', 'str', 'object', \"dtype('O')\"])"
   ]
  },
  {
   "cell_type": "markdown",
   "id": "c7c5e445",
   "metadata": {
    "cell_id": "00070-2891f502-d5eb-4a90-a730-76dc2eab2efe",
    "deepnote_cell_type": "markdown"
   },
   "source": [
    "#### `Clicked on Ad`"
   ]
  },
  {
   "cell_type": "code",
   "execution_count": 42,
   "id": "f164df02",
   "metadata": {
    "ExecuteTime": {
     "end_time": "2021-10-07T20:59:22.462063Z",
     "start_time": "2021-10-07T20:59:22.443140Z"
    },
    "cell_id": "00073-5f122c94-b488-4282-880d-c4f4c30a7302",
    "deepnote_cell_type": "code",
    "deepnote_to_be_reexecuted": false,
    "execution_millis": 66,
    "execution_start": 1633637848587,
    "source_hash": "662a3af2"
   },
   "outputs": [
    {
     "data": {
      "application/vnd.jupyter.widget-view+json": {
       "model_id": "1240d73f5e7a4394bb449f280aaf2f08",
       "version_major": 2,
       "version_minor": 0
      },
      "text/plain": [
       "Calculating Metrics:   0%|          | 0/3 [00:00<?, ?it/s]"
      ]
     },
     "metadata": {},
     "output_type": "display_data"
    },
    {
     "data": {
      "text/plain": [
       "{\n",
       "  \"result\": {\n",
       "    \"observed_value\": 0.4918032786885246\n",
       "  },\n",
       "  \"meta\": {},\n",
       "  \"success\": true,\n",
       "  \"exception_info\": {\n",
       "    \"raised_exception\": false,\n",
       "    \"exception_traceback\": null,\n",
       "    \"exception_message\": null\n",
       "  }\n",
       "}"
      ]
     },
     "execution_count": 42,
     "metadata": {},
     "output_type": "execute_result"
    }
   ],
   "source": [
    "\n",
    "validator.expect_column_mean_to_be_between(column='Clicked on Ad', max_value=0.55, min_value=0.45)"
   ]
  },
  {
   "cell_type": "code",
   "execution_count": 43,
   "id": "d8688b55",
   "metadata": {
    "ExecuteTime": {
     "end_time": "2021-10-07T20:59:22.490351Z",
     "start_time": "2021-10-07T20:59:22.462821Z"
    },
    "cell_id": "00076-37a42167-6dfa-4d98-bc30-e176a662e965",
    "deepnote_cell_type": "code",
    "deepnote_to_be_reexecuted": false,
    "execution_millis": 106,
    "execution_start": 1633637848885,
    "source_hash": "6a8e8875"
   },
   "outputs": [
    {
     "data": {
      "application/vnd.jupyter.widget-view+json": {
       "model_id": "69b186787add48e8a7cd62cbcb129107",
       "version_major": 2,
       "version_minor": 0
      },
      "text/plain": [
       "Calculating Metrics:   0%|          | 0/8 [00:00<?, ?it/s]"
      ]
     },
     "metadata": {},
     "output_type": "display_data"
    },
    {
     "data": {
      "text/plain": [
       "{\n",
       "  \"result\": {\n",
       "    \"element_count\": 610,\n",
       "    \"unexpected_count\": 0,\n",
       "    \"unexpected_percent\": 0.0,\n",
       "    \"partial_unexpected_list\": [],\n",
       "    \"missing_count\": 0,\n",
       "    \"missing_percent\": 0.0,\n",
       "    \"unexpected_percent_total\": 0.0,\n",
       "    \"unexpected_percent_nonmissing\": 0.0\n",
       "  },\n",
       "  \"meta\": {},\n",
       "  \"success\": true,\n",
       "  \"exception_info\": {\n",
       "    \"raised_exception\": false,\n",
       "    \"exception_traceback\": null,\n",
       "    \"exception_message\": null\n",
       "  }\n",
       "}"
      ]
     },
     "execution_count": 43,
     "metadata": {},
     "output_type": "execute_result"
    }
   ],
   "source": [
    "\n",
    "validator.expect_column_values_to_be_in_set(column='Clicked on Ad', value_set=[0, 1])"
   ]
  },
  {
   "cell_type": "code",
   "execution_count": 44,
   "id": "bb3c0d5b",
   "metadata": {
    "ExecuteTime": {
     "end_time": "2021-10-07T20:59:22.514009Z",
     "start_time": "2021-10-07T20:59:22.491070Z"
    },
    "cell_id": "00077-53155aa1-5329-4386-8b99-e0982ebb326b",
    "deepnote_cell_type": "code",
    "deepnote_to_be_reexecuted": false,
    "execution_millis": 119,
    "execution_start": 1633637849207,
    "source_hash": "2162ce0e"
   },
   "outputs": [
    {
     "data": {
      "application/vnd.jupyter.widget-view+json": {
       "model_id": "e543b95f91a24af7a3bac88088950de3",
       "version_major": 2,
       "version_minor": 0
      },
      "text/plain": [
       "Calculating Metrics:   0%|          | 0/6 [00:00<?, ?it/s]"
      ]
     },
     "metadata": {},
     "output_type": "display_data"
    },
    {
     "data": {
      "text/plain": [
       "{\n",
       "  \"result\": {\n",
       "    \"element_count\": 610,\n",
       "    \"unexpected_count\": 0,\n",
       "    \"unexpected_percent\": 0.0,\n",
       "    \"partial_unexpected_list\": []\n",
       "  },\n",
       "  \"meta\": {},\n",
       "  \"success\": true,\n",
       "  \"exception_info\": {\n",
       "    \"raised_exception\": false,\n",
       "    \"exception_traceback\": null,\n",
       "    \"exception_message\": null\n",
       "  }\n",
       "}"
      ]
     },
     "execution_count": 44,
     "metadata": {},
     "output_type": "execute_result"
    }
   ],
   "source": [
    "\n",
    "validator.expect_column_values_to_not_be_null(column='Clicked on Ad')"
   ]
  },
  {
   "cell_type": "code",
   "execution_count": 45,
   "id": "4558424e",
   "metadata": {
    "ExecuteTime": {
     "end_time": "2021-10-07T20:59:22.519436Z",
     "start_time": "2021-10-07T20:59:22.514705Z"
    },
    "cell_id": "00079-cc422c78-4e27-476c-b5cc-268dc831a908",
    "deepnote_cell_type": "code",
    "deepnote_to_be_reexecuted": false,
    "execution_millis": 17,
    "execution_start": 1633637850661,
    "source_hash": "1a6c766f"
   },
   "outputs": [
    {
     "data": {
      "text/plain": [
       "{\n",
       "  \"result\": {\n",
       "    \"observed_value\": \"int64\"\n",
       "  },\n",
       "  \"meta\": {},\n",
       "  \"success\": true,\n",
       "  \"exception_info\": {\n",
       "    \"raised_exception\": false,\n",
       "    \"exception_traceback\": null,\n",
       "    \"exception_message\": null\n",
       "  }\n",
       "}"
      ]
     },
     "execution_count": 45,
     "metadata": {},
     "output_type": "execute_result"
    }
   ],
   "source": [
    "\n",
    "validator.expect_column_values_to_be_in_type_list(column='Clicked on Ad', type_list=['INTEGER', 'integer', 'int', 'int_', 'int8', 'int16', 'int32', 'int64', 'uint8', 'uint16', 'uint32', 'uint64', 'INT', 'INTEGER', 'INT64', 'TINYINT', 'BYTEINT', 'SMALLINT', 'BIGINT', 'IntegerType', 'LongType'])"
   ]
  },
  {
   "cell_type": "markdown",
   "id": "c472084d",
   "metadata": {
    "cell_id": "00080-6275e6a6-4298-46db-a4bf-c421d77799c7",
    "deepnote_cell_type": "markdown"
   },
   "source": [
    "## Save & Review Your Expectations\n",
    "\n",
    "Let's save the expectation suite as a JSON file in the `great_expectations/expectations` directory of your project.\n",
    "\n",
    "Let's now rebuild your Data Docs, which helps you communicate about your data with both machines and humans."
   ]
  },
  {
   "cell_type": "code",
   "execution_count": 46,
   "id": "3ad9a6a1",
   "metadata": {
    "ExecuteTime": {
     "end_time": "2021-10-07T20:59:23.531919Z",
     "start_time": "2021-10-07T20:59:22.520808Z"
    },
    "cell_id": "00081-a2a2dd46-043f-4df1-8303-35d530c2ec89",
    "deepnote_cell_type": "code",
    "deepnote_to_be_reexecuted": false,
    "execution_millis": 3788,
    "execution_start": 1633637852431,
    "source_hash": "b6830c36"
   },
   "outputs": [
    {
     "name": "stdout",
     "output_type": "stream",
     "text": [
      "2021-10-07T15:59:22-0500 - INFO - \t38 expectation(s) included in expectation_suite.\n",
      "{\n",
      "  \"expectations\": [\n",
      "    {\n",
      "      \"expectation_type\": \"expect_table_columns_to_match_ordered_list\",\n",
      "      \"meta\": {},\n",
      "      \"ge_cloud_id\": null,\n",
      "      \"kwargs\": {\n",
      "        \"column_list\": [\n",
      "          \"Unnamed: 0\",\n",
      "          \"Daily Time Spent on Site\",\n",
      "          \"Age\",\n",
      "          \"Area Income\",\n",
      "          \"Daily Internet Usage\",\n",
      "          \"Ad Topic Line\",\n",
      "          \"City\",\n",
      "          \"Male\",\n",
      "          \"Country\",\n",
      "          \"Timestamp\",\n",
      "          \"Clicked on Ad\"\n",
      "        ]\n",
      "      }\n",
      "    },\n",
      "    {\n",
      "      \"expectation_type\": \"expect_column_min_to_be_between\",\n",
      "      \"meta\": {},\n",
      "      \"ge_cloud_id\": null,\n",
      "      \"kwargs\": {\n",
      "        \"column\": \"Daily Time Spent on Site\",\n",
      "        \"max_value\": 40,\n",
      "        \"min_value\": 30\n",
      "      }\n",
      "    },\n",
      "    {\n",
      "      \"expectation_type\": \"expect_column_max_to_be_between\",\n",
      "      \"meta\": {},\n",
      "      \"ge_cloud_id\": null,\n",
      "      \"kwargs\": {\n",
      "        \"column\": \"Daily Time Spent on Site\",\n",
      "        \"max_value\": 100,\n",
      "        \"min_value\": 85\n",
      "      }\n",
      "    },\n",
      "    {\n",
      "      \"expectation_type\": \"expect_column_mean_to_be_between\",\n",
      "      \"meta\": {},\n",
      "      \"ge_cloud_id\": null,\n",
      "      \"kwargs\": {\n",
      "        \"column\": \"Daily Time Spent on Site\",\n",
      "        \"max_value\": 70,\n",
      "        \"min_value\": 55\n",
      "      }\n",
      "    },\n",
      "    {\n",
      "      \"expectation_type\": \"expect_column_values_to_not_be_null\",\n",
      "      \"meta\": {},\n",
      "      \"ge_cloud_id\": null,\n",
      "      \"kwargs\": {\n",
      "        \"column\": \"Daily Time Spent on Site\"\n",
      "      }\n",
      "    },\n",
      "    {\n",
      "      \"expectation_type\": \"expect_column_values_to_be_in_type_list\",\n",
      "      \"meta\": {},\n",
      "      \"ge_cloud_id\": null,\n",
      "      \"kwargs\": {\n",
      "        \"column\": \"Daily Time Spent on Site\",\n",
      "        \"type_list\": [\n",
      "          \"FLOAT\",\n",
      "          \"FLOAT4\",\n",
      "          \"FLOAT8\",\n",
      "          \"FLOAT64\",\n",
      "          \"DOUBLE\",\n",
      "          \"DOUBLE_PRECISION\",\n",
      "          \"NUMERIC\",\n",
      "          \"FloatType\",\n",
      "          \"DoubleType\",\n",
      "          \"float_\",\n",
      "          \"float16\",\n",
      "          \"float32\",\n",
      "          \"float64\",\n",
      "          \"number\",\n",
      "          \"DECIMAL\",\n",
      "          \"REAL\"\n",
      "        ]\n",
      "      }\n",
      "    },\n",
      "    {\n",
      "      \"expectation_type\": \"expect_column_min_to_be_between\",\n",
      "      \"meta\": {},\n",
      "      \"ge_cloud_id\": null,\n",
      "      \"kwargs\": {\n",
      "        \"column\": \"Age\",\n",
      "        \"max_value\": 23,\n",
      "        \"min_value\": 15\n",
      "      }\n",
      "    },\n",
      "    {\n",
      "      \"expectation_type\": \"expect_column_max_to_be_between\",\n",
      "      \"meta\": {},\n",
      "      \"ge_cloud_id\": null,\n",
      "      \"kwargs\": {\n",
      "        \"column\": \"Age\",\n",
      "        \"max_value\": 70,\n",
      "        \"min_value\": 57\n",
      "      }\n",
      "    },\n",
      "    {\n",
      "      \"expectation_type\": \"expect_column_mean_to_be_between\",\n",
      "      \"meta\": {},\n",
      "      \"ge_cloud_id\": null,\n",
      "      \"kwargs\": {\n",
      "        \"column\": \"Age\",\n",
      "        \"max_value\": 40,\n",
      "        \"min_value\": 30\n",
      "      }\n",
      "    },\n",
      "    {\n",
      "      \"expectation_type\": \"expect_column_values_to_not_be_null\",\n",
      "      \"meta\": {},\n",
      "      \"ge_cloud_id\": null,\n",
      "      \"kwargs\": {\n",
      "        \"column\": \"Age\"\n",
      "      }\n",
      "    },\n",
      "    {\n",
      "      \"expectation_type\": \"expect_column_values_to_be_in_type_list\",\n",
      "      \"meta\": {},\n",
      "      \"ge_cloud_id\": null,\n",
      "      \"kwargs\": {\n",
      "        \"column\": \"Age\",\n",
      "        \"type_list\": [\n",
      "          \"INTEGER\",\n",
      "          \"integer\",\n",
      "          \"int\",\n",
      "          \"int_\",\n",
      "          \"int8\",\n",
      "          \"int16\",\n",
      "          \"int32\",\n",
      "          \"int64\",\n",
      "          \"uint8\",\n",
      "          \"uint16\",\n",
      "          \"uint32\",\n",
      "          \"uint64\",\n",
      "          \"INT\",\n",
      "          \"INTEGER\",\n",
      "          \"INT64\",\n",
      "          \"TINYINT\",\n",
      "          \"BYTEINT\",\n",
      "          \"SMALLINT\",\n",
      "          \"BIGINT\",\n",
      "          \"IntegerType\",\n",
      "          \"LongType\"\n",
      "        ]\n",
      "      }\n",
      "    },\n",
      "    {\n",
      "      \"expectation_type\": \"expect_column_min_to_be_between\",\n",
      "      \"meta\": {},\n",
      "      \"ge_cloud_id\": null,\n",
      "      \"kwargs\": {\n",
      "        \"column\": \"Area Income\",\n",
      "        \"max_value\": 15000,\n",
      "        \"min_value\": 12000\n",
      "      }\n",
      "    },\n",
      "    {\n",
      "      \"expectation_type\": \"expect_column_max_to_be_between\",\n",
      "      \"meta\": {},\n",
      "      \"ge_cloud_id\": null,\n",
      "      \"kwargs\": {\n",
      "        \"column\": \"Area Income\",\n",
      "        \"max_value\": 80000,\n",
      "        \"min_value\": 70000\n",
      "      }\n",
      "    },\n",
      "    {\n",
      "      \"expectation_type\": \"expect_column_mean_to_be_between\",\n",
      "      \"meta\": {},\n",
      "      \"ge_cloud_id\": null,\n",
      "      \"kwargs\": {\n",
      "        \"column\": \"Area Income\",\n",
      "        \"max_value\": 65000,\n",
      "        \"min_value\": 55000\n",
      "      }\n",
      "    },\n",
      "    {\n",
      "      \"expectation_type\": \"expect_column_values_to_not_be_null\",\n",
      "      \"meta\": {},\n",
      "      \"ge_cloud_id\": null,\n",
      "      \"kwargs\": {\n",
      "        \"column\": \"Area Income\"\n",
      "      }\n",
      "    },\n",
      "    {\n",
      "      \"expectation_type\": \"expect_column_values_to_be_in_type_list\",\n",
      "      \"meta\": {},\n",
      "      \"ge_cloud_id\": null,\n",
      "      \"kwargs\": {\n",
      "        \"column\": \"Area Income\",\n",
      "        \"type_list\": [\n",
      "          \"FLOAT\",\n",
      "          \"FLOAT4\",\n",
      "          \"FLOAT8\",\n",
      "          \"FLOAT64\",\n",
      "          \"DOUBLE\",\n",
      "          \"DOUBLE_PRECISION\",\n",
      "          \"NUMERIC\",\n",
      "          \"FloatType\",\n",
      "          \"DoubleType\",\n",
      "          \"float_\",\n",
      "          \"float16\",\n",
      "          \"float32\",\n",
      "          \"float64\",\n",
      "          \"number\",\n",
      "          \"DECIMAL\",\n",
      "          \"REAL\"\n",
      "        ]\n",
      "      }\n",
      "    },\n",
      "    {\n",
      "      \"expectation_type\": \"expect_column_min_to_be_between\",\n",
      "      \"meta\": {},\n",
      "      \"ge_cloud_id\": null,\n",
      "      \"kwargs\": {\n",
      "        \"column\": \"Daily Internet Usage\",\n",
      "        \"max_value\": 110,\n",
      "        \"min_value\": 95\n",
      "      }\n",
      "    },\n",
      "    {\n",
      "      \"expectation_type\": \"expect_column_max_to_be_between\",\n",
      "      \"meta\": {},\n",
      "      \"ge_cloud_id\": null,\n",
      "      \"kwargs\": {\n",
      "        \"column\": \"Daily Internet Usage\",\n",
      "        \"max_value\": 270,\n",
      "        \"min_value\": 250\n",
      "      }\n",
      "    },\n",
      "    {\n",
      "      \"expectation_type\": \"expect_column_mean_to_be_between\",\n",
      "      \"meta\": {},\n",
      "      \"ge_cloud_id\": null,\n",
      "      \"kwargs\": {\n",
      "        \"column\": \"Daily Internet Usage\",\n",
      "        \"max_value\": 185,\n",
      "        \"min_value\": 170\n",
      "      }\n",
      "    },\n",
      "    {\n",
      "      \"expectation_type\": \"expect_column_values_to_not_be_null\",\n",
      "      \"meta\": {},\n",
      "      \"ge_cloud_id\": null,\n",
      "      \"kwargs\": {\n",
      "        \"column\": \"Daily Internet Usage\"\n",
      "      }\n",
      "    },\n",
      "    {\n",
      "      \"expectation_type\": \"expect_column_values_to_be_in_type_list\",\n",
      "      \"meta\": {},\n",
      "      \"ge_cloud_id\": null,\n",
      "      \"kwargs\": {\n",
      "        \"column\": \"Daily Internet Usage\",\n",
      "        \"type_list\": [\n",
      "          \"FLOAT\",\n",
      "          \"FLOAT4\",\n",
      "          \"FLOAT8\",\n",
      "          \"FLOAT64\",\n",
      "          \"DOUBLE\",\n",
      "          \"DOUBLE_PRECISION\",\n",
      "          \"NUMERIC\",\n",
      "          \"FloatType\",\n",
      "          \"DoubleType\",\n",
      "          \"float_\",\n",
      "          \"float16\",\n",
      "          \"float32\",\n",
      "          \"float64\",\n",
      "          \"number\",\n",
      "          \"DECIMAL\",\n",
      "          \"REAL\"\n",
      "        ]\n",
      "      }\n",
      "    },\n",
      "    {\n",
      "      \"expectation_type\": \"expect_column_values_to_not_be_null\",\n",
      "      \"meta\": {},\n",
      "      \"ge_cloud_id\": null,\n",
      "      \"kwargs\": {\n",
      "        \"column\": \"Ad Topic Line\"\n",
      "      }\n",
      "    },\n",
      "    {\n",
      "      \"expectation_type\": \"expect_column_values_to_be_in_type_list\",\n",
      "      \"meta\": {},\n",
      "      \"ge_cloud_id\": null,\n",
      "      \"kwargs\": {\n",
      "        \"column\": \"Ad Topic Line\",\n",
      "        \"type_list\": [\n",
      "          \"CHAR\",\n",
      "          \"NCHAR\",\n",
      "          \"VARCHAR\",\n",
      "          \"NVARCHAR\",\n",
      "          \"TEXT\",\n",
      "          \"NTEXT\",\n",
      "          \"STRING\",\n",
      "          \"StringType\",\n",
      "          \"string\",\n",
      "          \"str\",\n",
      "          \"object\",\n",
      "          \"dtype('O')\"\n",
      "        ]\n",
      "      }\n",
      "    },\n",
      "    {\n",
      "      \"expectation_type\": \"expect_column_values_to_not_be_null\",\n",
      "      \"meta\": {},\n",
      "      \"ge_cloud_id\": null,\n",
      "      \"kwargs\": {\n",
      "        \"column\": \"City\"\n",
      "      }\n",
      "    },\n",
      "    {\n",
      "      \"expectation_type\": \"expect_column_proportion_of_unique_values_to_be_between\",\n",
      "      \"meta\": {},\n",
      "      \"ge_cloud_id\": null,\n",
      "      \"kwargs\": {\n",
      "        \"column\": \"City\",\n",
      "        \"max_value\": 0.999,\n",
      "        \"min_value\": 0.9\n",
      "      }\n",
      "    },\n",
      "    {\n",
      "      \"expectation_type\": \"expect_column_values_to_be_in_type_list\",\n",
      "      \"meta\": {},\n",
      "      \"ge_cloud_id\": null,\n",
      "      \"kwargs\": {\n",
      "        \"column\": \"City\",\n",
      "        \"type_list\": [\n",
      "          \"CHAR\",\n",
      "          \"NCHAR\",\n",
      "          \"VARCHAR\",\n",
      "          \"NVARCHAR\",\n",
      "          \"TEXT\",\n",
      "          \"NTEXT\",\n",
      "          \"STRING\",\n",
      "          \"StringType\",\n",
      "          \"string\",\n",
      "          \"str\",\n",
      "          \"object\",\n",
      "          \"dtype('O')\"\n",
      "        ]\n",
      "      }\n",
      "    },\n",
      "    {\n",
      "      \"expectation_type\": \"expect_column_values_to_be_in_set\",\n",
      "      \"meta\": {},\n",
      "      \"ge_cloud_id\": null,\n",
      "      \"kwargs\": {\n",
      "        \"column\": \"Male\",\n",
      "        \"value_set\": [\n",
      "          0,\n",
      "          1\n",
      "        ]\n",
      "      }\n",
      "    },\n",
      "    {\n",
      "      \"expectation_type\": \"expect_column_mean_to_be_between\",\n",
      "      \"meta\": {},\n",
      "      \"ge_cloud_id\": null,\n",
      "      \"kwargs\": {\n",
      "        \"column\": \"Male\",\n",
      "        \"max_value\": 0.55,\n",
      "        \"min_value\": 0.45\n",
      "      }\n",
      "    },\n",
      "    {\n",
      "      \"expectation_type\": \"expect_column_values_to_not_be_null\",\n",
      "      \"meta\": {},\n",
      "      \"ge_cloud_id\": null,\n",
      "      \"kwargs\": {\n",
      "        \"column\": \"Male\"\n",
      "      }\n",
      "    },\n",
      "    {\n",
      "      \"expectation_type\": \"expect_column_values_to_be_in_type_list\",\n",
      "      \"meta\": {},\n",
      "      \"ge_cloud_id\": null,\n",
      "      \"kwargs\": {\n",
      "        \"column\": \"Male\",\n",
      "        \"type_list\": [\n",
      "          \"INTEGER\",\n",
      "          \"integer\",\n",
      "          \"int\",\n",
      "          \"int_\",\n",
      "          \"int8\",\n",
      "          \"int16\",\n",
      "          \"int32\",\n",
      "          \"int64\",\n",
      "          \"uint8\",\n",
      "          \"uint16\",\n",
      "          \"uint32\",\n",
      "          \"uint64\",\n",
      "          \"INT\",\n",
      "          \"INTEGER\",\n",
      "          \"INT64\",\n",
      "          \"TINYINT\",\n",
      "          \"BYTEINT\",\n",
      "          \"SMALLINT\",\n",
      "          \"BIGINT\",\n",
      "          \"IntegerType\",\n",
      "          \"LongType\"\n",
      "        ]\n",
      "      }\n",
      "    },\n",
      "    {\n",
      "      \"expectation_type\": \"expect_column_values_to_not_be_null\",\n",
      "      \"meta\": {},\n",
      "      \"ge_cloud_id\": null,\n",
      "      \"kwargs\": {\n",
      "        \"column\": \"Country\"\n",
      "      }\n",
      "    },\n",
      "    {\n",
      "      \"expectation_type\": \"expect_column_values_to_be_in_type_list\",\n",
      "      \"meta\": {},\n",
      "      \"ge_cloud_id\": null,\n",
      "      \"kwargs\": {\n",
      "        \"column\": \"Country\",\n",
      "        \"type_list\": [\n",
      "          \"CHAR\",\n",
      "          \"NCHAR\",\n",
      "          \"VARCHAR\",\n",
      "          \"NVARCHAR\",\n",
      "          \"TEXT\",\n",
      "          \"NTEXT\",\n",
      "          \"STRING\",\n",
      "          \"StringType\",\n",
      "          \"string\",\n",
      "          \"str\",\n",
      "          \"object\",\n",
      "          \"dtype('O')\"\n",
      "        ]\n",
      "      }\n",
      "    },\n",
      "    {\n",
      "      \"expectation_type\": \"expect_column_values_to_not_be_null\",\n",
      "      \"meta\": {},\n",
      "      \"ge_cloud_id\": null,\n",
      "      \"kwargs\": {\n",
      "        \"column\": \"Timestamp\"\n",
      "      }\n",
      "    },\n",
      "    {\n",
      "      \"expectation_type\": \"expect_column_values_to_be_in_type_list\",\n",
      "      \"meta\": {},\n",
      "      \"ge_cloud_id\": null,\n",
      "      \"kwargs\": {\n",
      "        \"column\": \"Timestamp\",\n",
      "        \"type_list\": [\n",
      "          \"CHAR\",\n",
      "          \"NCHAR\",\n",
      "          \"VARCHAR\",\n",
      "          \"NVARCHAR\",\n",
      "          \"TEXT\",\n",
      "          \"NTEXT\",\n",
      "          \"STRING\",\n",
      "          \"StringType\",\n",
      "          \"string\",\n",
      "          \"str\",\n",
      "          \"object\",\n",
      "          \"dtype('O')\"\n",
      "        ]\n",
      "      }\n",
      "    },\n",
      "    {\n",
      "      \"expectation_type\": \"expect_column_mean_to_be_between\",\n",
      "      \"meta\": {},\n",
      "      \"ge_cloud_id\": null,\n",
      "      \"kwargs\": {\n",
      "        \"column\": \"Clicked on Ad\",\n",
      "        \"max_value\": 0.55,\n",
      "        \"min_value\": 0.45\n",
      "      }\n",
      "    },\n",
      "    {\n",
      "      \"expectation_type\": \"expect_column_values_to_be_in_set\",\n",
      "      \"meta\": {},\n",
      "      \"ge_cloud_id\": null,\n",
      "      \"kwargs\": {\n",
      "        \"column\": \"Clicked on Ad\",\n",
      "        \"value_set\": [\n",
      "          0,\n",
      "          1\n",
      "        ]\n",
      "      }\n",
      "    },\n",
      "    {\n",
      "      \"expectation_type\": \"expect_column_values_to_not_be_null\",\n",
      "      \"meta\": {},\n",
      "      \"ge_cloud_id\": null,\n",
      "      \"kwargs\": {\n",
      "        \"column\": \"Clicked on Ad\"\n",
      "      }\n",
      "    },\n",
      "    {\n",
      "      \"expectation_type\": \"expect_column_values_to_be_in_type_list\",\n",
      "      \"meta\": {},\n",
      "      \"ge_cloud_id\": null,\n",
      "      \"kwargs\": {\n",
      "        \"column\": \"Clicked on Ad\",\n",
      "        \"type_list\": [\n",
      "          \"INTEGER\",\n",
      "          \"integer\",\n",
      "          \"int\",\n",
      "          \"int_\",\n",
      "          \"int8\",\n",
      "          \"int16\",\n",
      "          \"int32\",\n",
      "          \"int64\",\n",
      "          \"uint8\",\n",
      "          \"uint16\",\n",
      "          \"uint32\",\n",
      "          \"uint64\",\n",
      "          \"INT\",\n",
      "          \"INTEGER\",\n",
      "          \"INT64\",\n",
      "          \"TINYINT\",\n",
      "          \"BYTEINT\",\n",
      "          \"SMALLINT\",\n",
      "          \"BIGINT\",\n",
      "          \"IntegerType\",\n",
      "          \"LongType\"\n",
      "        ]\n",
      "      }\n",
      "    }\n",
      "  ],\n",
      "  \"ge_cloud_id\": null,\n",
      "  \"expectation_suite_name\": \"first_data.csv.warning\",\n",
      "  \"meta\": {\n",
      "    \"great_expectations_version\": \"0.13.36\"\n",
      "  },\n",
      "  \"data_asset_type\": null\n",
      "}\n",
      "2021-10-07T15:59:22-0500 - INFO - \t38 expectation(s) included in expectation_suite.\n"
     ]
    },
    {
     "name": "stdout",
     "output_type": "stream",
     "text": [
      "2021-10-07T15:59:22-0500 - INFO - \t38 expectation(s) included in expectation_suite.\n"
     ]
    },
    {
     "data": {
      "application/vnd.jupyter.widget-view+json": {
       "model_id": "278ad7893973441ab7ac18993b8f1768",
       "version_major": 2,
       "version_minor": 0
      },
      "text/plain": [
       "Calculating Metrics:   0%|          | 0/67 [00:00<?, ?it/s]"
      ]
     },
     "metadata": {},
     "output_type": "display_data"
    },
    {
     "name": "stdout",
     "output_type": "stream",
     "text": [
      "Opening in existing browser session.\n"
     ]
    }
   ],
   "source": [
    "print(validator.get_expectation_suite(discard_failed_expectations=False))\n",
    "validator.save_expectation_suite(discard_failed_expectations=False)\n",
    "\n",
    "checkpoint_config = {\n",
    "    \"class_name\": \"SimpleCheckpoint\",\n",
    "    \"validations\": [\n",
    "        {\n",
    "            \"batch_request\": batch_request,\n",
    "            \"expectation_suite_name\": expectation_suite_name\n",
    "        }\n",
    "    ]\n",
    "}\n",
    "checkpoint = SimpleCheckpoint(\n",
    "    f\"_tmp_checkpoint_{expectation_suite_name}\",\n",
    "    context,\n",
    "    **checkpoint_config\n",
    ")\n",
    "checkpoint_result = checkpoint.run()\n",
    "\n",
    "context.build_data_docs()\n",
    "\n",
    "validation_result_identifier = checkpoint_result.list_validation_result_identifiers()[0]\n",
    "context.open_data_docs(resource_identifier=validation_result_identifier)"
   ]
  },
  {
   "cell_type": "markdown",
   "id": "dfc3d304",
   "metadata": {
    "created_in_deepnote_cell": true,
    "deepnote_cell_type": "markdown",
    "tags": []
   },
   "source": [
    "<a style='text-decoration:none;line-height:16px;display:flex;color:#5B5B62;padding:10px;justify-content:end;' href='https://deepnote.com?utm_source=created-in-deepnote-cell&projectId=87197226-98be-42b2-8527-389082831299' target=\"_blank\">\n",
    "<img alt='Created in deepnote.com' style='display:inline;max-height:16px;margin:0px;margin-right:7.5px;' src='data:image/svg+xml;base64,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' > </img>\n",
    "Created in <span style='font-weight:600;margin-left:4px;'>Deepnote</span></a>"
   ]
  }
 ],
 "metadata": {
  "deepnote": {},
  "deepnote_execution_queue": [],
  "deepnote_notebook_id": "b98c8920-11d5-4957-9152-c6671cffbab2",
  "kernelspec": {
   "display_name": "Python 3 (ipykernel)",
   "language": "python",
   "name": "python3"
  },
  "language_info": {
   "codemirror_mode": {
    "name": "ipython",
    "version": 3
   },
   "file_extension": ".py",
   "mimetype": "text/x-python",
   "name": "python",
   "nbconvert_exporter": "python",
   "pygments_lexer": "ipython3",
   "version": "3.8.10"
  },
  "toc": {
   "base_numbering": 1,
   "nav_menu": {},
   "number_sections": true,
   "sideBar": true,
   "skip_h1_title": false,
   "title_cell": "Table of Contents",
   "title_sidebar": "Contents",
   "toc_cell": false,
   "toc_position": {},
   "toc_section_display": true,
   "toc_window_display": false
  }
 },
 "nbformat": 4,
 "nbformat_minor": 5
}
