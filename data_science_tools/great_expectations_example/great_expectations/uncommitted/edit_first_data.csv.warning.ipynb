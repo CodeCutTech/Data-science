{
 "cells": [
  {
   "cell_type": "markdown",
   "id": "57a5feee",
   "metadata": {},
   "source": [
    "# Initialize a new Expectation Suite by profiling a batch of your data.\n",
    "This process helps you avoid writing lots of boilerplate when authoring suites by allowing you to select columns and other factors that you care about and letting a profiler write some candidate expectations for you to adjust.\n",
    "\n",
    "**Expectation Suite Name**: `first_data.csv.warning`\n"
   ]
  },
  {
   "cell_type": "code",
   "execution_count": 4,
   "id": "954e0d89",
   "metadata": {
    "ExecuteTime": {
     "end_time": "2021-10-07T18:37:26.444398Z",
     "start_time": "2021-10-07T18:37:26.166690Z"
    }
   },
   "outputs": [
    {
     "name": "stdout",
     "output_type": "stream",
     "text": [
      "Columns: \"Unnamed: 0\", \"Daily Time Spent on Site\", \"Age\", \"Area Income\", \"Daily Internet Usage\", \"Ad Topic Line\", \"City\", \"Male\", \"Country\", \"Timestamp\", \"Clicked on Ad\".\n"
     ]
    },
    {
     "data": {
      "text/html": [
       "<div>\n",
       "<style scoped>\n",
       "    .dataframe tbody tr th:only-of-type {\n",
       "        vertical-align: middle;\n",
       "    }\n",
       "\n",
       "    .dataframe tbody tr th {\n",
       "        vertical-align: top;\n",
       "    }\n",
       "\n",
       "    .dataframe thead th {\n",
       "        text-align: right;\n",
       "    }\n",
       "</style>\n",
       "<table border=\"1\" class=\"dataframe\">\n",
       "  <thead>\n",
       "    <tr style=\"text-align: right;\">\n",
       "      <th></th>\n",
       "      <th>Unnamed: 0</th>\n",
       "      <th>Daily Time Spent on Site</th>\n",
       "      <th>Age</th>\n",
       "      <th>Area Income</th>\n",
       "      <th>Daily Internet Usage</th>\n",
       "      <th>Ad Topic Line</th>\n",
       "      <th>City</th>\n",
       "      <th>Male</th>\n",
       "      <th>Country</th>\n",
       "      <th>Timestamp</th>\n",
       "      <th>Clicked on Ad</th>\n",
       "    </tr>\n",
       "  </thead>\n",
       "  <tbody>\n",
       "    <tr>\n",
       "      <th>0</th>\n",
       "      <td>0</td>\n",
       "      <td>80.67</td>\n",
       "      <td>34</td>\n",
       "      <td>58909.36</td>\n",
       "      <td>239.76</td>\n",
       "      <td>Seamless impactful info-mediaries</td>\n",
       "      <td>Jamesville</td>\n",
       "      <td>0</td>\n",
       "      <td>Portugal</td>\n",
       "      <td>2016-01-01 02:52:10</td>\n",
       "      <td>0</td>\n",
       "    </tr>\n",
       "    <tr>\n",
       "      <th>1</th>\n",
       "      <td>1</td>\n",
       "      <td>68.01</td>\n",
       "      <td>25</td>\n",
       "      <td>68357.96</td>\n",
       "      <td>188.32</td>\n",
       "      <td>Ameliorated actuating workforce</td>\n",
       "      <td>Kaylashire</td>\n",
       "      <td>1</td>\n",
       "      <td>Afghanistan</td>\n",
       "      <td>2016-01-01 03:35:35</td>\n",
       "      <td>0</td>\n",
       "    </tr>\n",
       "    <tr>\n",
       "      <th>2</th>\n",
       "      <td>2</td>\n",
       "      <td>80.94</td>\n",
       "      <td>36</td>\n",
       "      <td>60803.00</td>\n",
       "      <td>239.94</td>\n",
       "      <td>Self-enabling local strategy</td>\n",
       "      <td>North Tiffany</td>\n",
       "      <td>0</td>\n",
       "      <td>Bermuda</td>\n",
       "      <td>2016-01-01 05:31:22</td>\n",
       "      <td>0</td>\n",
       "    </tr>\n",
       "    <tr>\n",
       "      <th>3</th>\n",
       "      <td>3</td>\n",
       "      <td>78.77</td>\n",
       "      <td>28</td>\n",
       "      <td>63497.62</td>\n",
       "      <td>211.83</td>\n",
       "      <td>Public-key intangible Graphical User Interface</td>\n",
       "      <td>Gomezport</td>\n",
       "      <td>0</td>\n",
       "      <td>Guam</td>\n",
       "      <td>2016-01-01 08:27:06</td>\n",
       "      <td>0</td>\n",
       "    </tr>\n",
       "    <tr>\n",
       "      <th>4</th>\n",
       "      <td>4</td>\n",
       "      <td>36.56</td>\n",
       "      <td>29</td>\n",
       "      <td>42838.29</td>\n",
       "      <td>195.89</td>\n",
       "      <td>Team-oriented bi-directional secured line</td>\n",
       "      <td>West Ryan</td>\n",
       "      <td>0</td>\n",
       "      <td>Uganda</td>\n",
       "      <td>2016-01-01 15:14:24</td>\n",
       "      <td>1</td>\n",
       "    </tr>\n",
       "  </tbody>\n",
       "</table>\n",
       "</div>"
      ],
      "text/plain": [
       "   Unnamed: 0  Daily Time Spent on Site  Age  Area Income  \\\n",
       "0  0           80.67                     34   58909.36      \n",
       "1  1           68.01                     25   68357.96      \n",
       "2  2           80.94                     36   60803.00      \n",
       "3  3           78.77                     28   63497.62      \n",
       "4  4           36.56                     29   42838.29      \n",
       "\n",
       "   Daily Internet Usage                                   Ad Topic Line  \\\n",
       "0  239.76                Seamless impactful info-mediaries                \n",
       "1  188.32                Ameliorated actuating workforce                  \n",
       "2  239.94                Self-enabling local strategy                     \n",
       "3  211.83                Public-key intangible Graphical User Interface   \n",
       "4  195.89                Team-oriented bi-directional secured line        \n",
       "\n",
       "            City  Male      Country            Timestamp  Clicked on Ad  \n",
       "0  Jamesville     0     Portugal     2016-01-01 02:52:10  0              \n",
       "1  Kaylashire     1     Afghanistan  2016-01-01 03:35:35  0              \n",
       "2  North Tiffany  0     Bermuda      2016-01-01 05:31:22  0              \n",
       "3  Gomezport      0     Guam         2016-01-01 08:27:06  0              \n",
       "4  West Ryan      0     Uganda       2016-01-01 15:14:24  1              "
      ]
     },
     "execution_count": 4,
     "metadata": {},
     "output_type": "execute_result"
    }
   ],
   "source": [
    "import datetime\n",
    "\n",
    "import pandas as pd\n",
    "\n",
    "import great_expectations as ge\n",
    "import great_expectations.jupyter_ux\n",
    "from great_expectations.core.batch import BatchRequest\n",
    "from great_expectations.profile.user_configurable_profiler import (\n",
    "    UserConfigurableProfiler,\n",
    ")\n",
    "from great_expectations.checkpoint import SimpleCheckpoint\n",
    "from great_expectations.exceptions import DataContextError\n",
    "\n",
    "context = ge.data_context.DataContext()\n",
    "\n",
    "batch_request = {\n",
    "    \"datasource_name\": \"first_data\",\n",
    "    \"data_connector_name\": \"default_inferred_data_connector_name\",\n",
    "    \"data_asset_name\": \"first_data.csv\",\n",
    "    \"limit\": 1000,\n",
    "}\n",
    "\n",
    "expectation_suite_name = \"first_data.csv.warning\"\n",
    "\n",
    "validator = context.get_validator(\n",
    "    batch_request=BatchRequest(**batch_request),\n",
    "    expectation_suite_name=expectation_suite_name,\n",
    ")\n",
    "column_names = [f'\"{column_name}\"' for column_name in validator.columns()]\n",
    "print(f\"Columns: {', '.join(column_names)}.\")\n",
    "validator.head(n_rows=5, fetch_all=False)"
   ]
  },
  {
   "cell_type": "markdown",
   "id": "5664e958",
   "metadata": {},
   "source": [
    "# Select columns\n",
    "\n",
    "Select the columns on which you would like to set expectations and those which you would like to ignore.\n",
    "\n",
    "Great Expectations will choose which expectations might make sense for a column based on the **data type** and **cardinality** of the data in each selected column.\n",
    "\n",
    "Simply comment out columns that are important and should be included. You can select multiple lines and\n",
    "use a jupyter keyboard shortcut to toggle each line: **Linux/Windows**:\n",
    "`Ctrl-/`, **macOS**: `Cmd-/`"
   ]
  },
  {
   "cell_type": "code",
   "execution_count": 5,
   "id": "27f07e7d",
   "metadata": {
    "ExecuteTime": {
     "end_time": "2021-10-07T18:37:35.365889Z",
     "start_time": "2021-10-07T18:37:35.359575Z"
    }
   },
   "outputs": [],
   "source": [
    "ignored_columns = [\n",
    "    \"Unnamed: 0\",\n",
    "#     \"Daily Time Spent on Site\",\n",
    "#     \"Age\",\n",
    "#     \"Area Income\",\n",
    "#     \"Daily Internet Usage\",\n",
    "#     \"Ad Topic Line\",\n",
    "#     \"City\",\n",
    "#     \"Male\",\n",
    "#     \"Country\",\n",
    "#     \"Timestamp\",\n",
    "#     \"Clicked on Ad\",\n",
    "]"
   ]
  },
  {
   "cell_type": "markdown",
   "id": "117981dd",
   "metadata": {},
   "source": [
    "# Run the data profiler\n",
    "\n",
    "The suites generated here are **not meant to be production suites** -- they are **a starting point to build upon**.\n",
    "\n",
    "**To get to a production-grade suite, you will definitely want to [edit this\n",
    "suite](https://docs.greatexpectations.io/en/latest/guides/how_to_guides/creating_and_editing_expectations/how_to_edit_an_expectation_suite_using_a_disposable_notebook.html?utm_source=notebook&utm_medium=profile_based_expectations)\n",
    "after this initial step gets you started on the path towards what you want.**\n",
    "\n",
    "This is highly configurable depending on your goals.\n",
    "You can ignore columns or exclude certain expectations, specify a threshold for creating value set expectations, or even specify semantic types for a given column.\n",
    "You can find more information about [how to configure this profiler, including a list of the expectations that it uses, here.](https://docs.greatexpectations.io/en/latest/guides/how_to_guides/creating_and_editing_expectations/how_to_create_an_expectation_suite_with_the_user_configurable_profiler.html)\n",
    "\n"
   ]
  },
  {
   "cell_type": "code",
   "execution_count": 6,
   "id": "99392cb3",
   "metadata": {
    "ExecuteTime": {
     "end_time": "2021-10-07T18:37:41.342372Z",
     "start_time": "2021-10-07T18:37:38.195048Z"
    }
   },
   "outputs": [
    {
     "data": {
      "application/vnd.jupyter.widget-view+json": {
       "model_id": "e9b6c96bc02a42f28c4ff76759311765",
       "version_major": 2,
       "version_minor": 0
      },
      "text/plain": [
       "Calculating Metrics:   0%|          | 0/3 [00:00<?, ?it/s]"
      ]
     },
     "metadata": {},
     "output_type": "display_data"
    },
    {
     "data": {
      "application/vnd.jupyter.widget-view+json": {
       "model_id": "7e645b6600b44db7b9edb8f5e6c5f957",
       "version_major": 2,
       "version_minor": 0
      },
      "text/plain": [
       "Calculating Metrics:   0%|          | 0/7 [00:00<?, ?it/s]"
      ]
     },
     "metadata": {},
     "output_type": "display_data"
    },
    {
     "data": {
      "application/vnd.jupyter.widget-view+json": {
       "model_id": "e58daaf889ae4bef9ddc3b5918fe0c28",
       "version_major": 2,
       "version_minor": 0
      },
      "text/plain": [
       "Calculating Metrics:   0%|          | 0/3 [00:00<?, ?it/s]"
      ]
     },
     "metadata": {},
     "output_type": "display_data"
    },
    {
     "data": {
      "application/vnd.jupyter.widget-view+json": {
       "model_id": "51600f52c1094454913f00d6f6dbecc8",
       "version_major": 2,
       "version_minor": 0
      },
      "text/plain": [
       "Calculating Metrics:   0%|          | 0/7 [00:00<?, ?it/s]"
      ]
     },
     "metadata": {},
     "output_type": "display_data"
    },
    {
     "data": {
      "application/vnd.jupyter.widget-view+json": {
       "model_id": "fb9832ec9fe744a9949d214490058aee",
       "version_major": 2,
       "version_minor": 0
      },
      "text/plain": [
       "Calculating Metrics:   0%|          | 0/3 [00:00<?, ?it/s]"
      ]
     },
     "metadata": {},
     "output_type": "display_data"
    },
    {
     "data": {
      "application/vnd.jupyter.widget-view+json": {
       "model_id": "bfdbbcf6103e4d3e92c80259a2c8d66e",
       "version_major": 2,
       "version_minor": 0
      },
      "text/plain": [
       "Calculating Metrics:   0%|          | 0/7 [00:00<?, ?it/s]"
      ]
     },
     "metadata": {},
     "output_type": "display_data"
    },
    {
     "data": {
      "application/vnd.jupyter.widget-view+json": {
       "model_id": "a7f2f6f3923c48f8a41800f48df4aaa8",
       "version_major": 2,
       "version_minor": 0
      },
      "text/plain": [
       "Calculating Metrics:   0%|          | 0/3 [00:00<?, ?it/s]"
      ]
     },
     "metadata": {},
     "output_type": "display_data"
    },
    {
     "data": {
      "application/vnd.jupyter.widget-view+json": {
       "model_id": "fb71435aeda24ec494288ae9d80c50bc",
       "version_major": 2,
       "version_minor": 0
      },
      "text/plain": [
       "Calculating Metrics:   0%|          | 0/7 [00:00<?, ?it/s]"
      ]
     },
     "metadata": {},
     "output_type": "display_data"
    },
    {
     "data": {
      "application/vnd.jupyter.widget-view+json": {
       "model_id": "b7ad0f7535804da3983d7d0451d8ffc1",
       "version_major": 2,
       "version_minor": 0
      },
      "text/plain": [
       "Calculating Metrics:   0%|          | 0/3 [00:00<?, ?it/s]"
      ]
     },
     "metadata": {},
     "output_type": "display_data"
    },
    {
     "data": {
      "application/vnd.jupyter.widget-view+json": {
       "model_id": "bd1592a923d44675998fa1bebdbbb34c",
       "version_major": 2,
       "version_minor": 0
      },
      "text/plain": [
       "Calculating Metrics:   0%|          | 0/7 [00:00<?, ?it/s]"
      ]
     },
     "metadata": {},
     "output_type": "display_data"
    },
    {
     "data": {
      "application/vnd.jupyter.widget-view+json": {
       "model_id": "850c477fcc264f1083ff8f170ddab30b",
       "version_major": 2,
       "version_minor": 0
      },
      "text/plain": [
       "Calculating Metrics:   0%|          | 0/8 [00:00<?, ?it/s]"
      ]
     },
     "metadata": {},
     "output_type": "display_data"
    },
    {
     "data": {
      "application/vnd.jupyter.widget-view+json": {
       "model_id": "9711dee19adf467ea295f82195d1e0c5",
       "version_major": 2,
       "version_minor": 0
      },
      "text/plain": [
       "Calculating Metrics:   0%|          | 0/8 [00:00<?, ?it/s]"
      ]
     },
     "metadata": {},
     "output_type": "display_data"
    },
    {
     "data": {
      "application/vnd.jupyter.widget-view+json": {
       "model_id": "fe2a0d8dc5a9456391d03650e50a0601",
       "version_major": 2,
       "version_minor": 0
      },
      "text/plain": [
       "Calculating Metrics:   0%|          | 0/8 [00:00<?, ?it/s]"
      ]
     },
     "metadata": {},
     "output_type": "display_data"
    },
    {
     "data": {
      "application/vnd.jupyter.widget-view+json": {
       "model_id": "407804a3e421406488b7c4941b45abb6",
       "version_major": 2,
       "version_minor": 0
      },
      "text/plain": [
       "Calculating Metrics:   0%|          | 0/8 [00:00<?, ?it/s]"
      ]
     },
     "metadata": {},
     "output_type": "display_data"
    },
    {
     "data": {
      "application/vnd.jupyter.widget-view+json": {
       "model_id": "7cb500480b724d38a82e0e0412e7895d",
       "version_major": 2,
       "version_minor": 0
      },
      "text/plain": [
       "Calculating Metrics:   0%|          | 0/3 [00:00<?, ?it/s]"
      ]
     },
     "metadata": {},
     "output_type": "display_data"
    },
    {
     "data": {
      "application/vnd.jupyter.widget-view+json": {
       "model_id": "0b61abe9d39e4677aaf07455f949786a",
       "version_major": 2,
       "version_minor": 0
      },
      "text/plain": [
       "Calculating Metrics:   0%|          | 0/7 [00:00<?, ?it/s]"
      ]
     },
     "metadata": {},
     "output_type": "display_data"
    },
    {
     "data": {
      "application/vnd.jupyter.widget-view+json": {
       "model_id": "745d9311cdb641c6be5dbfd86c08dc35",
       "version_major": 2,
       "version_minor": 0
      },
      "text/plain": [
       "Calculating Metrics:   0%|          | 0/8 [00:00<?, ?it/s]"
      ]
     },
     "metadata": {},
     "output_type": "display_data"
    },
    {
     "data": {
      "application/vnd.jupyter.widget-view+json": {
       "model_id": "a34d16ebc9384693963aa0a28401b547",
       "version_major": 2,
       "version_minor": 0
      },
      "text/plain": [
       "Calculating Metrics:   0%|          | 0/8 [00:00<?, ?it/s]"
      ]
     },
     "metadata": {},
     "output_type": "display_data"
    },
    {
     "data": {
      "application/vnd.jupyter.widget-view+json": {
       "model_id": "886d610c5d624e8594865a9d8bb334cb",
       "version_major": 2,
       "version_minor": 0
      },
      "text/plain": [
       "Calculating Metrics:   0%|          | 0/8 [00:00<?, ?it/s]"
      ]
     },
     "metadata": {},
     "output_type": "display_data"
    },
    {
     "data": {
      "application/vnd.jupyter.widget-view+json": {
       "model_id": "7fcc258f7b764f8db13fc076c64dd8f6",
       "version_major": 2,
       "version_minor": 0
      },
      "text/plain": [
       "Calculating Metrics:   0%|          | 0/8 [00:00<?, ?it/s]"
      ]
     },
     "metadata": {},
     "output_type": "display_data"
    },
    {
     "data": {
      "application/vnd.jupyter.widget-view+json": {
       "model_id": "5c19ba6be82c42f08dd63067275fbbed",
       "version_major": 2,
       "version_minor": 0
      },
      "text/plain": [
       "Calculating Metrics:   0%|          | 0/3 [00:00<?, ?it/s]"
      ]
     },
     "metadata": {},
     "output_type": "display_data"
    },
    {
     "data": {
      "application/vnd.jupyter.widget-view+json": {
       "model_id": "f73649048e6c4368bd600b62bbbc0c82",
       "version_major": 2,
       "version_minor": 0
      },
      "text/plain": [
       "Calculating Metrics:   0%|          | 0/7 [00:00<?, ?it/s]"
      ]
     },
     "metadata": {},
     "output_type": "display_data"
    },
    {
     "data": {
      "application/vnd.jupyter.widget-view+json": {
       "model_id": "aac9f65cde0b4ff0a3ccf95089729672",
       "version_major": 2,
       "version_minor": 0
      },
      "text/plain": [
       "Calculating Metrics:   0%|          | 0/3 [00:00<?, ?it/s]"
      ]
     },
     "metadata": {},
     "output_type": "display_data"
    },
    {
     "data": {
      "application/vnd.jupyter.widget-view+json": {
       "model_id": "24c16afc65a740fe82f6ced1ff8c8d5a",
       "version_major": 2,
       "version_minor": 0
      },
      "text/plain": [
       "Calculating Metrics:   0%|          | 0/7 [00:00<?, ?it/s]"
      ]
     },
     "metadata": {},
     "output_type": "display_data"
    },
    {
     "data": {
      "application/vnd.jupyter.widget-view+json": {
       "model_id": "c52740110d5841f1972af5e6af43eaae",
       "version_major": 2,
       "version_minor": 0
      },
      "text/plain": [
       "Calculating Metrics:   0%|          | 0/8 [00:00<?, ?it/s]"
      ]
     },
     "metadata": {},
     "output_type": "display_data"
    },
    {
     "data": {
      "application/vnd.jupyter.widget-view+json": {
       "model_id": "aa27532ff2b343d095812e0a86f5e432",
       "version_major": 2,
       "version_minor": 0
      },
      "text/plain": [
       "Calculating Metrics:   0%|          | 0/8 [00:00<?, ?it/s]"
      ]
     },
     "metadata": {},
     "output_type": "display_data"
    },
    {
     "data": {
      "application/vnd.jupyter.widget-view+json": {
       "model_id": "a5d0e9e419e44ce7a03085059e8024f9",
       "version_major": 2,
       "version_minor": 0
      },
      "text/plain": [
       "Calculating Metrics:   0%|          | 0/8 [00:00<?, ?it/s]"
      ]
     },
     "metadata": {},
     "output_type": "display_data"
    },
    {
     "data": {
      "application/vnd.jupyter.widget-view+json": {
       "model_id": "b8d22ae37a77460fb88541154d4d384d",
       "version_major": 2,
       "version_minor": 0
      },
      "text/plain": [
       "Calculating Metrics:   0%|          | 0/8 [00:00<?, ?it/s]"
      ]
     },
     "metadata": {},
     "output_type": "display_data"
    },
    {
     "data": {
      "application/vnd.jupyter.widget-view+json": {
       "model_id": "1df7a7d5bc634b5995f6313d9818f96a",
       "version_major": 2,
       "version_minor": 0
      },
      "text/plain": [
       "Calculating Metrics:   0%|          | 0/3 [00:00<?, ?it/s]"
      ]
     },
     "metadata": {},
     "output_type": "display_data"
    },
    {
     "data": {
      "application/vnd.jupyter.widget-view+json": {
       "model_id": "1bbfb4b1608545108b23bee2b3ec8e3e",
       "version_major": 2,
       "version_minor": 0
      },
      "text/plain": [
       "Calculating Metrics:   0%|          | 0/7 [00:00<?, ?it/s]"
      ]
     },
     "metadata": {},
     "output_type": "display_data"
    },
    {
     "data": {
      "application/vnd.jupyter.widget-view+json": {
       "model_id": "5d43b257d27a4fb9a0fa030d4c99f9c4",
       "version_major": 2,
       "version_minor": 0
      },
      "text/plain": [
       "Calculating Metrics:   0%|          | 0/8 [00:00<?, ?it/s]"
      ]
     },
     "metadata": {},
     "output_type": "display_data"
    },
    {
     "data": {
      "application/vnd.jupyter.widget-view+json": {
       "model_id": "a17df7f687d742ca86d5d6710c8d0323",
       "version_major": 2,
       "version_minor": 0
      },
      "text/plain": [
       "Calculating Metrics:   0%|          | 0/8 [00:00<?, ?it/s]"
      ]
     },
     "metadata": {},
     "output_type": "display_data"
    },
    {
     "data": {
      "application/vnd.jupyter.widget-view+json": {
       "model_id": "641beaa4ac984179874e1ef6399191fa",
       "version_major": 2,
       "version_minor": 0
      },
      "text/plain": [
       "Calculating Metrics:   0%|          | 0/8 [00:00<?, ?it/s]"
      ]
     },
     "metadata": {},
     "output_type": "display_data"
    },
    {
     "data": {
      "application/vnd.jupyter.widget-view+json": {
       "model_id": "e1785bfe8f234008a2df0f3d2859bafa",
       "version_major": 2,
       "version_minor": 0
      },
      "text/plain": [
       "Calculating Metrics:   0%|          | 0/8 [00:00<?, ?it/s]"
      ]
     },
     "metadata": {},
     "output_type": "display_data"
    },
    {
     "data": {
      "application/vnd.jupyter.widget-view+json": {
       "model_id": "523d00a212024757b4426f18872230c4",
       "version_major": 2,
       "version_minor": 0
      },
      "text/plain": [
       "Calculating Metrics:   0%|          | 0/3 [00:00<?, ?it/s]"
      ]
     },
     "metadata": {},
     "output_type": "display_data"
    },
    {
     "data": {
      "application/vnd.jupyter.widget-view+json": {
       "model_id": "25fb09b033b245f9b624304b49d6c883",
       "version_major": 2,
       "version_minor": 0
      },
      "text/plain": [
       "Calculating Metrics:   0%|          | 0/7 [00:00<?, ?it/s]"
      ]
     },
     "metadata": {},
     "output_type": "display_data"
    },
    {
     "name": "stdout",
     "output_type": "stream",
     "text": [
      "2021-10-07T13:37:39-0500 - INFO - \t0 expectation(s) included in expectation_suite.\n"
     ]
    },
    {
     "data": {
      "application/vnd.jupyter.widget-view+json": {
       "model_id": "1bff0acb97fc45ac935c56d8bcced8f4",
       "version_major": 2,
       "version_minor": 0
      },
      "text/plain": [
       "Profiling:   0%|          | 0/10 [00:00<?, ?it/s, Column=Daily Time Spent on Site]"
      ]
     },
     "metadata": {},
     "output_type": "display_data"
    },
    {
     "data": {
      "application/vnd.jupyter.widget-view+json": {
       "model_id": "800ee7a8e21243f2bc4cceff567f907a",
       "version_major": 2,
       "version_minor": 0
      },
      "text/plain": [
       "Calculating Metrics:   0%|          | 0/3 [00:00<?, ?it/s]"
      ]
     },
     "metadata": {},
     "output_type": "display_data"
    },
    {
     "data": {
      "application/vnd.jupyter.widget-view+json": {
       "model_id": "ffa1664927714ceea2052090b76b78f8",
       "version_major": 2,
       "version_minor": 0
      },
      "text/plain": [
       "Calculating Metrics:   0%|          | 0/3 [00:00<?, ?it/s]"
      ]
     },
     "metadata": {},
     "output_type": "display_data"
    },
    {
     "data": {
      "application/vnd.jupyter.widget-view+json": {
       "model_id": "72ceae57b03f427583f6184740f8282b",
       "version_major": 2,
       "version_minor": 0
      },
      "text/plain": [
       "Calculating Metrics:   0%|          | 0/3 [00:00<?, ?it/s]"
      ]
     },
     "metadata": {},
     "output_type": "display_data"
    },
    {
     "data": {
      "application/vnd.jupyter.widget-view+json": {
       "model_id": "543136eef71f468f9a3967bdd4cbb9c8",
       "version_major": 2,
       "version_minor": 0
      },
      "text/plain": [
       "Calculating Metrics:   0%|          | 0/3 [00:00<?, ?it/s]"
      ]
     },
     "metadata": {},
     "output_type": "display_data"
    },
    {
     "data": {
      "application/vnd.jupyter.widget-view+json": {
       "model_id": "90ba08addf5749d789a4ac16022647ff",
       "version_major": 2,
       "version_minor": 0
      },
      "text/plain": [
       "Calculating Metrics:   0%|          | 0/3 [00:00<?, ?it/s]"
      ]
     },
     "metadata": {},
     "output_type": "display_data"
    },
    {
     "data": {
      "application/vnd.jupyter.widget-view+json": {
       "model_id": "221061dc11894723ad053b50fda59c31",
       "version_major": 2,
       "version_minor": 0
      },
      "text/plain": [
       "Calculating Metrics:   0%|          | 0/3 [00:00<?, ?it/s]"
      ]
     },
     "metadata": {},
     "output_type": "display_data"
    },
    {
     "data": {
      "application/vnd.jupyter.widget-view+json": {
       "model_id": "8a0d9ce7ca3542b98f1cdcc080aa5b91",
       "version_major": 2,
       "version_minor": 0
      },
      "text/plain": [
       "Calculating Metrics:   0%|          | 0/4 [00:00<?, ?it/s]"
      ]
     },
     "metadata": {},
     "output_type": "display_data"
    },
    {
     "data": {
      "application/vnd.jupyter.widget-view+json": {
       "model_id": "87564886cb6a4a87976190cf213e43da",
       "version_major": 2,
       "version_minor": 0
      },
      "text/plain": [
       "Calculating Metrics:   0%|          | 0/4 [00:00<?, ?it/s]"
      ]
     },
     "metadata": {},
     "output_type": "display_data"
    },
    {
     "data": {
      "application/vnd.jupyter.widget-view+json": {
       "model_id": "75b3b3b6964f4cae89eba5b4410ee344",
       "version_major": 2,
       "version_minor": 0
      },
      "text/plain": [
       "Calculating Metrics:   0%|          | 0/3 [00:00<?, ?it/s]"
      ]
     },
     "metadata": {},
     "output_type": "display_data"
    },
    {
     "data": {
      "application/vnd.jupyter.widget-view+json": {
       "model_id": "878277ecb8d04d12971ab72bfb6d59f6",
       "version_major": 2,
       "version_minor": 0
      },
      "text/plain": [
       "Calculating Metrics:   0%|          | 0/3 [00:00<?, ?it/s]"
      ]
     },
     "metadata": {},
     "output_type": "display_data"
    },
    {
     "data": {
      "application/vnd.jupyter.widget-view+json": {
       "model_id": "23983966f0e344508ddebbfc4b72358f",
       "version_major": 2,
       "version_minor": 0
      },
      "text/plain": [
       "Calculating Metrics:   0%|          | 0/6 [00:00<?, ?it/s]"
      ]
     },
     "metadata": {},
     "output_type": "display_data"
    },
    {
     "data": {
      "application/vnd.jupyter.widget-view+json": {
       "model_id": "3533106ab6c947a5a7d8df0d0723a340",
       "version_major": 2,
       "version_minor": 0
      },
      "text/plain": [
       "Calculating Metrics:   0%|          | 0/7 [00:00<?, ?it/s]"
      ]
     },
     "metadata": {},
     "output_type": "display_data"
    },
    {
     "data": {
      "application/vnd.jupyter.widget-view+json": {
       "model_id": "14e41ca32f1349349b1c4be5990b5abe",
       "version_major": 2,
       "version_minor": 0
      },
      "text/plain": [
       "Calculating Metrics:   0%|          | 0/7 [00:00<?, ?it/s]"
      ]
     },
     "metadata": {},
     "output_type": "display_data"
    },
    {
     "data": {
      "application/vnd.jupyter.widget-view+json": {
       "model_id": "0a2c3f2786644bed8262cf033c6f9f07",
       "version_major": 2,
       "version_minor": 0
      },
      "text/plain": [
       "Calculating Metrics:   0%|          | 0/3 [00:00<?, ?it/s]"
      ]
     },
     "metadata": {},
     "output_type": "display_data"
    },
    {
     "data": {
      "application/vnd.jupyter.widget-view+json": {
       "model_id": "b8c8c5a0024f45d1aeba2800388f3f00",
       "version_major": 2,
       "version_minor": 0
      },
      "text/plain": [
       "Calculating Metrics:   0%|          | 0/3 [00:00<?, ?it/s]"
      ]
     },
     "metadata": {},
     "output_type": "display_data"
    },
    {
     "data": {
      "application/vnd.jupyter.widget-view+json": {
       "model_id": "076997a9bed74a5abe9d43e3202d1342",
       "version_major": 2,
       "version_minor": 0
      },
      "text/plain": [
       "Calculating Metrics:   0%|          | 0/3 [00:00<?, ?it/s]"
      ]
     },
     "metadata": {},
     "output_type": "display_data"
    },
    {
     "data": {
      "application/vnd.jupyter.widget-view+json": {
       "model_id": "8792f1a550574e8cb7b3eda2936928c6",
       "version_major": 2,
       "version_minor": 0
      },
      "text/plain": [
       "Calculating Metrics:   0%|          | 0/3 [00:00<?, ?it/s]"
      ]
     },
     "metadata": {},
     "output_type": "display_data"
    },
    {
     "data": {
      "application/vnd.jupyter.widget-view+json": {
       "model_id": "4cc4538e328a47aea7c553eebc335108",
       "version_major": 2,
       "version_minor": 0
      },
      "text/plain": [
       "Calculating Metrics:   0%|          | 0/3 [00:00<?, ?it/s]"
      ]
     },
     "metadata": {},
     "output_type": "display_data"
    },
    {
     "data": {
      "application/vnd.jupyter.widget-view+json": {
       "model_id": "3a4ad0c8b4ab4684be2f4d5210282d01",
       "version_major": 2,
       "version_minor": 0
      },
      "text/plain": [
       "Calculating Metrics:   0%|          | 0/3 [00:00<?, ?it/s]"
      ]
     },
     "metadata": {},
     "output_type": "display_data"
    },
    {
     "data": {
      "application/vnd.jupyter.widget-view+json": {
       "model_id": "d594a2ed0735493dbec15e10923806b3",
       "version_major": 2,
       "version_minor": 0
      },
      "text/plain": [
       "Calculating Metrics:   0%|          | 0/4 [00:00<?, ?it/s]"
      ]
     },
     "metadata": {},
     "output_type": "display_data"
    },
    {
     "data": {
      "application/vnd.jupyter.widget-view+json": {
       "model_id": "9aa4aab7d98744f59ff1d67e8f0de2af",
       "version_major": 2,
       "version_minor": 0
      },
      "text/plain": [
       "Calculating Metrics:   0%|          | 0/4 [00:00<?, ?it/s]"
      ]
     },
     "metadata": {},
     "output_type": "display_data"
    },
    {
     "data": {
      "application/vnd.jupyter.widget-view+json": {
       "model_id": "321d6cbe300e49a0ba0844337c73f13c",
       "version_major": 2,
       "version_minor": 0
      },
      "text/plain": [
       "Calculating Metrics:   0%|          | 0/3 [00:00<?, ?it/s]"
      ]
     },
     "metadata": {},
     "output_type": "display_data"
    },
    {
     "data": {
      "application/vnd.jupyter.widget-view+json": {
       "model_id": "7107a378f9b34537aee4e3c955a449db",
       "version_major": 2,
       "version_minor": 0
      },
      "text/plain": [
       "Calculating Metrics:   0%|          | 0/3 [00:00<?, ?it/s]"
      ]
     },
     "metadata": {},
     "output_type": "display_data"
    },
    {
     "data": {
      "application/vnd.jupyter.widget-view+json": {
       "model_id": "5be239e99626441694b4baa75f4ecfb1",
       "version_major": 2,
       "version_minor": 0
      },
      "text/plain": [
       "Calculating Metrics:   0%|          | 0/3 [00:00<?, ?it/s]"
      ]
     },
     "metadata": {},
     "output_type": "display_data"
    },
    {
     "data": {
      "application/vnd.jupyter.widget-view+json": {
       "model_id": "9d31e48069f849e483b910f4e7ca1d40",
       "version_major": 2,
       "version_minor": 0
      },
      "text/plain": [
       "Calculating Metrics:   0%|          | 0/8 [00:00<?, ?it/s]"
      ]
     },
     "metadata": {},
     "output_type": "display_data"
    },
    {
     "data": {
      "application/vnd.jupyter.widget-view+json": {
       "model_id": "32c3224ae85b42c5a8abecc748c81b82",
       "version_major": 2,
       "version_minor": 0
      },
      "text/plain": [
       "Calculating Metrics:   0%|          | 0/6 [00:00<?, ?it/s]"
      ]
     },
     "metadata": {},
     "output_type": "display_data"
    },
    {
     "data": {
      "application/vnd.jupyter.widget-view+json": {
       "model_id": "a67897ad84b54f80bbfdd4ddc5cebc85",
       "version_major": 2,
       "version_minor": 0
      },
      "text/plain": [
       "Calculating Metrics:   0%|          | 0/7 [00:00<?, ?it/s]"
      ]
     },
     "metadata": {},
     "output_type": "display_data"
    },
    {
     "data": {
      "application/vnd.jupyter.widget-view+json": {
       "model_id": "6aa52acce1054c5882041c5e5cbd37bb",
       "version_major": 2,
       "version_minor": 0
      },
      "text/plain": [
       "Calculating Metrics:   0%|          | 0/7 [00:00<?, ?it/s]"
      ]
     },
     "metadata": {},
     "output_type": "display_data"
    },
    {
     "data": {
      "application/vnd.jupyter.widget-view+json": {
       "model_id": "c4d8cee4c74a490f9dd5b174940c69ce",
       "version_major": 2,
       "version_minor": 0
      },
      "text/plain": [
       "Calculating Metrics:   0%|          | 0/3 [00:00<?, ?it/s]"
      ]
     },
     "metadata": {},
     "output_type": "display_data"
    },
    {
     "data": {
      "application/vnd.jupyter.widget-view+json": {
       "model_id": "567d0a16e248485dbe7c55a486fc1f0d",
       "version_major": 2,
       "version_minor": 0
      },
      "text/plain": [
       "Calculating Metrics:   0%|          | 0/3 [00:00<?, ?it/s]"
      ]
     },
     "metadata": {},
     "output_type": "display_data"
    },
    {
     "data": {
      "application/vnd.jupyter.widget-view+json": {
       "model_id": "38dea9d3952c45ca91887f7d3ccabbb2",
       "version_major": 2,
       "version_minor": 0
      },
      "text/plain": [
       "Calculating Metrics:   0%|          | 0/3 [00:00<?, ?it/s]"
      ]
     },
     "metadata": {},
     "output_type": "display_data"
    },
    {
     "data": {
      "application/vnd.jupyter.widget-view+json": {
       "model_id": "aae9227d13b84f99a801fb4ab7339e68",
       "version_major": 2,
       "version_minor": 0
      },
      "text/plain": [
       "Calculating Metrics:   0%|          | 0/3 [00:00<?, ?it/s]"
      ]
     },
     "metadata": {},
     "output_type": "display_data"
    },
    {
     "data": {
      "application/vnd.jupyter.widget-view+json": {
       "model_id": "87464b23cd9043deb53a8e68a0119362",
       "version_major": 2,
       "version_minor": 0
      },
      "text/plain": [
       "Calculating Metrics:   0%|          | 0/3 [00:00<?, ?it/s]"
      ]
     },
     "metadata": {},
     "output_type": "display_data"
    },
    {
     "data": {
      "application/vnd.jupyter.widget-view+json": {
       "model_id": "5fa793a6e53941598ea5c8fb991838e3",
       "version_major": 2,
       "version_minor": 0
      },
      "text/plain": [
       "Calculating Metrics:   0%|          | 0/3 [00:00<?, ?it/s]"
      ]
     },
     "metadata": {},
     "output_type": "display_data"
    },
    {
     "data": {
      "application/vnd.jupyter.widget-view+json": {
       "model_id": "ac5fc65dc3814a62b57ed6d3f9e981de",
       "version_major": 2,
       "version_minor": 0
      },
      "text/plain": [
       "Calculating Metrics:   0%|          | 0/4 [00:00<?, ?it/s]"
      ]
     },
     "metadata": {},
     "output_type": "display_data"
    },
    {
     "data": {
      "application/vnd.jupyter.widget-view+json": {
       "model_id": "7ddac1fe750144b0a65282d26d1eb88a",
       "version_major": 2,
       "version_minor": 0
      },
      "text/plain": [
       "Calculating Metrics:   0%|          | 0/4 [00:00<?, ?it/s]"
      ]
     },
     "metadata": {},
     "output_type": "display_data"
    },
    {
     "data": {
      "application/vnd.jupyter.widget-view+json": {
       "model_id": "7f8894dfc12045cd964202e79c9f322a",
       "version_major": 2,
       "version_minor": 0
      },
      "text/plain": [
       "Calculating Metrics:   0%|          | 0/3 [00:00<?, ?it/s]"
      ]
     },
     "metadata": {},
     "output_type": "display_data"
    },
    {
     "data": {
      "application/vnd.jupyter.widget-view+json": {
       "model_id": "5ff444e4f79a49e4accbbce98fa1c97c",
       "version_major": 2,
       "version_minor": 0
      },
      "text/plain": [
       "Calculating Metrics:   0%|          | 0/3 [00:00<?, ?it/s]"
      ]
     },
     "metadata": {},
     "output_type": "display_data"
    },
    {
     "data": {
      "application/vnd.jupyter.widget-view+json": {
       "model_id": "1c655a0a791746a8ae0d344a7b85ed8d",
       "version_major": 2,
       "version_minor": 0
      },
      "text/plain": [
       "Calculating Metrics:   0%|          | 0/6 [00:00<?, ?it/s]"
      ]
     },
     "metadata": {},
     "output_type": "display_data"
    },
    {
     "data": {
      "application/vnd.jupyter.widget-view+json": {
       "model_id": "10949c4ccbcd4ba791416b9781043589",
       "version_major": 2,
       "version_minor": 0
      },
      "text/plain": [
       "Calculating Metrics:   0%|          | 0/7 [00:00<?, ?it/s]"
      ]
     },
     "metadata": {},
     "output_type": "display_data"
    },
    {
     "data": {
      "application/vnd.jupyter.widget-view+json": {
       "model_id": "09eb9bd52fb84c8583375dbe1314eddb",
       "version_major": 2,
       "version_minor": 0
      },
      "text/plain": [
       "Calculating Metrics:   0%|          | 0/7 [00:00<?, ?it/s]"
      ]
     },
     "metadata": {},
     "output_type": "display_data"
    },
    {
     "data": {
      "application/vnd.jupyter.widget-view+json": {
       "model_id": "ec30ebd8a2134ec7bec3a6046fb03bc3",
       "version_major": 2,
       "version_minor": 0
      },
      "text/plain": [
       "Calculating Metrics:   0%|          | 0/3 [00:00<?, ?it/s]"
      ]
     },
     "metadata": {},
     "output_type": "display_data"
    },
    {
     "data": {
      "application/vnd.jupyter.widget-view+json": {
       "model_id": "b818d942dfe545ae86772aeb920ee498",
       "version_major": 2,
       "version_minor": 0
      },
      "text/plain": [
       "Calculating Metrics:   0%|          | 0/3 [00:00<?, ?it/s]"
      ]
     },
     "metadata": {},
     "output_type": "display_data"
    },
    {
     "data": {
      "application/vnd.jupyter.widget-view+json": {
       "model_id": "902fae3f4ff44397a491a65d2f5f5804",
       "version_major": 2,
       "version_minor": 0
      },
      "text/plain": [
       "Calculating Metrics:   0%|          | 0/3 [00:00<?, ?it/s]"
      ]
     },
     "metadata": {},
     "output_type": "display_data"
    },
    {
     "data": {
      "application/vnd.jupyter.widget-view+json": {
       "model_id": "d684db8ec3894940972701a8002781f0",
       "version_major": 2,
       "version_minor": 0
      },
      "text/plain": [
       "Calculating Metrics:   0%|          | 0/3 [00:00<?, ?it/s]"
      ]
     },
     "metadata": {},
     "output_type": "display_data"
    },
    {
     "data": {
      "application/vnd.jupyter.widget-view+json": {
       "model_id": "05cf5b989d55452895e4645ebb865088",
       "version_major": 2,
       "version_minor": 0
      },
      "text/plain": [
       "Calculating Metrics:   0%|          | 0/3 [00:00<?, ?it/s]"
      ]
     },
     "metadata": {},
     "output_type": "display_data"
    },
    {
     "data": {
      "application/vnd.jupyter.widget-view+json": {
       "model_id": "e54525bf996e43798e0ad5fb25e2e158",
       "version_major": 2,
       "version_minor": 0
      },
      "text/plain": [
       "Calculating Metrics:   0%|          | 0/3 [00:00<?, ?it/s]"
      ]
     },
     "metadata": {},
     "output_type": "display_data"
    },
    {
     "data": {
      "application/vnd.jupyter.widget-view+json": {
       "model_id": "6985ed3f4e254d28a2abae83fbdbdb75",
       "version_major": 2,
       "version_minor": 0
      },
      "text/plain": [
       "Calculating Metrics:   0%|          | 0/4 [00:00<?, ?it/s]"
      ]
     },
     "metadata": {},
     "output_type": "display_data"
    },
    {
     "data": {
      "application/vnd.jupyter.widget-view+json": {
       "model_id": "5c5556ba4b4a455ab9a232968308ee24",
       "version_major": 2,
       "version_minor": 0
      },
      "text/plain": [
       "Calculating Metrics:   0%|          | 0/4 [00:00<?, ?it/s]"
      ]
     },
     "metadata": {},
     "output_type": "display_data"
    },
    {
     "data": {
      "application/vnd.jupyter.widget-view+json": {
       "model_id": "74aa4e5d767140d8b0e58a6ab284bafd",
       "version_major": 2,
       "version_minor": 0
      },
      "text/plain": [
       "Calculating Metrics:   0%|          | 0/3 [00:00<?, ?it/s]"
      ]
     },
     "metadata": {},
     "output_type": "display_data"
    },
    {
     "data": {
      "application/vnd.jupyter.widget-view+json": {
       "model_id": "da8931e9101a4939a06bc0702c39cb97",
       "version_major": 2,
       "version_minor": 0
      },
      "text/plain": [
       "Calculating Metrics:   0%|          | 0/3 [00:00<?, ?it/s]"
      ]
     },
     "metadata": {},
     "output_type": "display_data"
    },
    {
     "data": {
      "application/vnd.jupyter.widget-view+json": {
       "model_id": "1083f63c7c544989b801c3aed97ef0bd",
       "version_major": 2,
       "version_minor": 0
      },
      "text/plain": [
       "Calculating Metrics:   0%|          | 0/6 [00:00<?, ?it/s]"
      ]
     },
     "metadata": {},
     "output_type": "display_data"
    },
    {
     "data": {
      "application/vnd.jupyter.widget-view+json": {
       "model_id": "580dc4a1bed1425d9cff7dd1af7b8d5d",
       "version_major": 2,
       "version_minor": 0
      },
      "text/plain": [
       "Calculating Metrics:   0%|          | 0/7 [00:00<?, ?it/s]"
      ]
     },
     "metadata": {},
     "output_type": "display_data"
    },
    {
     "data": {
      "application/vnd.jupyter.widget-view+json": {
       "model_id": "f50907bfb0994d0abd6c51bb33743cc1",
       "version_major": 2,
       "version_minor": 0
      },
      "text/plain": [
       "Calculating Metrics:   0%|          | 0/7 [00:00<?, ?it/s]"
      ]
     },
     "metadata": {},
     "output_type": "display_data"
    },
    {
     "data": {
      "application/vnd.jupyter.widget-view+json": {
       "model_id": "b9dad809daea4389a15d574ab7391154",
       "version_major": 2,
       "version_minor": 0
      },
      "text/plain": [
       "Calculating Metrics:   0%|          | 0/6 [00:00<?, ?it/s]"
      ]
     },
     "metadata": {},
     "output_type": "display_data"
    },
    {
     "data": {
      "application/vnd.jupyter.widget-view+json": {
       "model_id": "2038ffc24d84414d8f145315b56bc60f",
       "version_major": 2,
       "version_minor": 0
      },
      "text/plain": [
       "Calculating Metrics:   0%|          | 0/7 [00:00<?, ?it/s]"
      ]
     },
     "metadata": {},
     "output_type": "display_data"
    },
    {
     "data": {
      "application/vnd.jupyter.widget-view+json": {
       "model_id": "b404fa27e9794385aa351799df2e57be",
       "version_major": 2,
       "version_minor": 0
      },
      "text/plain": [
       "Calculating Metrics:   0%|          | 0/7 [00:00<?, ?it/s]"
      ]
     },
     "metadata": {},
     "output_type": "display_data"
    },
    {
     "data": {
      "application/vnd.jupyter.widget-view+json": {
       "model_id": "8d7b5196f8324bd492c788368e1ed202",
       "version_major": 2,
       "version_minor": 0
      },
      "text/plain": [
       "Calculating Metrics:   0%|          | 0/8 [00:00<?, ?it/s]"
      ]
     },
     "metadata": {},
     "output_type": "display_data"
    },
    {
     "data": {
      "application/vnd.jupyter.widget-view+json": {
       "model_id": "7c4ec825e9814ada807bf565243e6868",
       "version_major": 2,
       "version_minor": 0
      },
      "text/plain": [
       "Calculating Metrics:   0%|          | 0/6 [00:00<?, ?it/s]"
      ]
     },
     "metadata": {},
     "output_type": "display_data"
    },
    {
     "data": {
      "application/vnd.jupyter.widget-view+json": {
       "model_id": "ce6f49bb7c034800b5c6a4e885e6189a",
       "version_major": 2,
       "version_minor": 0
      },
      "text/plain": [
       "Calculating Metrics:   0%|          | 0/7 [00:00<?, ?it/s]"
      ]
     },
     "metadata": {},
     "output_type": "display_data"
    },
    {
     "data": {
      "application/vnd.jupyter.widget-view+json": {
       "model_id": "a7e59a25cce44f9aabfa8bed07f8a7be",
       "version_major": 2,
       "version_minor": 0
      },
      "text/plain": [
       "Calculating Metrics:   0%|          | 0/7 [00:00<?, ?it/s]"
      ]
     },
     "metadata": {},
     "output_type": "display_data"
    },
    {
     "data": {
      "application/vnd.jupyter.widget-view+json": {
       "model_id": "34da421370d04abd9c5789f001cf8bea",
       "version_major": 2,
       "version_minor": 0
      },
      "text/plain": [
       "Calculating Metrics:   0%|          | 0/8 [00:00<?, ?it/s]"
      ]
     },
     "metadata": {},
     "output_type": "display_data"
    },
    {
     "data": {
      "application/vnd.jupyter.widget-view+json": {
       "model_id": "56ad3e6d56e64a4a9444a9dda031253c",
       "version_major": 2,
       "version_minor": 0
      },
      "text/plain": [
       "Calculating Metrics:   0%|          | 0/3 [00:00<?, ?it/s]"
      ]
     },
     "metadata": {},
     "output_type": "display_data"
    },
    {
     "data": {
      "application/vnd.jupyter.widget-view+json": {
       "model_id": "49c993128d00402b85eb744c8fbb1ddc",
       "version_major": 2,
       "version_minor": 0
      },
      "text/plain": [
       "Calculating Metrics:   0%|          | 0/3 [00:00<?, ?it/s]"
      ]
     },
     "metadata": {},
     "output_type": "display_data"
    },
    {
     "data": {
      "application/vnd.jupyter.widget-view+json": {
       "model_id": "5e8f24a9219a4ec4a138998440be0e67",
       "version_major": 2,
       "version_minor": 0
      },
      "text/plain": [
       "Calculating Metrics:   0%|          | 0/3 [00:00<?, ?it/s]"
      ]
     },
     "metadata": {},
     "output_type": "display_data"
    },
    {
     "data": {
      "application/vnd.jupyter.widget-view+json": {
       "model_id": "6937bbd756f74c85b55b4b85f832fb06",
       "version_major": 2,
       "version_minor": 0
      },
      "text/plain": [
       "Calculating Metrics:   0%|          | 0/3 [00:00<?, ?it/s]"
      ]
     },
     "metadata": {},
     "output_type": "display_data"
    },
    {
     "data": {
      "application/vnd.jupyter.widget-view+json": {
       "model_id": "f1da6c73ee6f41c2ad2b10f50c6868b8",
       "version_major": 2,
       "version_minor": 0
      },
      "text/plain": [
       "Calculating Metrics:   0%|          | 0/3 [00:00<?, ?it/s]"
      ]
     },
     "metadata": {},
     "output_type": "display_data"
    },
    {
     "data": {
      "application/vnd.jupyter.widget-view+json": {
       "model_id": "73547fbe03414b35adf791b60a3c3cb5",
       "version_major": 2,
       "version_minor": 0
      },
      "text/plain": [
       "Calculating Metrics:   0%|          | 0/3 [00:00<?, ?it/s]"
      ]
     },
     "metadata": {},
     "output_type": "display_data"
    },
    {
     "data": {
      "application/vnd.jupyter.widget-view+json": {
       "model_id": "b840eca2899844a68538aa1465855abe",
       "version_major": 2,
       "version_minor": 0
      },
      "text/plain": [
       "Calculating Metrics:   0%|          | 0/4 [00:00<?, ?it/s]"
      ]
     },
     "metadata": {},
     "output_type": "display_data"
    },
    {
     "data": {
      "application/vnd.jupyter.widget-view+json": {
       "model_id": "8826655514504b0a9f55be8846bbdde8",
       "version_major": 2,
       "version_minor": 0
      },
      "text/plain": [
       "Calculating Metrics:   0%|          | 0/4 [00:00<?, ?it/s]"
      ]
     },
     "metadata": {},
     "output_type": "display_data"
    },
    {
     "data": {
      "application/vnd.jupyter.widget-view+json": {
       "model_id": "a0a792104d344f55b521d599edea3daa",
       "version_major": 2,
       "version_minor": 0
      },
      "text/plain": [
       "Calculating Metrics:   0%|          | 0/3 [00:00<?, ?it/s]"
      ]
     },
     "metadata": {},
     "output_type": "display_data"
    },
    {
     "data": {
      "application/vnd.jupyter.widget-view+json": {
       "model_id": "fe2e8b8b9a2749b18408b314faaca605",
       "version_major": 2,
       "version_minor": 0
      },
      "text/plain": [
       "Calculating Metrics:   0%|          | 0/3 [00:00<?, ?it/s]"
      ]
     },
     "metadata": {},
     "output_type": "display_data"
    },
    {
     "data": {
      "application/vnd.jupyter.widget-view+json": {
       "model_id": "0836852c17a84821aa5423a20bdbbb57",
       "version_major": 2,
       "version_minor": 0
      },
      "text/plain": [
       "Calculating Metrics:   0%|          | 0/3 [00:00<?, ?it/s]"
      ]
     },
     "metadata": {},
     "output_type": "display_data"
    },
    {
     "data": {
      "application/vnd.jupyter.widget-view+json": {
       "model_id": "ce9cb182453842689622edbb161b7350",
       "version_major": 2,
       "version_minor": 0
      },
      "text/plain": [
       "Calculating Metrics:   0%|          | 0/8 [00:00<?, ?it/s]"
      ]
     },
     "metadata": {},
     "output_type": "display_data"
    },
    {
     "data": {
      "application/vnd.jupyter.widget-view+json": {
       "model_id": "8c08a256e7d54440b6af39916758947a",
       "version_major": 2,
       "version_minor": 0
      },
      "text/plain": [
       "Calculating Metrics:   0%|          | 0/6 [00:00<?, ?it/s]"
      ]
     },
     "metadata": {},
     "output_type": "display_data"
    },
    {
     "data": {
      "application/vnd.jupyter.widget-view+json": {
       "model_id": "45300f5284d54c3289c72017231fbbb7",
       "version_major": 2,
       "version_minor": 0
      },
      "text/plain": [
       "Calculating Metrics:   0%|          | 0/7 [00:00<?, ?it/s]"
      ]
     },
     "metadata": {},
     "output_type": "display_data"
    },
    {
     "data": {
      "application/vnd.jupyter.widget-view+json": {
       "model_id": "fb00d42f99e043fcba46db3a80a0accb",
       "version_major": 2,
       "version_minor": 0
      },
      "text/plain": [
       "Calculating Metrics:   0%|          | 0/7 [00:00<?, ?it/s]"
      ]
     },
     "metadata": {},
     "output_type": "display_data"
    },
    {
     "data": {
      "application/vnd.jupyter.widget-view+json": {
       "model_id": "a6ead7254ac54a17968310dc666e3a87",
       "version_major": 2,
       "version_minor": 0
      },
      "text/plain": [
       "Calculating Metrics:   0%|          | 0/6 [00:00<?, ?it/s]"
      ]
     },
     "metadata": {},
     "output_type": "display_data"
    },
    {
     "data": {
      "application/vnd.jupyter.widget-view+json": {
       "model_id": "de9db3e8549442feb7080c8007dc8adc",
       "version_major": 2,
       "version_minor": 0
      },
      "text/plain": [
       "Calculating Metrics:   0%|          | 0/7 [00:00<?, ?it/s]"
      ]
     },
     "metadata": {},
     "output_type": "display_data"
    },
    {
     "data": {
      "application/vnd.jupyter.widget-view+json": {
       "model_id": "e80ff72dfded42408aed01094449fc10",
       "version_major": 2,
       "version_minor": 0
      },
      "text/plain": [
       "Calculating Metrics:   0%|          | 0/7 [00:00<?, ?it/s]"
      ]
     },
     "metadata": {},
     "output_type": "display_data"
    },
    {
     "data": {
      "application/vnd.jupyter.widget-view+json": {
       "model_id": "dc127a89b99e46d08872d1de61a9ef63",
       "version_major": 2,
       "version_minor": 0
      },
      "text/plain": [
       "Calculating Metrics:   0%|          | 0/8 [00:00<?, ?it/s]"
      ]
     },
     "metadata": {},
     "output_type": "display_data"
    },
    {
     "data": {
      "application/vnd.jupyter.widget-view+json": {
       "model_id": "8e6fca01a5914c63a2e46e963cc8712f",
       "version_major": 2,
       "version_minor": 0
      },
      "text/plain": [
       "Calculating Metrics:   0%|          | 0/6 [00:00<?, ?it/s]"
      ]
     },
     "metadata": {},
     "output_type": "display_data"
    },
    {
     "data": {
      "application/vnd.jupyter.widget-view+json": {
       "model_id": "db0b202fb9b94618893f801c7b203a68",
       "version_major": 2,
       "version_minor": 0
      },
      "text/plain": [
       "Calculating Metrics:   0%|          | 0/7 [00:00<?, ?it/s]"
      ]
     },
     "metadata": {},
     "output_type": "display_data"
    },
    {
     "data": {
      "application/vnd.jupyter.widget-view+json": {
       "model_id": "e2ee116fb368432786b1faa7c4d8fe86",
       "version_major": 2,
       "version_minor": 0
      },
      "text/plain": [
       "Calculating Metrics:   0%|          | 0/7 [00:00<?, ?it/s]"
      ]
     },
     "metadata": {},
     "output_type": "display_data"
    },
    {
     "data": {
      "application/vnd.jupyter.widget-view+json": {
       "model_id": "9753b073b00e4c5d98bb9bb3b61cd416",
       "version_major": 2,
       "version_minor": 0
      },
      "text/plain": [
       "Calculating Metrics:   0%|          | 0/8 [00:00<?, ?it/s]"
      ]
     },
     "metadata": {},
     "output_type": "display_data"
    },
    {
     "data": {
      "application/vnd.jupyter.widget-view+json": {
       "model_id": "127a049bbbed4461a71dbd7a0938c33c",
       "version_major": 2,
       "version_minor": 0
      },
      "text/plain": [
       "Calculating Metrics:   0%|          | 0/3 [00:00<?, ?it/s]"
      ]
     },
     "metadata": {},
     "output_type": "display_data"
    },
    {
     "data": {
      "application/vnd.jupyter.widget-view+json": {
       "model_id": "2f5ab6ac29b14c0894d4ad2abef9c6f7",
       "version_major": 2,
       "version_minor": 0
      },
      "text/plain": [
       "Calculating Metrics:   0%|          | 0/3 [00:00<?, ?it/s]"
      ]
     },
     "metadata": {},
     "output_type": "display_data"
    },
    {
     "data": {
      "application/vnd.jupyter.widget-view+json": {
       "model_id": "2d486e4585534c589816805efbdc6ac3",
       "version_major": 2,
       "version_minor": 0
      },
      "text/plain": [
       "Calculating Metrics:   0%|          | 0/3 [00:00<?, ?it/s]"
      ]
     },
     "metadata": {},
     "output_type": "display_data"
    },
    {
     "data": {
      "application/vnd.jupyter.widget-view+json": {
       "model_id": "2524d2dabf874781bc5571b638ec9229",
       "version_major": 2,
       "version_minor": 0
      },
      "text/plain": [
       "Calculating Metrics:   0%|          | 0/3 [00:00<?, ?it/s]"
      ]
     },
     "metadata": {},
     "output_type": "display_data"
    },
    {
     "data": {
      "application/vnd.jupyter.widget-view+json": {
       "model_id": "4057541ab8b348bdb2f0c86e70d2dea7",
       "version_major": 2,
       "version_minor": 0
      },
      "text/plain": [
       "Calculating Metrics:   0%|          | 0/3 [00:00<?, ?it/s]"
      ]
     },
     "metadata": {},
     "output_type": "display_data"
    },
    {
     "data": {
      "application/vnd.jupyter.widget-view+json": {
       "model_id": "9a7bb5e1f1304e85bc309e57222dcdf4",
       "version_major": 2,
       "version_minor": 0
      },
      "text/plain": [
       "Calculating Metrics:   0%|          | 0/3 [00:00<?, ?it/s]"
      ]
     },
     "metadata": {},
     "output_type": "display_data"
    },
    {
     "data": {
      "application/vnd.jupyter.widget-view+json": {
       "model_id": "e56b1d9cf8574519a7a7cbafe7382602",
       "version_major": 2,
       "version_minor": 0
      },
      "text/plain": [
       "Calculating Metrics:   0%|          | 0/4 [00:00<?, ?it/s]"
      ]
     },
     "metadata": {},
     "output_type": "display_data"
    },
    {
     "data": {
      "application/vnd.jupyter.widget-view+json": {
       "model_id": "9447f823e346404da4f429d22bee65e7",
       "version_major": 2,
       "version_minor": 0
      },
      "text/plain": [
       "Calculating Metrics:   0%|          | 0/4 [00:00<?, ?it/s]"
      ]
     },
     "metadata": {},
     "output_type": "display_data"
    },
    {
     "data": {
      "application/vnd.jupyter.widget-view+json": {
       "model_id": "ad19ac9787b5438291c4501d5c0fdaf0",
       "version_major": 2,
       "version_minor": 0
      },
      "text/plain": [
       "Calculating Metrics:   0%|          | 0/3 [00:00<?, ?it/s]"
      ]
     },
     "metadata": {},
     "output_type": "display_data"
    },
    {
     "data": {
      "application/vnd.jupyter.widget-view+json": {
       "model_id": "d74dbcdbe3b543af9397b28f65e302cb",
       "version_major": 2,
       "version_minor": 0
      },
      "text/plain": [
       "Calculating Metrics:   0%|          | 0/3 [00:00<?, ?it/s]"
      ]
     },
     "metadata": {},
     "output_type": "display_data"
    },
    {
     "data": {
      "application/vnd.jupyter.widget-view+json": {
       "model_id": "afbba9a244d74117b225cafa48257e52",
       "version_major": 2,
       "version_minor": 0
      },
      "text/plain": [
       "Calculating Metrics:   0%|          | 0/3 [00:00<?, ?it/s]"
      ]
     },
     "metadata": {},
     "output_type": "display_data"
    },
    {
     "data": {
      "application/vnd.jupyter.widget-view+json": {
       "model_id": "fe2598039972490b819345c729e18ca4",
       "version_major": 2,
       "version_minor": 0
      },
      "text/plain": [
       "Calculating Metrics:   0%|          | 0/8 [00:00<?, ?it/s]"
      ]
     },
     "metadata": {},
     "output_type": "display_data"
    },
    {
     "data": {
      "application/vnd.jupyter.widget-view+json": {
       "model_id": "ccef940335f5433f8019d93f16ac7743",
       "version_major": 2,
       "version_minor": 0
      },
      "text/plain": [
       "Calculating Metrics:   0%|          | 0/6 [00:00<?, ?it/s]"
      ]
     },
     "metadata": {},
     "output_type": "display_data"
    },
    {
     "data": {
      "application/vnd.jupyter.widget-view+json": {
       "model_id": "b1e66228d3084e70a942cac42771a22b",
       "version_major": 2,
       "version_minor": 0
      },
      "text/plain": [
       "Calculating Metrics:   0%|          | 0/7 [00:00<?, ?it/s]"
      ]
     },
     "metadata": {},
     "output_type": "display_data"
    },
    {
     "data": {
      "application/vnd.jupyter.widget-view+json": {
       "model_id": "f6b2c7a6f40045a0bf6a7f1aa1d24150",
       "version_major": 2,
       "version_minor": 0
      },
      "text/plain": [
       "Calculating Metrics:   0%|          | 0/7 [00:00<?, ?it/s]"
      ]
     },
     "metadata": {},
     "output_type": "display_data"
    },
    {
     "name": "stdout",
     "output_type": "stream",
     "text": [
      "2021-10-07T13:37:41-0500 - INFO - \t65 expectation(s) included in expectation_suite.\n",
      "Creating an expectation suite with the following expectations:\n",
      "\n",
      "Table-Level Expectations\n",
      "expect_table_columns_to_match_ordered_list\n",
      "expect_table_row_count_to_be_between\n",
      "\n",
      "Expectations by Column\n",
      "Column Name: Ad Topic Line | Column Data Type: STRING | Cardinality: UNIQUE\n",
      "expect_column_proportion_of_unique_values_to_be_between\n",
      "expect_column_values_to_be_in_type_list\n",
      "expect_column_values_to_not_be_null\n",
      "\n",
      "\n",
      "Column Name: Age | Column Data Type: INT | Cardinality: FEW\n",
      "expect_column_max_to_be_between\n",
      "expect_column_mean_to_be_between\n",
      "expect_column_median_to_be_between\n",
      "expect_column_min_to_be_between\n",
      "expect_column_proportion_of_unique_values_to_be_between\n",
      "expect_column_quantile_values_to_be_between\n",
      "expect_column_values_to_be_in_set\n",
      "expect_column_values_to_be_in_type_list\n",
      "expect_column_values_to_not_be_null\n",
      "\n",
      "\n",
      "Column Name: Area Income | Column Data Type: FLOAT | Cardinality: UNIQUE\n",
      "expect_column_max_to_be_between\n",
      "expect_column_mean_to_be_between\n",
      "expect_column_median_to_be_between\n",
      "expect_column_min_to_be_between\n",
      "expect_column_proportion_of_unique_values_to_be_between\n",
      "expect_column_quantile_values_to_be_between\n",
      "expect_column_values_to_be_in_type_list\n",
      "expect_column_values_to_not_be_null\n",
      "\n",
      "\n",
      "Column Name: City | Column Data Type: STRING | Cardinality: VERY_MANY\n",
      "expect_column_proportion_of_unique_values_to_be_between\n",
      "expect_column_values_to_be_in_type_list\n",
      "expect_column_values_to_not_be_null\n",
      "\n",
      "\n",
      "Column Name: Clicked on Ad | Column Data Type: INT | Cardinality: TWO\n",
      "expect_column_max_to_be_between\n",
      "expect_column_mean_to_be_between\n",
      "expect_column_median_to_be_between\n",
      "expect_column_min_to_be_between\n",
      "expect_column_proportion_of_unique_values_to_be_between\n",
      "expect_column_quantile_values_to_be_between\n",
      "expect_column_values_to_be_in_set\n",
      "expect_column_values_to_be_in_type_list\n",
      "expect_column_values_to_not_be_null\n",
      "\n",
      "\n",
      "Column Name: Country | Column Data Type: STRING | Cardinality: VERY_MANY\n",
      "expect_column_proportion_of_unique_values_to_be_between\n",
      "expect_column_values_to_be_in_type_list\n",
      "expect_column_values_to_not_be_null\n",
      "\n",
      "\n",
      "Column Name: Daily Internet Usage | Column Data Type: FLOAT | Cardinality: VERY_MANY\n",
      "expect_column_max_to_be_between\n",
      "expect_column_mean_to_be_between\n",
      "expect_column_median_to_be_between\n",
      "expect_column_min_to_be_between\n",
      "expect_column_proportion_of_unique_values_to_be_between\n",
      "expect_column_quantile_values_to_be_between\n",
      "expect_column_values_to_be_in_type_list\n",
      "expect_column_values_to_not_be_null\n",
      "\n",
      "\n",
      "Column Name: Daily Time Spent on Site | Column Data Type: FLOAT | Cardinality: VERY_MANY\n",
      "expect_column_max_to_be_between\n",
      "expect_column_mean_to_be_between\n",
      "expect_column_median_to_be_between\n",
      "expect_column_min_to_be_between\n",
      "expect_column_proportion_of_unique_values_to_be_between\n",
      "expect_column_quantile_values_to_be_between\n",
      "expect_column_values_to_be_in_type_list\n",
      "expect_column_values_to_not_be_null\n",
      "\n",
      "\n",
      "Column Name: Male | Column Data Type: INT | Cardinality: TWO\n",
      "expect_column_max_to_be_between\n",
      "expect_column_mean_to_be_between\n",
      "expect_column_median_to_be_between\n",
      "expect_column_min_to_be_between\n",
      "expect_column_proportion_of_unique_values_to_be_between\n",
      "expect_column_quantile_values_to_be_between\n",
      "expect_column_values_to_be_in_set\n",
      "expect_column_values_to_be_in_type_list\n",
      "expect_column_values_to_not_be_null\n",
      "\n",
      "\n",
      "Column Name: Timestamp | Column Data Type: STRING | Cardinality: UNIQUE\n",
      "expect_column_proportion_of_unique_values_to_be_between\n",
      "expect_column_values_to_be_in_type_list\n",
      "expect_column_values_to_not_be_null\n",
      "\n",
      "\n"
     ]
    }
   ],
   "source": [
    "profiler = UserConfigurableProfiler(\n",
    "    profile_dataset=validator,\n",
    "    excluded_expectations=None,\n",
    "    ignored_columns=ignored_columns,\n",
    "    not_null_only=False,\n",
    "    primary_or_compound_key=False,\n",
    "    semantic_types_dict=None,\n",
    "    table_expectations_only=False,\n",
    "    value_set_threshold=\"MANY\",\n",
    ")\n",
    "suite = profiler.build_suite()"
   ]
  },
  {
   "cell_type": "markdown",
   "id": "81a30f5e",
   "metadata": {},
   "source": [
    "# Save & review your new Expectation Suite\n",
    "\n",
    "Let's save the draft expectation suite as a JSON file in the\n",
    "`great_expectations/expectations` directory of your project and rebuild the Data\n",
    " Docs site to make it easy to review your new suite."
   ]
  },
  {
   "cell_type": "code",
   "execution_count": 7,
   "id": "4fb4bd94",
   "metadata": {
    "ExecuteTime": {
     "end_time": "2021-10-07T18:37:48.223205Z",
     "start_time": "2021-10-07T18:37:46.989950Z"
    }
   },
   "outputs": [
    {
     "name": "stdout",
     "output_type": "stream",
     "text": [
      "2021-10-07T13:37:47-0500 - INFO - \t65 expectation(s) included in expectation_suite.\n",
      "{\n",
      "  \"ge_cloud_id\": null,\n",
      "  \"meta\": {\n",
      "    \"citations\": [\n",
      "      {\n",
      "        \"batch_request\": {\n",
      "          \"data_asset_name\": \"first_data.csv\",\n",
      "          \"data_connector_name\": \"default_inferred_data_connector_name\",\n",
      "          \"datasource_name\": \"first_data\",\n",
      "          \"limit\": 1000\n",
      "        },\n",
      "        \"citation_date\": \"2021-10-07T18:35:23.047852Z\",\n",
      "        \"comment\": \"Created suite added via CLI\"\n",
      "      }\n",
      "    ],\n",
      "    \"great_expectations_version\": \"0.13.36\"\n",
      "  },\n",
      "  \"expectation_suite_name\": \"first_data.csv.warning\",\n",
      "  \"data_asset_type\": null,\n",
      "  \"expectations\": [\n",
      "    {\n",
      "      \"expectation_type\": \"expect_table_columns_to_match_ordered_list\",\n",
      "      \"meta\": {},\n",
      "      \"kwargs\": {\n",
      "        \"column_list\": [\n",
      "          \"Unnamed: 0\",\n",
      "          \"Daily Time Spent on Site\",\n",
      "          \"Age\",\n",
      "          \"Area Income\",\n",
      "          \"Daily Internet Usage\",\n",
      "          \"Ad Topic Line\",\n",
      "          \"City\",\n",
      "          \"Male\",\n",
      "          \"Country\",\n",
      "          \"Timestamp\",\n",
      "          \"Clicked on Ad\"\n",
      "        ]\n",
      "      },\n",
      "      \"ge_cloud_id\": null\n",
      "    },\n",
      "    {\n",
      "      \"expectation_type\": \"expect_table_row_count_to_be_between\",\n",
      "      \"meta\": {},\n",
      "      \"kwargs\": {\n",
      "        \"min_value\": 610,\n",
      "        \"max_value\": 610\n",
      "      },\n",
      "      \"ge_cloud_id\": null\n",
      "    },\n",
      "    {\n",
      "      \"expectation_type\": \"expect_column_min_to_be_between\",\n",
      "      \"meta\": {},\n",
      "      \"kwargs\": {\n",
      "        \"min_value\": 32.6,\n",
      "        \"max_value\": 32.6,\n",
      "        \"column\": \"Daily Time Spent on Site\"\n",
      "      },\n",
      "      \"ge_cloud_id\": null\n",
      "    },\n",
      "    {\n",
      "      \"expectation_type\": \"expect_column_max_to_be_between\",\n",
      "      \"meta\": {},\n",
      "      \"kwargs\": {\n",
      "        \"min_value\": 91.37,\n",
      "        \"max_value\": 91.37,\n",
      "        \"column\": \"Daily Time Spent on Site\"\n",
      "      },\n",
      "      \"ge_cloud_id\": null\n",
      "    },\n",
      "    {\n",
      "      \"expectation_type\": \"expect_column_mean_to_be_between\",\n",
      "      \"meta\": {},\n",
      "      \"kwargs\": {\n",
      "        \"min_value\": 65.26704918032787,\n",
      "        \"max_value\": 65.26704918032787,\n",
      "        \"column\": \"Daily Time Spent on Site\"\n",
      "      },\n",
      "      \"ge_cloud_id\": null\n",
      "    },\n",
      "    {\n",
      "      \"expectation_type\": \"expect_column_median_to_be_between\",\n",
      "      \"meta\": {},\n",
      "      \"kwargs\": {\n",
      "        \"min_value\": 68.33,\n",
      "        \"max_value\": 68.33,\n",
      "        \"column\": \"Daily Time Spent on Site\"\n",
      "      },\n",
      "      \"ge_cloud_id\": null\n",
      "    },\n",
      "    {\n",
      "      \"expectation_type\": \"expect_column_quantile_values_to_be_between\",\n",
      "      \"meta\": {},\n",
      "      \"kwargs\": {\n",
      "        \"quantile_ranges\": {\n",
      "          \"quantiles\": [\n",
      "            0.05,\n",
      "            0.25,\n",
      "            0.5,\n",
      "            0.75,\n",
      "            0.95\n",
      "          ],\n",
      "          \"value_ranges\": [\n",
      "            [\n",
      "              37.47,\n",
      "              37.47\n",
      "            ],\n",
      "            [\n",
      "              51.5,\n",
      "              51.5\n",
      "            ],\n",
      "            [\n",
      "              68.25,\n",
      "              68.25\n",
      "            ],\n",
      "            [\n",
      "              78.51,\n",
      "              78.51\n",
      "            ],\n",
      "            [\n",
      "              87.09,\n",
      "              87.09\n",
      "            ]\n",
      "          ]\n",
      "        },\n",
      "        \"allow_relative_error\": \"lower\",\n",
      "        \"column\": \"Daily Time Spent on Site\"\n",
      "      },\n",
      "      \"ge_cloud_id\": null\n",
      "    },\n",
      "    {\n",
      "      \"expectation_type\": \"expect_column_values_to_not_be_null\",\n",
      "      \"meta\": {},\n",
      "      \"kwargs\": {\n",
      "        \"column\": \"Daily Time Spent on Site\"\n",
      "      },\n",
      "      \"ge_cloud_id\": null\n",
      "    },\n",
      "    {\n",
      "      \"expectation_type\": \"expect_column_proportion_of_unique_values_to_be_between\",\n",
      "      \"meta\": {},\n",
      "      \"kwargs\": {\n",
      "        \"min_value\": 0.9344262295081968,\n",
      "        \"max_value\": 0.9344262295081968,\n",
      "        \"column\": \"Daily Time Spent on Site\"\n",
      "      },\n",
      "      \"ge_cloud_id\": null\n",
      "    },\n",
      "    {\n",
      "      \"expectation_type\": \"expect_column_values_to_be_in_type_list\",\n",
      "      \"meta\": {},\n",
      "      \"kwargs\": {\n",
      "        \"type_list\": [\n",
      "          \"FLOAT\",\n",
      "          \"FLOAT4\",\n",
      "          \"FLOAT8\",\n",
      "          \"FLOAT64\",\n",
      "          \"DOUBLE\",\n",
      "          \"DOUBLE_PRECISION\",\n",
      "          \"NUMERIC\",\n",
      "          \"FloatType\",\n",
      "          \"DoubleType\",\n",
      "          \"float_\",\n",
      "          \"float16\",\n",
      "          \"float32\",\n",
      "          \"float64\",\n",
      "          \"number\",\n",
      "          \"DECIMAL\",\n",
      "          \"REAL\"\n",
      "        ],\n",
      "        \"column\": \"Daily Time Spent on Site\"\n",
      "      },\n",
      "      \"ge_cloud_id\": null\n",
      "    },\n",
      "    {\n",
      "      \"expectation_type\": \"expect_column_min_to_be_between\",\n",
      "      \"meta\": {},\n",
      "      \"kwargs\": {\n",
      "        \"min_value\": 19,\n",
      "        \"max_value\": 19,\n",
      "        \"column\": \"Age\"\n",
      "      },\n",
      "      \"ge_cloud_id\": null\n",
      "    },\n",
      "    {\n",
      "      \"expectation_type\": \"expect_column_max_to_be_between\",\n",
      "      \"meta\": {},\n",
      "      \"kwargs\": {\n",
      "        \"min_value\": 61,\n",
      "        \"max_value\": 61,\n",
      "        \"column\": \"Age\"\n",
      "      },\n",
      "      \"ge_cloud_id\": null\n",
      "    },\n",
      "    {\n",
      "      \"expectation_type\": \"expect_column_mean_to_be_between\",\n",
      "      \"meta\": {},\n",
      "      \"kwargs\": {\n",
      "        \"min_value\": 36.05081967213115,\n",
      "        \"max_value\": 36.05081967213115,\n",
      "        \"column\": \"Age\"\n",
      "      },\n",
      "      \"ge_cloud_id\": null\n",
      "    },\n",
      "    {\n",
      "      \"expectation_type\": \"expect_column_median_to_be_between\",\n",
      "      \"meta\": {},\n",
      "      \"kwargs\": {\n",
      "        \"min_value\": 35.0,\n",
      "        \"max_value\": 35.0,\n",
      "        \"column\": \"Age\"\n",
      "      },\n",
      "      \"ge_cloud_id\": null\n",
      "    },\n",
      "    {\n",
      "      \"expectation_type\": \"expect_column_quantile_values_to_be_between\",\n",
      "      \"meta\": {},\n",
      "      \"kwargs\": {\n",
      "        \"quantile_ranges\": {\n",
      "          \"quantiles\": [\n",
      "            0.05,\n",
      "            0.25,\n",
      "            0.5,\n",
      "            0.75,\n",
      "            0.95\n",
      "          ],\n",
      "          \"value_ranges\": [\n",
      "            [\n",
      "              23,\n",
      "              23\n",
      "            ],\n",
      "            [\n",
      "              29,\n",
      "              29\n",
      "            ],\n",
      "            [\n",
      "              35,\n",
      "              35\n",
      "            ],\n",
      "            [\n",
      "              42,\n",
      "              42\n",
      "            ],\n",
      "            [\n",
      "              52,\n",
      "              52\n",
      "            ]\n",
      "          ]\n",
      "        },\n",
      "        \"allow_relative_error\": \"lower\",\n",
      "        \"column\": \"Age\"\n",
      "      },\n",
      "      \"ge_cloud_id\": null\n",
      "    },\n",
      "    {\n",
      "      \"expectation_type\": \"expect_column_values_to_be_in_set\",\n",
      "      \"meta\": {},\n",
      "      \"kwargs\": {\n",
      "        \"value_set\": [\n",
      "          19,\n",
      "          20,\n",
      "          21,\n",
      "          22,\n",
      "          23,\n",
      "          24,\n",
      "          25,\n",
      "          26,\n",
      "          27,\n",
      "          28,\n",
      "          29,\n",
      "          30,\n",
      "          31,\n",
      "          32,\n",
      "          33,\n",
      "          34,\n",
      "          35,\n",
      "          36,\n",
      "          37,\n",
      "          38,\n",
      "          39,\n",
      "          40,\n",
      "          41,\n",
      "          42,\n",
      "          43,\n",
      "          44,\n",
      "          45,\n",
      "          46,\n",
      "          47,\n",
      "          48,\n",
      "          49,\n",
      "          50,\n",
      "          51,\n",
      "          52,\n",
      "          53,\n",
      "          54,\n",
      "          55,\n",
      "          56,\n",
      "          57,\n",
      "          58,\n",
      "          59,\n",
      "          60,\n",
      "          61\n",
      "        ],\n",
      "        \"column\": \"Age\"\n",
      "      },\n",
      "      \"ge_cloud_id\": null\n",
      "    },\n",
      "    {\n",
      "      \"expectation_type\": \"expect_column_values_to_not_be_null\",\n",
      "      \"meta\": {},\n",
      "      \"kwargs\": {\n",
      "        \"column\": \"Age\"\n",
      "      },\n",
      "      \"ge_cloud_id\": null\n",
      "    },\n",
      "    {\n",
      "      \"expectation_type\": \"expect_column_proportion_of_unique_values_to_be_between\",\n",
      "      \"meta\": {},\n",
      "      \"kwargs\": {\n",
      "        \"min_value\": 0.07049180327868852,\n",
      "        \"max_value\": 0.07049180327868852,\n",
      "        \"column\": \"Age\"\n",
      "      },\n",
      "      \"ge_cloud_id\": null\n",
      "    },\n",
      "    {\n",
      "      \"expectation_type\": \"expect_column_values_to_be_in_type_list\",\n",
      "      \"meta\": {},\n",
      "      \"kwargs\": {\n",
      "        \"type_list\": [\n",
      "          \"INTEGER\",\n",
      "          \"integer\",\n",
      "          \"int\",\n",
      "          \"int_\",\n",
      "          \"int8\",\n",
      "          \"int16\",\n",
      "          \"int32\",\n",
      "          \"int64\",\n",
      "          \"uint8\",\n",
      "          \"uint16\",\n",
      "          \"uint32\",\n",
      "          \"uint64\",\n",
      "          \"INT\",\n",
      "          \"INTEGER\",\n",
      "          \"INT64\",\n",
      "          \"TINYINT\",\n",
      "          \"BYTEINT\",\n",
      "          \"SMALLINT\",\n",
      "          \"BIGINT\",\n",
      "          \"IntegerType\",\n",
      "          \"LongType\"\n",
      "        ],\n",
      "        \"column\": \"Age\"\n",
      "      },\n",
      "      \"ge_cloud_id\": null\n",
      "    },\n",
      "    {\n",
      "      \"expectation_type\": \"expect_column_min_to_be_between\",\n",
      "      \"meta\": {},\n",
      "      \"kwargs\": {\n",
      "        \"min_value\": 14548.06,\n",
      "        \"max_value\": 14548.06,\n",
      "        \"column\": \"Area Income\"\n",
      "      },\n",
      "      \"ge_cloud_id\": null\n",
      "    },\n",
      "    {\n",
      "      \"expectation_type\": \"expect_column_max_to_be_between\",\n",
      "      \"meta\": {},\n",
      "      \"kwargs\": {\n",
      "        \"min_value\": 79484.8,\n",
      "        \"max_value\": 79484.8,\n",
      "        \"column\": \"Area Income\"\n",
      "      },\n",
      "      \"ge_cloud_id\": null\n",
      "    },\n",
      "    {\n",
      "      \"expectation_type\": \"expect_column_mean_to_be_between\",\n",
      "      \"meta\": {},\n",
      "      \"kwargs\": {\n",
      "        \"min_value\": 55365.62095081966,\n",
      "        \"max_value\": 55365.62095081966,\n",
      "        \"column\": \"Area Income\"\n",
      "      },\n",
      "      \"ge_cloud_id\": null\n",
      "    },\n",
      "    {\n",
      "      \"expectation_type\": \"expect_column_median_to_be_between\",\n",
      "      \"meta\": {},\n",
      "      \"kwargs\": {\n",
      "        \"min_value\": 57532.6,\n",
      "        \"max_value\": 57532.6,\n",
      "        \"column\": \"Area Income\"\n",
      "      },\n",
      "      \"ge_cloud_id\": null\n",
      "    },\n",
      "    {\n",
      "      \"expectation_type\": \"expect_column_quantile_values_to_be_between\",\n",
      "      \"meta\": {},\n",
      "      \"kwargs\": {\n",
      "        \"quantile_ranges\": {\n",
      "          \"quantiles\": [\n",
      "            0.05,\n",
      "            0.25,\n",
      "            0.5,\n",
      "            0.75,\n",
      "            0.95\n",
      "          ],\n",
      "          \"value_ranges\": [\n",
      "            [\n",
      "              30487.48,\n",
      "              30487.48\n",
      "            ],\n",
      "            [\n",
      "              47682.28,\n",
      "              47682.28\n",
      "            ],\n",
      "            [\n",
      "              57519.64,\n",
      "              57519.64\n",
      "            ],\n",
      "            [\n",
      "              65044.59,\n",
      "              65044.59\n",
      "            ],\n",
      "            [\n",
      "              73538.09,\n",
      "              73538.09\n",
      "            ]\n",
      "          ]\n",
      "        },\n",
      "        \"allow_relative_error\": \"lower\",\n",
      "        \"column\": \"Area Income\"\n",
      "      },\n",
      "      \"ge_cloud_id\": null\n",
      "    },\n",
      "    {\n",
      "      \"expectation_type\": \"expect_column_values_to_not_be_null\",\n",
      "      \"meta\": {},\n",
      "      \"kwargs\": {\n",
      "        \"column\": \"Area Income\"\n",
      "      },\n",
      "      \"ge_cloud_id\": null\n",
      "    },\n",
      "    {\n",
      "      \"expectation_type\": \"expect_column_proportion_of_unique_values_to_be_between\",\n",
      "      \"meta\": {},\n",
      "      \"kwargs\": {\n",
      "        \"min_value\": 1.0,\n",
      "        \"max_value\": 1.0,\n",
      "        \"column\": \"Area Income\"\n",
      "      },\n",
      "      \"ge_cloud_id\": null\n",
      "    },\n",
      "    {\n",
      "      \"expectation_type\": \"expect_column_values_to_be_in_type_list\",\n",
      "      \"meta\": {},\n",
      "      \"kwargs\": {\n",
      "        \"type_list\": [\n",
      "          \"FLOAT\",\n",
      "          \"FLOAT4\",\n",
      "          \"FLOAT8\",\n",
      "          \"FLOAT64\",\n",
      "          \"DOUBLE\",\n",
      "          \"DOUBLE_PRECISION\",\n",
      "          \"NUMERIC\",\n",
      "          \"FloatType\",\n",
      "          \"DoubleType\",\n",
      "          \"float_\",\n",
      "          \"float16\",\n",
      "          \"float32\",\n",
      "          \"float64\",\n",
      "          \"number\",\n",
      "          \"DECIMAL\",\n",
      "          \"REAL\"\n",
      "        ],\n",
      "        \"column\": \"Area Income\"\n",
      "      },\n",
      "      \"ge_cloud_id\": null\n",
      "    },\n",
      "    {\n",
      "      \"expectation_type\": \"expect_column_min_to_be_between\",\n",
      "      \"meta\": {},\n",
      "      \"kwargs\": {\n",
      "        \"min_value\": 105.0,\n",
      "        \"max_value\": 105.0,\n",
      "        \"column\": \"Daily Internet Usage\"\n",
      "      },\n",
      "      \"ge_cloud_id\": null\n",
      "    },\n",
      "    {\n",
      "      \"expectation_type\": \"expect_column_max_to_be_between\",\n",
      "      \"meta\": {},\n",
      "      \"kwargs\": {\n",
      "        \"min_value\": 269.96,\n",
      "        \"max_value\": 269.96,\n",
      "        \"column\": \"Daily Internet Usage\"\n",
      "      },\n",
      "      \"ge_cloud_id\": null\n",
      "    },\n",
      "    {\n",
      "      \"expectation_type\": \"expect_column_mean_to_be_between\",\n",
      "      \"meta\": {},\n",
      "      \"kwargs\": {\n",
      "        \"min_value\": 179.4397868852459,\n",
      "        \"max_value\": 179.4397868852459,\n",
      "        \"column\": \"Daily Internet Usage\"\n",
      "      },\n",
      "      \"ge_cloud_id\": null\n",
      "    },\n",
      "    {\n",
      "      \"expectation_type\": \"expect_column_median_to_be_between\",\n",
      "      \"meta\": {},\n",
      "      \"kwargs\": {\n",
      "        \"min_value\": 183.035,\n",
      "        \"max_value\": 183.035,\n",
      "        \"column\": \"Daily Internet Usage\"\n",
      "      },\n",
      "      \"ge_cloud_id\": null\n",
      "    },\n",
      "    {\n",
      "      \"expectation_type\": \"expect_column_quantile_values_to_be_between\",\n",
      "      \"meta\": {},\n",
      "      \"kwargs\": {\n",
      "        \"quantile_ranges\": {\n",
      "          \"quantiles\": [\n",
      "            0.05,\n",
      "            0.25,\n",
      "            0.5,\n",
      "            0.75,\n",
      "            0.95\n",
      "          ],\n",
      "          \"value_ranges\": [\n",
      "            [\n",
      "              113.75,\n",
      "              113.75\n",
      "            ],\n",
      "            [\n",
      "              137.2,\n",
      "              137.2\n",
      "            ],\n",
      "            [\n",
      "              182.65,\n",
      "              182.65\n",
      "            ],\n",
      "            [\n",
      "              217.68,\n",
      "              217.68\n",
      "            ],\n",
      "            [\n",
      "              245.89,\n",
      "              245.89\n",
      "            ]\n",
      "          ]\n",
      "        },\n",
      "        \"allow_relative_error\": \"lower\",\n",
      "        \"column\": \"Daily Internet Usage\"\n",
      "      },\n",
      "      \"ge_cloud_id\": null\n",
      "    },\n",
      "    {\n",
      "      \"expectation_type\": \"expect_column_values_to_not_be_null\",\n",
      "      \"meta\": {},\n",
      "      \"kwargs\": {\n",
      "        \"column\": \"Daily Internet Usage\"\n",
      "      },\n",
      "      \"ge_cloud_id\": null\n",
      "    },\n",
      "    {\n",
      "      \"expectation_type\": \"expect_column_proportion_of_unique_values_to_be_between\",\n",
      "      \"meta\": {},\n",
      "      \"kwargs\": {\n",
      "        \"min_value\": 0.9704918032786886,\n",
      "        \"max_value\": 0.9704918032786886,\n",
      "        \"column\": \"Daily Internet Usage\"\n",
      "      },\n",
      "      \"ge_cloud_id\": null\n",
      "    },\n",
      "    {\n",
      "      \"expectation_type\": \"expect_column_values_to_be_in_type_list\",\n",
      "      \"meta\": {},\n",
      "      \"kwargs\": {\n",
      "        \"type_list\": [\n",
      "          \"FLOAT\",\n",
      "          \"FLOAT4\",\n",
      "          \"FLOAT8\",\n",
      "          \"FLOAT64\",\n",
      "          \"DOUBLE\",\n",
      "          \"DOUBLE_PRECISION\",\n",
      "          \"NUMERIC\",\n",
      "          \"FloatType\",\n",
      "          \"DoubleType\",\n",
      "          \"float_\",\n",
      "          \"float16\",\n",
      "          \"float32\",\n",
      "          \"float64\",\n",
      "          \"number\",\n",
      "          \"DECIMAL\",\n",
      "          \"REAL\"\n",
      "        ],\n",
      "        \"column\": \"Daily Internet Usage\"\n",
      "      },\n",
      "      \"ge_cloud_id\": null\n",
      "    },\n",
      "    {\n",
      "      \"expectation_type\": \"expect_column_values_to_not_be_null\",\n",
      "      \"meta\": {},\n",
      "      \"kwargs\": {\n",
      "        \"column\": \"Ad Topic Line\"\n",
      "      },\n",
      "      \"ge_cloud_id\": null\n",
      "    },\n",
      "    {\n",
      "      \"expectation_type\": \"expect_column_proportion_of_unique_values_to_be_between\",\n",
      "      \"meta\": {},\n",
      "      \"kwargs\": {\n",
      "        \"min_value\": 1.0,\n",
      "        \"max_value\": 1.0,\n",
      "        \"column\": \"Ad Topic Line\"\n",
      "      },\n",
      "      \"ge_cloud_id\": null\n",
      "    },\n",
      "    {\n",
      "      \"expectation_type\": \"expect_column_values_to_be_in_type_list\",\n",
      "      \"meta\": {},\n",
      "      \"kwargs\": {\n",
      "        \"type_list\": [\n",
      "          \"CHAR\",\n",
      "          \"NCHAR\",\n",
      "          \"VARCHAR\",\n",
      "          \"NVARCHAR\",\n",
      "          \"TEXT\",\n",
      "          \"NTEXT\",\n",
      "          \"STRING\",\n",
      "          \"StringType\",\n",
      "          \"string\",\n",
      "          \"str\",\n",
      "          \"object\",\n",
      "          \"dtype('O')\"\n",
      "        ],\n",
      "        \"column\": \"Ad Topic Line\"\n",
      "      },\n",
      "      \"ge_cloud_id\": null\n",
      "    },\n",
      "    {\n",
      "      \"expectation_type\": \"expect_column_values_to_not_be_null\",\n",
      "      \"meta\": {},\n",
      "      \"kwargs\": {\n",
      "        \"column\": \"City\"\n",
      "      },\n",
      "      \"ge_cloud_id\": null\n",
      "    },\n",
      "    {\n",
      "      \"expectation_type\": \"expect_column_proportion_of_unique_values_to_be_between\",\n",
      "      \"meta\": {},\n",
      "      \"kwargs\": {\n",
      "        \"min_value\": 0.9819672131147541,\n",
      "        \"max_value\": 0.9819672131147541,\n",
      "        \"column\": \"City\"\n",
      "      },\n",
      "      \"ge_cloud_id\": null\n",
      "    },\n",
      "    {\n",
      "      \"expectation_type\": \"expect_column_values_to_be_in_type_list\",\n",
      "      \"meta\": {},\n",
      "      \"kwargs\": {\n",
      "        \"type_list\": [\n",
      "          \"CHAR\",\n",
      "          \"NCHAR\",\n",
      "          \"VARCHAR\",\n",
      "          \"NVARCHAR\",\n",
      "          \"TEXT\",\n",
      "          \"NTEXT\",\n",
      "          \"STRING\",\n",
      "          \"StringType\",\n",
      "          \"string\",\n",
      "          \"str\",\n",
      "          \"object\",\n",
      "          \"dtype('O')\"\n",
      "        ],\n",
      "        \"column\": \"City\"\n",
      "      },\n",
      "      \"ge_cloud_id\": null\n",
      "    },\n",
      "    {\n",
      "      \"expectation_type\": \"expect_column_min_to_be_between\",\n",
      "      \"meta\": {},\n",
      "      \"kwargs\": {\n",
      "        \"min_value\": 0,\n",
      "        \"max_value\": 0,\n",
      "        \"column\": \"Male\"\n",
      "      },\n",
      "      \"ge_cloud_id\": null\n",
      "    },\n",
      "    {\n",
      "      \"expectation_type\": \"expect_column_max_to_be_between\",\n",
      "      \"meta\": {},\n",
      "      \"kwargs\": {\n",
      "        \"min_value\": 1,\n",
      "        \"max_value\": 1,\n",
      "        \"column\": \"Male\"\n",
      "      },\n",
      "      \"ge_cloud_id\": null\n",
      "    },\n",
      "    {\n",
      "      \"expectation_type\": \"expect_column_mean_to_be_between\",\n",
      "      \"meta\": {},\n",
      "      \"kwargs\": {\n",
      "        \"min_value\": 0.4852459016393443,\n",
      "        \"max_value\": 0.4852459016393443,\n",
      "        \"column\": \"Male\"\n",
      "      },\n",
      "      \"ge_cloud_id\": null\n",
      "    },\n",
      "    {\n",
      "      \"expectation_type\": \"expect_column_median_to_be_between\",\n",
      "      \"meta\": {},\n",
      "      \"kwargs\": {\n",
      "        \"min_value\": 0.0,\n",
      "        \"max_value\": 0.0,\n",
      "        \"column\": \"Male\"\n",
      "      },\n",
      "      \"ge_cloud_id\": null\n",
      "    },\n",
      "    {\n",
      "      \"expectation_type\": \"expect_column_quantile_values_to_be_between\",\n",
      "      \"meta\": {},\n",
      "      \"kwargs\": {\n",
      "        \"quantile_ranges\": {\n",
      "          \"quantiles\": [\n",
      "            0.05,\n",
      "            0.25,\n",
      "            0.5,\n",
      "            0.75,\n",
      "            0.95\n",
      "          ],\n",
      "          \"value_ranges\": [\n",
      "            [\n",
      "              0,\n",
      "              0\n",
      "            ],\n",
      "            [\n",
      "              0,\n",
      "              0\n",
      "            ],\n",
      "            [\n",
      "              0,\n",
      "              0\n",
      "            ],\n",
      "            [\n",
      "              1,\n",
      "              1\n",
      "            ],\n",
      "            [\n",
      "              1,\n",
      "              1\n",
      "            ]\n",
      "          ]\n",
      "        },\n",
      "        \"allow_relative_error\": \"lower\",\n",
      "        \"column\": \"Male\"\n",
      "      },\n",
      "      \"ge_cloud_id\": null\n",
      "    },\n",
      "    {\n",
      "      \"expectation_type\": \"expect_column_values_to_be_in_set\",\n",
      "      \"meta\": {},\n",
      "      \"kwargs\": {\n",
      "        \"value_set\": [\n",
      "          0,\n",
      "          1\n",
      "        ],\n",
      "        \"column\": \"Male\"\n",
      "      },\n",
      "      \"ge_cloud_id\": null\n",
      "    },\n",
      "    {\n",
      "      \"expectation_type\": \"expect_column_values_to_not_be_null\",\n",
      "      \"meta\": {},\n",
      "      \"kwargs\": {\n",
      "        \"column\": \"Male\"\n",
      "      },\n",
      "      \"ge_cloud_id\": null\n",
      "    },\n",
      "    {\n",
      "      \"expectation_type\": \"expect_column_proportion_of_unique_values_to_be_between\",\n",
      "      \"meta\": {},\n",
      "      \"kwargs\": {\n",
      "        \"min_value\": 0.003278688524590164,\n",
      "        \"max_value\": 0.003278688524590164,\n",
      "        \"column\": \"Male\"\n",
      "      },\n",
      "      \"ge_cloud_id\": null\n",
      "    },\n",
      "    {\n",
      "      \"expectation_type\": \"expect_column_values_to_be_in_type_list\",\n",
      "      \"meta\": {},\n",
      "      \"kwargs\": {\n",
      "        \"type_list\": [\n",
      "          \"INTEGER\",\n",
      "          \"integer\",\n",
      "          \"int\",\n",
      "          \"int_\",\n",
      "          \"int8\",\n",
      "          \"int16\",\n",
      "          \"int32\",\n",
      "          \"int64\",\n",
      "          \"uint8\",\n",
      "          \"uint16\",\n",
      "          \"uint32\",\n",
      "          \"uint64\",\n",
      "          \"INT\",\n",
      "          \"INTEGER\",\n",
      "          \"INT64\",\n",
      "          \"TINYINT\",\n",
      "          \"BYTEINT\",\n",
      "          \"SMALLINT\",\n",
      "          \"BIGINT\",\n",
      "          \"IntegerType\",\n",
      "          \"LongType\"\n",
      "        ],\n",
      "        \"column\": \"Male\"\n",
      "      },\n",
      "      \"ge_cloud_id\": null\n",
      "    },\n",
      "    {\n",
      "      \"expectation_type\": \"expect_column_values_to_not_be_null\",\n",
      "      \"meta\": {},\n",
      "      \"kwargs\": {\n",
      "        \"column\": \"Country\"\n",
      "      },\n",
      "      \"ge_cloud_id\": null\n",
      "    },\n",
      "    {\n",
      "      \"expectation_type\": \"expect_column_proportion_of_unique_values_to_be_between\",\n",
      "      \"meta\": {},\n",
      "      \"kwargs\": {\n",
      "        \"min_value\": 0.3655737704918033,\n",
      "        \"max_value\": 0.3655737704918033,\n",
      "        \"column\": \"Country\"\n",
      "      },\n",
      "      \"ge_cloud_id\": null\n",
      "    },\n",
      "    {\n",
      "      \"expectation_type\": \"expect_column_values_to_be_in_type_list\",\n",
      "      \"meta\": {},\n",
      "      \"kwargs\": {\n",
      "        \"type_list\": [\n",
      "          \"CHAR\",\n",
      "          \"NCHAR\",\n",
      "          \"VARCHAR\",\n",
      "          \"NVARCHAR\",\n",
      "          \"TEXT\",\n",
      "          \"NTEXT\",\n",
      "          \"STRING\",\n",
      "          \"StringType\",\n",
      "          \"string\",\n",
      "          \"str\",\n",
      "          \"object\",\n",
      "          \"dtype('O')\"\n",
      "        ],\n",
      "        \"column\": \"Country\"\n",
      "      },\n",
      "      \"ge_cloud_id\": null\n",
      "    },\n",
      "    {\n",
      "      \"expectation_type\": \"expect_column_values_to_not_be_null\",\n",
      "      \"meta\": {},\n",
      "      \"kwargs\": {\n",
      "        \"column\": \"Timestamp\"\n",
      "      },\n",
      "      \"ge_cloud_id\": null\n",
      "    },\n",
      "    {\n",
      "      \"expectation_type\": \"expect_column_proportion_of_unique_values_to_be_between\",\n",
      "      \"meta\": {},\n",
      "      \"kwargs\": {\n",
      "        \"min_value\": 1.0,\n",
      "        \"max_value\": 1.0,\n",
      "        \"column\": \"Timestamp\"\n",
      "      },\n",
      "      \"ge_cloud_id\": null\n",
      "    },\n",
      "    {\n",
      "      \"expectation_type\": \"expect_column_values_to_be_in_type_list\",\n",
      "      \"meta\": {},\n",
      "      \"kwargs\": {\n",
      "        \"type_list\": [\n",
      "          \"CHAR\",\n",
      "          \"NCHAR\",\n",
      "          \"VARCHAR\",\n",
      "          \"NVARCHAR\",\n",
      "          \"TEXT\",\n",
      "          \"NTEXT\",\n",
      "          \"STRING\",\n",
      "          \"StringType\",\n",
      "          \"string\",\n",
      "          \"str\",\n",
      "          \"object\",\n",
      "          \"dtype('O')\"\n",
      "        ],\n",
      "        \"column\": \"Timestamp\"\n",
      "      },\n",
      "      \"ge_cloud_id\": null\n",
      "    },\n",
      "    {\n",
      "      \"expectation_type\": \"expect_column_min_to_be_between\",\n",
      "      \"meta\": {},\n",
      "      \"kwargs\": {\n",
      "        \"min_value\": 0,\n",
      "        \"max_value\": 0,\n",
      "        \"column\": \"Clicked on Ad\"\n",
      "      },\n",
      "      \"ge_cloud_id\": null\n",
      "    },\n",
      "    {\n",
      "      \"expectation_type\": \"expect_column_max_to_be_between\",\n",
      "      \"meta\": {},\n",
      "      \"kwargs\": {\n",
      "        \"min_value\": 1,\n",
      "        \"max_value\": 1,\n",
      "        \"column\": \"Clicked on Ad\"\n",
      "      },\n",
      "      \"ge_cloud_id\": null\n",
      "    },\n",
      "    {\n",
      "      \"expectation_type\": \"expect_column_mean_to_be_between\",\n",
      "      \"meta\": {},\n",
      "      \"kwargs\": {\n",
      "        \"min_value\": 0.4918032786885246,\n",
      "        \"max_value\": 0.4918032786885246,\n",
      "        \"column\": \"Clicked on Ad\"\n",
      "      },\n",
      "      \"ge_cloud_id\": null\n",
      "    },\n",
      "    {\n",
      "      \"expectation_type\": \"expect_column_median_to_be_between\",\n",
      "      \"meta\": {},\n",
      "      \"kwargs\": {\n",
      "        \"min_value\": 0.0,\n",
      "        \"max_value\": 0.0,\n",
      "        \"column\": \"Clicked on Ad\"\n",
      "      },\n",
      "      \"ge_cloud_id\": null\n",
      "    },\n",
      "    {\n",
      "      \"expectation_type\": \"expect_column_quantile_values_to_be_between\",\n",
      "      \"meta\": {},\n",
      "      \"kwargs\": {\n",
      "        \"quantile_ranges\": {\n",
      "          \"quantiles\": [\n",
      "            0.05,\n",
      "            0.25,\n",
      "            0.5,\n",
      "            0.75,\n",
      "            0.95\n",
      "          ],\n",
      "          \"value_ranges\": [\n",
      "            [\n",
      "              0,\n",
      "              0\n",
      "            ],\n",
      "            [\n",
      "              0,\n",
      "              0\n",
      "            ],\n",
      "            [\n",
      "              0,\n",
      "              0\n",
      "            ],\n",
      "            [\n",
      "              1,\n",
      "              1\n",
      "            ],\n",
      "            [\n",
      "              1,\n",
      "              1\n",
      "            ]\n",
      "          ]\n",
      "        },\n",
      "        \"allow_relative_error\": \"lower\",\n",
      "        \"column\": \"Clicked on Ad\"\n",
      "      },\n",
      "      \"ge_cloud_id\": null\n",
      "    },\n",
      "    {\n",
      "      \"expectation_type\": \"expect_column_values_to_be_in_set\",\n",
      "      \"meta\": {},\n",
      "      \"kwargs\": {\n",
      "        \"value_set\": [\n",
      "          0,\n",
      "          1\n",
      "        ],\n",
      "        \"column\": \"Clicked on Ad\"\n",
      "      },\n",
      "      \"ge_cloud_id\": null\n",
      "    },\n",
      "    {\n",
      "      \"expectation_type\": \"expect_column_values_to_not_be_null\",\n",
      "      \"meta\": {},\n",
      "      \"kwargs\": {\n",
      "        \"column\": \"Clicked on Ad\"\n",
      "      },\n",
      "      \"ge_cloud_id\": null\n",
      "    },\n",
      "    {\n",
      "      \"expectation_type\": \"expect_column_proportion_of_unique_values_to_be_between\",\n",
      "      \"meta\": {},\n",
      "      \"kwargs\": {\n",
      "        \"min_value\": 0.003278688524590164,\n",
      "        \"max_value\": 0.003278688524590164,\n",
      "        \"column\": \"Clicked on Ad\"\n",
      "      },\n",
      "      \"ge_cloud_id\": null\n",
      "    },\n",
      "    {\n",
      "      \"expectation_type\": \"expect_column_values_to_be_in_type_list\",\n",
      "      \"meta\": {},\n",
      "      \"kwargs\": {\n",
      "        \"type_list\": [\n",
      "          \"INTEGER\",\n",
      "          \"integer\",\n",
      "          \"int\",\n",
      "          \"int_\",\n",
      "          \"int8\",\n",
      "          \"int16\",\n",
      "          \"int32\",\n",
      "          \"int64\",\n",
      "          \"uint8\",\n",
      "          \"uint16\",\n",
      "          \"uint32\",\n",
      "          \"uint64\",\n",
      "          \"INT\",\n",
      "          \"INTEGER\",\n",
      "          \"INT64\",\n",
      "          \"TINYINT\",\n",
      "          \"BYTEINT\",\n",
      "          \"SMALLINT\",\n",
      "          \"BIGINT\",\n",
      "          \"IntegerType\",\n",
      "          \"LongType\"\n",
      "        ],\n",
      "        \"column\": \"Clicked on Ad\"\n",
      "      },\n",
      "      \"ge_cloud_id\": null\n",
      "    }\n",
      "  ]\n",
      "}\n",
      "2021-10-07T13:37:47-0500 - INFO - \t65 expectation(s) included in expectation_suite.\n"
     ]
    },
    {
     "name": "stdout",
     "output_type": "stream",
     "text": [
      "2021-10-07T13:37:47-0500 - INFO - \t65 expectation(s) included in expectation_suite.\n"
     ]
    },
    {
     "data": {
      "application/vnd.jupyter.widget-view+json": {
       "model_id": "191557cc35b248b98045276ce2578227",
       "version_major": 2,
       "version_minor": 0
      },
      "text/plain": [
       "Calculating Metrics:   0%|          | 0/104 [00:00<?, ?it/s]"
      ]
     },
     "metadata": {},
     "output_type": "display_data"
    },
    {
     "name": "stdout",
     "output_type": "stream",
     "text": [
      "Opening in existing browser session.\n"
     ]
    }
   ],
   "source": [
    "print(validator.get_expectation_suite(discard_failed_expectations=False))\n",
    "validator.save_expectation_suite(discard_failed_expectations=False)\n",
    "\n",
    "checkpoint_config = {\n",
    "    \"class_name\": \"SimpleCheckpoint\",\n",
    "    \"validations\": [\n",
    "        {\n",
    "            \"batch_request\": batch_request,\n",
    "            \"expectation_suite_name\": expectation_suite_name,\n",
    "        }\n",
    "    ],\n",
    "}\n",
    "checkpoint = SimpleCheckpoint(\n",
    "    f\"_tmp_checkpoint_{expectation_suite_name}\", context, **checkpoint_config\n",
    ")\n",
    "checkpoint_result = checkpoint.run()\n",
    "\n",
    "context.build_data_docs()\n",
    "\n",
    "validation_result_identifier = checkpoint_result.list_validation_result_identifiers()[0]\n",
    "context.open_data_docs(resource_identifier=validation_result_identifier)"
   ]
  },
  {
   "cell_type": "markdown",
   "id": "ce6cbcd4",
   "metadata": {},
   "source": [
    "## Next steps\n",
    "After you review this initial Expectation Suite in Data Docs you\n",
    "should edit this suite to make finer grained adjustments to the expectations.\n",
    "This can be done by running `great_expectations suite edit first_data.csv.warning`."
   ]
  }
 ],
 "metadata": {
  "kernelspec": {
   "display_name": "Python 3 (ipykernel)",
   "language": "python",
   "name": "python3"
  },
  "language_info": {
   "codemirror_mode": {
    "name": "ipython",
    "version": 3
   },
   "file_extension": ".py",
   "mimetype": "text/x-python",
   "name": "python",
   "nbconvert_exporter": "python",
   "pygments_lexer": "ipython3",
   "version": "3.8.10"
  },
  "toc": {
   "base_numbering": 1,
   "nav_menu": {},
   "number_sections": true,
   "sideBar": true,
   "skip_h1_title": false,
   "title_cell": "Table of Contents",
   "title_sidebar": "Contents",
   "toc_cell": false,
   "toc_position": {},
   "toc_section_display": true,
   "toc_window_display": false
  }
 },
 "nbformat": 4,
 "nbformat_minor": 5
}
