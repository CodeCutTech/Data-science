{
 "cells": [
  {
   "cell_type": "markdown",
   "id": "5320ae6d",
   "metadata": {},
   "source": [
    "# Edit Your Expectation Suite\n",
    "Use this notebook to recreate and modify your expectation suite:\n",
    "\n",
    "**Expectation Suite Name**: `first_data.csv.warning`\n"
   ]
  },
  {
   "cell_type": "code",
   "execution_count": 1,
   "id": "03ad63bc",
   "metadata": {
    "ExecuteTime": {
     "end_time": "2021-10-07T19:12:57.622214Z",
     "start_time": "2021-10-07T19:12:56.532395Z"
    }
   },
   "outputs": [
    {
     "name": "stdout",
     "output_type": "stream",
     "text": [
      "2021-10-07T14:12:57-0500 - INFO - Great Expectations logging enabled at 20 level by JupyterUX module.\n",
      "Loaded ExpectationSuite \"first_data.csv.warning\" containing 65 expectations.\n",
      "Columns: \"Unnamed: 0\", \"Daily Time Spent on Site\", \"Age\", \"Area Income\", \"Daily Internet Usage\", \"Ad Topic Line\", \"City\", \"Male\", \"Country\", \"Timestamp\", \"Clicked on Ad\".\n"
     ]
    },
    {
     "name": "stderr",
     "output_type": "stream",
     "text": [
      "/home/khuyen/Data-science/venv/lib/python3.8/site-packages/great_expectations/jupyter_ux/__init__.py:15: FutureWarning: Passing a negative integer is deprecated in version 1.0 and will not be supported in future version. Instead, use None to not limit the column width.\n",
      "  pd.set_option(\"display.max_colwidth\", -1)\n"
     ]
    },
    {
     "data": {
      "text/html": [
       "<div>\n",
       "<style scoped>\n",
       "    .dataframe tbody tr th:only-of-type {\n",
       "        vertical-align: middle;\n",
       "    }\n",
       "\n",
       "    .dataframe tbody tr th {\n",
       "        vertical-align: top;\n",
       "    }\n",
       "\n",
       "    .dataframe thead th {\n",
       "        text-align: right;\n",
       "    }\n",
       "</style>\n",
       "<table border=\"1\" class=\"dataframe\">\n",
       "  <thead>\n",
       "    <tr style=\"text-align: right;\">\n",
       "      <th></th>\n",
       "      <th>Unnamed: 0</th>\n",
       "      <th>Daily Time Spent on Site</th>\n",
       "      <th>Age</th>\n",
       "      <th>Area Income</th>\n",
       "      <th>Daily Internet Usage</th>\n",
       "      <th>Ad Topic Line</th>\n",
       "      <th>City</th>\n",
       "      <th>Male</th>\n",
       "      <th>Country</th>\n",
       "      <th>Timestamp</th>\n",
       "      <th>Clicked on Ad</th>\n",
       "    </tr>\n",
       "  </thead>\n",
       "  <tbody>\n",
       "    <tr>\n",
       "      <th>0</th>\n",
       "      <td>0</td>\n",
       "      <td>80.67</td>\n",
       "      <td>34</td>\n",
       "      <td>58909.36</td>\n",
       "      <td>239.76</td>\n",
       "      <td>Seamless impactful info-mediaries</td>\n",
       "      <td>Jamesville</td>\n",
       "      <td>0</td>\n",
       "      <td>Portugal</td>\n",
       "      <td>2016-01-01 02:52:10</td>\n",
       "      <td>0</td>\n",
       "    </tr>\n",
       "    <tr>\n",
       "      <th>1</th>\n",
       "      <td>1</td>\n",
       "      <td>68.01</td>\n",
       "      <td>25</td>\n",
       "      <td>68357.96</td>\n",
       "      <td>188.32</td>\n",
       "      <td>Ameliorated actuating workforce</td>\n",
       "      <td>Kaylashire</td>\n",
       "      <td>1</td>\n",
       "      <td>Afghanistan</td>\n",
       "      <td>2016-01-01 03:35:35</td>\n",
       "      <td>0</td>\n",
       "    </tr>\n",
       "    <tr>\n",
       "      <th>2</th>\n",
       "      <td>2</td>\n",
       "      <td>80.94</td>\n",
       "      <td>36</td>\n",
       "      <td>60803.00</td>\n",
       "      <td>239.94</td>\n",
       "      <td>Self-enabling local strategy</td>\n",
       "      <td>North Tiffany</td>\n",
       "      <td>0</td>\n",
       "      <td>Bermuda</td>\n",
       "      <td>2016-01-01 05:31:22</td>\n",
       "      <td>0</td>\n",
       "    </tr>\n",
       "    <tr>\n",
       "      <th>3</th>\n",
       "      <td>3</td>\n",
       "      <td>78.77</td>\n",
       "      <td>28</td>\n",
       "      <td>63497.62</td>\n",
       "      <td>211.83</td>\n",
       "      <td>Public-key intangible Graphical User Interface</td>\n",
       "      <td>Gomezport</td>\n",
       "      <td>0</td>\n",
       "      <td>Guam</td>\n",
       "      <td>2016-01-01 08:27:06</td>\n",
       "      <td>0</td>\n",
       "    </tr>\n",
       "    <tr>\n",
       "      <th>4</th>\n",
       "      <td>4</td>\n",
       "      <td>36.56</td>\n",
       "      <td>29</td>\n",
       "      <td>42838.29</td>\n",
       "      <td>195.89</td>\n",
       "      <td>Team-oriented bi-directional secured line</td>\n",
       "      <td>West Ryan</td>\n",
       "      <td>0</td>\n",
       "      <td>Uganda</td>\n",
       "      <td>2016-01-01 15:14:24</td>\n",
       "      <td>1</td>\n",
       "    </tr>\n",
       "  </tbody>\n",
       "</table>\n",
       "</div>"
      ],
      "text/plain": [
       "   Unnamed: 0  Daily Time Spent on Site  Age  Area Income  \\\n",
       "0  0           80.67                     34   58909.36      \n",
       "1  1           68.01                     25   68357.96      \n",
       "2  2           80.94                     36   60803.00      \n",
       "3  3           78.77                     28   63497.62      \n",
       "4  4           36.56                     29   42838.29      \n",
       "\n",
       "   Daily Internet Usage                                   Ad Topic Line  \\\n",
       "0  239.76                Seamless impactful info-mediaries                \n",
       "1  188.32                Ameliorated actuating workforce                  \n",
       "2  239.94                Self-enabling local strategy                     \n",
       "3  211.83                Public-key intangible Graphical User Interface   \n",
       "4  195.89                Team-oriented bi-directional secured line        \n",
       "\n",
       "            City  Male      Country            Timestamp  Clicked on Ad  \n",
       "0  Jamesville     0     Portugal     2016-01-01 02:52:10  0              \n",
       "1  Kaylashire     1     Afghanistan  2016-01-01 03:35:35  0              \n",
       "2  North Tiffany  0     Bermuda      2016-01-01 05:31:22  0              \n",
       "3  Gomezport      0     Guam         2016-01-01 08:27:06  0              \n",
       "4  West Ryan      0     Uganda       2016-01-01 15:14:24  1              "
      ]
     },
     "execution_count": 1,
     "metadata": {},
     "output_type": "execute_result"
    }
   ],
   "source": [
    "import datetime\n",
    "\n",
    "import pandas as pd\n",
    "\n",
    "import great_expectations as ge\n",
    "import great_expectations.jupyter_ux\n",
    "from great_expectations.core.batch import BatchRequest\n",
    "from great_expectations.checkpoint import SimpleCheckpoint\n",
    "from great_expectations.exceptions import DataContextError\n",
    "\n",
    "context = ge.data_context.DataContext()\n",
    "\n",
    "# Note that if you modify this batch request, you may save the new version as a .json file\n",
    "#  to pass in later via the --batch-request option\n",
    "batch_request = {\n",
    "    \"datasource_name\": \"first_data\",\n",
    "    \"data_connector_name\": \"default_inferred_data_connector_name\",\n",
    "    \"data_asset_name\": \"first_data.csv\",\n",
    "    \"limit\": 1000,\n",
    "}\n",
    "\n",
    "\n",
    "# Feel free to change the name of your suite here. Renaming this will not remove the other one.\n",
    "expectation_suite_name = \"first_data.csv.warning\"\n",
    "try:\n",
    "    suite = context.get_expectation_suite(expectation_suite_name=expectation_suite_name)\n",
    "    print(\n",
    "        f'Loaded ExpectationSuite \"{suite.expectation_suite_name}\" containing {len(suite.expectations)} expectations.'\n",
    "    )\n",
    "except DataContextError:\n",
    "    suite = context.create_expectation_suite(\n",
    "        expectation_suite_name=expectation_suite_name\n",
    "    )\n",
    "    print(f'Created ExpectationSuite \"{suite.expectation_suite_name}\".')\n",
    "\n",
    "\n",
    "validator = context.get_validator(\n",
    "    batch_request=BatchRequest(**batch_request),\n",
    "    expectation_suite_name=expectation_suite_name,\n",
    ")\n",
    "column_names = [f'\"{column_name}\"' for column_name in validator.columns()]\n",
    "print(f\"Columns: {', '.join(column_names)}.\")\n",
    "validator.head(n_rows=5, fetch_all=False)"
   ]
  },
  {
   "cell_type": "markdown",
   "id": "1b72087d",
   "metadata": {},
   "source": [
    "## Create & Edit Expectations\n",
    "\n",
    "\n",
    "Add expectations by calling specific expectation methods on the `validator` object. They all begin with `.expect_` which makes autocompleting easy using tab.\n",
    "\n",
    "Because you selected interactive mode, you are now creating or editing an Expectation Suite with validator feedback from the sample batch of data that you specified (see `batch_request`).\n",
    "\n",
    "Note that if you select manual mode you may still create or edit an Expectation Suite directly, without feedback from the `validator`. See our documentation for more info and examples: [How to create a new Expectation Suite without a sample batch](https://docs.greatexpectations.io/en/latest/guides/how_to_guides/creating_and_editing_expectations/how_to_create_a_new_expectation_suite_without_a_sample_batch.html).\n",
    "\n",
    "\n",
    "\n",
    "You can see all the available expectations in the **[expectation glossary](https://docs.greatexpectations.io/en/latest/reference/glossary_of_expectations.html?utm_source=notebook&utm_medium=create_expectations)**."
   ]
  },
  {
   "cell_type": "markdown",
   "id": "6f4b7810",
   "metadata": {},
   "source": [
    "### Table Expectation(s)"
   ]
  },
  {
   "cell_type": "code",
   "execution_count": null,
   "id": "3e922a6b",
   "metadata": {},
   "outputs": [],
   "source": [
    "validator.expect_table_columns_to_match_ordered_list(\n",
    "    column_list=[\n",
    "        \"Unnamed: 0\",\n",
    "        \"Daily Time Spent on Site\",\n",
    "        \"Age\",\n",
    "        \"Area Income\",\n",
    "        \"Daily Internet Usage\",\n",
    "        \"Ad Topic Line\",\n",
    "        \"City\",\n",
    "        \"Male\",\n",
    "        \"Country\",\n",
    "        \"Timestamp\",\n",
    "        \"Clicked on Ad\",\n",
    "    ]\n",
    ")"
   ]
  },
  {
   "cell_type": "code",
   "execution_count": null,
   "id": "73b0debd",
   "metadata": {},
   "outputs": [],
   "source": [
    "validator.expect_table_row_count_to_be_between(max_value=610, min_value=610)"
   ]
  },
  {
   "cell_type": "markdown",
   "id": "c544a2a5",
   "metadata": {},
   "source": [
    "### Column Expectation(s)"
   ]
  },
  {
   "cell_type": "markdown",
   "id": "cd502577",
   "metadata": {},
   "source": [
    "#### `Daily Time Spent on Site`"
   ]
  },
  {
   "cell_type": "code",
   "execution_count": null,
   "id": "16dcbeea",
   "metadata": {},
   "outputs": [],
   "source": [
    "validator.expect_column_min_to_be_between(\n",
    "    column=\"Daily Time Spent on Site\", max_value=32.6, min_value=32.6\n",
    ")"
   ]
  },
  {
   "cell_type": "code",
   "execution_count": null,
   "id": "7c45a8ad",
   "metadata": {},
   "outputs": [],
   "source": [
    "validator.expect_column_max_to_be_between(\n",
    "    column=\"Daily Time Spent on Site\", max_value=91.37, min_value=91.37\n",
    ")"
   ]
  },
  {
   "cell_type": "code",
   "execution_count": null,
   "id": "de5870fb",
   "metadata": {},
   "outputs": [],
   "source": [
    "validator.expect_column_mean_to_be_between(\n",
    "    column=\"Daily Time Spent on Site\",\n",
    "    max_value=65.26704918032787,\n",
    "    min_value=65.26704918032787,\n",
    ")"
   ]
  },
  {
   "cell_type": "code",
   "execution_count": null,
   "id": "1d114626",
   "metadata": {},
   "outputs": [],
   "source": [
    "validator.expect_column_median_to_be_between(\n",
    "    column=\"Daily Time Spent on Site\", max_value=68.33, min_value=68.33\n",
    ")"
   ]
  },
  {
   "cell_type": "code",
   "execution_count": null,
   "id": "062b236a",
   "metadata": {},
   "outputs": [],
   "source": [
    "validator.expect_column_quantile_values_to_be_between(\n",
    "    column=\"Daily Time Spent on Site\",\n",
    "    allow_relative_error=\"lower\",\n",
    "    quantile_ranges={\n",
    "        \"quantiles\": [0.05, 0.25, 0.5, 0.75, 0.95],\n",
    "        \"value_ranges\": [\n",
    "            [37.47, 37.47],\n",
    "            [51.5, 51.5],\n",
    "            [68.25, 68.25],\n",
    "            [78.51, 78.51],\n",
    "            [87.09, 87.09],\n",
    "        ],\n",
    "    },\n",
    ")"
   ]
  },
  {
   "cell_type": "code",
   "execution_count": null,
   "id": "60410cc4",
   "metadata": {},
   "outputs": [],
   "source": [
    "validator.expect_column_values_to_not_be_null(column=\"Daily Time Spent on Site\")"
   ]
  },
  {
   "cell_type": "code",
   "execution_count": null,
   "id": "4751a40f",
   "metadata": {},
   "outputs": [],
   "source": [
    "validator.expect_column_proportion_of_unique_values_to_be_between(\n",
    "    column=\"Daily Time Spent on Site\",\n",
    "    max_value=0.9344262295081968,\n",
    "    min_value=0.9344262295081968,\n",
    ")"
   ]
  },
  {
   "cell_type": "code",
   "execution_count": null,
   "id": "74b36622",
   "metadata": {},
   "outputs": [],
   "source": [
    "validator.expect_column_values_to_be_in_type_list(\n",
    "    column=\"Daily Time Spent on Site\",\n",
    "    type_list=[\n",
    "        \"FLOAT\",\n",
    "        \"FLOAT4\",\n",
    "        \"FLOAT8\",\n",
    "        \"FLOAT64\",\n",
    "        \"DOUBLE\",\n",
    "        \"DOUBLE_PRECISION\",\n",
    "        \"NUMERIC\",\n",
    "        \"FloatType\",\n",
    "        \"DoubleType\",\n",
    "        \"float_\",\n",
    "        \"float16\",\n",
    "        \"float32\",\n",
    "        \"float64\",\n",
    "        \"number\",\n",
    "        \"DECIMAL\",\n",
    "        \"REAL\",\n",
    "    ],\n",
    ")"
   ]
  },
  {
   "cell_type": "markdown",
   "id": "ec9654fe",
   "metadata": {},
   "source": [
    "#### `Age`"
   ]
  },
  {
   "cell_type": "code",
   "execution_count": null,
   "id": "04e5f2f4",
   "metadata": {},
   "outputs": [],
   "source": [
    "validator.expect_column_min_to_be_between(column=\"Age\", max_value=19, min_value=19)"
   ]
  },
  {
   "cell_type": "code",
   "execution_count": null,
   "id": "5f209de6",
   "metadata": {},
   "outputs": [],
   "source": [
    "validator.expect_column_max_to_be_between(column=\"Age\", max_value=61, min_value=61)"
   ]
  },
  {
   "cell_type": "code",
   "execution_count": null,
   "id": "9ddb8d25",
   "metadata": {},
   "outputs": [],
   "source": [
    "validator.expect_column_mean_to_be_between(\n",
    "    column=\"Age\", max_value=36.05081967213115, min_value=36.05081967213115\n",
    ")"
   ]
  },
  {
   "cell_type": "code",
   "execution_count": null,
   "id": "76e6d866",
   "metadata": {},
   "outputs": [],
   "source": [
    "validator.expect_column_median_to_be_between(\n",
    "    column=\"Age\", max_value=35.0, min_value=35.0\n",
    ")"
   ]
  },
  {
   "cell_type": "code",
   "execution_count": null,
   "id": "1fc72372",
   "metadata": {},
   "outputs": [],
   "source": [
    "validator.expect_column_quantile_values_to_be_between(\n",
    "    column=\"Age\",\n",
    "    allow_relative_error=\"lower\",\n",
    "    quantile_ranges={\n",
    "        \"quantiles\": [0.05, 0.25, 0.5, 0.75, 0.95],\n",
    "        \"value_ranges\": [[23, 23], [29, 29], [35, 35], [42, 42], [52, 52]],\n",
    "    },\n",
    ")"
   ]
  },
  {
   "cell_type": "code",
   "execution_count": null,
   "id": "94dda1db",
   "metadata": {},
   "outputs": [],
   "source": [
    "validator.expect_column_values_to_be_in_set(\n",
    "    column=\"Age\",\n",
    "    value_set=[\n",
    "        19,\n",
    "        20,\n",
    "        21,\n",
    "        22,\n",
    "        23,\n",
    "        24,\n",
    "        25,\n",
    "        26,\n",
    "        27,\n",
    "        28,\n",
    "        29,\n",
    "        30,\n",
    "        31,\n",
    "        32,\n",
    "        33,\n",
    "        34,\n",
    "        35,\n",
    "        36,\n",
    "        37,\n",
    "        38,\n",
    "        39,\n",
    "        40,\n",
    "        41,\n",
    "        42,\n",
    "        43,\n",
    "        44,\n",
    "        45,\n",
    "        46,\n",
    "        47,\n",
    "        48,\n",
    "        49,\n",
    "        50,\n",
    "        51,\n",
    "        52,\n",
    "        53,\n",
    "        54,\n",
    "        55,\n",
    "        56,\n",
    "        57,\n",
    "        58,\n",
    "        59,\n",
    "        60,\n",
    "        61,\n",
    "    ],\n",
    ")"
   ]
  },
  {
   "cell_type": "code",
   "execution_count": null,
   "id": "0c6826f9",
   "metadata": {},
   "outputs": [],
   "source": [
    "validator.expect_column_values_to_not_be_null(column=\"Age\")"
   ]
  },
  {
   "cell_type": "code",
   "execution_count": null,
   "id": "8556cd9a",
   "metadata": {},
   "outputs": [],
   "source": [
    "validator.expect_column_proportion_of_unique_values_to_be_between(\n",
    "    column=\"Age\", max_value=0.07049180327868852, min_value=0.07049180327868852\n",
    ")"
   ]
  },
  {
   "cell_type": "code",
   "execution_count": null,
   "id": "05290305",
   "metadata": {},
   "outputs": [],
   "source": [
    "validator.expect_column_values_to_be_in_type_list(\n",
    "    column=\"Age\",\n",
    "    type_list=[\n",
    "        \"INTEGER\",\n",
    "        \"integer\",\n",
    "        \"int\",\n",
    "        \"int_\",\n",
    "        \"int8\",\n",
    "        \"int16\",\n",
    "        \"int32\",\n",
    "        \"int64\",\n",
    "        \"uint8\",\n",
    "        \"uint16\",\n",
    "        \"uint32\",\n",
    "        \"uint64\",\n",
    "        \"INT\",\n",
    "        \"INTEGER\",\n",
    "        \"INT64\",\n",
    "        \"TINYINT\",\n",
    "        \"BYTEINT\",\n",
    "        \"SMALLINT\",\n",
    "        \"BIGINT\",\n",
    "        \"IntegerType\",\n",
    "        \"LongType\",\n",
    "    ],\n",
    ")"
   ]
  },
  {
   "cell_type": "markdown",
   "id": "cd952000",
   "metadata": {},
   "source": [
    "#### `Area Income`"
   ]
  },
  {
   "cell_type": "code",
   "execution_count": null,
   "id": "e51ab832",
   "metadata": {},
   "outputs": [],
   "source": [
    "validator.expect_column_min_to_be_between(\n",
    "    column=\"Area Income\", max_value=14548.06, min_value=14548.06\n",
    ")"
   ]
  },
  {
   "cell_type": "code",
   "execution_count": null,
   "id": "5f6d7619",
   "metadata": {},
   "outputs": [],
   "source": [
    "validator.expect_column_max_to_be_between(\n",
    "    column=\"Area Income\", max_value=79484.8, min_value=79484.8\n",
    ")"
   ]
  },
  {
   "cell_type": "code",
   "execution_count": null,
   "id": "4ec06228",
   "metadata": {},
   "outputs": [],
   "source": [
    "validator.expect_column_mean_to_be_between(\n",
    "    column=\"Area Income\", max_value=55365.62095081966, min_value=55365.62095081966\n",
    ")"
   ]
  },
  {
   "cell_type": "code",
   "execution_count": null,
   "id": "4c15e2d6",
   "metadata": {},
   "outputs": [],
   "source": [
    "validator.expect_column_median_to_be_between(\n",
    "    column=\"Area Income\", max_value=57532.6, min_value=57532.6\n",
    ")"
   ]
  },
  {
   "cell_type": "code",
   "execution_count": null,
   "id": "d111217c",
   "metadata": {},
   "outputs": [],
   "source": [
    "validator.expect_column_quantile_values_to_be_between(\n",
    "    column=\"Area Income\",\n",
    "    allow_relative_error=\"lower\",\n",
    "    quantile_ranges={\n",
    "        \"quantiles\": [0.05, 0.25, 0.5, 0.75, 0.95],\n",
    "        \"value_ranges\": [\n",
    "            [30487.48, 30487.48],\n",
    "            [47682.28, 47682.28],\n",
    "            [57519.64, 57519.64],\n",
    "            [65044.59, 65044.59],\n",
    "            [73538.09, 73538.09],\n",
    "        ],\n",
    "    },\n",
    ")"
   ]
  },
  {
   "cell_type": "code",
   "execution_count": null,
   "id": "dfaf5ed6",
   "metadata": {},
   "outputs": [],
   "source": [
    "validator.expect_column_values_to_not_be_null(column=\"Area Income\")"
   ]
  },
  {
   "cell_type": "code",
   "execution_count": null,
   "id": "c2271bc9",
   "metadata": {},
   "outputs": [],
   "source": [
    "validator.expect_column_proportion_of_unique_values_to_be_between(\n",
    "    column=\"Area Income\", max_value=1.0, min_value=1.0\n",
    ")"
   ]
  },
  {
   "cell_type": "code",
   "execution_count": null,
   "id": "3f456391",
   "metadata": {},
   "outputs": [],
   "source": [
    "validator.expect_column_values_to_be_in_type_list(\n",
    "    column=\"Area Income\",\n",
    "    type_list=[\n",
    "        \"FLOAT\",\n",
    "        \"FLOAT4\",\n",
    "        \"FLOAT8\",\n",
    "        \"FLOAT64\",\n",
    "        \"DOUBLE\",\n",
    "        \"DOUBLE_PRECISION\",\n",
    "        \"NUMERIC\",\n",
    "        \"FloatType\",\n",
    "        \"DoubleType\",\n",
    "        \"float_\",\n",
    "        \"float16\",\n",
    "        \"float32\",\n",
    "        \"float64\",\n",
    "        \"number\",\n",
    "        \"DECIMAL\",\n",
    "        \"REAL\",\n",
    "    ],\n",
    ")"
   ]
  },
  {
   "cell_type": "markdown",
   "id": "4f443985",
   "metadata": {},
   "source": [
    "#### `Daily Internet Usage`"
   ]
  },
  {
   "cell_type": "code",
   "execution_count": null,
   "id": "1bfacdd6",
   "metadata": {},
   "outputs": [],
   "source": [
    "validator.expect_column_min_to_be_between(\n",
    "    column=\"Daily Internet Usage\", max_value=105.0, min_value=105.0\n",
    ")"
   ]
  },
  {
   "cell_type": "code",
   "execution_count": null,
   "id": "4607a397",
   "metadata": {},
   "outputs": [],
   "source": [
    "validator.expect_column_max_to_be_between(\n",
    "    column=\"Daily Internet Usage\", max_value=269.96, min_value=269.96\n",
    ")"
   ]
  },
  {
   "cell_type": "code",
   "execution_count": null,
   "id": "9ddc99e1",
   "metadata": {},
   "outputs": [],
   "source": [
    "validator.expect_column_mean_to_be_between(\n",
    "    column=\"Daily Internet Usage\",\n",
    "    max_value=179.4397868852459,\n",
    "    min_value=179.4397868852459,\n",
    ")"
   ]
  },
  {
   "cell_type": "code",
   "execution_count": null,
   "id": "5dbebf4d",
   "metadata": {},
   "outputs": [],
   "source": [
    "validator.expect_column_median_to_be_between(\n",
    "    column=\"Daily Internet Usage\", max_value=183.035, min_value=183.035\n",
    ")"
   ]
  },
  {
   "cell_type": "code",
   "execution_count": null,
   "id": "ad27da1c",
   "metadata": {},
   "outputs": [],
   "source": [
    "validator.expect_column_quantile_values_to_be_between(\n",
    "    column=\"Daily Internet Usage\",\n",
    "    allow_relative_error=\"lower\",\n",
    "    quantile_ranges={\n",
    "        \"quantiles\": [0.05, 0.25, 0.5, 0.75, 0.95],\n",
    "        \"value_ranges\": [\n",
    "            [113.75, 113.75],\n",
    "            [137.2, 137.2],\n",
    "            [182.65, 182.65],\n",
    "            [217.68, 217.68],\n",
    "            [245.89, 245.89],\n",
    "        ],\n",
    "    },\n",
    ")"
   ]
  },
  {
   "cell_type": "code",
   "execution_count": null,
   "id": "1c7d96bb",
   "metadata": {},
   "outputs": [],
   "source": [
    "validator.expect_column_values_to_not_be_null(column=\"Daily Internet Usage\")"
   ]
  },
  {
   "cell_type": "code",
   "execution_count": null,
   "id": "5cbc482d",
   "metadata": {},
   "outputs": [],
   "source": [
    "validator.expect_column_proportion_of_unique_values_to_be_between(\n",
    "    column=\"Daily Internet Usage\",\n",
    "    max_value=0.9704918032786886,\n",
    "    min_value=0.9704918032786886,\n",
    ")"
   ]
  },
  {
   "cell_type": "code",
   "execution_count": null,
   "id": "de93d2e5",
   "metadata": {},
   "outputs": [],
   "source": [
    "validator.expect_column_values_to_be_in_type_list(\n",
    "    column=\"Daily Internet Usage\",\n",
    "    type_list=[\n",
    "        \"FLOAT\",\n",
    "        \"FLOAT4\",\n",
    "        \"FLOAT8\",\n",
    "        \"FLOAT64\",\n",
    "        \"DOUBLE\",\n",
    "        \"DOUBLE_PRECISION\",\n",
    "        \"NUMERIC\",\n",
    "        \"FloatType\",\n",
    "        \"DoubleType\",\n",
    "        \"float_\",\n",
    "        \"float16\",\n",
    "        \"float32\",\n",
    "        \"float64\",\n",
    "        \"number\",\n",
    "        \"DECIMAL\",\n",
    "        \"REAL\",\n",
    "    ],\n",
    ")"
   ]
  },
  {
   "cell_type": "markdown",
   "id": "39be3559",
   "metadata": {},
   "source": [
    "#### `Ad Topic Line`"
   ]
  },
  {
   "cell_type": "code",
   "execution_count": null,
   "id": "51d39042",
   "metadata": {},
   "outputs": [],
   "source": [
    "validator.expect_column_values_to_not_be_null(column=\"Ad Topic Line\")"
   ]
  },
  {
   "cell_type": "code",
   "execution_count": null,
   "id": "7ffa5349",
   "metadata": {},
   "outputs": [],
   "source": [
    "validator.expect_column_proportion_of_unique_values_to_be_between(\n",
    "    column=\"Ad Topic Line\", max_value=1.0, min_value=1.0\n",
    ")"
   ]
  },
  {
   "cell_type": "code",
   "execution_count": null,
   "id": "174c7126",
   "metadata": {},
   "outputs": [],
   "source": [
    "validator.expect_column_values_to_be_in_type_list(\n",
    "    column=\"Ad Topic Line\",\n",
    "    type_list=[\n",
    "        \"CHAR\",\n",
    "        \"NCHAR\",\n",
    "        \"VARCHAR\",\n",
    "        \"NVARCHAR\",\n",
    "        \"TEXT\",\n",
    "        \"NTEXT\",\n",
    "        \"STRING\",\n",
    "        \"StringType\",\n",
    "        \"string\",\n",
    "        \"str\",\n",
    "        \"object\",\n",
    "        \"dtype('O')\",\n",
    "    ],\n",
    ")"
   ]
  },
  {
   "cell_type": "markdown",
   "id": "ea8ad62e",
   "metadata": {},
   "source": [
    "#### `City`"
   ]
  },
  {
   "cell_type": "code",
   "execution_count": null,
   "id": "f668275f",
   "metadata": {},
   "outputs": [],
   "source": [
    "validator.expect_column_values_to_not_be_null(column=\"City\")"
   ]
  },
  {
   "cell_type": "code",
   "execution_count": null,
   "id": "d64b3f4a",
   "metadata": {},
   "outputs": [],
   "source": [
    "validator.expect_column_proportion_of_unique_values_to_be_between(\n",
    "    column=\"City\", max_value=0.9819672131147541, min_value=0.9819672131147541\n",
    ")"
   ]
  },
  {
   "cell_type": "code",
   "execution_count": null,
   "id": "45d73b35",
   "metadata": {},
   "outputs": [],
   "source": [
    "validator.expect_column_values_to_be_in_type_list(\n",
    "    column=\"City\",\n",
    "    type_list=[\n",
    "        \"CHAR\",\n",
    "        \"NCHAR\",\n",
    "        \"VARCHAR\",\n",
    "        \"NVARCHAR\",\n",
    "        \"TEXT\",\n",
    "        \"NTEXT\",\n",
    "        \"STRING\",\n",
    "        \"StringType\",\n",
    "        \"string\",\n",
    "        \"str\",\n",
    "        \"object\",\n",
    "        \"dtype('O')\",\n",
    "    ],\n",
    ")"
   ]
  },
  {
   "cell_type": "markdown",
   "id": "7f64a69a",
   "metadata": {},
   "source": [
    "#### `Male`"
   ]
  },
  {
   "cell_type": "code",
   "execution_count": null,
   "id": "72c4af49",
   "metadata": {},
   "outputs": [],
   "source": [
    "validator.expect_column_min_to_be_between(column=\"Male\", max_value=0, min_value=0)"
   ]
  },
  {
   "cell_type": "code",
   "execution_count": null,
   "id": "bc5586e9",
   "metadata": {},
   "outputs": [],
   "source": [
    "validator.expect_column_max_to_be_between(column=\"Male\", max_value=1, min_value=1)"
   ]
  },
  {
   "cell_type": "code",
   "execution_count": null,
   "id": "b46d6599",
   "metadata": {},
   "outputs": [],
   "source": [
    "validator.expect_column_mean_to_be_between(\n",
    "    column=\"Male\", max_value=0.4852459016393443, min_value=0.4852459016393443\n",
    ")"
   ]
  },
  {
   "cell_type": "code",
   "execution_count": null,
   "id": "887468fd",
   "metadata": {},
   "outputs": [],
   "source": [
    "validator.expect_column_median_to_be_between(\n",
    "    column=\"Male\", max_value=0.0, min_value=0.0\n",
    ")"
   ]
  },
  {
   "cell_type": "code",
   "execution_count": null,
   "id": "fb37ed70",
   "metadata": {},
   "outputs": [],
   "source": [
    "validator.expect_column_quantile_values_to_be_between(\n",
    "    column=\"Male\",\n",
    "    allow_relative_error=\"lower\",\n",
    "    quantile_ranges={\n",
    "        \"quantiles\": [0.05, 0.25, 0.5, 0.75, 0.95],\n",
    "        \"value_ranges\": [[0, 0], [0, 0], [0, 0], [1, 1], [1, 1]],\n",
    "    },\n",
    ")"
   ]
  },
  {
   "cell_type": "code",
   "execution_count": null,
   "id": "52bb9981",
   "metadata": {},
   "outputs": [],
   "source": [
    "validator.expect_column_values_to_be_in_set(column=\"Male\", value_set=[0, 1])"
   ]
  },
  {
   "cell_type": "code",
   "execution_count": null,
   "id": "19766ec9",
   "metadata": {},
   "outputs": [],
   "source": [
    "validator.expect_column_values_to_not_be_null(column=\"Male\")"
   ]
  },
  {
   "cell_type": "code",
   "execution_count": null,
   "id": "027aa774",
   "metadata": {},
   "outputs": [],
   "source": [
    "validator.expect_column_proportion_of_unique_values_to_be_between(\n",
    "    column=\"Male\", max_value=0.003278688524590164, min_value=0.003278688524590164\n",
    ")"
   ]
  },
  {
   "cell_type": "code",
   "execution_count": null,
   "id": "99fc3d5b",
   "metadata": {},
   "outputs": [],
   "source": [
    "validator.expect_column_values_to_be_in_type_list(\n",
    "    column=\"Male\",\n",
    "    type_list=[\n",
    "        \"INTEGER\",\n",
    "        \"integer\",\n",
    "        \"int\",\n",
    "        \"int_\",\n",
    "        \"int8\",\n",
    "        \"int16\",\n",
    "        \"int32\",\n",
    "        \"int64\",\n",
    "        \"uint8\",\n",
    "        \"uint16\",\n",
    "        \"uint32\",\n",
    "        \"uint64\",\n",
    "        \"INT\",\n",
    "        \"INTEGER\",\n",
    "        \"INT64\",\n",
    "        \"TINYINT\",\n",
    "        \"BYTEINT\",\n",
    "        \"SMALLINT\",\n",
    "        \"BIGINT\",\n",
    "        \"IntegerType\",\n",
    "        \"LongType\",\n",
    "    ],\n",
    ")"
   ]
  },
  {
   "cell_type": "markdown",
   "id": "3fedd8f2",
   "metadata": {},
   "source": [
    "#### `Country`"
   ]
  },
  {
   "cell_type": "code",
   "execution_count": null,
   "id": "f8f0a26e",
   "metadata": {},
   "outputs": [],
   "source": [
    "validator.expect_column_values_to_not_be_null(column=\"Country\")"
   ]
  },
  {
   "cell_type": "code",
   "execution_count": null,
   "id": "cf371808",
   "metadata": {},
   "outputs": [],
   "source": [
    "validator.expect_column_proportion_of_unique_values_to_be_between(\n",
    "    column=\"Country\", max_value=0.3655737704918033, min_value=0.3655737704918033\n",
    ")"
   ]
  },
  {
   "cell_type": "code",
   "execution_count": null,
   "id": "73029b86",
   "metadata": {},
   "outputs": [],
   "source": [
    "validator.expect_column_values_to_be_in_type_list(\n",
    "    column=\"Country\",\n",
    "    type_list=[\n",
    "        \"CHAR\",\n",
    "        \"NCHAR\",\n",
    "        \"VARCHAR\",\n",
    "        \"NVARCHAR\",\n",
    "        \"TEXT\",\n",
    "        \"NTEXT\",\n",
    "        \"STRING\",\n",
    "        \"StringType\",\n",
    "        \"string\",\n",
    "        \"str\",\n",
    "        \"object\",\n",
    "        \"dtype('O')\",\n",
    "    ],\n",
    ")"
   ]
  },
  {
   "cell_type": "markdown",
   "id": "22a28788",
   "metadata": {},
   "source": [
    "#### `Timestamp`"
   ]
  },
  {
   "cell_type": "code",
   "execution_count": null,
   "id": "af7a7e99",
   "metadata": {},
   "outputs": [],
   "source": [
    "validator.expect_column_values_to_not_be_null(column=\"Timestamp\")"
   ]
  },
  {
   "cell_type": "code",
   "execution_count": null,
   "id": "8dcf0178",
   "metadata": {},
   "outputs": [],
   "source": [
    "validator.expect_column_proportion_of_unique_values_to_be_between(\n",
    "    column=\"Timestamp\", max_value=1.0, min_value=1.0\n",
    ")"
   ]
  },
  {
   "cell_type": "code",
   "execution_count": null,
   "id": "c40fa930",
   "metadata": {},
   "outputs": [],
   "source": [
    "validator.expect_column_values_to_be_in_type_list(\n",
    "    column=\"Timestamp\",\n",
    "    type_list=[\n",
    "        \"CHAR\",\n",
    "        \"NCHAR\",\n",
    "        \"VARCHAR\",\n",
    "        \"NVARCHAR\",\n",
    "        \"TEXT\",\n",
    "        \"NTEXT\",\n",
    "        \"STRING\",\n",
    "        \"StringType\",\n",
    "        \"string\",\n",
    "        \"str\",\n",
    "        \"object\",\n",
    "        \"dtype('O')\",\n",
    "    ],\n",
    ")"
   ]
  },
  {
   "cell_type": "markdown",
   "id": "de9cb779",
   "metadata": {},
   "source": [
    "#### `Clicked on Ad`"
   ]
  },
  {
   "cell_type": "code",
   "execution_count": null,
   "id": "fce9e5ed",
   "metadata": {},
   "outputs": [],
   "source": [
    "validator.expect_column_min_to_be_between(\n",
    "    column=\"Clicked on Ad\", max_value=0, min_value=0\n",
    ")"
   ]
  },
  {
   "cell_type": "code",
   "execution_count": null,
   "id": "08dcf07f",
   "metadata": {},
   "outputs": [],
   "source": [
    "validator.expect_column_max_to_be_between(\n",
    "    column=\"Clicked on Ad\", max_value=1, min_value=1\n",
    ")"
   ]
  },
  {
   "cell_type": "code",
   "execution_count": null,
   "id": "1acceac7",
   "metadata": {},
   "outputs": [],
   "source": [
    "validator.expect_column_mean_to_be_between(\n",
    "    column=\"Clicked on Ad\", max_value=0.4918032786885246, min_value=0.4918032786885246\n",
    ")"
   ]
  },
  {
   "cell_type": "code",
   "execution_count": null,
   "id": "553bec21",
   "metadata": {},
   "outputs": [],
   "source": [
    "validator.expect_column_median_to_be_between(\n",
    "    column=\"Clicked on Ad\", max_value=0.0, min_value=0.0\n",
    ")"
   ]
  },
  {
   "cell_type": "code",
   "execution_count": null,
   "id": "0fd8ec6e",
   "metadata": {},
   "outputs": [],
   "source": [
    "validator.expect_column_quantile_values_to_be_between(\n",
    "    column=\"Clicked on Ad\",\n",
    "    allow_relative_error=\"lower\",\n",
    "    quantile_ranges={\n",
    "        \"quantiles\": [0.05, 0.25, 0.5, 0.75, 0.95],\n",
    "        \"value_ranges\": [[0, 0], [0, 0], [0, 0], [1, 1], [1, 1]],\n",
    "    },\n",
    ")"
   ]
  },
  {
   "cell_type": "code",
   "execution_count": null,
   "id": "b103b186",
   "metadata": {},
   "outputs": [],
   "source": [
    "validator.expect_column_values_to_be_in_set(column=\"Clicked on Ad\", value_set=[0, 1])"
   ]
  },
  {
   "cell_type": "code",
   "execution_count": null,
   "id": "c2f78719",
   "metadata": {},
   "outputs": [],
   "source": [
    "validator.expect_column_values_to_not_be_null(column=\"Clicked on Ad\")"
   ]
  },
  {
   "cell_type": "code",
   "execution_count": null,
   "id": "8eafe226",
   "metadata": {},
   "outputs": [],
   "source": [
    "validator.expect_column_proportion_of_unique_values_to_be_between(\n",
    "    column=\"Clicked on Ad\",\n",
    "    max_value=0.003278688524590164,\n",
    "    min_value=0.003278688524590164,\n",
    ")"
   ]
  },
  {
   "cell_type": "code",
   "execution_count": null,
   "id": "17bfca2d",
   "metadata": {},
   "outputs": [],
   "source": [
    "validator.expect_column_values_to_be_in_type_list(\n",
    "    column=\"Clicked on Ad\",\n",
    "    type_list=[\n",
    "        \"INTEGER\",\n",
    "        \"integer\",\n",
    "        \"int\",\n",
    "        \"int_\",\n",
    "        \"int8\",\n",
    "        \"int16\",\n",
    "        \"int32\",\n",
    "        \"int64\",\n",
    "        \"uint8\",\n",
    "        \"uint16\",\n",
    "        \"uint32\",\n",
    "        \"uint64\",\n",
    "        \"INT\",\n",
    "        \"INTEGER\",\n",
    "        \"INT64\",\n",
    "        \"TINYINT\",\n",
    "        \"BYTEINT\",\n",
    "        \"SMALLINT\",\n",
    "        \"BIGINT\",\n",
    "        \"IntegerType\",\n",
    "        \"LongType\",\n",
    "    ],\n",
    ")"
   ]
  },
  {
   "cell_type": "markdown",
   "id": "a5c3721b",
   "metadata": {},
   "source": [
    "## Save & Review Your Expectations\n",
    "\n",
    "Let's save the expectation suite as a JSON file in the `great_expectations/expectations` directory of your project.\n",
    "\n",
    "Let's now rebuild your Data Docs, which helps you communicate about your data with both machines and humans."
   ]
  },
  {
   "cell_type": "code",
   "execution_count": null,
   "id": "22b4b5b6",
   "metadata": {},
   "outputs": [],
   "source": [
    "print(validator.get_expectation_suite(discard_failed_expectations=False))\n",
    "validator.save_expectation_suite(discard_failed_expectations=False)\n",
    "\n",
    "checkpoint_config = {\n",
    "    \"class_name\": \"SimpleCheckpoint\",\n",
    "    \"validations\": [\n",
    "        {\n",
    "            \"batch_request\": batch_request,\n",
    "            \"expectation_suite_name\": expectation_suite_name\n",
    "        }\n",
    "    ]\n",
    "}\n",
    "checkpoint = SimpleCheckpoint(\n",
    "    f\"_tmp_checkpoint_{expectation_suite_name}\",\n",
    "    context,\n",
    "    **checkpoint_config\n",
    ")\n",
    "checkpoint_result = checkpoint.run()\n",
    "\n",
    "context.build_data_docs()\n",
    "\n",
    "validation_result_identifier = checkpoint_result.list_validation_result_identifiers()[0]\n",
    "context.open_data_docs(resource_identifier=validation_result_identifier)"
   ]
  }
 ],
 "metadata": {
  "kernelspec": {
   "display_name": "Python 3 (ipykernel)",
   "language": "python",
   "name": "python3"
  },
  "language_info": {
   "codemirror_mode": {
    "name": "ipython",
    "version": 3
   },
   "file_extension": ".py",
   "mimetype": "text/x-python",
   "name": "python",
   "nbconvert_exporter": "python",
   "pygments_lexer": "ipython3",
   "version": "3.8.10"
  },
  "toc": {
   "base_numbering": 1,
   "nav_menu": {},
   "number_sections": true,
   "sideBar": true,
   "skip_h1_title": false,
   "title_cell": "Table of Contents",
   "title_sidebar": "Contents",
   "toc_cell": false,
   "toc_position": {},
   "toc_section_display": true,
   "toc_window_display": false
  }
 },
 "nbformat": 4,
 "nbformat_minor": 5
}
