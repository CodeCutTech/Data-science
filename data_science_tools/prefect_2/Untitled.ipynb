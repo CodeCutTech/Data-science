{
 "cells": [
  {
   "cell_type": "code",
   "execution_count": 2,
   "id": "70371ce9",
   "metadata": {
    "ExecuteTime": {
     "end_time": "2022-06-08T16:49:18.840062Z",
     "start_time": "2022-06-08T16:49:17.766562Z"
    }
   },
   "outputs": [
    {
     "name": "stdout",
     "output_type": "stream",
     "text": [
      "Requirement already satisfied: pydash in /Users/khuyen/Data-science/venv/lib/python3.9/site-packages (5.1.0)\n",
      "\u001b[33mWARNING: There was an error checking the latest version of pip.\u001b[0m\u001b[33m\n",
      "\u001b[0m"
     ]
    }
   ],
   "source": [
    "!pip install pydash "
   ]
  },
  {
   "cell_type": "code",
   "execution_count": 5,
   "id": "10ab8121",
   "metadata": {
    "ExecuteTime": {
     "end_time": "2022-06-08T16:52:58.097505Z",
     "start_time": "2022-06-08T16:52:58.075456Z"
    }
   },
   "outputs": [],
   "source": [
    "import json \n",
    "from pydash import py_ "
   ]
  },
  {
   "cell_type": "code",
   "execution_count": 3,
   "id": "07afacd6",
   "metadata": {
    "ExecuteTime": {
     "end_time": "2022-06-08T16:46:27.839683Z",
     "start_time": "2022-06-08T16:46:27.834189Z"
    }
   },
   "outputs": [],
   "source": [
    "with open(\"data/raw/pet.json\", \"r\") as file:\n",
    "    data = json.load(file)\n"
   ]
  },
  {
   "cell_type": "code",
   "execution_count": 13,
   "id": "a9645b41",
   "metadata": {
    "ExecuteTime": {
     "end_time": "2022-06-08T16:46:31.852654Z",
     "start_time": "2022-06-08T16:46:31.814428Z"
    }
   },
   "outputs": [],
   "source": [
    "animal_1 = data[\"animals\"][0]\n"
   ]
  },
  {
   "cell_type": "code",
   "execution_count": 16,
   "id": "07d36b79",
   "metadata": {},
   "outputs": [],
   "source": [
    "from collections import defaultdict"
   ]
  },
  {
   "cell_type": "code",
   "execution_count": 19,
   "id": "7e76e599",
   "metadata": {},
   "outputs": [],
   "source": [
    "def get_data(animals: list, attributes: list):\n",
    "    data = defaultdict(list)\n",
    "    return [py_.get(animal, attribute) for attribute in attributes for animal in animals]\n",
    "    \n"
   ]
  },
  {
   "cell_type": "code",
   "execution_count": 20,
   "id": "de6f185f",
   "metadata": {},
   "outputs": [
    {
     "data": {
      "text/plain": [
       "['Domestic Short Hair']"
      ]
     },
     "execution_count": 20,
     "metadata": {},
     "output_type": "execute_result"
    }
   ],
   "source": [
    "get_data([animal_1], ['breeds.primary'])"
   ]
  },
  {
   "cell_type": "code",
   "execution_count": null,
   "id": "0de7942a",
   "metadata": {},
   "outputs": [],
   "source": []
  }
 ],
 "metadata": {
  "hide_input": false,
  "interpreter": {
   "hash": "478cc5ef0f338997730d9103983e193fe6c3c8e58abb3c8c0481de8a2f51bddc"
  },
  "kernelspec": {
   "display_name": "Python 3.9.13 ('venv': venv)",
   "language": "python",
   "name": "python3"
  },
  "language_info": {
   "codemirror_mode": {
    "name": "ipython",
    "version": 3
   },
   "file_extension": ".py",
   "mimetype": "text/x-python",
   "name": "python",
   "nbconvert_exporter": "python",
   "pygments_lexer": "ipython3",
   "version": "3.9.13"
  },
  "toc": {
   "base_numbering": 1,
   "nav_menu": {},
   "number_sections": true,
   "sideBar": true,
   "skip_h1_title": false,
   "title_cell": "Table of Contents",
   "title_sidebar": "Contents",
   "toc_cell": false,
   "toc_position": {},
   "toc_section_display": true,
   "toc_window_display": false
  }
 },
 "nbformat": 4,
 "nbformat_minor": 5
}
