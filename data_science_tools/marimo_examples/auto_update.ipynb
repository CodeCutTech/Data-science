{
 "cells": [
  {
   "cell_type": "code",
   "execution_count": 1,
   "id": "bb7da31d-3876-43a2-b5b6-cee60a62627b",
   "metadata": {},
   "outputs": [],
   "source": [
    "threshold = 50"
   ]
  },
  {
   "cell_type": "code",
   "execution_count": 2,
   "id": "73f3d03b-9167-4295-9350-e8232a7f3d83",
   "metadata": {},
   "outputs": [
    {
     "name": "stdout",
     "output_type": "stream",
     "text": [
      "[60, 80]\n"
     ]
    }
   ],
   "source": [
    "data = [20, 40, 60, 80]\n",
    "filtered = [x for x in data if x > threshold]\n",
    "print(filtered)"
   ]
  },
  {
   "cell_type": "code",
   "execution_count": null,
   "id": "81b065eb-3eea-4f61-b1f5-8ec1d46a2737",
   "metadata": {},
   "outputs": [],
   "source": []
  }
 ],
 "metadata": {
  "kernelspec": {
   "display_name": "Python 3 (ipykernel)",
   "language": "python",
   "name": "python3"
  },
  "language_info": {
   "codemirror_mode": {
    "name": "ipython",
    "version": 3
   },
   "file_extension": ".py",
   "mimetype": "text/x-python",
   "name": "python",
   "nbconvert_exporter": "python",
   "pygments_lexer": "ipython3",
   "version": "3.9.6"
  }
 },
 "nbformat": 4,
 "nbformat_minor": 5
}
