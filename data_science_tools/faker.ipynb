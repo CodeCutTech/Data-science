{
 "cells": [
  {
   "cell_type": "markdown",
   "metadata": {},
   "source": [
    "# Faker"
   ]
  },
  {
   "cell_type": "code",
   "execution_count": 1,
   "metadata": {
    "ExecuteTime": {
     "end_time": "2020-07-31T17:29:16.041864Z",
     "start_time": "2020-07-31T17:29:13.387104Z"
    }
   },
   "outputs": [
    {
     "name": "stdout",
     "output_type": "stream",
     "text": [
      "Collecting Faker\n",
      "  Downloading Faker-4.1.1-py3-none-any.whl (1.0 MB)\n",
      "\u001b[K     |████████████████████████████████| 1.0 MB 3.5 MB/s eta 0:00:01\n",
      "\u001b[?25hRequirement already satisfied: text-unidecode==1.3 in /home/khuyentran/anaconda3/envs/scraping/lib/python3.8/site-packages (from Faker) (1.3)\n",
      "Requirement already satisfied: python-dateutil>=2.4 in /home/khuyentran/anaconda3/envs/scraping/lib/python3.8/site-packages (from Faker) (2.8.1)\n",
      "Requirement already satisfied: six>=1.5 in /home/khuyentran/anaconda3/envs/scraping/lib/python3.8/site-packages (from python-dateutil>=2.4->Faker) (1.15.0)\n",
      "Installing collected packages: Faker\n",
      "Successfully installed Faker-4.1.1\n"
     ]
    }
   ],
   "source": [
    "!pip install Faker"
   ]
  },
  {
   "cell_type": "code",
   "execution_count": 1,
   "metadata": {
    "ExecuteTime": {
     "end_time": "2020-08-15T20:28:33.088095Z",
     "start_time": "2020-08-15T20:28:32.930653Z"
    }
   },
   "outputs": [],
   "source": [
    "from faker import Faker"
   ]
  },
  {
   "cell_type": "code",
   "execution_count": 2,
   "metadata": {
    "ExecuteTime": {
     "end_time": "2020-08-15T20:28:33.752847Z",
     "start_time": "2020-08-15T20:28:33.665772Z"
    }
   },
   "outputs": [],
   "source": [
    "fake = Faker()"
   ]
  },
  {
   "cell_type": "markdown",
   "metadata": {},
   "source": [
    "# Basic methods"
   ]
  },
  {
   "cell_type": "code",
   "execution_count": 3,
   "metadata": {
    "ExecuteTime": {
     "end_time": "2020-08-15T20:28:35.016790Z",
     "start_time": "2020-08-15T20:28:34.990699Z"
    }
   },
   "outputs": [
    {
     "data": {
      "text/plain": [
       "'DarkOrchid'"
      ]
     },
     "execution_count": 3,
     "metadata": {},
     "output_type": "execute_result"
    }
   ],
   "source": [
    "fake.color_name()"
   ]
  },
  {
   "cell_type": "code",
   "execution_count": 4,
   "metadata": {
    "ExecuteTime": {
     "end_time": "2020-08-15T20:28:35.629398Z",
     "start_time": "2020-08-15T20:28:35.618552Z"
    }
   },
   "outputs": [
    {
     "data": {
      "text/plain": [
       "'Crystal Smith'"
      ]
     },
     "execution_count": 4,
     "metadata": {},
     "output_type": "execute_result"
    }
   ],
   "source": [
    "fake.name()"
   ]
  },
  {
   "cell_type": "code",
   "execution_count": 5,
   "metadata": {
    "ExecuteTime": {
     "end_time": "2020-08-15T20:28:36.152075Z",
     "start_time": "2020-08-15T20:28:36.140339Z"
    }
   },
   "outputs": [
    {
     "data": {
      "text/plain": [
       "'PSC 6545, Box 9911\\nAPO AP 89831'"
      ]
     },
     "execution_count": 5,
     "metadata": {},
     "output_type": "execute_result"
    }
   ],
   "source": [
    "fake.address()"
   ]
  },
  {
   "cell_type": "code",
   "execution_count": 6,
   "metadata": {
    "ExecuteTime": {
     "end_time": "2020-08-15T20:28:37.609262Z",
     "start_time": "2020-08-15T20:28:37.598899Z"
    }
   },
   "outputs": [
    {
     "data": {
      "text/plain": [
       "'Haematologist'"
      ]
     },
     "execution_count": 6,
     "metadata": {},
     "output_type": "execute_result"
    }
   ],
   "source": [
    "fake.job()"
   ]
  },
  {
   "cell_type": "code",
   "execution_count": 7,
   "metadata": {
    "ExecuteTime": {
     "end_time": "2020-08-15T20:28:38.184035Z",
     "start_time": "2020-08-15T20:28:38.174111Z"
    }
   },
   "outputs": [
    {
     "data": {
      "text/plain": [
       "date(1918, 5, 24)"
      ]
     },
     "execution_count": 7,
     "metadata": {},
     "output_type": "execute_result"
    }
   ],
   "source": [
    "fake.date_of_birth(minimum_age=30)"
   ]
  },
  {
   "cell_type": "code",
   "execution_count": 8,
   "metadata": {
    "ExecuteTime": {
     "end_time": "2020-08-15T20:28:38.737052Z",
     "start_time": "2020-08-15T20:28:38.727004Z"
    }
   },
   "outputs": [
    {
     "data": {
      "text/plain": [
       "'Michaelberg'"
      ]
     },
     "execution_count": 8,
     "metadata": {},
     "output_type": "execute_result"
    }
   ],
   "source": [
    "fake.city()"
   ]
  },
  {
   "cell_type": "code",
   "execution_count": 9,
   "metadata": {
    "ExecuteTime": {
     "end_time": "2020-08-15T20:28:39.299936Z",
     "start_time": "2020-08-15T20:28:39.286754Z"
    }
   },
   "outputs": [
    {
     "name": "stdout",
     "output_type": "stream",
     "text": [
      "Her name is John Jackson. She lives in Esparzashire. Her favorite color is DimGray. She works as a Electrical engineer\n"
     ]
    }
   ],
   "source": [
    "name = fake.name()\n",
    "\n",
    "color = fake.color_name()\n",
    "\n",
    "city = fake.city()\n",
    "\n",
    "job = fake.job()\n",
    "\n",
    "print('Her name is {}. She lives in {}. Her favorite color is {}. She works as a {}'.format(name, city,color, job))"
   ]
  },
  {
   "cell_type": "markdown",
   "metadata": {},
   "source": [
    "# Specific Location"
   ]
  },
  {
   "cell_type": "markdown",
   "metadata": {},
   "source": [
    "## One Location"
   ]
  },
  {
   "cell_type": "code",
   "execution_count": 10,
   "metadata": {
    "ExecuteTime": {
     "end_time": "2020-08-15T20:28:42.115525Z",
     "start_time": "2020-08-15T20:28:42.028825Z"
    },
    "scrolled": true
   },
   "outputs": [
    {
     "name": "stdout",
     "output_type": "stream",
     "text": [
      "Pier Semitecolo-Pezzali\n",
      "Antonina Sauro \n",
      "Maria Marinetti\n",
      "Elisa Bodoni\n",
      "Dott. Vincenza Perozzo\n",
      "Dott. Annalisa Flaiano \n",
      "Sig. Temistocle Gullotta\n",
      "Massimiliano Volta\n",
      "Valeria Manzoni\n",
      "Ida Faugno\n"
     ]
    }
   ],
   "source": [
    "fake = Faker('it_IT')\n",
    "\n",
    "for _ in range(10):\n",
    "    print(fake.name())"
   ]
  },
  {
   "cell_type": "markdown",
   "metadata": {},
   "source": [
    "## Multiple Locations"
   ]
  },
  {
   "cell_type": "code",
   "execution_count": 11,
   "metadata": {
    "ExecuteTime": {
     "end_time": "2020-08-15T20:28:45.082672Z",
     "start_time": "2020-08-15T20:28:44.742329Z"
    }
   },
   "outputs": [
    {
     "name": "stdout",
     "output_type": "stream",
     "text": [
      "Málaga\n",
      "三宅島三宅村\n",
      "Segovia\n",
      "BouvierBourg\n",
      "Ávila\n",
      "Grondin-sur-Valentin\n",
      "Millerborough\n",
      "Renaudnec\n",
      "潮州市\n",
      "Teruel\n"
     ]
    }
   ],
   "source": [
    "fake = Faker(['ja_JP','zh_CN','es_ES','en_US','fr_FR'])\n",
    "\n",
    "for _ in range(10):\n",
    "    print(fake.city())"
   ]
  },
  {
   "cell_type": "markdown",
   "metadata": {},
   "source": [
    "# Create text"
   ]
  },
  {
   "cell_type": "code",
   "execution_count": 18,
   "metadata": {
    "ExecuteTime": {
     "end_time": "2020-07-31T17:33:20.258481Z",
     "start_time": "2020-07-31T17:33:20.251565Z"
    }
   },
   "outputs": [
    {
     "data": {
      "text/plain": [
       "'在线地址直接特别一定或者语言.要求这个过程留言软件威望.密码图片非常只是只是音乐结果.\\n直接报告这些单位需要程序.\\n文章必须全国关于显示.还是运行上海推荐是否开发主题.\\n其他全部这种.在线图片解决的话因此行业对于.\\n介绍必须控制次数不过经济.\\n公司免费程序规定不同.大学下载推荐当前.\\n这样设备今年有些我的怎么只是.最后地址只是.程序一起汽车发布直接点击一定.'"
      ]
     },
     "execution_count": 18,
     "metadata": {},
     "output_type": "execute_result"
    }
   ],
   "source": [
    "fake.text()"
   ]
  },
  {
   "cell_type": "markdown",
   "metadata": {},
   "source": [
    "## Text from a Specific language"
   ]
  },
  {
   "cell_type": "code",
   "execution_count": 19,
   "metadata": {
    "ExecuteTime": {
     "end_time": "2020-07-31T17:33:38.929576Z",
     "start_time": "2020-07-31T17:33:38.915031Z"
    }
   },
   "outputs": [
    {
     "data": {
      "text/plain": [
       "'ソース中世賞賛するブラケット屋根裏管理する意図。屋根裏ブレーキ鉱山コミュニケーションブラケット。バケツハンマーシェービング省略脊椎花嫁。\\n職人倫理コンペ部隊。風景敵対的な午前近代化する助けて〜。敵対的な動物中央尿行進創傷。\\n戦略的クルートーンあなた自身コーナーストレージ。プラスチックプラスチック管理する主婦。日曜日特徴協力〜感謝する画面欠乏血まみれの。'"
      ]
     },
     "execution_count": 19,
     "metadata": {},
     "output_type": "execute_result"
    }
   ],
   "source": [
    "# Japanese\n",
    "fake = Faker('ja_JP')\n",
    "fake.text() "
   ]
  },
  {
   "cell_type": "markdown",
   "metadata": {},
   "source": [
    "## Text from Selected Words"
   ]
  },
  {
   "cell_type": "code",
   "execution_count": 20,
   "metadata": {
    "ExecuteTime": {
     "end_time": "2020-07-31T17:34:21.318551Z",
     "start_time": "2020-07-31T17:34:21.300044Z"
    }
   },
   "outputs": [
    {
     "data": {
      "text/plain": [
       "'Dog girl flower slow.'"
      ]
     },
     "execution_count": 20,
     "metadata": {},
     "output_type": "execute_result"
    }
   ],
   "source": [
    "fake = Faker()\n",
    "my_information = [\n",
    "'dog','swimming', '21', 'slow', 'girl', 'coffee', 'flower','pink']\n",
    "fake.sentence(ext_word_list=my_information)"
   ]
  },
  {
   "cell_type": "code",
   "execution_count": 21,
   "metadata": {
    "ExecuteTime": {
     "end_time": "2020-07-31T17:34:50.630657Z",
     "start_time": "2020-07-31T17:34:50.627569Z"
    }
   },
   "outputs": [
    {
     "data": {
      "text/plain": [
       "'Pink slow girl 21 flower coffee girl 21.'"
      ]
     },
     "execution_count": 21,
     "metadata": {},
     "output_type": "execute_result"
    }
   ],
   "source": [
    "fake.sentence(ext_word_list=my_information)"
   ]
  },
  {
   "cell_type": "markdown",
   "metadata": {},
   "source": [
    "# Create a Quick Profile Data"
   ]
  },
  {
   "cell_type": "markdown",
   "metadata": {},
   "source": [
    "## Random"
   ]
  },
  {
   "cell_type": "code",
   "execution_count": 22,
   "metadata": {
    "ExecuteTime": {
     "end_time": "2020-07-31T17:35:12.079974Z",
     "start_time": "2020-07-31T17:35:12.063514Z"
    }
   },
   "outputs": [
    {
     "data": {
      "text/plain": [
       "{'job': 'Curator',\n",
       " 'company': 'Boyd Group',\n",
       " 'ssn': '705-20-0779',\n",
       " 'residence': '601 Ryan Valley Suite 664\\nNorth Brianfort, MI 94350',\n",
       " 'current_location': (Decimal('62.942073'), Decimal('-133.148192')),\n",
       " 'blood_group': 'B+',\n",
       " 'website': ['http://johnson.info/', 'https://elliott-clements.com/'],\n",
       " 'username': 'gilbertstephanie',\n",
       " 'name': 'David Zuniga',\n",
       " 'sex': 'M',\n",
       " 'address': '34304 Baldwin Knolls Suite 653\\nShawnmouth, NC 14708',\n",
       " 'mail': 'ashley99@gmail.com',\n",
       " 'birthdate': date(1960, 11, 19)}"
      ]
     },
     "execution_count": 22,
     "metadata": {},
     "output_type": "execute_result"
    }
   ],
   "source": [
    "fake = Faker()\n",
    "fake.profile()"
   ]
  },
  {
   "cell_type": "code",
   "execution_count": 12,
   "metadata": {
    "ExecuteTime": {
     "end_time": "2020-08-15T20:28:51.354410Z",
     "start_time": "2020-08-15T20:28:49.807179Z"
    }
   },
   "outputs": [],
   "source": [
    "import pandas as pd\n",
    "\n",
    "fake = Faker(['it_IT','ja_JP', 'zh_CN', 'de_DE','en_US'])\n",
    "profiles = [fake.profile() for i in range(100)]\n",
    "df = pd.DataFrame(profiles).head()\n",
    "df = df.drop('website', axis=1)"
   ]
  },
  {
   "cell_type": "code",
   "execution_count": 17,
   "metadata": {
    "ExecuteTime": {
     "end_time": "2020-08-15T20:30:13.823671Z",
     "start_time": "2020-08-15T20:30:13.782149Z"
    },
    "cell_style": "split"
   },
   "outputs": [
    {
     "data": {
      "text/html": [
       "<div>\n",
       "<style scoped>\n",
       "    .dataframe tbody tr th:only-of-type {\n",
       "        vertical-align: middle;\n",
       "    }\n",
       "\n",
       "    .dataframe tbody tr th {\n",
       "        vertical-align: top;\n",
       "    }\n",
       "\n",
       "    .dataframe thead th {\n",
       "        text-align: right;\n",
       "    }\n",
       "</style>\n",
       "<table border=\"1\" class=\"dataframe\">\n",
       "  <thead>\n",
       "    <tr style=\"text-align: right;\">\n",
       "      <th></th>\n",
       "      <th>0</th>\n",
       "      <th>1</th>\n",
       "      <th>2</th>\n",
       "      <th>3</th>\n",
       "      <th>4</th>\n",
       "      <th>5</th>\n",
       "      <th>6</th>\n",
       "      <th>7</th>\n",
       "      <th>8</th>\n",
       "      <th>9</th>\n",
       "    </tr>\n",
       "  </thead>\n",
       "  <tbody>\n",
       "    <tr>\n",
       "      <th>name</th>\n",
       "      <td>Steven Perez</td>\n",
       "      <td>Nathan Alexander</td>\n",
       "      <td>David Thomas</td>\n",
       "      <td>Brad Smith</td>\n",
       "      <td>Rebecca Zimmerman</td>\n",
       "      <td>Michael Castillo</td>\n",
       "      <td>Lori Wise</td>\n",
       "      <td>Victoria Klein</td>\n",
       "      <td>Lisa Sanchez</td>\n",
       "      <td>Courtney Morris</td>\n",
       "    </tr>\n",
       "    <tr>\n",
       "      <th>address</th>\n",
       "      <td>13324 Wilson Via Suite 447\\nMillerfurt, IA 68071</td>\n",
       "      <td>365 Warren Lane Apt. 824\\nEast Mark, OR 89165</td>\n",
       "      <td>99851 Elizabeth Point\\nSouth David, FL 11561</td>\n",
       "      <td>24174 Young Village\\nWest Kevin, AL 94944</td>\n",
       "      <td>4481 Amy Park Apt. 259\\nNew Danashire, LA 76490</td>\n",
       "      <td>242 Shepherd Summit Apt. 175\\nWest Paul, FL 75243</td>\n",
       "      <td>756 Murray Fields Apt. 208\\nEricaton, ND 79036</td>\n",
       "      <td>047 Rodriguez Radial Apt. 726\\nHolmesfurt, NM ...</td>\n",
       "      <td>31791 Little Fall\\nJosebury, NY 81351</td>\n",
       "      <td>843 Kim Rapids\\nPort Michelle, IN 66646</td>\n",
       "    </tr>\n",
       "    <tr>\n",
       "      <th>city</th>\n",
       "      <td>Williamsburgh</td>\n",
       "      <td>Dunnland</td>\n",
       "      <td>West Erika</td>\n",
       "      <td>South Nicolechester</td>\n",
       "      <td>Sierraland</td>\n",
       "      <td>New Bettychester</td>\n",
       "      <td>North Samuel</td>\n",
       "      <td>Suzanneborough</td>\n",
       "      <td>Lake Caitlinland</td>\n",
       "      <td>Lewisbury</td>\n",
       "    </tr>\n",
       "    <tr>\n",
       "      <th>color</th>\n",
       "      <td>#ef6988</td>\n",
       "      <td>#1c2ded</td>\n",
       "      <td>#0ab2d3</td>\n",
       "      <td>#f75ded</td>\n",
       "      <td>#edd042</td>\n",
       "      <td>#eef282</td>\n",
       "      <td>#e5b88b</td>\n",
       "      <td>#a363e2</td>\n",
       "      <td>#6fc617</td>\n",
       "      <td>#85e2d1</td>\n",
       "    </tr>\n",
       "    <tr>\n",
       "      <th>closeness (1-5)</th>\n",
       "      <td>0</td>\n",
       "      <td>3</td>\n",
       "      <td>2</td>\n",
       "      <td>3</td>\n",
       "      <td>0</td>\n",
       "      <td>3</td>\n",
       "      <td>2</td>\n",
       "      <td>4</td>\n",
       "      <td>0</td>\n",
       "      <td>3</td>\n",
       "    </tr>\n",
       "  </tbody>\n",
       "</table>\n",
       "</div>"
      ],
      "text/plain": [
       "                                                                0  \\\n",
       "name                                                 Steven Perez   \n",
       "address          13324 Wilson Via Suite 447\\nMillerfurt, IA 68071   \n",
       "city                                                Williamsburgh   \n",
       "color                                                     #ef6988   \n",
       "closeness (1-5)                                                 0   \n",
       "\n",
       "                                                             1  \\\n",
       "name                                          Nathan Alexander   \n",
       "address          365 Warren Lane Apt. 824\\nEast Mark, OR 89165   \n",
       "city                                                  Dunnland   \n",
       "color                                                  #1c2ded   \n",
       "closeness (1-5)                                              3   \n",
       "\n",
       "                                                            2  \\\n",
       "name                                             David Thomas   \n",
       "address          99851 Elizabeth Point\\nSouth David, FL 11561   \n",
       "city                                               West Erika   \n",
       "color                                                 #0ab2d3   \n",
       "closeness (1-5)                                             2   \n",
       "\n",
       "                                                         3  \\\n",
       "name                                            Brad Smith   \n",
       "address          24174 Young Village\\nWest Kevin, AL 94944   \n",
       "city                                   South Nicolechester   \n",
       "color                                              #f75ded   \n",
       "closeness (1-5)                                          3   \n",
       "\n",
       "                                                               4  \\\n",
       "name                                           Rebecca Zimmerman   \n",
       "address          4481 Amy Park Apt. 259\\nNew Danashire, LA 76490   \n",
       "city                                                  Sierraland   \n",
       "color                                                    #edd042   \n",
       "closeness (1-5)                                                0   \n",
       "\n",
       "                                                                 5  \\\n",
       "name                                              Michael Castillo   \n",
       "address          242 Shepherd Summit Apt. 175\\nWest Paul, FL 75243   \n",
       "city                                              New Bettychester   \n",
       "color                                                      #eef282   \n",
       "closeness (1-5)                                                  3   \n",
       "\n",
       "                                                              6  \\\n",
       "name                                                  Lori Wise   \n",
       "address          756 Murray Fields Apt. 208\\nEricaton, ND 79036   \n",
       "city                                               North Samuel   \n",
       "color                                                   #e5b88b   \n",
       "closeness (1-5)                                               2   \n",
       "\n",
       "                                                                 7  \\\n",
       "name                                                Victoria Klein   \n",
       "address          047 Rodriguez Radial Apt. 726\\nHolmesfurt, NM ...   \n",
       "city                                                Suzanneborough   \n",
       "color                                                      #a363e2   \n",
       "closeness (1-5)                                                  4   \n",
       "\n",
       "                                                     8  \\\n",
       "name                                      Lisa Sanchez   \n",
       "address          31791 Little Fall\\nJosebury, NY 81351   \n",
       "city                                  Lake Caitlinland   \n",
       "color                                          #6fc617   \n",
       "closeness (1-5)                                      0   \n",
       "\n",
       "                                                       9  \n",
       "name                                     Courtney Morris  \n",
       "address          843 Kim Rapids\\nPort Michelle, IN 66646  \n",
       "city                                           Lewisbury  \n",
       "color                                            #85e2d1  \n",
       "closeness (1-5)                                        3  "
      ]
     },
     "execution_count": 17,
     "metadata": {},
     "output_type": "execute_result"
    }
   ],
   "source": [
    "df2"
   ]
  },
  {
   "cell_type": "code",
   "execution_count": 13,
   "metadata": {
    "ExecuteTime": {
     "end_time": "2020-08-15T20:28:51.431146Z",
     "start_time": "2020-08-15T20:28:51.358710Z"
    },
    "cell_style": "split",
    "scrolled": true
   },
   "outputs": [
    {
     "data": {
      "text/html": [
       "<div>\n",
       "<style scoped>\n",
       "    .dataframe tbody tr th:only-of-type {\n",
       "        vertical-align: middle;\n",
       "    }\n",
       "\n",
       "    .dataframe tbody tr th {\n",
       "        vertical-align: top;\n",
       "    }\n",
       "\n",
       "    .dataframe thead th {\n",
       "        text-align: right;\n",
       "    }\n",
       "</style>\n",
       "<table border=\"1\" class=\"dataframe\">\n",
       "  <thead>\n",
       "    <tr style=\"text-align: right;\">\n",
       "      <th></th>\n",
       "      <th>job</th>\n",
       "      <th>company</th>\n",
       "      <th>ssn</th>\n",
       "      <th>residence</th>\n",
       "      <th>current_location</th>\n",
       "      <th>blood_group</th>\n",
       "      <th>username</th>\n",
       "      <th>name</th>\n",
       "      <th>sex</th>\n",
       "      <th>address</th>\n",
       "      <th>mail</th>\n",
       "      <th>birthdate</th>\n",
       "    </tr>\n",
       "  </thead>\n",
       "  <tbody>\n",
       "    <tr>\n",
       "      <th>0</th>\n",
       "      <td>房地产项目/策划经理</td>\n",
       "      <td>信诚致远网络有限公司</td>\n",
       "      <td>621124196906077769</td>\n",
       "      <td>江苏省张家港市黄浦台北街o座 892046</td>\n",
       "      <td>(-13.255058, 15.965848)</td>\n",
       "      <td>AB+</td>\n",
       "      <td>yan37</td>\n",
       "      <td>王志强</td>\n",
       "      <td>F</td>\n",
       "      <td>青海省巢湖市东丽西安路r座 755793</td>\n",
       "      <td>kcheng@yahoo.com</td>\n",
       "      <td>1928-09-20</td>\n",
       "    </tr>\n",
       "    <tr>\n",
       "      <th>1</th>\n",
       "      <td>Mechaniker</td>\n",
       "      <td>Walter</td>\n",
       "      <td>123-29-5012</td>\n",
       "      <td>Karl-Hans-Jäntsch-Platz 57\\n36323 Eberswalde</td>\n",
       "      <td>(-62.638068, 158.236329)</td>\n",
       "      <td>O-</td>\n",
       "      <td>zzorbach</td>\n",
       "      <td>Anatol Roht B.A.</td>\n",
       "      <td>M</td>\n",
       "      <td>Hartmannstr. 7/3\\n62558 Königs Wusterhausen</td>\n",
       "      <td>detlevplath@gmx.de</td>\n",
       "      <td>2016-03-04</td>\n",
       "    </tr>\n",
       "    <tr>\n",
       "      <th>2</th>\n",
       "      <td>Contracting civil engineer</td>\n",
       "      <td>Bowman, Rodriguez and Juarez</td>\n",
       "      <td>232-42-5281</td>\n",
       "      <td>4659 Mary Via\\nAnthonychester, AK 36074</td>\n",
       "      <td>(38.057548, 1.035197)</td>\n",
       "      <td>B+</td>\n",
       "      <td>ddiaz</td>\n",
       "      <td>John Barnett</td>\n",
       "      <td>M</td>\n",
       "      <td>1105 Cody Spur\\nPhillipside, AL 49217</td>\n",
       "      <td>deankathleen@hotmail.com</td>\n",
       "      <td>1995-12-13</td>\n",
       "    </tr>\n",
       "    <tr>\n",
       "      <th>3</th>\n",
       "      <td>Producer, television/film/video</td>\n",
       "      <td>Soderini e figli</td>\n",
       "      <td>BLGJSN33Z50L049G</td>\n",
       "      <td>Vicolo Amadeo 14 Appartamento 07\\nQuarto Bianc...</td>\n",
       "      <td>(3.2574445, -69.269572)</td>\n",
       "      <td>B+</td>\n",
       "      <td>xlamborghini</td>\n",
       "      <td>Mattia Zoppetto</td>\n",
       "      <td>M</td>\n",
       "      <td>Incrocio Simeoni 523\\nSettimo Baccio, 18160 Av...</td>\n",
       "      <td>adamocalvo@libero.it</td>\n",
       "      <td>1905-05-13</td>\n",
       "    </tr>\n",
       "    <tr>\n",
       "      <th>4</th>\n",
       "      <td>演歌歌手</td>\n",
       "      <td>株式会社藤本銀行</td>\n",
       "      <td>820-58-2585</td>\n",
       "      <td>静岡県山武市南赤田30丁目9番12号 コーポ湯本塩原658</td>\n",
       "      <td>(1.347205, -99.379761)</td>\n",
       "      <td>AB+</td>\n",
       "      <td>hiroshi29</td>\n",
       "      <td>松本 充</td>\n",
       "      <td>M</td>\n",
       "      <td>宮崎県香取郡東庄町高輪30丁目3番16号 コート花川戸811</td>\n",
       "      <td>xharada@hotmail.com</td>\n",
       "      <td>1955-04-11</td>\n",
       "    </tr>\n",
       "  </tbody>\n",
       "</table>\n",
       "</div>"
      ],
      "text/plain": [
       "                               job                       company  \\\n",
       "0                       房地产项目/策划经理                    信诚致远网络有限公司   \n",
       "1                       Mechaniker                        Walter   \n",
       "2       Contracting civil engineer  Bowman, Rodriguez and Juarez   \n",
       "3  Producer, television/film/video              Soderini e figli   \n",
       "4                             演歌歌手                      株式会社藤本銀行   \n",
       "\n",
       "                  ssn                                          residence  \\\n",
       "0  621124196906077769                              江苏省张家港市黄浦台北街o座 892046   \n",
       "1         123-29-5012       Karl-Hans-Jäntsch-Platz 57\\n36323 Eberswalde   \n",
       "2         232-42-5281            4659 Mary Via\\nAnthonychester, AK 36074   \n",
       "3    BLGJSN33Z50L049G  Vicolo Amadeo 14 Appartamento 07\\nQuarto Bianc...   \n",
       "4         820-58-2585                      静岡県山武市南赤田30丁目9番12号 コーポ湯本塩原658   \n",
       "\n",
       "           current_location blood_group      username              name sex  \\\n",
       "0   (-13.255058, 15.965848)         AB+         yan37               王志强   F   \n",
       "1  (-62.638068, 158.236329)          O-      zzorbach  Anatol Roht B.A.   M   \n",
       "2     (38.057548, 1.035197)          B+         ddiaz      John Barnett   M   \n",
       "3   (3.2574445, -69.269572)          B+  xlamborghini   Mattia Zoppetto   M   \n",
       "4    (1.347205, -99.379761)         AB+     hiroshi29              松本 充   M   \n",
       "\n",
       "                                             address  \\\n",
       "0                               青海省巢湖市东丽西安路r座 755793   \n",
       "1        Hartmannstr. 7/3\\n62558 Königs Wusterhausen   \n",
       "2              1105 Cody Spur\\nPhillipside, AL 49217   \n",
       "3  Incrocio Simeoni 523\\nSettimo Baccio, 18160 Av...   \n",
       "4                     宮崎県香取郡東庄町高輪30丁目3番16号 コート花川戸811   \n",
       "\n",
       "                       mail   birthdate  \n",
       "0          kcheng@yahoo.com  1928-09-20  \n",
       "1        detlevplath@gmx.de  2016-03-04  \n",
       "2  deankathleen@hotmail.com  1995-12-13  \n",
       "3      adamocalvo@libero.it  1905-05-13  \n",
       "4       xharada@hotmail.com  1955-04-11  "
      ]
     },
     "execution_count": 13,
     "metadata": {},
     "output_type": "execute_result"
    }
   ],
   "source": [
    "df "
   ]
  },
  {
   "cell_type": "code",
   "execution_count": 16,
   "metadata": {
    "ExecuteTime": {
     "end_time": "2020-08-15T20:30:10.234095Z",
     "start_time": "2020-08-15T20:30:10.125431Z"
    },
    "cell_style": "center",
    "scrolled": true
   },
   "outputs": [],
   "source": [
    "from faker import Faker \n",
    "import json            # To create a json file                 \n",
    "import numpy as np\n",
    "fake = Faker() \n",
    "def create_data(x): \n",
    "  \n",
    "    # dictionary \n",
    "    friends_data ={} \n",
    "    for i in range(0, x): \n",
    "        friends_data[i]={} \n",
    "        friends_data[i]['name']= fake.name() \n",
    "        friends_data[i]['address']= fake.address() \n",
    "        friends_data[i]['city']= fake.city() \n",
    "        friends_data[i]['color']= fake.color()\n",
    "        friends_data[i]['closeness (1-5)'] = np.random.randint(0,5)\n",
    "    \n",
    "    return friends_data\n",
    "    \n",
    "friends = create_data(10)\n",
    "df2 = pd.DataFrame.from_dict(friends) "
   ]
  },
  {
   "cell_type": "markdown",
   "metadata": {},
   "source": [
    "## Customize Profile"
   ]
  },
  {
   "cell_type": "markdown",
   "metadata": {},
   "source": [
    "# Python Datatypes"
   ]
  },
  {
   "cell_type": "code",
   "execution_count": 26,
   "metadata": {
    "ExecuteTime": {
     "end_time": "2020-07-31T17:36:34.378904Z",
     "start_time": "2020-07-31T17:36:34.366647Z"
    }
   },
   "outputs": [
    {
     "data": {
      "text/plain": [
       "False"
      ]
     },
     "execution_count": 26,
     "metadata": {},
     "output_type": "execute_result"
    }
   ],
   "source": [
    "fake.pybool()"
   ]
  },
  {
   "cell_type": "code",
   "execution_count": 28,
   "metadata": {
    "ExecuteTime": {
     "end_time": "2020-07-31T17:36:51.124218Z",
     "start_time": "2020-07-31T17:36:51.120707Z"
    }
   },
   "outputs": [
    {
     "data": {
      "text/plain": [
       "[Decimal('-332.81652793'),\n",
       " 4218,\n",
       " 'BYpVlHqAGSYLZwUkpkiR',\n",
       " Decimal('240366.4'),\n",
       " Decimal('-4.2167344443'),\n",
       " 6614]"
      ]
     },
     "execution_count": 28,
     "metadata": {},
     "output_type": "execute_result"
    }
   ],
   "source": [
    "# A list of 5 elements with different data_type\n",
    "fake.pylist(nb_elements=5, variable_nb_elements=True)"
   ]
  },
  {
   "cell_type": "code",
   "execution_count": 29,
   "metadata": {
    "ExecuteTime": {
     "end_time": "2020-07-31T17:37:08.790088Z",
     "start_time": "2020-07-31T17:37:08.785917Z"
    }
   },
   "outputs": [
    {
     "data": {
      "text/plain": [
       "Decimal('49261.193499')"
      ]
     },
     "execution_count": 29,
     "metadata": {},
     "output_type": "execute_result"
    }
   ],
   "source": [
    "# A decimal with 5 left digits and 6 right digits (after the .)\n",
    "fake.pydecimal(left_digits=5, right_digits=6, positive=False, min_value=None, max_value=None)"
   ]
  },
  {
   "cell_type": "code",
   "execution_count": null,
   "metadata": {},
   "outputs": [],
   "source": []
  }
 ],
 "metadata": {
  "kernelspec": {
   "display_name": "scraping",
   "language": "python",
   "name": "scraping"
  },
  "language_info": {
   "codemirror_mode": {
    "name": "ipython",
    "version": 3
   },
   "file_extension": ".py",
   "mimetype": "text/x-python",
   "name": "python",
   "nbconvert_exporter": "python",
   "pygments_lexer": "ipython3",
   "version": "3.8.3"
  },
  "latex_envs": {
   "LaTeX_envs_menu_present": true,
   "autoclose": false,
   "autocomplete": true,
   "bibliofile": "biblio.bib",
   "cite_by": "apalike",
   "current_citInitial": 1,
   "eqLabelWithNumbers": true,
   "eqNumInitial": 1,
   "hotkeys": {
    "equation": "Ctrl-E",
    "itemize": "Ctrl-I"
   },
   "labels_anchors": false,
   "latex_user_defs": false,
   "report_style_numbering": false,
   "user_envs_cfg": false
  },
  "toc": {
   "base_numbering": 1,
   "nav_menu": {},
   "number_sections": true,
   "sideBar": true,
   "skip_h1_title": false,
   "title_cell": "Table of Contents",
   "title_sidebar": "Contents",
   "toc_cell": false,
   "toc_position": {},
   "toc_section_display": true,
   "toc_window_display": false
  }
 },
 "nbformat": 4,
 "nbformat_minor": 4
}
