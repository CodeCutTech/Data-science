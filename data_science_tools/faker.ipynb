{
 "cells": [
  {
   "cell_type": "markdown",
   "metadata": {},
   "source": [
    "# Faker"
   ]
  },
  {
   "cell_type": "code",
   "execution_count": 1,
   "metadata": {
    "ExecuteTime": {
     "end_time": "2020-07-31T17:29:16.041864Z",
     "start_time": "2020-07-31T17:29:13.387104Z"
    }
   },
   "outputs": [
    {
     "name": "stdout",
     "output_type": "stream",
     "text": [
      "Collecting Faker\n",
      "  Downloading Faker-4.1.1-py3-none-any.whl (1.0 MB)\n",
      "\u001b[K     |████████████████████████████████| 1.0 MB 3.5 MB/s eta 0:00:01\n",
      "\u001b[?25hRequirement already satisfied: text-unidecode==1.3 in /home/khuyentran/anaconda3/envs/scraping/lib/python3.8/site-packages (from Faker) (1.3)\n",
      "Requirement already satisfied: python-dateutil>=2.4 in /home/khuyentran/anaconda3/envs/scraping/lib/python3.8/site-packages (from Faker) (2.8.1)\n",
      "Requirement already satisfied: six>=1.5 in /home/khuyentran/anaconda3/envs/scraping/lib/python3.8/site-packages (from python-dateutil>=2.4->Faker) (1.15.0)\n",
      "Installing collected packages: Faker\n",
      "Successfully installed Faker-4.1.1\n"
     ]
    }
   ],
   "source": [
    "!pip install Faker"
   ]
  },
  {
   "cell_type": "code",
   "execution_count": 5,
   "metadata": {
    "ExecuteTime": {
     "end_time": "2020-07-31T17:30:15.342700Z",
     "start_time": "2020-07-31T17:30:15.340155Z"
    }
   },
   "outputs": [],
   "source": [
    "from faker import Faker"
   ]
  },
  {
   "cell_type": "code",
   "execution_count": 6,
   "metadata": {
    "ExecuteTime": {
     "end_time": "2020-07-31T17:30:23.715819Z",
     "start_time": "2020-07-31T17:30:23.690536Z"
    }
   },
   "outputs": [],
   "source": [
    "fake = Faker()"
   ]
  },
  {
   "cell_type": "markdown",
   "metadata": {},
   "source": [
    "# Basic methods"
   ]
  },
  {
   "cell_type": "code",
   "execution_count": 7,
   "metadata": {
    "ExecuteTime": {
     "end_time": "2020-07-31T17:30:26.334383Z",
     "start_time": "2020-07-31T17:30:26.318186Z"
    }
   },
   "outputs": [
    {
     "data": {
      "text/plain": [
       "'Tan'"
      ]
     },
     "execution_count": 7,
     "metadata": {},
     "output_type": "execute_result"
    }
   ],
   "source": [
    "fake.color_name()"
   ]
  },
  {
   "cell_type": "code",
   "execution_count": 8,
   "metadata": {
    "ExecuteTime": {
     "end_time": "2020-07-31T17:30:32.040509Z",
     "start_time": "2020-07-31T17:30:32.036673Z"
    }
   },
   "outputs": [
    {
     "data": {
      "text/plain": [
       "'Christopher Hale'"
      ]
     },
     "execution_count": 8,
     "metadata": {},
     "output_type": "execute_result"
    }
   ],
   "source": [
    "fake.name()"
   ]
  },
  {
   "cell_type": "code",
   "execution_count": 9,
   "metadata": {
    "ExecuteTime": {
     "end_time": "2020-07-31T17:30:36.671962Z",
     "start_time": "2020-07-31T17:30:36.668568Z"
    }
   },
   "outputs": [
    {
     "data": {
      "text/plain": [
       "'721 Calhoun Ports Suite 802\\nCharlesmouth, NE 29546'"
      ]
     },
     "execution_count": 9,
     "metadata": {},
     "output_type": "execute_result"
    }
   ],
   "source": [
    "fake.address()"
   ]
  },
  {
   "cell_type": "code",
   "execution_count": 10,
   "metadata": {
    "ExecuteTime": {
     "end_time": "2020-07-31T17:30:40.559510Z",
     "start_time": "2020-07-31T17:30:40.550134Z"
    }
   },
   "outputs": [
    {
     "data": {
      "text/plain": [
       "'Ceramics designer'"
      ]
     },
     "execution_count": 10,
     "metadata": {},
     "output_type": "execute_result"
    }
   ],
   "source": [
    "fake.job()"
   ]
  },
  {
   "cell_type": "code",
   "execution_count": 11,
   "metadata": {
    "ExecuteTime": {
     "end_time": "2020-07-31T17:30:43.986566Z",
     "start_time": "2020-07-31T17:30:43.983502Z"
    }
   },
   "outputs": [
    {
     "data": {
      "text/plain": [
       "date(1956, 2, 7)"
      ]
     },
     "execution_count": 11,
     "metadata": {},
     "output_type": "execute_result"
    }
   ],
   "source": [
    "fake.date_of_birth(minimum_age=30)"
   ]
  },
  {
   "cell_type": "code",
   "execution_count": 12,
   "metadata": {
    "ExecuteTime": {
     "end_time": "2020-07-31T17:30:47.817702Z",
     "start_time": "2020-07-31T17:30:47.813068Z"
    }
   },
   "outputs": [
    {
     "data": {
      "text/plain": [
       "'South Stephanieburgh'"
      ]
     },
     "execution_count": 12,
     "metadata": {},
     "output_type": "execute_result"
    }
   ],
   "source": [
    "fake.city()"
   ]
  },
  {
   "cell_type": "code",
   "execution_count": 14,
   "metadata": {
    "ExecuteTime": {
     "end_time": "2020-07-31T17:31:26.513275Z",
     "start_time": "2020-07-31T17:31:26.506538Z"
    }
   },
   "outputs": [
    {
     "name": "stdout",
     "output_type": "stream",
     "text": [
      "Her name is Marie Robinson. She lives in Wrighthaven. Her favorite color is OliveDrab. She works as a Control and instrumentation engineer\n"
     ]
    }
   ],
   "source": [
    "name = fake.name()\n",
    "\n",
    "color = fake.color_name()\n",
    "\n",
    "city = fake.city()\n",
    "\n",
    "job = fake.job()\n",
    "\n",
    "print('Her name is {}. She lives in {}. Her favorite color is {}. She works as a {}'.format(name, city,color, job))"
   ]
  },
  {
   "cell_type": "markdown",
   "metadata": {},
   "source": [
    "# Specific Location"
   ]
  },
  {
   "cell_type": "markdown",
   "metadata": {},
   "source": [
    "## One Location"
   ]
  },
  {
   "cell_type": "code",
   "execution_count": 15,
   "metadata": {
    "ExecuteTime": {
     "end_time": "2020-07-31T17:32:30.643474Z",
     "start_time": "2020-07-31T17:32:30.625077Z"
    },
    "scrolled": true
   },
   "outputs": [
    {
     "name": "stdout",
     "output_type": "stream",
     "text": [
      "Sig. Patrizio Frescobaldi\n",
      "Cipriano Piacentini\n",
      "Olga Aulenti \n",
      "Sig. Ugolino Nievo \n",
      "Fabia Gucci\n",
      "Annetta Ricci\n",
      "Fortunata Sgarbi\n",
      "Sig. Nicolò Castiglione\n",
      "Marta Cociarelli\n",
      "Livia Garzoni \n"
     ]
    }
   ],
   "source": [
    "fake = Faker('it_IT')\n",
    "\n",
    "for _ in range(10):\n",
    "    print(fake.name())"
   ]
  },
  {
   "cell_type": "markdown",
   "metadata": {},
   "source": [
    "## Multiple Locations"
   ]
  },
  {
   "cell_type": "code",
   "execution_count": 17,
   "metadata": {
    "ExecuteTime": {
     "end_time": "2020-07-31T17:33:03.193683Z",
     "start_time": "2020-07-31T17:33:03.120668Z"
    }
   },
   "outputs": [
    {
     "name": "stdout",
     "output_type": "stream",
     "text": [
      "Elizabethstad\n",
      "富津市\n",
      "Aubertboeuf\n",
      "广州县\n",
      "慧市\n",
      "桂珍县\n",
      "Lesage\n",
      "Guipúzcoa\n",
      "成县\n",
      "Mcdonaldborough\n"
     ]
    }
   ],
   "source": [
    "fake = Faker(['ja_JP','zh_CN','es_ES','en_US','fr_FR'])\n",
    "\n",
    "for _ in range(10):\n",
    "    print(fake.city())"
   ]
  },
  {
   "cell_type": "markdown",
   "metadata": {},
   "source": [
    "# Create text"
   ]
  },
  {
   "cell_type": "code",
   "execution_count": 18,
   "metadata": {
    "ExecuteTime": {
     "end_time": "2020-07-31T17:33:20.258481Z",
     "start_time": "2020-07-31T17:33:20.251565Z"
    }
   },
   "outputs": [
    {
     "data": {
      "text/plain": [
       "'在线地址直接特别一定或者语言.要求这个过程留言软件威望.密码图片非常只是只是音乐结果.\\n直接报告这些单位需要程序.\\n文章必须全国关于显示.还是运行上海推荐是否开发主题.\\n其他全部这种.在线图片解决的话因此行业对于.\\n介绍必须控制次数不过经济.\\n公司免费程序规定不同.大学下载推荐当前.\\n这样设备今年有些我的怎么只是.最后地址只是.程序一起汽车发布直接点击一定.'"
      ]
     },
     "execution_count": 18,
     "metadata": {},
     "output_type": "execute_result"
    }
   ],
   "source": [
    "fake.text()"
   ]
  },
  {
   "cell_type": "markdown",
   "metadata": {},
   "source": [
    "## Text from a Specific language"
   ]
  },
  {
   "cell_type": "code",
   "execution_count": 19,
   "metadata": {
    "ExecuteTime": {
     "end_time": "2020-07-31T17:33:38.929576Z",
     "start_time": "2020-07-31T17:33:38.915031Z"
    }
   },
   "outputs": [
    {
     "data": {
      "text/plain": [
       "'ソース中世賞賛するブラケット屋根裏管理する意図。屋根裏ブレーキ鉱山コミュニケーションブラケット。バケツハンマーシェービング省略脊椎花嫁。\\n職人倫理コンペ部隊。風景敵対的な午前近代化する助けて〜。敵対的な動物中央尿行進創傷。\\n戦略的クルートーンあなた自身コーナーストレージ。プラスチックプラスチック管理する主婦。日曜日特徴協力〜感謝する画面欠乏血まみれの。'"
      ]
     },
     "execution_count": 19,
     "metadata": {},
     "output_type": "execute_result"
    }
   ],
   "source": [
    "# Japanese\n",
    "fake = Faker('ja_JP')\n",
    "fake.text() "
   ]
  },
  {
   "cell_type": "markdown",
   "metadata": {},
   "source": [
    "## Text from Selected Words"
   ]
  },
  {
   "cell_type": "code",
   "execution_count": 20,
   "metadata": {
    "ExecuteTime": {
     "end_time": "2020-07-31T17:34:21.318551Z",
     "start_time": "2020-07-31T17:34:21.300044Z"
    }
   },
   "outputs": [
    {
     "data": {
      "text/plain": [
       "'Dog girl flower slow.'"
      ]
     },
     "execution_count": 20,
     "metadata": {},
     "output_type": "execute_result"
    }
   ],
   "source": [
    "fake = Faker()\n",
    "my_information = [\n",
    "'dog','swimming', '21', 'slow', 'girl', 'coffee', 'flower','pink']\n",
    "fake.sentence(ext_word_list=my_information)"
   ]
  },
  {
   "cell_type": "code",
   "execution_count": 21,
   "metadata": {
    "ExecuteTime": {
     "end_time": "2020-07-31T17:34:50.630657Z",
     "start_time": "2020-07-31T17:34:50.627569Z"
    }
   },
   "outputs": [
    {
     "data": {
      "text/plain": [
       "'Pink slow girl 21 flower coffee girl 21.'"
      ]
     },
     "execution_count": 21,
     "metadata": {},
     "output_type": "execute_result"
    }
   ],
   "source": [
    "fake.sentence(ext_word_list=my_information)"
   ]
  },
  {
   "cell_type": "markdown",
   "metadata": {},
   "source": [
    "# Create a Quick Profile Data"
   ]
  },
  {
   "cell_type": "markdown",
   "metadata": {},
   "source": [
    "## Random"
   ]
  },
  {
   "cell_type": "code",
   "execution_count": 22,
   "metadata": {
    "ExecuteTime": {
     "end_time": "2020-07-31T17:35:12.079974Z",
     "start_time": "2020-07-31T17:35:12.063514Z"
    }
   },
   "outputs": [
    {
     "data": {
      "text/plain": [
       "{'job': 'Curator',\n",
       " 'company': 'Boyd Group',\n",
       " 'ssn': '705-20-0779',\n",
       " 'residence': '601 Ryan Valley Suite 664\\nNorth Brianfort, MI 94350',\n",
       " 'current_location': (Decimal('62.942073'), Decimal('-133.148192')),\n",
       " 'blood_group': 'B+',\n",
       " 'website': ['http://johnson.info/', 'https://elliott-clements.com/'],\n",
       " 'username': 'gilbertstephanie',\n",
       " 'name': 'David Zuniga',\n",
       " 'sex': 'M',\n",
       " 'address': '34304 Baldwin Knolls Suite 653\\nShawnmouth, NC 14708',\n",
       " 'mail': 'ashley99@gmail.com',\n",
       " 'birthdate': date(1960, 11, 19)}"
      ]
     },
     "execution_count": 22,
     "metadata": {},
     "output_type": "execute_result"
    }
   ],
   "source": [
    "fake = Faker()\n",
    "fake.profile()"
   ]
  },
  {
   "cell_type": "code",
   "execution_count": 38,
   "metadata": {
    "ExecuteTime": {
     "end_time": "2020-07-31T17:41:47.265602Z",
     "start_time": "2020-07-31T17:41:47.114193Z"
    }
   },
   "outputs": [],
   "source": [
    "import pandas as pd\n",
    "\n",
    "fake = Faker(['it_IT','ja_JP', 'zh_CN', 'de_DE','en_US'])\n",
    "profiles = [fake.profile() for i in range(100)]\n",
    "df = pd.DataFrame(profiles).head()\n",
    "df = df.drop('website', axis=1)"
   ]
  },
  {
   "cell_type": "code",
   "execution_count": 40,
   "metadata": {
    "ExecuteTime": {
     "end_time": "2020-07-31T17:41:56.062798Z",
     "start_time": "2020-07-31T17:41:56.051682Z"
    }
   },
   "outputs": [
    {
     "data": {
      "text/html": [
       "<div>\n",
       "<style scoped>\n",
       "    .dataframe tbody tr th:only-of-type {\n",
       "        vertical-align: middle;\n",
       "    }\n",
       "\n",
       "    .dataframe tbody tr th {\n",
       "        vertical-align: top;\n",
       "    }\n",
       "\n",
       "    .dataframe thead th {\n",
       "        text-align: right;\n",
       "    }\n",
       "</style>\n",
       "<table border=\"1\" class=\"dataframe\">\n",
       "  <thead>\n",
       "    <tr style=\"text-align: right;\">\n",
       "      <th></th>\n",
       "      <th>job</th>\n",
       "      <th>company</th>\n",
       "      <th>ssn</th>\n",
       "      <th>residence</th>\n",
       "      <th>current_location</th>\n",
       "      <th>blood_group</th>\n",
       "      <th>username</th>\n",
       "      <th>name</th>\n",
       "      <th>sex</th>\n",
       "      <th>address</th>\n",
       "      <th>mail</th>\n",
       "      <th>birthdate</th>\n",
       "    </tr>\n",
       "  </thead>\n",
       "  <tbody>\n",
       "    <tr>\n",
       "      <th>0</th>\n",
       "      <td>Lobbyist</td>\n",
       "      <td>Montessori-Ginesio s.r.l.</td>\n",
       "      <td>ULPNDA53B33T090C</td>\n",
       "      <td>Viale Manzoni 7 Appartamento 26\\nSan Alessia l...</td>\n",
       "      <td>(-3.636928, -24.852248)</td>\n",
       "      <td>O+</td>\n",
       "      <td>paulinasemitecolo</td>\n",
       "      <td>Teresa Biagiotti</td>\n",
       "      <td>F</td>\n",
       "      <td>Stretto Perini 979\\nSan Raffaello lido, 78991 ...</td>\n",
       "      <td>wgentili@gmail.com</td>\n",
       "      <td>1988-07-13</td>\n",
       "    </tr>\n",
       "    <tr>\n",
       "      <th>1</th>\n",
       "      <td>Chief Technology Officer</td>\n",
       "      <td>Bacosi e figli</td>\n",
       "      <td>RQRWDH75G53D781P</td>\n",
       "      <td>Borgo Abba 29 Piano 6\\nRomagnoli del friuli, 2...</td>\n",
       "      <td>(53.604026, 13.069428)</td>\n",
       "      <td>B-</td>\n",
       "      <td>moresigreca</td>\n",
       "      <td>Ranieri Serao</td>\n",
       "      <td>M</td>\n",
       "      <td>Stretto Margherita 98\\nRanieri veneto, 47055 A...</td>\n",
       "      <td>luca42@libero.it</td>\n",
       "      <td>1943-11-27</td>\n",
       "    </tr>\n",
       "    <tr>\n",
       "      <th>2</th>\n",
       "      <td>Print production planner</td>\n",
       "      <td>Wright, Larson and Bentley</td>\n",
       "      <td>451-32-9879</td>\n",
       "      <td>Unit 1765 Box 1023\\nDPO AE 86310</td>\n",
       "      <td>(-56.8446345, 40.430427)</td>\n",
       "      <td>B+</td>\n",
       "      <td>jamiesmith</td>\n",
       "      <td>Bianca Cook</td>\n",
       "      <td>F</td>\n",
       "      <td>3514 Christie Spurs Suite 248\\nDanielhaven, KY...</td>\n",
       "      <td>susan19@hotmail.com</td>\n",
       "      <td>1985-08-25</td>\n",
       "    </tr>\n",
       "    <tr>\n",
       "      <th>3</th>\n",
       "      <td>Wellsite geologist</td>\n",
       "      <td>Vismara-Armellini Group</td>\n",
       "      <td>LNHCLS12O63X581Y</td>\n",
       "      <td>Piazza Folliero 919 Piano 7\\nAdelmo sardo, 431...</td>\n",
       "      <td>(27.335149, 14.630924)</td>\n",
       "      <td>B-</td>\n",
       "      <td>lauretta68</td>\n",
       "      <td>Francesca Gabba</td>\n",
       "      <td>F</td>\n",
       "      <td>Piazza Renata 5\\nVecellio calabro, 65921 Veron...</td>\n",
       "      <td>antonina61@alice.it</td>\n",
       "      <td>1997-05-16</td>\n",
       "    </tr>\n",
       "    <tr>\n",
       "      <th>4</th>\n",
       "      <td>行程管理/计调</td>\n",
       "      <td>时空盒数字信息有限公司</td>\n",
       "      <td>310116196803015211</td>\n",
       "      <td>云南省通辽县秀英荆门街a座 527227</td>\n",
       "      <td>(-87.2681915, 110.772000)</td>\n",
       "      <td>O-</td>\n",
       "      <td>vzhu</td>\n",
       "      <td>杨建军</td>\n",
       "      <td>M</td>\n",
       "      <td>甘肃省欢县萧山刘路a座 969243</td>\n",
       "      <td>sujun@yahoo.com</td>\n",
       "      <td>1928-01-17</td>\n",
       "    </tr>\n",
       "  </tbody>\n",
       "</table>\n",
       "</div>"
      ],
      "text/plain": [
       "                        job                     company                 ssn  \\\n",
       "0                  Lobbyist   Montessori-Ginesio s.r.l.    ULPNDA53B33T090C   \n",
       "1  Chief Technology Officer              Bacosi e figli    RQRWDH75G53D781P   \n",
       "2  Print production planner  Wright, Larson and Bentley         451-32-9879   \n",
       "3        Wellsite geologist     Vismara-Armellini Group    LNHCLS12O63X581Y   \n",
       "4                   行程管理/计调                 时空盒数字信息有限公司  310116196803015211   \n",
       "\n",
       "                                           residence  \\\n",
       "0  Viale Manzoni 7 Appartamento 26\\nSan Alessia l...   \n",
       "1  Borgo Abba 29 Piano 6\\nRomagnoli del friuli, 2...   \n",
       "2                   Unit 1765 Box 1023\\nDPO AE 86310   \n",
       "3  Piazza Folliero 919 Piano 7\\nAdelmo sardo, 431...   \n",
       "4                               云南省通辽县秀英荆门街a座 527227   \n",
       "\n",
       "            current_location blood_group           username  \\\n",
       "0    (-3.636928, -24.852248)          O+  paulinasemitecolo   \n",
       "1     (53.604026, 13.069428)          B-        moresigreca   \n",
       "2   (-56.8446345, 40.430427)          B+         jamiesmith   \n",
       "3     (27.335149, 14.630924)          B-         lauretta68   \n",
       "4  (-87.2681915, 110.772000)          O-               vzhu   \n",
       "\n",
       "                name sex                                            address  \\\n",
       "0  Teresa Biagiotti    F  Stretto Perini 979\\nSan Raffaello lido, 78991 ...   \n",
       "1      Ranieri Serao   M  Stretto Margherita 98\\nRanieri veneto, 47055 A...   \n",
       "2        Bianca Cook   F  3514 Christie Spurs Suite 248\\nDanielhaven, KY...   \n",
       "3    Francesca Gabba   F  Piazza Renata 5\\nVecellio calabro, 65921 Veron...   \n",
       "4                杨建军   M                                 甘肃省欢县萧山刘路a座 969243   \n",
       "\n",
       "                  mail   birthdate  \n",
       "0   wgentili@gmail.com  1988-07-13  \n",
       "1     luca42@libero.it  1943-11-27  \n",
       "2  susan19@hotmail.com  1985-08-25  \n",
       "3  antonina61@alice.it  1997-05-16  \n",
       "4      sujun@yahoo.com  1928-01-17  "
      ]
     },
     "execution_count": 40,
     "metadata": {},
     "output_type": "execute_result"
    }
   ],
   "source": [
    "df "
   ]
  },
  {
   "cell_type": "markdown",
   "metadata": {},
   "source": [
    "## Customize Profile"
   ]
  },
  {
   "cell_type": "code",
   "execution_count": 30,
   "metadata": {
    "ExecuteTime": {
     "end_time": "2020-07-31T17:37:39.299095Z",
     "start_time": "2020-07-31T17:37:39.269132Z"
    }
   },
   "outputs": [
    {
     "data": {
      "text/html": [
       "<div>\n",
       "<style scoped>\n",
       "    .dataframe tbody tr th:only-of-type {\n",
       "        vertical-align: middle;\n",
       "    }\n",
       "\n",
       "    .dataframe tbody tr th {\n",
       "        vertical-align: top;\n",
       "    }\n",
       "\n",
       "    .dataframe thead th {\n",
       "        text-align: right;\n",
       "    }\n",
       "</style>\n",
       "<table border=\"1\" class=\"dataframe\">\n",
       "  <thead>\n",
       "    <tr style=\"text-align: right;\">\n",
       "      <th></th>\n",
       "      <th>0</th>\n",
       "      <th>1</th>\n",
       "      <th>2</th>\n",
       "      <th>3</th>\n",
       "      <th>4</th>\n",
       "      <th>5</th>\n",
       "      <th>6</th>\n",
       "      <th>7</th>\n",
       "      <th>8</th>\n",
       "      <th>9</th>\n",
       "    </tr>\n",
       "  </thead>\n",
       "  <tbody>\n",
       "    <tr>\n",
       "      <th>name</th>\n",
       "      <td>Debra Wilkins</td>\n",
       "      <td>Brian Wong</td>\n",
       "      <td>Richard Smith</td>\n",
       "      <td>Claire Stone</td>\n",
       "      <td>Terry Cole</td>\n",
       "      <td>Dennis Wilson</td>\n",
       "      <td>Carolyn Reyes</td>\n",
       "      <td>Steve Dean</td>\n",
       "      <td>Vernon Calhoun</td>\n",
       "      <td>James Scott</td>\n",
       "    </tr>\n",
       "    <tr>\n",
       "      <th>address</th>\n",
       "      <td>863 Chang Spur Apt. 324\\nDavidville, KY 78714</td>\n",
       "      <td>310 Hernandez Fields Apt. 192\\nVanceton, ND 44057</td>\n",
       "      <td>1529 Nicholas Station Apt. 482\\nNorth Tammy, R...</td>\n",
       "      <td>1160 Smith Brooks\\nEdwardchester, KY 24451</td>\n",
       "      <td>72287 Dwayne Parkway\\nMichellehaven, TN 08967</td>\n",
       "      <td>5882 Welch Isle\\nLake Sherryburgh, CT 20564</td>\n",
       "      <td>00071 Ross Courts\\nLake Ambermouth, NM 17404</td>\n",
       "      <td>52145 Frank Haven\\nPort Tannerstad, GA 58058</td>\n",
       "      <td>6618 Nelson Roads\\nEast Erik, PA 25008</td>\n",
       "      <td>26246 Marquez Shoal\\nLauraborough, VT 90299</td>\n",
       "    </tr>\n",
       "    <tr>\n",
       "      <th>city</th>\n",
       "      <td>Josephton</td>\n",
       "      <td>Lake Elizabeth</td>\n",
       "      <td>Hodgehaven</td>\n",
       "      <td>Erikhaven</td>\n",
       "      <td>Francoland</td>\n",
       "      <td>East Michaelburgh</td>\n",
       "      <td>Steventown</td>\n",
       "      <td>Port Lauren</td>\n",
       "      <td>Jonesbury</td>\n",
       "      <td>North Brianna</td>\n",
       "    </tr>\n",
       "    <tr>\n",
       "      <th>color</th>\n",
       "      <td>#0a9318</td>\n",
       "      <td>#3913d3</td>\n",
       "      <td>#1db3d1</td>\n",
       "      <td>#7032ff</td>\n",
       "      <td>#c61780</td>\n",
       "      <td>#ccb90e</td>\n",
       "      <td>#02e044</td>\n",
       "      <td>#f7a5eb</td>\n",
       "      <td>#42dd6e</td>\n",
       "      <td>#76e268</td>\n",
       "    </tr>\n",
       "    <tr>\n",
       "      <th>closeness (1-5)</th>\n",
       "      <td>3</td>\n",
       "      <td>4</td>\n",
       "      <td>4</td>\n",
       "      <td>0</td>\n",
       "      <td>3</td>\n",
       "      <td>2</td>\n",
       "      <td>3</td>\n",
       "      <td>2</td>\n",
       "      <td>2</td>\n",
       "      <td>4</td>\n",
       "    </tr>\n",
       "  </tbody>\n",
       "</table>\n",
       "</div>"
      ],
      "text/plain": [
       "                                                             0  \\\n",
       "name                                             Debra Wilkins   \n",
       "address          863 Chang Spur Apt. 324\\nDavidville, KY 78714   \n",
       "city                                                 Josephton   \n",
       "color                                                  #0a9318   \n",
       "closeness (1-5)                                              3   \n",
       "\n",
       "                                                                 1  \\\n",
       "name                                                    Brian Wong   \n",
       "address          310 Hernandez Fields Apt. 192\\nVanceton, ND 44057   \n",
       "city                                                Lake Elizabeth   \n",
       "color                                                      #3913d3   \n",
       "closeness (1-5)                                                  4   \n",
       "\n",
       "                                                                 2  \\\n",
       "name                                                 Richard Smith   \n",
       "address          1529 Nicholas Station Apt. 482\\nNorth Tammy, R...   \n",
       "city                                                    Hodgehaven   \n",
       "color                                                      #1db3d1   \n",
       "closeness (1-5)                                                  4   \n",
       "\n",
       "                                                          3  \\\n",
       "name                                           Claire Stone   \n",
       "address          1160 Smith Brooks\\nEdwardchester, KY 24451   \n",
       "city                                              Erikhaven   \n",
       "color                                               #7032ff   \n",
       "closeness (1-5)                                           0   \n",
       "\n",
       "                                                             4  \\\n",
       "name                                                Terry Cole   \n",
       "address          72287 Dwayne Parkway\\nMichellehaven, TN 08967   \n",
       "city                                                Francoland   \n",
       "color                                                  #c61780   \n",
       "closeness (1-5)                                              3   \n",
       "\n",
       "                                                           5  \\\n",
       "name                                           Dennis Wilson   \n",
       "address          5882 Welch Isle\\nLake Sherryburgh, CT 20564   \n",
       "city                                       East Michaelburgh   \n",
       "color                                                #ccb90e   \n",
       "closeness (1-5)                                            2   \n",
       "\n",
       "                                                            6  \\\n",
       "name                                            Carolyn Reyes   \n",
       "address          00071 Ross Courts\\nLake Ambermouth, NM 17404   \n",
       "city                                               Steventown   \n",
       "color                                                 #02e044   \n",
       "closeness (1-5)                                             3   \n",
       "\n",
       "                                                            7  \\\n",
       "name                                               Steve Dean   \n",
       "address          52145 Frank Haven\\nPort Tannerstad, GA 58058   \n",
       "city                                              Port Lauren   \n",
       "color                                                 #f7a5eb   \n",
       "closeness (1-5)                                             2   \n",
       "\n",
       "                                                      8  \\\n",
       "name                                     Vernon Calhoun   \n",
       "address          6618 Nelson Roads\\nEast Erik, PA 25008   \n",
       "city                                          Jonesbury   \n",
       "color                                           #42dd6e   \n",
       "closeness (1-5)                                       2   \n",
       "\n",
       "                                                           9  \n",
       "name                                             James Scott  \n",
       "address          26246 Marquez Shoal\\nLauraborough, VT 90299  \n",
       "city                                           North Brianna  \n",
       "color                                                #76e268  \n",
       "closeness (1-5)                                            4  "
      ]
     },
     "execution_count": 30,
     "metadata": {},
     "output_type": "execute_result"
    }
   ],
   "source": [
    "from faker import Faker \n",
    "import json            # To create a json file                 \n",
    "import numpy as np\n",
    "fake = Faker() \n",
    "def create_data(x): \n",
    "  \n",
    "    # dictionary \n",
    "    friends_data ={} \n",
    "    for i in range(0, x): \n",
    "        friends_data[i]={} \n",
    "        friends_data[i]['name']= fake.name() \n",
    "        friends_data[i]['address']= fake.address() \n",
    "        friends_data[i]['city']= fake.city() \n",
    "        friends_data[i]['color']= fake.color()\n",
    "        friends_data[i]['closeness (1-5)'] = np.random.randint(0,5)\n",
    "    \n",
    "    return friends_data\n",
    "    \n",
    "friends = create_data(10)\n",
    "df = pd.DataFrame.from_dict(friends)\n",
    "df "
   ]
  },
  {
   "cell_type": "markdown",
   "metadata": {},
   "source": [
    "# Python Datatypes"
   ]
  },
  {
   "cell_type": "code",
   "execution_count": 26,
   "metadata": {
    "ExecuteTime": {
     "end_time": "2020-07-31T17:36:34.378904Z",
     "start_time": "2020-07-31T17:36:34.366647Z"
    }
   },
   "outputs": [
    {
     "data": {
      "text/plain": [
       "False"
      ]
     },
     "execution_count": 26,
     "metadata": {},
     "output_type": "execute_result"
    }
   ],
   "source": [
    "fake.pybool()"
   ]
  },
  {
   "cell_type": "code",
   "execution_count": 28,
   "metadata": {
    "ExecuteTime": {
     "end_time": "2020-07-31T17:36:51.124218Z",
     "start_time": "2020-07-31T17:36:51.120707Z"
    }
   },
   "outputs": [
    {
     "data": {
      "text/plain": [
       "[Decimal('-332.81652793'),\n",
       " 4218,\n",
       " 'BYpVlHqAGSYLZwUkpkiR',\n",
       " Decimal('240366.4'),\n",
       " Decimal('-4.2167344443'),\n",
       " 6614]"
      ]
     },
     "execution_count": 28,
     "metadata": {},
     "output_type": "execute_result"
    }
   ],
   "source": [
    "# A list of 5 elements with different data_type\n",
    "fake.pylist(nb_elements=5, variable_nb_elements=True)"
   ]
  },
  {
   "cell_type": "code",
   "execution_count": 29,
   "metadata": {
    "ExecuteTime": {
     "end_time": "2020-07-31T17:37:08.790088Z",
     "start_time": "2020-07-31T17:37:08.785917Z"
    }
   },
   "outputs": [
    {
     "data": {
      "text/plain": [
       "Decimal('49261.193499')"
      ]
     },
     "execution_count": 29,
     "metadata": {},
     "output_type": "execute_result"
    }
   ],
   "source": [
    "# A decimal with 5 left digits and 6 right digits (after the .)\n",
    "fake.pydecimal(left_digits=5, right_digits=6, positive=False, min_value=None, max_value=None)"
   ]
  },
  {
   "cell_type": "code",
   "execution_count": null,
   "metadata": {},
   "outputs": [],
   "source": []
  }
 ],
 "metadata": {
  "kernelspec": {
   "display_name": "Python 3",
   "language": "python",
   "name": "python3"
  },
  "language_info": {
   "codemirror_mode": {
    "name": "ipython",
    "version": 3
   },
   "file_extension": ".py",
   "mimetype": "text/x-python",
   "name": "python",
   "nbconvert_exporter": "python",
   "pygments_lexer": "ipython3",
   "version": "3.8.3"
  },
  "latex_envs": {
   "LaTeX_envs_menu_present": true,
   "autoclose": false,
   "autocomplete": true,
   "bibliofile": "biblio.bib",
   "cite_by": "apalike",
   "current_citInitial": 1,
   "eqLabelWithNumbers": true,
   "eqNumInitial": 1,
   "hotkeys": {
    "equation": "Ctrl-E",
    "itemize": "Ctrl-I"
   },
   "labels_anchors": false,
   "latex_user_defs": false,
   "report_style_numbering": false,
   "user_envs_cfg": false
  },
  "toc": {
   "base_numbering": 1,
   "nav_menu": {},
   "number_sections": true,
   "sideBar": true,
   "skip_h1_title": false,
   "title_cell": "Table of Contents",
   "title_sidebar": "Contents",
   "toc_cell": false,
   "toc_position": {},
   "toc_section_display": true,
   "toc_window_display": false
  }
 },
 "nbformat": 4,
 "nbformat_minor": 4
}
