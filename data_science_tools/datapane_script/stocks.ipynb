{
 "cells": [
  {
   "cell_type": "code",
   "execution_count": 4,
   "metadata": {
    "ExecuteTime": {
     "end_time": "2020-08-06T15:19:45.687706Z",
     "start_time": "2020-08-06T15:19:45.527542Z"
    }
   },
   "outputs": [
    {
     "name": "stdout",
     "output_type": "stream",
     "text": [
      "[*********************100%***********************]  3 of 3 completed\n"
     ]
    }
   ],
   "source": [
    "import pandas as pd\n",
    "import datapane as dp\n",
    "import altair as alt\n",
    "import yfinance as yf\n",
    "\n",
    "from scipy.stats import zscore\n",
    "\n",
    "# Pull default parameters from our config file.\n",
    "dp.Params.load_defaults('./datapane.yaml')\n",
    "\n",
    "tickers = dp.Params.get('tickers')\n",
    "plot_type = dp.Params.get('plot_type')\n",
    "period = dp.Params.get('period')\n",
    "calc_zscore = dp.Params.get('zscore')\n",
    "data = yf.download(tickers=' '.join(tickers), period=period, groupby='ticker').Close\n",
    "\n",
    "# Create charts and df\n",
    "if calc_zscore:\n",
    "    for ticker in tickers:\n",
    "        data[ticker] = zscore(data[ticker])\n",
    "\n",
    "df = data.reset_index().melt('Date', var_name='symbol', value_name='price')\n",
    "\n",
    "base_chart = alt.Chart(df).encode(x='Date:T', y='price:Q', color='symbol').interactive()\n",
    "\n",
    "chart = base_chart.mark_line() if plot_type == 'line' else base_chart.mark_bar()"
   ]
  },
  {
   "cell_type": "code",
   "execution_count": 10,
   "metadata": {
    "ExecuteTime": {
     "end_time": "2020-08-06T15:32:04.859002Z",
     "start_time": "2020-08-06T15:32:03.083933Z"
    }
   },
   "outputs": [
    {
     "name": "stdout",
     "output_type": "stream",
     "text": [
      "Publishing report and associated data - please wait..\n",
      "Report successfully published at https://datapane.com/khuyentran1401/reports/stock_report_bbdd8a75/\n"
     ]
    }
   ],
   "source": [
    "# Create report with chart, df, image, and code\n",
    "\n",
    "dp.Report(dp.Markdown(f'''\n",
    "```df = data.reset_index().melt('Date', var_name='symbol', value_name='price')\n",
    "\n",
    "base_chart = alt.Chart(df).encode(x='Date:T', y='price:Q', color='symbol').interactive()\n",
    "\n",
    "chart = base_chart.mark_line() if plot_type == 'line' else base_chart.mark_bar()```\n",
    "'''),\n",
    "          dp.Plot(chart), \n",
    "          dp.Table(df),\n",
    "          dp.File(file=dp.Path('image.png'))\n",
    "          ).publish(name=f'stock_report', headline=f'Report on {\" \".join(tickers)}')"
   ]
  },
  {
   "cell_type": "code",
   "execution_count": null,
   "metadata": {},
   "outputs": [],
   "source": []
  },
  {
   "cell_type": "code",
   "execution_count": null,
   "metadata": {},
   "outputs": [],
   "source": []
  }
 ],
 "metadata": {
  "kernelspec": {
   "display_name": "Python 3",
   "language": "python",
   "name": "python3"
  },
  "language_info": {
   "codemirror_mode": {
    "name": "ipython",
    "version": 3
   },
   "file_extension": ".py",
   "mimetype": "text/x-python",
   "name": "python",
   "nbconvert_exporter": "python",
   "pygments_lexer": "ipython3",
   "version": "3.8.3"
  },
  "latex_envs": {
   "LaTeX_envs_menu_present": true,
   "autoclose": false,
   "autocomplete": true,
   "bibliofile": "biblio.bib",
   "cite_by": "apalike",
   "current_citInitial": 1,
   "eqLabelWithNumbers": true,
   "eqNumInitial": 1,
   "hotkeys": {
    "equation": "Ctrl-E",
    "itemize": "Ctrl-I"
   },
   "labels_anchors": false,
   "latex_user_defs": false,
   "report_style_numbering": false,
   "user_envs_cfg": false
  },
  "toc": {
   "base_numbering": 1,
   "nav_menu": {},
   "number_sections": true,
   "sideBar": true,
   "skip_h1_title": false,
   "title_cell": "Table of Contents",
   "title_sidebar": "Contents",
   "toc_cell": false,
   "toc_position": {},
   "toc_section_display": true,
   "toc_window_display": false
  }
 },
 "nbformat": 4,
 "nbformat_minor": 4
}
