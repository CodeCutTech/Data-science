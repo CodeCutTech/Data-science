{
 "cells": [
  {
   "cell_type": "markdown",
   "id": "laughing-three",
   "metadata": {},
   "source": [
    "# Introduction"
   ]
  },
  {
   "cell_type": "code",
   "execution_count": 7,
   "id": "welsh-jacksonville",
   "metadata": {
    "ExecuteTime": {
     "end_time": "2021-06-12T20:46:49.840324Z",
     "start_time": "2021-06-12T20:46:49.831488Z"
    }
   },
   "outputs": [],
   "source": [
    "from sympy import *"
   ]
  },
  {
   "cell_type": "markdown",
   "id": "distinguished-protest",
   "metadata": {},
   "source": [
    "## Fractions"
   ]
  },
  {
   "cell_type": "code",
   "execution_count": 4,
   "id": "designed-depression",
   "metadata": {
    "ExecuteTime": {
     "end_time": "2021-06-12T20:45:16.247779Z",
     "start_time": "2021-06-12T20:45:16.237662Z"
    }
   },
   "outputs": [
    {
     "data": {
      "text/plain": [
       "1.6666666666666667"
      ]
     },
     "execution_count": 4,
     "metadata": {},
     "output_type": "execute_result"
    }
   ],
   "source": [
    "25/15"
   ]
  },
  {
   "cell_type": "code",
   "execution_count": 33,
   "id": "exclusive-scientist",
   "metadata": {
    "ExecuteTime": {
     "end_time": "2021-06-12T21:50:41.161501Z",
     "start_time": "2021-06-12T21:50:41.158820Z"
    }
   },
   "outputs": [],
   "source": [
    "frac = Rational(25, 15)"
   ]
  },
  {
   "cell_type": "code",
   "execution_count": 13,
   "id": "rubber-smooth",
   "metadata": {
    "ExecuteTime": {
     "end_time": "2021-06-12T20:48:47.964343Z",
     "start_time": "2021-06-12T20:48:47.959244Z"
    }
   },
   "outputs": [
    {
     "data": {
      "text/latex": [
       "$\\displaystyle 5$"
      ],
      "text/plain": [
       "5"
      ]
     },
     "execution_count": 13,
     "metadata": {},
     "output_type": "execute_result"
    }
   ],
   "source": [
    "frac * 3"
   ]
  },
  {
   "cell_type": "code",
   "execution_count": 14,
   "id": "supposed-detection",
   "metadata": {
    "ExecuteTime": {
     "end_time": "2021-06-12T20:48:55.978480Z",
     "start_time": "2021-06-12T20:48:55.973636Z"
    }
   },
   "outputs": [
    {
     "data": {
      "text/latex": [
       "$\\displaystyle \\frac{1}{3}$"
      ],
      "text/plain": [
       "1/3"
      ]
     },
     "execution_count": 14,
     "metadata": {},
     "output_type": "execute_result"
    }
   ],
   "source": [
    "frac / 5"
   ]
  },
  {
   "cell_type": "markdown",
   "id": "weekly-basin",
   "metadata": {},
   "source": [
    "## Square root"
   ]
  },
  {
   "cell_type": "code",
   "execution_count": 20,
   "id": "biblical-bottom",
   "metadata": {
    "ExecuteTime": {
     "end_time": "2021-06-12T21:38:33.719940Z",
     "start_time": "2021-06-12T21:38:33.710281Z"
    }
   },
   "outputs": [
    {
     "data": {
      "text/plain": [
       "4.242640687119285"
      ]
     },
     "execution_count": 20,
     "metadata": {},
     "output_type": "execute_result"
    }
   ],
   "source": [
    "18**(1/2)"
   ]
  },
  {
   "cell_type": "code",
   "execution_count": 21,
   "id": "falling-arizona",
   "metadata": {
    "ExecuteTime": {
     "end_time": "2021-06-12T21:38:36.616400Z",
     "start_time": "2021-06-12T21:38:36.340053Z"
    }
   },
   "outputs": [
    {
     "data": {
      "text/latex": [
       "$\\displaystyle 3 \\sqrt{2}$"
      ],
      "text/plain": [
       "3*sqrt(2)"
      ]
     },
     "execution_count": 21,
     "metadata": {},
     "output_type": "execute_result"
    }
   ],
   "source": [
    "sqrt(18)"
   ]
  },
  {
   "cell_type": "markdown",
   "id": "horizontal-office",
   "metadata": {},
   "source": [
    "## Symbols"
   ]
  },
  {
   "cell_type": "code",
   "execution_count": 36,
   "id": "other-verification",
   "metadata": {
    "ExecuteTime": {
     "end_time": "2021-06-12T21:51:27.848771Z",
     "start_time": "2021-06-12T21:51:27.830659Z"
    }
   },
   "outputs": [
    {
     "data": {
      "text/latex": [
       "$\\displaystyle 3 x + y$"
      ],
      "text/plain": [
       "3*x + y"
      ]
     },
     "execution_count": 36,
     "metadata": {},
     "output_type": "execute_result"
    }
   ],
   "source": [
    "x, y = symbols('x y')\n",
    "expr = 3*x + y\n",
    "expr "
   ]
  },
  {
   "cell_type": "code",
   "execution_count": 37,
   "id": "private-shadow",
   "metadata": {
    "ExecuteTime": {
     "end_time": "2021-06-12T21:51:28.124207Z",
     "start_time": "2021-06-12T21:51:28.120574Z"
    }
   },
   "outputs": [
    {
     "data": {
      "text/latex": [
       "$\\displaystyle x \\left(3 x + y\\right)$"
      ],
      "text/plain": [
       "x*(3*x + y)"
      ]
     },
     "execution_count": 37,
     "metadata": {},
     "output_type": "execute_result"
    }
   ],
   "source": [
    "x * expr"
   ]
  },
  {
   "cell_type": "markdown",
   "id": "impressive-entertainment",
   "metadata": {},
   "source": [
    "# Expand, factor, and simply"
   ]
  },
  {
   "cell_type": "code",
   "execution_count": 38,
   "id": "retained-appointment",
   "metadata": {
    "ExecuteTime": {
     "end_time": "2021-06-12T21:51:28.837434Z",
     "start_time": "2021-06-12T21:51:28.823271Z"
    }
   },
   "outputs": [
    {
     "data": {
      "text/latex": [
       "$\\displaystyle 3 x^{2} + x y$"
      ],
      "text/plain": [
       "3*x**2 + x*y"
      ]
     },
     "execution_count": 38,
     "metadata": {},
     "output_type": "execute_result"
    }
   ],
   "source": [
    "expansion = expand(x*expr)\n",
    "expansion"
   ]
  },
  {
   "cell_type": "code",
   "execution_count": 39,
   "id": "settled-skill",
   "metadata": {
    "ExecuteTime": {
     "end_time": "2021-06-12T21:51:29.173602Z",
     "start_time": "2021-06-12T21:51:29.168961Z"
    }
   },
   "outputs": [
    {
     "data": {
      "text/latex": [
       "$\\displaystyle x \\left(3 x + y\\right)$"
      ],
      "text/plain": [
       "x*(3*x + y)"
      ]
     },
     "execution_count": 39,
     "metadata": {},
     "output_type": "execute_result"
    }
   ],
   "source": [
    "factor(expansion)"
   ]
  },
  {
   "cell_type": "code",
   "execution_count": 59,
   "id": "shared-quebec",
   "metadata": {
    "ExecuteTime": {
     "end_time": "2021-06-12T22:01:50.614972Z",
     "start_time": "2021-06-12T22:01:50.599538Z"
    }
   },
   "outputs": [
    {
     "data": {
      "text/latex": [
       "$\\displaystyle \\frac{6 x^{2} + 3 x}{3 x}$"
      ],
      "text/plain": [
       "(6*x**2 + 3*x)/(3*x)"
      ]
     },
     "execution_count": 59,
     "metadata": {},
     "output_type": "execute_result"
    }
   ],
   "source": [
    "expr = (6*x**2 + 3*x)/(3*x)\n",
    "expr "
   ]
  },
  {
   "cell_type": "code",
   "execution_count": 60,
   "id": "collect-bosnia",
   "metadata": {
    "ExecuteTime": {
     "end_time": "2021-06-12T22:01:50.948178Z",
     "start_time": "2021-06-12T22:01:50.910888Z"
    }
   },
   "outputs": [
    {
     "data": {
      "text/latex": [
       "$\\displaystyle 2 x + 1$"
      ],
      "text/plain": [
       "2*x + 1"
      ]
     },
     "execution_count": 60,
     "metadata": {},
     "output_type": "execute_result"
    }
   ],
   "source": [
    "simplify(expr)"
   ]
  },
  {
   "cell_type": "code",
   "execution_count": 62,
   "id": "employed-stylus",
   "metadata": {
    "ExecuteTime": {
     "end_time": "2021-06-12T22:02:12.576304Z",
     "start_time": "2021-06-12T22:02:12.557567Z"
    }
   },
   "outputs": [
    {
     "data": {
      "text/latex": [
       "$\\displaystyle \\frac{6 x^{2} + 3 x}{5 x}$"
      ],
      "text/plain": [
       "(6*x**2 + 3*x)/(5*x)"
      ]
     },
     "execution_count": 62,
     "metadata": {},
     "output_type": "execute_result"
    }
   ],
   "source": [
    "expr = (6*x**2 + 3*x)/(5*x)\n",
    "expr "
   ]
  },
  {
   "cell_type": "code",
   "execution_count": 63,
   "id": "downtown-origin",
   "metadata": {
    "ExecuteTime": {
     "end_time": "2021-06-12T22:02:13.341314Z",
     "start_time": "2021-06-12T22:02:13.324845Z"
    }
   },
   "outputs": [
    {
     "data": {
      "text/latex": [
       "$\\displaystyle \\frac{6 x}{5} + \\frac{3}{5}$"
      ],
      "text/plain": [
       "6*x/5 + 3/5"
      ]
     },
     "execution_count": 63,
     "metadata": {},
     "output_type": "execute_result"
    }
   ],
   "source": [
    "apart(expr)"
   ]
  },
  {
   "cell_type": "code",
   "execution_count": 55,
   "id": "indonesian-definition",
   "metadata": {
    "ExecuteTime": {
     "end_time": "2021-06-12T22:00:09.467088Z",
     "start_time": "2021-06-12T22:00:09.459982Z"
    }
   },
   "outputs": [],
   "source": [
    "expr = 6*x**2 + 3*x**2 + 5"
   ]
  },
  {
   "cell_type": "code",
   "execution_count": 58,
   "id": "outdoor-arrival",
   "metadata": {
    "ExecuteTime": {
     "end_time": "2021-06-12T22:00:44.605562Z",
     "start_time": "2021-06-12T22:00:44.592611Z"
    }
   },
   "outputs": [
    {
     "data": {
      "text/latex": [
       "$\\displaystyle 9$"
      ],
      "text/plain": [
       "9"
      ]
     },
     "execution_count": 58,
     "metadata": {},
     "output_type": "execute_result"
    }
   ],
   "source": [
    "collect(expr, x).coeff(x, 2)"
   ]
  },
  {
   "cell_type": "markdown",
   "id": "christian-mills",
   "metadata": {},
   "source": [
    "# Solve an equation"
   ]
  },
  {
   "cell_type": "code",
   "execution_count": 44,
   "id": "responsible-sending",
   "metadata": {
    "ExecuteTime": {
     "end_time": "2021-06-12T21:53:54.565130Z",
     "start_time": "2021-06-12T21:53:54.534501Z"
    }
   },
   "outputs": [
    {
     "data": {
      "text/plain": [
       "[-1/2, 0]"
      ]
     },
     "execution_count": 44,
     "metadata": {},
     "output_type": "execute_result"
    }
   ],
   "source": [
    "eq = (2*x+1)*3*x\n",
    "solve(eq, x)"
   ]
  },
  {
   "cell_type": "markdown",
   "id": "direct-electric",
   "metadata": {},
   "source": [
    "# Polynomial"
   ]
  },
  {
   "cell_type": "code",
   "execution_count": 66,
   "id": "false-junior",
   "metadata": {
    "ExecuteTime": {
     "end_time": "2021-06-13T01:34:07.918509Z",
     "start_time": "2021-06-13T01:34:07.903986Z"
    }
   },
   "outputs": [
    {
     "data": {
      "text/latex": [
       "$\\displaystyle \\operatorname{Poly}{\\left( x + y^{2} - \\frac{1}{x}, x, y, \\frac{1}{x}, domain=\\mathbb{Z} \\right)}$"
      ],
      "text/plain": [
       "Poly(x + y**2 - (1/x), x, y, 1/x, domain='ZZ')"
      ]
     },
     "execution_count": 66,
     "metadata": {},
     "output_type": "execute_result"
    }
   ],
   "source": [
    "e = x - 1/x + y**2\n",
    "e.as_poly()"
   ]
  },
  {
   "cell_type": "code",
   "execution_count": null,
   "id": "subjective-campbell",
   "metadata": {},
   "outputs": [],
   "source": []
  }
 ],
 "metadata": {
  "kernelspec": {
   "display_name": "Python 3",
   "language": "python",
   "name": "python3"
  },
  "language_info": {
   "codemirror_mode": {
    "name": "ipython",
    "version": 3
   },
   "file_extension": ".py",
   "mimetype": "text/x-python",
   "name": "python",
   "nbconvert_exporter": "python",
   "pygments_lexer": "ipython3",
   "version": "3.8.1"
  },
  "toc": {
   "base_numbering": 1,
   "nav_menu": {},
   "number_sections": true,
   "sideBar": true,
   "skip_h1_title": false,
   "title_cell": "Table of Contents",
   "title_sidebar": "Contents",
   "toc_cell": false,
   "toc_position": {},
   "toc_section_display": true,
   "toc_window_display": false
  }
 },
 "nbformat": 4,
 "nbformat_minor": 5
}
