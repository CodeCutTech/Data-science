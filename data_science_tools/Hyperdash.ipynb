{
 "cells": [
  {
   "cell_type": "markdown",
   "metadata": {},
   "source": [
    "_Do these steps on terminal_"
   ]
  },
  {
   "cell_type": "code",
   "execution_count": null,
   "metadata": {
    "ExecuteTime": {
     "end_time": "2020-07-31T18:20:12.034774Z",
     "start_time": "2020-07-31T18:20:05.558997Z"
    }
   },
   "outputs": [],
   "source": [
    "!pip install --upgrade pip && pip install hyperdash"
   ]
  },
  {
   "cell_type": "code",
   "execution_count": null,
   "metadata": {},
   "outputs": [],
   "source": [
    "!hd signup"
   ]
  },
  {
   "cell_type": "code",
   "execution_count": null,
   "metadata": {},
   "outputs": [],
   "source": [
    "!hyperdash login"
   ]
  },
  {
   "cell_type": "markdown",
   "metadata": {},
   "source": [
    "# Monitor Your Machine Learning Experiment"
   ]
  },
  {
   "cell_type": "code",
   "execution_count": null,
   "metadata": {},
   "outputs": [],
   "source": [
    "import numpy as np \n",
    "import pandas as pd \n",
    "\n",
    "disease = pd.read_csv('heart.csv')\n",
    "disease.describe()\n",
    "\n",
    "#Split the data into train and test set\n",
    "from sklearn.model_selection import train_test_split\n",
    "\n",
    "train, test = train_test_split(disease, test_size = 0.2, random_state = 1)\n",
    "\n",
    "X_train = train.drop(['target','fbs'],axis=1)\n",
    "y_train = train['target']\n",
    "\n",
    "X_test = train.drop(['target','fbs'],axis=1)\n",
    "y_test = train['target']"
   ]
  },
  {
   "cell_type": "code",
   "execution_count": null,
   "metadata": {},
   "outputs": [],
   "source": [
    "from hyperdash import Experiment\n",
    "from sklearn.linear_model import SGDClassifier\n",
    "from sklearn.model_selection import cross_val_predict\n",
    "from sklearn.metrics import confusion_matrix\n",
    "\n",
    "#Declare your Experiment object each run\n",
    "exp = Experiment('SGDClassifier')\n",
    "\n",
    "#Record the value of the hyperparameter alpha\n",
    "alpha = exp.param('alpha', 0.01)\n",
    "\n",
    "sgd_model = SGDClassifier(random_state=1, alpha = alpha)\n",
    "sgd_model.fit(X_train, y_train)\n",
    "\n",
    "#Evaluate with cross validation score\n",
    "from sklearn.model_selection import cross_val_score\n",
    "\n",
    "score = cross_val_score(sgd_model, X_train, y_train).mean()\n",
    "exp.metric('Accuracy', score)\n",
    "\n",
    "#Evaluate with confusion matrix\n",
    "\n",
    "sgd_predictions = cross_val_predict(sgd_model, X_train, y_train)\n",
    "tn, fp, fn, tp  = confusion_matrix(y_train, sgd_predictions).ravel()\n",
    "\n",
    "exp.metric('True Negative', tn)\n",
    "exp.metric('False Positive', fp)\n",
    "exp.metric('False Negative', fn)\n",
    "exp.metric('True Positive', tp) \n",
    "\n",
    "exp.end()\n"
   ]
  },
  {
   "cell_type": "markdown",
   "metadata": {},
   "source": [
    "# Decorator experiment"
   ]
  },
  {
   "cell_type": "code",
   "execution_count": null,
   "metadata": {},
   "outputs": [],
   "source": [
    "from sklearn.ensemble import RandomForestClassifier\n",
    "from sklearn import metrics\n",
    "from hyperdash import monitor\n",
    "\n",
    "@monitor('RandomForestClassifier')\n",
    "def random_forest(exp):\n",
    "    \n",
    "    n_estimators = 100\n",
    "    forest_clf = RandomForestClassifier(random_state=1, n_estimators= n_estimators)\n",
    "    forest_predictions = cross_val_predict(forest_clf, X_train, y_train )\n",
    "    f1 = metrics.f1_score\n",
    "    exp.metric('f1', f1)"
   ]
  },
  {
   "cell_type": "markdown",
   "metadata": {},
   "source": [
    "# Observer metrics"
   ]
  },
  {
   "cell_type": "code",
   "execution_count": null,
   "metadata": {},
   "outputs": [],
   "source": [
    "from hyperdash import Experiment\n",
    "exp = Experiment(\"Dogs vs. Cats\")\n",
    "\n",
    "# Parameters\n",
    "estimators = exp.param(\"Estimators\", 500)\n",
    "epochs = exp.param(\"Epochs\", 5)\n",
    "batch = exp.param(\"Batch Size\", 64)\n",
    "\n",
    "for epoch in xrange(1, epochs + 1):\n",
    "    accuracy = 1. - 1./epoch\n",
    "    loss = float(epochs - epoch)/epochs\n",
    "    print(\"Training model (epoch {})\".format(epoch))\n",
    "    time.sleep(1)\n",
    "\n",
    "    # Metrics\n",
    "    exp.metric(\"Accuracy\", accuracy)\n",
    "    exp.metric(\"Loss\", loss)\n",
    "\n",
    "exp.end()"
   ]
  }
 ],
 "metadata": {
  "kernelspec": {
   "display_name": "Python 3",
   "language": "python",
   "name": "python3"
  },
  "language_info": {
   "codemirror_mode": {
    "name": "ipython",
    "version": 3
   },
   "file_extension": ".py",
   "mimetype": "text/x-python",
   "name": "python",
   "nbconvert_exporter": "python",
   "pygments_lexer": "ipython3",
   "version": "3.8.3"
  },
  "latex_envs": {
   "LaTeX_envs_menu_present": true,
   "autoclose": false,
   "autocomplete": true,
   "bibliofile": "biblio.bib",
   "cite_by": "apalike",
   "current_citInitial": 1,
   "eqLabelWithNumbers": true,
   "eqNumInitial": 1,
   "hotkeys": {
    "equation": "Ctrl-E",
    "itemize": "Ctrl-I"
   },
   "labels_anchors": false,
   "latex_user_defs": false,
   "report_style_numbering": false,
   "user_envs_cfg": false
  },
  "toc": {
   "base_numbering": 1,
   "nav_menu": {},
   "number_sections": true,
   "sideBar": true,
   "skip_h1_title": false,
   "title_cell": "Table of Contents",
   "title_sidebar": "Contents",
   "toc_cell": false,
   "toc_position": {},
   "toc_section_display": true,
   "toc_window_display": false
  }
 },
 "nbformat": 4,
 "nbformat_minor": 4
}
