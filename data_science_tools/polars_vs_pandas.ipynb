{
 "cells": [
  {
   "cell_type": "code",
   "execution_count": null,
   "id": "Hbol",
   "metadata": {},
   "outputs": [],
   "source": [
    "import marimo as mo\n"
   ]
  },
  {
   "cell_type": "markdown",
   "id": "MJUe",
   "metadata": {
    "marimo": {
     "config": {
      "hide_code": true
     }
    }
   },
   "source": [
    "# Polars vs. Pandas: A Fast, Multi-Core Alternative for DataFrames"
   ]
  },
  {
   "cell_type": "markdown",
   "id": "vblA",
   "metadata": {
    "marimo": {
     "config": {
      "hide_code": true
     }
    }
   },
   "source": [
    "## Setup"
   ]
  },
  {
   "cell_type": "code",
   "execution_count": null,
   "id": "bkHC",
   "metadata": {},
   "outputs": [
    {
     "data": {
      "text/markdown": [
       "<div>\n",
       "<style scoped>\n",
       "    .dataframe tbody tr th:only-of-type {\n",
       "        vertical-align: middle;\n",
       "    }\n",
       "\n",
       "    .dataframe tbody tr th {\n",
       "        vertical-align: top;\n",
       "    }\n",
       "\n",
       "    .dataframe thead th {\n",
       "        text-align: right;\n",
       "    }\n",
       "</style>\n",
       "<table border=\"1\" class=\"dataframe\">\n",
       "  <thead>\n",
       "    <tr style=\"text-align: right;\">\n",
       "      <th></th>\n",
       "      <th>category</th>\n",
       "      <th>value</th>\n",
       "    </tr>\n",
       "  </thead>\n",
       "  <tbody>\n",
       "    <tr>\n",
       "      <th>0</th>\n",
       "      <td>A</td>\n",
       "      <td>677.265640</td>\n",
       "    </tr>\n",
       "    <tr>\n",
       "      <th>1</th>\n",
       "      <td>D</td>\n",
       "      <td>504.105839</td>\n",
       "    </tr>\n",
       "    <tr>\n",
       "      <th>2</th>\n",
       "      <td>C</td>\n",
       "      <td>744.468596</td>\n",
       "    </tr>\n",
       "    <tr>\n",
       "      <th>3</th>\n",
       "      <td>C</td>\n",
       "      <td>463.784413</td>\n",
       "    </tr>\n",
       "    <tr>\n",
       "      <th>4</th>\n",
       "      <td>B</td>\n",
       "      <td>536.412236</td>\n",
       "    </tr>\n",
       "    <tr>\n",
       "      <th>5</th>\n",
       "      <td>D</td>\n",
       "      <td>226.222343</td>\n",
       "    </tr>\n",
       "    <tr>\n",
       "      <th>6</th>\n",
       "      <td>C</td>\n",
       "      <td>151.146594</td>\n",
       "    </tr>\n",
       "    <tr>\n",
       "      <th>7</th>\n",
       "      <td>B</td>\n",
       "      <td>606.978756</td>\n",
       "    </tr>\n",
       "    <tr>\n",
       "      <th>8</th>\n",
       "      <td>A</td>\n",
       "      <td>122.935896</td>\n",
       "    </tr>\n",
       "    <tr>\n",
       "      <th>9</th>\n",
       "      <td>C</td>\n",
       "      <td>797.514319</td>\n",
       "    </tr>\n",
       "  </tbody>\n",
       "</table>\n",
       "</div>"
      ]
     },
     "metadata": {},
     "output_type": "display_data"
    }
   ],
   "source": [
    "import numpy as np\n",
    "import pandas as pd\n",
    "\n",
    "# Create a large dataset\n",
    "n_rows = 10_000_000\n",
    "data = {\n",
    "    \"category\": np.random.choice([\"A\", \"B\", \"C\", \"D\"], size=n_rows),\n",
    "    \"value\": np.random.rand(n_rows) * 1000,\n",
    "}\n",
    "pandas_df = pd.DataFrame(data)\n",
    "pandas_df.head(10)"
   ]
  },
  {
   "cell_type": "code",
   "execution_count": null,
   "id": "lEQa",
   "metadata": {},
   "outputs": [],
   "source": [
    "pandas_df.to_csv(\"large_file.csv\", index=False)"
   ]
  },
  {
   "cell_type": "markdown",
   "id": "PKri",
   "metadata": {
    "marimo": {
     "config": {
      "hide_code": true
     }
    }
   },
   "source": [
    "## 1. Reading Data Faster"
   ]
  },
  {
   "cell_type": "markdown",
   "id": "Xref",
   "metadata": {
    "marimo": {
     "config": {
      "hide_code": true
     }
    }
   },
   "source": [
    "### Pandas"
   ]
  },
  {
   "cell_type": "code",
   "execution_count": null,
   "id": "SFPL",
   "metadata": {},
   "outputs": [
    {
     "name": "stdout",
     "output_type": "stream",
     "text": [
      "Pandas read_csv took 1.28 seconds\n"
     ]
    }
   ],
   "source": [
    "import time\n",
    "\n",
    "start_read_pd = time.time()\n",
    "df_pd = pd.read_csv(\"large_file.csv\")\n",
    "end_read_pd = time.time()\n",
    "print(f\"Pandas read_csv took {end_read_pd - start_read_pd:.2f} seconds\")"
   ]
  },
  {
   "cell_type": "markdown",
   "id": "BYtC",
   "metadata": {
    "marimo": {
     "config": {
      "hide_code": true
     }
    }
   },
   "source": [
    "### Polars"
   ]
  },
  {
   "cell_type": "code",
   "execution_count": null,
   "id": "RGSE",
   "metadata": {},
   "outputs": [
    {
     "name": "stdout",
     "output_type": "stream",
     "text": [
      "Polars read_csv took 0.15 seconds\n"
     ]
    }
   ],
   "source": [
    "import polars as pl\n",
    "\n",
    "start_read_pl = time.time()\n",
    "polars_df = pl.read_csv(\"large_file.csv\")\n",
    "end_read_pl = time.time()\n",
    "print(f\"Polars read_csv took {end_read_pl - start_read_pl:.2f} seconds\")"
   ]
  },
  {
   "cell_type": "markdown",
   "id": "Kclp",
   "metadata": {
    "marimo": {
     "config": {
      "hide_code": true
     }
    }
   },
   "source": [
    "## 2. Lazy Evaluation (Only in Polars)"
   ]
  },
  {
   "cell_type": "code",
   "execution_count": null,
   "id": "emfo",
   "metadata": {},
   "outputs": [
    {
     "data": {
      "text/markdown": [
       "<div><style>\n",
       ".dataframe > thead > tr,\n",
       ".dataframe > tbody > tr {\n",
       "  text-align: right;\n",
       "  white-space: pre-wrap;\n",
       "}\n",
       "</style>\n",
       "<small>shape: (4, 2)</small><table border=\"1\" class=\"dataframe\"><thead><tr><th>category</th><th>avg_value</th></tr><tr><td>str</td><td>f64</td></tr></thead><tbody><tr><td>&quot;A&quot;</td><td>549.864712</td></tr><tr><td>&quot;C&quot;</td><td>550.31467</td></tr><tr><td>&quot;D&quot;</td><td>550.046616</td></tr><tr><td>&quot;B&quot;</td><td>549.950649</td></tr></tbody></table></div>"
      ]
     },
     "metadata": {},
     "output_type": "display_data"
    }
   ],
   "source": [
    "lazy_polars_df = polars_df.lazy()\n",
    "result = (\n",
    "    lazy_polars_df.filter(pl.col(\"value\") > 100)\n",
    "    .group_by(\"category\")\n",
    "    .agg(pl.col(\"value\").mean().alias(\"avg_value\"))\n",
    "    .collect()\n",
    ")\n",
    "result.head(10)"
   ]
  },
  {
   "cell_type": "markdown",
   "id": "Hstk",
   "metadata": {
    "marimo": {
     "config": {
      "hide_code": true
     }
    }
   },
   "source": [
    "## 3. Multi-Core Performance"
   ]
  },
  {
   "cell_type": "code",
   "execution_count": null,
   "id": "nWHF",
   "metadata": {},
   "outputs": [],
   "source": [
    "pandas_groupby_df = pd.DataFrame(data)\n",
    "polars_groupby_df = pl.DataFrame(data)"
   ]
  },
  {
   "cell_type": "markdown",
   "id": "iLit",
   "metadata": {
    "marimo": {
     "config": {
      "hide_code": true
     }
    }
   },
   "source": [
    "### Groupby Mean"
   ]
  },
  {
   "cell_type": "code",
   "execution_count": null,
   "id": "ZHCJ",
   "metadata": {},
   "outputs": [
    {
     "name": "stdout",
     "output_type": "stream",
     "text": [
      "Pandas groupby took 0.51 seconds\n"
     ]
    }
   ],
   "source": [
    "start_groupby_pd = time.time()\n",
    "pandas_groupby_df.groupby(\"category\")[\"value\"].mean()\n",
    "end_groupby_pd = time.time()\n",
    "print(f\"Pandas groupby took {end_groupby_pd - start_groupby_pd:.2f} seconds\")"
   ]
  },
  {
   "cell_type": "code",
   "execution_count": null,
   "id": "ROlb",
   "metadata": {},
   "outputs": [
    {
     "name": "stdout",
     "output_type": "stream",
     "text": [
      "Polars groupby took 0.12 seconds\n"
     ]
    }
   ],
   "source": [
    "start_groupby_pl = time.time()\n",
    "polars_groupby_df.group_by(\"category\").agg(pl.col(\"value\").mean())\n",
    "end_groupby_pl = time.time()\n",
    "print(f\"Polars groupby took {end_groupby_pl - start_groupby_pl:.2f} seconds\")"
   ]
  },
  {
   "cell_type": "markdown",
   "id": "qnkX",
   "metadata": {
    "marimo": {
     "config": {
      "hide_code": true
     }
    }
   },
   "source": [
    "### Filter Rows"
   ]
  },
  {
   "cell_type": "code",
   "execution_count": null,
   "id": "TqIu",
   "metadata": {},
   "outputs": [
    {
     "name": "stdout",
     "output_type": "stream",
     "text": [
      "Pandas filter took 0.08 seconds\n"
     ]
    }
   ],
   "source": [
    "start_filter_pd = time.time()\n",
    "pandas_filtered_df = pandas_groupby_df[pandas_groupby_df[\"value\"] > 500]\n",
    "end_filter_pd = time.time()\n",
    "print(f\"Pandas filter took {end_filter_pd - start_filter_pd:.2f} seconds\")"
   ]
  },
  {
   "cell_type": "code",
   "execution_count": null,
   "id": "Vxnm",
   "metadata": {},
   "outputs": [
    {
     "name": "stdout",
     "output_type": "stream",
     "text": [
      "Polars filter took 0.02 seconds\n"
     ]
    }
   ],
   "source": [
    "start_filter_pl = time.time()\n",
    "polars_filtered_df = polars_groupby_df.filter(pl.col(\"value\") > 500)\n",
    "end_filter_pl = time.time()\n",
    "print(f\"Polars filter took {end_filter_pl - start_filter_pl:.2f} seconds\")"
   ]
  },
  {
   "cell_type": "markdown",
   "id": "DnEU",
   "metadata": {
    "marimo": {
     "config": {
      "hide_code": true
     }
    }
   },
   "source": [
    "### Sort by Column"
   ]
  },
  {
   "cell_type": "code",
   "execution_count": null,
   "id": "ulZA",
   "metadata": {},
   "outputs": [
    {
     "name": "stdout",
     "output_type": "stream",
     "text": [
      "Pandas sort took 2.14 seconds\n"
     ]
    }
   ],
   "source": [
    "start_sort_pd = time.time()\n",
    "pandas_sorted_df = pandas_groupby_df.sort_values(\"value\")\n",
    "end_sort_pd = time.time()\n",
    "print(f\"Pandas sort took {end_sort_pd - start_sort_pd:.2f} seconds\")"
   ]
  },
  {
   "cell_type": "code",
   "execution_count": null,
   "id": "ecfG",
   "metadata": {},
   "outputs": [
    {
     "name": "stdout",
     "output_type": "stream",
     "text": [
      "Polars sort took 0.52 seconds\n"
     ]
    }
   ],
   "source": [
    "start_sort_pl = time.time()\n",
    "polars_sorted_df = polars_groupby_df.sort(\"value\")\n",
    "end_sort_pl = time.time()\n",
    "print(f\"Polars sort took {end_sort_pl - start_sort_pl:.2f} seconds\")"
   ]
  },
  {
   "cell_type": "markdown",
   "id": "Pvdt",
   "metadata": {
    "marimo": {
     "config": {
      "hide_code": true
     }
    }
   },
   "source": [
    "### Join on Key"
   ]
  },
  {
   "cell_type": "code",
   "execution_count": null,
   "id": "ZBYS",
   "metadata": {},
   "outputs": [
    {
     "name": "stdout",
     "output_type": "stream",
     "text": [
      "Pandas join took 0.06 seconds\n"
     ]
    }
   ],
   "source": [
    "pandas_df1 = pd.DataFrame({\"key\": range(5_000_000), \"val1\": range(5_000_000)})\n",
    "pandas_df2 = pd.DataFrame({\"key\": range(5_000_000), \"val2\": range(5_000_000)})\n",
    "start_join_pd = time.time()\n",
    "pandas_joined_df = pd.merge(pandas_df1, pandas_df2, on=\"key\")\n",
    "end_join_pd = time.time()\n",
    "print(f\"Pandas join took {end_join_pd - start_join_pd:.2f} seconds\")"
   ]
  },
  {
   "cell_type": "code",
   "execution_count": null,
   "id": "aLJB",
   "metadata": {},
   "outputs": [
    {
     "name": "stdout",
     "output_type": "stream",
     "text": [
      "Polars join took 0.06 seconds\n"
     ]
    }
   ],
   "source": [
    "polars_df1 = pl.DataFrame({\"key\": range(5_000_000), \"val1\": range(5_000_000)})\n",
    "polars_df2 = pl.DataFrame({\"key\": range(5_000_000), \"val2\": range(5_000_000)})\n",
    "start_join_pl = time.time()\n",
    "polars_joined_df = polars_df1.join(polars_df2, on=\"key\", how=\"inner\")\n",
    "end_join_pl = time.time()\n",
    "print(f\"Polars join took {end_join_pl - start_join_pl:.2f} seconds\")"
   ]
  },
  {
   "cell_type": "markdown",
   "id": "nHfw",
   "metadata": {
    "marimo": {
     "config": {
      "hide_code": true
     }
    }
   },
   "source": [
    "## 4. Syntax Comparison"
   ]
  },
  {
   "cell_type": "markdown",
   "id": "xXTn",
   "metadata": {
    "marimo": {
     "config": {
      "hide_code": true
     }
    }
   },
   "source": [
    "### Filtering rows"
   ]
  },
  {
   "cell_type": "code",
   "execution_count": null,
   "id": "AjVT",
   "metadata": {},
   "outputs": [],
   "source": [
    "pandas_filtered_rows_df = pandas_groupby_df[pandas_groupby_df[\"value\"] > 100]"
   ]
  },
  {
   "cell_type": "code",
   "execution_count": null,
   "id": "pHFh",
   "metadata": {},
   "outputs": [],
   "source": [
    "polars_filtered_rows_df = polars_groupby_df.filter(pl.col(\"value\") > 100)"
   ]
  },
  {
   "cell_type": "markdown",
   "id": "NCOB",
   "metadata": {
    "marimo": {
     "config": {
      "hide_code": true
     }
    }
   },
   "source": [
    "### Selecting columns"
   ]
  },
  {
   "cell_type": "code",
   "execution_count": null,
   "id": "aqbW",
   "metadata": {},
   "outputs": [],
   "source": [
    "pandas_selected_columns_df = pandas_groupby_df[[\"category\", \"value\"]]"
   ]
  },
  {
   "cell_type": "code",
   "execution_count": null,
   "id": "TRpd",
   "metadata": {},
   "outputs": [],
   "source": [
    "polars_selected_columns_df = polars_groupby_df.select([\"category\", \"value\"])"
   ]
  },
  {
   "cell_type": "markdown",
   "id": "TXez",
   "metadata": {
    "marimo": {
     "config": {
      "hide_code": true
     }
    }
   },
   "source": [
    "### Chained operations"
   ]
  },
  {
   "cell_type": "code",
   "execution_count": null,
   "id": "dNNg",
   "metadata": {},
   "outputs": [],
   "source": [
    "pandas_chained_operations_df = pandas_groupby_df[pandas_groupby_df[\"value\"] > 1000]\n",
    "pandas_chained_operations_df = (\n",
    "    pandas_chained_operations_df.groupby(\"category\")[\"value\"].mean().reset_index()\n",
    ")"
   ]
  },
  {
   "cell_type": "code",
   "execution_count": null,
   "id": "yCnT",
   "metadata": {},
   "outputs": [],
   "source": [
    "polars_chained_operations_df = polars_groupby_df.filter(pl.col(\"value\") > 1000)\n",
    "polars_chained_operations_df = polars_chained_operations_df.group_by(\n",
    "    \"category\"\n",
    ").agg(pl.col(\"value\").mean().alias(\"avg_value\"))"
   ]
  },
  {
   "cell_type": "markdown",
   "id": "wlCL",
   "metadata": {
    "marimo": {
     "config": {
      "hide_code": true
     }
    }
   },
   "source": [
    "## 5. Memory Efficiency"
   ]
  },
  {
   "cell_type": "code",
   "execution_count": null,
   "id": "kqZH",
   "metadata": {},
   "outputs": [
    {
     "name": "stdout",
     "output_type": "stream",
     "text": [
      "Pandas DataFrame memory usage: 660.000132 MB\n",
      "Polars DataFrame estimated size: 90.0 MB\n"
     ]
    }
   ],
   "source": [
    "print(\n",
    "    f\"Pandas DataFrame memory usage: {pandas_groupby_df.memory_usage(deep=True).sum() / 1000000.0:2f} MB\"\n",
    ")\n",
    "print(\n",
    "    f\"Polars DataFrame estimated size: {polars_groupby_df.estimated_size() / 1000000.0} MB\"\n",
    ")"
   ]
  },
  {
   "cell_type": "code",
   "execution_count": null,
   "id": "wAgl",
   "metadata": {},
   "outputs": [],
   "source": []
  }
 ],
 "metadata": {},
 "nbformat": 4,
 "nbformat_minor": 5
}
