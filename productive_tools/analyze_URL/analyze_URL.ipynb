{
 "cells": [
  {
   "cell_type": "code",
   "execution_count": null,
   "id": "50d846e3",
   "metadata": {
    "ExecuteTime": {
     "end_time": "2022-04-11T01:29:38.099618Z",
     "start_time": "2022-04-11T01:29:34.304934Z"
    }
   },
   "outputs": [],
   "source": [
    "!pip install geopy yarl"
   ]
  },
  {
   "cell_type": "markdown",
   "id": "b81f5f24",
   "metadata": {},
   "source": [
    "## Extract Elements from a URL"
   ]
  },
  {
   "cell_type": "code",
   "execution_count": 3,
   "id": "02551abd",
   "metadata": {
    "ExecuteTime": {
     "end_time": "2022-04-11T01:29:38.115346Z",
     "start_time": "2022-04-11T01:29:38.100589Z"
    }
   },
   "outputs": [
    {
     "data": {
      "application/javascript": [
       "\n",
       "            setTimeout(function() {\n",
       "                var nbb_cell_id = 3;\n",
       "                var nbb_unformatted_code = \"from yarl import URL\";\n",
       "                var nbb_formatted_code = \"from yarl import URL\";\n",
       "                var nbb_cells = Jupyter.notebook.get_cells();\n",
       "                for (var i = 0; i < nbb_cells.length; ++i) {\n",
       "                    if (nbb_cells[i].input_prompt_number == nbb_cell_id) {\n",
       "                        if (nbb_cells[i].get_text() == nbb_unformatted_code) {\n",
       "                             nbb_cells[i].set_text(nbb_formatted_code);\n",
       "                        }\n",
       "                        break;\n",
       "                    }\n",
       "                }\n",
       "            }, 500);\n",
       "            "
      ],
      "text/plain": [
       "<IPython.core.display.Javascript object>"
      ]
     },
     "metadata": {},
     "output_type": "display_data"
    }
   ],
   "source": [
    "from yarl import URL"
   ]
  },
  {
   "cell_type": "code",
   "execution_count": 4,
   "id": "cbd9122b",
   "metadata": {
    "ExecuteTime": {
     "end_time": "2022-04-11T01:29:38.121582Z",
     "start_time": "2022-04-11T01:29:38.116757Z"
    }
   },
   "outputs": [
    {
     "data": {
      "application/javascript": [
       "\n",
       "            setTimeout(function() {\n",
       "                var nbb_cell_id = 4;\n",
       "                var nbb_unformatted_code = \"url = URL(\\\"https://github.com/search?q=data+science\\\")\";\n",
       "                var nbb_formatted_code = \"url = URL(\\\"https://github.com/search?q=data+science\\\")\";\n",
       "                var nbb_cells = Jupyter.notebook.get_cells();\n",
       "                for (var i = 0; i < nbb_cells.length; ++i) {\n",
       "                    if (nbb_cells[i].input_prompt_number == nbb_cell_id) {\n",
       "                        if (nbb_cells[i].get_text() == nbb_unformatted_code) {\n",
       "                             nbb_cells[i].set_text(nbb_formatted_code);\n",
       "                        }\n",
       "                        break;\n",
       "                    }\n",
       "                }\n",
       "            }, 500);\n",
       "            "
      ],
      "text/plain": [
       "<IPython.core.display.Javascript object>"
      ]
     },
     "metadata": {},
     "output_type": "display_data"
    }
   ],
   "source": [
    "url = URL(\"https://github.com/search?q=data+science\")"
   ]
  },
  {
   "cell_type": "code",
   "execution_count": 5,
   "id": "51cd2d84",
   "metadata": {
    "ExecuteTime": {
     "end_time": "2022-04-11T01:29:38.127115Z",
     "start_time": "2022-04-11T01:29:38.122825Z"
    }
   },
   "outputs": [
    {
     "data": {
      "text/plain": [
       "'https'"
      ]
     },
     "execution_count": 5,
     "metadata": {},
     "output_type": "execute_result"
    },
    {
     "data": {
      "application/javascript": [
       "\n",
       "            setTimeout(function() {\n",
       "                var nbb_cell_id = 5;\n",
       "                var nbb_unformatted_code = \"url.scheme\";\n",
       "                var nbb_formatted_code = \"url.scheme\";\n",
       "                var nbb_cells = Jupyter.notebook.get_cells();\n",
       "                for (var i = 0; i < nbb_cells.length; ++i) {\n",
       "                    if (nbb_cells[i].input_prompt_number == nbb_cell_id) {\n",
       "                        if (nbb_cells[i].get_text() == nbb_unformatted_code) {\n",
       "                             nbb_cells[i].set_text(nbb_formatted_code);\n",
       "                        }\n",
       "                        break;\n",
       "                    }\n",
       "                }\n",
       "            }, 500);\n",
       "            "
      ],
      "text/plain": [
       "<IPython.core.display.Javascript object>"
      ]
     },
     "metadata": {},
     "output_type": "display_data"
    }
   ],
   "source": [
    "url.scheme"
   ]
  },
  {
   "cell_type": "code",
   "execution_count": 6,
   "id": "9f3ce39f",
   "metadata": {
    "ExecuteTime": {
     "end_time": "2022-04-11T01:29:38.132957Z",
     "start_time": "2022-04-11T01:29:38.128768Z"
    }
   },
   "outputs": [
    {
     "data": {
      "text/plain": [
       "'github.com'"
      ]
     },
     "execution_count": 6,
     "metadata": {},
     "output_type": "execute_result"
    },
    {
     "data": {
      "application/javascript": [
       "\n",
       "            setTimeout(function() {\n",
       "                var nbb_cell_id = 6;\n",
       "                var nbb_unformatted_code = \"url.host\";\n",
       "                var nbb_formatted_code = \"url.host\";\n",
       "                var nbb_cells = Jupyter.notebook.get_cells();\n",
       "                for (var i = 0; i < nbb_cells.length; ++i) {\n",
       "                    if (nbb_cells[i].input_prompt_number == nbb_cell_id) {\n",
       "                        if (nbb_cells[i].get_text() == nbb_unformatted_code) {\n",
       "                             nbb_cells[i].set_text(nbb_formatted_code);\n",
       "                        }\n",
       "                        break;\n",
       "                    }\n",
       "                }\n",
       "            }, 500);\n",
       "            "
      ],
      "text/plain": [
       "<IPython.core.display.Javascript object>"
      ]
     },
     "metadata": {},
     "output_type": "display_data"
    }
   ],
   "source": [
    "url.host"
   ]
  },
  {
   "cell_type": "code",
   "execution_count": 7,
   "id": "458217ad",
   "metadata": {
    "ExecuteTime": {
     "end_time": "2022-04-11T01:29:38.137749Z",
     "start_time": "2022-04-11T01:29:38.133849Z"
    }
   },
   "outputs": [
    {
     "data": {
      "text/plain": [
       "'/search'"
      ]
     },
     "execution_count": 7,
     "metadata": {},
     "output_type": "execute_result"
    },
    {
     "data": {
      "application/javascript": [
       "\n",
       "            setTimeout(function() {\n",
       "                var nbb_cell_id = 7;\n",
       "                var nbb_unformatted_code = \"url.path\";\n",
       "                var nbb_formatted_code = \"url.path\";\n",
       "                var nbb_cells = Jupyter.notebook.get_cells();\n",
       "                for (var i = 0; i < nbb_cells.length; ++i) {\n",
       "                    if (nbb_cells[i].input_prompt_number == nbb_cell_id) {\n",
       "                        if (nbb_cells[i].get_text() == nbb_unformatted_code) {\n",
       "                             nbb_cells[i].set_text(nbb_formatted_code);\n",
       "                        }\n",
       "                        break;\n",
       "                    }\n",
       "                }\n",
       "            }, 500);\n",
       "            "
      ],
      "text/plain": [
       "<IPython.core.display.Javascript object>"
      ]
     },
     "metadata": {},
     "output_type": "display_data"
    }
   ],
   "source": [
    "url.path"
   ]
  },
  {
   "cell_type": "code",
   "execution_count": 8,
   "id": "7ce230f8",
   "metadata": {
    "ExecuteTime": {
     "end_time": "2022-04-11T01:29:38.143563Z",
     "start_time": "2022-04-11T01:29:38.139007Z"
    }
   },
   "outputs": [
    {
     "data": {
      "text/plain": [
       "'q=data science'"
      ]
     },
     "execution_count": 8,
     "metadata": {},
     "output_type": "execute_result"
    },
    {
     "data": {
      "application/javascript": [
       "\n",
       "            setTimeout(function() {\n",
       "                var nbb_cell_id = 8;\n",
       "                var nbb_unformatted_code = \"url.query_string\";\n",
       "                var nbb_formatted_code = \"url.query_string\";\n",
       "                var nbb_cells = Jupyter.notebook.get_cells();\n",
       "                for (var i = 0; i < nbb_cells.length; ++i) {\n",
       "                    if (nbb_cells[i].input_prompt_number == nbb_cell_id) {\n",
       "                        if (nbb_cells[i].get_text() == nbb_unformatted_code) {\n",
       "                             nbb_cells[i].set_text(nbb_formatted_code);\n",
       "                        }\n",
       "                        break;\n",
       "                    }\n",
       "                }\n",
       "            }, 500);\n",
       "            "
      ],
      "text/plain": [
       "<IPython.core.display.Javascript object>"
      ]
     },
     "metadata": {},
     "output_type": "display_data"
    }
   ],
   "source": [
    "url.query_string"
   ]
  },
  {
   "cell_type": "code",
   "execution_count": 9,
   "id": "8f024c33",
   "metadata": {
    "ExecuteTime": {
     "end_time": "2022-04-11T01:29:38.149690Z",
     "start_time": "2022-04-11T01:29:38.144655Z"
    }
   },
   "outputs": [
    {
     "data": {
      "text/plain": [
       "'contents'"
      ]
     },
     "execution_count": 9,
     "metadata": {},
     "output_type": "execute_result"
    },
    {
     "data": {
      "application/javascript": [
       "\n",
       "            setTimeout(function() {\n",
       "                var nbb_cell_id = 9;\n",
       "                var nbb_unformatted_code = \"url = URL(\\\"https://github.com/khuyentran1401/Data-science#contents\\\")\\nurl.fragment\";\n",
       "                var nbb_formatted_code = \"url = URL(\\\"https://github.com/khuyentran1401/Data-science#contents\\\")\\nurl.fragment\";\n",
       "                var nbb_cells = Jupyter.notebook.get_cells();\n",
       "                for (var i = 0; i < nbb_cells.length; ++i) {\n",
       "                    if (nbb_cells[i].input_prompt_number == nbb_cell_id) {\n",
       "                        if (nbb_cells[i].get_text() == nbb_unformatted_code) {\n",
       "                             nbb_cells[i].set_text(nbb_formatted_code);\n",
       "                        }\n",
       "                        break;\n",
       "                    }\n",
       "                }\n",
       "            }, 500);\n",
       "            "
      ],
      "text/plain": [
       "<IPython.core.display.Javascript object>"
      ]
     },
     "metadata": {},
     "output_type": "display_data"
    }
   ],
   "source": [
    "url = URL(\"https://github.com/khuyentran1401/Data-science#contents\")\n",
    "url.fragment"
   ]
  },
  {
   "cell_type": "code",
   "execution_count": 10,
   "id": "262ddec7",
   "metadata": {
    "ExecuteTime": {
     "end_time": "2022-04-11T01:29:39.597571Z",
     "start_time": "2022-04-11T01:29:38.151335Z"
    }
   },
   "outputs": [
    {
     "data": {
      "text/html": [
       "<div>\n",
       "<style scoped>\n",
       "    .dataframe tbody tr th:only-of-type {\n",
       "        vertical-align: middle;\n",
       "    }\n",
       "\n",
       "    .dataframe tbody tr th {\n",
       "        vertical-align: top;\n",
       "    }\n",
       "\n",
       "    .dataframe thead th {\n",
       "        text-align: right;\n",
       "    }\n",
       "</style>\n",
       "<table border=\"1\" class=\"dataframe\">\n",
       "  <thead>\n",
       "    <tr style=\"text-align: right;\">\n",
       "      <th></th>\n",
       "      <th>url</th>\n",
       "      <th>Type</th>\n",
       "    </tr>\n",
       "  </thead>\n",
       "  <tbody>\n",
       "    <tr>\n",
       "      <th>1</th>\n",
       "      <td>http://www.liquidgeneration.com/</td>\n",
       "      <td>Adult</td>\n",
       "    </tr>\n",
       "    <tr>\n",
       "      <th>2</th>\n",
       "      <td>http://www.onlineanime.org/</td>\n",
       "      <td>Adult</td>\n",
       "    </tr>\n",
       "    <tr>\n",
       "      <th>3</th>\n",
       "      <td>http://www.ceres.dti.ne.jp/~nekoi/senno/senfir...</td>\n",
       "      <td>Adult</td>\n",
       "    </tr>\n",
       "    <tr>\n",
       "      <th>4</th>\n",
       "      <td>http://www.galeon.com/kmh/</td>\n",
       "      <td>Adult</td>\n",
       "    </tr>\n",
       "    <tr>\n",
       "      <th>5</th>\n",
       "      <td>http://www.fanworkrecs.com/</td>\n",
       "      <td>Adult</td>\n",
       "    </tr>\n",
       "    <tr>\n",
       "      <th>...</th>\n",
       "      <td>...</td>\n",
       "      <td>...</td>\n",
       "    </tr>\n",
       "    <tr>\n",
       "      <th>1562974</th>\n",
       "      <td>http://www.maxpreps.com/</td>\n",
       "      <td>Sports</td>\n",
       "    </tr>\n",
       "    <tr>\n",
       "      <th>1562975</th>\n",
       "      <td>http://www.myscore.com/</td>\n",
       "      <td>Sports</td>\n",
       "    </tr>\n",
       "    <tr>\n",
       "      <th>1562976</th>\n",
       "      <td>http://sportsillustrated.cnn.com/highschool</td>\n",
       "      <td>Sports</td>\n",
       "    </tr>\n",
       "    <tr>\n",
       "      <th>1562977</th>\n",
       "      <td>http://rss.cnn.com/rss/si_highschool?format=xml</td>\n",
       "      <td>Sports</td>\n",
       "    </tr>\n",
       "    <tr>\n",
       "      <th>1562978</th>\n",
       "      <td>http://www.usatoday.com/sports/preps/</td>\n",
       "      <td>Sports</td>\n",
       "    </tr>\n",
       "  </tbody>\n",
       "</table>\n",
       "<p>1562978 rows × 2 columns</p>\n",
       "</div>"
      ],
      "text/plain": [
       "                                                       url    Type\n",
       "1                         http://www.liquidgeneration.com/   Adult\n",
       "2                              http://www.onlineanime.org/   Adult\n",
       "3        http://www.ceres.dti.ne.jp/~nekoi/senno/senfir...   Adult\n",
       "4                               http://www.galeon.com/kmh/   Adult\n",
       "5                              http://www.fanworkrecs.com/   Adult\n",
       "...                                                    ...     ...\n",
       "1562974                           http://www.maxpreps.com/  Sports\n",
       "1562975                            http://www.myscore.com/  Sports\n",
       "1562976        http://sportsillustrated.cnn.com/highschool  Sports\n",
       "1562977    http://rss.cnn.com/rss/si_highschool?format=xml  Sports\n",
       "1562978              http://www.usatoday.com/sports/preps/  Sports\n",
       "\n",
       "[1562978 rows x 2 columns]"
      ]
     },
     "execution_count": 10,
     "metadata": {},
     "output_type": "execute_result"
    },
    {
     "data": {
      "application/javascript": [
       "\n",
       "            setTimeout(function() {\n",
       "                var nbb_cell_id = 10;\n",
       "                var nbb_unformatted_code = \"import pandas as pd\\n\\ndata = pd.read_csv(\\\"URL Classification.csv\\\", names=[\\\"url\\\", \\\"Type\\\"], index_col=0)\\ndata\";\n",
       "                var nbb_formatted_code = \"import pandas as pd\\n\\ndata = pd.read_csv(\\\"URL Classification.csv\\\", names=[\\\"url\\\", \\\"Type\\\"], index_col=0)\\ndata\";\n",
       "                var nbb_cells = Jupyter.notebook.get_cells();\n",
       "                for (var i = 0; i < nbb_cells.length; ++i) {\n",
       "                    if (nbb_cells[i].input_prompt_number == nbb_cell_id) {\n",
       "                        if (nbb_cells[i].get_text() == nbb_unformatted_code) {\n",
       "                             nbb_cells[i].set_text(nbb_formatted_code);\n",
       "                        }\n",
       "                        break;\n",
       "                    }\n",
       "                }\n",
       "            }, 500);\n",
       "            "
      ],
      "text/plain": [
       "<IPython.core.display.Javascript object>"
      ]
     },
     "metadata": {},
     "output_type": "display_data"
    }
   ],
   "source": [
    "import pandas as pd\n",
    "\n",
    "data = pd.read_csv(\"URL Classification.csv\", names=[\"url\", \"Type\"], index_col=0)\n",
    "data"
   ]
  },
  {
   "cell_type": "code",
   "execution_count": 11,
   "id": "ceb31088",
   "metadata": {
    "ExecuteTime": {
     "end_time": "2022-04-11T01:29:39.648430Z",
     "start_time": "2022-04-11T01:29:39.598404Z"
    }
   },
   "outputs": [
    {
     "data": {
      "text/html": [
       "<div>\n",
       "<style scoped>\n",
       "    .dataframe tbody tr th:only-of-type {\n",
       "        vertical-align: middle;\n",
       "    }\n",
       "\n",
       "    .dataframe tbody tr th {\n",
       "        vertical-align: top;\n",
       "    }\n",
       "\n",
       "    .dataframe thead th {\n",
       "        text-align: right;\n",
       "    }\n",
       "</style>\n",
       "<table border=\"1\" class=\"dataframe\">\n",
       "  <thead>\n",
       "    <tr style=\"text-align: right;\">\n",
       "      <th></th>\n",
       "      <th>url</th>\n",
       "      <th>Type</th>\n",
       "    </tr>\n",
       "  </thead>\n",
       "  <tbody>\n",
       "    <tr>\n",
       "      <th>1308349</th>\n",
       "      <td>http://yorkrite.com/ne/gcram/</td>\n",
       "      <td>Society</td>\n",
       "    </tr>\n",
       "    <tr>\n",
       "      <th>276825</th>\n",
       "      <td>http://www.alliedartistsofamerica.org/</td>\n",
       "      <td>Arts</td>\n",
       "    </tr>\n",
       "    <tr>\n",
       "      <th>1315267</th>\n",
       "      <td>http://www.msstate.edu/org/farmhouse/index.html</td>\n",
       "      <td>Society</td>\n",
       "    </tr>\n",
       "    <tr>\n",
       "      <th>392387</th>\n",
       "      <td>http://www.sunnytec.com.tw/</td>\n",
       "      <td>Business</td>\n",
       "    </tr>\n",
       "    <tr>\n",
       "      <th>1267730</th>\n",
       "      <td>http://www.kabissa.org</td>\n",
       "      <td>Society</td>\n",
       "    </tr>\n",
       "    <tr>\n",
       "      <th>1392788</th>\n",
       "      <td>http://www.newadvent.org/cathen/12134b.htm</td>\n",
       "      <td>Society</td>\n",
       "    </tr>\n",
       "    <tr>\n",
       "      <th>672881</th>\n",
       "      <td>http://www.gamespot.com/ps2/driving/arcticthun...</td>\n",
       "      <td>Games</td>\n",
       "    </tr>\n",
       "    <tr>\n",
       "      <th>1526125</th>\n",
       "      <td>http://www.studsquad.net/</td>\n",
       "      <td>Sports</td>\n",
       "    </tr>\n",
       "    <tr>\n",
       "      <th>1009901</th>\n",
       "      <td>http://www.spacedog.biz</td>\n",
       "      <td>Reference</td>\n",
       "    </tr>\n",
       "    <tr>\n",
       "      <th>330964</th>\n",
       "      <td>http://www.meditrans-japan.com/</td>\n",
       "      <td>Business</td>\n",
       "    </tr>\n",
       "  </tbody>\n",
       "</table>\n",
       "</div>"
      ],
      "text/plain": [
       "                                                       url       Type\n",
       "1308349                      http://yorkrite.com/ne/gcram/    Society\n",
       "276825              http://www.alliedartistsofamerica.org/       Arts\n",
       "1315267    http://www.msstate.edu/org/farmhouse/index.html    Society\n",
       "392387                         http://www.sunnytec.com.tw/   Business\n",
       "1267730                             http://www.kabissa.org    Society\n",
       "1392788         http://www.newadvent.org/cathen/12134b.htm    Society\n",
       "672881   http://www.gamespot.com/ps2/driving/arcticthun...      Games\n",
       "1526125                          http://www.studsquad.net/     Sports\n",
       "1009901                            http://www.spacedog.biz  Reference\n",
       "330964                     http://www.meditrans-japan.com/   Business"
      ]
     },
     "execution_count": 11,
     "metadata": {},
     "output_type": "execute_result"
    },
    {
     "data": {
      "application/javascript": [
       "\n",
       "            setTimeout(function() {\n",
       "                var nbb_cell_id = 11;\n",
       "                var nbb_unformatted_code = \"sample = data.sample(10000, random_state=1)\\nsample.head(10)\";\n",
       "                var nbb_formatted_code = \"sample = data.sample(10000, random_state=1)\\nsample.head(10)\";\n",
       "                var nbb_cells = Jupyter.notebook.get_cells();\n",
       "                for (var i = 0; i < nbb_cells.length; ++i) {\n",
       "                    if (nbb_cells[i].input_prompt_number == nbb_cell_id) {\n",
       "                        if (nbb_cells[i].get_text() == nbb_unformatted_code) {\n",
       "                             nbb_cells[i].set_text(nbb_formatted_code);\n",
       "                        }\n",
       "                        break;\n",
       "                    }\n",
       "                }\n",
       "            }, 500);\n",
       "            "
      ],
      "text/plain": [
       "<IPython.core.display.Javascript object>"
      ]
     },
     "metadata": {},
     "output_type": "display_data"
    }
   ],
   "source": [
    "sample = data.sample(10000, random_state=1)\n",
    "sample.head(10)"
   ]
  },
  {
   "cell_type": "code",
   "execution_count": 12,
   "id": "f6db053c",
   "metadata": {
    "ExecuteTime": {
     "end_time": "2022-04-11T01:29:39.819882Z",
     "start_time": "2022-04-11T01:29:39.649364Z"
    }
   },
   "outputs": [
    {
     "data": {
      "application/javascript": [
       "\n",
       "            setTimeout(function() {\n",
       "                var nbb_cell_id = 12;\n",
       "                var nbb_unformatted_code = \"sample[\\\"url\\\"] = sample[\\\"url\\\"].apply(lambda url: URL(url))\";\n",
       "                var nbb_formatted_code = \"sample[\\\"url\\\"] = sample[\\\"url\\\"].apply(lambda url: URL(url))\";\n",
       "                var nbb_cells = Jupyter.notebook.get_cells();\n",
       "                for (var i = 0; i < nbb_cells.length; ++i) {\n",
       "                    if (nbb_cells[i].input_prompt_number == nbb_cell_id) {\n",
       "                        if (nbb_cells[i].get_text() == nbb_unformatted_code) {\n",
       "                             nbb_cells[i].set_text(nbb_formatted_code);\n",
       "                        }\n",
       "                        break;\n",
       "                    }\n",
       "                }\n",
       "            }, 500);\n",
       "            "
      ],
      "text/plain": [
       "<IPython.core.display.Javascript object>"
      ]
     },
     "metadata": {},
     "output_type": "display_data"
    }
   ],
   "source": [
    "sample[\"url\"] = sample[\"url\"].apply(lambda url: URL(url))"
   ]
  },
  {
   "cell_type": "code",
   "execution_count": 17,
   "id": "adbdbc98",
   "metadata": {
    "ExecuteTime": {
     "end_time": "2022-04-11T01:32:27.923703Z",
     "start_time": "2022-04-11T01:32:27.899748Z"
    }
   },
   "outputs": [
    {
     "data": {
      "text/html": [
       "<div>\n",
       "<style scoped>\n",
       "    .dataframe tbody tr th:only-of-type {\n",
       "        vertical-align: middle;\n",
       "    }\n",
       "\n",
       "    .dataframe tbody tr th {\n",
       "        vertical-align: top;\n",
       "    }\n",
       "\n",
       "    .dataframe thead th {\n",
       "        text-align: right;\n",
       "    }\n",
       "</style>\n",
       "<table border=\"1\" class=\"dataframe\">\n",
       "  <thead>\n",
       "    <tr style=\"text-align: right;\">\n",
       "      <th></th>\n",
       "      <th>url</th>\n",
       "      <th>Type</th>\n",
       "      <th>host</th>\n",
       "      <th>path</th>\n",
       "      <th>name</th>\n",
       "    </tr>\n",
       "  </thead>\n",
       "  <tbody>\n",
       "    <tr>\n",
       "      <th>1308349</th>\n",
       "      <td>http://yorkrite.com/ne/gcram/</td>\n",
       "      <td>Society</td>\n",
       "      <td>yorkrite.com</td>\n",
       "      <td>/ne/gcram/</td>\n",
       "      <td></td>\n",
       "    </tr>\n",
       "    <tr>\n",
       "      <th>276825</th>\n",
       "      <td>http://www.alliedartistsofamerica.org/</td>\n",
       "      <td>Arts</td>\n",
       "      <td>www.alliedartistsofamerica.org</td>\n",
       "      <td>/</td>\n",
       "      <td></td>\n",
       "    </tr>\n",
       "    <tr>\n",
       "      <th>1315267</th>\n",
       "      <td>http://www.msstate.edu/org/farmhouse/index.html</td>\n",
       "      <td>Society</td>\n",
       "      <td>www.msstate.edu</td>\n",
       "      <td>/org/farmhouse/index.html</td>\n",
       "      <td>index.html</td>\n",
       "    </tr>\n",
       "    <tr>\n",
       "      <th>392387</th>\n",
       "      <td>http://www.sunnytec.com.tw/</td>\n",
       "      <td>Business</td>\n",
       "      <td>www.sunnytec.com.tw</td>\n",
       "      <td>/</td>\n",
       "      <td></td>\n",
       "    </tr>\n",
       "    <tr>\n",
       "      <th>1267730</th>\n",
       "      <td>http://www.kabissa.org</td>\n",
       "      <td>Society</td>\n",
       "      <td>www.kabissa.org</td>\n",
       "      <td>/</td>\n",
       "      <td></td>\n",
       "    </tr>\n",
       "    <tr>\n",
       "      <th>...</th>\n",
       "      <td>...</td>\n",
       "      <td>...</td>\n",
       "      <td>...</td>\n",
       "      <td>...</td>\n",
       "      <td>...</td>\n",
       "    </tr>\n",
       "    <tr>\n",
       "      <th>169463</th>\n",
       "      <td>http://www.naxos.com/composerinfo/3303.htm</td>\n",
       "      <td>Arts</td>\n",
       "      <td>www.naxos.com</td>\n",
       "      <td>/composerinfo/3303.htm</td>\n",
       "      <td>3303.htm</td>\n",
       "    </tr>\n",
       "    <tr>\n",
       "      <th>1094461</th>\n",
       "      <td>http://members.tripod.com/arroweb1/</td>\n",
       "      <td>Science</td>\n",
       "      <td>members.tripod.com</td>\n",
       "      <td>/arroweb1/</td>\n",
       "      <td></td>\n",
       "    </tr>\n",
       "    <tr>\n",
       "      <th>526843</th>\n",
       "      <td>http://www.petroskills.com/</td>\n",
       "      <td>Business</td>\n",
       "      <td>www.petroskills.com</td>\n",
       "      <td>/</td>\n",
       "      <td></td>\n",
       "    </tr>\n",
       "    <tr>\n",
       "      <th>171473</th>\n",
       "      <td>http://www.gregbartholomew.com</td>\n",
       "      <td>Arts</td>\n",
       "      <td>www.gregbartholomew.com</td>\n",
       "      <td>/</td>\n",
       "      <td></td>\n",
       "    </tr>\n",
       "    <tr>\n",
       "      <th>277393</th>\n",
       "      <td>http://www.denysart.com</td>\n",
       "      <td>Arts</td>\n",
       "      <td>www.denysart.com</td>\n",
       "      <td>/</td>\n",
       "      <td></td>\n",
       "    </tr>\n",
       "  </tbody>\n",
       "</table>\n",
       "<p>10000 rows × 5 columns</p>\n",
       "</div>"
      ],
      "text/plain": [
       "                                                     url      Type  \\\n",
       "1308349                    http://yorkrite.com/ne/gcram/   Society   \n",
       "276825            http://www.alliedartistsofamerica.org/      Arts   \n",
       "1315267  http://www.msstate.edu/org/farmhouse/index.html   Society   \n",
       "392387                       http://www.sunnytec.com.tw/  Business   \n",
       "1267730                           http://www.kabissa.org   Society   \n",
       "...                                                  ...       ...   \n",
       "169463        http://www.naxos.com/composerinfo/3303.htm      Arts   \n",
       "1094461              http://members.tripod.com/arroweb1/   Science   \n",
       "526843                       http://www.petroskills.com/  Business   \n",
       "171473                    http://www.gregbartholomew.com      Arts   \n",
       "277393                           http://www.denysart.com      Arts   \n",
       "\n",
       "                                   host                       path        name  \n",
       "1308349                    yorkrite.com                 /ne/gcram/              \n",
       "276825   www.alliedartistsofamerica.org                          /              \n",
       "1315267                 www.msstate.edu  /org/farmhouse/index.html  index.html  \n",
       "392387              www.sunnytec.com.tw                          /              \n",
       "1267730                 www.kabissa.org                          /              \n",
       "...                                 ...                        ...         ...  \n",
       "169463                    www.naxos.com     /composerinfo/3303.htm    3303.htm  \n",
       "1094461              members.tripod.com                 /arroweb1/              \n",
       "526843              www.petroskills.com                          /              \n",
       "171473          www.gregbartholomew.com                          /              \n",
       "277393                 www.denysart.com                          /              \n",
       "\n",
       "[10000 rows x 5 columns]"
      ]
     },
     "execution_count": 17,
     "metadata": {},
     "output_type": "execute_result"
    },
    {
     "data": {
      "application/javascript": [
       "\n",
       "            setTimeout(function() {\n",
       "                var nbb_cell_id = 17;\n",
       "                var nbb_unformatted_code = \"processed = sample.assign(\\n    host=sample.url.apply(lambda url: url.host),\\n    path=sample.url.apply(lambda url: url.path),\\n    name=sample.url.apply(lambda url: url.name),\\n)\\nprocessed\";\n",
       "                var nbb_formatted_code = \"processed = sample.assign(\\n    host=sample.url.apply(lambda url: url.host),\\n    path=sample.url.apply(lambda url: url.path),\\n    name=sample.url.apply(lambda url: url.name),\\n)\\nprocessed\";\n",
       "                var nbb_cells = Jupyter.notebook.get_cells();\n",
       "                for (var i = 0; i < nbb_cells.length; ++i) {\n",
       "                    if (nbb_cells[i].input_prompt_number == nbb_cell_id) {\n",
       "                        if (nbb_cells[i].get_text() == nbb_unformatted_code) {\n",
       "                             nbb_cells[i].set_text(nbb_formatted_code);\n",
       "                        }\n",
       "                        break;\n",
       "                    }\n",
       "                }\n",
       "            }, 500);\n",
       "            "
      ],
      "text/plain": [
       "<IPython.core.display.Javascript object>"
      ]
     },
     "metadata": {},
     "output_type": "display_data"
    }
   ],
   "source": [
    "processed = sample.assign(\n",
    "    host=sample.url.apply(lambda url: url.host),\n",
    "    path=sample.url.apply(lambda url: url.path),\n",
    "    name=sample.url.apply(lambda url: url.name),\n",
    ")\n",
    "processed"
   ]
  },
  {
   "cell_type": "code",
   "execution_count": 210,
   "id": "b671a69d",
   "metadata": {
    "ExecuteTime": {
     "end_time": "2022-04-11T00:04:38.473842Z",
     "start_time": "2022-04-11T00:04:38.451686Z"
    }
   },
   "outputs": [
    {
     "data": {
      "text/html": [
       "<div>\n",
       "<style scoped>\n",
       "    .dataframe tbody tr th:only-of-type {\n",
       "        vertical-align: middle;\n",
       "    }\n",
       "\n",
       "    .dataframe tbody tr th {\n",
       "        vertical-align: top;\n",
       "    }\n",
       "\n",
       "    .dataframe thead th {\n",
       "        text-align: right;\n",
       "    }\n",
       "</style>\n",
       "<table border=\"1\" class=\"dataframe\">\n",
       "  <thead>\n",
       "    <tr style=\"text-align: right;\">\n",
       "      <th></th>\n",
       "      <th></th>\n",
       "      <th>count</th>\n",
       "    </tr>\n",
       "    <tr>\n",
       "      <th>Type</th>\n",
       "      <th>host</th>\n",
       "      <th></th>\n",
       "    </tr>\n",
       "  </thead>\n",
       "  <tbody>\n",
       "    <tr>\n",
       "      <th rowspan=\"5\" valign=\"top\">Adult</th>\n",
       "      <th>101fetishes.com</th>\n",
       "      <td>1</td>\n",
       "    </tr>\n",
       "    <tr>\n",
       "      <th>alpha-cow.com</th>\n",
       "      <td>1</td>\n",
       "    </tr>\n",
       "    <tr>\n",
       "      <th>amateursmut.com</th>\n",
       "      <td>1</td>\n",
       "    </tr>\n",
       "    <tr>\n",
       "      <th>bombes-orientales.netpass.tv</th>\n",
       "      <td>1</td>\n",
       "    </tr>\n",
       "    <tr>\n",
       "      <th>buzzerotica.tripod.com</th>\n",
       "      <td>1</td>\n",
       "    </tr>\n",
       "    <tr>\n",
       "      <th>...</th>\n",
       "      <th>...</th>\n",
       "      <td>...</td>\n",
       "    </tr>\n",
       "    <tr>\n",
       "      <th rowspan=\"5\" valign=\"top\">Sports</th>\n",
       "      <th>www.wsstats.com</th>\n",
       "      <td>1</td>\n",
       "    </tr>\n",
       "    <tr>\n",
       "      <th>www.wtdefence.com</th>\n",
       "      <td>1</td>\n",
       "    </tr>\n",
       "    <tr>\n",
       "      <th>www.yantu.com</th>\n",
       "      <td>1</td>\n",
       "    </tr>\n",
       "    <tr>\n",
       "      <th>www.yarmrugbyclub.co.uk</th>\n",
       "      <td>1</td>\n",
       "    </tr>\n",
       "    <tr>\n",
       "      <th>www2.wilmington.edu</th>\n",
       "      <td>1</td>\n",
       "    </tr>\n",
       "  </tbody>\n",
       "</table>\n",
       "<p>8746 rows × 1 columns</p>\n",
       "</div>"
      ],
      "text/plain": [
       "                                     count\n",
       "Type   host                               \n",
       "Adult  101fetishes.com                   1\n",
       "       alpha-cow.com                     1\n",
       "       amateursmut.com                   1\n",
       "       bombes-orientales.netpass.tv      1\n",
       "       buzzerotica.tripod.com            1\n",
       "...                                    ...\n",
       "Sports www.wsstats.com                   1\n",
       "       www.wtdefence.com                 1\n",
       "       www.yantu.com                     1\n",
       "       www.yarmrugbyclub.co.uk           1\n",
       "       www2.wilmington.edu               1\n",
       "\n",
       "[8746 rows x 1 columns]"
      ]
     },
     "execution_count": 210,
     "metadata": {},
     "output_type": "execute_result"
    },
    {
     "data": {
      "application/javascript": [
       "\n",
       "            setTimeout(function() {\n",
       "                var nbb_cell_id = 210;\n",
       "                var nbb_unformatted_code = \"group = processed.groupby([\\\"Type\\\", \\\"host\\\"]).agg(count=(\\\"url\\\", \\\"count\\\"))\\ngroup\";\n",
       "                var nbb_formatted_code = \"group = processed.groupby([\\\"Type\\\", \\\"host\\\"]).agg(count=(\\\"url\\\", \\\"count\\\"))\\ngroup\";\n",
       "                var nbb_cells = Jupyter.notebook.get_cells();\n",
       "                for (var i = 0; i < nbb_cells.length; ++i) {\n",
       "                    if (nbb_cells[i].input_prompt_number == nbb_cell_id) {\n",
       "                        if (nbb_cells[i].get_text() == nbb_unformatted_code) {\n",
       "                             nbb_cells[i].set_text(nbb_formatted_code);\n",
       "                        }\n",
       "                        break;\n",
       "                    }\n",
       "                }\n",
       "            }, 500);\n",
       "            "
      ],
      "text/plain": [
       "<IPython.core.display.Javascript object>"
      ]
     },
     "metadata": {},
     "output_type": "display_data"
    }
   ],
   "source": [
    "group = processed.groupby([\"Type\", \"host\"]).agg(count=(\"url\", \"count\"))\n",
    "group"
   ]
  },
  {
   "cell_type": "code",
   "execution_count": 213,
   "id": "92dbdf2c",
   "metadata": {
    "ExecuteTime": {
     "end_time": "2022-04-11T00:05:36.703372Z",
     "start_time": "2022-04-11T00:05:36.692342Z"
    }
   },
   "outputs": [
    {
     "data": {
      "text/html": [
       "<div>\n",
       "<style scoped>\n",
       "    .dataframe tbody tr th:only-of-type {\n",
       "        vertical-align: middle;\n",
       "    }\n",
       "\n",
       "    .dataframe tbody tr th {\n",
       "        vertical-align: top;\n",
       "    }\n",
       "\n",
       "    .dataframe thead th {\n",
       "        text-align: right;\n",
       "    }\n",
       "</style>\n",
       "<table border=\"1\" class=\"dataframe\">\n",
       "  <thead>\n",
       "    <tr style=\"text-align: right;\">\n",
       "      <th></th>\n",
       "      <th>Type</th>\n",
       "      <th>host</th>\n",
       "      <th>count</th>\n",
       "    </tr>\n",
       "  </thead>\n",
       "  <tbody>\n",
       "    <tr>\n",
       "      <th>0</th>\n",
       "      <td>Arts</td>\n",
       "      <td>www.geocities.com</td>\n",
       "      <td>113</td>\n",
       "    </tr>\n",
       "    <tr>\n",
       "      <th>1</th>\n",
       "      <td>Society</td>\n",
       "      <td>www.newadvent.org</td>\n",
       "      <td>91</td>\n",
       "    </tr>\n",
       "    <tr>\n",
       "      <th>2</th>\n",
       "      <td>Arts</td>\n",
       "      <td>www.angelfire.com</td>\n",
       "      <td>69</td>\n",
       "    </tr>\n",
       "    <tr>\n",
       "      <th>3</th>\n",
       "      <td>Society</td>\n",
       "      <td>www.geocities.com</td>\n",
       "      <td>56</td>\n",
       "    </tr>\n",
       "    <tr>\n",
       "      <th>4</th>\n",
       "      <td>Recreation</td>\n",
       "      <td>www.geocities.com</td>\n",
       "      <td>47</td>\n",
       "    </tr>\n",
       "    <tr>\n",
       "      <th>...</th>\n",
       "      <td>...</td>\n",
       "      <td>...</td>\n",
       "      <td>...</td>\n",
       "    </tr>\n",
       "    <tr>\n",
       "      <th>8741</th>\n",
       "      <td>Business</td>\n",
       "      <td>www.wilmslow-audio.co.uk</td>\n",
       "      <td>1</td>\n",
       "    </tr>\n",
       "    <tr>\n",
       "      <th>8742</th>\n",
       "      <td>Business</td>\n",
       "      <td>www.whitingcorp.com</td>\n",
       "      <td>1</td>\n",
       "    </tr>\n",
       "    <tr>\n",
       "      <th>8743</th>\n",
       "      <td>Business</td>\n",
       "      <td>www.whitesuffolk.org.au</td>\n",
       "      <td>1</td>\n",
       "    </tr>\n",
       "    <tr>\n",
       "      <th>8744</th>\n",
       "      <td>Business</td>\n",
       "      <td>www.whitebredshorthorn.com</td>\n",
       "      <td>1</td>\n",
       "    </tr>\n",
       "    <tr>\n",
       "      <th>8745</th>\n",
       "      <td>Sports</td>\n",
       "      <td>www2.wilmington.edu</td>\n",
       "      <td>1</td>\n",
       "    </tr>\n",
       "  </tbody>\n",
       "</table>\n",
       "<p>8746 rows × 3 columns</p>\n",
       "</div>"
      ],
      "text/plain": [
       "            Type                        host  count\n",
       "0           Arts           www.geocities.com    113\n",
       "1        Society           www.newadvent.org     91\n",
       "2           Arts           www.angelfire.com     69\n",
       "3        Society           www.geocities.com     56\n",
       "4     Recreation           www.geocities.com     47\n",
       "...          ...                         ...    ...\n",
       "8741    Business    www.wilmslow-audio.co.uk      1\n",
       "8742    Business         www.whitingcorp.com      1\n",
       "8743    Business     www.whitesuffolk.org.au      1\n",
       "8744    Business  www.whitebredshorthorn.com      1\n",
       "8745      Sports         www2.wilmington.edu      1\n",
       "\n",
       "[8746 rows x 3 columns]"
      ]
     },
     "execution_count": 213,
     "metadata": {},
     "output_type": "execute_result"
    },
    {
     "data": {
      "application/javascript": [
       "\n",
       "            setTimeout(function() {\n",
       "                var nbb_cell_id = 213;\n",
       "                var nbb_unformatted_code = \"sorted_group = group.sort_values(by=\\\"count\\\", ascending=False).reset_index()\\nsorted_group\";\n",
       "                var nbb_formatted_code = \"sorted_group = group.sort_values(by=\\\"count\\\", ascending=False).reset_index()\\nsorted_group\";\n",
       "                var nbb_cells = Jupyter.notebook.get_cells();\n",
       "                for (var i = 0; i < nbb_cells.length; ++i) {\n",
       "                    if (nbb_cells[i].input_prompt_number == nbb_cell_id) {\n",
       "                        if (nbb_cells[i].get_text() == nbb_unformatted_code) {\n",
       "                             nbb_cells[i].set_text(nbb_formatted_code);\n",
       "                        }\n",
       "                        break;\n",
       "                    }\n",
       "                }\n",
       "            }, 500);\n",
       "            "
      ],
      "text/plain": [
       "<IPython.core.display.Javascript object>"
      ]
     },
     "metadata": {},
     "output_type": "display_data"
    }
   ],
   "source": [
    "sorted_group = group.sort_values(by=\"count\", ascending=False).reset_index()\n",
    "sorted_group"
   ]
  },
  {
   "cell_type": "code",
   "execution_count": 218,
   "id": "cf20bd8f",
   "metadata": {
    "ExecuteTime": {
     "end_time": "2022-04-11T00:06:51.871075Z",
     "start_time": "2022-04-11T00:06:51.860541Z"
    }
   },
   "outputs": [
    {
     "data": {
      "text/html": [
       "<div>\n",
       "<style scoped>\n",
       "    .dataframe tbody tr th:only-of-type {\n",
       "        vertical-align: middle;\n",
       "    }\n",
       "\n",
       "    .dataframe tbody tr th {\n",
       "        vertical-align: top;\n",
       "    }\n",
       "\n",
       "    .dataframe thead th {\n",
       "        text-align: right;\n",
       "    }\n",
       "</style>\n",
       "<table border=\"1\" class=\"dataframe\">\n",
       "  <thead>\n",
       "    <tr style=\"text-align: right;\">\n",
       "      <th></th>\n",
       "      <th>Type</th>\n",
       "      <th>host</th>\n",
       "      <th>count</th>\n",
       "    </tr>\n",
       "  </thead>\n",
       "  <tbody>\n",
       "    <tr>\n",
       "      <th>0</th>\n",
       "      <td>Arts</td>\n",
       "      <td>www.geocities.com</td>\n",
       "      <td>113</td>\n",
       "    </tr>\n",
       "    <tr>\n",
       "      <th>1</th>\n",
       "      <td>Society</td>\n",
       "      <td>www.newadvent.org</td>\n",
       "      <td>91</td>\n",
       "    </tr>\n",
       "    <tr>\n",
       "      <th>2</th>\n",
       "      <td>Arts</td>\n",
       "      <td>www.angelfire.com</td>\n",
       "      <td>69</td>\n",
       "    </tr>\n",
       "    <tr>\n",
       "      <th>3</th>\n",
       "      <td>Society</td>\n",
       "      <td>www.geocities.com</td>\n",
       "      <td>56</td>\n",
       "    </tr>\n",
       "    <tr>\n",
       "      <th>4</th>\n",
       "      <td>Recreation</td>\n",
       "      <td>www.geocities.com</td>\n",
       "      <td>47</td>\n",
       "    </tr>\n",
       "    <tr>\n",
       "      <th>...</th>\n",
       "      <td>...</td>\n",
       "      <td>...</td>\n",
       "      <td>...</td>\n",
       "    </tr>\n",
       "    <tr>\n",
       "      <th>1339</th>\n",
       "      <td>News</td>\n",
       "      <td>www.scottolsonphotography.com</td>\n",
       "      <td>1</td>\n",
       "    </tr>\n",
       "    <tr>\n",
       "      <th>1340</th>\n",
       "      <td>News</td>\n",
       "      <td>www.postindependent.com</td>\n",
       "      <td>1</td>\n",
       "    </tr>\n",
       "    <tr>\n",
       "      <th>1341</th>\n",
       "      <td>News</td>\n",
       "      <td>www.pgpost.com</td>\n",
       "      <td>1</td>\n",
       "    </tr>\n",
       "    <tr>\n",
       "      <th>1342</th>\n",
       "      <td>News</td>\n",
       "      <td>www.perspectives.ubc.ca</td>\n",
       "      <td>1</td>\n",
       "    </tr>\n",
       "    <tr>\n",
       "      <th>1343</th>\n",
       "      <td>News</td>\n",
       "      <td>www.oregonlive.com</td>\n",
       "      <td>1</td>\n",
       "    </tr>\n",
       "  </tbody>\n",
       "</table>\n",
       "<p>75 rows × 3 columns</p>\n",
       "</div>"
      ],
      "text/plain": [
       "            Type                           host  count\n",
       "0           Arts              www.geocities.com    113\n",
       "1        Society              www.newadvent.org     91\n",
       "2           Arts              www.angelfire.com     69\n",
       "3        Society              www.geocities.com     56\n",
       "4     Recreation              www.geocities.com     47\n",
       "...          ...                            ...    ...\n",
       "1339        News  www.scottolsonphotography.com      1\n",
       "1340        News        www.postindependent.com      1\n",
       "1341        News                 www.pgpost.com      1\n",
       "1342        News        www.perspectives.ubc.ca      1\n",
       "1343        News             www.oregonlive.com      1\n",
       "\n",
       "[75 rows x 3 columns]"
      ]
     },
     "execution_count": 218,
     "metadata": {},
     "output_type": "execute_result"
    },
    {
     "data": {
      "application/javascript": [
       "\n",
       "            setTimeout(function() {\n",
       "                var nbb_cell_id = 218;\n",
       "                var nbb_unformatted_code = \"largest = sorted_group.groupby(\\\"Type\\\").head(5)\\nlargest\";\n",
       "                var nbb_formatted_code = \"largest = sorted_group.groupby(\\\"Type\\\").head(5)\\nlargest\";\n",
       "                var nbb_cells = Jupyter.notebook.get_cells();\n",
       "                for (var i = 0; i < nbb_cells.length; ++i) {\n",
       "                    if (nbb_cells[i].input_prompt_number == nbb_cell_id) {\n",
       "                        if (nbb_cells[i].get_text() == nbb_unformatted_code) {\n",
       "                             nbb_cells[i].set_text(nbb_formatted_code);\n",
       "                        }\n",
       "                        break;\n",
       "                    }\n",
       "                }\n",
       "            }, 500);\n",
       "            "
      ],
      "text/plain": [
       "<IPython.core.display.Javascript object>"
      ]
     },
     "metadata": {},
     "output_type": "display_data"
    }
   ],
   "source": [
    "largest = sorted_group.groupby(\"Type\").head(5)\n",
    "largest"
   ]
  },
  {
   "cell_type": "code",
   "execution_count": 255,
   "id": "205f2725",
   "metadata": {
    "ExecuteTime": {
     "end_time": "2022-04-11T00:32:41.335061Z",
     "start_time": "2022-04-11T00:32:41.330306Z"
    }
   },
   "outputs": [
    {
     "data": {
      "application/javascript": [
       "\n",
       "            setTimeout(function() {\n",
       "                var nbb_cell_id = 255;\n",
       "                var nbb_unformatted_code = \"edges = largest[[\\\"Type\\\", \\\"host\\\"]]\";\n",
       "                var nbb_formatted_code = \"edges = largest[[\\\"Type\\\", \\\"host\\\"]]\";\n",
       "                var nbb_cells = Jupyter.notebook.get_cells();\n",
       "                for (var i = 0; i < nbb_cells.length; ++i) {\n",
       "                    if (nbb_cells[i].input_prompt_number == nbb_cell_id) {\n",
       "                        if (nbb_cells[i].get_text() == nbb_unformatted_code) {\n",
       "                             nbb_cells[i].set_text(nbb_formatted_code);\n",
       "                        }\n",
       "                        break;\n",
       "                    }\n",
       "                }\n",
       "            }, 500);\n",
       "            "
      ],
      "text/plain": [
       "<IPython.core.display.Javascript object>"
      ]
     },
     "metadata": {},
     "output_type": "display_data"
    }
   ],
   "source": [
    "edges = largest[[\"Type\", \"host\"]]"
   ]
  },
  {
   "cell_type": "code",
   "execution_count": 265,
   "id": "9459c8af",
   "metadata": {
    "ExecuteTime": {
     "end_time": "2022-04-11T00:36:32.901983Z",
     "start_time": "2022-04-11T00:36:32.893328Z"
    }
   },
   "outputs": [
    {
     "data": {
      "application/javascript": [
       "\n",
       "            setTimeout(function() {\n",
       "                var nbb_cell_id = 265;\n",
       "                var nbb_unformatted_code = \"def create_node_df(df: pd.DataFrame, col_name: str):\\n    nodes = (\\n        df[[col_name]]\\n        .assign(type=col_name)\\n        .rename(columns={col_name: \\\"node\\\"})\\n        .drop_duplicates()\\n    )\\n    return nodes\";\n",
       "                var nbb_formatted_code = \"def create_node_df(df: pd.DataFrame, col_name: str):\\n    nodes = (\\n        df[[col_name]]\\n        .assign(type=col_name)\\n        .rename(columns={col_name: \\\"node\\\"})\\n        .drop_duplicates()\\n    )\\n    return nodes\";\n",
       "                var nbb_cells = Jupyter.notebook.get_cells();\n",
       "                for (var i = 0; i < nbb_cells.length; ++i) {\n",
       "                    if (nbb_cells[i].input_prompt_number == nbb_cell_id) {\n",
       "                        if (nbb_cells[i].get_text() == nbb_unformatted_code) {\n",
       "                             nbb_cells[i].set_text(nbb_formatted_code);\n",
       "                        }\n",
       "                        break;\n",
       "                    }\n",
       "                }\n",
       "            }, 500);\n",
       "            "
      ],
      "text/plain": [
       "<IPython.core.display.Javascript object>"
      ]
     },
     "metadata": {},
     "output_type": "display_data"
    }
   ],
   "source": [
    "def create_node_df(df: pd.DataFrame, col_name: str):\n",
    "    nodes = (\n",
    "        df[[col_name]]\n",
    "        .assign(type=col_name)\n",
    "        .rename(columns={col_name: \"node\"})\n",
    "        .drop_duplicates()\n",
    "    )\n",
    "    return nodes"
   ]
  },
  {
   "cell_type": "code",
   "execution_count": 271,
   "id": "b2ef43d8",
   "metadata": {
    "ExecuteTime": {
     "end_time": "2022-04-11T00:40:37.203965Z",
     "start_time": "2022-04-11T00:40:37.186019Z"
    }
   },
   "outputs": [
    {
     "data": {
      "text/html": [
       "<div>\n",
       "<style scoped>\n",
       "    .dataframe tbody tr th:only-of-type {\n",
       "        vertical-align: middle;\n",
       "    }\n",
       "\n",
       "    .dataframe tbody tr th {\n",
       "        vertical-align: top;\n",
       "    }\n",
       "\n",
       "    .dataframe thead th {\n",
       "        text-align: right;\n",
       "    }\n",
       "</style>\n",
       "<table border=\"1\" class=\"dataframe\">\n",
       "  <thead>\n",
       "    <tr style=\"text-align: right;\">\n",
       "      <th></th>\n",
       "      <th>node</th>\n",
       "      <th>type</th>\n",
       "    </tr>\n",
       "  </thead>\n",
       "  <tbody>\n",
       "    <tr>\n",
       "      <th>0</th>\n",
       "      <td>Arts</td>\n",
       "      <td>Type</td>\n",
       "    </tr>\n",
       "    <tr>\n",
       "      <th>1</th>\n",
       "      <td>Society</td>\n",
       "      <td>Type</td>\n",
       "    </tr>\n",
       "    <tr>\n",
       "      <th>4</th>\n",
       "      <td>Recreation</td>\n",
       "      <td>Type</td>\n",
       "    </tr>\n",
       "    <tr>\n",
       "      <th>6</th>\n",
       "      <td>Games</td>\n",
       "      <td>Type</td>\n",
       "    </tr>\n",
       "    <tr>\n",
       "      <th>9</th>\n",
       "      <td>Computers</td>\n",
       "      <td>Type</td>\n",
       "    </tr>\n",
       "    <tr>\n",
       "      <th>11</th>\n",
       "      <td>Sports</td>\n",
       "      <td>Type</td>\n",
       "    </tr>\n",
       "    <tr>\n",
       "      <th>13</th>\n",
       "      <td>Science</td>\n",
       "      <td>Type</td>\n",
       "    </tr>\n",
       "    <tr>\n",
       "      <th>14</th>\n",
       "      <td>Health</td>\n",
       "      <td>Type</td>\n",
       "    </tr>\n",
       "    <tr>\n",
       "      <th>18</th>\n",
       "      <td>Home</td>\n",
       "      <td>Type</td>\n",
       "    </tr>\n",
       "    <tr>\n",
       "      <th>28</th>\n",
       "      <td>Kids</td>\n",
       "      <td>Type</td>\n",
       "    </tr>\n",
       "    <tr>\n",
       "      <th>34</th>\n",
       "      <td>Shopping</td>\n",
       "      <td>Type</td>\n",
       "    </tr>\n",
       "    <tr>\n",
       "      <th>66</th>\n",
       "      <td>Reference</td>\n",
       "      <td>Type</td>\n",
       "    </tr>\n",
       "    <tr>\n",
       "      <th>70</th>\n",
       "      <td>Business</td>\n",
       "      <td>Type</td>\n",
       "    </tr>\n",
       "    <tr>\n",
       "      <th>77</th>\n",
       "      <td>Adult</td>\n",
       "      <td>Type</td>\n",
       "    </tr>\n",
       "    <tr>\n",
       "      <th>1339</th>\n",
       "      <td>News</td>\n",
       "      <td>Type</td>\n",
       "    </tr>\n",
       "    <tr>\n",
       "      <th>0</th>\n",
       "      <td>www.geocities.com</td>\n",
       "      <td>host</td>\n",
       "    </tr>\n",
       "    <tr>\n",
       "      <th>1</th>\n",
       "      <td>www.newadvent.org</td>\n",
       "      <td>host</td>\n",
       "    </tr>\n",
       "    <tr>\n",
       "      <th>2</th>\n",
       "      <td>www.angelfire.com</td>\n",
       "      <td>host</td>\n",
       "    </tr>\n",
       "    <tr>\n",
       "      <th>5</th>\n",
       "      <td>us.imdb.com</td>\n",
       "      <td>host</td>\n",
       "    </tr>\n",
       "    <tr>\n",
       "      <th>8</th>\n",
       "      <td>members.tripod.com</td>\n",
       "      <td>host</td>\n",
       "    </tr>\n",
       "    <tr>\n",
       "      <th>9</th>\n",
       "      <td>tools.ietf.org</td>\n",
       "      <td>host</td>\n",
       "    </tr>\n",
       "    <tr>\n",
       "      <th>10</th>\n",
       "      <td>www.gamespot.com</td>\n",
       "      <td>host</td>\n",
       "    </tr>\n",
       "    <tr>\n",
       "      <th>12</th>\n",
       "      <td>www.imdb.com</td>\n",
       "      <td>host</td>\n",
       "    </tr>\n",
       "    <tr>\n",
       "      <th>14</th>\n",
       "      <td>www.rxlist.com</td>\n",
       "      <td>host</td>\n",
       "    </tr>\n",
       "    <tr>\n",
       "      <th>18</th>\n",
       "      <td>www.recipesource.com</td>\n",
       "      <td>host</td>\n",
       "    </tr>\n",
       "    <tr>\n",
       "      <th>21</th>\n",
       "      <td>florawww.eeb.uconn.edu</td>\n",
       "      <td>host</td>\n",
       "    </tr>\n",
       "    <tr>\n",
       "      <th>25</th>\n",
       "      <td>en.wikipedia.org</td>\n",
       "      <td>host</td>\n",
       "    </tr>\n",
       "    <tr>\n",
       "      <th>28</th>\n",
       "      <td>www.freewebs.com</td>\n",
       "      <td>host</td>\n",
       "    </tr>\n",
       "    <tr>\n",
       "      <th>35</th>\n",
       "      <td>sportsillustrated.cnn.com</td>\n",
       "      <td>host</td>\n",
       "    </tr>\n",
       "    <tr>\n",
       "      <th>41</th>\n",
       "      <td>www.gamefaqs.com</td>\n",
       "      <td>host</td>\n",
       "    </tr>\n",
       "    <tr>\n",
       "      <th>42</th>\n",
       "      <td>ip30.eti.uva.nl</td>\n",
       "      <td>host</td>\n",
       "    </tr>\n",
       "    <tr>\n",
       "      <th>45</th>\n",
       "      <td>www.clubwebsite.co.uk</td>\n",
       "      <td>host</td>\n",
       "    </tr>\n",
       "    <tr>\n",
       "      <th>51</th>\n",
       "      <td>groups.yahoo.com</td>\n",
       "      <td>host</td>\n",
       "    </tr>\n",
       "    <tr>\n",
       "      <th>52</th>\n",
       "      <td>www.gaming-age.com</td>\n",
       "      <td>host</td>\n",
       "    </tr>\n",
       "    <tr>\n",
       "      <th>66</th>\n",
       "      <td>www.sfu.ca</td>\n",
       "      <td>host</td>\n",
       "    </tr>\n",
       "    <tr>\n",
       "      <th>99</th>\n",
       "      <td>www.recipezaar.com</td>\n",
       "      <td>host</td>\n",
       "    </tr>\n",
       "    <tr>\n",
       "      <th>109</th>\n",
       "      <td>uk.gamespot.com</td>\n",
       "      <td>host</td>\n",
       "    </tr>\n",
       "    <tr>\n",
       "      <th>110</th>\n",
       "      <td>flagspot.net</td>\n",
       "      <td>host</td>\n",
       "    </tr>\n",
       "    <tr>\n",
       "      <th>111</th>\n",
       "      <td>kids.aol.com</td>\n",
       "      <td>host</td>\n",
       "    </tr>\n",
       "    <tr>\n",
       "      <th>112</th>\n",
       "      <td>www.uvm.edu</td>\n",
       "      <td>host</td>\n",
       "    </tr>\n",
       "    <tr>\n",
       "      <th>115</th>\n",
       "      <td>www.realgoodporn.com</td>\n",
       "      <td>host</td>\n",
       "    </tr>\n",
       "    <tr>\n",
       "      <th>126</th>\n",
       "      <td>www.nlm.nih.gov</td>\n",
       "      <td>host</td>\n",
       "    </tr>\n",
       "    <tr>\n",
       "      <th>127</th>\n",
       "      <td>www.ninds.nih.gov</td>\n",
       "      <td>host</td>\n",
       "    </tr>\n",
       "    <tr>\n",
       "      <th>129</th>\n",
       "      <td>sourceforge.net</td>\n",
       "      <td>host</td>\n",
       "    </tr>\n",
       "    <tr>\n",
       "      <th>165</th>\n",
       "      <td>www.pwc.com</td>\n",
       "      <td>host</td>\n",
       "    </tr>\n",
       "    <tr>\n",
       "      <th>201</th>\n",
       "      <td>www.cs.arizona.edu</td>\n",
       "      <td>host</td>\n",
       "    </tr>\n",
       "    <tr>\n",
       "      <th>229</th>\n",
       "      <td>www.autexrj.org</td>\n",
       "      <td>host</td>\n",
       "    </tr>\n",
       "    <tr>\n",
       "      <th>268</th>\n",
       "      <td>www.ithaca.edu</td>\n",
       "      <td>host</td>\n",
       "    </tr>\n",
       "    <tr>\n",
       "      <th>271</th>\n",
       "      <td>www.smith.edu</td>\n",
       "      <td>host</td>\n",
       "    </tr>\n",
       "    <tr>\n",
       "      <th>286</th>\n",
       "      <td>www.almightyzeus.com</td>\n",
       "      <td>host</td>\n",
       "    </tr>\n",
       "    <tr>\n",
       "      <th>729</th>\n",
       "      <td>busypersonscookbook.com</td>\n",
       "      <td>host</td>\n",
       "    </tr>\n",
       "    <tr>\n",
       "      <th>1339</th>\n",
       "      <td>www.scottolsonphotography.com</td>\n",
       "      <td>host</td>\n",
       "    </tr>\n",
       "    <tr>\n",
       "      <th>1340</th>\n",
       "      <td>www.postindependent.com</td>\n",
       "      <td>host</td>\n",
       "    </tr>\n",
       "    <tr>\n",
       "      <th>1341</th>\n",
       "      <td>www.pgpost.com</td>\n",
       "      <td>host</td>\n",
       "    </tr>\n",
       "    <tr>\n",
       "      <th>1342</th>\n",
       "      <td>www.perspectives.ubc.ca</td>\n",
       "      <td>host</td>\n",
       "    </tr>\n",
       "    <tr>\n",
       "      <th>1343</th>\n",
       "      <td>www.oregonlive.com</td>\n",
       "      <td>host</td>\n",
       "    </tr>\n",
       "  </tbody>\n",
       "</table>\n",
       "</div>"
      ],
      "text/plain": [
       "                               node  type\n",
       "0                              Arts  Type\n",
       "1                           Society  Type\n",
       "4                        Recreation  Type\n",
       "6                             Games  Type\n",
       "9                         Computers  Type\n",
       "11                           Sports  Type\n",
       "13                          Science  Type\n",
       "14                           Health  Type\n",
       "18                             Home  Type\n",
       "28                             Kids  Type\n",
       "34                         Shopping  Type\n",
       "66                        Reference  Type\n",
       "70                         Business  Type\n",
       "77                            Adult  Type\n",
       "1339                           News  Type\n",
       "0                 www.geocities.com  host\n",
       "1                 www.newadvent.org  host\n",
       "2                 www.angelfire.com  host\n",
       "5                       us.imdb.com  host\n",
       "8                members.tripod.com  host\n",
       "9                    tools.ietf.org  host\n",
       "10                 www.gamespot.com  host\n",
       "12                     www.imdb.com  host\n",
       "14                   www.rxlist.com  host\n",
       "18             www.recipesource.com  host\n",
       "21           florawww.eeb.uconn.edu  host\n",
       "25                 en.wikipedia.org  host\n",
       "28                 www.freewebs.com  host\n",
       "35        sportsillustrated.cnn.com  host\n",
       "41                 www.gamefaqs.com  host\n",
       "42                  ip30.eti.uva.nl  host\n",
       "45            www.clubwebsite.co.uk  host\n",
       "51                 groups.yahoo.com  host\n",
       "52               www.gaming-age.com  host\n",
       "66                       www.sfu.ca  host\n",
       "99               www.recipezaar.com  host\n",
       "109                 uk.gamespot.com  host\n",
       "110                    flagspot.net  host\n",
       "111                    kids.aol.com  host\n",
       "112                     www.uvm.edu  host\n",
       "115            www.realgoodporn.com  host\n",
       "126                 www.nlm.nih.gov  host\n",
       "127               www.ninds.nih.gov  host\n",
       "129                 sourceforge.net  host\n",
       "165                     www.pwc.com  host\n",
       "201              www.cs.arizona.edu  host\n",
       "229                 www.autexrj.org  host\n",
       "268                  www.ithaca.edu  host\n",
       "271                   www.smith.edu  host\n",
       "286            www.almightyzeus.com  host\n",
       "729         busypersonscookbook.com  host\n",
       "1339  www.scottolsonphotography.com  host\n",
       "1340        www.postindependent.com  host\n",
       "1341                 www.pgpost.com  host\n",
       "1342        www.perspectives.ubc.ca  host\n",
       "1343             www.oregonlive.com  host"
      ]
     },
     "execution_count": 271,
     "metadata": {},
     "output_type": "execute_result"
    },
    {
     "data": {
      "application/javascript": [
       "\n",
       "            setTimeout(function() {\n",
       "                var nbb_cell_id = 271;\n",
       "                var nbb_unformatted_code = \"type_nodes = create_node_df(largest, \\\"Type\\\")\\nurl_nodes = create_node_df(largest, \\\"host\\\")\\nnodes = pd.concat([type_nodes, url_nodes])\\nnodes\";\n",
       "                var nbb_formatted_code = \"type_nodes = create_node_df(largest, \\\"Type\\\")\\nurl_nodes = create_node_df(largest, \\\"host\\\")\\nnodes = pd.concat([type_nodes, url_nodes])\\nnodes\";\n",
       "                var nbb_cells = Jupyter.notebook.get_cells();\n",
       "                for (var i = 0; i < nbb_cells.length; ++i) {\n",
       "                    if (nbb_cells[i].input_prompt_number == nbb_cell_id) {\n",
       "                        if (nbb_cells[i].get_text() == nbb_unformatted_code) {\n",
       "                             nbb_cells[i].set_text(nbb_formatted_code);\n",
       "                        }\n",
       "                        break;\n",
       "                    }\n",
       "                }\n",
       "            }, 500);\n",
       "            "
      ],
      "text/plain": [
       "<IPython.core.display.Javascript object>"
      ]
     },
     "metadata": {},
     "output_type": "display_data"
    }
   ],
   "source": [
    "type_nodes = create_node_df(largest, \"Type\")\n",
    "url_nodes = create_node_df(largest, \"host\")\n",
    "nodes = pd.concat([type_nodes, url_nodes])\n",
    "nodes"
   ]
  },
  {
   "cell_type": "code",
   "execution_count": null,
   "id": "f08bbfa5",
   "metadata": {},
   "outputs": [],
   "source": [
    "from dotenv import load_dotenv\n",
    "import os\n",
    "\n",
    "load_dotenv()\n",
    "PASSWORD = os.getenv(\"GRAPHISTRY_PASSWORD\")\n",
    "USERNAME = os.getenv(\"GRAPHISTRY_USERNAME\")"
   ]
  },
  {
   "cell_type": "code",
   "execution_count": 171,
   "id": "f1abaedb",
   "metadata": {
    "ExecuteTime": {
     "end_time": "2022-04-10T23:41:34.693646Z",
     "start_time": "2022-04-10T23:41:34.278339Z"
    }
   },
   "outputs": [
    {
     "data": {
      "application/javascript": [
       "\n",
       "            setTimeout(function() {\n",
       "                var nbb_cell_id = 171;\n",
       "                var nbb_unformatted_code = \"import graphistry\\n\\ngraphistry.register(api=3, username='khuyentran1401', password='Cun@1401')  \";\n",
       "                var nbb_formatted_code = \"import graphistry\\n\\ngraphistry.register(api=3, username=\\\"khuyentran1401\\\", password=\\\"Cun@1401\\\")\";\n",
       "                var nbb_cells = Jupyter.notebook.get_cells();\n",
       "                for (var i = 0; i < nbb_cells.length; ++i) {\n",
       "                    if (nbb_cells[i].input_prompt_number == nbb_cell_id) {\n",
       "                        if (nbb_cells[i].get_text() == nbb_unformatted_code) {\n",
       "                             nbb_cells[i].set_text(nbb_formatted_code);\n",
       "                        }\n",
       "                        break;\n",
       "                    }\n",
       "                }\n",
       "            }, 500);\n",
       "            "
      ],
      "text/plain": [
       "<IPython.core.display.Javascript object>"
      ]
     },
     "metadata": {},
     "output_type": "display_data"
    }
   ],
   "source": [
    "import graphistry\n",
    "\n",
    "graphistry.register(api=3, username=USERNAME, password=PASSWORD)"
   ]
  },
  {
   "cell_type": "code",
   "execution_count": 243,
   "id": "d508a671",
   "metadata": {
    "ExecuteTime": {
     "end_time": "2022-04-11T00:26:17.690779Z",
     "start_time": "2022-04-11T00:26:17.684757Z"
    }
   },
   "outputs": [
    {
     "data": {
      "text/plain": [
       "['Arts',\n",
       " 'Society',\n",
       " 'Recreation',\n",
       " 'Games',\n",
       " 'Computers',\n",
       " 'Sports',\n",
       " 'Science',\n",
       " 'Health',\n",
       " 'Home',\n",
       " 'Kids',\n",
       " 'Shopping',\n",
       " 'Reference',\n",
       " 'Business',\n",
       " 'Adult',\n",
       " 'News']"
      ]
     },
     "execution_count": 243,
     "metadata": {},
     "output_type": "execute_result"
    },
    {
     "data": {
      "application/javascript": [
       "\n",
       "            setTimeout(function() {\n",
       "                var nbb_cell_id = 243;\n",
       "                var nbb_unformatted_code = \"types = list(edges.Type.unique())\\ntypes\";\n",
       "                var nbb_formatted_code = \"types = list(edges.Type.unique())\\ntypes\";\n",
       "                var nbb_cells = Jupyter.notebook.get_cells();\n",
       "                for (var i = 0; i < nbb_cells.length; ++i) {\n",
       "                    if (nbb_cells[i].input_prompt_number == nbb_cell_id) {\n",
       "                        if (nbb_cells[i].get_text() == nbb_unformatted_code) {\n",
       "                             nbb_cells[i].set_text(nbb_formatted_code);\n",
       "                        }\n",
       "                        break;\n",
       "                    }\n",
       "                }\n",
       "            }, 500);\n",
       "            "
      ],
      "text/plain": [
       "<IPython.core.display.Javascript object>"
      ]
     },
     "metadata": {},
     "output_type": "display_data"
    }
   ],
   "source": [
    "types = list(edges.Type.unique())\n",
    "types"
   ]
  },
  {
   "cell_type": "code",
   "execution_count": 279,
   "id": "1e3e63ff",
   "metadata": {
    "ExecuteTime": {
     "end_time": "2022-04-11T00:53:54.252108Z",
     "start_time": "2022-04-11T00:53:54.230033Z"
    }
   },
   "outputs": [
    {
     "data": {
      "text/plain": [
       "{'Arts': '#e56110',\n",
       " 'Society': '#7a06d8',\n",
       " 'Recreation': '#f7e1be',\n",
       " 'Games': '#e07db7',\n",
       " 'Computers': '#a8dbf4',\n",
       " 'Sports': '#fffdb5',\n",
       " 'Science': '#e2917f',\n",
       " 'Health': '#969e0e',\n",
       " 'Home': '#ffe3c6',\n",
       " 'Kids': '#012e77',\n",
       " 'Shopping': '#96f2aa',\n",
       " 'Reference': '#f4bc66',\n",
       " 'Business': '#728bc9',\n",
       " 'Adult': '#321875',\n",
       " 'News': '#ffadf8'}"
      ]
     },
     "execution_count": 279,
     "metadata": {},
     "output_type": "execute_result"
    },
    {
     "data": {
      "application/javascript": [
       "\n",
       "            setTimeout(function() {\n",
       "                var nbb_cell_id = 279;\n",
       "                var nbb_unformatted_code = \"from faker import Faker\\n\\nfake = Faker()\\ncolors = [fake.color() for _ in range(len(types))]\\nnode_color_mapping = dict(zip(types, colors))\\nnode_color_mapping\";\n",
       "                var nbb_formatted_code = \"from faker import Faker\\n\\nfake = Faker()\\ncolors = [fake.color() for _ in range(len(types))]\\nnode_color_mapping = dict(zip(types, colors))\\nnode_color_mapping\";\n",
       "                var nbb_cells = Jupyter.notebook.get_cells();\n",
       "                for (var i = 0; i < nbb_cells.length; ++i) {\n",
       "                    if (nbb_cells[i].input_prompt_number == nbb_cell_id) {\n",
       "                        if (nbb_cells[i].get_text() == nbb_unformatted_code) {\n",
       "                             nbb_cells[i].set_text(nbb_formatted_code);\n",
       "                        }\n",
       "                        break;\n",
       "                    }\n",
       "                }\n",
       "            }, 500);\n",
       "            "
      ],
      "text/plain": [
       "<IPython.core.display.Javascript object>"
      ]
     },
     "metadata": {},
     "output_type": "display_data"
    }
   ],
   "source": [
    "from faker import Faker\n",
    "\n",
    "fake = Faker()\n",
    "colors = [fake.color() for _ in range(len(types))]\n",
    "node_color_mapping = dict(zip(types, colors))\n",
    "node_color_mapping"
   ]
  },
  {
   "cell_type": "code",
   "execution_count": 282,
   "id": "4d62686c",
   "metadata": {
    "ExecuteTime": {
     "end_time": "2022-04-11T00:57:13.622908Z",
     "start_time": "2022-04-11T00:57:13.614793Z"
    }
   },
   "outputs": [
    {
     "data": {
      "application/javascript": [
       "\n",
       "            setTimeout(function() {\n",
       "                var nbb_cell_id = 282;\n",
       "                var nbb_unformatted_code = \"g = (\\n    graphistry.edges(edges, \\\"Type\\\", \\\"host\\\")\\n    .nodes(nodes, \\\"node\\\")\\n    .encode_point_color(\\n        \\\"node\\\", categorical_mapping=node_color_mapping, default_mapping=\\\"silver\\\"\\n    )\\n        .encode_point_icon(\\n            \\\"type\\\", categorical_mapping={'host': \\\"link\\\", 'Type': 'newspaper-o'}\\n        )\\n)\";\n",
       "                var nbb_formatted_code = \"g = (\\n    graphistry.edges(edges, \\\"Type\\\", \\\"host\\\")\\n    .nodes(nodes, \\\"node\\\")\\n    .encode_point_color(\\n        \\\"node\\\", categorical_mapping=node_color_mapping, default_mapping=\\\"silver\\\"\\n    )\\n    .encode_point_icon(\\n        \\\"type\\\", categorical_mapping={\\\"host\\\": \\\"link\\\", \\\"Type\\\": \\\"newspaper-o\\\"}\\n    )\\n)\";\n",
       "                var nbb_cells = Jupyter.notebook.get_cells();\n",
       "                for (var i = 0; i < nbb_cells.length; ++i) {\n",
       "                    if (nbb_cells[i].input_prompt_number == nbb_cell_id) {\n",
       "                        if (nbb_cells[i].get_text() == nbb_unformatted_code) {\n",
       "                             nbb_cells[i].set_text(nbb_formatted_code);\n",
       "                        }\n",
       "                        break;\n",
       "                    }\n",
       "                }\n",
       "            }, 500);\n",
       "            "
      ],
      "text/plain": [
       "<IPython.core.display.Javascript object>"
      ]
     },
     "metadata": {},
     "output_type": "display_data"
    }
   ],
   "source": [
    "g = (\n",
    "    graphistry.edges(edges, \"Type\", \"host\")\n",
    "    .nodes(nodes, \"node\")\n",
    "    .encode_point_color(\n",
    "        \"node\", categorical_mapping=node_color_mapping, default_mapping=\"silver\"\n",
    "    )\n",
    "    .encode_point_icon(\n",
    "        \"type\", categorical_mapping={\"host\": \"link\", \"Type\": \"newspaper-o\"}\n",
    "    )\n",
    ")"
   ]
  },
  {
   "cell_type": "code",
   "execution_count": 283,
   "id": "08000a6c",
   "metadata": {
    "ExecuteTime": {
     "end_time": "2022-04-11T00:57:15.238023Z",
     "start_time": "2022-04-11T00:57:14.022481Z"
    }
   },
   "outputs": [
    {
     "data": {
      "text/html": [
       "\n",
       "            <iframe id=\"565cfb3a-09e7-4a7a-9aa3-d5dd255f2688\" src=\"https://hub.graphistry.com/graph/graph.html?dataset=0720b3a744d54a11b84e5b736d633818&type=arrow&viztoken=a5961471-564b-4c9e-9beb-3dc7473d4cb8&usertag=411c2597-pygraphistry-0.20.2&splashAfter=1649638650&info=true\"\n",
       "                    allowfullscreen=\"true\" webkitallowfullscreen=\"true\" mozallowfullscreen=\"true\"\n",
       "                    oallowfullscreen=\"true\" msallowfullscreen=\"true\"\n",
       "                    style=\"width:100%; height:500px; border: 1px solid #DDD; overflow: hidden\">\n",
       "            </iframe>\n",
       "        \n",
       "            <script>\n",
       "                try {\n",
       "                  $(\"#565cfb3a-09e7-4a7a-9aa3-d5dd255f2688\").bind('mousewheel', function(e) { e.preventDefault(); });\n",
       "                } catch (e) { console.error('exn catching scroll', e); }\n",
       "            </script>\n",
       "        "
      ],
      "text/plain": [
       "<IPython.core.display.HTML object>"
      ]
     },
     "execution_count": 283,
     "metadata": {},
     "output_type": "execute_result"
    },
    {
     "data": {
      "application/javascript": [
       "\n",
       "            setTimeout(function() {\n",
       "                var nbb_cell_id = 283;\n",
       "                var nbb_unformatted_code = \"g.plot()\";\n",
       "                var nbb_formatted_code = \"g.plot()\";\n",
       "                var nbb_cells = Jupyter.notebook.get_cells();\n",
       "                for (var i = 0; i < nbb_cells.length; ++i) {\n",
       "                    if (nbb_cells[i].input_prompt_number == nbb_cell_id) {\n",
       "                        if (nbb_cells[i].get_text() == nbb_unformatted_code) {\n",
       "                             nbb_cells[i].set_text(nbb_formatted_code);\n",
       "                        }\n",
       "                        break;\n",
       "                    }\n",
       "                }\n",
       "            }, 500);\n",
       "            "
      ],
      "text/plain": [
       "<IPython.core.display.Javascript object>"
      ]
     },
     "metadata": {},
     "output_type": "display_data"
    }
   ],
   "source": [
    "g.plot()"
   ]
  },
  {
   "cell_type": "code",
   "execution_count": null,
   "id": "f37b19c3",
   "metadata": {},
   "outputs": [],
   "source": []
  }
 ],
 "metadata": {
  "kernelspec": {
   "display_name": "Python 3 (ipykernel)",
   "language": "python",
   "name": "python3"
  },
  "language_info": {
   "codemirror_mode": {
    "name": "ipython",
    "version": 3
   },
   "file_extension": ".py",
   "mimetype": "text/x-python",
   "name": "python",
   "nbconvert_exporter": "python",
   "pygments_lexer": "ipython3",
   "version": "3.8.10"
  },
  "toc": {
   "base_numbering": 1,
   "nav_menu": {},
   "number_sections": true,
   "sideBar": true,
   "skip_h1_title": false,
   "title_cell": "Table of Contents",
   "title_sidebar": "Contents",
   "toc_cell": false,
   "toc_position": {},
   "toc_section_display": true,
   "toc_window_display": false
  }
 },
 "nbformat": 4,
 "nbformat_minor": 5
}
