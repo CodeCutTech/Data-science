{
 "cells": [
  {
   "cell_type": "code",
   "execution_count": null,
   "id": "60e5dbf6",
   "metadata": {
    "ExecuteTime": {
     "end_time": "2021-10-25T18:33:06.393441Z",
     "start_time": "2021-10-25T18:33:05.107747Z"
    }
   },
   "outputs": [],
   "source": [
    "!pip install pipe "
   ]
  },
  {
   "cell_type": "markdown",
   "id": "a4f1380b",
   "metadata": {},
   "source": [
    "# Pipe"
   ]
  },
  {
   "cell_type": "markdown",
   "id": "8f299821",
   "metadata": {},
   "source": [
    "## Filter Elements in an Iterable"
   ]
  },
  {
   "cell_type": "code",
   "execution_count": 1,
   "id": "40bdbb56",
   "metadata": {
    "ExecuteTime": {
     "end_time": "2021-10-25T19:52:16.459509Z",
     "start_time": "2021-10-25T19:52:16.446153Z"
    }
   },
   "outputs": [],
   "source": [
    "from pipe import where"
   ]
  },
  {
   "cell_type": "code",
   "execution_count": 2,
   "id": "12f768a5",
   "metadata": {
    "ExecuteTime": {
     "end_time": "2021-10-25T18:50:54.776198Z",
     "start_time": "2021-10-25T18:50:54.752098Z"
    }
   },
   "outputs": [
    {
     "data": {
      "text/plain": [
       "[2, 4]"
      ]
     },
     "execution_count": 2,
     "metadata": {},
     "output_type": "execute_result"
    }
   ],
   "source": [
    "arr = [1, 2, 3, 4, 5]\n",
    "\n",
    "# filter using list comprehension\n",
    "[x for x in arr if x % 2 == 0]"
   ]
  },
  {
   "cell_type": "code",
   "execution_count": 3,
   "id": "6b9634cf",
   "metadata": {
    "ExecuteTime": {
     "end_time": "2021-10-25T18:50:54.990550Z",
     "start_time": "2021-10-25T18:50:54.980052Z"
    }
   },
   "outputs": [
    {
     "data": {
      "text/plain": [
       "[2, 4]"
      ]
     },
     "execution_count": 3,
     "metadata": {},
     "output_type": "execute_result"
    }
   ],
   "source": [
    "# filter using pipe\n",
    "list(arr | where(lambda x: x % 2 == 0))"
   ]
  },
  {
   "cell_type": "markdown",
   "id": "96ecccdf",
   "metadata": {},
   "source": [
    "## Apply a Function to an Iterable"
   ]
  },
  {
   "cell_type": "code",
   "execution_count": 2,
   "id": "3f48600e",
   "metadata": {
    "ExecuteTime": {
     "end_time": "2021-10-25T19:52:18.297097Z",
     "start_time": "2021-10-25T19:52:18.286221Z"
    }
   },
   "outputs": [],
   "source": [
    "from pipe import select"
   ]
  },
  {
   "cell_type": "code",
   "execution_count": 45,
   "id": "cf0d886b",
   "metadata": {
    "ExecuteTime": {
     "end_time": "2021-10-25T20:35:15.350102Z",
     "start_time": "2021-10-25T20:35:15.336337Z"
    }
   },
   "outputs": [
    {
     "data": {
      "application/javascript": "\n            setTimeout(function() {\n                var nbb_cell_id = 45;\n                var nbb_unformatted_code = \"arr = [1, 2, 3, 4, 5]\";\n                var nbb_formatted_code = \"arr = [1, 2, 3, 4, 5]\";\n                var nbb_cells = Jupyter.notebook.get_cells();\n                for (var i = 0; i < nbb_cells.length; ++i) {\n                    if (nbb_cells[i].input_prompt_number == nbb_cell_id) {\n                        if (nbb_cells[i].get_text() == nbb_unformatted_code) {\n                             nbb_cells[i].set_text(nbb_formatted_code);\n                        }\n                        break;\n                    }\n                }\n            }, 500);\n            ",
      "text/plain": [
       "<IPython.core.display.Javascript object>"
      ]
     },
     "metadata": {},
     "output_type": "display_data"
    }
   ],
   "source": [
    "arr = [1, 2, 3, 4, 5]"
   ]
  },
  {
   "cell_type": "code",
   "execution_count": 47,
   "id": "a4d06c97",
   "metadata": {
    "ExecuteTime": {
     "end_time": "2021-10-25T21:01:48.869701Z",
     "start_time": "2021-10-25T21:01:48.848103Z"
    }
   },
   "outputs": [
    {
     "data": {
      "text/plain": [
       "[2, 4, 6, 8, 10]"
      ]
     },
     "execution_count": 47,
     "metadata": {},
     "output_type": "execute_result"
    },
    {
     "data": {
      "application/javascript": "\n            setTimeout(function() {\n                var nbb_cell_id = 47;\n                var nbb_unformatted_code = \"list(arr | select(lambda x: x * 2))\";\n                var nbb_formatted_code = \"list(arr | select(lambda x: x * 2))\";\n                var nbb_cells = Jupyter.notebook.get_cells();\n                for (var i = 0; i < nbb_cells.length; ++i) {\n                    if (nbb_cells[i].input_prompt_number == nbb_cell_id) {\n                        if (nbb_cells[i].get_text() == nbb_unformatted_code) {\n                             nbb_cells[i].set_text(nbb_formatted_code);\n                        }\n                        break;\n                    }\n                }\n            }, 500);\n            ",
      "text/plain": [
       "<IPython.core.display.Javascript object>"
      ]
     },
     "metadata": {},
     "output_type": "display_data"
    }
   ],
   "source": [
    "list(arr | select(lambda x: x * 2))"
   ]
  },
  {
   "cell_type": "code",
   "execution_count": 46,
   "id": "42f2b04f",
   "metadata": {
    "ExecuteTime": {
     "end_time": "2021-10-25T20:35:15.737753Z",
     "start_time": "2021-10-25T20:35:15.720069Z"
    }
   },
   "outputs": [
    {
     "data": {
      "text/plain": [
       "[4, 8]"
      ]
     },
     "execution_count": 46,
     "metadata": {},
     "output_type": "execute_result"
    },
    {
     "data": {
      "application/javascript": "\n            setTimeout(function() {\n                var nbb_cell_id = 46;\n                var nbb_unformatted_code = \"# Instead of this\\nlist(map(lambda x: x * 2, filter(lambda x: x % 2 == 0, arr)))\";\n                var nbb_formatted_code = \"# Instead of this\\nlist(map(lambda x: x * 2, filter(lambda x: x % 2 == 0, arr)))\";\n                var nbb_cells = Jupyter.notebook.get_cells();\n                for (var i = 0; i < nbb_cells.length; ++i) {\n                    if (nbb_cells[i].input_prompt_number == nbb_cell_id) {\n                        if (nbb_cells[i].get_text() == nbb_unformatted_code) {\n                             nbb_cells[i].set_text(nbb_formatted_code);\n                        }\n                        break;\n                    }\n                }\n            }, 500);\n            ",
      "text/plain": [
       "<IPython.core.display.Javascript object>"
      ]
     },
     "metadata": {},
     "output_type": "display_data"
    }
   ],
   "source": [
    "# Instead of this\n",
    "list(map(lambda x: x * 2, filter(lambda x: x % 2 == 0, arr)))"
   ]
  },
  {
   "cell_type": "code",
   "execution_count": 7,
   "id": "25ce1ecb",
   "metadata": {
    "ExecuteTime": {
     "end_time": "2021-10-25T18:50:58.624345Z",
     "start_time": "2021-10-25T18:50:58.614678Z"
    }
   },
   "outputs": [
    {
     "data": {
      "text/plain": [
       "[4, 8]"
      ]
     },
     "execution_count": 7,
     "metadata": {},
     "output_type": "execute_result"
    }
   ],
   "source": [
    "# use pipe\n",
    "list(arr | where(lambda x: x % 2 == 0) | select(lambda x: x * 2))"
   ]
  },
  {
   "cell_type": "code",
   "execution_count": 8,
   "id": "4d864e1b",
   "metadata": {
    "ExecuteTime": {
     "end_time": "2021-10-25T18:50:59.669236Z",
     "start_time": "2021-10-25T18:50:59.656856Z"
    }
   },
   "outputs": [
    {
     "data": {
      "text/plain": [
       "[2, 4, 6, 8, 10]"
      ]
     },
     "execution_count": 8,
     "metadata": {},
     "output_type": "execute_result"
    }
   ],
   "source": [
    "# the order matters\n",
    "list(arr | select(lambda x: x * 2) | where(lambda x: x % 2 == 0))"
   ]
  },
  {
   "cell_type": "markdown",
   "id": "f68123ff",
   "metadata": {},
   "source": [
    "## Unfold Iterables"
   ]
  },
  {
   "cell_type": "markdown",
   "id": "0c563fe2",
   "metadata": {},
   "source": [
    "### Chain"
   ]
  },
  {
   "cell_type": "code",
   "execution_count": 28,
   "id": "6a789d2d",
   "metadata": {
    "ExecuteTime": {
     "end_time": "2021-10-25T20:09:28.081385Z",
     "start_time": "2021-10-25T20:09:28.064972Z"
    }
   },
   "outputs": [
    {
     "data": {
      "application/javascript": "\n            setTimeout(function() {\n                var nbb_cell_id = 28;\n                var nbb_unformatted_code = \"from pipe import chain\";\n                var nbb_formatted_code = \"from pipe import chain\";\n                var nbb_cells = Jupyter.notebook.get_cells();\n                for (var i = 0; i < nbb_cells.length; ++i) {\n                    if (nbb_cells[i].input_prompt_number == nbb_cell_id) {\n                        if (nbb_cells[i].get_text() == nbb_unformatted_code) {\n                             nbb_cells[i].set_text(nbb_formatted_code);\n                        }\n                        break;\n                    }\n                }\n            }, 500);\n            ",
      "text/plain": [
       "<IPython.core.display.Javascript object>"
      ]
     },
     "metadata": {},
     "output_type": "display_data"
    }
   ],
   "source": [
    "from pipe import chain"
   ]
  },
  {
   "cell_type": "code",
   "execution_count": 48,
   "id": "6685bbf0",
   "metadata": {
    "ExecuteTime": {
     "end_time": "2021-10-25T21:13:19.172600Z",
     "start_time": "2021-10-25T21:13:19.156362Z"
    }
   },
   "outputs": [
    {
     "data": {
      "text/plain": [
       "[1, 2, [3], 4, 5]"
      ]
     },
     "execution_count": 48,
     "metadata": {},
     "output_type": "execute_result"
    },
    {
     "data": {
      "application/javascript": "\n            setTimeout(function() {\n                var nbb_cell_id = 48;\n                var nbb_unformatted_code = \"nested = [[1, 2, [3]], [4, 5]]\\nlist(nested | chain)\";\n                var nbb_formatted_code = \"nested = [[1, 2, [3]], [4, 5]]\\nlist(nested | chain)\";\n                var nbb_cells = Jupyter.notebook.get_cells();\n                for (var i = 0; i < nbb_cells.length; ++i) {\n                    if (nbb_cells[i].input_prompt_number == nbb_cell_id) {\n                        if (nbb_cells[i].get_text() == nbb_unformatted_code) {\n                             nbb_cells[i].set_text(nbb_formatted_code);\n                        }\n                        break;\n                    }\n                }\n            }, 500);\n            ",
      "text/plain": [
       "<IPython.core.display.Javascript object>"
      ]
     },
     "metadata": {},
     "output_type": "display_data"
    }
   ],
   "source": [
    "nested = [[1, 2, [3]], [4, 5]]\n",
    "list(nested | chain)"
   ]
  },
  {
   "cell_type": "markdown",
   "id": "deea7cf4",
   "metadata": {},
   "source": [
    "### Traverse"
   ]
  },
  {
   "cell_type": "code",
   "execution_count": 49,
   "id": "eb49805c",
   "metadata": {
    "ExecuteTime": {
     "end_time": "2021-10-25T21:13:23.231048Z",
     "start_time": "2021-10-25T21:13:23.219400Z"
    }
   },
   "outputs": [
    {
     "data": {
      "application/javascript": "\n            setTimeout(function() {\n                var nbb_cell_id = 49;\n                var nbb_unformatted_code = \"from pipe import traverse\";\n                var nbb_formatted_code = \"from pipe import traverse\";\n                var nbb_cells = Jupyter.notebook.get_cells();\n                for (var i = 0; i < nbb_cells.length; ++i) {\n                    if (nbb_cells[i].input_prompt_number == nbb_cell_id) {\n                        if (nbb_cells[i].get_text() == nbb_unformatted_code) {\n                             nbb_cells[i].set_text(nbb_formatted_code);\n                        }\n                        break;\n                    }\n                }\n            }, 500);\n            ",
      "text/plain": [
       "<IPython.core.display.Javascript object>"
      ]
     },
     "metadata": {},
     "output_type": "display_data"
    }
   ],
   "source": [
    "from pipe import traverse"
   ]
  },
  {
   "cell_type": "code",
   "execution_count": 50,
   "id": "87971ddf",
   "metadata": {
    "ExecuteTime": {
     "end_time": "2021-10-25T21:13:23.647017Z",
     "start_time": "2021-10-25T21:13:23.629314Z"
    }
   },
   "outputs": [
    {
     "data": {
      "text/plain": [
       "[1, 2, 3, 4, 5]"
      ]
     },
     "execution_count": 50,
     "metadata": {},
     "output_type": "execute_result"
    },
    {
     "data": {
      "application/javascript": "\n            setTimeout(function() {\n                var nbb_cell_id = 50;\n                var nbb_unformatted_code = \"list(nested | traverse)\";\n                var nbb_formatted_code = \"list(nested | traverse)\";\n                var nbb_cells = Jupyter.notebook.get_cells();\n                for (var i = 0; i < nbb_cells.length; ++i) {\n                    if (nbb_cells[i].input_prompt_number == nbb_cell_id) {\n                        if (nbb_cells[i].get_text() == nbb_unformatted_code) {\n                             nbb_cells[i].set_text(nbb_formatted_code);\n                        }\n                        break;\n                    }\n                }\n            }, 500);\n            ",
      "text/plain": [
       "<IPython.core.display.Javascript object>"
      ]
     },
     "metadata": {},
     "output_type": "display_data"
    }
   ],
   "source": [
    "list(nested | traverse)"
   ]
  },
  {
   "cell_type": "code",
   "execution_count": 27,
   "id": "f6d13426",
   "metadata": {
    "ExecuteTime": {
     "end_time": "2021-10-25T20:09:18.501348Z",
     "start_time": "2021-10-25T20:09:18.477861Z"
    }
   },
   "outputs": [
    {
     "data": {
      "application/javascript": "\n            setTimeout(function() {\n                var nbb_cell_id = 27;\n                var nbb_unformatted_code = \"fruits = [\\n    {\\\"name\\\": \\\"apple\\\", \\\"price\\\": [2, 5]},\\n    {\\\"name\\\": \\\"orange\\\", \\\"price\\\": 4},\\n    {\\\"name\\\": \\\"grape\\\", \\\"price\\\": 5},\\n]\";\n                var nbb_formatted_code = \"fruits = [\\n    {\\\"name\\\": \\\"apple\\\", \\\"price\\\": [2, 5]},\\n    {\\\"name\\\": \\\"orange\\\", \\\"price\\\": 4},\\n    {\\\"name\\\": \\\"grape\\\", \\\"price\\\": 5},\\n]\";\n                var nbb_cells = Jupyter.notebook.get_cells();\n                for (var i = 0; i < nbb_cells.length; ++i) {\n                    if (nbb_cells[i].input_prompt_number == nbb_cell_id) {\n                        if (nbb_cells[i].get_text() == nbb_unformatted_code) {\n                             nbb_cells[i].set_text(nbb_formatted_code);\n                        }\n                        break;\n                    }\n                }\n            }, 500);\n            ",
      "text/plain": [
       "<IPython.core.display.Javascript object>"
      ]
     },
     "metadata": {},
     "output_type": "display_data"
    }
   ],
   "source": [
    "fruits = [\n",
    "    {\"name\": \"apple\", \"price\": [2, 5]},\n",
    "    {\"name\": \"orange\", \"price\": 4},\n",
    "    {\"name\": \"grape\", \"price\": 5},\n",
    "]"
   ]
  },
  {
   "cell_type": "code",
   "execution_count": 36,
   "id": "1aa50975",
   "metadata": {
    "ExecuteTime": {
     "end_time": "2021-10-25T20:11:09.178646Z",
     "start_time": "2021-10-25T20:11:09.159361Z"
    }
   },
   "outputs": [
    {
     "data": {
      "text/plain": [
       "[2, 5, 4, 5]"
      ]
     },
     "execution_count": 36,
     "metadata": {},
     "output_type": "execute_result"
    },
    {
     "data": {
      "application/javascript": "\n            setTimeout(function() {\n                var nbb_cell_id = 36;\n                var nbb_unformatted_code = \"list(fruits | select(lambda fruit: fruit[\\\"price\\\"]) | traverse)\";\n                var nbb_formatted_code = \"list(fruits | select(lambda fruit: fruit[\\\"price\\\"]) | traverse)\";\n                var nbb_cells = Jupyter.notebook.get_cells();\n                for (var i = 0; i < nbb_cells.length; ++i) {\n                    if (nbb_cells[i].input_prompt_number == nbb_cell_id) {\n                        if (nbb_cells[i].get_text() == nbb_unformatted_code) {\n                             nbb_cells[i].set_text(nbb_formatted_code);\n                        }\n                        break;\n                    }\n                }\n            }, 500);\n            ",
      "text/plain": [
       "<IPython.core.display.Javascript object>"
      ]
     },
     "metadata": {},
     "output_type": "display_data"
    }
   ],
   "source": [
    "list(fruits | select(lambda fruit: fruit[\"price\"]) | traverse)"
   ]
  },
  {
   "cell_type": "markdown",
   "id": "fb2c09f1",
   "metadata": {},
   "source": [
    "## Group Elements"
   ]
  },
  {
   "cell_type": "code",
   "execution_count": 3,
   "id": "3c5ac59a",
   "metadata": {
    "ExecuteTime": {
     "end_time": "2021-10-25T19:57:45.490794Z",
     "start_time": "2021-10-25T19:57:45.476222Z"
    }
   },
   "outputs": [],
   "source": [
    "from pipe import groupby"
   ]
  },
  {
   "cell_type": "code",
   "execution_count": 11,
   "id": "f20b8de4",
   "metadata": {
    "ExecuteTime": {
     "end_time": "2021-10-26T20:37:56.918025Z",
     "start_time": "2021-10-26T20:37:56.878314Z"
    },
    "scrolled": true
   },
   "outputs": [
    {
     "data": {
      "text/plain": [
       "[{'Even': [2, 4, 6, 8]}, {'Odd': [1, 3, 5, 7, 9]}]"
      ]
     },
     "execution_count": 11,
     "metadata": {},
     "output_type": "execute_result"
    }
   ],
   "source": [
    "list(\n",
    "    (1, 2, 3, 4, 5, 6, 7, 8, 9)\n",
    "    | groupby(lambda x: \"Even\" if x % 2==0 else \"Odd\")\n",
    "    | select(lambda x: {x[0]: list(x[1])})\n",
    ")"
   ]
  },
  {
   "cell_type": "code",
   "execution_count": 12,
   "id": "d5d80f73",
   "metadata": {
    "ExecuteTime": {
     "end_time": "2021-10-26T20:27:02.962096Z",
     "start_time": "2021-10-26T20:27:02.912311Z"
    }
   },
   "outputs": [
    {
     "data": {
      "text/plain": [
       "[{'Even': [4, 6, 8]}, {'Odd': [3, 5, 7, 9]}]"
      ]
     },
     "execution_count": 12,
     "metadata": {},
     "output_type": "execute_result"
    }
   ],
   "source": [
    "list(\n",
    "    (1, 2, 3, 4, 5, 6, 7, 8, 9)\n",
    "    | groupby(lambda x: \"Even\" if x % 2==0 else \"Odd\")\n",
    "    | select(lambda x: {x[0]: list(x[1] | where(lambda x: x > 2))})\n",
    ")"
   ]
  },
  {
   "cell_type": "markdown",
   "id": "e09312e2",
   "metadata": {},
   "source": [
    "## Deduplicate"
   ]
  },
  {
   "cell_type": "code",
   "execution_count": 15,
   "id": "f1a0c205",
   "metadata": {
    "ExecuteTime": {
     "end_time": "2021-10-25T19:53:32.339486Z",
     "start_time": "2021-10-25T19:53:32.321816Z"
    }
   },
   "outputs": [
    {
     "data": {
      "application/javascript": "\n            setTimeout(function() {\n                var nbb_cell_id = 15;\n                var nbb_unformatted_code = \"from pipe import dedup \\n\\narr = [1, 2, 2, 3, 4, 5, 6,6, 7, 9, 3, 3, 1]\";\n                var nbb_formatted_code = \"from pipe import dedup\\n\\narr = [1, 2, 2, 3, 4, 5, 6, 6, 7, 9, 3, 3, 1]\";\n                var nbb_cells = Jupyter.notebook.get_cells();\n                for (var i = 0; i < nbb_cells.length; ++i) {\n                    if (nbb_cells[i].input_prompt_number == nbb_cell_id) {\n                        if (nbb_cells[i].get_text() == nbb_unformatted_code) {\n                             nbb_cells[i].set_text(nbb_formatted_code);\n                        }\n                        break;\n                    }\n                }\n            }, 500);\n            ",
      "text/plain": [
       "<IPython.core.display.Javascript object>"
      ]
     },
     "metadata": {},
     "output_type": "display_data"
    }
   ],
   "source": [
    "from pipe import dedup\n",
    "\n",
    "arr = [1, 2, 2, 3, 4, 5, 6, 6, 7, 9, 3, 3, 1]"
   ]
  },
  {
   "cell_type": "code",
   "execution_count": 33,
   "id": "7f0bb55c",
   "metadata": {
    "ExecuteTime": {
     "end_time": "2021-10-25T19:08:11.849306Z",
     "start_time": "2021-10-25T19:08:11.840281Z"
    }
   },
   "outputs": [
    {
     "data": {
      "text/plain": [
       "[1, 2, 3, 4, 5, 6, 7, 9]"
      ]
     },
     "execution_count": 33,
     "metadata": {},
     "output_type": "execute_result"
    }
   ],
   "source": [
    "list(arr | dedup)"
   ]
  },
  {
   "cell_type": "code",
   "execution_count": 26,
   "id": "e992258b",
   "metadata": {
    "ExecuteTime": {
     "end_time": "2021-10-25T20:08:09.641825Z",
     "start_time": "2021-10-25T20:08:09.622675Z"
    }
   },
   "outputs": [
    {
     "data": {
      "text/plain": [
       "[1, 5]"
      ]
     },
     "execution_count": 26,
     "metadata": {},
     "output_type": "execute_result"
    },
    {
     "data": {
      "application/javascript": "\n            setTimeout(function() {\n                var nbb_cell_id = 26;\n                var nbb_unformatted_code = \"# Get one element that is smaller than 5 and one element that is larger than or equal to 5\\nlist(arr | dedup(lambda key: key < 5))\";\n                var nbb_formatted_code = \"# Get one element that is smaller than 5 and one element that is larger than or equal to 5\\nlist(arr | dedup(lambda key: key < 5))\";\n                var nbb_cells = Jupyter.notebook.get_cells();\n                for (var i = 0; i < nbb_cells.length; ++i) {\n                    if (nbb_cells[i].input_prompt_number == nbb_cell_id) {\n                        if (nbb_cells[i].get_text() == nbb_unformatted_code) {\n                             nbb_cells[i].set_text(nbb_formatted_code);\n                        }\n                        break;\n                    }\n                }\n            }, 500);\n            ",
      "text/plain": [
       "<IPython.core.display.Javascript object>"
      ]
     },
     "metadata": {},
     "output_type": "display_data"
    }
   ],
   "source": [
    "# Get one element that is smaller than 5 and one element that is larger than or equal to 5\n",
    "list(arr | dedup(lambda key: key < 5))"
   ]
  },
  {
   "cell_type": "code",
   "execution_count": 12,
   "id": "63077650",
   "metadata": {
    "ExecuteTime": {
     "end_time": "2021-10-25T19:52:46.916462Z",
     "start_time": "2021-10-25T19:52:46.890970Z"
    }
   },
   "outputs": [
    {
     "data": {
      "application/javascript": "\n            setTimeout(function() {\n                var nbb_cell_id = 12;\n                var nbb_unformatted_code = \"data = [\\n    {\\\"name\\\": \\\"apple\\\", \\\"count\\\": 2},\\n    {\\\"name\\\": \\\"orange\\\", \\\"count\\\": 4},\\n    {\\\"name\\\": \\\"grape\\\", \\\"count\\\": None},\\n    {\\\"name\\\": \\\"orange\\\", \\\"count\\\": 7},\\n]\";\n                var nbb_formatted_code = \"data = [\\n    {\\\"name\\\": \\\"apple\\\", \\\"count\\\": 2},\\n    {\\\"name\\\": \\\"orange\\\", \\\"count\\\": 4},\\n    {\\\"name\\\": \\\"grape\\\", \\\"count\\\": None},\\n    {\\\"name\\\": \\\"orange\\\", \\\"count\\\": 7},\\n]\";\n                var nbb_cells = Jupyter.notebook.get_cells();\n                for (var i = 0; i < nbb_cells.length; ++i) {\n                    if (nbb_cells[i].input_prompt_number == nbb_cell_id) {\n                        if (nbb_cells[i].get_text() == nbb_unformatted_code) {\n                             nbb_cells[i].set_text(nbb_formatted_code);\n                        }\n                        break;\n                    }\n                }\n            }, 500);\n            ",
      "text/plain": [
       "<IPython.core.display.Javascript object>"
      ]
     },
     "metadata": {},
     "output_type": "display_data"
    }
   ],
   "source": [
    "data = [\n",
    "    {\"name\": \"apple\", \"count\": 2},\n",
    "    {\"name\": \"orange\", \"count\": 4},\n",
    "    {\"name\": \"grape\", \"count\": None},\n",
    "    {\"name\": \"orange\", \"count\": 7},\n",
    "]"
   ]
  },
  {
   "cell_type": "code",
   "execution_count": 16,
   "id": "2b4dad7d",
   "metadata": {
    "ExecuteTime": {
     "end_time": "2021-10-25T19:53:35.577805Z",
     "start_time": "2021-10-25T19:53:35.551557Z"
    }
   },
   "outputs": [
    {
     "data": {
      "text/plain": [
       "[2, 4]"
      ]
     },
     "execution_count": 16,
     "metadata": {},
     "output_type": "execute_result"
    },
    {
     "data": {
      "application/javascript": "\n            setTimeout(function() {\n                var nbb_cell_id = 16;\n                var nbb_unformatted_code = \"list(\\n    data\\n    | dedup(key=lambda fruit: fruit[\\\"name\\\"])\\n    | select(lambda fruit: fruit[\\\"count\\\"])\\n    | where(lambda count: isinstance(count, int))\\n)\";\n                var nbb_formatted_code = \"list(\\n    data\\n    | dedup(key=lambda fruit: fruit[\\\"name\\\"])\\n    | select(lambda fruit: fruit[\\\"count\\\"])\\n    | where(lambda count: isinstance(count, int))\\n)\";\n                var nbb_cells = Jupyter.notebook.get_cells();\n                for (var i = 0; i < nbb_cells.length; ++i) {\n                    if (nbb_cells[i].input_prompt_number == nbb_cell_id) {\n                        if (nbb_cells[i].get_text() == nbb_unformatted_code) {\n                             nbb_cells[i].set_text(nbb_formatted_code);\n                        }\n                        break;\n                    }\n                }\n            }, 500);\n            ",
      "text/plain": [
       "<IPython.core.display.Javascript object>"
      ]
     },
     "metadata": {},
     "output_type": "display_data"
    }
   ],
   "source": [
    "list(\n",
    "    data\n",
    "    | dedup(key=lambda fruit: fruit[\"name\"])\n",
    "    | select(lambda fruit: fruit[\"count\"])\n",
    "    | where(lambda count: isinstance(count, int))\n",
    ")"
   ]
  }
 ],
 "metadata": {
  "interpreter": {
   "hash": "81fd2c32c01ae2ba49907a34c36447a670709039fbd002790bd1125f246cf4a2"
  },
  "kernelspec": {
   "display_name": "Python 3.8.10 64-bit ('venv': venv)",
   "name": "python3"
  },
  "language_info": {
   "codemirror_mode": {
    "name": "ipython",
    "version": 3
   },
   "file_extension": ".py",
   "mimetype": "text/x-python",
   "name": "python",
   "nbconvert_exporter": "python",
   "pygments_lexer": "ipython3",
   "version": "3.8.10"
  },
  "toc": {
   "base_numbering": 1,
   "nav_menu": {},
   "number_sections": true,
   "sideBar": true,
   "skip_h1_title": false,
   "title_cell": "Table of Contents",
   "title_sidebar": "Contents",
   "toc_cell": false,
   "toc_position": {},
   "toc_section_display": true,
   "toc_window_display": false
  }
 },
 "nbformat": 4,
 "nbformat_minor": 5
}
