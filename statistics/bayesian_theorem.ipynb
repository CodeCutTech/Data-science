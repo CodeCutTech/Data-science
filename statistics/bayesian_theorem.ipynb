{
 "cells": [
  {
   "cell_type": "markdown",
   "id": "1752c9ac",
   "metadata": {},
   "source": [
    "\\begin{align*}\n",
    "P(A|B) &= \\frac{P(B \\cap A)}{P(B)}\\\\\n",
    "&= \\frac{P(B|A)P(A)}{P(B)}\\\\\n",
    "\\end{align*}\n",
    "where\n",
    "- $P(A)$ is the probability that event $A$ occurs.\n",
    "- $P(B)$ is the probability that event $B$ occurs.\n",
    "- $P(B \\cap A)$ is the probability that both event $A$ and $B$ occur.\n",
    "- $P(A|B)$ is the probability that event $A$ occurs given the event $B$ occurs.\n",
    "- $P(B|A)$ is the probability that event $B$ occurs given the event $A$ occurs."
   ]
  },
  {
   "cell_type": "markdown",
   "id": "1375c391",
   "metadata": {},
   "source": [
    "$D$: A patient has COVID.\n",
    "\n",
    "$H$: A patient doesn't have COVID.\n",
    "\n",
    "$+$: A patient has a positive test result.\n",
    "\n",
    "$-$: A patient has a negative test result.\n",
    "\n",
    "The probability that a patient has a positive test result when he/she doesn't have COVID is\n",
    "\n",
    "$P(+|H) = 0.01.$\n",
    "\n",
    "The probability that a patient has a positive test result when he/she has COVID is\n",
    "\n",
    "$P(+|D) = 0.98.$\n",
    "\n",
    "The probability that a patient has COVID is\n",
    "\n",
    "$P(D) = 0.01$."
   ]
  },
  {
   "cell_type": "code",
   "execution_count": 15,
   "id": "1c9e8c29",
   "metadata": {
    "ExecuteTime": {
     "end_time": "2021-10-11T15:32:57.535883Z",
     "start_time": "2021-10-11T15:32:57.520738Z"
    }
   },
   "outputs": [
    {
     "data": {
      "application/javascript": [
       "\n",
       "            setTimeout(function() {\n",
       "                var nbb_cell_id = 15;\n",
       "                var nbb_unformatted_code = \"P_p_given_H = 0.01\\nP_p_given_D = 0.98 \\nP_D = 0.01 \";\n",
       "                var nbb_formatted_code = \"P_p_given_H = 0.01\\nP_p_given_D = 0.98\\nP_D = 0.01\";\n",
       "                var nbb_cells = Jupyter.notebook.get_cells();\n",
       "                for (var i = 0; i < nbb_cells.length; ++i) {\n",
       "                    if (nbb_cells[i].input_prompt_number == nbb_cell_id) {\n",
       "                        if (nbb_cells[i].get_text() == nbb_unformatted_code) {\n",
       "                             nbb_cells[i].set_text(nbb_formatted_code);\n",
       "                        }\n",
       "                        break;\n",
       "                    }\n",
       "                }\n",
       "            }, 500);\n",
       "            "
      ],
      "text/plain": [
       "<IPython.core.display.Javascript object>"
      ]
     },
     "metadata": {},
     "output_type": "display_data"
    }
   ],
   "source": [
    "P_p_given_H = 0.01\n",
    "P_p_given_D = 0.98\n",
    "P_D = 0.01"
   ]
  },
  {
   "cell_type": "markdown",
   "id": "e5c4eb3a",
   "metadata": {},
   "source": [
    "For a randomly selected person, what is the probability that a patient has a positive test result?\n",
    "\n",
    "$P(+) =$ ?\n",
    "\\begin{align*}\n",
    "P(H) &= 1 - P(D)\\\\\n",
    "&= 1 - 0.01\\\\\n",
    "&= 0.99.\\\\\n",
    "P(+) &= P(+\\cap D) + P(+\\cap H)\\\\\n",
    "&=P(+|D)P(D) + P(+|H)P(H)\\\\\n",
    "&= 0.98(0.01)+0.01(0.99)\\\\\n",
    "&= 0.0197.\n",
    "\\end{align*}"
   ]
  },
  {
   "cell_type": "code",
   "execution_count": 16,
   "id": "42669300",
   "metadata": {
    "ExecuteTime": {
     "end_time": "2021-10-11T15:32:59.670205Z",
     "start_time": "2021-10-11T15:32:59.651654Z"
    }
   },
   "outputs": [
    {
     "data": {
      "text/plain": [
       "0.019700000000000002"
      ]
     },
     "execution_count": 16,
     "metadata": {},
     "output_type": "execute_result"
    },
    {
     "data": {
      "application/javascript": [
       "\n",
       "            setTimeout(function() {\n",
       "                var nbb_cell_id = 16;\n",
       "                var nbb_unformatted_code = \"P_H = 1 - P_D\\n\\nP_p = P_p_given_D * P_D + P_p_given_H * P_H\\nP_p\";\n",
       "                var nbb_formatted_code = \"P_H = 1 - P_D\\n\\nP_p = P_p_given_D * P_D + P_p_given_H * P_H\\nP_p\";\n",
       "                var nbb_cells = Jupyter.notebook.get_cells();\n",
       "                for (var i = 0; i < nbb_cells.length; ++i) {\n",
       "                    if (nbb_cells[i].input_prompt_number == nbb_cell_id) {\n",
       "                        if (nbb_cells[i].get_text() == nbb_unformatted_code) {\n",
       "                             nbb_cells[i].set_text(nbb_formatted_code);\n",
       "                        }\n",
       "                        break;\n",
       "                    }\n",
       "                }\n",
       "            }, 500);\n",
       "            "
      ],
      "text/plain": [
       "<IPython.core.display.Javascript object>"
      ]
     },
     "metadata": {},
     "output_type": "display_data"
    }
   ],
   "source": [
    "P_H = 1 - P_D\n",
    "\n",
    "P_p = P_p_given_D * P_D + P_p_given_H * P_H\n",
    "P_p"
   ]
  },
  {
   "cell_type": "markdown",
   "id": "abc97cf4",
   "metadata": {},
   "source": [
    "If a randomly selected person is tested positive, what is the probability the person has COVID?\n",
    "\n",
    "$P(D|+)=$?\n",
    "\n",
    "\\begin{align*}\n",
    "P(D|+)&=\\frac{P(+ \\cap D)}{P(+)}\\\\ \n",
    "&= \\frac{P(+|D)P(D)}{P(+)}\\\\\n",
    "&= \\frac{0.98(0.01)}{0.0197}\\\\\n",
    "&= \\frac{0.0098}{0.0197}\\\\\n",
    "&= 0.497.\n",
    "\\end{align*}"
   ]
  },
  {
   "cell_type": "code",
   "execution_count": 19,
   "id": "694ef56a",
   "metadata": {
    "ExecuteTime": {
     "end_time": "2021-10-11T15:53:29.443519Z",
     "start_time": "2021-10-11T15:53:29.429431Z"
    }
   },
   "outputs": [
    {
     "data": {
      "text/plain": [
       "0.018"
      ]
     },
     "execution_count": 19,
     "metadata": {},
     "output_type": "execute_result"
    },
    {
     "data": {
      "application/javascript": [
       "\n",
       "            setTimeout(function() {\n",
       "                var nbb_cell_id = 19;\n",
       "                var nbb_unformatted_code = \"9/500\";\n",
       "                var nbb_formatted_code = \"9 / 500\";\n",
       "                var nbb_cells = Jupyter.notebook.get_cells();\n",
       "                for (var i = 0; i < nbb_cells.length; ++i) {\n",
       "                    if (nbb_cells[i].input_prompt_number == nbb_cell_id) {\n",
       "                        if (nbb_cells[i].get_text() == nbb_unformatted_code) {\n",
       "                             nbb_cells[i].set_text(nbb_formatted_code);\n",
       "                        }\n",
       "                        break;\n",
       "                    }\n",
       "                }\n",
       "            }, 500);\n",
       "            "
      ],
      "text/plain": [
       "<IPython.core.display.Javascript object>"
      ]
     },
     "metadata": {},
     "output_type": "display_data"
    }
   ],
   "source": [
    "9 / 500"
   ]
  },
  {
   "cell_type": "code",
   "execution_count": 20,
   "id": "f0e0536d",
   "metadata": {
    "ExecuteTime": {
     "end_time": "2021-10-11T15:53:40.815214Z",
     "start_time": "2021-10-11T15:53:40.799670Z"
    }
   },
   "outputs": [
    {
     "data": {
      "text/plain": [
       "0.012"
      ]
     },
     "execution_count": 20,
     "metadata": {},
     "output_type": "execute_result"
    },
    {
     "data": {
      "application/javascript": [
       "\n",
       "            setTimeout(function() {\n",
       "                var nbb_cell_id = 20;\n",
       "                var nbb_unformatted_code = \"6/500\";\n",
       "                var nbb_formatted_code = \"6 / 500\";\n",
       "                var nbb_cells = Jupyter.notebook.get_cells();\n",
       "                for (var i = 0; i < nbb_cells.length; ++i) {\n",
       "                    if (nbb_cells[i].input_prompt_number == nbb_cell_id) {\n",
       "                        if (nbb_cells[i].get_text() == nbb_unformatted_code) {\n",
       "                             nbb_cells[i].set_text(nbb_formatted_code);\n",
       "                        }\n",
       "                        break;\n",
       "                    }\n",
       "                }\n",
       "            }, 500);\n",
       "            "
      ],
      "text/plain": [
       "<IPython.core.display.Javascript object>"
      ]
     },
     "metadata": {},
     "output_type": "display_data"
    }
   ],
   "source": [
    "6 / 500"
   ]
  },
  {
   "cell_type": "code",
   "execution_count": 17,
   "id": "ae4a3ed0",
   "metadata": {
    "ExecuteTime": {
     "end_time": "2021-10-11T15:33:53.762903Z",
     "start_time": "2021-10-11T15:33:53.746185Z"
    }
   },
   "outputs": [
    {
     "data": {
      "text/plain": [
       "0.4974619289340101"
      ]
     },
     "execution_count": 17,
     "metadata": {},
     "output_type": "execute_result"
    },
    {
     "data": {
      "application/javascript": [
       "\n",
       "            setTimeout(function() {\n",
       "                var nbb_cell_id = 17;\n",
       "                var nbb_unformatted_code = \"P_D_given_p = (P_p_given_D*P_D)/P_p \\nP_D_given_p\";\n",
       "                var nbb_formatted_code = \"P_D_given_p = (P_p_given_D * P_D) / P_p\\nP_D_given_p\";\n",
       "                var nbb_cells = Jupyter.notebook.get_cells();\n",
       "                for (var i = 0; i < nbb_cells.length; ++i) {\n",
       "                    if (nbb_cells[i].input_prompt_number == nbb_cell_id) {\n",
       "                        if (nbb_cells[i].get_text() == nbb_unformatted_code) {\n",
       "                             nbb_cells[i].set_text(nbb_formatted_code);\n",
       "                        }\n",
       "                        break;\n",
       "                    }\n",
       "                }\n",
       "            }, 500);\n",
       "            "
      ],
      "text/plain": [
       "<IPython.core.display.Javascript object>"
      ]
     },
     "metadata": {},
     "output_type": "display_data"
    }
   ],
   "source": [
    "P_D_given_p = (P_p_given_D * P_D) / P_p\n",
    "P_D_given_p"
   ]
  },
  {
   "cell_type": "markdown",
   "id": "cbf9ff5c",
   "metadata": {},
   "source": [
    "If a randomly selected person is tested negatively, what is the probability the person has COVID?\n",
    "\n",
    "$P(D|-) =$ ?\n",
    "\n",
    "\\begin{align*}\n",
    "P(- | D)&= 1 - P(+|D)\\\\\n",
    "&=1-0.98\\\\\n",
    "&=0.02.\\\\\n",
    "P(-) &= 1 - P(+)\\\\\n",
    "&= 1 - 0.0197\\\\\n",
    "&= 0.9803.\\\\\n",
    "P(D|-) &= \\frac{P(- \\cap D)}{P(-)}\\\\\n",
    "&= \\frac{P(- | D)P(D)}{P(-)}\\\\\n",
    "&= \\frac{0.02(0.01)}{0.9803}\\\\\n",
    "&= 0.0002.\n",
    "\\end{align*}"
   ]
  },
  {
   "cell_type": "code",
   "execution_count": 18,
   "id": "69404dcf",
   "metadata": {
    "ExecuteTime": {
     "end_time": "2021-10-11T15:35:04.032261Z",
     "start_time": "2021-10-11T15:35:04.010623Z"
    }
   },
   "outputs": [
    {
     "data": {
      "text/plain": [
       "0.00020401917780271363"
      ]
     },
     "execution_count": 18,
     "metadata": {},
     "output_type": "execute_result"
    },
    {
     "data": {
      "application/javascript": [
       "\n",
       "            setTimeout(function() {\n",
       "                var nbb_cell_id = 18;\n",
       "                var nbb_unformatted_code = \"P_n_given_D = 1- P_p_given_D\\n\\nP_n = 1 - P_p \\n\\nP_D_given_n = (P_n_given_D*P_D)/P_n \\nP_D_given_n\";\n",
       "                var nbb_formatted_code = \"P_n_given_D = 1 - P_p_given_D\\n\\nP_n = 1 - P_p\\n\\nP_D_given_n = (P_n_given_D * P_D) / P_n\\nP_D_given_n\";\n",
       "                var nbb_cells = Jupyter.notebook.get_cells();\n",
       "                for (var i = 0; i < nbb_cells.length; ++i) {\n",
       "                    if (nbb_cells[i].input_prompt_number == nbb_cell_id) {\n",
       "                        if (nbb_cells[i].get_text() == nbb_unformatted_code) {\n",
       "                             nbb_cells[i].set_text(nbb_formatted_code);\n",
       "                        }\n",
       "                        break;\n",
       "                    }\n",
       "                }\n",
       "            }, 500);\n",
       "            "
      ],
      "text/plain": [
       "<IPython.core.display.Javascript object>"
      ]
     },
     "metadata": {},
     "output_type": "display_data"
    }
   ],
   "source": [
    "P_n_given_D = 1 - P_p_given_D\n",
    "\n",
    "P_n = 1 - P_p\n",
    "\n",
    "P_D_given_n = (P_n_given_D * P_D) / P_n\n",
    "P_D_given_n"
   ]
  }
 ],
 "metadata": {
  "kernelspec": {
   "display_name": "Python 3 (ipykernel)",
   "language": "python",
   "name": "python3"
  },
  "language_info": {
   "codemirror_mode": {
    "name": "ipython",
    "version": 3
   },
   "file_extension": ".py",
   "mimetype": "text/x-python",
   "name": "python",
   "nbconvert_exporter": "python",
   "pygments_lexer": "ipython3",
   "version": "3.8.10"
  },
  "toc": {
   "base_numbering": 1,
   "nav_menu": {},
   "number_sections": true,
   "sideBar": true,
   "skip_h1_title": false,
   "title_cell": "Table of Contents",
   "title_sidebar": "Contents",
   "toc_cell": false,
   "toc_position": {},
   "toc_section_display": true,
   "toc_window_display": false
  }
 },
 "nbformat": 4,
 "nbformat_minor": 5
}
