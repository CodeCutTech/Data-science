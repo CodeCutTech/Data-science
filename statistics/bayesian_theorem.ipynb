{
 "cells": [
  {
   "cell_type": "markdown",
   "id": "1752c9ac",
   "metadata": {},
   "source": [
    "\\begin{align*}\n",
    "P(A|B) &= \\frac{P(B \\cap A)}{P(B)}\\\\\n",
    "\\end{align*}\n",
    "where\n",
    "- $P(A)$ is the probability that event $A$ occurs.\n",
    "- $P(B)$ is the probability that event $B$ occurs.\n",
    "- $P(B \\cap A)$ is the probability that both event $A$ and $B$ occur.\n",
    "- $P(A|B)$ is the probability that event $A$ occurs given the event $B$ occurs."
   ]
  },
  {
   "cell_type": "markdown",
   "id": "1375c391",
   "metadata": {},
   "source": [
    "$D$: A patient has COVID.\n",
    "\n",
    "$H$: A patient doesn't have COVID.\n",
    "\n",
    "$+$: A patient has a positive test result.\n",
    "\n",
    "$-$: A patient has a negative test result.\n",
    "\n",
    "The probability that a patient has a positive test result when he/she doesn't have COVID is\n",
    "\n",
    "$P(+|H) = 0.01.$\n",
    "\n",
    "The probability that a patient has a positive test result when he/she has COVID is\n",
    "\n",
    "$P(+|D) = 0.98.$\n",
    "\n",
    "The probability that a patient has COVID is\n",
    "\n",
    "$P(D) = 0.01$."
   ]
  },
  {
   "cell_type": "markdown",
   "id": "74a6c9b6",
   "metadata": {},
   "source": [
    "For a randomly selected person, what is the probability that a patient has a positive test result?\n",
    "\n",
    "$P(+) =$ ?\n",
    "\\begin{align*}\n",
    "P(H) &= 1 - P(D)\\\\\n",
    "&= 1 - 0.01\\\\\n",
    "&= 0.99.\\\\\n",
    "P(+) &=P(+|D)P(D) + P(+|H)P(H)\\\\\n",
    "&= 0.98(0.01)+0.01(0.99)\\\\\n",
    "&= 0.0197.\n",
    "\\end{align*}"
   ]
  },
  {
   "cell_type": "markdown",
   "id": "abc97cf4",
   "metadata": {},
   "source": [
    "If a randomly selected person is tested positive, what is the probability the person has COVID?\n",
    "\n",
    "$P(D|+)=$?\n",
    "\n",
    "\\begin{align*}\n",
    "P(D|+) &= \\frac{P(+\\cap D)}{P(+)}\\\\\n",
    "&= \\frac{P(+|D)P(D)}{P(+)}\\\\\n",
    "&= \\frac{0.98(0.01)}{0.0197}\\\\\n",
    "&= 0.497.\n",
    "\\end{align*}"
   ]
  },
  {
   "cell_type": "markdown",
   "id": "1165ca08",
   "metadata": {},
   "source": [
    "If a randomly selected person tested positive on each of two test applications, what is the probability that the person has the disease?"
   ]
  },
  {
   "cell_type": "markdown",
   "id": "8c54ce1e",
   "metadata": {},
   "source": [
    "We denote:\n",
    "- $+_1$: First test is positve\n",
    "- $+_2$: Second test is positive\n",
    "\n",
    "We know $P(+_1|D) =98\\%$, $P(+_2|D) =98\\%$, $P(+_1|H) =1\\%$, $P(+_2|H) =1\\%$."
   ]
  },
  {
   "cell_type": "markdown",
   "id": "86edfd4d",
   "metadata": {},
   "source": [
    "Since $+_1$ and $+_2$ are independent, we have\n",
    "\\begin{align*}\n",
    "P(+_1 \\cap +_2|D) &= P(+_1|D) P(+_2|D)\\\\\n",
    "&= (0.98)(0.98)\\\\\n",
    "&= 0.9604.\n",
    "\\end{align*}\n",
    "\n",
    "\\begin{align*}\n",
    "P(+_1 \\cap +_2|H) &= P(+_1|H) P(+_2|H)\\\\\n",
    "&= (0.01)(0.01)\\\\\n",
    "&= 1\\times 10 ^{-4}.\n",
    "\\end{align*}\n",
    "\n",
    "\\begin{align*}\n",
    "P(+_1 \\cap +_2) &= P(+_1 \\cap +_2|D)P(D) +  P(+_1 \\cap +_2|H)P(H)\\\\\n",
    "&= 0.9604\\times 0.01 +  1\\times 10 ^{-4}\\times0.99\\\\\n",
    "&= 0.0097\n",
    "\\end{align*}\n",
    "\n",
    "We have\n",
    "\n",
    "\\begin{align*}\n",
    "P(D|+_1 \\cap +_2) &= \\frac{P(D \\cap (+_1 \\cap +_2))}{P(+_1 \\cap +_2)}\\\\\n",
    "&= \\frac{P(+_1 \\cap +_2|D)P(D)}{P(+_1 \\cap +_2)}\\\\\n",
    "&= \\frac{0.9604 \\times 0.01}{0.0097}\\\\\n",
    "&= 0.9901.\n",
    "\\end{align*}"
   ]
  }
 ],
 "metadata": {
  "kernelspec": {
   "display_name": "Python 3 (ipykernel)",
   "language": "python",
   "name": "python3"
  },
  "language_info": {
   "codemirror_mode": {
    "name": "ipython",
    "version": 3
   },
   "file_extension": ".py",
   "mimetype": "text/x-python",
   "name": "python",
   "nbconvert_exporter": "python",
   "pygments_lexer": "ipython3",
   "version": "3.8.10"
  },
  "toc": {
   "base_numbering": 1,
   "nav_menu": {},
   "number_sections": true,
   "sideBar": true,
   "skip_h1_title": false,
   "title_cell": "Table of Contents",
   "title_sidebar": "Contents",
   "toc_cell": false,
   "toc_position": {},
   "toc_section_display": true,
   "toc_window_display": false
  }
 },
 "nbformat": 4,
 "nbformat_minor": 5
}
