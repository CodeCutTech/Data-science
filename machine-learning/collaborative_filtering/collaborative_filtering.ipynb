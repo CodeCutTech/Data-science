{
 "cells": [
  {
   "cell_type": "code",
   "execution_count": 2,
   "id": "6e942ac2",
   "metadata": {
    "ExecuteTime": {
     "end_time": "2022-03-19T00:20:09.385473Z",
     "start_time": "2022-03-19T00:20:08.205558Z"
    }
   },
   "outputs": [],
   "source": [
    "import numpy as np\n",
    "import pandas as pd "
   ]
  },
  {
   "cell_type": "code",
   "execution_count": null,
   "id": "9fc370ed",
   "metadata": {
    "ExecuteTime": {
     "end_time": "2022-03-20T17:03:16.537106Z",
     "start_time": "2022-03-20T17:03:15.946574Z"
    }
   },
   "outputs": [],
   "source": [
    "!wget -O 'small_movie_ratings.csv' 'https://drive.google.com/uc?id=1p2TxvZFG_UrxBeBtOo57SsGD9WR9RHsD'"
   ]
  },
  {
   "cell_type": "code",
   "execution_count": 5,
   "id": "ab32c629",
   "metadata": {
    "ExecuteTime": {
     "end_time": "2022-03-19T00:20:20.562706Z",
     "start_time": "2022-03-19T00:20:20.498981Z"
    }
   },
   "outputs": [
    {
     "data": {
      "text/html": [
       "<div>\n",
       "<style scoped>\n",
       "    .dataframe tbody tr th:only-of-type {\n",
       "        vertical-align: middle;\n",
       "    }\n",
       "\n",
       "    .dataframe tbody tr th {\n",
       "        vertical-align: top;\n",
       "    }\n",
       "\n",
       "    .dataframe thead th {\n",
       "        text-align: right;\n",
       "    }\n",
       "</style>\n",
       "<table border=\"1\" class=\"dataframe\">\n",
       "  <thead>\n",
       "    <tr style=\"text-align: right;\">\n",
       "      <th></th>\n",
       "      <th>15</th>\n",
       "      <th>30</th>\n",
       "      <th>311</th>\n",
       "      <th>452</th>\n",
       "      <th>468</th>\n",
       "      <th>509</th>\n",
       "      <th>547</th>\n",
       "      <th>564</th>\n",
       "      <th>624</th>\n",
       "      <th>73</th>\n",
       "    </tr>\n",
       "    <tr>\n",
       "      <th>movie</th>\n",
       "      <th></th>\n",
       "      <th></th>\n",
       "      <th></th>\n",
       "      <th></th>\n",
       "      <th></th>\n",
       "      <th></th>\n",
       "      <th></th>\n",
       "      <th></th>\n",
       "      <th></th>\n",
       "      <th></th>\n",
       "    </tr>\n",
       "  </thead>\n",
       "  <tbody>\n",
       "    <tr>\n",
       "      <th>88 Minutes</th>\n",
       "      <td>2.0</td>\n",
       "      <td>4.0</td>\n",
       "      <td>2.0</td>\n",
       "      <td>NaN</td>\n",
       "      <td>2.0</td>\n",
       "      <td>2.0</td>\n",
       "      <td>1.5</td>\n",
       "      <td>2.0</td>\n",
       "      <td>3.0</td>\n",
       "      <td>3.5</td>\n",
       "    </tr>\n",
       "    <tr>\n",
       "      <th>A Time to Kill</th>\n",
       "      <td>3.0</td>\n",
       "      <td>5.0</td>\n",
       "      <td>2.5</td>\n",
       "      <td>2.0</td>\n",
       "      <td>2.0</td>\n",
       "      <td>3.0</td>\n",
       "      <td>NaN</td>\n",
       "      <td>4.0</td>\n",
       "      <td>3.0</td>\n",
       "      <td>3.0</td>\n",
       "    </tr>\n",
       "    <tr>\n",
       "      <th>Barry Lyndon</th>\n",
       "      <td>4.0</td>\n",
       "      <td>NaN</td>\n",
       "      <td>3.0</td>\n",
       "      <td>3.0</td>\n",
       "      <td>3.0</td>\n",
       "      <td>3.5</td>\n",
       "      <td>4.0</td>\n",
       "      <td>5.0</td>\n",
       "      <td>4.0</td>\n",
       "      <td>2.5</td>\n",
       "    </tr>\n",
       "    <tr>\n",
       "      <th>Gleaming the Cube</th>\n",
       "      <td>2.5</td>\n",
       "      <td>4.0</td>\n",
       "      <td>4.0</td>\n",
       "      <td>NaN</td>\n",
       "      <td>3.0</td>\n",
       "      <td>3.0</td>\n",
       "      <td>3.0</td>\n",
       "      <td>4.0</td>\n",
       "      <td>3.0</td>\n",
       "      <td>4.0</td>\n",
       "    </tr>\n",
       "    <tr>\n",
       "      <th>Judgment Night</th>\n",
       "      <td>4.0</td>\n",
       "      <td>4.0</td>\n",
       "      <td>4.0</td>\n",
       "      <td>4.0</td>\n",
       "      <td>3.5</td>\n",
       "      <td>3.0</td>\n",
       "      <td>2.5</td>\n",
       "      <td>1.0</td>\n",
       "      <td>NaN</td>\n",
       "      <td>4.5</td>\n",
       "    </tr>\n",
       "    <tr>\n",
       "      <th>License to Wed</th>\n",
       "      <td>5.0</td>\n",
       "      <td>4.0</td>\n",
       "      <td>NaN</td>\n",
       "      <td>2.0</td>\n",
       "      <td>3.0</td>\n",
       "      <td>4.0</td>\n",
       "      <td>3.5</td>\n",
       "      <td>5.0</td>\n",
       "      <td>4.0</td>\n",
       "      <td>5.0</td>\n",
       "    </tr>\n",
       "    <tr>\n",
       "      <th>Lonely Hearts</th>\n",
       "      <td>5.0</td>\n",
       "      <td>5.0</td>\n",
       "      <td>3.0</td>\n",
       "      <td>4.0</td>\n",
       "      <td>4.0</td>\n",
       "      <td>4.0</td>\n",
       "      <td>5.0</td>\n",
       "      <td>5.0</td>\n",
       "      <td>NaN</td>\n",
       "      <td>4.0</td>\n",
       "    </tr>\n",
       "    <tr>\n",
       "      <th>Mr. Holland's Opus</th>\n",
       "      <td>2.0</td>\n",
       "      <td>1.0</td>\n",
       "      <td>3.5</td>\n",
       "      <td>3.0</td>\n",
       "      <td>2.5</td>\n",
       "      <td>2.0</td>\n",
       "      <td>NaN</td>\n",
       "      <td>4.0</td>\n",
       "      <td>4.0</td>\n",
       "      <td>3.5</td>\n",
       "    </tr>\n",
       "    <tr>\n",
       "      <th>Psycho</th>\n",
       "      <td>2.0</td>\n",
       "      <td>3.0</td>\n",
       "      <td>4.0</td>\n",
       "      <td>4.0</td>\n",
       "      <td>3.0</td>\n",
       "      <td>3.0</td>\n",
       "      <td>3.0</td>\n",
       "      <td>5.0</td>\n",
       "      <td>3.0</td>\n",
       "      <td>NaN</td>\n",
       "    </tr>\n",
       "    <tr>\n",
       "      <th>Rain Man</th>\n",
       "      <td>4.0</td>\n",
       "      <td>4.0</td>\n",
       "      <td>3.5</td>\n",
       "      <td>3.0</td>\n",
       "      <td>NaN</td>\n",
       "      <td>2.0</td>\n",
       "      <td>3.0</td>\n",
       "      <td>5.0</td>\n",
       "      <td>3.0</td>\n",
       "      <td>3.0</td>\n",
       "    </tr>\n",
       "    <tr>\n",
       "      <th>Sleepless in Seattle</th>\n",
       "      <td>5.0</td>\n",
       "      <td>5.0</td>\n",
       "      <td>NaN</td>\n",
       "      <td>5.0</td>\n",
       "      <td>4.0</td>\n",
       "      <td>5.0</td>\n",
       "      <td>4.0</td>\n",
       "      <td>2.0</td>\n",
       "      <td>5.0</td>\n",
       "      <td>5.0</td>\n",
       "    </tr>\n",
       "    <tr>\n",
       "      <th>The 39 Steps</th>\n",
       "      <td>5.0</td>\n",
       "      <td>4.0</td>\n",
       "      <td>4.0</td>\n",
       "      <td>4.0</td>\n",
       "      <td>3.5</td>\n",
       "      <td>5.0</td>\n",
       "      <td>NaN</td>\n",
       "      <td>2.0</td>\n",
       "      <td>5.0</td>\n",
       "      <td>4.5</td>\n",
       "    </tr>\n",
       "    <tr>\n",
       "      <th>The Endless Summer</th>\n",
       "      <td>4.5</td>\n",
       "      <td>5.0</td>\n",
       "      <td>4.0</td>\n",
       "      <td>NaN</td>\n",
       "      <td>2.5</td>\n",
       "      <td>4.0</td>\n",
       "      <td>4.0</td>\n",
       "      <td>4.0</td>\n",
       "      <td>2.0</td>\n",
       "      <td>3.5</td>\n",
       "    </tr>\n",
       "    <tr>\n",
       "      <th>The Forbidden Kingdom</th>\n",
       "      <td>1.0</td>\n",
       "      <td>5.0</td>\n",
       "      <td>3.0</td>\n",
       "      <td>NaN</td>\n",
       "      <td>3.0</td>\n",
       "      <td>4.5</td>\n",
       "      <td>5.0</td>\n",
       "      <td>3.0</td>\n",
       "      <td>4.0</td>\n",
       "      <td>3.5</td>\n",
       "    </tr>\n",
       "    <tr>\n",
       "      <th>The Terminal</th>\n",
       "      <td>2.5</td>\n",
       "      <td>3.0</td>\n",
       "      <td>3.0</td>\n",
       "      <td>NaN</td>\n",
       "      <td>4.0</td>\n",
       "      <td>3.5</td>\n",
       "      <td>5.0</td>\n",
       "      <td>4.0</td>\n",
       "      <td>4.0</td>\n",
       "      <td>3.5</td>\n",
       "    </tr>\n",
       "  </tbody>\n",
       "</table>\n",
       "</div>"
      ],
      "text/plain": [
       "                        15   30  311  452  468  509  547  564  624   73\n",
       "movie                                                                  \n",
       "88 Minutes             2.0  4.0  2.0  NaN  2.0  2.0  1.5  2.0  3.0  3.5\n",
       "A Time to Kill         3.0  5.0  2.5  2.0  2.0  3.0  NaN  4.0  3.0  3.0\n",
       "Barry Lyndon           4.0  NaN  3.0  3.0  3.0  3.5  4.0  5.0  4.0  2.5\n",
       "Gleaming the Cube      2.5  4.0  4.0  NaN  3.0  3.0  3.0  4.0  3.0  4.0\n",
       "Judgment Night         4.0  4.0  4.0  4.0  3.5  3.0  2.5  1.0  NaN  4.5\n",
       "License to Wed         5.0  4.0  NaN  2.0  3.0  4.0  3.5  5.0  4.0  5.0\n",
       "Lonely Hearts          5.0  5.0  3.0  4.0  4.0  4.0  5.0  5.0  NaN  4.0\n",
       "Mr. Holland's Opus     2.0  1.0  3.5  3.0  2.5  2.0  NaN  4.0  4.0  3.5\n",
       "Psycho                 2.0  3.0  4.0  4.0  3.0  3.0  3.0  5.0  3.0  NaN\n",
       "Rain Man               4.0  4.0  3.5  3.0  NaN  2.0  3.0  5.0  3.0  3.0\n",
       "Sleepless in Seattle   5.0  5.0  NaN  5.0  4.0  5.0  4.0  2.0  5.0  5.0\n",
       "The 39 Steps           5.0  4.0  4.0  4.0  3.5  5.0  NaN  2.0  5.0  4.5\n",
       "The Endless Summer     4.5  5.0  4.0  NaN  2.5  4.0  4.0  4.0  2.0  3.5\n",
       "The Forbidden Kingdom  1.0  5.0  3.0  NaN  3.0  4.5  5.0  3.0  4.0  3.5\n",
       "The Terminal           2.5  3.0  3.0  NaN  4.0  3.5  5.0  4.0  4.0  3.5"
      ]
     },
     "execution_count": 5,
     "metadata": {},
     "output_type": "execute_result"
    }
   ],
   "source": [
    "ratings_df = pd.read_csv('small_movie_ratings.csv', index_col=0)\n",
    "ratings_df"
   ]
  },
  {
   "cell_type": "code",
   "execution_count": 18,
   "id": "5afc7a42",
   "metadata": {
    "ExecuteTime": {
     "end_time": "2022-03-19T01:28:00.013120Z",
     "start_time": "2022-03-19T01:28:00.000957Z"
    }
   },
   "outputs": [
    {
     "data": {
      "text/plain": [
       "1.0"
      ]
     },
     "execution_count": 18,
     "metadata": {},
     "output_type": "execute_result"
    }
   ],
   "source": [
    "user1 = [0, 1, 2]\n",
    "user2 = [0, 1, 2]\n",
    "np.corrcoef(user1, user2)[0, 1]"
   ]
  },
  {
   "cell_type": "code",
   "execution_count": 20,
   "id": "d0a0f257",
   "metadata": {
    "ExecuteTime": {
     "end_time": "2022-03-19T01:28:40.431341Z",
     "start_time": "2022-03-19T01:28:40.419730Z"
    }
   },
   "outputs": [
    {
     "data": {
      "text/plain": [
       "1.0"
      ]
     },
     "execution_count": 20,
     "metadata": {},
     "output_type": "execute_result"
    }
   ],
   "source": [
    "user1 = [0, 1, 2]\n",
    "user2 = [0, 2, 4]\n",
    "np.corrcoef(user1, user2)[0, 1]"
   ]
  },
  {
   "cell_type": "code",
   "execution_count": 19,
   "id": "3a3930c6",
   "metadata": {
    "ExecuteTime": {
     "end_time": "2022-03-19T01:28:25.275764Z",
     "start_time": "2022-03-19T01:28:25.264647Z"
    }
   },
   "outputs": [
    {
     "data": {
      "text/plain": [
       "-1.0"
      ]
     },
     "execution_count": 19,
     "metadata": {},
     "output_type": "execute_result"
    }
   ],
   "source": [
    "user1 = [0, 1, 2, 3]\n",
    "user2 = [3, 2, 1, 0]\n",
    "np.corrcoef(user1, user2)[0, 1]"
   ]
  },
  {
   "cell_type": "code",
   "execution_count": 6,
   "id": "32cffef4",
   "metadata": {
    "ExecuteTime": {
     "end_time": "2022-03-19T01:07:41.845164Z",
     "start_time": "2022-03-19T01:07:41.837544Z"
    }
   },
   "outputs": [],
   "source": [
    "def find_correlation_between_two_users(ratings_df: pd.DataFrame, user1: str, user2: str):\n",
    "    \"\"\"Find correlation between two users based on their rated movies using Pearson correlation\"\"\"\n",
    "    rated_movies_by_both = ratings_df[[user1, user2]].dropna(axis=0).values\n",
    "    user1_ratings = rated_movies_by_both[:, 0]\n",
    "    user2_ratings = rated_movies_by_both[:, 1]\n",
    "    return np.corrcoef(user1_ratings, user2_ratings)[0, 1]"
   ]
  },
  {
   "cell_type": "code",
   "execution_count": 7,
   "id": "dca5b86e",
   "metadata": {
    "ExecuteTime": {
     "end_time": "2022-03-19T01:07:42.528227Z",
     "start_time": "2022-03-19T01:07:42.309608Z"
    }
   },
   "outputs": [],
   "source": [
    "users = list(ratings_df.columns)\n",
    "movies = list(ratings_df.index)\n",
    "similarity_matrix = np.array([[find_correlation_between_two_users(ratings_df, user1, user2) for user1 in users] for user2 in users])\n",
    "similarity_df = pd.DataFrame(similarity_matrix, columns=users, index=users)"
   ]
  },
  {
   "cell_type": "code",
   "execution_count": 51,
   "id": "f74c559a",
   "metadata": {
    "ExecuteTime": {
     "end_time": "2022-03-18T23:59:48.827602Z",
     "start_time": "2022-03-18T23:59:48.792152Z"
    },
    "scrolled": true
   },
   "outputs": [
    {
     "data": {
      "text/html": [
       "<div>\n",
       "<style scoped>\n",
       "    .dataframe tbody tr th:only-of-type {\n",
       "        vertical-align: middle;\n",
       "    }\n",
       "\n",
       "    .dataframe tbody tr th {\n",
       "        vertical-align: top;\n",
       "    }\n",
       "\n",
       "    .dataframe thead th {\n",
       "        text-align: right;\n",
       "    }\n",
       "</style>\n",
       "<table border=\"1\" class=\"dataframe\">\n",
       "  <thead>\n",
       "    <tr style=\"text-align: right;\">\n",
       "      <th></th>\n",
       "      <th>15</th>\n",
       "      <th>30</th>\n",
       "      <th>311</th>\n",
       "      <th>452</th>\n",
       "      <th>468</th>\n",
       "      <th>509</th>\n",
       "      <th>547</th>\n",
       "      <th>564</th>\n",
       "      <th>624</th>\n",
       "      <th>73</th>\n",
       "    </tr>\n",
       "  </thead>\n",
       "  <tbody>\n",
       "    <tr>\n",
       "      <th>15</th>\n",
       "      <td>1.000000</td>\n",
       "      <td>0.395367</td>\n",
       "      <td>0.305552</td>\n",
       "      <td>0.230556</td>\n",
       "      <td>0.434940</td>\n",
       "      <td>0.469956</td>\n",
       "      <td>0.123855</td>\n",
       "      <td>0.006502</td>\n",
       "      <td>0.267311</td>\n",
       "      <td>0.462184</td>\n",
       "    </tr>\n",
       "    <tr>\n",
       "      <th>30</th>\n",
       "      <td>0.395367</td>\n",
       "      <td>1.000000</td>\n",
       "      <td>-0.186997</td>\n",
       "      <td>0.140313</td>\n",
       "      <td>0.102723</td>\n",
       "      <td>0.535891</td>\n",
       "      <td>0.330386</td>\n",
       "      <td>-0.154949</td>\n",
       "      <td>-0.122837</td>\n",
       "      <td>0.122264</td>\n",
       "    </tr>\n",
       "    <tr>\n",
       "      <th>311</th>\n",
       "      <td>0.305552</td>\n",
       "      <td>-0.186997</td>\n",
       "      <td>1.000000</td>\n",
       "      <td>0.746033</td>\n",
       "      <td>0.344309</td>\n",
       "      <td>0.238744</td>\n",
       "      <td>-0.013878</td>\n",
       "      <td>-0.011111</td>\n",
       "      <td>-0.016278</td>\n",
       "      <td>0.513114</td>\n",
       "    </tr>\n",
       "    <tr>\n",
       "      <th>452</th>\n",
       "      <td>0.230556</td>\n",
       "      <td>0.140313</td>\n",
       "      <td>0.746033</td>\n",
       "      <td>1.000000</td>\n",
       "      <td>0.807781</td>\n",
       "      <td>0.453188</td>\n",
       "      <td>0.145556</td>\n",
       "      <td>-0.534522</td>\n",
       "      <td>0.537484</td>\n",
       "      <td>0.449013</td>\n",
       "    </tr>\n",
       "    <tr>\n",
       "      <th>468</th>\n",
       "      <td>0.434940</td>\n",
       "      <td>0.102723</td>\n",
       "      <td>0.344309</td>\n",
       "      <td>0.807781</td>\n",
       "      <td>1.000000</td>\n",
       "      <td>0.595241</td>\n",
       "      <td>0.606714</td>\n",
       "      <td>-0.090911</td>\n",
       "      <td>0.676868</td>\n",
       "      <td>0.500932</td>\n",
       "    </tr>\n",
       "    <tr>\n",
       "      <th>509</th>\n",
       "      <td>0.469956</td>\n",
       "      <td>0.535891</td>\n",
       "      <td>0.238744</td>\n",
       "      <td>0.453188</td>\n",
       "      <td>0.595241</td>\n",
       "      <td>1.000000</td>\n",
       "      <td>0.734303</td>\n",
       "      <td>-0.204034</td>\n",
       "      <td>0.554024</td>\n",
       "      <td>0.511659</td>\n",
       "    </tr>\n",
       "    <tr>\n",
       "      <th>547</th>\n",
       "      <td>0.123855</td>\n",
       "      <td>0.330386</td>\n",
       "      <td>-0.013878</td>\n",
       "      <td>0.145556</td>\n",
       "      <td>0.606714</td>\n",
       "      <td>0.734303</td>\n",
       "      <td>1.000000</td>\n",
       "      <td>0.344611</td>\n",
       "      <td>0.436309</td>\n",
       "      <td>-0.072267</td>\n",
       "    </tr>\n",
       "    <tr>\n",
       "      <th>564</th>\n",
       "      <td>0.006502</td>\n",
       "      <td>-0.154949</td>\n",
       "      <td>-0.011111</td>\n",
       "      <td>-0.534522</td>\n",
       "      <td>-0.090911</td>\n",
       "      <td>-0.204034</td>\n",
       "      <td>0.344611</td>\n",
       "      <td>1.000000</td>\n",
       "      <td>-0.423610</td>\n",
       "      <td>-0.440686</td>\n",
       "    </tr>\n",
       "    <tr>\n",
       "      <th>624</th>\n",
       "      <td>0.267311</td>\n",
       "      <td>-0.122837</td>\n",
       "      <td>-0.016278</td>\n",
       "      <td>0.537484</td>\n",
       "      <td>0.676868</td>\n",
       "      <td>0.554024</td>\n",
       "      <td>0.436309</td>\n",
       "      <td>-0.423610</td>\n",
       "      <td>1.000000</td>\n",
       "      <td>0.501961</td>\n",
       "    </tr>\n",
       "    <tr>\n",
       "      <th>73</th>\n",
       "      <td>0.462184</td>\n",
       "      <td>0.122264</td>\n",
       "      <td>0.513114</td>\n",
       "      <td>0.449013</td>\n",
       "      <td>0.500932</td>\n",
       "      <td>0.511659</td>\n",
       "      <td>-0.072267</td>\n",
       "      <td>-0.440686</td>\n",
       "      <td>0.501961</td>\n",
       "      <td>1.000000</td>\n",
       "    </tr>\n",
       "  </tbody>\n",
       "</table>\n",
       "</div>"
      ],
      "text/plain": [
       "           15        30       311       452       468       509       547  \\\n",
       "15   1.000000  0.395367  0.305552  0.230556  0.434940  0.469956  0.123855   \n",
       "30   0.395367  1.000000 -0.186997  0.140313  0.102723  0.535891  0.330386   \n",
       "311  0.305552 -0.186997  1.000000  0.746033  0.344309  0.238744 -0.013878   \n",
       "452  0.230556  0.140313  0.746033  1.000000  0.807781  0.453188  0.145556   \n",
       "468  0.434940  0.102723  0.344309  0.807781  1.000000  0.595241  0.606714   \n",
       "509  0.469956  0.535891  0.238744  0.453188  0.595241  1.000000  0.734303   \n",
       "547  0.123855  0.330386 -0.013878  0.145556  0.606714  0.734303  1.000000   \n",
       "564  0.006502 -0.154949 -0.011111 -0.534522 -0.090911 -0.204034  0.344611   \n",
       "624  0.267311 -0.122837 -0.016278  0.537484  0.676868  0.554024  0.436309   \n",
       "73   0.462184  0.122264  0.513114  0.449013  0.500932  0.511659 -0.072267   \n",
       "\n",
       "          564       624        73  \n",
       "15   0.006502  0.267311  0.462184  \n",
       "30  -0.154949 -0.122837  0.122264  \n",
       "311 -0.011111 -0.016278  0.513114  \n",
       "452 -0.534522  0.537484  0.449013  \n",
       "468 -0.090911  0.676868  0.500932  \n",
       "509 -0.204034  0.554024  0.511659  \n",
       "547  0.344611  0.436309 -0.072267  \n",
       "564  1.000000 -0.423610 -0.440686  \n",
       "624 -0.423610  1.000000  0.501961  \n",
       "73  -0.440686  0.501961  1.000000  "
      ]
     },
     "execution_count": 51,
     "metadata": {},
     "output_type": "execute_result"
    }
   ],
   "source": [
    "similarity_df"
   ]
  },
  {
   "cell_type": "markdown",
   "id": "7a89b8e5",
   "metadata": {},
   "source": [
    "The rating of user $v$ for the movie $i$ after adjusting for bias is: \n",
    "\n",
    "$\\text{adjusted_rating}_{vi} = \\text{rating}_{vi} - \\text{mean rating}_v$"
   ]
  },
  {
   "cell_type": "markdown",
   "id": "ed7e311f",
   "metadata": {},
   "source": [
    "The rating of user $u$ for movie $i$ before adjusting for the bias of user $u$ is calculated by taking the weighted average of the ratings for movie $i$ from all neighbors $v$, who are similar to user $u$ and have rated movie $i$.\n",
    "\n",
    "$$\\text{rating before adjustment}_{ui}=\\frac{\\sum_v \\text{similarity}_{uv}\\times \\text{adjusted_rating}_{vi}}{\\sum_v |\\text{similarity}_{uv}|}$$"
   ]
  },
  {
   "cell_type": "markdown",
   "id": "3e9a01d5",
   "metadata": {},
   "source": [
    "The rating of user $u$ for movie $i$ after adjusting for the bias is calculated by adding the mean rating of user $u$ to the rating before adjusting for bias of user $u$:\n",
    "$$\\text{rating}_{ui} = \\text{mean rating}_u + \\text{rating before adjustment}_{ui}$$"
   ]
  },
  {
   "cell_type": "code",
   "execution_count": 34,
   "id": "b7a6ef19",
   "metadata": {
    "ExecuteTime": {
     "end_time": "2022-03-20T13:58:45.297928Z",
     "start_time": "2022-03-20T13:58:45.238283Z"
    }
   },
   "outputs": [
    {
     "data": {
      "application/javascript": [
       "\n",
       "            setTimeout(function() {\n",
       "                var nbb_cell_id = 34;\n",
       "                var nbb_unformatted_code = \"def get_rated_user_for_a_movie(ratings_df: pd.DataFrame, movie: str):\\n    return ratings_df.loc[movie, :].dropna().index.values\\n\\n\\ndef get_top_neighbors(\\n    similarity_df: pd.DataFrame, user: str, rated_users: str, n_neighbors: int\\n):\\n    return similarity_df[user][rated_users].nlargest(n_neighbors).to_dict()\\n\\n\\ndef subtract_bias(rating: float, mean_rating: float):\\n    return rating - mean_rating\\n\\n\\ndef get_neighbor_rating_without_bias_per_movie(\\n    ratings_df: pd.DataFrame, user: str, movie: str\\n):\\n    \\\"\\\"\\\"Substract the rating of a user from the mean rating of that user to eliminate bias\\\"\\\"\\\"\\n    mean_rating = ratings_df[user].mean()\\n    rating = ratings_df.loc[movie, user]\\n    return subtract_bias(rating, mean_rating)\\n\\n\\ndef get_ratings_of_neighbors(ratings_df: pd.DataFrame, neighbors: list, movie: str):\\n    \\\"\\\"\\\"Get the ratings of all neighbors after adjusting for biases\\\"\\\"\\\"\\n    return [\\n        get_neighbor_rating_without_bias_per_movie(ratings_df, neighbor, movie)\\n        for neighbor in neighbors\\n    ]\\n\\n\\ndef get_weighted_average_rating_of_neighbors(ratings: list, neighbor_distance: list):\\n    weighted_sum = np.array(ratings).dot(np.array(neighbor_distance))\\n    abs_neigbor_distance = np.abs(neighbor_distance)\\n    return weighted_sum / np.sum(abs_neigbor_distance)\\n\\n\\ndef ger_user_rating(ratings_df: pd.DataFrame, user: str, avg_neighbor_rating: float):\\n    user_avg_rating = ratings_df[user].mean()\\n    return round(user_avg_rating + avg_neighbor_rating, 2)\";\n",
       "                var nbb_formatted_code = \"def get_rated_user_for_a_movie(ratings_df: pd.DataFrame, movie: str):\\n    return ratings_df.loc[movie, :].dropna().index.values\\n\\n\\ndef get_top_neighbors(\\n    similarity_df: pd.DataFrame, user: str, rated_users: str, n_neighbors: int\\n):\\n    return similarity_df[user][rated_users].nlargest(n_neighbors).to_dict()\\n\\n\\ndef subtract_bias(rating: float, mean_rating: float):\\n    return rating - mean_rating\\n\\n\\ndef get_neighbor_rating_without_bias_per_movie(\\n    ratings_df: pd.DataFrame, user: str, movie: str\\n):\\n    \\\"\\\"\\\"Substract the rating of a user from the mean rating of that user to eliminate bias\\\"\\\"\\\"\\n    mean_rating = ratings_df[user].mean()\\n    rating = ratings_df.loc[movie, user]\\n    return subtract_bias(rating, mean_rating)\\n\\n\\ndef get_ratings_of_neighbors(ratings_df: pd.DataFrame, neighbors: list, movie: str):\\n    \\\"\\\"\\\"Get the ratings of all neighbors after adjusting for biases\\\"\\\"\\\"\\n    return [\\n        get_neighbor_rating_without_bias_per_movie(ratings_df, neighbor, movie)\\n        for neighbor in neighbors\\n    ]\\n\\n\\ndef get_weighted_average_rating_of_neighbors(ratings: list, neighbor_distance: list):\\n    weighted_sum = np.array(ratings).dot(np.array(neighbor_distance))\\n    abs_neigbor_distance = np.abs(neighbor_distance)\\n    return weighted_sum / np.sum(abs_neigbor_distance)\\n\\n\\ndef ger_user_rating(ratings_df: pd.DataFrame, user: str, avg_neighbor_rating: float):\\n    user_avg_rating = ratings_df[user].mean()\\n    return round(user_avg_rating + avg_neighbor_rating, 2)\";\n",
       "                var nbb_cells = Jupyter.notebook.get_cells();\n",
       "                for (var i = 0; i < nbb_cells.length; ++i) {\n",
       "                    if (nbb_cells[i].input_prompt_number == nbb_cell_id) {\n",
       "                        if (nbb_cells[i].get_text() == nbb_unformatted_code) {\n",
       "                             nbb_cells[i].set_text(nbb_formatted_code);\n",
       "                        }\n",
       "                        break;\n",
       "                    }\n",
       "                }\n",
       "            }, 500);\n",
       "            "
      ],
      "text/plain": [
       "<IPython.core.display.Javascript object>"
      ]
     },
     "metadata": {},
     "output_type": "display_data"
    }
   ],
   "source": [
    "def get_rated_user_for_a_movie(ratings_df: pd.DataFrame, movie: str):\n",
    "    return ratings_df.loc[movie, :].dropna().index.values\n",
    "\n",
    "\n",
    "def get_top_neighbors(\n",
    "    similarity_df: pd.DataFrame, user: str, rated_users: str, n_neighbors: int\n",
    "):\n",
    "    return similarity_df[user][rated_users].nlargest(n_neighbors).to_dict()\n",
    "\n",
    "\n",
    "def subtract_bias(rating: float, mean_rating: float):\n",
    "    return rating - mean_rating\n",
    "\n",
    "\n",
    "def get_neighbor_rating_without_bias_per_movie(\n",
    "    ratings_df: pd.DataFrame, user: str, movie: str\n",
    "):\n",
    "    \"\"\"Substract the rating of a user from the mean rating of that user to eliminate bias\"\"\"\n",
    "    mean_rating = ratings_df[user].mean()\n",
    "    rating = ratings_df.loc[movie, user]\n",
    "    return subtract_bias(rating, mean_rating)\n",
    "\n",
    "\n",
    "def get_ratings_of_neighbors(ratings_df: pd.DataFrame, neighbors: list, movie: str):\n",
    "    \"\"\"Get the ratings of all neighbors after adjusting for biases\"\"\"\n",
    "    return [\n",
    "        get_neighbor_rating_without_bias_per_movie(ratings_df, neighbor, movie)\n",
    "        for neighbor in neighbors\n",
    "    ]\n",
    "\n",
    "def get_weighted_average_rating_of_neighbors(ratings: list, neighbor_distance: list):\n",
    "    weighted_sum = np.array(ratings).dot(np.array(neighbor_distance))\n",
    "    abs_neigbor_distance = np.abs(neighbor_distance)\n",
    "    return weighted_sum / np.sum(abs_neigbor_distance)\n",
    "\n",
    "\n",
    "def ger_user_rating(ratings_df: pd.DataFrame, user: str, avg_neighbor_rating: float):\n",
    "    user_avg_rating = ratings_df[user].mean()\n",
    "    return round(user_avg_rating + avg_neighbor_rating, 2)"
   ]
  },
  {
   "cell_type": "code",
   "execution_count": 35,
   "id": "9c15e9b0",
   "metadata": {
    "ExecuteTime": {
     "end_time": "2022-03-20T16:43:42.723282Z",
     "start_time": "2022-03-20T16:43:42.681981Z"
    }
   },
   "outputs": [
    {
     "data": {
      "application/javascript": [
       "\n",
       "            setTimeout(function() {\n",
       "                var nbb_cell_id = 35;\n",
       "                var nbb_unformatted_code = \"def predict_rating(df: pd.DataFrame, similarity_df: pd.DataFrame, user: str, movie: str, n_neighbors: int=2):\\n    \\\"\\\"\\\"Predict the rating of a user for a movie based on the ratings of neighbors\\\"\\\"\\\"\\n    ratings_df = df.copy()\\n    \\n    rated_users = get_rated_user_for_a_movie(ratings_df, movie)\\n    \\n    top_neighbors_distance = get_top_neighbors(similarity_df, user1, rated_users, n_neighbors)\\n    neighbors, distance = top_neighbors_distance.keys(), top_neighbors_distance.values()\\n    \\n    print(f'Top {n_neighbors} neighbors of user {user}, {movie}: {list(neighbors)}')\\n    \\n    ratings = get_ratings_of_neighbors(ratings_df, neighbors, movie) \\n    avg_neighbor_rating = get_weighted_average_rating_of_neighbors(ratings, list(distance))\\n    \\n    return ger_user_rating(ratings_df, user, avg_neighbor_rating)\";\n",
       "                var nbb_formatted_code = \"def predict_rating(\\n    df: pd.DataFrame,\\n    similarity_df: pd.DataFrame,\\n    user: str,\\n    movie: str,\\n    n_neighbors: int = 2,\\n):\\n    \\\"\\\"\\\"Predict the rating of a user for a movie based on the ratings of neighbors\\\"\\\"\\\"\\n    ratings_df = df.copy()\\n\\n    rated_users = get_rated_user_for_a_movie(ratings_df, movie)\\n\\n    top_neighbors_distance = get_top_neighbors(\\n        similarity_df, user1, rated_users, n_neighbors\\n    )\\n    neighbors, distance = top_neighbors_distance.keys(), top_neighbors_distance.values()\\n\\n    print(f\\\"Top {n_neighbors} neighbors of user {user}, {movie}: {list(neighbors)}\\\")\\n\\n    ratings = get_ratings_of_neighbors(ratings_df, neighbors, movie)\\n    avg_neighbor_rating = get_weighted_average_rating_of_neighbors(\\n        ratings, list(distance)\\n    )\\n\\n    return ger_user_rating(ratings_df, user, avg_neighbor_rating)\";\n",
       "                var nbb_cells = Jupyter.notebook.get_cells();\n",
       "                for (var i = 0; i < nbb_cells.length; ++i) {\n",
       "                    if (nbb_cells[i].input_prompt_number == nbb_cell_id) {\n",
       "                        if (nbb_cells[i].get_text() == nbb_unformatted_code) {\n",
       "                             nbb_cells[i].set_text(nbb_formatted_code);\n",
       "                        }\n",
       "                        break;\n",
       "                    }\n",
       "                }\n",
       "            }, 500);\n",
       "            "
      ],
      "text/plain": [
       "<IPython.core.display.Javascript object>"
      ]
     },
     "metadata": {},
     "output_type": "display_data"
    }
   ],
   "source": [
    "def predict_rating(\n",
    "    df: pd.DataFrame,\n",
    "    similarity_df: pd.DataFrame,\n",
    "    user: str,\n",
    "    movie: str,\n",
    "    n_neighbors: int = 2,\n",
    "):\n",
    "    \"\"\"Predict the rating of a user for a movie based on the ratings of neighbors\"\"\"\n",
    "    ratings_df = df.copy()\n",
    "\n",
    "    rated_users = get_rated_user_for_a_movie(ratings_df, movie)\n",
    "\n",
    "    top_neighbors_distance = get_top_neighbors(\n",
    "        similarity_df, user1, rated_users, n_neighbors\n",
    "    )\n",
    "    neighbors, distance = top_neighbors_distance.keys(), top_neighbors_distance.values()\n",
    "\n",
    "    print(f\"Top {n_neighbors} neighbors of user {user}, {movie}: {list(neighbors)}\")\n",
    "\n",
    "    ratings = get_ratings_of_neighbors(ratings_df, neighbors, movie)\n",
    "    avg_neighbor_rating = get_weighted_average_rating_of_neighbors(\n",
    "        ratings, list(distance)\n",
    "    )\n",
    "\n",
    "    return ger_user_rating(ratings_df, user, avg_neighbor_rating)"
   ]
  },
  {
   "cell_type": "code",
   "execution_count": 29,
   "id": "daca9f58",
   "metadata": {
    "ExecuteTime": {
     "end_time": "2022-03-20T01:09:41.681573Z",
     "start_time": "2022-03-20T01:09:41.665250Z"
    }
   },
   "outputs": [
    {
     "name": "stdout",
     "output_type": "stream",
     "text": [
      "Top 2 neighbors of user 547, A Time to Kill: ['509', '468']\n"
     ]
    },
    {
     "data": {
      "text/plain": [
       "2.9"
      ]
     },
     "execution_count": 29,
     "metadata": {},
     "output_type": "execute_result"
    }
   ],
   "source": [
    "rating = predict_rating(ratings_df, similarity_df, user1, movie)\n",
    "rating "
   ]
  },
  {
   "cell_type": "code",
   "execution_count": 36,
   "id": "2e96e9b7",
   "metadata": {
    "ExecuteTime": {
     "end_time": "2022-03-20T16:45:23.673523Z",
     "start_time": "2022-03-20T16:45:23.554982Z"
    }
   },
   "outputs": [
    {
     "name": "stdout",
     "output_type": "stream",
     "text": [
      "Top 2 neighbors of user 30, Barry Lyndon: ['547', '509']\n",
      "Top 2 neighbors of user 311, License to Wed: ['547', '509']\n",
      "Top 2 neighbors of user 311, Sleepless in Seattle: ['547', '509']\n",
      "Top 2 neighbors of user 452, 88 Minutes: ['547', '509']\n",
      "Top 2 neighbors of user 452, Gleaming the Cube: ['547', '509']\n",
      "Top 2 neighbors of user 452, The Endless Summer: ['547', '509']\n",
      "Top 2 neighbors of user 452, The Forbidden Kingdom: ['547', '509']\n",
      "Top 2 neighbors of user 452, The Terminal: ['547', '509']\n",
      "Top 2 neighbors of user 468, Rain Man: ['547', '509']\n",
      "Top 2 neighbors of user 547, A Time to Kill: ['509', '468']\n",
      "Top 2 neighbors of user 547, Mr. Holland's Opus: ['509', '468']\n",
      "Top 2 neighbors of user 547, The 39 Steps: ['509', '468']\n",
      "Top 2 neighbors of user 624, Judgment Night: ['547', '509']\n",
      "Top 2 neighbors of user 624, Lonely Hearts: ['547', '509']\n",
      "Top 2 neighbors of user 73, Psycho: ['547', '509']\n"
     ]
    },
    {
     "data": {
      "application/javascript": [
       "\n",
       "            setTimeout(function() {\n",
       "                var nbb_cell_id = 36;\n",
       "                var nbb_unformatted_code = \"full_ratings = ratings_df.copy()\\n\\nfor user, movies in full_ratings.iteritems():\\n    for movie in movies.keys():\\n        if np.isnan(full_ratings.loc[movie, user]):\\n            full_ratings.loc[movie, user] = predict_rating(ratings_df, similarity_df, user, movie)\";\n",
       "                var nbb_formatted_code = \"full_ratings = ratings_df.copy()\\n\\nfor user, movies in full_ratings.iteritems():\\n    for movie in movies.keys():\\n        if np.isnan(full_ratings.loc[movie, user]):\\n            full_ratings.loc[movie, user] = predict_rating(\\n                ratings_df, similarity_df, user, movie\\n            )\";\n",
       "                var nbb_cells = Jupyter.notebook.get_cells();\n",
       "                for (var i = 0; i < nbb_cells.length; ++i) {\n",
       "                    if (nbb_cells[i].input_prompt_number == nbb_cell_id) {\n",
       "                        if (nbb_cells[i].get_text() == nbb_unformatted_code) {\n",
       "                             nbb_cells[i].set_text(nbb_formatted_code);\n",
       "                        }\n",
       "                        break;\n",
       "                    }\n",
       "                }\n",
       "            }, 500);\n",
       "            "
      ],
      "text/plain": [
       "<IPython.core.display.Javascript object>"
      ]
     },
     "metadata": {},
     "output_type": "display_data"
    }
   ],
   "source": [
    "full_ratings = ratings_df.copy()\n",
    "\n",
    "for user, movies in full_ratings.iteritems():\n",
    "    for movie in movies.keys():\n",
    "        if np.isnan(full_ratings.loc[movie, user]):\n",
    "            full_ratings.loc[movie, user] = predict_rating(\n",
    "                ratings_df, similarity_df, user, movie\n",
    "            )"
   ]
  },
  {
   "cell_type": "code",
   "execution_count": 22,
   "id": "cea13bc6",
   "metadata": {
    "ExecuteTime": {
     "end_time": "2022-03-18T21:50:38.666400Z",
     "start_time": "2022-03-18T21:50:38.655767Z"
    }
   },
   "outputs": [
    {
     "data": {
      "text/html": [
       "<div>\n",
       "<style scoped>\n",
       "    .dataframe tbody tr th:only-of-type {\n",
       "        vertical-align: middle;\n",
       "    }\n",
       "\n",
       "    .dataframe tbody tr th {\n",
       "        vertical-align: top;\n",
       "    }\n",
       "\n",
       "    .dataframe thead th {\n",
       "        text-align: right;\n",
       "    }\n",
       "</style>\n",
       "<table border=\"1\" class=\"dataframe\">\n",
       "  <thead>\n",
       "    <tr style=\"text-align: right;\">\n",
       "      <th>userId</th>\n",
       "      <th>15</th>\n",
       "      <th>452</th>\n",
       "      <th>468</th>\n",
       "      <th>547</th>\n",
       "      <th>564</th>\n",
       "      <th>73</th>\n",
       "    </tr>\n",
       "    <tr>\n",
       "      <th>movie</th>\n",
       "      <th></th>\n",
       "      <th></th>\n",
       "      <th></th>\n",
       "      <th></th>\n",
       "      <th></th>\n",
       "      <th></th>\n",
       "    </tr>\n",
       "  </thead>\n",
       "  <tbody>\n",
       "    <tr>\n",
       "      <th>Avalon</th>\n",
       "      <td>3.5</td>\n",
       "      <td>4.00</td>\n",
       "      <td>2.7</td>\n",
       "      <td>3.50</td>\n",
       "      <td>4.0</td>\n",
       "      <td>3.00</td>\n",
       "    </tr>\n",
       "    <tr>\n",
       "      <th>Carry On Screaming</th>\n",
       "      <td>1.5</td>\n",
       "      <td>5.00</td>\n",
       "      <td>3.0</td>\n",
       "      <td>4.50</td>\n",
       "      <td>4.0</td>\n",
       "      <td>3.06</td>\n",
       "    </tr>\n",
       "    <tr>\n",
       "      <th>Malcolm X</th>\n",
       "      <td>4.0</td>\n",
       "      <td>1.00</td>\n",
       "      <td>2.0</td>\n",
       "      <td>3.00</td>\n",
       "      <td>4.0</td>\n",
       "      <td>3.42</td>\n",
       "    </tr>\n",
       "    <tr>\n",
       "      <th>Mr. Holland's Opus</th>\n",
       "      <td>2.0</td>\n",
       "      <td>3.00</td>\n",
       "      <td>2.5</td>\n",
       "      <td>3.55</td>\n",
       "      <td>4.0</td>\n",
       "      <td>3.50</td>\n",
       "    </tr>\n",
       "    <tr>\n",
       "      <th>Murder She Said</th>\n",
       "      <td>4.0</td>\n",
       "      <td>5.00</td>\n",
       "      <td>4.0</td>\n",
       "      <td>5.00</td>\n",
       "      <td>5.0</td>\n",
       "      <td>4.64</td>\n",
       "    </tr>\n",
       "    <tr>\n",
       "      <th>Murder, My Sweet</th>\n",
       "      <td>3.5</td>\n",
       "      <td>3.00</td>\n",
       "      <td>2.5</td>\n",
       "      <td>4.50</td>\n",
       "      <td>2.0</td>\n",
       "      <td>3.53</td>\n",
       "    </tr>\n",
       "    <tr>\n",
       "      <th>The Forbidden Kingdom</th>\n",
       "      <td>1.0</td>\n",
       "      <td>4.11</td>\n",
       "      <td>3.0</td>\n",
       "      <td>5.00</td>\n",
       "      <td>3.0</td>\n",
       "      <td>3.50</td>\n",
       "    </tr>\n",
       "    <tr>\n",
       "      <th>The Golden Compass</th>\n",
       "      <td>1.0</td>\n",
       "      <td>5.00</td>\n",
       "      <td>2.5</td>\n",
       "      <td>3.00</td>\n",
       "      <td>3.0</td>\n",
       "      <td>2.56</td>\n",
       "    </tr>\n",
       "    <tr>\n",
       "      <th>The Good Shepherd</th>\n",
       "      <td>5.0</td>\n",
       "      <td>4.00</td>\n",
       "      <td>3.5</td>\n",
       "      <td>5.00</td>\n",
       "      <td>4.0</td>\n",
       "      <td>4.72</td>\n",
       "    </tr>\n",
       "    <tr>\n",
       "      <th>The Man with the Golden Arm</th>\n",
       "      <td>5.0</td>\n",
       "      <td>3.88</td>\n",
       "      <td>3.5</td>\n",
       "      <td>3.50</td>\n",
       "      <td>4.0</td>\n",
       "      <td>4.50</td>\n",
       "    </tr>\n",
       "  </tbody>\n",
       "</table>\n",
       "</div>"
      ],
      "text/plain": [
       "userId                        15   452  468   547  564    73\n",
       "movie                                                       \n",
       "Avalon                       3.5  4.00  2.7  3.50  4.0  3.00\n",
       "Carry On Screaming           1.5  5.00  3.0  4.50  4.0  3.06\n",
       "Malcolm X                    4.0  1.00  2.0  3.00  4.0  3.42\n",
       "Mr. Holland's Opus           2.0  3.00  2.5  3.55  4.0  3.50\n",
       "Murder She Said              4.0  5.00  4.0  5.00  5.0  4.64\n",
       "Murder, My Sweet             3.5  3.00  2.5  4.50  2.0  3.53\n",
       "The Forbidden Kingdom        1.0  4.11  3.0  5.00  3.0  3.50\n",
       "The Golden Compass           1.0  5.00  2.5  3.00  3.0  2.56\n",
       "The Good Shepherd            5.0  4.00  3.5  5.00  4.0  4.72\n",
       "The Man with the Golden Arm  5.0  3.88  3.5  3.50  4.0  4.50"
      ]
     },
     "execution_count": 22,
     "metadata": {},
     "output_type": "execute_result"
    }
   ],
   "source": [
    "full_ratings"
   ]
  }
 ],
 "metadata": {
  "kernelspec": {
   "display_name": "Python 3 (ipykernel)",
   "language": "python",
   "name": "python3"
  },
  "language_info": {
   "codemirror_mode": {
    "name": "ipython",
    "version": 3
   },
   "file_extension": ".py",
   "mimetype": "text/x-python",
   "name": "python",
   "nbconvert_exporter": "python",
   "pygments_lexer": "ipython3",
   "version": "3.8.10"
  },
  "toc": {
   "base_numbering": 1,
   "nav_menu": {},
   "number_sections": true,
   "sideBar": true,
   "skip_h1_title": false,
   "title_cell": "Table of Contents",
   "title_sidebar": "Contents",
   "toc_cell": false,
   "toc_position": {},
   "toc_section_display": true,
   "toc_window_display": false
  }
 },
 "nbformat": 4,
 "nbformat_minor": 5
}
