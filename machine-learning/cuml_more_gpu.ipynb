{
 "cells": [
  {
   "cell_type": "code",
   "execution_count": 9,
   "metadata": {
    "ExecuteTime": {
     "end_time": "2020-11-01T15:33:24.638055Z",
     "start_time": "2020-11-01T15:33:24.622753Z"
    }
   },
   "outputs": [
    {
     "name": "stdout",
     "output_type": "stream",
     "text": [
      "0.15.0\n"
     ]
    }
   ],
   "source": [
    "import cudf \n",
    "from sklearn import datasets\n",
    "import numpy as np \n",
    "\n",
    "from sklearn.model_selection import train_test_split\n",
    "from sklearn.preprocessing import StandardScaler\n",
    "from sklearn.linear_model import LogisticRegression, LinearRegression, Ridge\n",
    "from sklearn.ensemble import RandomForestClassifier\n",
    "from sklearn.svm import SVC \n",
    "from sklearn.neighbors import KNeighborsClassifier, KNeighborsRegressor\n",
    "from sklearn.datasets import make_moons\n",
    "\n",
    "from cuml.linear_model import (LogisticRegression as LogisticRegression_GPU,\n",
    "                               LinearRegression as LinearRegression_gpu,\n",
    "                              Ridge as Ridge_gpu)\n",
    "from cuml.svm import SVC as SVC_gpu\n",
    "from cuml.ensemble import RandomForestClassifier as RandomForestClassifier_gpu\n",
    "from cuml.neighbors import (KNeighborsClassifier as KNeighborsClassifier_gpu,\n",
    "                            KNeighborsRegressor as KNeighborsRegressor_gpu)\n",
    "\n",
    "from time import time\n",
    "from timeit import Timer, timeit\n",
    "\n",
    "import cutecharts.charts as ctc \n",
    "\n",
    "import cuml\n",
    "print(cuml.__version__)"
   ]
  },
  {
   "cell_type": "markdown",
   "metadata": {},
   "source": [
    "# Classification"
   ]
  },
  {
   "cell_type": "code",
   "execution_count": 10,
   "metadata": {
    "ExecuteTime": {
     "end_time": "2020-11-01T15:33:28.883567Z",
     "start_time": "2020-11-01T15:33:28.752417Z"
    }
   },
   "outputs": [],
   "source": [
    "X, y  = datasets.make_classification(n_samples=40000)"
   ]
  },
  {
   "cell_type": "code",
   "execution_count": 11,
   "metadata": {
    "ExecuteTime": {
     "end_time": "2020-11-01T15:33:29.210343Z",
     "start_time": "2020-11-01T15:33:29.202560Z"
    }
   },
   "outputs": [],
   "source": [
    "X = X.astype(np.float32)\n",
    "y = y.astype(np.float32)"
   ]
  },
  {
   "cell_type": "code",
   "execution_count": 12,
   "metadata": {
    "ExecuteTime": {
     "end_time": "2020-11-01T15:33:30.012190Z",
     "start_time": "2020-11-01T15:33:30.006201Z"
    }
   },
   "outputs": [],
   "source": [
    "def train_data(model, X=X, y=y):\n",
    "    clf = model\n",
    "    clf.fit(X, y)"
   ]
  },
  {
   "cell_type": "code",
   "execution_count": 19,
   "metadata": {
    "ExecuteTime": {
     "end_time": "2020-11-01T15:38:07.867545Z",
     "start_time": "2020-11-01T15:38:07.858495Z"
    }
   },
   "outputs": [],
   "source": [
    "def plot(sklearn_time, cuml_time):\n",
    "\n",
    "    chart = ctc.Bar('Sklearn vs cuml')\n",
    "    chart.set_options(\n",
    "        labels=['sklearn', 'cuml'],\n",
    "        x_label='library',\n",
    "        y_label='time (s)',\n",
    "        )\n",
    "\n",
    "    chart.add_series('time', data=[round(sklearn_time.average,2), round(cuml_time.average,2)])\n",
    "    return chart\n"
   ]
  },
  {
   "cell_type": "markdown",
   "metadata": {},
   "source": [
    "## SVC"
   ]
  },
  {
   "cell_type": "code",
   "execution_count": 6,
   "metadata": {
    "ExecuteTime": {
     "end_time": "2020-11-01T15:12:27.362706Z",
     "start_time": "2020-11-01T15:07:45.442816Z"
    }
   },
   "outputs": [
    {
     "name": "stdout",
     "output_type": "stream",
     "text": [
      "34.8 s ± 481 ms per loop (mean ± std. dev. of 7 runs, 1 loop each)\n"
     ]
    }
   ],
   "source": [
    "clf_svc = SVC(kernel='poly', degree=2, gamma='auto', C=1)\n",
    "sklearn_time_svc = %timeit -o train_data(clf_svc)"
   ]
  },
  {
   "cell_type": "code",
   "execution_count": 7,
   "metadata": {
    "ExecuteTime": {
     "end_time": "2020-11-01T15:12:50.785210Z",
     "start_time": "2020-11-01T15:12:27.364429Z"
    }
   },
   "outputs": [
    {
     "name": "stdout",
     "output_type": "stream",
     "text": [
      "2.83 s ± 9.25 ms per loop (mean ± std. dev. of 7 runs, 1 loop each)\n"
     ]
    }
   ],
   "source": [
    "clf_svc = SVC_gpu(kernel='poly', degree=2, gamma='auto', C=1)\n",
    "cuml_time_svc = %timeit -o train_data(clf_svc)"
   ]
  },
  {
   "cell_type": "code",
   "execution_count": 8,
   "metadata": {
    "ExecuteTime": {
     "end_time": "2020-11-01T15:12:50.793483Z",
     "start_time": "2020-11-01T15:12:50.788434Z"
    }
   },
   "outputs": [
    {
     "name": "stdout",
     "output_type": "stream",
     "text": [
      "Average time of sklearn's SVC 34.81425743485712 s\n",
      "Average time of cuml's SVC 2.8349827045714164 s\n",
      "Ratio between sklearn and cuml is 12.280236270478492\n"
     ]
    }
   ],
   "source": [
    "print(f\"\"\"Average time of sklearn's {clf_svc.__class__.__name__}\"\"\", sklearn_time_svc.average, 's')\n",
    "print(f\"\"\"Average time of cuml's {clf_svc.__class__.__name__}\"\"\", cuml_time_svc.average, 's')\n",
    "\n",
    "print('Ratio between sklearn and cuml is', sklearn_time_svc.average/cuml_time_svc.average)"
   ]
  },
  {
   "cell_type": "code",
   "execution_count": 9,
   "metadata": {
    "ExecuteTime": {
     "end_time": "2020-11-01T15:12:50.815207Z",
     "start_time": "2020-11-01T15:12:50.795433Z"
    }
   },
   "outputs": [
    {
     "data": {
      "text/html": [
       "\n",
       "<script>\n",
       "    require.config({\n",
       "        paths: {\n",
       "            'chartXkcd':'https://cdn.jsdelivr.net/npm/chart.xkcd@1.1/dist/chart.xkcd.min'\n",
       "        }\n",
       "    });\n",
       "</script>\n",
       "\n",
       "<div id=\"df2dd166f8574a5f8ed9a2425795d4d2\" class=\"chart-container\" style=\"width: 800px\">\n",
       "        <svg id=\"chart_df2dd166f8574a5f8ed9a2425795d4d2\"></svg>\n",
       "    </div>\n",
       "    <script>\n",
       "        require(['chartXkcd'], function(chartXkcd) {\n",
       "            const svg_df2dd166f8574a5f8ed9a2425795d4d2 = document.querySelector('#chart_df2dd166f8574a5f8ed9a2425795d4d2')\n",
       "            const chart_df2dd166f8574a5f8ed9a2425795d4d2 = new chartXkcd.Bar(svg_df2dd166f8574a5f8ed9a2425795d4d2, {\"title\": \"Sklearn vs cuml\", \"data\": {\"datasets\": [{\"label\": \"time\", \"data\": [34.81, 2.83]}], \"labels\": [\"sklearn\", \"cuml\"]}, \"xLabel\": \"library\", \"yLabel\": \"time (s)\", \"options\": {\"yTickCount\": 3}});\n",
       "        })\n",
       "    </script>\n"
      ],
      "text/plain": [
       "<cutecharts.render.engine.HTML at 0x7faf9a708910>"
      ]
     },
     "execution_count": 9,
     "metadata": {},
     "output_type": "execute_result"
    }
   ],
   "source": [
    "plot(sklearn_time_svc, cuml_time_svc).render_notebook()"
   ]
  },
  {
   "cell_type": "markdown",
   "metadata": {},
   "source": [
    "## Random Forest Classifier"
   ]
  },
  {
   "cell_type": "code",
   "execution_count": 16,
   "metadata": {
    "ExecuteTime": {
     "end_time": "2020-11-01T15:37:55.763012Z",
     "start_time": "2020-11-01T15:33:59.987732Z"
    }
   },
   "outputs": [
    {
     "name": "stdout",
     "output_type": "stream",
     "text": [
      "29.2 s ± 247 ms per loop (mean ± std. dev. of 7 runs, 1 loop each)\n"
     ]
    }
   ],
   "source": [
    "clf_rf = RandomForestClassifier(max_features=1.0,\n",
    "#                    n_bins=8,\n",
    "                   n_estimators=40)\n",
    "sklearn_time_rf = %timeit -o train_data(clf_rf)"
   ]
  },
  {
   "cell_type": "code",
   "execution_count": 15,
   "metadata": {
    "ExecuteTime": {
     "end_time": "2020-11-01T15:33:57.093811Z",
     "start_time": "2020-11-01T15:33:52.146550Z"
    }
   },
   "outputs": [
    {
     "name": "stdout",
     "output_type": "stream",
     "text": [
      "316 ms ± 22.9 ms per loop (mean ± std. dev. of 7 runs, 1 loop each)\n"
     ]
    }
   ],
   "source": [
    "clf_rf = RandomForestClassifier_gpu(max_features=1.0,\n",
    "#                    n_bins=8,\n",
    "                   n_estimators=40)\n",
    "cuml_time_rf = %timeit -o train_data(clf_rf)"
   ]
  },
  {
   "cell_type": "code",
   "execution_count": 17,
   "metadata": {
    "ExecuteTime": {
     "end_time": "2020-11-01T15:37:55.768085Z",
     "start_time": "2020-11-01T15:37:55.764522Z"
    }
   },
   "outputs": [
    {
     "name": "stdout",
     "output_type": "stream",
     "text": [
      "Average time of sklearn's RandomForestClassifier 29.213289268571412 s\n",
      "Average time of cuml's RandomForestClassifier 0.31644228657140566 s\n",
      "Ratio between sklearn and cuml is 92.31790600773387\n"
     ]
    }
   ],
   "source": [
    "print(f\"\"\"Average time of sklearn's {clf_rf.__class__.__name__}\"\"\", sklearn_time_rf.average, 's')\n",
    "print(f\"\"\"Average time of cuml's {clf_rf.__class__.__name__}\"\"\", cuml_time_rf.average, 's')\n",
    "\n",
    "print('Ratio between sklearn and cuml is', sklearn_time_rf.average/cuml_time_rf.average)"
   ]
  },
  {
   "cell_type": "code",
   "execution_count": 20,
   "metadata": {
    "ExecuteTime": {
     "end_time": "2020-11-01T15:38:12.789321Z",
     "start_time": "2020-11-01T15:38:12.764573Z"
    }
   },
   "outputs": [
    {
     "data": {
      "text/html": [
       "\n",
       "<script>\n",
       "    require.config({\n",
       "        paths: {\n",
       "            'chartXkcd':'https://cdn.jsdelivr.net/npm/chart.xkcd@1.1/dist/chart.xkcd.min'\n",
       "        }\n",
       "    });\n",
       "</script>\n",
       "\n",
       "<div id=\"6ab3c1da3d4e40ba9325ad5e4d1cc564\" class=\"chart-container\" style=\"width: 800px\">\n",
       "        <svg id=\"chart_6ab3c1da3d4e40ba9325ad5e4d1cc564\"></svg>\n",
       "    </div>\n",
       "    <script>\n",
       "        require(['chartXkcd'], function(chartXkcd) {\n",
       "            const svg_6ab3c1da3d4e40ba9325ad5e4d1cc564 = document.querySelector('#chart_6ab3c1da3d4e40ba9325ad5e4d1cc564')\n",
       "            const chart_6ab3c1da3d4e40ba9325ad5e4d1cc564 = new chartXkcd.Bar(svg_6ab3c1da3d4e40ba9325ad5e4d1cc564, {\"title\": \"Sklearn vs cuml\", \"data\": {\"datasets\": [{\"label\": \"time\", \"data\": [29.21, 0.32]}], \"labels\": [\"sklearn\", \"cuml\"]}, \"xLabel\": \"library\", \"yLabel\": \"time (s)\", \"options\": {\"yTickCount\": 3}});\n",
       "        })\n",
       "    </script>\n"
      ],
      "text/plain": [
       "<cutecharts.render.engine.HTML at 0x7fd79f24f610>"
      ]
     },
     "execution_count": 20,
     "metadata": {},
     "output_type": "execute_result"
    }
   ],
   "source": [
    "plot(sklearn_time_rf, cuml_time_rf).render_notebook()"
   ]
  },
  {
   "cell_type": "markdown",
   "metadata": {},
   "source": [
    "## Nearest Neighbors Classifier"
   ]
  },
  {
   "cell_type": "code",
   "execution_count": 21,
   "metadata": {
    "ExecuteTime": {
     "end_time": "2020-11-01T15:38:24.998211Z",
     "start_time": "2020-11-01T15:38:18.679536Z"
    }
   },
   "outputs": [
    {
     "name": "stdout",
     "output_type": "stream",
     "text": [
      "76.2 ms ± 1.88 ms per loop (mean ± std. dev. of 7 runs, 10 loops each)\n"
     ]
    }
   ],
   "source": [
    "clf_nn = KNeighborsClassifier(n_neighbors=10)\n",
    "sklearn_time_nn = %timeit -o train_data(clf_nn)"
   ]
  },
  {
   "cell_type": "code",
   "execution_count": 22,
   "metadata": {
    "ExecuteTime": {
     "end_time": "2020-11-01T15:38:26.712637Z",
     "start_time": "2020-11-01T15:38:25.000119Z"
    }
   },
   "outputs": [
    {
     "name": "stdout",
     "output_type": "stream",
     "text": [
      "2.07 ms ± 162 µs per loop (mean ± std. dev. of 7 runs, 100 loops each)\n"
     ]
    }
   ],
   "source": [
    "clf_nn = KNeighborsClassifier_gpu(n_neighbors=10)\n",
    "cuml_time_nn = %timeit -o train_data(clf_nn)"
   ]
  },
  {
   "cell_type": "code",
   "execution_count": 23,
   "metadata": {
    "ExecuteTime": {
     "end_time": "2020-11-01T15:38:26.720216Z",
     "start_time": "2020-11-01T15:38:26.714998Z"
    }
   },
   "outputs": [
    {
     "name": "stdout",
     "output_type": "stream",
     "text": [
      "Average time of sklearn's KNeighborsClassifier 0.0761912703714253 s\n",
      "Average time of cuml's KNeighborsClassifier 0.0020676839028562558 s\n",
      "Ratio between sklearn and cuml is 36.8486064364946\n"
     ]
    }
   ],
   "source": [
    "print(f\"\"\"Average time of sklearn's {clf_nn.__class__.__name__}\"\"\", sklearn_time_nn.average, 's')\n",
    "print(f\"\"\"Average time of cuml's {clf_nn.__class__.__name__}\"\"\", cuml_time_nn.average, 's')\n",
    "\n",
    "print('Ratio between sklearn and cuml is', sklearn_time_nn.average/cuml_time_nn.average)"
   ]
  },
  {
   "cell_type": "code",
   "execution_count": 24,
   "metadata": {
    "ExecuteTime": {
     "end_time": "2020-11-01T15:38:26.735034Z",
     "start_time": "2020-11-01T15:38:26.723873Z"
    }
   },
   "outputs": [
    {
     "data": {
      "text/html": [
       "\n",
       "<script>\n",
       "    require.config({\n",
       "        paths: {\n",
       "            'chartXkcd':'https://cdn.jsdelivr.net/npm/chart.xkcd@1.1/dist/chart.xkcd.min'\n",
       "        }\n",
       "    });\n",
       "</script>\n",
       "\n",
       "<div id=\"4f3f6c8ef6dd41ea96efc9f43e92f1f4\" class=\"chart-container\" style=\"width: 800px\">\n",
       "        <svg id=\"chart_4f3f6c8ef6dd41ea96efc9f43e92f1f4\"></svg>\n",
       "    </div>\n",
       "    <script>\n",
       "        require(['chartXkcd'], function(chartXkcd) {\n",
       "            const svg_4f3f6c8ef6dd41ea96efc9f43e92f1f4 = document.querySelector('#chart_4f3f6c8ef6dd41ea96efc9f43e92f1f4')\n",
       "            const chart_4f3f6c8ef6dd41ea96efc9f43e92f1f4 = new chartXkcd.Bar(svg_4f3f6c8ef6dd41ea96efc9f43e92f1f4, {\"title\": \"Sklearn vs cuml\", \"data\": {\"datasets\": [{\"label\": \"time\", \"data\": [0.08, 0.0]}], \"labels\": [\"sklearn\", \"cuml\"]}, \"xLabel\": \"library\", \"yLabel\": \"time (s)\", \"options\": {\"yTickCount\": 3}});\n",
       "        })\n",
       "    </script>\n"
      ],
      "text/plain": [
       "<cutecharts.render.engine.HTML at 0x7fd7b3100290>"
      ]
     },
     "execution_count": 24,
     "metadata": {},
     "output_type": "execute_result"
    }
   ],
   "source": [
    "plot(sklearn_time_nn, cuml_time_nn).render_notebook()"
   ]
  },
  {
   "cell_type": "markdown",
   "metadata": {},
   "source": [
    "# Make Regression"
   ]
  },
  {
   "cell_type": "code",
   "execution_count": 25,
   "metadata": {
    "ExecuteTime": {
     "end_time": "2020-11-01T15:38:27.032915Z",
     "start_time": "2020-11-01T15:38:26.739858Z"
    }
   },
   "outputs": [],
   "source": [
    "X, y  = datasets.make_regression(n_samples=40000)"
   ]
  },
  {
   "cell_type": "markdown",
   "metadata": {},
   "source": [
    "## Linear Regression"
   ]
  },
  {
   "cell_type": "code",
   "execution_count": 26,
   "metadata": {
    "ExecuteTime": {
     "end_time": "2020-11-01T15:38:36.095091Z",
     "start_time": "2020-11-01T15:38:27.035631Z"
    }
   },
   "outputs": [
    {
     "name": "stdout",
     "output_type": "stream",
     "text": [
      "11.2 ms ± 1.03 ms per loop (mean ± std. dev. of 7 runs, 100 loops each)\n"
     ]
    }
   ],
   "source": [
    "lr = LinearRegression(fit_intercept = True, normalize = False,)\n",
    "sklearn_time_lr = %timeit -o train_data(lr)"
   ]
  },
  {
   "cell_type": "code",
   "execution_count": 27,
   "metadata": {
    "ExecuteTime": {
     "end_time": "2020-11-01T15:38:36.804829Z",
     "start_time": "2020-11-01T15:38:36.098407Z"
    }
   },
   "outputs": [
    {
     "name": "stdout",
     "output_type": "stream",
     "text": [
      "2.46 ms ± 505 µs per loop (mean ± std. dev. of 7 runs, 1 loop each)\n"
     ]
    }
   ],
   "source": [
    "lr = LinearRegression_gpu(fit_intercept = True, normalize = False,)\n",
    "cuml_time_lr = %timeit -o train_data(lr)"
   ]
  },
  {
   "cell_type": "code",
   "execution_count": 28,
   "metadata": {
    "ExecuteTime": {
     "end_time": "2020-11-01T15:38:36.810213Z",
     "start_time": "2020-11-01T15:38:36.806827Z"
    }
   },
   "outputs": [
    {
     "name": "stdout",
     "output_type": "stream",
     "text": [
      "Average time of sklearn's LinearRegression 0.01119720891857209 s\n",
      "Average time of cuml's LinearRegression 0.0024577860001175266 s\n",
      "Ratio between sklearn and cuml is 4.555811172346437\n"
     ]
    }
   ],
   "source": [
    "print(f\"\"\"Average time of sklearn's {lr.__class__.__name__}\"\"\", sklearn_time_lr.average, 's')\n",
    "print(f\"\"\"Average time of cuml's {lr.__class__.__name__}\"\"\", cuml_time_lr.average, 's')\n",
    "\n",
    "print('Ratio between sklearn and cuml is', sklearn_time_lr.average/cuml_time_lr.average)"
   ]
  },
  {
   "cell_type": "code",
   "execution_count": 29,
   "metadata": {
    "ExecuteTime": {
     "end_time": "2020-11-01T15:38:36.817232Z",
     "start_time": "2020-11-01T15:38:36.811571Z"
    }
   },
   "outputs": [
    {
     "data": {
      "text/html": [
       "\n",
       "<script>\n",
       "    require.config({\n",
       "        paths: {\n",
       "            'chartXkcd':'https://cdn.jsdelivr.net/npm/chart.xkcd@1.1/dist/chart.xkcd.min'\n",
       "        }\n",
       "    });\n",
       "</script>\n",
       "\n",
       "<div id=\"4a70733a2fc14183b3beca80815b28c4\" class=\"chart-container\" style=\"width: 800px\">\n",
       "        <svg id=\"chart_4a70733a2fc14183b3beca80815b28c4\"></svg>\n",
       "    </div>\n",
       "    <script>\n",
       "        require(['chartXkcd'], function(chartXkcd) {\n",
       "            const svg_4a70733a2fc14183b3beca80815b28c4 = document.querySelector('#chart_4a70733a2fc14183b3beca80815b28c4')\n",
       "            const chart_4a70733a2fc14183b3beca80815b28c4 = new chartXkcd.Bar(svg_4a70733a2fc14183b3beca80815b28c4, {\"title\": \"Sklearn vs cuml\", \"data\": {\"datasets\": [{\"label\": \"time\", \"data\": [0.01, 0.0]}], \"labels\": [\"sklearn\", \"cuml\"]}, \"xLabel\": \"library\", \"yLabel\": \"time (s)\", \"options\": {\"yTickCount\": 3}});\n",
       "        })\n",
       "    </script>\n"
      ],
      "text/plain": [
       "<cutecharts.render.engine.HTML at 0x7fd79f6d2c10>"
      ]
     },
     "execution_count": 29,
     "metadata": {},
     "output_type": "execute_result"
    }
   ],
   "source": [
    "plot(sklearn_time_lr, cuml_time_lr).render_notebook()"
   ]
  },
  {
   "cell_type": "markdown",
   "metadata": {},
   "source": [
    "## Ridge Regresion"
   ]
  },
  {
   "cell_type": "code",
   "execution_count": 30,
   "metadata": {
    "ExecuteTime": {
     "end_time": "2020-11-01T15:38:39.149660Z",
     "start_time": "2020-11-01T15:38:36.818542Z"
    }
   },
   "outputs": [
    {
     "name": "stdout",
     "output_type": "stream",
     "text": [
      "29.1 ms ± 6.42 ms per loop (mean ± std. dev. of 7 runs, 10 loops each)\n"
     ]
    }
   ],
   "source": [
    "alpha = np.array([1e-5])\n",
    "\n",
    "ridge = Ridge(alpha = alpha, fit_intercept = True, normalize = False)\n",
    "sklearn_time_ridge = %timeit -o train_data(ridge)"
   ]
  },
  {
   "cell_type": "code",
   "execution_count": 31,
   "metadata": {
    "ExecuteTime": {
     "end_time": "2020-11-01T15:38:41.879404Z",
     "start_time": "2020-11-01T15:38:39.152111Z"
    }
   },
   "outputs": [
    {
     "name": "stdout",
     "output_type": "stream",
     "text": [
      "3.36 ms ± 233 µs per loop (mean ± std. dev. of 7 runs, 100 loops each)\n"
     ]
    }
   ],
   "source": [
    "ridge = Ridge_gpu(alpha = alpha, fit_intercept = True, normalize = False)\n",
    "cuml_time_ridge = %timeit -o train_data(ridge)"
   ]
  },
  {
   "cell_type": "code",
   "execution_count": 32,
   "metadata": {
    "ExecuteTime": {
     "end_time": "2020-11-01T15:38:41.885141Z",
     "start_time": "2020-11-01T15:38:41.881218Z"
    }
   },
   "outputs": [
    {
     "name": "stdout",
     "output_type": "stream",
     "text": [
      "Average time of sklearn's Ridge 0.029140467057140993 s\n",
      "Average time of cuml's Ridge 0.0033603680528572766 s\n",
      "Ratio between sklearn and cuml is 8.671808146837737\n"
     ]
    }
   ],
   "source": [
    "print(f\"\"\"Average time of sklearn's {ridge.__class__.__name__}\"\"\", sklearn_time_ridge.average, 's')\n",
    "print(f\"\"\"Average time of cuml's {ridge.__class__.__name__}\"\"\", cuml_time_ridge.average, 's')\n",
    "\n",
    "print('Ratio between sklearn and cuml is', sklearn_time_ridge.average/cuml_time_ridge.average)"
   ]
  },
  {
   "cell_type": "code",
   "execution_count": 33,
   "metadata": {
    "ExecuteTime": {
     "end_time": "2020-11-01T15:38:41.890687Z",
     "start_time": "2020-11-01T15:38:41.886258Z"
    }
   },
   "outputs": [
    {
     "data": {
      "text/html": [
       "\n",
       "<script>\n",
       "    require.config({\n",
       "        paths: {\n",
       "            'chartXkcd':'https://cdn.jsdelivr.net/npm/chart.xkcd@1.1/dist/chart.xkcd.min'\n",
       "        }\n",
       "    });\n",
       "</script>\n",
       "\n",
       "<div id=\"8f15fd535c1848f6a187c5baae0a8597\" class=\"chart-container\" style=\"width: 800px\">\n",
       "        <svg id=\"chart_8f15fd535c1848f6a187c5baae0a8597\"></svg>\n",
       "    </div>\n",
       "    <script>\n",
       "        require(['chartXkcd'], function(chartXkcd) {\n",
       "            const svg_8f15fd535c1848f6a187c5baae0a8597 = document.querySelector('#chart_8f15fd535c1848f6a187c5baae0a8597')\n",
       "            const chart_8f15fd535c1848f6a187c5baae0a8597 = new chartXkcd.Bar(svg_8f15fd535c1848f6a187c5baae0a8597, {\"title\": \"Sklearn vs cuml\", \"data\": {\"datasets\": [{\"label\": \"time\", \"data\": [0.03, 0.0]}], \"labels\": [\"sklearn\", \"cuml\"]}, \"xLabel\": \"library\", \"yLabel\": \"time (s)\", \"options\": {\"yTickCount\": 3}});\n",
       "        })\n",
       "    </script>\n"
      ],
      "text/plain": [
       "<cutecharts.render.engine.HTML at 0x7fd79f129950>"
      ]
     },
     "execution_count": 33,
     "metadata": {},
     "output_type": "execute_result"
    }
   ],
   "source": [
    "plot(sklearn_time_ridge, cuml_time_ridge).render_notebook()"
   ]
  },
  {
   "cell_type": "markdown",
   "metadata": {},
   "source": [
    "## Nearest Neighbors Regression\n"
   ]
  },
  {
   "cell_type": "code",
   "execution_count": 34,
   "metadata": {
    "ExecuteTime": {
     "end_time": "2020-11-01T15:38:48.426439Z",
     "start_time": "2020-11-01T15:38:41.892922Z"
    }
   },
   "outputs": [
    {
     "name": "stdout",
     "output_type": "stream",
     "text": [
      "79.1 ms ± 3.34 ms per loop (mean ± std. dev. of 7 runs, 10 loops each)\n"
     ]
    }
   ],
   "source": [
    "X, y = datasets.make_blobs(n_samples=4000, centers=5,\n",
    "                  n_features=10)\n",
    "\n",
    "knn = KNeighborsRegressor(n_neighbors=10)\n",
    "\n",
    "sklearn_time_knn = %timeit -o train_data(knn)"
   ]
  },
  {
   "cell_type": "code",
   "execution_count": 35,
   "metadata": {
    "ExecuteTime": {
     "end_time": "2020-11-01T15:39:01.523299Z",
     "start_time": "2020-11-01T15:38:48.428019Z"
    }
   },
   "outputs": [
    {
     "name": "stdout",
     "output_type": "stream",
     "text": [
      "1.61 ms ± 141 µs per loop (mean ± std. dev. of 7 runs, 1000 loops each)\n"
     ]
    }
   ],
   "source": [
    "knn = KNeighborsRegressor_gpu(n_neighbors=10)\n",
    "\n",
    "cuml_time_knn = %timeit -o train_data(knn)"
   ]
  },
  {
   "cell_type": "code",
   "execution_count": 36,
   "metadata": {
    "ExecuteTime": {
     "end_time": "2020-11-01T15:39:01.528886Z",
     "start_time": "2020-11-01T15:39:01.524610Z"
    }
   },
   "outputs": [
    {
     "data": {
      "text/html": [
       "\n",
       "<script>\n",
       "    require.config({\n",
       "        paths: {\n",
       "            'chartXkcd':'https://cdn.jsdelivr.net/npm/chart.xkcd@1.1/dist/chart.xkcd.min'\n",
       "        }\n",
       "    });\n",
       "</script>\n",
       "\n",
       "<div id=\"c8af40c1130545dcb89e26a763cc54ae\" class=\"chart-container\" style=\"width: 800px\">\n",
       "        <svg id=\"chart_c8af40c1130545dcb89e26a763cc54ae\"></svg>\n",
       "    </div>\n",
       "    <script>\n",
       "        require(['chartXkcd'], function(chartXkcd) {\n",
       "            const svg_c8af40c1130545dcb89e26a763cc54ae = document.querySelector('#chart_c8af40c1130545dcb89e26a763cc54ae')\n",
       "            const chart_c8af40c1130545dcb89e26a763cc54ae = new chartXkcd.Bar(svg_c8af40c1130545dcb89e26a763cc54ae, {\"title\": \"Sklearn vs cuml\", \"data\": {\"datasets\": [{\"label\": \"time\", \"data\": [0.08, 0.0]}], \"labels\": [\"sklearn\", \"cuml\"]}, \"xLabel\": \"library\", \"yLabel\": \"time (s)\", \"options\": {\"yTickCount\": 3}});\n",
       "        })\n",
       "    </script>\n"
      ],
      "text/plain": [
       "<cutecharts.render.engine.HTML at 0x7fd79f3fe2d0>"
      ]
     },
     "execution_count": 36,
     "metadata": {},
     "output_type": "execute_result"
    }
   ],
   "source": [
    "plot(sklearn_time_knn, cuml_time_knn).render_notebook()"
   ]
  },
  {
   "cell_type": "code",
   "execution_count": null,
   "metadata": {},
   "outputs": [],
   "source": []
  }
 ],
 "metadata": {
  "kernelspec": {
   "display_name": "Rapids-0.15",
   "language": "python",
   "name": "rapids-0.15"
  },
  "language_info": {
   "codemirror_mode": {
    "name": "ipython",
    "version": 3
   },
   "file_extension": ".py",
   "mimetype": "text/x-python",
   "name": "python",
   "nbconvert_exporter": "python",
   "pygments_lexer": "ipython3",
   "version": "3.7.8"
  },
  "toc": {
   "base_numbering": 1,
   "nav_menu": {},
   "number_sections": true,
   "sideBar": true,
   "skip_h1_title": false,
   "title_cell": "Table of Contents",
   "title_sidebar": "Contents",
   "toc_cell": false,
   "toc_position": {},
   "toc_section_display": true,
   "toc_window_display": false
  }
 },
 "nbformat": 4,
 "nbformat_minor": 4
}
