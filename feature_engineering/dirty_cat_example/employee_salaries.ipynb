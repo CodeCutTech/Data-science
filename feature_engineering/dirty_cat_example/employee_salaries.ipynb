{
 "cells": [
  {
   "cell_type": "markdown",
   "id": "78cef621",
   "metadata": {},
   "source": [
    "# Import data"
   ]
  },
  {
   "cell_type": "code",
   "execution_count": 1,
   "id": "51324c64",
   "metadata": {
    "ExecuteTime": {
     "end_time": "2021-05-02T23:10:30.345845Z",
     "start_time": "2021-05-02T23:10:27.843477Z"
    }
   },
   "outputs": [
    {
     "name": "stderr",
     "output_type": "stream",
     "text": [
      "Matplotlib created a temporary config/cache directory at /tmp/matplotlib-7fqi8j2_ because the default path (/home/user/.cache/matplotlib) is not a writable directory; it is highly recommended to set the MPLCONFIGDIR environment variable to a writable directory, in particular to speed up the import of Matplotlib and to better support multiprocessing.\n"
     ]
    }
   ],
   "source": [
    "from dirty_cat.datasets import fetch_employee_salaries\n",
    "from dirty_cat import SimilarityEncoder\n",
    "\n",
    "import pandas as pd\n",
    "import numpy as np\n",
    "import seaborn as sns"
   ]
  },
  {
   "cell_type": "code",
   "execution_count": 2,
   "id": "497de3c3",
   "metadata": {
    "ExecuteTime": {
     "end_time": "2021-05-02T23:10:30.648254Z",
     "start_time": "2021-05-02T23:10:30.347346Z"
    }
   },
   "outputs": [],
   "source": [
    "df = fetch_employee_salaries()[\"data\"]"
   ]
  },
  {
   "cell_type": "code",
   "execution_count": 3,
   "id": "73157da8",
   "metadata": {
    "ExecuteTime": {
     "end_time": "2021-05-02T23:10:30.680101Z",
     "start_time": "2021-05-02T23:10:30.651576Z"
    }
   },
   "outputs": [
    {
     "data": {
      "text/html": [
       "<div>\n",
       "<style scoped>\n",
       "    .dataframe tbody tr th:only-of-type {\n",
       "        vertical-align: middle;\n",
       "    }\n",
       "\n",
       "    .dataframe tbody tr th {\n",
       "        vertical-align: top;\n",
       "    }\n",
       "\n",
       "    .dataframe thead th {\n",
       "        text-align: right;\n",
       "    }\n",
       "</style>\n",
       "<table border=\"1\" class=\"dataframe\">\n",
       "  <thead>\n",
       "    <tr style=\"text-align: right;\">\n",
       "      <th></th>\n",
       "      <th>full_name</th>\n",
       "      <th>gender</th>\n",
       "      <th>2016_gross_pay_received</th>\n",
       "      <th>2016_overtime_pay</th>\n",
       "      <th>department</th>\n",
       "      <th>department_name</th>\n",
       "      <th>division</th>\n",
       "      <th>assignment_category</th>\n",
       "      <th>employee_position_title</th>\n",
       "      <th>underfilled_job_title</th>\n",
       "      <th>date_first_hired</th>\n",
       "      <th>year_first_hired</th>\n",
       "      <th>Current Annual Salary</th>\n",
       "    </tr>\n",
       "  </thead>\n",
       "  <tbody>\n",
       "    <tr>\n",
       "      <th>0</th>\n",
       "      <td>Aarhus, Pam J.</td>\n",
       "      <td>F</td>\n",
       "      <td>71225.98</td>\n",
       "      <td>416.10</td>\n",
       "      <td>POL</td>\n",
       "      <td>Department of Police</td>\n",
       "      <td>MSB Information Mgmt and Tech Division Records...</td>\n",
       "      <td>Fulltime-Regular</td>\n",
       "      <td>Office Services Coordinator</td>\n",
       "      <td>None</td>\n",
       "      <td>09/22/1986</td>\n",
       "      <td>1986.0</td>\n",
       "      <td>69222.18</td>\n",
       "    </tr>\n",
       "    <tr>\n",
       "      <th>1</th>\n",
       "      <td>Aaron, David J.</td>\n",
       "      <td>M</td>\n",
       "      <td>103088.48</td>\n",
       "      <td>3326.19</td>\n",
       "      <td>POL</td>\n",
       "      <td>Department of Police</td>\n",
       "      <td>ISB Major Crimes Division Fugitive Section</td>\n",
       "      <td>Fulltime-Regular</td>\n",
       "      <td>Master Police Officer</td>\n",
       "      <td>None</td>\n",
       "      <td>09/12/1988</td>\n",
       "      <td>1988.0</td>\n",
       "      <td>97392.47</td>\n",
       "    </tr>\n",
       "    <tr>\n",
       "      <th>2</th>\n",
       "      <td>Aaron, Marsha M.</td>\n",
       "      <td>F</td>\n",
       "      <td>107000.24</td>\n",
       "      <td>1353.32</td>\n",
       "      <td>HHS</td>\n",
       "      <td>Department of Health and Human Services</td>\n",
       "      <td>Adult Protective and Case Management Services</td>\n",
       "      <td>Fulltime-Regular</td>\n",
       "      <td>Social Worker IV</td>\n",
       "      <td>None</td>\n",
       "      <td>11/19/1989</td>\n",
       "      <td>1989.0</td>\n",
       "      <td>104717.28</td>\n",
       "    </tr>\n",
       "    <tr>\n",
       "      <th>3</th>\n",
       "      <td>Ababio, Godfred A.</td>\n",
       "      <td>M</td>\n",
       "      <td>57819.04</td>\n",
       "      <td>3423.07</td>\n",
       "      <td>COR</td>\n",
       "      <td>Correction and Rehabilitation</td>\n",
       "      <td>PRRS Facility and Security</td>\n",
       "      <td>Fulltime-Regular</td>\n",
       "      <td>Resident Supervisor II</td>\n",
       "      <td>None</td>\n",
       "      <td>05/05/2014</td>\n",
       "      <td>2014.0</td>\n",
       "      <td>52734.57</td>\n",
       "    </tr>\n",
       "    <tr>\n",
       "      <th>4</th>\n",
       "      <td>Ababu, Essayas</td>\n",
       "      <td>M</td>\n",
       "      <td>95815.17</td>\n",
       "      <td>NaN</td>\n",
       "      <td>HCA</td>\n",
       "      <td>Department of Housing and Community Affairs</td>\n",
       "      <td>Affordable Housing Programs</td>\n",
       "      <td>Fulltime-Regular</td>\n",
       "      <td>Planning Specialist III</td>\n",
       "      <td>None</td>\n",
       "      <td>03/05/2007</td>\n",
       "      <td>2007.0</td>\n",
       "      <td>93396.00</td>\n",
       "    </tr>\n",
       "    <tr>\n",
       "      <th>5</th>\n",
       "      <td>Abbamonte, Drew B.</td>\n",
       "      <td>M</td>\n",
       "      <td>80926.43</td>\n",
       "      <td>9111.09</td>\n",
       "      <td>POL</td>\n",
       "      <td>Department of Police</td>\n",
       "      <td>PSB 6th District Special Assignment Team</td>\n",
       "      <td>Fulltime-Regular</td>\n",
       "      <td>Police Officer III</td>\n",
       "      <td>None</td>\n",
       "      <td>07/16/2007</td>\n",
       "      <td>2007.0</td>\n",
       "      <td>70435.00</td>\n",
       "    </tr>\n",
       "    <tr>\n",
       "      <th>6</th>\n",
       "      <td>Abdalla, Eiman M.</td>\n",
       "      <td>F</td>\n",
       "      <td>27820.02</td>\n",
       "      <td>NaN</td>\n",
       "      <td>FRS</td>\n",
       "      <td>Fire and Rescue Services</td>\n",
       "      <td>EMS Billing</td>\n",
       "      <td>Fulltime-Regular</td>\n",
       "      <td>Accountant/Auditor II</td>\n",
       "      <td>None</td>\n",
       "      <td>06/27/2016</td>\n",
       "      <td>2016.0</td>\n",
       "      <td>60300.00</td>\n",
       "    </tr>\n",
       "    <tr>\n",
       "      <th>7</th>\n",
       "      <td>Abdelmoniem, Marwan M.</td>\n",
       "      <td>M</td>\n",
       "      <td>62588.67</td>\n",
       "      <td>NaN</td>\n",
       "      <td>HHS</td>\n",
       "      <td>Department of Health and Human Services</td>\n",
       "      <td>Head Start</td>\n",
       "      <td>Fulltime-Regular</td>\n",
       "      <td>Administrative Specialist II</td>\n",
       "      <td>None</td>\n",
       "      <td>11/17/2014</td>\n",
       "      <td>2014.0</td>\n",
       "      <td>64788.65</td>\n",
       "    </tr>\n",
       "    <tr>\n",
       "      <th>8</th>\n",
       "      <td>Abdool, Daniel Z.</td>\n",
       "      <td>M</td>\n",
       "      <td>NaN</td>\n",
       "      <td>NaN</td>\n",
       "      <td>FRS</td>\n",
       "      <td>Fire and Rescue Services</td>\n",
       "      <td>Recruit Training</td>\n",
       "      <td>Fulltime-Regular</td>\n",
       "      <td>Firefighter/Rescuer III</td>\n",
       "      <td>Firefighter/Rescuer I (Recruit)</td>\n",
       "      <td>12/12/2016</td>\n",
       "      <td>2016.0</td>\n",
       "      <td>45261.00</td>\n",
       "    </tr>\n",
       "    <tr>\n",
       "      <th>9</th>\n",
       "      <td>Abdul-Ghani, Hasinah J.</td>\n",
       "      <td>F</td>\n",
       "      <td>49336.12</td>\n",
       "      <td>275.03</td>\n",
       "      <td>POL</td>\n",
       "      <td>Department of Police</td>\n",
       "      <td>FSB Traffic Division Automated Traffic Enforce...</td>\n",
       "      <td>Fulltime-Regular</td>\n",
       "      <td>Police Aide</td>\n",
       "      <td>None</td>\n",
       "      <td>02/05/2007</td>\n",
       "      <td>2007.0</td>\n",
       "      <td>47670.09</td>\n",
       "    </tr>\n",
       "  </tbody>\n",
       "</table>\n",
       "</div>"
      ],
      "text/plain": [
       "                 full_name gender  2016_gross_pay_received  2016_overtime_pay  \\\n",
       "0           Aarhus, Pam J.      F                 71225.98             416.10   \n",
       "1          Aaron, David J.      M                103088.48            3326.19   \n",
       "2         Aaron, Marsha M.      F                107000.24            1353.32   \n",
       "3       Ababio, Godfred A.      M                 57819.04            3423.07   \n",
       "4           Ababu, Essayas      M                 95815.17                NaN   \n",
       "5       Abbamonte, Drew B.      M                 80926.43            9111.09   \n",
       "6        Abdalla, Eiman M.      F                 27820.02                NaN   \n",
       "7   Abdelmoniem, Marwan M.      M                 62588.67                NaN   \n",
       "8        Abdool, Daniel Z.      M                      NaN                NaN   \n",
       "9  Abdul-Ghani, Hasinah J.      F                 49336.12             275.03   \n",
       "\n",
       "  department                              department_name  \\\n",
       "0        POL                         Department of Police   \n",
       "1        POL                         Department of Police   \n",
       "2        HHS      Department of Health and Human Services   \n",
       "3        COR                Correction and Rehabilitation   \n",
       "4        HCA  Department of Housing and Community Affairs   \n",
       "5        POL                         Department of Police   \n",
       "6        FRS                     Fire and Rescue Services   \n",
       "7        HHS      Department of Health and Human Services   \n",
       "8        FRS                     Fire and Rescue Services   \n",
       "9        POL                         Department of Police   \n",
       "\n",
       "                                            division assignment_category  \\\n",
       "0  MSB Information Mgmt and Tech Division Records...    Fulltime-Regular   \n",
       "1         ISB Major Crimes Division Fugitive Section    Fulltime-Regular   \n",
       "2      Adult Protective and Case Management Services    Fulltime-Regular   \n",
       "3                         PRRS Facility and Security    Fulltime-Regular   \n",
       "4                        Affordable Housing Programs    Fulltime-Regular   \n",
       "5           PSB 6th District Special Assignment Team    Fulltime-Regular   \n",
       "6                                        EMS Billing    Fulltime-Regular   \n",
       "7                                         Head Start    Fulltime-Regular   \n",
       "8                                   Recruit Training    Fulltime-Regular   \n",
       "9  FSB Traffic Division Automated Traffic Enforce...    Fulltime-Regular   \n",
       "\n",
       "        employee_position_title            underfilled_job_title  \\\n",
       "0   Office Services Coordinator                             None   \n",
       "1         Master Police Officer                             None   \n",
       "2              Social Worker IV                             None   \n",
       "3        Resident Supervisor II                             None   \n",
       "4       Planning Specialist III                             None   \n",
       "5            Police Officer III                             None   \n",
       "6         Accountant/Auditor II                             None   \n",
       "7  Administrative Specialist II                             None   \n",
       "8       Firefighter/Rescuer III  Firefighter/Rescuer I (Recruit)   \n",
       "9                   Police Aide                             None   \n",
       "\n",
       "  date_first_hired  year_first_hired  Current Annual Salary  \n",
       "0       09/22/1986            1986.0               69222.18  \n",
       "1       09/12/1988            1988.0               97392.47  \n",
       "2       11/19/1989            1989.0              104717.28  \n",
       "3       05/05/2014            2014.0               52734.57  \n",
       "4       03/05/2007            2007.0               93396.00  \n",
       "5       07/16/2007            2007.0               70435.00  \n",
       "6       06/27/2016            2016.0               60300.00  \n",
       "7       11/17/2014            2014.0               64788.65  \n",
       "8       12/12/2016            2016.0               45261.00  \n",
       "9       02/05/2007            2007.0               47670.09  "
      ]
     },
     "execution_count": 3,
     "metadata": {},
     "output_type": "execute_result"
    }
   ],
   "source": [
    "df.head(10)"
   ]
  },
  {
   "cell_type": "code",
   "execution_count": 4,
   "id": "62e3c868",
   "metadata": {
    "ExecuteTime": {
     "end_time": "2021-05-02T23:10:30.720884Z",
     "start_time": "2021-05-02T23:10:30.681151Z"
    }
   },
   "outputs": [],
   "source": [
    "df[\"Date First Hired\"] = pd.to_datetime(df[\"date_first_hired\"])\n",
    "df[\"Year First Hired\"] = df[\"Date First Hired\"].apply(lambda x: x.year)\n",
    "# drop rows with NaN in gender\n",
    "df.dropna(subset=[\"gender\"], inplace=True)"
   ]
  },
  {
   "cell_type": "markdown",
   "id": "350d75f2",
   "metadata": {},
   "source": [
    "# Encoding"
   ]
  },
  {
   "cell_type": "code",
   "execution_count": 5,
   "id": "f50cfd4d",
   "metadata": {
    "ExecuteTime": {
     "end_time": "2021-05-02T23:10:30.724677Z",
     "start_time": "2021-05-02T23:10:30.721798Z"
    }
   },
   "outputs": [
    {
     "data": {
      "text/plain": [
       "array(['Office Services Coordinator', 'Master Police Officer',\n",
       "       'Social Worker IV', 'Resident Supervisor II',\n",
       "       'Planning Specialist III', 'Police Officer III',\n",
       "       'Accountant/Auditor II', 'Administrative Specialist II',\n",
       "       'Firefighter/Rescuer III', 'Police Aide'], dtype=object)"
      ]
     },
     "execution_count": 5,
     "metadata": {},
     "output_type": "execute_result"
    }
   ],
   "source": [
    "dirty_column = \"employee_position_title\"\n",
    "X_dirty = df[dirty_column].values\n",
    "sample = X_dirty[:10]\n",
    "sample"
   ]
  },
  {
   "cell_type": "markdown",
   "id": "954235a4",
   "metadata": {},
   "source": [
    "## One-hot Encoding"
   ]
  },
  {
   "cell_type": "code",
   "execution_count": 6,
   "id": "4f9ae77c",
   "metadata": {
    "ExecuteTime": {
     "end_time": "2021-05-02T23:10:30.727552Z",
     "start_time": "2021-05-02T23:10:30.725644Z"
    }
   },
   "outputs": [],
   "source": [
    "from sklearn.preprocessing import OneHotEncoder"
   ]
  },
  {
   "cell_type": "code",
   "execution_count": 7,
   "id": "59070362",
   "metadata": {
    "ExecuteTime": {
     "end_time": "2021-05-02T23:10:30.733961Z",
     "start_time": "2021-05-02T23:10:30.729479Z"
    }
   },
   "outputs": [
    {
     "data": {
      "text/plain": [
       "array([[0., 0., 0., 0., 1., 0., 0., 0., 0., 0.],\n",
       "       [0., 0., 0., 1., 0., 0., 0., 0., 0., 0.],\n",
       "       [0., 0., 0., 0., 0., 0., 0., 0., 0., 1.],\n",
       "       [0., 0., 0., 0., 0., 0., 0., 0., 1., 0.],\n",
       "       [0., 0., 0., 0., 0., 1., 0., 0., 0., 0.],\n",
       "       [0., 0., 0., 0., 0., 0., 0., 1., 0., 0.],\n",
       "       [1., 0., 0., 0., 0., 0., 0., 0., 0., 0.],\n",
       "       [0., 1., 0., 0., 0., 0., 0., 0., 0., 0.],\n",
       "       [0., 0., 1., 0., 0., 0., 0., 0., 0., 0.],\n",
       "       [0., 0., 0., 0., 0., 0., 1., 0., 0., 0.]])"
      ]
     },
     "execution_count": 7,
     "metadata": {},
     "output_type": "execute_result"
    }
   ],
   "source": [
    "enc = OneHotEncoder(sparse=False)\n",
    "onehot = enc.fit_transform(sample.reshape(-1, 1))\n",
    "onehot"
   ]
  },
  {
   "cell_type": "code",
   "execution_count": 8,
   "id": "957dfc05",
   "metadata": {
    "ExecuteTime": {
     "end_time": "2021-05-02T23:10:30.738014Z",
     "start_time": "2021-05-02T23:10:30.734974Z"
    }
   },
   "outputs": [],
   "source": [
    "onehot_df = pd.DataFrame(onehot, index=sample.ravel())"
   ]
  },
  {
   "cell_type": "code",
   "execution_count": 9,
   "id": "869da4ab",
   "metadata": {
    "ExecuteTime": {
     "end_time": "2021-05-02T23:10:30.753533Z",
     "start_time": "2021-05-02T23:10:30.738932Z"
    }
   },
   "outputs": [
    {
     "data": {
      "text/html": [
       "<div>\n",
       "<style scoped>\n",
       "    .dataframe tbody tr th:only-of-type {\n",
       "        vertical-align: middle;\n",
       "    }\n",
       "\n",
       "    .dataframe tbody tr th {\n",
       "        vertical-align: top;\n",
       "    }\n",
       "\n",
       "    .dataframe thead th {\n",
       "        text-align: right;\n",
       "    }\n",
       "</style>\n",
       "<table border=\"1\" class=\"dataframe\">\n",
       "  <thead>\n",
       "    <tr style=\"text-align: right;\">\n",
       "      <th></th>\n",
       "      <th>0</th>\n",
       "      <th>1</th>\n",
       "      <th>2</th>\n",
       "      <th>3</th>\n",
       "      <th>4</th>\n",
       "      <th>5</th>\n",
       "      <th>6</th>\n",
       "      <th>7</th>\n",
       "      <th>8</th>\n",
       "      <th>9</th>\n",
       "    </tr>\n",
       "  </thead>\n",
       "  <tbody>\n",
       "    <tr>\n",
       "      <th>Office Services Coordinator</th>\n",
       "      <td>0.0</td>\n",
       "      <td>0.0</td>\n",
       "      <td>0.0</td>\n",
       "      <td>0.0</td>\n",
       "      <td>1.0</td>\n",
       "      <td>0.0</td>\n",
       "      <td>0.0</td>\n",
       "      <td>0.0</td>\n",
       "      <td>0.0</td>\n",
       "      <td>0.0</td>\n",
       "    </tr>\n",
       "    <tr>\n",
       "      <th>Master Police Officer</th>\n",
       "      <td>0.0</td>\n",
       "      <td>0.0</td>\n",
       "      <td>0.0</td>\n",
       "      <td>1.0</td>\n",
       "      <td>0.0</td>\n",
       "      <td>0.0</td>\n",
       "      <td>0.0</td>\n",
       "      <td>0.0</td>\n",
       "      <td>0.0</td>\n",
       "      <td>0.0</td>\n",
       "    </tr>\n",
       "    <tr>\n",
       "      <th>Social Worker IV</th>\n",
       "      <td>0.0</td>\n",
       "      <td>0.0</td>\n",
       "      <td>0.0</td>\n",
       "      <td>0.0</td>\n",
       "      <td>0.0</td>\n",
       "      <td>0.0</td>\n",
       "      <td>0.0</td>\n",
       "      <td>0.0</td>\n",
       "      <td>0.0</td>\n",
       "      <td>1.0</td>\n",
       "    </tr>\n",
       "    <tr>\n",
       "      <th>Resident Supervisor II</th>\n",
       "      <td>0.0</td>\n",
       "      <td>0.0</td>\n",
       "      <td>0.0</td>\n",
       "      <td>0.0</td>\n",
       "      <td>0.0</td>\n",
       "      <td>0.0</td>\n",
       "      <td>0.0</td>\n",
       "      <td>0.0</td>\n",
       "      <td>1.0</td>\n",
       "      <td>0.0</td>\n",
       "    </tr>\n",
       "    <tr>\n",
       "      <th>Planning Specialist III</th>\n",
       "      <td>0.0</td>\n",
       "      <td>0.0</td>\n",
       "      <td>0.0</td>\n",
       "      <td>0.0</td>\n",
       "      <td>0.0</td>\n",
       "      <td>1.0</td>\n",
       "      <td>0.0</td>\n",
       "      <td>0.0</td>\n",
       "      <td>0.0</td>\n",
       "      <td>0.0</td>\n",
       "    </tr>\n",
       "    <tr>\n",
       "      <th>Police Officer III</th>\n",
       "      <td>0.0</td>\n",
       "      <td>0.0</td>\n",
       "      <td>0.0</td>\n",
       "      <td>0.0</td>\n",
       "      <td>0.0</td>\n",
       "      <td>0.0</td>\n",
       "      <td>0.0</td>\n",
       "      <td>1.0</td>\n",
       "      <td>0.0</td>\n",
       "      <td>0.0</td>\n",
       "    </tr>\n",
       "    <tr>\n",
       "      <th>Accountant/Auditor II</th>\n",
       "      <td>1.0</td>\n",
       "      <td>0.0</td>\n",
       "      <td>0.0</td>\n",
       "      <td>0.0</td>\n",
       "      <td>0.0</td>\n",
       "      <td>0.0</td>\n",
       "      <td>0.0</td>\n",
       "      <td>0.0</td>\n",
       "      <td>0.0</td>\n",
       "      <td>0.0</td>\n",
       "    </tr>\n",
       "    <tr>\n",
       "      <th>Administrative Specialist II</th>\n",
       "      <td>0.0</td>\n",
       "      <td>1.0</td>\n",
       "      <td>0.0</td>\n",
       "      <td>0.0</td>\n",
       "      <td>0.0</td>\n",
       "      <td>0.0</td>\n",
       "      <td>0.0</td>\n",
       "      <td>0.0</td>\n",
       "      <td>0.0</td>\n",
       "      <td>0.0</td>\n",
       "    </tr>\n",
       "    <tr>\n",
       "      <th>Firefighter/Rescuer III</th>\n",
       "      <td>0.0</td>\n",
       "      <td>0.0</td>\n",
       "      <td>1.0</td>\n",
       "      <td>0.0</td>\n",
       "      <td>0.0</td>\n",
       "      <td>0.0</td>\n",
       "      <td>0.0</td>\n",
       "      <td>0.0</td>\n",
       "      <td>0.0</td>\n",
       "      <td>0.0</td>\n",
       "    </tr>\n",
       "    <tr>\n",
       "      <th>Police Aide</th>\n",
       "      <td>0.0</td>\n",
       "      <td>0.0</td>\n",
       "      <td>0.0</td>\n",
       "      <td>0.0</td>\n",
       "      <td>0.0</td>\n",
       "      <td>0.0</td>\n",
       "      <td>1.0</td>\n",
       "      <td>0.0</td>\n",
       "      <td>0.0</td>\n",
       "      <td>0.0</td>\n",
       "    </tr>\n",
       "  </tbody>\n",
       "</table>\n",
       "</div>"
      ],
      "text/plain": [
       "                                0    1    2    3    4    5    6    7    8    9\n",
       "Office Services Coordinator   0.0  0.0  0.0  0.0  1.0  0.0  0.0  0.0  0.0  0.0\n",
       "Master Police Officer         0.0  0.0  0.0  1.0  0.0  0.0  0.0  0.0  0.0  0.0\n",
       "Social Worker IV              0.0  0.0  0.0  0.0  0.0  0.0  0.0  0.0  0.0  1.0\n",
       "Resident Supervisor II        0.0  0.0  0.0  0.0  0.0  0.0  0.0  0.0  1.0  0.0\n",
       "Planning Specialist III       0.0  0.0  0.0  0.0  0.0  1.0  0.0  0.0  0.0  0.0\n",
       "Police Officer III            0.0  0.0  0.0  0.0  0.0  0.0  0.0  1.0  0.0  0.0\n",
       "Accountant/Auditor II         1.0  0.0  0.0  0.0  0.0  0.0  0.0  0.0  0.0  0.0\n",
       "Administrative Specialist II  0.0  1.0  0.0  0.0  0.0  0.0  0.0  0.0  0.0  0.0\n",
       "Firefighter/Rescuer III       0.0  0.0  1.0  0.0  0.0  0.0  0.0  0.0  0.0  0.0\n",
       "Police Aide                   0.0  0.0  0.0  0.0  0.0  0.0  1.0  0.0  0.0  0.0"
      ]
     },
     "execution_count": 9,
     "metadata": {},
     "output_type": "execute_result"
    }
   ],
   "source": [
    "onehot_df"
   ]
  },
  {
   "cell_type": "markdown",
   "id": "cc3f1fa7",
   "metadata": {},
   "source": [
    "## Similarity Encoding"
   ]
  },
  {
   "cell_type": "code",
   "execution_count": 10,
   "id": "0066a212",
   "metadata": {
    "ExecuteTime": {
     "end_time": "2021-05-02T23:10:30.762839Z",
     "start_time": "2021-05-02T23:10:30.754344Z"
    }
   },
   "outputs": [
    {
     "data": {
      "text/plain": [
       "array([[0.05882353, 0.03125   , 0.02739726, 0.19008264, 1.        ,\n",
       "        0.01351351, 0.05555556, 0.20535714, 0.08088235, 0.032     ],\n",
       "       [0.008     , 0.02083333, 0.056     , 1.        , 0.19008264,\n",
       "        0.02325581, 0.23076923, 0.56      , 0.01574803, 0.02777778],\n",
       "       [0.03738318, 0.07317073, 0.05405405, 0.02777778, 0.032     ,\n",
       "        0.0733945 , 0.        , 0.0625    , 0.06542056, 1.        ],\n",
       "       [0.11206897, 0.07142857, 0.09756098, 0.01574803, 0.08088235,\n",
       "        0.07142857, 0.03125   , 0.08108108, 1.        , 0.06542056],\n",
       "       [0.04761905, 0.3539823 , 0.06976744, 0.02325581, 0.01351351,\n",
       "        1.        , 0.02      , 0.09821429, 0.07142857, 0.0733945 ],\n",
       "       [0.0733945 , 0.05343511, 0.14953271, 0.56      , 0.20535714,\n",
       "        0.09821429, 0.26086957, 1.        , 0.08108108, 0.0625    ],\n",
       "       [1.        , 0.05      , 0.06451613, 0.008     , 0.05882353,\n",
       "        0.04761905, 0.01052632, 0.0733945 , 0.11206897, 0.03738318],\n",
       "       [0.05      , 1.        , 0.03378378, 0.02083333, 0.03125   ,\n",
       "        0.3539823 , 0.02631579, 0.05343511, 0.07142857, 0.07317073],\n",
       "       [0.06451613, 0.03378378, 1.        , 0.056     , 0.02739726,\n",
       "        0.06976744, 0.        , 0.14953271, 0.09756098, 0.05405405],\n",
       "       [0.01052632, 0.02631579, 0.        , 0.23076923, 0.05555556,\n",
       "        0.02      , 1.        , 0.26086957, 0.03125   , 0.        ]])"
      ]
     },
     "execution_count": 10,
     "metadata": {},
     "output_type": "execute_result"
    }
   ],
   "source": [
    "enc = SimilarityEncoder(similarity=\"ngram\")\n",
    "X_enc = enc.fit_transform(sample.reshape(-1, 1))\n",
    "X_enc"
   ]
  },
  {
   "cell_type": "code",
   "execution_count": 11,
   "id": "5aff6779",
   "metadata": {
    "ExecuteTime": {
     "end_time": "2021-05-02T23:10:30.765123Z",
     "start_time": "2021-05-02T23:10:30.763586Z"
    }
   },
   "outputs": [],
   "source": [
    "from sklearn.preprocessing import normalize"
   ]
  },
  {
   "cell_type": "code",
   "execution_count": 12,
   "id": "90aaa040",
   "metadata": {
    "ExecuteTime": {
     "end_time": "2021-05-02T23:10:30.769022Z",
     "start_time": "2021-05-02T23:10:30.765947Z"
    }
   },
   "outputs": [],
   "source": [
    "def plot_similarity(labels, features):\n",
    "    normalized_features = normalize(features)\n",
    "    corr = np.inner(normalized_features, normalized_features)\n",
    "    sns.set(font_scale=1.2)\n",
    "    g = sns.heatmap(\n",
    "        corr,\n",
    "        xticklabels=labels,\n",
    "        yticklabels=labels,\n",
    "        vmin=0,\n",
    "        vmax=1,\n",
    "        cmap=\"YlOrRd\",\n",
    "        annot=True,\n",
    "        annot_kws={\"size\": 10},\n",
    "    )\n",
    "    g.set_xticklabels(labels, rotation=90)\n",
    "    g.set_title(\"Similarity\")\n",
    "\n",
    "\n",
    "def encode_and_plot(labels):\n",
    "    enc = SimilarityEncoder(similarity=\"ngram\")\n",
    "    X_enc = enc.fit_transform(labels.reshape(-1, 1))\n",
    "    plot_similarity(labels, X_enc)"
   ]
  },
  {
   "cell_type": "code",
   "execution_count": 13,
   "id": "04ad61cd",
   "metadata": {
    "ExecuteTime": {
     "end_time": "2021-05-02T23:10:31.222503Z",
     "start_time": "2021-05-02T23:10:30.769900Z"
    }
   },
   "outputs": [
    {
     "data": {
      "image/png": "[encoded data removed]",
      "text/plain": [
       "<Figure size 432x288 with 2 Axes>"
      ]
     },
     "metadata": {},
     "output_type": "display_data"
    }
   ],
   "source": [
    "encode_and_plot(sample)"
   ]
  },
  {
   "cell_type": "markdown",
   "id": "56019b43",
   "metadata": {},
   "source": [
    "# One-hot Encoding vs Similarity Encoding"
   ]
  },
  {
   "cell_type": "code",
   "execution_count": 14,
   "id": "c80da025",
   "metadata": {
    "ExecuteTime": {
     "end_time": "2021-05-02T23:10:31.226829Z",
     "start_time": "2021-05-02T23:10:31.223487Z"
    }
   },
   "outputs": [],
   "source": [
    "from sklearn.preprocessing import FunctionTransformer, StandardScaler\n",
    "from sklearn.compose import ColumnTransformer\n",
    "from sklearn.pipeline import Pipeline\n",
    "from sklearn.model_selection import KFold, cross_val_score\n",
    "from sklearn.linear_model import RidgeCV"
   ]
  },
  {
   "cell_type": "code",
   "execution_count": 15,
   "id": "69f9ae62",
   "metadata": {
    "ExecuteTime": {
     "end_time": "2021-05-02T23:10:31.231019Z",
     "start_time": "2021-05-02T23:10:31.227670Z"
    }
   },
   "outputs": [],
   "source": [
    "y = df[\"Current Annual Salary\"].values"
   ]
  },
  {
   "cell_type": "code",
   "execution_count": 16,
   "id": "c9f23916",
   "metadata": {
    "ExecuteTime": {
     "end_time": "2021-05-02T23:10:31.234341Z",
     "start_time": "2021-05-02T23:10:31.231985Z"
    }
   },
   "outputs": [],
   "source": [
    "clean_columns = {\n",
    "    \"gender\": \"one-hot\",\n",
    "    \"department_name\": \"one-hot\",\n",
    "    \"assignment_category\": \"one-hot\",\n",
    "    \"Year First Hired\": \"numerical\",\n",
    "}"
   ]
  },
  {
   "cell_type": "code",
   "execution_count": 17,
   "id": "acbe5189",
   "metadata": {
    "ExecuteTime": {
     "end_time": "2021-05-02T23:10:31.237897Z",
     "start_time": "2021-05-02T23:10:31.235314Z"
    }
   },
   "outputs": [],
   "source": [
    "encoding_methods = [\"one-hot\", \"similarity\"]"
   ]
  },
  {
   "cell_type": "code",
   "execution_count": 18,
   "id": "f24b486f",
   "metadata": {
    "ExecuteTime": {
     "end_time": "2021-05-02T23:10:31.241776Z",
     "start_time": "2021-05-02T23:10:31.238795Z"
    }
   },
   "outputs": [],
   "source": [
    "encoders_dict = {\n",
    "    \"one-hot\": OneHotEncoder(handle_unknown=\"ignore\", sparse=False),\n",
    "    \"similarity\": SimilarityEncoder(similarity=\"ngram\"),\n",
    "    \"numerical\": FunctionTransformer(None),\n",
    "}"
   ]
  },
  {
   "cell_type": "code",
   "execution_count": 19,
   "id": "77a7d196",
   "metadata": {
    "ExecuteTime": {
     "end_time": "2021-05-02T23:10:31.246502Z",
     "start_time": "2021-05-02T23:10:31.243055Z"
    }
   },
   "outputs": [],
   "source": [
    "def make_pipeline(encoding_method):\n",
    "    # static transformers from the other columns\n",
    "    transformers = [\n",
    "        (enc + \"_\" + col, encoders_dict[enc], [col])\n",
    "        for col, enc in clean_columns.items()\n",
    "    ]\n",
    "    # adding the encoded column\n",
    "    transformers += [(encoding_method, encoders_dict[encoding_method], [dirty_column])]\n",
    "    pipeline = Pipeline(\n",
    "        [\n",
    "            # Use ColumnTransformer to combine the features\n",
    "            (\"union\", ColumnTransformer(transformers=transformers, remainder=\"drop\")),\n",
    "            (\"scaler\", StandardScaler(with_mean=False)),\n",
    "            (\"clf\", RidgeCV()),\n",
    "        ]\n",
    "    )\n",
    "    return pipeline"
   ]
  },
  {
   "cell_type": "code",
   "execution_count": 20,
   "id": "30ebfee0",
   "metadata": {
    "ExecuteTime": {
     "end_time": "2021-05-02T23:10:36.330364Z",
     "start_time": "2021-05-02T23:10:31.247314Z"
    }
   },
   "outputs": [
    {
     "name": "stdout",
     "output_type": "stream",
     "text": [
      "one-hot encoding\n",
      "r2 score:  mean: 0.856; std: 0.034\n",
      "\n",
      "similarity encoding\n",
      "r2 score:  mean: 0.915; std: 0.012\n",
      "\n"
     ]
    }
   ],
   "source": [
    "all_scores = dict()\n",
    "\n",
    "cv = KFold(n_splits=5, random_state=12, shuffle=True)\n",
    "scoring = \"r2\"\n",
    "for method in encoding_methods:\n",
    "    pipeline = make_pipeline(method)\n",
    "    scores = cross_val_score(pipeline, df, y, cv=cv, scoring=scoring)\n",
    "    print(f\"{method} encoding\")\n",
    "    print(f\"{scoring} score:  mean: {np.mean(scores):.3f}; std: {np.std(scores):.3f}\\n\")\n",
    "    all_scores[method] = scores"
   ]
  }
 ],
 "metadata": {
  "kernelspec": {
   "display_name": "Python 3",
   "language": "python",
   "name": "python3"
  },
  "language_info": {
   "codemirror_mode": {
    "name": "ipython",
    "version": 3
   },
   "file_extension": ".py",
   "mimetype": "text/x-python",
   "name": "python",
   "nbconvert_exporter": "python",
   "pygments_lexer": "ipython3",
   "version": "3.8.1"
  },
  "toc": {
   "base_numbering": 1,
   "nav_menu": {},
   "number_sections": true,
   "sideBar": true,
   "skip_h1_title": false,
   "title_cell": "Table of Contents",
   "title_sidebar": "Contents",
   "toc_cell": false,
   "toc_position": {},
   "toc_section_display": true,
   "toc_window_display": false
  }
 },
 "nbformat": 4,
 "nbformat_minor": 5
}
