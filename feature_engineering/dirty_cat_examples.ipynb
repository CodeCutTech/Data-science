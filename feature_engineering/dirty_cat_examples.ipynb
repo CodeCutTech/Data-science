{
 "cells": [
  {
   "cell_type": "code",
   "execution_count": 1,
   "id": "periodic-thirty",
   "metadata": {
    "ExecuteTime": {
     "end_time": "2021-04-30T18:42:24.847037Z",
     "start_time": "2021-04-30T18:42:23.291819Z"
    }
   },
   "outputs": [],
   "source": [
    "from dirty_cat.datasets import fetch_employee_salaries\n",
    "import pandas as pd \n",
    "import pandas_profiling\n",
    "from dirty_cat import GapEncoder\n"
   ]
  },
  {
   "cell_type": "code",
   "execution_count": 2,
   "id": "august-demographic",
   "metadata": {
    "ExecuteTime": {
     "end_time": "2021-04-30T18:42:25.476887Z",
     "start_time": "2021-04-30T18:42:25.178121Z"
    }
   },
   "outputs": [],
   "source": [
    "employee_salaries = fetch_employee_salaries()"
   ]
  },
  {
   "cell_type": "code",
   "execution_count": 3,
   "id": "honey-means",
   "metadata": {
    "ExecuteTime": {
     "end_time": "2021-04-30T18:42:26.625437Z",
     "start_time": "2021-04-30T18:42:26.619502Z"
    }
   },
   "outputs": [],
   "source": [
    "df = employee_salaries['data']"
   ]
  },
  {
   "cell_type": "code",
   "execution_count": 4,
   "id": "subtle-picture",
   "metadata": {
    "ExecuteTime": {
     "end_time": "2021-04-30T18:42:27.117651Z",
     "start_time": "2021-04-30T18:42:27.101620Z"
    }
   },
   "outputs": [
    {
     "data": {
      "text/html": [
       "<div>\n",
       "<style scoped>\n",
       "    .dataframe tbody tr th:only-of-type {\n",
       "        vertical-align: middle;\n",
       "    }\n",
       "\n",
       "    .dataframe tbody tr th {\n",
       "        vertical-align: top;\n",
       "    }\n",
       "\n",
       "    .dataframe thead th {\n",
       "        text-align: right;\n",
       "    }\n",
       "</style>\n",
       "<table border=\"1\" class=\"dataframe\">\n",
       "  <thead>\n",
       "    <tr style=\"text-align: right;\">\n",
       "      <th></th>\n",
       "      <th>full_name</th>\n",
       "      <th>gender</th>\n",
       "      <th>2016_gross_pay_received</th>\n",
       "      <th>2016_overtime_pay</th>\n",
       "      <th>department</th>\n",
       "      <th>department_name</th>\n",
       "      <th>division</th>\n",
       "      <th>assignment_category</th>\n",
       "      <th>employee_position_title</th>\n",
       "      <th>underfilled_job_title</th>\n",
       "      <th>date_first_hired</th>\n",
       "      <th>year_first_hired</th>\n",
       "      <th>Current Annual Salary</th>\n",
       "    </tr>\n",
       "  </thead>\n",
       "  <tbody>\n",
       "    <tr>\n",
       "      <th>0</th>\n",
       "      <td>Aarhus, Pam J.</td>\n",
       "      <td>F</td>\n",
       "      <td>71225.98</td>\n",
       "      <td>416.10</td>\n",
       "      <td>POL</td>\n",
       "      <td>Department of Police</td>\n",
       "      <td>MSB Information Mgmt and Tech Division Records...</td>\n",
       "      <td>Fulltime-Regular</td>\n",
       "      <td>Office Services Coordinator</td>\n",
       "      <td>None</td>\n",
       "      <td>09/22/1986</td>\n",
       "      <td>1986.0</td>\n",
       "      <td>69222.18</td>\n",
       "    </tr>\n",
       "    <tr>\n",
       "      <th>1</th>\n",
       "      <td>Aaron, David J.</td>\n",
       "      <td>M</td>\n",
       "      <td>103088.48</td>\n",
       "      <td>3326.19</td>\n",
       "      <td>POL</td>\n",
       "      <td>Department of Police</td>\n",
       "      <td>ISB Major Crimes Division Fugitive Section</td>\n",
       "      <td>Fulltime-Regular</td>\n",
       "      <td>Master Police Officer</td>\n",
       "      <td>None</td>\n",
       "      <td>09/12/1988</td>\n",
       "      <td>1988.0</td>\n",
       "      <td>97392.47</td>\n",
       "    </tr>\n",
       "    <tr>\n",
       "      <th>2</th>\n",
       "      <td>Aaron, Marsha M.</td>\n",
       "      <td>F</td>\n",
       "      <td>107000.24</td>\n",
       "      <td>1353.32</td>\n",
       "      <td>HHS</td>\n",
       "      <td>Department of Health and Human Services</td>\n",
       "      <td>Adult Protective and Case Management Services</td>\n",
       "      <td>Fulltime-Regular</td>\n",
       "      <td>Social Worker IV</td>\n",
       "      <td>None</td>\n",
       "      <td>11/19/1989</td>\n",
       "      <td>1989.0</td>\n",
       "      <td>104717.28</td>\n",
       "    </tr>\n",
       "    <tr>\n",
       "      <th>3</th>\n",
       "      <td>Ababio, Godfred A.</td>\n",
       "      <td>M</td>\n",
       "      <td>57819.04</td>\n",
       "      <td>3423.07</td>\n",
       "      <td>COR</td>\n",
       "      <td>Correction and Rehabilitation</td>\n",
       "      <td>PRRS Facility and Security</td>\n",
       "      <td>Fulltime-Regular</td>\n",
       "      <td>Resident Supervisor II</td>\n",
       "      <td>None</td>\n",
       "      <td>05/05/2014</td>\n",
       "      <td>2014.0</td>\n",
       "      <td>52734.57</td>\n",
       "    </tr>\n",
       "    <tr>\n",
       "      <th>4</th>\n",
       "      <td>Ababu, Essayas</td>\n",
       "      <td>M</td>\n",
       "      <td>95815.17</td>\n",
       "      <td>NaN</td>\n",
       "      <td>HCA</td>\n",
       "      <td>Department of Housing and Community Affairs</td>\n",
       "      <td>Affordable Housing Programs</td>\n",
       "      <td>Fulltime-Regular</td>\n",
       "      <td>Planning Specialist III</td>\n",
       "      <td>None</td>\n",
       "      <td>03/05/2007</td>\n",
       "      <td>2007.0</td>\n",
       "      <td>93396.00</td>\n",
       "    </tr>\n",
       "    <tr>\n",
       "      <th>5</th>\n",
       "      <td>Abbamonte, Drew B.</td>\n",
       "      <td>M</td>\n",
       "      <td>80926.43</td>\n",
       "      <td>9111.09</td>\n",
       "      <td>POL</td>\n",
       "      <td>Department of Police</td>\n",
       "      <td>PSB 6th District Special Assignment Team</td>\n",
       "      <td>Fulltime-Regular</td>\n",
       "      <td>Police Officer III</td>\n",
       "      <td>None</td>\n",
       "      <td>07/16/2007</td>\n",
       "      <td>2007.0</td>\n",
       "      <td>70435.00</td>\n",
       "    </tr>\n",
       "    <tr>\n",
       "      <th>6</th>\n",
       "      <td>Abdalla, Eiman M.</td>\n",
       "      <td>F</td>\n",
       "      <td>27820.02</td>\n",
       "      <td>NaN</td>\n",
       "      <td>FRS</td>\n",
       "      <td>Fire and Rescue Services</td>\n",
       "      <td>EMS Billing</td>\n",
       "      <td>Fulltime-Regular</td>\n",
       "      <td>Accountant/Auditor II</td>\n",
       "      <td>None</td>\n",
       "      <td>06/27/2016</td>\n",
       "      <td>2016.0</td>\n",
       "      <td>60300.00</td>\n",
       "    </tr>\n",
       "    <tr>\n",
       "      <th>7</th>\n",
       "      <td>Abdelmoniem, Marwan M.</td>\n",
       "      <td>M</td>\n",
       "      <td>62588.67</td>\n",
       "      <td>NaN</td>\n",
       "      <td>HHS</td>\n",
       "      <td>Department of Health and Human Services</td>\n",
       "      <td>Head Start</td>\n",
       "      <td>Fulltime-Regular</td>\n",
       "      <td>Administrative Specialist II</td>\n",
       "      <td>None</td>\n",
       "      <td>11/17/2014</td>\n",
       "      <td>2014.0</td>\n",
       "      <td>64788.65</td>\n",
       "    </tr>\n",
       "    <tr>\n",
       "      <th>8</th>\n",
       "      <td>Abdool, Daniel Z.</td>\n",
       "      <td>M</td>\n",
       "      <td>NaN</td>\n",
       "      <td>NaN</td>\n",
       "      <td>FRS</td>\n",
       "      <td>Fire and Rescue Services</td>\n",
       "      <td>Recruit Training</td>\n",
       "      <td>Fulltime-Regular</td>\n",
       "      <td>Firefighter/Rescuer III</td>\n",
       "      <td>Firefighter/Rescuer I (Recruit)</td>\n",
       "      <td>12/12/2016</td>\n",
       "      <td>2016.0</td>\n",
       "      <td>45261.00</td>\n",
       "    </tr>\n",
       "    <tr>\n",
       "      <th>9</th>\n",
       "      <td>Abdul-Ghani, Hasinah J.</td>\n",
       "      <td>F</td>\n",
       "      <td>49336.12</td>\n",
       "      <td>275.03</td>\n",
       "      <td>POL</td>\n",
       "      <td>Department of Police</td>\n",
       "      <td>FSB Traffic Division Automated Traffic Enforce...</td>\n",
       "      <td>Fulltime-Regular</td>\n",
       "      <td>Police Aide</td>\n",
       "      <td>None</td>\n",
       "      <td>02/05/2007</td>\n",
       "      <td>2007.0</td>\n",
       "      <td>47670.09</td>\n",
       "    </tr>\n",
       "  </tbody>\n",
       "</table>\n",
       "</div>"
      ],
      "text/plain": [
       "                 full_name gender  2016_gross_pay_received  2016_overtime_pay  \\\n",
       "0           Aarhus, Pam J.      F                 71225.98             416.10   \n",
       "1          Aaron, David J.      M                103088.48            3326.19   \n",
       "2         Aaron, Marsha M.      F                107000.24            1353.32   \n",
       "3       Ababio, Godfred A.      M                 57819.04            3423.07   \n",
       "4           Ababu, Essayas      M                 95815.17                NaN   \n",
       "5       Abbamonte, Drew B.      M                 80926.43            9111.09   \n",
       "6        Abdalla, Eiman M.      F                 27820.02                NaN   \n",
       "7   Abdelmoniem, Marwan M.      M                 62588.67                NaN   \n",
       "8        Abdool, Daniel Z.      M                      NaN                NaN   \n",
       "9  Abdul-Ghani, Hasinah J.      F                 49336.12             275.03   \n",
       "\n",
       "  department                              department_name  \\\n",
       "0        POL                         Department of Police   \n",
       "1        POL                         Department of Police   \n",
       "2        HHS      Department of Health and Human Services   \n",
       "3        COR                Correction and Rehabilitation   \n",
       "4        HCA  Department of Housing and Community Affairs   \n",
       "5        POL                         Department of Police   \n",
       "6        FRS                     Fire and Rescue Services   \n",
       "7        HHS      Department of Health and Human Services   \n",
       "8        FRS                     Fire and Rescue Services   \n",
       "9        POL                         Department of Police   \n",
       "\n",
       "                                            division assignment_category  \\\n",
       "0  MSB Information Mgmt and Tech Division Records...    Fulltime-Regular   \n",
       "1         ISB Major Crimes Division Fugitive Section    Fulltime-Regular   \n",
       "2      Adult Protective and Case Management Services    Fulltime-Regular   \n",
       "3                         PRRS Facility and Security    Fulltime-Regular   \n",
       "4                        Affordable Housing Programs    Fulltime-Regular   \n",
       "5           PSB 6th District Special Assignment Team    Fulltime-Regular   \n",
       "6                                        EMS Billing    Fulltime-Regular   \n",
       "7                                         Head Start    Fulltime-Regular   \n",
       "8                                   Recruit Training    Fulltime-Regular   \n",
       "9  FSB Traffic Division Automated Traffic Enforce...    Fulltime-Regular   \n",
       "\n",
       "        employee_position_title            underfilled_job_title  \\\n",
       "0   Office Services Coordinator                             None   \n",
       "1         Master Police Officer                             None   \n",
       "2              Social Worker IV                             None   \n",
       "3        Resident Supervisor II                             None   \n",
       "4       Planning Specialist III                             None   \n",
       "5            Police Officer III                             None   \n",
       "6         Accountant/Auditor II                             None   \n",
       "7  Administrative Specialist II                             None   \n",
       "8       Firefighter/Rescuer III  Firefighter/Rescuer I (Recruit)   \n",
       "9                   Police Aide                             None   \n",
       "\n",
       "  date_first_hired  year_first_hired  Current Annual Salary  \n",
       "0       09/22/1986            1986.0               69222.18  \n",
       "1       09/12/1988            1988.0               97392.47  \n",
       "2       11/19/1989            1989.0              104717.28  \n",
       "3       05/05/2014            2014.0               52734.57  \n",
       "4       03/05/2007            2007.0               93396.00  \n",
       "5       07/16/2007            2007.0               70435.00  \n",
       "6       06/27/2016            2016.0               60300.00  \n",
       "7       11/17/2014            2014.0               64788.65  \n",
       "8       12/12/2016            2016.0               45261.00  \n",
       "9       02/05/2007            2007.0               47670.09  "
      ]
     },
     "execution_count": 4,
     "metadata": {},
     "output_type": "execute_result"
    }
   ],
   "source": [
    "df.head(10)"
   ]
  },
  {
   "cell_type": "code",
   "execution_count": 5,
   "id": "supreme-shopping",
   "metadata": {
    "ExecuteTime": {
     "end_time": "2021-04-30T18:42:31.628033Z",
     "start_time": "2021-04-30T18:42:31.613256Z"
    }
   },
   "outputs": [
    {
     "data": {
      "text/plain": [
       "0                     Office Services Coordinator\n",
       "1                           Master Police Officer\n",
       "2                                Social Worker IV\n",
       "3                          Resident Supervisor II\n",
       "4                         Planning Specialist III\n",
       "                          ...                    \n",
       "9223                    Community Health Nurse II\n",
       "9224                   Fire/Rescue Division Chief\n",
       "9225             Medical Doctor IV - Psychiatrist\n",
       "9226                                   Manager II\n",
       "9227    Alcohol/Tobacco Enforcement Specialist II\n",
       "Name: employee_position_title, Length: 9228, dtype: object"
      ]
     },
     "execution_count": 5,
     "metadata": {},
     "output_type": "execute_result"
    }
   ],
   "source": [
    "X_dirty = df['employee_position_title']\n",
    "X_dirty"
   ]
  },
  {
   "cell_type": "code",
   "execution_count": 6,
   "id": "optional-product",
   "metadata": {
    "ExecuteTime": {
     "end_time": "2021-04-30T18:42:32.080675Z",
     "start_time": "2021-04-30T18:42:32.078431Z"
    }
   },
   "outputs": [],
   "source": [
    "enc = GapEncoder(n_components=10, random_state=0)"
   ]
  },
  {
   "cell_type": "code",
   "execution_count": 7,
   "id": "subtle-parcel",
   "metadata": {
    "ExecuteTime": {
     "end_time": "2021-04-30T18:42:58.486245Z",
     "start_time": "2021-04-30T18:42:50.825871Z"
    }
   },
   "outputs": [],
   "source": [
    "X_enc = enc.fit_transform(X_dirty)"
   ]
  },
  {
   "cell_type": "code",
   "execution_count": 8,
   "id": "differential-greeting",
   "metadata": {
    "ExecuteTime": {
     "end_time": "2021-04-30T18:42:58.631926Z",
     "start_time": "2021-04-30T18:42:58.571677Z"
    }
   },
   "outputs": [],
   "source": [
    "topic_labels = enc.get_feature_names(n_labels=3)"
   ]
  },
  {
   "cell_type": "code",
   "execution_count": 9,
   "id": "employed-bachelor",
   "metadata": {
    "ExecuteTime": {
     "end_time": "2021-04-30T18:42:58.714443Z",
     "start_time": "2021-04-30T18:42:58.704584Z"
    }
   },
   "outputs": [
    {
     "name": "stdout",
     "output_type": "stream",
     "text": [
      "Topic n°0: enforcement, equipment, engineer\n",
      "Topic n°1: firefighter, rescuer, rescue\n",
      "Topic n°2: community, correctional, security\n",
      "Topic n°3: assistance, assistant, program\n",
      "Topic n°4: officer, police, office\n",
      "Topic n°5: administrative, legislative, administration\n",
      "Topic n°6: manager, school, warehouse\n",
      "Topic n°7: technology, information, technician\n",
      "Topic n°8: services, sergeant, service\n",
      "Topic n°9: operator, plumber, labor\n"
     ]
    }
   ],
   "source": [
    "for k in range(len(topic_labels)):\n",
    "    labels = topic_labels[k]\n",
    "    print(f'Topic n°{k}: {labels}')\n"
   ]
  },
  {
   "cell_type": "code",
   "execution_count": 10,
   "id": "cooperative-holocaust",
   "metadata": {
    "ExecuteTime": {
     "end_time": "2021-04-30T18:43:05.027100Z",
     "start_time": "2021-04-30T18:43:05.015446Z"
    }
   },
   "outputs": [
    {
     "data": {
      "text/plain": [
       "array(['Manager II', 'Manager III', 'Liquor Store Assistant Manager',\n",
       "       'Program Manager II', 'Program Manager I',\n",
       "       'Community Outreach Manager', 'Liquor Store Manager',\n",
       "       'Property Manager II',\n",
       "       'Special Projects Manager, Office of the CAO', 'Nurse Manager',\n",
       "       'Manager I', 'Program Manager - Sr II', 'Capital Projects Manager',\n",
       "       'Financial Programs Manager',\n",
       "       'Public Safety Emergency Communications Manager',\n",
       "       'Insurance Fund Manager', 'Information Technology Project Manager',\n",
       "       'Senior Pool Manager', 'Investment Portfolio Manager',\n",
       "       'Food Service Manager', 'Property Manager I'], dtype=object)"
      ]
     },
     "execution_count": 10,
     "metadata": {},
     "output_type": "execute_result"
    }
   ],
   "source": [
    "X_dirty[X_dirty.str.lower().str.contains('manager')].unique()"
   ]
  },
  {
   "cell_type": "code",
   "execution_count": 11,
   "id": "comprehensive-quantity",
   "metadata": {
    "ExecuteTime": {
     "end_time": "2021-04-30T18:43:06.370410Z",
     "start_time": "2021-04-30T18:43:06.356826Z"
    }
   },
   "outputs": [
    {
     "data": {
      "text/plain": [
       "array(['Therapist II', 'Supervisory Therapist'], dtype=object)"
      ]
     },
     "execution_count": 11,
     "metadata": {},
     "output_type": "execute_result"
    }
   ],
   "source": [
    "X_dirty[X_dirty.str.lower().str.contains('therapist')].unique()"
   ]
  },
  {
   "cell_type": "code",
   "execution_count": 12,
   "id": "forty-inflation",
   "metadata": {
    "ExecuteTime": {
     "end_time": "2021-04-30T18:43:06.656635Z",
     "start_time": "2021-04-30T18:43:06.646209Z"
    }
   },
   "outputs": [
    {
     "data": {
      "text/plain": [
       "array(['Alcohol/Tobacco Enforcement Specialist II',\n",
       "       'Permitting and Code Enforcement Inspector III',\n",
       "       'Traffic Enforcement Field Service Technician II',\n",
       "       'Inspection and Enforcement Field Supervisor',\n",
       "       'Code Enforcement Inspector III',\n",
       "       'Permitting and Code Enforcement Inspector II',\n",
       "       'Abandoned Vehicle Code Enforcement Specialist'], dtype=object)"
      ]
     },
     "execution_count": 12,
     "metadata": {},
     "output_type": "execute_result"
    }
   ],
   "source": [
    "X_dirty[X_dirty.str.lower().str.contains('enforcement')].unique()"
   ]
  },
  {
   "cell_type": "code",
   "execution_count": 13,
   "id": "jewish-frame",
   "metadata": {
    "ExecuteTime": {
     "end_time": "2021-04-30T18:43:06.900011Z",
     "start_time": "2021-04-30T18:43:06.884912Z"
    }
   },
   "outputs": [
    {
     "data": {
      "text/plain": [
       "array(['Equipment Operator I', 'Equipment Operator II',\n",
       "       'Equipment Maintenance Crew Chief', 'Warehouse Equipment Operator',\n",
       "       'Equipment Services Coordinator',\n",
       "       'Communications Equipment Technician II', 'Equipment Operator III',\n",
       "       'Facilities and Equipment Maintenance Coordinator'], dtype=object)"
      ]
     },
     "execution_count": 13,
     "metadata": {},
     "output_type": "execute_result"
    }
   ],
   "source": [
    "X_dirty[X_dirty.str.lower().str.contains('equipment')].unique()"
   ]
  },
  {
   "cell_type": "code",
   "execution_count": 14,
   "id": "agricultural-strip",
   "metadata": {
    "ExecuteTime": {
     "end_time": "2021-04-30T18:43:07.098444Z",
     "start_time": "2021-04-30T18:43:07.088825Z"
    }
   },
   "outputs": [
    {
     "data": {
      "text/plain": [
       "array(['Senior Engineer', 'Engineer III', 'Engineer Technician II',\n",
       "       'Senior Engineer Technician', 'Engineer II', 'Engineer I'],\n",
       "      dtype=object)"
      ]
     },
     "execution_count": 14,
     "metadata": {},
     "output_type": "execute_result"
    }
   ],
   "source": [
    "X_dirty[X_dirty.str.lower().str.contains('engineer')].unique()"
   ]
  },
  {
   "cell_type": "code",
   "execution_count": 16,
   "id": "concerned-turtle",
   "metadata": {
    "ExecuteTime": {
     "end_time": "2021-04-30T18:43:08.971405Z",
     "start_time": "2021-04-30T18:43:08.654621Z"
    }
   },
   "outputs": [
    {
     "data": {
      "image/png": "[encoded data removed]",
      "text/plain": [
       "<Figure size 576x720 with 2 Axes>"
      ]
     },
     "metadata": {
      "needs_background": "light"
     },
     "output_type": "display_data"
    }
   ],
   "source": [
    "import matplotlib.pyplot as plt\n",
    "encoded_labels = enc.transform(X_dirty[:20])\n",
    "plt.figure(figsize=(8,10))\n",
    "plt.imshow(encoded_labels)\n",
    "plt.xlabel('Latent topics', size=12)\n",
    "plt.xticks(range(0, 10), labels=topic_labels, rotation=50, ha='right')\n",
    "plt.ylabel('Data entries', size=12)\n",
    "plt.yticks(range(0, 20), labels=X_dirty[:20])\n",
    "plt.colorbar().set_label(label='Topic activations', size=12)\n",
    "plt.tight_layout()\n",
    "plt.show()"
   ]
  },
  {
   "cell_type": "code",
   "execution_count": null,
   "id": "color-lloyd",
   "metadata": {},
   "outputs": [],
   "source": []
  }
 ],
 "metadata": {
  "kernelspec": {
   "display_name": "Python 3",
   "language": "python",
   "name": "python3"
  },
  "language_info": {
   "codemirror_mode": {
    "name": "ipython",
    "version": 3
   },
   "file_extension": ".py",
   "mimetype": "text/x-python",
   "name": "python",
   "nbconvert_exporter": "python",
   "pygments_lexer": "ipython3",
   "version": "3.7.8"
  },
  "toc": {
   "base_numbering": 1,
   "nav_menu": {},
   "number_sections": true,
   "sideBar": true,
   "skip_h1_title": false,
   "title_cell": "Table of Contents",
   "title_sidebar": "Contents",
   "toc_cell": false,
   "toc_position": {},
   "toc_section_display": true,
   "toc_window_display": false
  },
  "varInspector": {
   "cols": {
    "lenName": 16,
    "lenType": 16,
    "lenVar": 40
   },
   "kernels_config": {
    "python": {
     "delete_cmd_postfix": "",
     "delete_cmd_prefix": "del ",
     "library": "var_list.py",
     "varRefreshCmd": "print(var_dic_list())"
    },
    "r": {
     "delete_cmd_postfix": ") ",
     "delete_cmd_prefix": "rm(",
     "library": "var_list.r",
     "varRefreshCmd": "cat(var_dic_list()) "
    }
   },
   "types_to_exclude": [
    "module",
    "function",
    "builtin_function_or_method",
    "instance",
    "_Feature"
   ],
   "window_display": false
  }
 },
 "nbformat": 4,
 "nbformat_minor": 5
}
