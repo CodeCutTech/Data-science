{
 "cells": [
  {
   "cell_type": "code",
   "execution_count": null,
   "id": "97b6ba07",
   "metadata": {
    "ExecuteTime": {
     "end_time": "2022-01-26T02:27:42.311724Z",
     "start_time": "2022-01-26T02:27:36.387472Z"
    }
   },
   "outputs": [],
   "source": [
    "!pip install snorkel"
   ]
  },
  {
   "cell_type": "code",
   "execution_count": 102,
   "id": "1f434d7b",
   "metadata": {
    "ExecuteTime": {
     "end_time": "2022-01-27T19:39:49.153766Z",
     "start_time": "2022-01-27T19:39:49.138624Z"
    }
   },
   "outputs": [
    {
     "data": {
      "application/javascript": [
       "\n",
       "            setTimeout(function() {\n",
       "                var nbb_cell_id = 102;\n",
       "                var nbb_unformatted_code = \"import ipytest\\nimport pytest\\nimport pandas as pd\\n\\nipytest.autoconfig()\";\n",
       "                var nbb_formatted_code = \"import ipytest\\nimport pytest\\nimport pandas as pd\\n\\nipytest.autoconfig()\";\n",
       "                var nbb_cells = Jupyter.notebook.get_cells();\n",
       "                for (var i = 0; i < nbb_cells.length; ++i) {\n",
       "                    if (nbb_cells[i].input_prompt_number == nbb_cell_id) {\n",
       "                        if (nbb_cells[i].get_text() == nbb_unformatted_code) {\n",
       "                             nbb_cells[i].set_text(nbb_formatted_code);\n",
       "                        }\n",
       "                        break;\n",
       "                    }\n",
       "                }\n",
       "            }, 500);\n",
       "            "
      ],
      "text/plain": [
       "<IPython.core.display.Javascript object>"
      ]
     },
     "metadata": {},
     "output_type": "display_data"
    }
   ],
   "source": [
    "import pandas as pd"
   ]
  },
  {
   "cell_type": "code",
   "execution_count": 164,
   "id": "958e2d26",
   "metadata": {
    "ExecuteTime": {
     "end_time": "2022-01-27T19:58:11.522883Z",
     "start_time": "2022-01-27T19:58:11.348795Z"
    }
   },
   "outputs": [
    {
     "data": {
      "application/javascript": [
       "\n",
       "            setTimeout(function() {\n",
       "                var nbb_cell_id = 164;\n",
       "                var nbb_unformatted_code = \"train_df = pd.read_pickle(\\\"train_fake_jobs.pkl\\\")\\ntest_df = pd.read_pickle(\\\"test_fake_jobs.pkl\\\")\";\n",
       "                var nbb_formatted_code = \"train_df = pd.read_pickle(\\\"train_fake_jobs.pkl\\\")\\ntest_df = pd.read_pickle(\\\"test_fake_jobs.pkl\\\")\";\n",
       "                var nbb_cells = Jupyter.notebook.get_cells();\n",
       "                for (var i = 0; i < nbb_cells.length; ++i) {\n",
       "                    if (nbb_cells[i].input_prompt_number == nbb_cell_id) {\n",
       "                        if (nbb_cells[i].get_text() == nbb_unformatted_code) {\n",
       "                             nbb_cells[i].set_text(nbb_formatted_code);\n",
       "                        }\n",
       "                        break;\n",
       "                    }\n",
       "                }\n",
       "            }, 500);\n",
       "            "
      ],
      "text/plain": [
       "<IPython.core.display.Javascript object>"
      ]
     },
     "metadata": {},
     "output_type": "display_data"
    }
   ],
   "source": [
    "train_df = pd.read_pickle(\"train_fake_jobs.pkl\")\n",
    "test_df = pd.read_pickle(\"test_fake_jobs.pkl\")"
   ]
  },
  {
   "cell_type": "code",
   "execution_count": 226,
   "id": "2bd29dda",
   "metadata": {
    "ExecuteTime": {
     "end_time": "2022-01-27T21:09:16.723333Z",
     "start_time": "2022-01-27T21:09:16.460313Z"
    }
   },
   "outputs": [
    {
     "data": {
      "text/html": [
       "\n",
       "        <iframe\n",
       "            width=\"100%\"\n",
       "            height=\"475\"\n",
       "            src=\"http://khuyen-Precision-7740:40000/dtale/iframe/1\"\n",
       "            frameborder=\"0\"\n",
       "            allowfullscreen\n",
       "        ></iframe>\n",
       "        "
      ],
      "text/plain": [
       "<IPython.lib.display.IFrame at 0x7f70acd00340>"
      ]
     },
     "metadata": {},
     "output_type": "display_data"
    },
    {
     "data": {
      "text/plain": []
     },
     "execution_count": 226,
     "metadata": {},
     "output_type": "execute_result"
    },
    {
     "data": {
      "application/javascript": [
       "\n",
       "            setTimeout(function() {\n",
       "                var nbb_cell_id = 226;\n",
       "                var nbb_unformatted_code = \"from dtale import show\\n\\nshow(train_df)\";\n",
       "                var nbb_formatted_code = \"from dtale import show\\n\\nshow(train_df)\";\n",
       "                var nbb_cells = Jupyter.notebook.get_cells();\n",
       "                for (var i = 0; i < nbb_cells.length; ++i) {\n",
       "                    if (nbb_cells[i].input_prompt_number == nbb_cell_id) {\n",
       "                        if (nbb_cells[i].get_text() == nbb_unformatted_code) {\n",
       "                             nbb_cells[i].set_text(nbb_formatted_code);\n",
       "                        }\n",
       "                        break;\n",
       "                    }\n",
       "                }\n",
       "            }, 500);\n",
       "            "
      ],
      "text/plain": [
       "<IPython.core.display.Javascript object>"
      ]
     },
     "metadata": {},
     "output_type": "display_data"
    },
    {
     "name": "stdout",
     "output_type": "stream",
     "text": [
      "Exception occurred while processing request: argument of type 'int' is not iterable\n",
      "Traceback (most recent call last):\n",
      "  File \"/home/khuyen/Data-science/venv/lib/python3.8/site-packages/pandas/core/computation/ops.py\", line 271, in _in\n",
      "    return x.isin(y)\n",
      "AttributeError: 'list' object has no attribute 'isin'\n",
      "\n",
      "During handling of the above exception, another exception occurred:\n",
      "\n",
      "Traceback (most recent call last):\n",
      "  File \"/home/khuyen/Data-science/venv/lib/python3.8/site-packages/dtale/views.py\", line 114, in _handle_exceptions\n",
      "    return func(*args, **kwargs)\n",
      "  File \"/home/khuyen/Data-science/venv/lib/python3.8/site-packages/dtale/views.py\", line 1787, in test_filter\n",
      "    run_query(\n",
      "  File \"/home/khuyen/Data-science/venv/lib/python3.8/site-packages/dtale/query.py\", line 69, in run_query\n",
      "    df = df.query(\n",
      "  File \"/home/khuyen/Data-science/venv/lib/python3.8/site-packages/pandas/core/frame.py\", line 4060, in query\n",
      "    res = self.eval(expr, **kwargs)\n",
      "  File \"/home/khuyen/Data-science/venv/lib/python3.8/site-packages/pandas/core/frame.py\", line 4191, in eval\n",
      "    return _eval(expr, inplace=inplace, **kwargs)\n",
      "  File \"/home/khuyen/Data-science/venv/lib/python3.8/site-packages/pandas/core/computation/eval.py\", line 348, in eval\n",
      "    parsed_expr = Expr(expr, engine=engine, parser=parser, env=env)\n",
      "  File \"/home/khuyen/Data-science/venv/lib/python3.8/site-packages/pandas/core/computation/expr.py\", line 806, in __init__\n",
      "    self.terms = self.parse()\n",
      "  File \"/home/khuyen/Data-science/venv/lib/python3.8/site-packages/pandas/core/computation/expr.py\", line 825, in parse\n",
      "    return self._visitor.visit(self.expr)\n",
      "  File \"/home/khuyen/Data-science/venv/lib/python3.8/site-packages/pandas/core/computation/expr.py\", line 411, in visit\n",
      "    return visitor(node, **kwargs)\n",
      "  File \"/home/khuyen/Data-science/venv/lib/python3.8/site-packages/pandas/core/computation/expr.py\", line 417, in visit_Module\n",
      "    return self.visit(expr, **kwargs)\n",
      "  File \"/home/khuyen/Data-science/venv/lib/python3.8/site-packages/pandas/core/computation/expr.py\", line 411, in visit\n",
      "    return visitor(node, **kwargs)\n",
      "  File \"/home/khuyen/Data-science/venv/lib/python3.8/site-packages/pandas/core/computation/expr.py\", line 420, in visit_Expr\n",
      "    return self.visit(node.value, **kwargs)\n",
      "  File \"/home/khuyen/Data-science/venv/lib/python3.8/site-packages/pandas/core/computation/expr.py\", line 411, in visit\n",
      "    return visitor(node, **kwargs)\n",
      "  File \"/home/khuyen/Data-science/venv/lib/python3.8/site-packages/pandas/core/computation/expr.py\", line 718, in visit_Compare\n",
      "    return self.visit(binop)\n",
      "  File \"/home/khuyen/Data-science/venv/lib/python3.8/site-packages/pandas/core/computation/expr.py\", line 411, in visit\n",
      "    return visitor(node, **kwargs)\n",
      "  File \"/home/khuyen/Data-science/venv/lib/python3.8/site-packages/pandas/core/computation/expr.py\", line 534, in visit_BinOp\n",
      "    return self._maybe_evaluate_binop(op, op_class, left, right)\n",
      "  File \"/home/khuyen/Data-science/venv/lib/python3.8/site-packages/pandas/core/computation/expr.py\", line 520, in _maybe_evaluate_binop\n",
      "    return self._maybe_eval(res, eval_in_python)\n",
      "  File \"/home/khuyen/Data-science/venv/lib/python3.8/site-packages/pandas/core/computation/expr.py\", line 488, in _maybe_eval\n",
      "    return binop.evaluate(\n",
      "  File \"/home/khuyen/Data-science/venv/lib/python3.8/site-packages/pandas/core/computation/ops.py\", line 433, in evaluate\n",
      "    res = self(env)\n",
      "  File \"/home/khuyen/Data-science/venv/lib/python3.8/site-packages/pandas/core/computation/ops.py\", line 413, in __call__\n",
      "    return self.func(left, right)\n",
      "  File \"/home/khuyen/Data-science/venv/lib/python3.8/site-packages/pandas/core/computation/ops.py\", line 278, in _in\n",
      "    return x in y\n",
      "TypeError: argument of type 'int' is not iterable\n"
     ]
    },
    {
     "name": "stderr",
     "output_type": "stream",
     "text": [
      "2022-01-27 15:11:23,655 - ERROR    - Exception occurred while processing request: argument of type 'int' is not iterable\n",
      "Traceback (most recent call last):\n",
      "  File \"/home/khuyen/Data-science/venv/lib/python3.8/site-packages/pandas/core/computation/ops.py\", line 271, in _in\n",
      "    return x.isin(y)\n",
      "AttributeError: 'list' object has no attribute 'isin'\n",
      "\n",
      "During handling of the above exception, another exception occurred:\n",
      "\n",
      "Traceback (most recent call last):\n",
      "  File \"/home/khuyen/Data-science/venv/lib/python3.8/site-packages/dtale/views.py\", line 114, in _handle_exceptions\n",
      "    return func(*args, **kwargs)\n",
      "  File \"/home/khuyen/Data-science/venv/lib/python3.8/site-packages/dtale/views.py\", line 1787, in test_filter\n",
      "    run_query(\n",
      "  File \"/home/khuyen/Data-science/venv/lib/python3.8/site-packages/dtale/query.py\", line 69, in run_query\n",
      "    df = df.query(\n",
      "  File \"/home/khuyen/Data-science/venv/lib/python3.8/site-packages/pandas/core/frame.py\", line 4060, in query\n",
      "    res = self.eval(expr, **kwargs)\n",
      "  File \"/home/khuyen/Data-science/venv/lib/python3.8/site-packages/pandas/core/frame.py\", line 4191, in eval\n",
      "    return _eval(expr, inplace=inplace, **kwargs)\n",
      "  File \"/home/khuyen/Data-science/venv/lib/python3.8/site-packages/pandas/core/computation/eval.py\", line 348, in eval\n",
      "    parsed_expr = Expr(expr, engine=engine, parser=parser, env=env)\n",
      "  File \"/home/khuyen/Data-science/venv/lib/python3.8/site-packages/pandas/core/computation/expr.py\", line 806, in __init__\n",
      "    self.terms = self.parse()\n",
      "  File \"/home/khuyen/Data-science/venv/lib/python3.8/site-packages/pandas/core/computation/expr.py\", line 825, in parse\n",
      "    return self._visitor.visit(self.expr)\n",
      "  File \"/home/khuyen/Data-science/venv/lib/python3.8/site-packages/pandas/core/computation/expr.py\", line 411, in visit\n",
      "    return visitor(node, **kwargs)\n",
      "  File \"/home/khuyen/Data-science/venv/lib/python3.8/site-packages/pandas/core/computation/expr.py\", line 417, in visit_Module\n",
      "    return self.visit(expr, **kwargs)\n",
      "  File \"/home/khuyen/Data-science/venv/lib/python3.8/site-packages/pandas/core/computation/expr.py\", line 411, in visit\n",
      "    return visitor(node, **kwargs)\n",
      "  File \"/home/khuyen/Data-science/venv/lib/python3.8/site-packages/pandas/core/computation/expr.py\", line 420, in visit_Expr\n",
      "    return self.visit(node.value, **kwargs)\n",
      "  File \"/home/khuyen/Data-science/venv/lib/python3.8/site-packages/pandas/core/computation/expr.py\", line 411, in visit\n",
      "    return visitor(node, **kwargs)\n",
      "  File \"/home/khuyen/Data-science/venv/lib/python3.8/site-packages/pandas/core/computation/expr.py\", line 718, in visit_Compare\n",
      "    return self.visit(binop)\n",
      "  File \"/home/khuyen/Data-science/venv/lib/python3.8/site-packages/pandas/core/computation/expr.py\", line 411, in visit\n",
      "    return visitor(node, **kwargs)\n",
      "  File \"/home/khuyen/Data-science/venv/lib/python3.8/site-packages/pandas/core/computation/expr.py\", line 534, in visit_BinOp\n",
      "    return self._maybe_evaluate_binop(op, op_class, left, right)\n",
      "  File \"/home/khuyen/Data-science/venv/lib/python3.8/site-packages/pandas/core/computation/expr.py\", line 520, in _maybe_evaluate_binop\n",
      "    return self._maybe_eval(res, eval_in_python)\n",
      "  File \"/home/khuyen/Data-science/venv/lib/python3.8/site-packages/pandas/core/computation/expr.py\", line 488, in _maybe_eval\n",
      "    return binop.evaluate(\n",
      "  File \"/home/khuyen/Data-science/venv/lib/python3.8/site-packages/pandas/core/computation/ops.py\", line 433, in evaluate\n",
      "    res = self(env)\n",
      "  File \"/home/khuyen/Data-science/venv/lib/python3.8/site-packages/pandas/core/computation/ops.py\", line 413, in __call__\n",
      "    return self.func(left, right)\n",
      "  File \"/home/khuyen/Data-science/venv/lib/python3.8/site-packages/pandas/core/computation/ops.py\", line 278, in _in\n",
      "    return x in y\n",
      "TypeError: argument of type 'int' is not iterable\n"
     ]
    }
   ],
   "source": [
    "from dtale import show\n",
    "\n",
    "show(train_df)"
   ]
  },
  {
   "cell_type": "code",
   "execution_count": 104,
   "id": "e61a588c",
   "metadata": {
    "ExecuteTime": {
     "end_time": "2022-01-27T19:39:49.614396Z",
     "start_time": "2022-01-27T19:39:49.597471Z"
    }
   },
   "outputs": [
    {
     "data": {
      "application/javascript": [
       "\n",
       "            setTimeout(function() {\n",
       "                var nbb_cell_id = 104;\n",
       "                var nbb_unformatted_code = \"from snorkel.labeling import labeling_function\\nfrom snorkel.labeling import PandasLFApplier\\nfrom snorkel.labeling import LFAnalysis\\nfrom snorkel.preprocess.nlp import SpacyPreprocessor\";\n",
       "                var nbb_formatted_code = \"from snorkel.labeling import labeling_function\\nfrom snorkel.labeling import PandasLFApplier\\nfrom snorkel.labeling import LFAnalysis\\nfrom snorkel.preprocess.nlp import SpacyPreprocessor\";\n",
       "                var nbb_cells = Jupyter.notebook.get_cells();\n",
       "                for (var i = 0; i < nbb_cells.length; ++i) {\n",
       "                    if (nbb_cells[i].input_prompt_number == nbb_cell_id) {\n",
       "                        if (nbb_cells[i].get_text() == nbb_unformatted_code) {\n",
       "                             nbb_cells[i].set_text(nbb_formatted_code);\n",
       "                        }\n",
       "                        break;\n",
       "                    }\n",
       "                }\n",
       "            }, 500);\n",
       "            "
      ],
      "text/plain": [
       "<IPython.core.display.Javascript object>"
      ]
     },
     "metadata": {},
     "output_type": "display_data"
    }
   ],
   "source": [
    "from snorkel.labeling import labeling_function\n",
    "from snorkel.labeling import PandasLFApplier\n",
    "from snorkel.labeling import LFAnalysis\n",
    "from snorkel.preprocess.nlp import SpacyPreprocessor\n"
   ]
  },
  {
   "cell_type": "code",
   "execution_count": 105,
   "id": "7053a107",
   "metadata": {
    "ExecuteTime": {
     "end_time": "2022-01-27T19:39:50.621691Z",
     "start_time": "2022-01-27T19:39:50.606695Z"
    }
   },
   "outputs": [
    {
     "data": {
      "application/javascript": [
       "\n",
       "            setTimeout(function() {\n",
       "                var nbb_cell_id = 105;\n",
       "                var nbb_unformatted_code = \"FAKE = 1\\nREAL = 0\\nABSTAIN = -1\";\n",
       "                var nbb_formatted_code = \"FAKE = 1\\nREAL = 0\\nABSTAIN = -1\";\n",
       "                var nbb_cells = Jupyter.notebook.get_cells();\n",
       "                for (var i = 0; i < nbb_cells.length; ++i) {\n",
       "                    if (nbb_cells[i].input_prompt_number == nbb_cell_id) {\n",
       "                        if (nbb_cells[i].get_text() == nbb_unformatted_code) {\n",
       "                             nbb_cells[i].set_text(nbb_formatted_code);\n",
       "                        }\n",
       "                        break;\n",
       "                    }\n",
       "                }\n",
       "            }, 500);\n",
       "            "
      ],
      "text/plain": [
       "<IPython.core.display.Javascript object>"
      ]
     },
     "metadata": {},
     "output_type": "display_data"
    }
   ],
   "source": [
    "FAKE = 1\n",
    "REAL = 0\n",
    "ABSTAIN = -1"
   ]
  },
  {
   "cell_type": "code",
   "execution_count": 263,
   "id": "28d286e5",
   "metadata": {
    "ExecuteTime": {
     "end_time": "2022-01-27T21:25:23.006855Z",
     "start_time": "2022-01-27T21:25:22.936401Z"
    }
   },
   "outputs": [
    {
     "data": {
      "application/javascript": [
       "\n",
       "            setTimeout(function() {\n",
       "                var nbb_cell_id = 263;\n",
       "                var nbb_unformatted_code = \"@labeling_function()\\ndef no_requirements(x: pd.Series):\\n\\n    return FAKE if x.requirements == \\\"\\\" else ABSTAIN\\n\\n\\n@labeling_function()\\ndef requiments_less_than_10(x: pd.Series):\\n    num_words = len(x.requirements.split(\\\" \\\"))\\n    return FAKE if num_words <= 10 else ABSTAIN\\n\\n\\n@labeling_function()\\ndef requiments_less_than_20(x: pd.Series):\\n    num_words = len(x.requirements.split(\\\" \\\"))\\n    return FAKE if num_words <= 20 else ABSTAIN\\n\\n\\n@labeling_function()\\ndef no_company_profile(x: pd.Series):\\n    return FAKE if x.company_profile == \\\"\\\" else ABSTAIN\\n\\n\\n@labeling_function()\\ndef suspicious_company(x: pd.Series):\\n    fake_companies = [\\n        \\\"Aker Solutions\\\",\\n        \\\"Aptitude Staffing Solutions\\\",\\n        \\\"Gary Cartwright\\\",\\n        \\\"Edison International and Refined Resources\\\",\\n        \\\"Le Meridien\\\",\\n    ]\\n    return (\\n        FAKE\\n        if any(\\n            company.lower() in x.company_profile.lower() for company in fake_companies\\n        )\\n        else ABSTAIN\\n    )\\n\\n\\n@labeling_function()\\ndef no_company_logo(x: pd.Series):\\n    return FAKE if x.has_company_logo == 0 else ABSTAIN\\n\\n\\n@labeling_function()\\ndef no_profile_and_suspicious_company(x: pd.Series):\\n    fake_companies = [\\n        \\\"Aker Solutions\\\",\\n        \\\"Aptitude Staffing Solutions\\\",\\n        \\\"Gary Cartwright\\\",\\n        \\\"Edison International and Refined Resources\\\",\\n        \\\"Le Meridien\\\",\\n    ]\\n    return (\\n        FAKE\\n        if any(\\n            company.lower() in x.company_profile.lower() for company in fake_companies\\n        )\\n        or x.company_profile == \\\"\\\"\\n        or x.has_company_logo == 0\\n        else ABSTAIN\\n    )\\n\\n\\n@labeling_function()\\ndef has_background_check(x: pd.Series):\\n    return REAL if \\\"background check\\\" in x.requirements else ABSTAIN\\n\\n\\n@labeling_function()\\ndef required_experience(x: pd.Series):\\n    return REAL if x.required_experience else ABSTAIN\\n\\n@labeling_function()\\ndef required_education(x: pd.Series):\\n    return REAL if x.required_education else ABSTAIN\";\n",
       "                var nbb_formatted_code = \"@labeling_function()\\ndef no_requirements(x: pd.Series):\\n\\n    return FAKE if x.requirements == \\\"\\\" else ABSTAIN\\n\\n\\n@labeling_function()\\ndef requiments_less_than_10(x: pd.Series):\\n    num_words = len(x.requirements.split(\\\" \\\"))\\n    return FAKE if num_words <= 10 else ABSTAIN\\n\\n\\n@labeling_function()\\ndef requiments_less_than_20(x: pd.Series):\\n    num_words = len(x.requirements.split(\\\" \\\"))\\n    return FAKE if num_words <= 20 else ABSTAIN\\n\\n\\n@labeling_function()\\ndef no_company_profile(x: pd.Series):\\n    return FAKE if x.company_profile == \\\"\\\" else ABSTAIN\\n\\n\\n@labeling_function()\\ndef suspicious_company(x: pd.Series):\\n    fake_companies = [\\n        \\\"Aker Solutions\\\",\\n        \\\"Aptitude Staffing Solutions\\\",\\n        \\\"Gary Cartwright\\\",\\n        \\\"Edison International and Refined Resources\\\",\\n        \\\"Le Meridien\\\",\\n    ]\\n    return (\\n        FAKE\\n        if any(\\n            company.lower() in x.company_profile.lower() for company in fake_companies\\n        )\\n        else ABSTAIN\\n    )\\n\\n\\n@labeling_function()\\ndef no_company_logo(x: pd.Series):\\n    return FAKE if x.has_company_logo == 0 else ABSTAIN\\n\\n\\n@labeling_function()\\ndef no_profile_and_suspicious_company(x: pd.Series):\\n    fake_companies = [\\n        \\\"Aker Solutions\\\",\\n        \\\"Aptitude Staffing Solutions\\\",\\n        \\\"Gary Cartwright\\\",\\n        \\\"Edison International and Refined Resources\\\",\\n        \\\"Le Meridien\\\",\\n    ]\\n    return (\\n        FAKE\\n        if any(\\n            company.lower() in x.company_profile.lower() for company in fake_companies\\n        )\\n        or x.company_profile == \\\"\\\"\\n        or x.has_company_logo == 0\\n        else ABSTAIN\\n    )\\n\\n\\n@labeling_function()\\ndef has_background_check(x: pd.Series):\\n    return REAL if \\\"background check\\\" in x.requirements else ABSTAIN\\n\\n\\n@labeling_function()\\ndef required_experience(x: pd.Series):\\n    return REAL if x.required_experience else ABSTAIN\\n\\n\\n@labeling_function()\\ndef required_education(x: pd.Series):\\n    return REAL if x.required_education else ABSTAIN\";\n",
       "                var nbb_cells = Jupyter.notebook.get_cells();\n",
       "                for (var i = 0; i < nbb_cells.length; ++i) {\n",
       "                    if (nbb_cells[i].input_prompt_number == nbb_cell_id) {\n",
       "                        if (nbb_cells[i].get_text() == nbb_unformatted_code) {\n",
       "                             nbb_cells[i].set_text(nbb_formatted_code);\n",
       "                        }\n",
       "                        break;\n",
       "                    }\n",
       "                }\n",
       "            }, 500);\n",
       "            "
      ],
      "text/plain": [
       "<IPython.core.display.Javascript object>"
      ]
     },
     "metadata": {},
     "output_type": "display_data"
    }
   ],
   "source": [
    "@labeling_function()\n",
    "def no_requirements(x: pd.Series):\n",
    "\n",
    "    return FAKE if x.requirements == \"\" else ABSTAIN\n",
    "\n",
    "\n",
    "@labeling_function()\n",
    "def requiments_less_than_10(x: pd.Series):\n",
    "    num_words = len(x.requirements.split(\" \"))\n",
    "    return FAKE if num_words <= 10 else ABSTAIN\n",
    "\n",
    "\n",
    "@labeling_function()\n",
    "def requiments_less_than_20(x: pd.Series):\n",
    "    num_words = len(x.requirements.split(\" \"))\n",
    "    return FAKE if num_words <= 20 else ABSTAIN\n",
    "\n",
    "\n",
    "@labeling_function()\n",
    "def no_company_profile(x: pd.Series):\n",
    "    return FAKE if x.company_profile == \"\" else ABSTAIN\n",
    "\n",
    "\n",
    "@labeling_function()\n",
    "def suspicious_company(x: pd.Series):\n",
    "    fake_companies = [\n",
    "        \"Aker Solutions\",\n",
    "        \"Aptitude Staffing Solutions\",\n",
    "        \"Gary Cartwright\",\n",
    "        \"Edison International and Refined Resources\",\n",
    "        \"Le Meridien\",\n",
    "    ]\n",
    "    return (\n",
    "        FAKE\n",
    "        if any(\n",
    "            company.lower() in x.company_profile.lower() for company in fake_companies\n",
    "        )\n",
    "        else ABSTAIN\n",
    "    )\n",
    "\n",
    "\n",
    "@labeling_function()\n",
    "def no_company_logo(x: pd.Series):\n",
    "    return FAKE if x.has_company_logo == 0 else ABSTAIN\n",
    "\n",
    "\n",
    "@labeling_function()\n",
    "def no_profile_and_suspicious_company(x: pd.Series):\n",
    "    fake_companies = [\n",
    "        \"Aker Solutions\",\n",
    "        \"Aptitude Staffing Solutions\",\n",
    "        \"Gary Cartwright\",\n",
    "        \"Edison International and Refined Resources\",\n",
    "        \"Le Meridien\",\n",
    "    ]\n",
    "    return (\n",
    "        FAKE\n",
    "        if any(\n",
    "            company.lower() in x.company_profile.lower() for company in fake_companies\n",
    "        )\n",
    "        or x.company_profile == \"\"\n",
    "        or x.has_company_logo == 0\n",
    "        else ABSTAIN\n",
    "    )\n",
    "\n",
    "\n",
    "@labeling_function()\n",
    "def has_background_check(x: pd.Series):\n",
    "    return REAL if \"background check\" in x.requirements else ABSTAIN\n",
    "\n",
    "\n",
    "@labeling_function()\n",
    "def required_experience(x: pd.Series):\n",
    "    return REAL if x.required_experience else ABSTAIN\n",
    "\n",
    "\n",
    "@labeling_function()\n",
    "def required_education(x: pd.Series):\n",
    "    return REAL if x.required_education else ABSTAIN"
   ]
  },
  {
   "cell_type": "code",
   "execution_count": 89,
   "id": "e31d5edb",
   "metadata": {
    "ExecuteTime": {
     "end_time": "2022-01-27T19:27:19.632515Z",
     "start_time": "2022-01-27T19:27:19.385416Z"
    }
   },
   "outputs": [
    {
     "data": {
      "application/javascript": [
       "\n",
       "            setTimeout(function() {\n",
       "                var nbb_cell_id = 89;\n",
       "                var nbb_unformatted_code = \"%%ipytest -qq\\n\\ntest = [('', FAKE),]\\n\\n@pytest.mark.parametrize(\\\"test_input, expected\\\", test)\\ndef test_no_company_profile(test_input, expected):\\n    input_df = pd.DataFrame({'company_profile': [test_input]})\\n    assert no_company_profile(input_df.iloc[0]) == expected\";\n",
       "                var nbb_formatted_code = \"%%ipytest -qq\\n\\ntest = [('', FAKE),]\\n\\n@pytest.mark.parametrize(\\\"test_input, expected\\\", test)\\ndef test_no_company_profile(test_input, expected):\\n    input_df = pd.DataFrame({'company_profile': [test_input]})\\n    assert no_company_profile(input_df.iloc[0]) == expected\";\n",
       "                var nbb_cells = Jupyter.notebook.get_cells();\n",
       "                for (var i = 0; i < nbb_cells.length; ++i) {\n",
       "                    if (nbb_cells[i].input_prompt_number == nbb_cell_id) {\n",
       "                        if (nbb_cells[i].get_text() == nbb_unformatted_code) {\n",
       "                             nbb_cells[i].set_text(nbb_formatted_code);\n",
       "                        }\n",
       "                        break;\n",
       "                    }\n",
       "                }\n",
       "            }, 500);\n",
       "            "
      ],
      "text/plain": [
       "<IPython.core.display.Javascript object>"
      ]
     },
     "metadata": {},
     "output_type": "display_data"
    },
    {
     "name": "stdout",
     "output_type": "stream",
     "text": [
      "\u001b[32m.\u001b[0m\u001b[32m                                                                                            [100%]\u001b[0m\n"
     ]
    },
    {
     "data": {
      "application/javascript": [
       "\n",
       "            setTimeout(function() {\n",
       "                var nbb_cell_id = 89;\n",
       "                var nbb_unformatted_code = \"%%ipytest -qq\\n\\ntest = [('', FAKE),]\\n\\n@pytest.mark.parametrize(\\\"test_input, expected\\\", test)\\ndef test_no_company_profile(test_input, expected):\\n    input_df = pd.DataFrame({'company_profile': [test_input]})\\n    assert no_company_profile(input_df.iloc[0]) == expected\";\n",
       "                var nbb_formatted_code = \"%%ipytest -qq\\n\\ntest = [('', FAKE),]\\n\\n@pytest.mark.parametrize(\\\"test_input, expected\\\", test)\\ndef test_no_company_profile(test_input, expected):\\n    input_df = pd.DataFrame({'company_profile': [test_input]})\\n    assert no_company_profile(input_df.iloc[0]) == expected\";\n",
       "                var nbb_cells = Jupyter.notebook.get_cells();\n",
       "                for (var i = 0; i < nbb_cells.length; ++i) {\n",
       "                    if (nbb_cells[i].input_prompt_number == nbb_cell_id) {\n",
       "                        if (nbb_cells[i].get_text() == nbb_unformatted_code) {\n",
       "                             nbb_cells[i].set_text(nbb_formatted_code);\n",
       "                        }\n",
       "                        break;\n",
       "                    }\n",
       "                }\n",
       "            }, 500);\n",
       "            "
      ],
      "text/plain": [
       "<IPython.core.display.Javascript object>"
      ]
     },
     "metadata": {},
     "output_type": "display_data"
    }
   ],
   "source": [
    "%%ipytest -qq\n",
    "\n",
    "test = [('', FAKE),]\n",
    "\n",
    "@pytest.mark.parametrize(\"test_input, expected\", test)\n",
    "def test_no_company_profile(test_input, expected):\n",
    "    input_df = pd.DataFrame({'company_profile': [test_input]})\n",
    "    assert no_company_profile(input_df.iloc[0]) == expected"
   ]
  },
  {
   "cell_type": "code",
   "execution_count": 90,
   "id": "905bf02c",
   "metadata": {
    "ExecuteTime": {
     "end_time": "2022-01-27T19:27:20.054523Z",
     "start_time": "2022-01-27T19:27:19.837391Z"
    }
   },
   "outputs": [
    {
     "data": {
      "application/javascript": [
       "\n",
       "            setTimeout(function() {\n",
       "                var nbb_cell_id = 90;\n",
       "                var nbb_unformatted_code = \"%%ipytest -qq\\n\\ntest = [(\\\"hello abc  \\\", FAKE),\\n        (\\\"\\\", FAKE)]\\n\\n@pytest.mark.parametrize(\\\"test_input, expected\\\", test)\\ndef requiments_less_than_10(test_input, expected):\\n    input_df = pd.DataFrame({'requirements': [test_input]})\\n    assert requiments_less_than_10(input_df.iloc[0]) == expected\";\n",
       "                var nbb_formatted_code = \"%%ipytest -qq\\n\\ntest = [(\\\"hello abc  \\\", FAKE),\\n        (\\\"\\\", FAKE)]\\n\\n@pytest.mark.parametrize(\\\"test_input, expected\\\", test)\\ndef requiments_less_than_10(test_input, expected):\\n    input_df = pd.DataFrame({'requirements': [test_input]})\\n    assert requiments_less_than_10(input_df.iloc[0]) == expected\";\n",
       "                var nbb_cells = Jupyter.notebook.get_cells();\n",
       "                for (var i = 0; i < nbb_cells.length; ++i) {\n",
       "                    if (nbb_cells[i].input_prompt_number == nbb_cell_id) {\n",
       "                        if (nbb_cells[i].get_text() == nbb_unformatted_code) {\n",
       "                             nbb_cells[i].set_text(nbb_formatted_code);\n",
       "                        }\n",
       "                        break;\n",
       "                    }\n",
       "                }\n",
       "            }, 500);\n",
       "            "
      ],
      "text/plain": [
       "<IPython.core.display.Javascript object>"
      ]
     },
     "metadata": {},
     "output_type": "display_data"
    },
    {
     "name": "stdout",
     "output_type": "stream",
     "text": [
      "\n"
     ]
    },
    {
     "data": {
      "application/javascript": [
       "\n",
       "            setTimeout(function() {\n",
       "                var nbb_cell_id = 90;\n",
       "                var nbb_unformatted_code = \"%%ipytest -qq\\n\\ntest = [(\\\"hello abc  \\\", FAKE),\\n        (\\\"\\\", FAKE)]\\n\\n@pytest.mark.parametrize(\\\"test_input, expected\\\", test)\\ndef requiments_less_than_10(test_input, expected):\\n    input_df = pd.DataFrame({'requirements': [test_input]})\\n    assert requiments_less_than_10(input_df.iloc[0]) == expected\";\n",
       "                var nbb_formatted_code = \"%%ipytest -qq\\n\\ntest = [(\\\"hello abc  \\\", FAKE),\\n        (\\\"\\\", FAKE)]\\n\\n@pytest.mark.parametrize(\\\"test_input, expected\\\", test)\\ndef requiments_less_than_10(test_input, expected):\\n    input_df = pd.DataFrame({'requirements': [test_input]})\\n    assert requiments_less_than_10(input_df.iloc[0]) == expected\";\n",
       "                var nbb_cells = Jupyter.notebook.get_cells();\n",
       "                for (var i = 0; i < nbb_cells.length; ++i) {\n",
       "                    if (nbb_cells[i].input_prompt_number == nbb_cell_id) {\n",
       "                        if (nbb_cells[i].get_text() == nbb_unformatted_code) {\n",
       "                             nbb_cells[i].set_text(nbb_formatted_code);\n",
       "                        }\n",
       "                        break;\n",
       "                    }\n",
       "                }\n",
       "            }, 500);\n",
       "            "
      ],
      "text/plain": [
       "<IPython.core.display.Javascript object>"
      ]
     },
     "metadata": {},
     "output_type": "display_data"
    }
   ],
   "source": [
    "%%ipytest -qq\n",
    "\n",
    "test = [(\"hello abc  \", FAKE),\n",
    "        (\"\", FAKE)]\n",
    "\n",
    "@pytest.mark.parametrize(\"test_input, expected\", test)\n",
    "def requiments_less_than_10(test_input, expected):\n",
    "    input_df = pd.DataFrame({'requirements': [test_input]})\n",
    "    assert requiments_less_than_10(input_df.iloc[0]) == expected"
   ]
  },
  {
   "cell_type": "code",
   "execution_count": 156,
   "id": "099910bd",
   "metadata": {
    "ExecuteTime": {
     "end_time": "2022-01-27T19:53:03.630455Z",
     "start_time": "2022-01-27T19:53:03.447121Z"
    }
   },
   "outputs": [
    {
     "data": {
      "application/javascript": [
       "\n",
       "            setTimeout(function() {\n",
       "                var nbb_cell_id = 156;\n",
       "                var nbb_unformatted_code = \"%%ipytest -qq\\n\\ntest = [(\\\"Aker Solutions is a global provider of products\\\", FAKE)]\\n\\n@pytest.mark.parametrize(\\\"test_input, expected\\\", test)\\ndef test_suspicious_company(test_input, expected):\\n    input_df = pd.DataFrame({'company_profile': [test_input]})\\n    assert suspicious_company(input_df.iloc[0]) == expected\";\n",
       "                var nbb_formatted_code = \"%%ipytest -qq\\n\\ntest = [(\\\"Aker Solutions is a global provider of products\\\", FAKE)]\\n\\n@pytest.mark.parametrize(\\\"test_input, expected\\\", test)\\ndef test_suspicious_company(test_input, expected):\\n    input_df = pd.DataFrame({'company_profile': [test_input]})\\n    assert suspicious_company(input_df.iloc[0]) == expected\";\n",
       "                var nbb_cells = Jupyter.notebook.get_cells();\n",
       "                for (var i = 0; i < nbb_cells.length; ++i) {\n",
       "                    if (nbb_cells[i].input_prompt_number == nbb_cell_id) {\n",
       "                        if (nbb_cells[i].get_text() == nbb_unformatted_code) {\n",
       "                             nbb_cells[i].set_text(nbb_formatted_code);\n",
       "                        }\n",
       "                        break;\n",
       "                    }\n",
       "                }\n",
       "            }, 500);\n",
       "            "
      ],
      "text/plain": [
       "<IPython.core.display.Javascript object>"
      ]
     },
     "metadata": {},
     "output_type": "display_data"
    },
    {
     "name": "stdout",
     "output_type": "stream",
     "text": [
      "\u001b[32m.\u001b[0m\u001b[32m                                                                                            [100%]\u001b[0m\n"
     ]
    },
    {
     "data": {
      "application/javascript": [
       "\n",
       "            setTimeout(function() {\n",
       "                var nbb_cell_id = 156;\n",
       "                var nbb_unformatted_code = \"%%ipytest -qq\\n\\ntest = [(\\\"Aker Solutions is a global provider of products\\\", FAKE)]\\n\\n@pytest.mark.parametrize(\\\"test_input, expected\\\", test)\\ndef test_suspicious_company(test_input, expected):\\n    input_df = pd.DataFrame({'company_profile': [test_input]})\\n    assert suspicious_company(input_df.iloc[0]) == expected\";\n",
       "                var nbb_formatted_code = \"%%ipytest -qq\\n\\ntest = [(\\\"Aker Solutions is a global provider of products\\\", FAKE)]\\n\\n@pytest.mark.parametrize(\\\"test_input, expected\\\", test)\\ndef test_suspicious_company(test_input, expected):\\n    input_df = pd.DataFrame({'company_profile': [test_input]})\\n    assert suspicious_company(input_df.iloc[0]) == expected\";\n",
       "                var nbb_cells = Jupyter.notebook.get_cells();\n",
       "                for (var i = 0; i < nbb_cells.length; ++i) {\n",
       "                    if (nbb_cells[i].input_prompt_number == nbb_cell_id) {\n",
       "                        if (nbb_cells[i].get_text() == nbb_unformatted_code) {\n",
       "                             nbb_cells[i].set_text(nbb_formatted_code);\n",
       "                        }\n",
       "                        break;\n",
       "                    }\n",
       "                }\n",
       "            }, 500);\n",
       "            "
      ],
      "text/plain": [
       "<IPython.core.display.Javascript object>"
      ]
     },
     "metadata": {},
     "output_type": "display_data"
    }
   ],
   "source": [
    "%%ipytest -qq\n",
    "\n",
    "test = [(\"Aker Solutions is a global provider of products\", FAKE)]\n",
    "\n",
    "@pytest.mark.parametrize(\"test_input, expected\", test)\n",
    "def test_suspicious_company(test_input, expected):\n",
    "    input_df = pd.DataFrame({'company_profile': [test_input]})\n",
    "    assert suspicious_company(input_df.iloc[0]) == expected"
   ]
  },
  {
   "cell_type": "code",
   "execution_count": 39,
   "id": "f2f2fa1d",
   "metadata": {
    "ExecuteTime": {
     "end_time": "2022-01-27T17:06:35.471547Z",
     "start_time": "2022-01-27T17:06:35.217774Z"
    }
   },
   "outputs": [
    {
     "data": {
      "application/javascript": [
       "\n",
       "            setTimeout(function() {\n",
       "                var nbb_cell_id = 39;\n",
       "                var nbb_unformatted_code = \"%%ipytest -qq\\n\\ntest = [(0, FAKE), (1, ABSTAIN)]\\n\\n@pytest.mark.parametrize(\\\"test_input, expected\\\", test)\\ndef no_company_logo(test_input, expected):\\n    input_df = pd.DataFrame({'has_company_logo': [test_input]})\\n    assert no_company_logo(input_df.iloc[0]) == expected\";\n",
       "                var nbb_formatted_code = \"%%ipytest -qq\\n\\ntest = [(0, FAKE), (1, ABSTAIN)]\\n\\n@pytest.mark.parametrize(\\\"test_input, expected\\\", test)\\ndef no_company_logo(test_input, expected):\\n    input_df = pd.DataFrame({'has_company_logo': [test_input]})\\n    assert no_company_logo(input_df.iloc[0]) == expected\";\n",
       "                var nbb_cells = Jupyter.notebook.get_cells();\n",
       "                for (var i = 0; i < nbb_cells.length; ++i) {\n",
       "                    if (nbb_cells[i].input_prompt_number == nbb_cell_id) {\n",
       "                        if (nbb_cells[i].get_text() == nbb_unformatted_code) {\n",
       "                             nbb_cells[i].set_text(nbb_formatted_code);\n",
       "                        }\n",
       "                        break;\n",
       "                    }\n",
       "                }\n",
       "            }, 500);\n",
       "            "
      ],
      "text/plain": [
       "<IPython.core.display.Javascript object>"
      ]
     },
     "metadata": {},
     "output_type": "display_data"
    },
    {
     "name": "stdout",
     "output_type": "stream",
     "text": [
      "\n"
     ]
    },
    {
     "data": {
      "application/javascript": [
       "\n",
       "            setTimeout(function() {\n",
       "                var nbb_cell_id = 39;\n",
       "                var nbb_unformatted_code = \"%%ipytest -qq\\n\\ntest = [(0, FAKE), (1, ABSTAIN)]\\n\\n@pytest.mark.parametrize(\\\"test_input, expected\\\", test)\\ndef no_company_logo(test_input, expected):\\n    input_df = pd.DataFrame({'has_company_logo': [test_input]})\\n    assert no_company_logo(input_df.iloc[0]) == expected\";\n",
       "                var nbb_formatted_code = \"%%ipytest -qq\\n\\ntest = [(0, FAKE), (1, ABSTAIN)]\\n\\n@pytest.mark.parametrize(\\\"test_input, expected\\\", test)\\ndef no_company_logo(test_input, expected):\\n    input_df = pd.DataFrame({'has_company_logo': [test_input]})\\n    assert no_company_logo(input_df.iloc[0]) == expected\";\n",
       "                var nbb_cells = Jupyter.notebook.get_cells();\n",
       "                for (var i = 0; i < nbb_cells.length; ++i) {\n",
       "                    if (nbb_cells[i].input_prompt_number == nbb_cell_id) {\n",
       "                        if (nbb_cells[i].get_text() == nbb_unformatted_code) {\n",
       "                             nbb_cells[i].set_text(nbb_formatted_code);\n",
       "                        }\n",
       "                        break;\n",
       "                    }\n",
       "                }\n",
       "            }, 500);\n",
       "            "
      ],
      "text/plain": [
       "<IPython.core.display.Javascript object>"
      ]
     },
     "metadata": {},
     "output_type": "display_data"
    }
   ],
   "source": [
    "%%ipytest -qq\n",
    "\n",
    "test = [(0, FAKE), (1, ABSTAIN)]\n",
    "\n",
    "@pytest.mark.parametrize(\"test_input, expected\", test)\n",
    "def no_company_logo(test_input, expected):\n",
    "    input_df = pd.DataFrame({'has_company_logo': [test_input]})\n",
    "    assert no_company_logo(input_df.iloc[0]) == expected"
   ]
  },
  {
   "cell_type": "code",
   "execution_count": 129,
   "id": "00535780",
   "metadata": {
    "ExecuteTime": {
     "end_time": "2022-01-27T19:47:26.150069Z",
     "start_time": "2022-01-27T19:47:25.115630Z"
    }
   },
   "outputs": [
    {
     "name": "stderr",
     "output_type": "stream",
     "text": [
      "100%|█████████████████████████████████████████████████████████████████████████████████████████████████████████████████| 13410/13410 [00:01<00:00, 13292.66it/s]\n"
     ]
    },
    {
     "data": {
      "application/javascript": [
       "\n",
       "            setTimeout(function() {\n",
       "                var nbb_cell_id = 129;\n",
       "                var nbb_unformatted_code = \"lfs = [\\n    requiments_less_than_10,\\n    requiments_less_than_20,\\n    no_requirements,\\n    no_company_profile,\\n    suspicious_company,\\n    no_company_logo,\\n    has_background_check,\\n]\\n\\napplier = PandasLFApplier(lfs=lfs)\\nL_train = applier.apply(df=train_df)\";\n",
       "                var nbb_formatted_code = \"lfs = [\\n    requiments_less_than_10,\\n    requiments_less_than_20,\\n    no_requirements,\\n    no_company_profile,\\n    suspicious_company,\\n    no_company_logo,\\n    has_background_check,\\n]\\n\\napplier = PandasLFApplier(lfs=lfs)\\nL_train = applier.apply(df=train_df)\";\n",
       "                var nbb_cells = Jupyter.notebook.get_cells();\n",
       "                for (var i = 0; i < nbb_cells.length; ++i) {\n",
       "                    if (nbb_cells[i].input_prompt_number == nbb_cell_id) {\n",
       "                        if (nbb_cells[i].get_text() == nbb_unformatted_code) {\n",
       "                             nbb_cells[i].set_text(nbb_formatted_code);\n",
       "                        }\n",
       "                        break;\n",
       "                    }\n",
       "                }\n",
       "            }, 500);\n",
       "            "
      ],
      "text/plain": [
       "<IPython.core.display.Javascript object>"
      ]
     },
     "metadata": {},
     "output_type": "display_data"
    }
   ],
   "source": [
    "lfs = [\n",
    "    requiments_less_than_10,\n",
    "    requiments_less_than_20,\n",
    "    no_requirements,\n",
    "    no_company_profile,\n",
    "    suspicious_company,\n",
    "    no_company_logo,\n",
    "    has_background_check,\n",
    "]\n",
    "\n",
    "applier = PandasLFApplier(lfs=lfs)\n",
    "L_train = applier.apply(df=train_df)"
   ]
  },
  {
   "cell_type": "code",
   "execution_count": 109,
   "id": "8a33125f",
   "metadata": {
    "ExecuteTime": {
     "end_time": "2022-01-27T19:40:09.670840Z",
     "start_time": "2022-01-27T19:40:09.501347Z"
    }
   },
   "outputs": [
    {
     "name": "stderr",
     "output_type": "stream",
     "text": [
      "/home/khuyen/Data-science/venv/lib/python3.8/site-packages/sklearn/utils/validation.py:70: FutureWarning: Pass labels=[-1  0  1] as keyword args. From version 1.0 (renaming of 0.25) passing these as positional arguments will result in an error\n",
      "  warnings.warn(f\"Pass {args_msg} as keyword args. From version \"\n",
      "/home/khuyen/Data-science/venv/lib/python3.8/site-packages/sklearn/utils/validation.py:70: FutureWarning: Pass labels=[-1  0  1] as keyword args. From version 1.0 (renaming of 0.25) passing these as positional arguments will result in an error\n",
      "  warnings.warn(f\"Pass {args_msg} as keyword args. From version \"\n",
      "/home/khuyen/Data-science/venv/lib/python3.8/site-packages/sklearn/utils/validation.py:70: FutureWarning: Pass labels=[-1  0  1] as keyword args. From version 1.0 (renaming of 0.25) passing these as positional arguments will result in an error\n",
      "  warnings.warn(f\"Pass {args_msg} as keyword args. From version \"\n",
      "/home/khuyen/Data-science/venv/lib/python3.8/site-packages/sklearn/utils/validation.py:70: FutureWarning: Pass labels=[-1  0  1] as keyword args. From version 1.0 (renaming of 0.25) passing these as positional arguments will result in an error\n",
      "  warnings.warn(f\"Pass {args_msg} as keyword args. From version \"\n",
      "/home/khuyen/Data-science/venv/lib/python3.8/site-packages/sklearn/utils/validation.py:70: FutureWarning: Pass labels=[-1  0  1] as keyword args. From version 1.0 (renaming of 0.25) passing these as positional arguments will result in an error\n",
      "  warnings.warn(f\"Pass {args_msg} as keyword args. From version \"\n",
      "/home/khuyen/Data-science/venv/lib/python3.8/site-packages/sklearn/utils/validation.py:70: FutureWarning: Pass labels=[-1  0  1] as keyword args. From version 1.0 (renaming of 0.25) passing these as positional arguments will result in an error\n",
      "  warnings.warn(f\"Pass {args_msg} as keyword args. From version \"\n",
      "/home/khuyen/Data-science/venv/lib/python3.8/site-packages/sklearn/utils/validation.py:70: FutureWarning: Pass labels=[-1  0  1] as keyword args. From version 1.0 (renaming of 0.25) passing these as positional arguments will result in an error\n",
      "  warnings.warn(f\"Pass {args_msg} as keyword args. From version \"\n"
     ]
    },
    {
     "data": {
      "text/html": [
       "<div>\n",
       "<style scoped>\n",
       "    .dataframe tbody tr th:only-of-type {\n",
       "        vertical-align: middle;\n",
       "    }\n",
       "\n",
       "    .dataframe tbody tr th {\n",
       "        vertical-align: top;\n",
       "    }\n",
       "\n",
       "    .dataframe thead th {\n",
       "        text-align: right;\n",
       "    }\n",
       "</style>\n",
       "<table border=\"1\" class=\"dataframe\">\n",
       "  <thead>\n",
       "    <tr style=\"text-align: right;\">\n",
       "      <th></th>\n",
       "      <th>j</th>\n",
       "      <th>Polarity</th>\n",
       "      <th>Coverage</th>\n",
       "      <th>Overlaps</th>\n",
       "      <th>Conflicts</th>\n",
       "      <th>Correct</th>\n",
       "      <th>Incorrect</th>\n",
       "      <th>Emp. Acc.</th>\n",
       "    </tr>\n",
       "  </thead>\n",
       "  <tbody>\n",
       "    <tr>\n",
       "      <th>requiments_less_than_10</th>\n",
       "      <td>0</td>\n",
       "      <td>[1]</td>\n",
       "      <td>0.173304</td>\n",
       "      <td>0.173304</td>\n",
       "      <td>0.0</td>\n",
       "      <td>164</td>\n",
       "      <td>2160</td>\n",
       "      <td>0.070568</td>\n",
       "    </tr>\n",
       "    <tr>\n",
       "      <th>requiments_less_than_20</th>\n",
       "      <td>1</td>\n",
       "      <td>[1]</td>\n",
       "      <td>0.211186</td>\n",
       "      <td>0.184042</td>\n",
       "      <td>0.0</td>\n",
       "      <td>213</td>\n",
       "      <td>2619</td>\n",
       "      <td>0.075212</td>\n",
       "    </tr>\n",
       "    <tr>\n",
       "      <th>no_requirements</th>\n",
       "      <td>2</td>\n",
       "      <td>[1]</td>\n",
       "      <td>0.150708</td>\n",
       "      <td>0.150708</td>\n",
       "      <td>0.0</td>\n",
       "      <td>115</td>\n",
       "      <td>1906</td>\n",
       "      <td>0.056903</td>\n",
       "    </tr>\n",
       "    <tr>\n",
       "      <th>no_company_profile</th>\n",
       "      <td>3</td>\n",
       "      <td>[1]</td>\n",
       "      <td>0.186204</td>\n",
       "      <td>0.155481</td>\n",
       "      <td>0.0</td>\n",
       "      <td>459</td>\n",
       "      <td>2038</td>\n",
       "      <td>0.183821</td>\n",
       "    </tr>\n",
       "    <tr>\n",
       "      <th>suspicious_company</th>\n",
       "      <td>4</td>\n",
       "      <td>[]</td>\n",
       "      <td>0.000000</td>\n",
       "      <td>0.000000</td>\n",
       "      <td>0.0</td>\n",
       "      <td>0</td>\n",
       "      <td>0</td>\n",
       "      <td>0.000000</td>\n",
       "    </tr>\n",
       "    <tr>\n",
       "      <th>no_company_logo</th>\n",
       "      <td>5</td>\n",
       "      <td>[1]</td>\n",
       "      <td>0.205742</td>\n",
       "      <td>0.181432</td>\n",
       "      <td>0.0</td>\n",
       "      <td>459</td>\n",
       "      <td>2300</td>\n",
       "      <td>0.166365</td>\n",
       "    </tr>\n",
       "    <tr>\n",
       "      <th>has_phone</th>\n",
       "      <td>6</td>\n",
       "      <td>[1]</td>\n",
       "      <td>0.001715</td>\n",
       "      <td>0.000447</td>\n",
       "      <td>0.0</td>\n",
       "      <td>0</td>\n",
       "      <td>23</td>\n",
       "      <td>0.000000</td>\n",
       "    </tr>\n",
       "  </tbody>\n",
       "</table>\n",
       "</div>"
      ],
      "text/plain": [
       "                         j Polarity  Coverage  Overlaps  Conflicts  Correct  \\\n",
       "requiments_less_than_10  0      [1]  0.173304  0.173304        0.0      164   \n",
       "requiments_less_than_20  1      [1]  0.211186  0.184042        0.0      213   \n",
       "no_requirements          2      [1]  0.150708  0.150708        0.0      115   \n",
       "no_company_profile       3      [1]  0.186204  0.155481        0.0      459   \n",
       "suspicious_company       4       []  0.000000  0.000000        0.0        0   \n",
       "no_company_logo          5      [1]  0.205742  0.181432        0.0      459   \n",
       "has_phone                6      [1]  0.001715  0.000447        0.0        0   \n",
       "\n",
       "                         Incorrect  Emp. Acc.  \n",
       "requiments_less_than_10       2160   0.070568  \n",
       "requiments_less_than_20       2619   0.075212  \n",
       "no_requirements               1906   0.056903  \n",
       "no_company_profile            2038   0.183821  \n",
       "suspicious_company               0   0.000000  \n",
       "no_company_logo               2300   0.166365  \n",
       "has_phone                       23   0.000000  "
      ]
     },
     "execution_count": 109,
     "metadata": {},
     "output_type": "execute_result"
    },
    {
     "data": {
      "application/javascript": [
       "\n",
       "            setTimeout(function() {\n",
       "                var nbb_cell_id = 109;\n",
       "                var nbb_unformatted_code = \"LFAnalysis(L=L_train, lfs=lfs).lf_summary(train_df.fraudulent.values)\";\n",
       "                var nbb_formatted_code = \"LFAnalysis(L=L_train, lfs=lfs).lf_summary(train_df.fraudulent.values)\";\n",
       "                var nbb_cells = Jupyter.notebook.get_cells();\n",
       "                for (var i = 0; i < nbb_cells.length; ++i) {\n",
       "                    if (nbb_cells[i].input_prompt_number == nbb_cell_id) {\n",
       "                        if (nbb_cells[i].get_text() == nbb_unformatted_code) {\n",
       "                             nbb_cells[i].set_text(nbb_formatted_code);\n",
       "                        }\n",
       "                        break;\n",
       "                    }\n",
       "                }\n",
       "            }, 500);\n",
       "            "
      ],
      "text/plain": [
       "<IPython.core.display.Javascript object>"
      ]
     },
     "metadata": {},
     "output_type": "display_data"
    }
   ],
   "source": [
    "LFAnalysis(L=L_train, lfs=lfs).lf_summary(train_df.fraudulent.values)"
   ]
  },
  {
   "cell_type": "code",
   "execution_count": 264,
   "id": "84fbfc7b",
   "metadata": {
    "ExecuteTime": {
     "end_time": "2022-01-27T21:25:31.757136Z",
     "start_time": "2022-01-27T21:25:30.903483Z"
    }
   },
   "outputs": [
    {
     "name": "stderr",
     "output_type": "stream",
     "text": [
      "100%|█████████████████████████████████████████████████████████████████████████████████████████████████████████████████| 13410/13410 [00:00<00:00, 16221.05it/s]\n"
     ]
    },
    {
     "data": {
      "application/javascript": [
       "\n",
       "            setTimeout(function() {\n",
       "                var nbb_cell_id = 264;\n",
       "                var nbb_unformatted_code = \"lfs = [\\n    #     requiments_less_than_20,\\n    no_company_profile,\\n    suspicious_company,\\n    no_company_logo,\\n    has_background_check,\\n    required_experience,\\n    required_education\\n]\\n\\napplier = PandasLFApplier(lfs=lfs)\\nL_train = applier.apply(df=train_df)\";\n",
       "                var nbb_formatted_code = \"lfs = [\\n    #     requiments_less_than_20,\\n    no_company_profile,\\n    suspicious_company,\\n    no_company_logo,\\n    has_background_check,\\n    required_experience,\\n    required_education,\\n]\\n\\napplier = PandasLFApplier(lfs=lfs)\\nL_train = applier.apply(df=train_df)\";\n",
       "                var nbb_cells = Jupyter.notebook.get_cells();\n",
       "                for (var i = 0; i < nbb_cells.length; ++i) {\n",
       "                    if (nbb_cells[i].input_prompt_number == nbb_cell_id) {\n",
       "                        if (nbb_cells[i].get_text() == nbb_unformatted_code) {\n",
       "                             nbb_cells[i].set_text(nbb_formatted_code);\n",
       "                        }\n",
       "                        break;\n",
       "                    }\n",
       "                }\n",
       "            }, 500);\n",
       "            "
      ],
      "text/plain": [
       "<IPython.core.display.Javascript object>"
      ]
     },
     "metadata": {},
     "output_type": "display_data"
    }
   ],
   "source": [
    "lfs = [\n",
    "    #     requiments_less_than_20,\n",
    "    no_company_profile,\n",
    "    suspicious_company,\n",
    "    no_company_logo,\n",
    "    has_background_check,\n",
    "    required_experience,\n",
    "    required_education,\n",
    "]\n",
    "\n",
    "applier = PandasLFApplier(lfs=lfs)\n",
    "L_train = applier.apply(df=train_df)"
   ]
  },
  {
   "cell_type": "code",
   "execution_count": 265,
   "id": "77cef65f",
   "metadata": {
    "ExecuteTime": {
     "end_time": "2022-01-27T21:25:32.712091Z",
     "start_time": "2022-01-27T21:25:32.538482Z"
    }
   },
   "outputs": [
    {
     "name": "stderr",
     "output_type": "stream",
     "text": [
      "/home/khuyen/Data-science/venv/lib/python3.8/site-packages/sklearn/utils/validation.py:70: FutureWarning:\n",
      "\n",
      "Pass labels=[-1  0  1] as keyword args. From version 1.0 (renaming of 0.25) passing these as positional arguments will result in an error\n",
      "\n",
      "/home/khuyen/Data-science/venv/lib/python3.8/site-packages/sklearn/utils/validation.py:70: FutureWarning:\n",
      "\n",
      "Pass labels=[-1  0  1] as keyword args. From version 1.0 (renaming of 0.25) passing these as positional arguments will result in an error\n",
      "\n",
      "/home/khuyen/Data-science/venv/lib/python3.8/site-packages/sklearn/utils/validation.py:70: FutureWarning:\n",
      "\n",
      "Pass labels=[-1  0  1] as keyword args. From version 1.0 (renaming of 0.25) passing these as positional arguments will result in an error\n",
      "\n",
      "/home/khuyen/Data-science/venv/lib/python3.8/site-packages/sklearn/utils/validation.py:70: FutureWarning:\n",
      "\n",
      "Pass labels=[-1  0  1] as keyword args. From version 1.0 (renaming of 0.25) passing these as positional arguments will result in an error\n",
      "\n",
      "/home/khuyen/Data-science/venv/lib/python3.8/site-packages/sklearn/utils/validation.py:70: FutureWarning:\n",
      "\n",
      "Pass labels=[-1  0  1] as keyword args. From version 1.0 (renaming of 0.25) passing these as positional arguments will result in an error\n",
      "\n",
      "/home/khuyen/Data-science/venv/lib/python3.8/site-packages/sklearn/utils/validation.py:70: FutureWarning:\n",
      "\n",
      "Pass labels=[-1  0  1] as keyword args. From version 1.0 (renaming of 0.25) passing these as positional arguments will result in an error\n",
      "\n"
     ]
    },
    {
     "data": {
      "text/html": [
       "<div>\n",
       "<style scoped>\n",
       "    .dataframe tbody tr th:only-of-type {\n",
       "        vertical-align: middle;\n",
       "    }\n",
       "\n",
       "    .dataframe tbody tr th {\n",
       "        vertical-align: top;\n",
       "    }\n",
       "\n",
       "    .dataframe thead th {\n",
       "        text-align: right;\n",
       "    }\n",
       "</style>\n",
       "<table border=\"1\" class=\"dataframe\">\n",
       "  <thead>\n",
       "    <tr style=\"text-align: right;\">\n",
       "      <th></th>\n",
       "      <th>j</th>\n",
       "      <th>Polarity</th>\n",
       "      <th>Coverage</th>\n",
       "      <th>Overlaps</th>\n",
       "      <th>Conflicts</th>\n",
       "      <th>Correct</th>\n",
       "      <th>Incorrect</th>\n",
       "      <th>Emp. Acc.</th>\n",
       "    </tr>\n",
       "  </thead>\n",
       "  <tbody>\n",
       "    <tr>\n",
       "      <th>no_company_profile</th>\n",
       "      <td>0</td>\n",
       "      <td>[1]</td>\n",
       "      <td>0.186204</td>\n",
       "      <td>0.186204</td>\n",
       "      <td>0.186204</td>\n",
       "      <td>459</td>\n",
       "      <td>2038</td>\n",
       "      <td>0.183821</td>\n",
       "    </tr>\n",
       "    <tr>\n",
       "      <th>suspicious_company</th>\n",
       "      <td>1</td>\n",
       "      <td>[1]</td>\n",
       "      <td>0.006861</td>\n",
       "      <td>0.006861</td>\n",
       "      <td>0.006861</td>\n",
       "      <td>92</td>\n",
       "      <td>0</td>\n",
       "      <td>1.000000</td>\n",
       "    </tr>\n",
       "    <tr>\n",
       "      <th>no_company_logo</th>\n",
       "      <td>2</td>\n",
       "      <td>[1]</td>\n",
       "      <td>0.205742</td>\n",
       "      <td>0.205742</td>\n",
       "      <td>0.205742</td>\n",
       "      <td>459</td>\n",
       "      <td>2300</td>\n",
       "      <td>0.166365</td>\n",
       "    </tr>\n",
       "    <tr>\n",
       "      <th>has_background_check</th>\n",
       "      <td>3</td>\n",
       "      <td>[0]</td>\n",
       "      <td>0.035496</td>\n",
       "      <td>0.035496</td>\n",
       "      <td>0.002759</td>\n",
       "      <td>464</td>\n",
       "      <td>12</td>\n",
       "      <td>0.974790</td>\n",
       "    </tr>\n",
       "    <tr>\n",
       "      <th>required_experience</th>\n",
       "      <td>4</td>\n",
       "      <td>[0]</td>\n",
       "      <td>1.000000</td>\n",
       "      <td>1.000000</td>\n",
       "      <td>0.251156</td>\n",
       "      <td>12741</td>\n",
       "      <td>669</td>\n",
       "      <td>0.950112</td>\n",
       "    </tr>\n",
       "    <tr>\n",
       "      <th>required_education</th>\n",
       "      <td>5</td>\n",
       "      <td>[0]</td>\n",
       "      <td>1.000000</td>\n",
       "      <td>1.000000</td>\n",
       "      <td>0.251156</td>\n",
       "      <td>12741</td>\n",
       "      <td>669</td>\n",
       "      <td>0.950112</td>\n",
       "    </tr>\n",
       "  </tbody>\n",
       "</table>\n",
       "</div>"
      ],
      "text/plain": [
       "                      j Polarity  Coverage  Overlaps  Conflicts  Correct  \\\n",
       "no_company_profile    0      [1]  0.186204  0.186204   0.186204      459   \n",
       "suspicious_company    1      [1]  0.006861  0.006861   0.006861       92   \n",
       "no_company_logo       2      [1]  0.205742  0.205742   0.205742      459   \n",
       "has_background_check  3      [0]  0.035496  0.035496   0.002759      464   \n",
       "required_experience   4      [0]  1.000000  1.000000   0.251156    12741   \n",
       "required_education    5      [0]  1.000000  1.000000   0.251156    12741   \n",
       "\n",
       "                      Incorrect  Emp. Acc.  \n",
       "no_company_profile         2038   0.183821  \n",
       "suspicious_company            0   1.000000  \n",
       "no_company_logo            2300   0.166365  \n",
       "has_background_check         12   0.974790  \n",
       "required_experience         669   0.950112  \n",
       "required_education          669   0.950112  "
      ]
     },
     "execution_count": 265,
     "metadata": {},
     "output_type": "execute_result"
    },
    {
     "data": {
      "application/javascript": [
       "\n",
       "            setTimeout(function() {\n",
       "                var nbb_cell_id = 265;\n",
       "                var nbb_unformatted_code = \"LFAnalysis(L=L_train, lfs=lfs).lf_summary(train_df.fraudulent.values)\";\n",
       "                var nbb_formatted_code = \"LFAnalysis(L=L_train, lfs=lfs).lf_summary(train_df.fraudulent.values)\";\n",
       "                var nbb_cells = Jupyter.notebook.get_cells();\n",
       "                for (var i = 0; i < nbb_cells.length; ++i) {\n",
       "                    if (nbb_cells[i].input_prompt_number == nbb_cell_id) {\n",
       "                        if (nbb_cells[i].get_text() == nbb_unformatted_code) {\n",
       "                             nbb_cells[i].set_text(nbb_formatted_code);\n",
       "                        }\n",
       "                        break;\n",
       "                    }\n",
       "                }\n",
       "            }, 500);\n",
       "            "
      ],
      "text/plain": [
       "<IPython.core.display.Javascript object>"
      ]
     },
     "metadata": {},
     "output_type": "display_data"
    }
   ],
   "source": [
    "LFAnalysis(L=L_train, lfs=lfs).lf_summary(train_df.fraudulent.values)"
   ]
  },
  {
   "cell_type": "code",
   "execution_count": 266,
   "id": "e0a76c03",
   "metadata": {
    "ExecuteTime": {
     "end_time": "2022-01-27T21:25:59.286234Z",
     "start_time": "2022-01-27T21:25:58.975895Z"
    }
   },
   "outputs": [
    {
     "data": {
      "application/javascript": [
       "\n",
       "            setTimeout(function() {\n",
       "                var nbb_cell_id = 266;\n",
       "                var nbb_unformatted_code = \"from snorkel.labeling.model import MajorityLabelVoter\\n\\nmajority_model = MajorityLabelVoter()\\npreds_train = majority_model.predict(L=L_train)\";\n",
       "                var nbb_formatted_code = \"from snorkel.labeling.model import MajorityLabelVoter\\n\\nmajority_model = MajorityLabelVoter()\\npreds_train = majority_model.predict(L=L_train)\";\n",
       "                var nbb_cells = Jupyter.notebook.get_cells();\n",
       "                for (var i = 0; i < nbb_cells.length; ++i) {\n",
       "                    if (nbb_cells[i].input_prompt_number == nbb_cell_id) {\n",
       "                        if (nbb_cells[i].get_text() == nbb_unformatted_code) {\n",
       "                             nbb_cells[i].set_text(nbb_formatted_code);\n",
       "                        }\n",
       "                        break;\n",
       "                    }\n",
       "                }\n",
       "            }, 500);\n",
       "            "
      ],
      "text/plain": [
       "<IPython.core.display.Javascript object>"
      ]
     },
     "metadata": {},
     "output_type": "display_data"
    }
   ],
   "source": [
    "from snorkel.labeling.model import MajorityLabelVoter\n",
    "\n",
    "majority_model = MajorityLabelVoter()\n",
    "preds_train = majority_model.predict(L=L_train)"
   ]
  },
  {
   "cell_type": "code",
   "execution_count": 267,
   "id": "2878b33b",
   "metadata": {
    "ExecuteTime": {
     "end_time": "2022-01-27T21:26:00.220424Z",
     "start_time": "2022-01-27T21:25:59.940742Z"
    }
   },
   "outputs": [
    {
     "name": "stderr",
     "output_type": "stream",
     "text": [
      "2022-01-27 15:25:59,948 - INFO     - Computing O...\n",
      "2022-01-27 15:25:59,951 - INFO     - Estimating \\mu...\n",
      "  0%|                                                                                                                               | 0/500 [00:00<?, ?epoch/s]2022-01-27 15:25:59,954 - INFO     - [0 epochs]: TRAIN:[loss=2.362]\n",
      "2022-01-27 15:26:00,017 - INFO     - [100 epochs]: TRAIN:[loss=0.020]\n",
      " 32%|█████████████████████████████████████▎                                                                             | 162/500 [00:00<00:00, 1611.34epoch/s]2022-01-27 15:26:00,077 - INFO     - [200 epochs]: TRAIN:[loss=0.006]\n",
      "2022-01-27 15:26:00,123 - INFO     - [300 epochs]: TRAIN:[loss=0.002]\n",
      " 73%|████████████████████████████████████████████████████████████████████████████████████▍                              | 367/500 [00:00<00:00, 1865.50epoch/s]2022-01-27 15:26:00,170 - INFO     - [400 epochs]: TRAIN:[loss=0.000]\n",
      "100%|███████████████████████████████████████████████████████████████████████████████████████████████████████████████████| 500/500 [00:00<00:00, 1907.56epoch/s]\n",
      "2022-01-27 15:26:00,216 - INFO     - Finished Training\n"
     ]
    },
    {
     "data": {
      "application/javascript": [
       "\n",
       "            setTimeout(function() {\n",
       "                var nbb_cell_id = 267;\n",
       "                var nbb_unformatted_code = \"from snorkel.labeling.model import LabelModel\\n\\nlabel_model = LabelModel(cardinality=2, verbose=True)\\nlabel_model.fit(L_train=L_train, n_epochs=500, log_freq=100, seed=123)\";\n",
       "                var nbb_formatted_code = \"from snorkel.labeling.model import LabelModel\\n\\nlabel_model = LabelModel(cardinality=2, verbose=True)\\nlabel_model.fit(L_train=L_train, n_epochs=500, log_freq=100, seed=123)\";\n",
       "                var nbb_cells = Jupyter.notebook.get_cells();\n",
       "                for (var i = 0; i < nbb_cells.length; ++i) {\n",
       "                    if (nbb_cells[i].input_prompt_number == nbb_cell_id) {\n",
       "                        if (nbb_cells[i].get_text() == nbb_unformatted_code) {\n",
       "                             nbb_cells[i].set_text(nbb_formatted_code);\n",
       "                        }\n",
       "                        break;\n",
       "                    }\n",
       "                }\n",
       "            }, 500);\n",
       "            "
      ],
      "text/plain": [
       "<IPython.core.display.Javascript object>"
      ]
     },
     "metadata": {},
     "output_type": "display_data"
    }
   ],
   "source": [
    "from snorkel.labeling.model import LabelModel\n",
    "\n",
    "label_model = LabelModel(cardinality=2, verbose=True)\n",
    "label_model.fit(L_train=L_train, n_epochs=500, log_freq=100, seed=123)\n"
   ]
  },
  {
   "cell_type": "code",
   "execution_count": 268,
   "id": "e620fa49",
   "metadata": {
    "ExecuteTime": {
     "end_time": "2022-01-27T21:26:01.837647Z",
     "start_time": "2022-01-27T21:26:01.441702Z"
    }
   },
   "outputs": [
    {
     "name": "stderr",
     "output_type": "stream",
     "text": [
      "100%|███████████████████████████████████████████████████████████████████████████████████████████████████████████████████| 4470/4470 [00:00<00:00, 11621.94it/s]\n"
     ]
    },
    {
     "data": {
      "application/javascript": [
       "\n",
       "            setTimeout(function() {\n",
       "                var nbb_cell_id = 268;\n",
       "                var nbb_unformatted_code = \"L_test = applier.apply(df=test_df)\";\n",
       "                var nbb_formatted_code = \"L_test = applier.apply(df=test_df)\";\n",
       "                var nbb_cells = Jupyter.notebook.get_cells();\n",
       "                for (var i = 0; i < nbb_cells.length; ++i) {\n",
       "                    if (nbb_cells[i].input_prompt_number == nbb_cell_id) {\n",
       "                        if (nbb_cells[i].get_text() == nbb_unformatted_code) {\n",
       "                             nbb_cells[i].set_text(nbb_formatted_code);\n",
       "                        }\n",
       "                        break;\n",
       "                    }\n",
       "                }\n",
       "            }, 500);\n",
       "            "
      ],
      "text/plain": [
       "<IPython.core.display.Javascript object>"
      ]
     },
     "metadata": {},
     "output_type": "display_data"
    }
   ],
   "source": [
    "L_test = applier.apply(df=test_df)"
   ]
  },
  {
   "cell_type": "code",
   "execution_count": 269,
   "id": "47337f19",
   "metadata": {
    "ExecuteTime": {
     "end_time": "2022-01-27T21:26:01.989299Z",
     "start_time": "2022-01-27T21:26:01.970400Z"
    }
   },
   "outputs": [
    {
     "data": {
      "application/javascript": [
       "\n",
       "            setTimeout(function() {\n",
       "                var nbb_cell_id = 269;\n",
       "                var nbb_unformatted_code = \"Y_train = train_df[\\\"fraudulent\\\"]\\nY_test = test_df[\\\"fraudulent\\\"]\";\n",
       "                var nbb_formatted_code = \"Y_train = train_df[\\\"fraudulent\\\"]\\nY_test = test_df[\\\"fraudulent\\\"]\";\n",
       "                var nbb_cells = Jupyter.notebook.get_cells();\n",
       "                for (var i = 0; i < nbb_cells.length; ++i) {\n",
       "                    if (nbb_cells[i].input_prompt_number == nbb_cell_id) {\n",
       "                        if (nbb_cells[i].get_text() == nbb_unformatted_code) {\n",
       "                             nbb_cells[i].set_text(nbb_formatted_code);\n",
       "                        }\n",
       "                        break;\n",
       "                    }\n",
       "                }\n",
       "            }, 500);\n",
       "            "
      ],
      "text/plain": [
       "<IPython.core.display.Javascript object>"
      ]
     },
     "metadata": {},
     "output_type": "display_data"
    }
   ],
   "source": [
    "Y_train = train_df[\"fraudulent\"]\n",
    "Y_test = test_df[\"fraudulent\"]"
   ]
  },
  {
   "cell_type": "code",
   "execution_count": 270,
   "id": "36b5ece3",
   "metadata": {
    "ExecuteTime": {
     "end_time": "2022-01-27T21:26:02.739148Z",
     "start_time": "2022-01-27T21:26:02.559697Z"
    }
   },
   "outputs": [
    {
     "name": "stdout",
     "output_type": "stream",
     "text": [
      "Majority Vote Accuracy:   91.1%\n"
     ]
    },
    {
     "data": {
      "application/javascript": [
       "\n",
       "            setTimeout(function() {\n",
       "                var nbb_cell_id = 270;\n",
       "                var nbb_unformatted_code = \"majority_acc = majority_model.score(L=L_test, Y=Y_test, tie_break_policy=\\\"random\\\")[\\n    \\\"accuracy\\\"\\n]\\nprint(f\\\"{'Majority Vote Accuracy:':<25} {majority_acc * 100:.1f}%\\\")\";\n",
       "                var nbb_formatted_code = \"majority_acc = majority_model.score(L=L_test, Y=Y_test, tie_break_policy=\\\"random\\\")[\\n    \\\"accuracy\\\"\\n]\\nprint(f\\\"{'Majority Vote Accuracy:':<25} {majority_acc * 100:.1f}%\\\")\";\n",
       "                var nbb_cells = Jupyter.notebook.get_cells();\n",
       "                for (var i = 0; i < nbb_cells.length; ++i) {\n",
       "                    if (nbb_cells[i].input_prompt_number == nbb_cell_id) {\n",
       "                        if (nbb_cells[i].get_text() == nbb_unformatted_code) {\n",
       "                             nbb_cells[i].set_text(nbb_formatted_code);\n",
       "                        }\n",
       "                        break;\n",
       "                    }\n",
       "                }\n",
       "            }, 500);\n",
       "            "
      ],
      "text/plain": [
       "<IPython.core.display.Javascript object>"
      ]
     },
     "metadata": {},
     "output_type": "display_data"
    }
   ],
   "source": [
    "majority_acc = majority_model.score(L=L_test, Y=Y_test, tie_break_policy=\"random\")[\n",
    "    \"accuracy\"\n",
    "]\n",
    "print(f\"{'Majority Vote Accuracy:':<25} {majority_acc * 100:.1f}%\")"
   ]
  },
  {
   "cell_type": "code",
   "execution_count": 271,
   "id": "42dbb8c6",
   "metadata": {
    "ExecuteTime": {
     "end_time": "2022-01-27T21:26:03.840928Z",
     "start_time": "2022-01-27T21:26:03.791933Z"
    }
   },
   "outputs": [
    {
     "name": "stdout",
     "output_type": "stream",
     "text": [
      "Label Model Accuracy:     77.4%\n"
     ]
    },
    {
     "data": {
      "application/javascript": [
       "\n",
       "            setTimeout(function() {\n",
       "                var nbb_cell_id = 271;\n",
       "                var nbb_unformatted_code = \"label_model_acc = label_model.score(L=L_test, Y=Y_test, tie_break_policy=\\\"random\\\")[\\n    \\\"accuracy\\\"\\n]\\nprint(f\\\"{'Label Model Accuracy:':<25} {label_model_acc * 100:.1f}%\\\")\";\n",
       "                var nbb_formatted_code = \"label_model_acc = label_model.score(L=L_test, Y=Y_test, tie_break_policy=\\\"random\\\")[\\n    \\\"accuracy\\\"\\n]\\nprint(f\\\"{'Label Model Accuracy:':<25} {label_model_acc * 100:.1f}%\\\")\";\n",
       "                var nbb_cells = Jupyter.notebook.get_cells();\n",
       "                for (var i = 0; i < nbb_cells.length; ++i) {\n",
       "                    if (nbb_cells[i].input_prompt_number == nbb_cell_id) {\n",
       "                        if (nbb_cells[i].get_text() == nbb_unformatted_code) {\n",
       "                             nbb_cells[i].set_text(nbb_formatted_code);\n",
       "                        }\n",
       "                        break;\n",
       "                    }\n",
       "                }\n",
       "            }, 500);\n",
       "            "
      ],
      "text/plain": [
       "<IPython.core.display.Javascript object>"
      ]
     },
     "metadata": {},
     "output_type": "display_data"
    }
   ],
   "source": [
    "label_model_acc = label_model.score(L=L_test, Y=Y_test, tie_break_policy=\"random\")[\n",
    "    \"accuracy\"\n",
    "]\n",
    "print(f\"{'Label Model Accuracy:':<25} {label_model_acc * 100:.1f}%\")"
   ]
  },
  {
   "cell_type": "code",
   "execution_count": 291,
   "id": "5a00b200",
   "metadata": {
    "ExecuteTime": {
     "end_time": "2022-01-27T21:34:03.700224Z",
     "start_time": "2022-01-27T21:34:03.629597Z"
    }
   },
   "outputs": [
    {
     "data": {
      "application/javascript": [
       "\n",
       "            setTimeout(function() {\n",
       "                var nbb_cell_id = 291;\n",
       "                var nbb_unformatted_code = \"predictions = majority_model.predict(L_test)\";\n",
       "                var nbb_formatted_code = \"predictions = majority_model.predict(L_test)\";\n",
       "                var nbb_cells = Jupyter.notebook.get_cells();\n",
       "                for (var i = 0; i < nbb_cells.length; ++i) {\n",
       "                    if (nbb_cells[i].input_prompt_number == nbb_cell_id) {\n",
       "                        if (nbb_cells[i].get_text() == nbb_unformatted_code) {\n",
       "                             nbb_cells[i].set_text(nbb_formatted_code);\n",
       "                        }\n",
       "                        break;\n",
       "                    }\n",
       "                }\n",
       "            }, 500);\n",
       "            "
      ],
      "text/plain": [
       "<IPython.core.display.Javascript object>"
      ]
     },
     "metadata": {},
     "output_type": "display_data"
    }
   ],
   "source": [
    "predictions = majority_model.predict(L_test)"
   ]
  }
 ],
 "metadata": {
  "kernelspec": {
   "display_name": "Python 3 (ipykernel)",
   "language": "python",
   "name": "python3"
  },
  "language_info": {
   "codemirror_mode": {
    "name": "ipython",
    "version": 3
   },
   "file_extension": ".py",
   "mimetype": "text/x-python",
   "name": "python",
   "nbconvert_exporter": "python",
   "pygments_lexer": "ipython3",
   "version": "3.8.10"
  },
  "toc": {
   "base_numbering": 1,
   "nav_menu": {},
   "number_sections": true,
   "sideBar": true,
   "skip_h1_title": false,
   "title_cell": "Table of Contents",
   "title_sidebar": "Contents",
   "toc_cell": false,
   "toc_position": {},
   "toc_section_display": true,
   "toc_window_display": false
  }
 },
 "nbformat": 4,
 "nbformat_minor": 5
}
